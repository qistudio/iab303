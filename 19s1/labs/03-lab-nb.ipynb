{
 "cells": [
  {
   "cell_type": "markdown",
   "metadata": {},
   "source": [
    "<div class=\"alert alert-block alert-info\"><b>IAB303</b> - Data Analytics for Business Insight</div>"
   ]
  },
  {
   "cell_type": "markdown",
   "metadata": {},
   "source": [
    "## PRACTICAL :: Open data for business environment assessment\n",
    "\n",
    "1. Basics\n",
    "2. Connect to API\n",
    "3. Experiment with JSON from APIs"
   ]
  },
  {
   "cell_type": "markdown",
   "metadata": {},
   "source": [
    "---\n",
    "### [1] Basics\n",
    "\n",
    "* JSON objects loaded as python Dicts\n",
    "* JSON arrays loaded as python Lists"
   ]
  },
  {
   "cell_type": "markdown",
   "metadata": {},
   "source": [
    "---\n",
    "#### JSON objects"
   ]
  },
  {
   "cell_type": "code",
   "execution_count": null,
   "metadata": {},
   "outputs": [],
   "source": [
    "# import the python json library\n",
    "import json\n",
    "\n",
    "#  a simple json object\n",
    "simpleJsonObj = '{ \"lastname\": ???,\"firstname\": ???}'\n",
    "print(\"The type of simpleJsonObj:\",type(???))\n",
    "\n",
    "# load the json object\n",
    "loadedObj = json.loads(???)\n",
    "print(\"loadedObj looks like:\",???)\n",
    "print(\"The type of loadedObj:\",type(???))"
   ]
  },
  {
   "cell_type": "markdown",
   "metadata": {},
   "source": [
    "**DISCUSSION:** \n",
    "- What is a string?\n",
    "- What happened when we loaded the string with the function `json.loads()`?\n",
    "- A python `dict` is a dictionary which has `keys` and `values`. Using your common knowledge of a dictionary, what do you think keys and values are?\n",
    "- What are the keys and values in the example above?"
   ]
  },
  {
   "cell_type": "code",
   "execution_count": null,
   "metadata": {},
   "outputs": [],
   "source": [
    "# Access dict values by key\n",
    "value1 = loadedObj.get(\"firstname\")\n",
    "print(\"First name:\",value1)\n",
    "value2 = loadedObj[???]\n",
    "print(\"Last name:\",???)"
   ]
  },
  {
   "cell_type": "code",
   "execution_count": null,
   "metadata": {},
   "outputs": [],
   "source": [
    "# Or a shortcut for the above\n",
    "print(\"First name:\",loadedObj['firstname'])\n",
    "print(\"Last name:\",loadedObj[???])"
   ]
  },
  {
   "cell_type": "code",
   "execution_count": null,
   "metadata": {},
   "outputs": [],
   "source": [
    "# Get all of the keys\n",
    "print(\"keys:\",loadedObj.keys())\n",
    "\n",
    "# Get all of the values\n",
    "print(\"values:\",loadedObj.values())\n",
    "\n",
    "# Get all of the items\n",
    "print(\"items:\",loadedObj.items())"
   ]
  },
  {
   "cell_type": "markdown",
   "metadata": {},
   "source": [
    "We can iterate over any of these lists (keys, values, items). This enables us to do something useful with each itme in the dictionary. For now, we are using print, but we could do anything (possible in Python) with each item by using the same approach. The basic pattern is: \n",
    "\n",
    "```\n",
    "for ITEM in LIST:\n",
    "    do something\n",
    "```"
   ]
  },
  {
   "cell_type": "code",
   "execution_count": null,
   "metadata": {},
   "outputs": [],
   "source": [
    "# Iterate over the dictionary items\n",
    "for key,value in loadedObj.items():\n",
    "    print(\"The\",???,\"is\",???)"
   ]
  },
  {
   "cell_type": "markdown",
   "metadata": {},
   "source": [
    "**EXPERIMENT:** \n",
    "- try iterating over keys and values separately\n",
    "- try changing the key and value above\n",
    "- try adding more keys and values to the json object (hint: `mydict[key] = \"value\"`)\n",
    "- try sorting the dictionary (hint: `sorted(mydict)` or `sorted(mydict.values())`)"
   ]
  },
  {
   "cell_type": "markdown",
   "metadata": {},
   "source": [
    "---\n",
    "#### JSON arrays"
   ]
  },
  {
   "cell_type": "code",
   "execution_count": null,
   "metadata": {},
   "outputs": [],
   "source": [
    "# try loading a json array\n",
    "simpleJsonArray = '[\"element1\",2,\"el 3\",432, { \"name\": \"andrew\" }]'\n",
    "\n",
    "loadedArray = json.loads(???)\n",
    "print(\"loadedArray looks like:\",???)\n",
    "print(\"loadedArray type is:\",type(???))"
   ]
  },
  {
   "cell_type": "code",
   "execution_count": null,
   "metadata": {},
   "outputs": [],
   "source": [
    "# Access an element of a list using its index\n",
    "elem = loadedArray[1]\n",
    "print(\"The first element is:\",elem)"
   ]
  },
  {
   "cell_type": "markdown",
   "metadata": {},
   "source": [
    "- What is this incorrect?\n",
    "- Modify the code to make it correct"
   ]
  },
  {
   "cell_type": "code",
   "execution_count": null,
   "metadata": {},
   "outputs": [],
   "source": [
    "# get the last element in the list\n",
    "nameObj = loadedArray[-1]\n",
    "print(nameObj)\n",
    "print(type(nameObj))"
   ]
  },
  {
   "cell_type": "markdown",
   "metadata": {},
   "source": [
    "- What do you notice about this element type?\n",
    "- What does this tell you that we can do with Python lists and dicts?\n",
    "- Why is this important?"
   ]
  },
  {
   "cell_type": "code",
   "execution_count": null,
   "metadata": {},
   "outputs": [],
   "source": [
    "# Iterate over the list the same as we did for dicts\n",
    "for entry in loadedArray:\n",
    "    print(???)"
   ]
  },
  {
   "cell_type": "code",
   "execution_count": null,
   "metadata": {},
   "outputs": [],
   "source": [
    "# Test if an element exists\n",
    "432 in loadedArray"
   ]
  },
  {
   "cell_type": "code",
   "execution_count": null,
   "metadata": {},
   "outputs": [],
   "source": [
    "# Make sure the type is correct\n",
    "'el 3' in loadedArray"
   ]
  },
  {
   "cell_type": "code",
   "execution_count": null,
   "metadata": {},
   "outputs": [],
   "source": [
    "# What if the element isn't there?\n",
    "'route66' in loadedArray"
   ]
  },
  {
   "cell_type": "code",
   "execution_count": null,
   "metadata": {},
   "outputs": [],
   "source": [
    "# What if the index is bigger than the list\n",
    "loadedArray[14]"
   ]
  },
  {
   "cell_type": "markdown",
   "metadata": {},
   "source": [
    "**EXPERIMENT:** \n",
    "- try adding elements, to the original json array\n",
    "- try adding json objects to the json array\n",
    "- try adding a json array as an element in a json object and add that to the original array"
   ]
  },
  {
   "cell_type": "markdown",
   "metadata": {},
   "source": [
    "---\n",
    "### [2] Connect to an API\n",
    "\n",
    "Starting with the workshop example, let's retrieve some JSON from XKCD and load it into Python Dict. For each code block, try and explain in your own words what the code is doing."
   ]
  },
  {
   "cell_type": "code",
   "execution_count": null,
   "metadata": {},
   "outputs": [],
   "source": [
    "from urllib import request, response\n",
    "\n",
    "# Fetch the data for the latest xkcd comic\n",
    "url = 'http://xkcd.com/info.0.json'\n",
    "comicRequest = request.Request(???)\n",
    "comicResponse = request.urlopen(???)\n",
    "print(comicResponse.status)                   "
   ]
  },
  {
   "cell_type": "markdown",
   "metadata": {},
   "source": [
    "- change `json` in the request to `js` and see what happens\n",
    "- what does the code `200` mean? (hint: search `http status codes`)"
   ]
  },
  {
   "cell_type": "code",
   "execution_count": null,
   "metadata": {},
   "outputs": [],
   "source": [
    "# Get the body of the response\n",
    "responseBody = comicResponse.read().decode('utf8')\n",
    "print(???)\n",
    "print(type(???))"
   ]
  },
  {
   "cell_type": "markdown",
   "metadata": {},
   "source": [
    "- This is a string, but what kind of data does it look like?\n",
    "- What can we do with it?"
   ]
  },
  {
   "cell_type": "code",
   "execution_count": null,
   "metadata": {},
   "outputs": [],
   "source": [
    "#Read the JSON\n",
    "jsonFromApi = json.loads(???)\n",
    "print(???)\n",
    "print(type(???))"
   ]
  },
  {
   "cell_type": "code",
   "execution_count": null,
   "metadata": {},
   "outputs": [],
   "source": [
    "#Now get the title of the comic\n",
    "title = jsonFromApi[???]\n",
    "print(title)"
   ]
  },
  {
   "cell_type": "markdown",
   "metadata": {},
   "source": [
    "**EXPERIMENT:**\n",
    "- we now have data in the same format as we were experimenting with before\n",
    "- try and print out all of the keys\n",
    "- try and get different values by using their key"
   ]
  },
  {
   "cell_type": "markdown",
   "metadata": {},
   "source": [
    "---\n",
    "### Experiment with JSON from APIs\n",
    "\n",
    "- First create a function that gets json from a URL and returns a Python array or dict\n",
    "- Try your function on: `https://dog.ceo/api/breeds/list/all` - how many breeds of hound are there?"
   ]
  },
  {
   "cell_type": "code",
   "execution_count": null,
   "metadata": {},
   "outputs": [],
   "source": [
    "# Function\n",
    "def getDogBreeds(url):\n",
    "    req = request.Request(???)\n",
    "    resp = request.urlopen(???)\n",
    "    body = resp.read().decode('utf8')\n",
    "    return json.loads(???)"
   ]
  },
  {
   "cell_type": "code",
   "execution_count": null,
   "metadata": {},
   "outputs": [],
   "source": [
    "# Get the breeds\n",
    "data = getDogBreeds(\"https://dog.ceo/api/breeds/list/all\")\n",
    "print(\"Data from server:\\n\",data)\n",
    "\n",
    "# Get just the info we need\n",
    "breeds = data[???]\n",
    "print(\"\\nBreeds:\\n\",breeds) #Note the new lines to help with formatting"
   ]
  },
  {
   "cell_type": "code",
   "execution_count": null,
   "metadata": {},
   "outputs": [],
   "source": [
    "# Answer question?\n",
    "breed2find = \"hound\"\n",
    "selected = breeds[breed2find]\n",
    "# how many?\n",
    "print(\"There are\",len(???),\"breeds of\",???,\":\")\n",
    "for ??? in ???:\n",
    "    print(\"\\t\",???)"
   ]
  },
  {
   "cell_type": "markdown",
   "metadata": {},
   "source": [
    "**EXPERIMENT:**\n",
    "- Try parsing the data from this API in different ways to answer different questions\n",
    "- Try getting data from a different API and parsing it"
   ]
  },
  {
   "cell_type": "code",
   "execution_count": null,
   "metadata": {},
   "outputs": [],
   "source": []
  }
 ],
 "metadata": {
  "hide_input": false,
  "kernelspec": {
   "display_name": "Python 3",
   "language": "python",
   "name": "python3"
  },
  "language_info": {
   "codemirror_mode": {
    "name": "ipython",
    "version": 3
   },
   "file_extension": ".py",
   "mimetype": "text/x-python",
   "name": "python",
   "nbconvert_exporter": "python",
   "pygments_lexer": "ipython3",
   "version": "3.6.7"
  }
 },
 "nbformat": 4,
 "nbformat_minor": 2
}
