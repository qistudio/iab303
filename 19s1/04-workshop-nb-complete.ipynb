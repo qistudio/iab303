{
 "cells": [
  {
   "cell_type": "markdown",
   "metadata": {
    "slideshow": {
     "slide_type": "slide"
    }
   },
   "source": [
    "<div class=\"alert alert-block alert-info\"><b>IAB303</b> - Data Analytics for Business Insight</div>"
   ]
  },
  {
   "cell_type": "markdown",
   "metadata": {
    "slideshow": {
     "slide_type": "-"
    }
   },
   "source": [
    "## PULSE SURVEY\n",
    "\n",
    "**Please complete the Pulse survey. We value your comments on what you like and what you think should be improved.**\n",
    "\n",
    "## WORKSHOP :: Customers and social media\n",
    "\n",
    "1. What can a business learn about their customers from social media?\n",
    "2. APIs and semi-structured social data - twitter example\n",
    "3. Accessing twitter - app setup"
   ]
  },
  {
   "cell_type": "markdown",
   "metadata": {
    "slideshow": {
     "slide_type": "slide"
    }
   },
   "source": [
    "### [1] What can a business learn about their customers from social media?"
   ]
  },
  {
   "cell_type": "code",
   "execution_count": 1,
   "metadata": {
    "slideshow": {
     "slide_type": "fragment"
    }
   },
   "outputs": [
    {
     "data": {
      "text/html": [
       "\n",
       "        <iframe\n",
       "            width=\"560\"\n",
       "            height=\"315\"\n",
       "            src=\"https://www.youtube-nocookie.com/embed/nSgy9Jwffw8\"\n",
       "            frameborder=\"0\"\n",
       "            allowfullscreen\n",
       "        ></iframe>\n",
       "        "
      ],
      "text/plain": [
       "<IPython.lib.display.IFrame at 0x7fc2710e7d68>"
      ]
     },
     "execution_count": 1,
     "metadata": {},
     "output_type": "execute_result"
    }
   ],
   "source": [
    "from IPython.display import IFrame \n",
    "IFrame('https://www.youtube-nocookie.com/embed/nSgy9Jwffw8',width=560,height=315)"
   ]
  },
  {
   "cell_type": "markdown",
   "metadata": {
    "slideshow": {
     "slide_type": "subslide"
    }
   },
   "source": [
    "**DISCUSSION:**\n",
    "1. Which of these could have been prevented or minimised by the use of data analytics? How?\n",
    "2. What can social media anlytics tell a business about their customers?\n",
    "3. What can social media analytics tell a business about their competitors?"
   ]
  },
  {
   "cell_type": "markdown",
   "metadata": {
    "slideshow": {
     "slide_type": "slide"
    }
   },
   "source": [
    "### [2] APIs and semi-structured social data - twitter example"
   ]
  },
  {
   "cell_type": "markdown",
   "metadata": {
    "slideshow": {
     "slide_type": "fragment"
    }
   },
   "source": [
    "First we setup access to the twitter API"
   ]
  },
  {
   "cell_type": "code",
   "execution_count": 2,
   "metadata": {
    "slideshow": {
     "slide_type": "fragment"
    }
   },
   "outputs": [],
   "source": [
    "import tweepy\n",
    "import pandas as pd\n",
    "\n",
    "auth = tweepy.OAuthHandler('Qn762oOeXVGmLVTth7FdLvi3v', '640521fMV0gbnpPoW4Kqad1h9zbbgJR1pAu7ZfrmpG8v3uK3PX')\n",
    "auth.set_access_token('2183696382-z35XQoAS3wNuqq0rg5HEyfVImKXCPpm8q8RzHmn', 'eqiIo3xh4RmQmSzECaXC8VC9JBHSrBUrs675htR41irY0')\n",
    "api = tweepy.API(auth)"
   ]
  },
  {
   "cell_type": "code",
   "execution_count": 7,
   "metadata": {
    "scrolled": true,
    "slideshow": {
     "slide_type": "fragment"
    }
   },
   "outputs": [],
   "source": [
    "tweets = api.search(q=\"#sunset\", lang = \"en\", count=50,include_entities=True)"
   ]
  },
  {
   "cell_type": "code",
   "execution_count": 8,
   "metadata": {
    "scrolled": true,
    "slideshow": {
     "slide_type": "subslide"
    }
   },
   "outputs": [
    {
     "name": "stdout",
     "output_type": "stream",
     "text": [
      "2019-03-19 01:19:56\n",
      "1107813923573493760\n",
      "RT @topyachtcharte1: Make each day a new horizon!\n",
      "6 Easy Steps to Plan your Yachting Vacation!\n",
      "https://t.co/T2vr28cG01\n",
      "#holiday #yachting #… \n",
      "\n",
      "2019-03-19 01:19:38\n",
      "1107813851024678913\n",
      "My Homeland. Any guesses? lol\n",
      "#MyPhoto #sunset #Slough https://t.co/zfh8qAKepP \n",
      "\n",
      "2019-03-19 01:19:16\n",
      "1107813755998687232\n",
      "my mom said i should post the first picture on the internet. \n",
      "so here you go internet.\n",
      "enjoy.\n",
      "••\n",
      "#photography… https://t.co/9aXrFdWDpC \n",
      "\n",
      "2019-03-19 01:18:54\n",
      "1107813666047430656\n",
      "RT @Tatiana5oz: Good evening!!! \n",
      "#sunset #nature #naturelovers https://t.co/b2m0I77hkR \n",
      "\n",
      "2019-03-19 01:18:31\n",
      "1107813566386720769\n",
      "RT @cementship: Playing this Wednesday 6-9pm at @ShantyShackBrew!  No cover!  Pic taken on #oahu \n",
      "#folkmusic #singersongwriter #Hawaii #tra… \n",
      "\n",
      "2019-03-19 01:18:17\n",
      "1107813510216642560\n",
      "RT @bob_callender: This image, Morning Coffee, proves there is so much beauty to find in the West Texas Oilfield. To see more go to https:/… \n",
      "\n",
      "2019-03-19 01:17:33\n",
      "1107813327017779201\n",
      "RT @alex_crisan_art: ➤ Lonely Mountain \n",
      "➤ © Alexandru Crisan 2014\n",
      "\n",
      "#fineartphotography #mountain #secretplace #landscape #nature #beautiful… \n",
      "\n",
      "2019-03-19 01:17:04\n",
      "1107813203570900992\n",
      "RT @Stewartr84: Last evening's #Sunset from #Helotes #Texas @sisterdemler @StormHour @susnicholson https://t.co/vGpcO5uXr8 \n",
      "\n",
      "2019-03-19 01:16:52\n",
      "1107813154866765825\n",
      "RT @perkinsphotos1: #sunset tonight through a tree in BG ... @StormHour https://t.co/c9zRIHXWwF \n",
      "\n",
      "2019-03-19 01:16:51\n",
      "1107813148881575936\n",
      "RT @perkinsphotos1: #sunset tonight through a tree in BG ... @StormHour https://t.co/c9zRIHXWwF \n",
      "\n",
      "2019-03-19 01:16:16\n",
      "1107813002592616449\n",
      "RT @EnjoyNature: Atlantic ocean and beach near Biarritz in Bayonne and Aquitaine #France🇫🇷\n",
      "\n",
      "#Travel #Nature #Photo #Ocean #Sunset #Weather… \n",
      "\n",
      "2019-03-19 01:16:01\n",
      "1107812938499403777\n",
      "The sunset was INCREDIBLE tonight! Cleveland, MN #sunset #Minnesota #snowmelt #floodedfield #ice  #mnwx… https://t.co/0yVnLPTSIw \n",
      "\n",
      "2019-03-19 01:15:57\n",
      "1107812923089522693\n",
      "RT @Stewartr84: Last evening's #Sunset from #Helotes #Texas @sisterdemler @StormHour @susnicholson https://t.co/vGpcO5uXr8 \n",
      "\n",
      "2019-03-19 01:15:50\n",
      "1107812890919256070\n",
      "RT @Stewartr84: Last evening's #Sunset from #Helotes #Texas @sisterdemler @StormHour @susnicholson https://t.co/vGpcO5uXr8 \n",
      "\n",
      "2019-03-19 01:15:44\n",
      "1107812868907503620\n",
      "RT @StuOstro: 23 minutes after #sunset  #gawx https://t.co/tDyxWO7hdH \n",
      "\n",
      "2019-03-19 01:15:44\n",
      "1107812868433559552\n",
      "RT @EnjoyNature: Yellow tulips and stunning spring evening\n",
      "\n",
      "#Travel #Nature #Photo #Sunset #Flowers #Spring #Tulips #Weather https://t.co/B… \n",
      "\n",
      "2019-03-19 01:15:42\n",
      "1107812857545179136\n",
      "My view yesterday. #sunset #texasspring https://t.co/2pfoo3dSju \n",
      "\n",
      "2019-03-19 01:15:21\n",
      "1107812771083808769\n",
      "RT @perkinsphotos1: #sunset tonight through a tree in BG ... @StormHour https://t.co/c9zRIHXWwF \n",
      "\n",
      "2019-03-19 01:15:12\n",
      "1107812732869505024\n",
      "Painting \"Sunset 1577\" Collection\n",
      "\n",
      "Sunset 1577 Thermal Tumbler\n",
      "50% off with code MONDAYFUNDAY\n",
      "\n",
      "Details at:… https://t.co/tCS09DyjhV \n",
      "\n",
      "2019-03-19 01:15:03\n",
      "1107812694307016705\n",
      "RT @EnjoyNature: Atlantic ocean and beach near Biarritz in Bayonne and Aquitaine #France🇫🇷\n",
      "\n",
      "#Travel #Nature #Photo #Ocean #Sunset #Weather… \n",
      "\n",
      "2019-03-19 01:14:38\n",
      "1107812591659831296\n",
      "RT @EnjoyNature: Atlantic ocean and beach near Biarritz in Bayonne and Aquitaine #France🇫🇷\n",
      "\n",
      "#Travel #Nature #Photo #Ocean #Sunset #Weather… \n",
      "\n",
      "2019-03-19 01:13:47\n",
      "1107812375237844992\n",
      "RT @perkinsphotos1: #sunset tonight through a tree in BG ... @StormHour https://t.co/c9zRIHXWwF \n",
      "\n",
      "2019-03-19 01:13:20\n",
      "1107812263866630144\n",
      "RT @RareCat: Sweet dreams.\n",
      "\n",
      "#Sunset #BeattieBeach #LakeOntario #GreeceNY #ROC #HABN \n",
      "\n",
      "2019-03-19 01:13:10\n",
      "1107812222271655937\n",
      "Sweet dreams.\n",
      "\n",
      "#Sunset #BeattieBeach #LakeOntario #GreeceNY #ROC #HABN \n",
      "\n",
      "2019-03-19 01:12:48\n",
      "1107812128680042496\n",
      "Beautiful tonight in #Tennessee 💗 #sunset #country #farm #scenic #insta https://t.co/X7oMXFgnK3 \n",
      "\n",
      "2019-03-19 01:12:15\n",
      "1107811992302026752\n",
      "#LookUpNYC #greenwichvillage #nyc #manhattan #Bleekerstreet #WalkNYC #moon #sunset #westside @ Greenwich Village https://t.co/qfT7MwgGTb \n",
      "\n",
      "2019-03-19 01:12:11\n",
      "1107811976451903488\n",
      "RT @Kelly_WPMI: Beautiful in Biloxi, #Mississippi #gulfcoast #sunset @spann @StormHour https://t.co/xP8MKfghG1 \n",
      "\n",
      "2019-03-19 01:11:34\n",
      "1107811817311617025\n",
      "“ #Ukulele + Pantai + #Sunset + Momen = Momentum” #olympus #beach #instagram #snapseed #instabeach #instasunset… https://t.co/0AXCKMs4xe \n",
      "\n",
      "2019-03-19 01:11:30\n",
      "1107811804334514176\n",
      "Darkness looms in the waining of the sun as it set. Laying in wait to Spring it’s trap and engulf the environment i… https://t.co/zKycVId4JE \n",
      "\n",
      "2019-03-19 01:10:50\n",
      "1107811633722785795\n",
      "leifiel caught me waxing poetic about desert sunsets and the solution to the world's problems. Maybe. \n",
      "#Repost leif… https://t.co/LewVTwteBO \n",
      "\n",
      "2019-03-19 01:10:43\n",
      "1107811606807920640\n",
      "RT @perkinsphotos1: #sunset tonight through a tree in BG ... @StormHour https://t.co/c9zRIHXWwF \n",
      "\n",
      "2019-03-19 01:10:33\n",
      "1107811562071486465\n",
      "Promise Of The West. Windsor, ON. #photooftheday #Windsor #FujifilmX100F #landscape #AmbassadorBridge #sunset https://t.co/zAXRW40fwX \n",
      "\n",
      "2019-03-19 01:10:18\n",
      "1107811501614592000\n",
      "RT @EnjoyNature: Yellow tulips and stunning spring evening\n",
      "\n",
      "#Travel #Nature #Photo #Sunset #Flowers #Spring #Tulips #Weather https://t.co/B… \n",
      "\n",
      "2019-03-19 01:10:07\n",
      "1107811453686464512\n",
      "RT @RealSaltLife: May every #sunset bring you peace 🌅 \n",
      "#LivingSalty https://t.co/2JpXpoWRs9 \n",
      "\n",
      "2019-03-19 01:09:40\n",
      "1107811341677535232\n",
      "I like to consider myself an amateur photographer and this photo is my new favorite #photograph #photographer… https://t.co/ZZBUxp1PjJ \n",
      "\n",
      "2019-03-19 01:09:35\n",
      "1107811319267426304\n",
      "RT @northcoastbjj: ✴️🌀 Practicing Jiu-Jitsu is easier in a beautiful academy! 🌀✴️\n",
      "\n",
      "Learn the fundamental techniques of Gracie Jiu-Jitsu.… \n",
      "\n",
      "2019-03-19 01:09:11\n",
      "1107811219258388480\n",
      "#MyOttawa #Sunset over the #OttawaRiver replay. https://t.co/bSL9IOOW6N \n",
      "\n",
      "2019-03-19 01:08:46\n",
      "1107811116430827521\n",
      "RT @wendylov5: Sheep at sunset @StormHour @ThePhotoHour #sunset #lastnight #weather #sky #sheep #hoghton #lancashire #england #photograph h… \n",
      "\n",
      "2019-03-19 01:08:21\n",
      "1107811009257984001\n",
      "RT @Sostraveluk: @Touchse @NYCapricorn @LGSomewhereMcK @AOAOxymoron @gasaffan @leisurelambie @Fit_life360 @Adventuringgal @theanchoredblog… \n",
      "\n",
      "2019-03-19 01:08:14\n",
      "1107810979952365570\n",
      "Colours are popping summer needs to hurry!  #sunset #sunsetphotography #photographer #photography #photographylover… https://t.co/LiPzJ3J100 \n",
      "\n",
      "2019-03-19 01:08:10\n",
      "1107810965536550912\n",
      "#sunset tonight through a tree in BG ... @StormHour https://t.co/c9zRIHXWwF \n",
      "\n",
      "2019-03-19 01:07:54\n",
      "1107810897467195392\n",
      "Trades 🌇 #sunset #mexico #city 🥺 https://t.co/mcIwaQZnGE \n",
      "\n",
      "2019-03-19 01:07:25\n",
      "1107810772980297728\n",
      "🌅  Dramatic Texas Sunset @StarHillRanch \n",
      ".\n",
      ".\n",
      "#sunset #windmill #texas #starhillranch #texassunset #cinematic… https://t.co/za2ZPrlMVk \n",
      "\n",
      "2019-03-19 01:07:09\n",
      "1107810705707880450\n",
      "I wait until the sunset in Stanley Park. The view was worth it. \n",
      ".\n",
      ".\n",
      ".\n",
      ".\n",
      ".\n",
      ".\n",
      ".\n",
      ".\n",
      ".\n",
      ".\n",
      "#stanleypark #vancouver… https://t.co/lJNbS5dQKV \n",
      "\n",
      "2019-03-19 01:06:50\n",
      "1107810627018326016\n",
      "I get a couple #shots  🥃🥃 @PaulMasson  Teeney gets 2 watch the #sunset and absorb  some #sunrays\n",
      "\n",
      "#pettography… https://t.co/RCNxVtyoB8 \n",
      "\n",
      "2019-03-19 01:06:48\n",
      "1107810620664147968\n",
      "RT @godfrienddme: #Sunset from around the World! Please enjoy God's handiwork and beauty. 🤗😍😎 #godfrienddme https://t.co/VL8AkaP9tA \n",
      "\n",
      "2019-03-19 01:06:43\n",
      "1107810597012418562\n",
      "RT @AFPphoto: A woman watches the #sunset in the Olympic park in Munich, southern Germany, after a cold day.\n",
      "\n",
      "📷  Chistof Stache #AFP https:… \n",
      "\n",
      "2019-03-19 01:05:53\n",
      "1107810390753402881\n",
      "RT @bluecatzfan: ⁦@Kentuckyweather⁩ #sunset this evening in Madison County. https://t.co/EiFoaB3rOX \n",
      "\n",
      "2019-03-19 01:05:43\n",
      "1107810347535212544\n",
      "Beautiful sunset tonight. \n",
      "\n",
      "#sunset #nature #naturephotography #photography #photos #beautiful https://t.co/INr9KOx2a8 \n",
      "\n",
      "2019-03-19 01:05:25\n",
      "1107810272272703489\n",
      "RT @WKUweather: Starting the week off right with this beauty of a #WKU #sunset. https://t.co/EQ5xa824jS \n",
      "\n"
     ]
    }
   ],
   "source": [
    "for tweet in tweets:\n",
    "    print(tweet.created_at)\n",
    "    print(tweet.id)\n",
    "    print(tweet.text,'\\n')"
   ]
  },
  {
   "cell_type": "markdown",
   "metadata": {
    "slideshow": {
     "slide_type": "subslide"
    }
   },
   "source": [
    "What kind of data do we receive for each tweet?"
   ]
  },
  {
   "cell_type": "code",
   "execution_count": 9,
   "metadata": {
    "scrolled": true,
    "slideshow": {
     "slide_type": "fragment"
    }
   },
   "outputs": [
    {
     "data": {
      "text/plain": [
       "{'contributors': None,\n",
       " 'coordinates': {'coordinates': [-76.91484132, 39.78477709], 'type': 'Point'},\n",
       " 'created_at': 'Tue Mar 19 01:19:16 +0000 2019',\n",
       " 'entities': {'hashtags': [{'indices': [97, 109], 'text': 'photography'}],\n",
       "  'symbols': [],\n",
       "  'urls': [{'display_url': 'twitter.com/i/web/status/1…',\n",
       "    'expanded_url': 'https://twitter.com/i/web/status/1107813755998687232',\n",
       "    'indices': [111, 134],\n",
       "    'url': 'https://t.co/9aXrFdWDpC'}],\n",
       "  'user_mentions': []},\n",
       " 'favorite_count': 0,\n",
       " 'favorited': False,\n",
       " 'geo': {'coordinates': [39.78477709, -76.91484132], 'type': 'Point'},\n",
       " 'id': 1107813755998687232,\n",
       " 'id_str': '1107813755998687232',\n",
       " 'in_reply_to_screen_name': None,\n",
       " 'in_reply_to_status_id': None,\n",
       " 'in_reply_to_status_id_str': None,\n",
       " 'in_reply_to_user_id': None,\n",
       " 'in_reply_to_user_id_str': None,\n",
       " 'is_quote_status': False,\n",
       " 'lang': 'en',\n",
       " 'metadata': {'iso_language_code': 'en', 'result_type': 'recent'},\n",
       " 'place': {'attributes': {},\n",
       "  'bounding_box': {'coordinates': [[[-80.519851, 39.719801],\n",
       "     [-74.689517, 39.719801],\n",
       "     [-74.689517, 42.516072],\n",
       "     [-80.519851, 42.516072]]],\n",
       "   'type': 'Polygon'},\n",
       "  'contained_within': [],\n",
       "  'country': 'United States',\n",
       "  'country_code': 'US',\n",
       "  'full_name': 'Pennsylvania, USA',\n",
       "  'id': 'dd9c503d6c35364b',\n",
       "  'name': 'Pennsylvania',\n",
       "  'place_type': 'admin',\n",
       "  'url': 'https://api.twitter.com/1.1/geo/id/dd9c503d6c35364b.json'},\n",
       " 'possibly_sensitive': False,\n",
       " 'retweet_count': 0,\n",
       " 'retweeted': False,\n",
       " 'source': '<a href=\"http://instagram.com\" rel=\"nofollow\">Instagram</a>',\n",
       " 'text': 'my mom said i should post the first picture on the internet. \\nso here you go internet.\\nenjoy.\\n••\\n#photography… https://t.co/9aXrFdWDpC',\n",
       " 'truncated': True,\n",
       " 'user': {'contributors_enabled': False,\n",
       "  'created_at': 'Sat May 23 15:09:05 +0000 2009',\n",
       "  'default_profile': False,\n",
       "  'default_profile_image': False,\n",
       "  'description': 'welcome to the inner workings of my mind. ♒️🌈',\n",
       "  'entities': {'description': {'urls': []}},\n",
       "  'favourites_count': 73156,\n",
       "  'follow_request_sent': False,\n",
       "  'followers_count': 1850,\n",
       "  'following': False,\n",
       "  'friends_count': 1142,\n",
       "  'geo_enabled': True,\n",
       "  'has_extended_profile': True,\n",
       "  'id': 42040603,\n",
       "  'id_str': '42040603',\n",
       "  'is_translation_enabled': False,\n",
       "  'is_translator': False,\n",
       "  'lang': 'en',\n",
       "  'listed_count': 23,\n",
       "  'location': 'Maryland, USA',\n",
       "  'name': 'køurtney. 👽',\n",
       "  'notifications': False,\n",
       "  'profile_background_color': '2A044A',\n",
       "  'profile_background_image_url': 'http://abs.twimg.com/images/themes/theme1/bg.png',\n",
       "  'profile_background_image_url_https': 'https://abs.twimg.com/images/themes/theme1/bg.png',\n",
       "  'profile_background_tile': True,\n",
       "  'profile_banner_url': 'https://pbs.twimg.com/profile_banners/42040603/1546019339',\n",
       "  'profile_image_url': 'http://pbs.twimg.com/profile_images/1105643179594911744/02oXURJo_normal.jpg',\n",
       "  'profile_image_url_https': 'https://pbs.twimg.com/profile_images/1105643179594911744/02oXURJo_normal.jpg',\n",
       "  'profile_link_color': '0B2E59',\n",
       "  'profile_sidebar_border_color': 'FFFFFF',\n",
       "  'profile_sidebar_fill_color': '0D6759',\n",
       "  'profile_text_color': 'A0C55F',\n",
       "  'profile_use_background_image': True,\n",
       "  'protected': False,\n",
       "  'screen_name': 'kourtneyLA',\n",
       "  'statuses_count': 92947,\n",
       "  'time_zone': None,\n",
       "  'translator_type': 'none',\n",
       "  'url': None,\n",
       "  'utc_offset': None,\n",
       "  'verified': False}}"
      ]
     },
     "execution_count": 9,
     "metadata": {},
     "output_type": "execute_result"
    }
   ],
   "source": [
    "first_tweet = tweets[2]\n",
    "first_tweet._json"
   ]
  },
  {
   "cell_type": "markdown",
   "metadata": {
    "slideshow": {
     "slide_type": "subslide"
    }
   },
   "source": [
    "What other data can we extract?"
   ]
  },
  {
   "cell_type": "code",
   "execution_count": 10,
   "metadata": {
    "scrolled": true,
    "slideshow": {
     "slide_type": "fragment"
    }
   },
   "outputs": [
    {
     "data": {
      "text/html": [
       "<img src=\"http://pbs.twimg.com/media/D1--0c3U4AAOfrJ.jpg\" width=\"30%\"/>"
      ],
      "text/plain": [
       "<IPython.core.display.HTML object>"
      ]
     },
     "metadata": {},
     "output_type": "display_data"
    },
    {
     "data": {
      "text/html": [
       "<img src=\"http://pbs.twimg.com/ext_tw_video_thumb/1107303123683553282/pu/img/vqLpfI03YfUctvXF.jpg\" width=\"30%\"/>"
      ],
      "text/plain": [
       "<IPython.core.display.HTML object>"
      ]
     },
     "metadata": {},
     "output_type": "display_data"
    },
    {
     "data": {
      "text/html": [
       "<img src=\"http://pbs.twimg.com/media/D1-47fHU0AAujEw.jpg\" width=\"30%\"/>"
      ],
      "text/plain": [
       "<IPython.core.display.HTML object>"
      ]
     },
     "metadata": {},
     "output_type": "display_data"
    },
    {
     "data": {
      "text/html": [
       "<img src=\"http://pbs.twimg.com/media/D1-8MznXQAAdV97.jpg\" width=\"30%\"/>"
      ],
      "text/plain": [
       "<IPython.core.display.HTML object>"
      ]
     },
     "metadata": {},
     "output_type": "display_data"
    },
    {
     "data": {
      "text/html": [
       "<img src=\"http://pbs.twimg.com/media/D1-8MznXQAAdV97.jpg\" width=\"30%\"/>"
      ],
      "text/plain": [
       "<IPython.core.display.HTML object>"
      ]
     },
     "metadata": {},
     "output_type": "display_data"
    },
    {
     "data": {
      "text/html": [
       "<img src=\"http://pbs.twimg.com/media/D1-47fHU0AAujEw.jpg\" width=\"30%\"/>"
      ],
      "text/plain": [
       "<IPython.core.display.HTML object>"
      ]
     },
     "metadata": {},
     "output_type": "display_data"
    },
    {
     "data": {
      "text/html": [
       "<img src=\"http://pbs.twimg.com/media/D1-47fHU0AAujEw.jpg\" width=\"30%\"/>"
      ],
      "text/plain": [
       "<IPython.core.display.HTML object>"
      ]
     },
     "metadata": {},
     "output_type": "display_data"
    },
    {
     "data": {
      "text/html": [
       "<img src=\"http://pbs.twimg.com/media/D1-1cFKXcAAWyLv.jpg\" width=\"30%\"/>"
      ],
      "text/plain": [
       "<IPython.core.display.HTML object>"
      ]
     },
     "metadata": {},
     "output_type": "display_data"
    },
    {
     "data": {
      "text/html": [
       "<img src=\"http://pbs.twimg.com/media/D1-963rWkAAvrqF.jpg\" width=\"30%\"/>"
      ],
      "text/plain": [
       "<IPython.core.display.HTML object>"
      ]
     },
     "metadata": {},
     "output_type": "display_data"
    },
    {
     "data": {
      "text/html": [
       "<img src=\"http://pbs.twimg.com/media/D1-8MznXQAAdV97.jpg\" width=\"30%\"/>"
      ],
      "text/plain": [
       "<IPython.core.display.HTML object>"
      ]
     },
     "metadata": {},
     "output_type": "display_data"
    },
    {
     "data": {
      "text/html": [
       "<img src=\"http://pbs.twimg.com/media/D1-8MznXQAAdV97.jpg\" width=\"30%\"/>"
      ],
      "text/plain": [
       "<IPython.core.display.HTML object>"
      ]
     },
     "metadata": {},
     "output_type": "display_data"
    },
    {
     "data": {
      "text/html": [
       "<img src=\"http://pbs.twimg.com/media/D1-0Bx3WkAAphGE.jpg\" width=\"30%\"/>"
      ],
      "text/plain": [
       "<IPython.core.display.HTML object>"
      ]
     },
     "metadata": {},
     "output_type": "display_data"
    },
    {
     "data": {
      "text/html": [
       "<img src=\"http://pbs.twimg.com/media/D1-8MznXQAAdV97.jpg\" width=\"30%\"/>"
      ],
      "text/plain": [
       "<IPython.core.display.HTML object>"
      ]
     },
     "metadata": {},
     "output_type": "display_data"
    },
    {
     "data": {
      "text/html": [
       "<img src=\"http://pbs.twimg.com/media/D1-8sYFXgAIaLNS.jpg\" width=\"30%\"/>"
      ],
      "text/plain": [
       "<IPython.core.display.HTML object>"
      ]
     },
     "metadata": {},
     "output_type": "display_data"
    },
    {
     "data": {
      "text/html": [
       "<img src=\"http://pbs.twimg.com/media/D16CXk4XcAAt3Ys.jpg\" width=\"30%\"/>"
      ],
      "text/plain": [
       "<IPython.core.display.HTML object>"
      ]
     },
     "metadata": {},
     "output_type": "display_data"
    },
    {
     "data": {
      "text/html": [
       "<img src=\"http://pbs.twimg.com/ext_tw_video_thumb/1107811069463015430/pu/img/4Osbxqk3k4CdI_eL.jpg\" width=\"30%\"/>"
      ],
      "text/plain": [
       "<IPython.core.display.HTML object>"
      ]
     },
     "metadata": {},
     "output_type": "display_data"
    },
    {
     "data": {
      "text/html": [
       "<img src=\"http://pbs.twimg.com/media/D1-8MznXQAAdV97.jpg\" width=\"30%\"/>"
      ],
      "text/plain": [
       "<IPython.core.display.HTML object>"
      ]
     },
     "metadata": {},
     "output_type": "display_data"
    },
    {
     "data": {
      "text/html": [
       "<img src=\"http://pbs.twimg.com/media/D1-8JBLWwAE7u-Z.jpg\" width=\"30%\"/>"
      ],
      "text/plain": [
       "<IPython.core.display.HTML object>"
      ]
     },
     "metadata": {},
     "output_type": "display_data"
    },
    {
     "data": {
      "text/html": [
       "<img src=\"http://pbs.twimg.com/media/D1-MjqIW0AAsQMf.jpg\" width=\"30%\"/>"
      ],
      "text/plain": [
       "<IPython.core.display.HTML object>"
      ]
     },
     "metadata": {},
     "output_type": "display_data"
    },
    {
     "data": {
      "text/html": [
       "<img src=\"http://pbs.twimg.com/media/D1-6DXVWoAYE8iN.jpg\" width=\"30%\"/>"
      ],
      "text/plain": [
       "<IPython.core.display.HTML object>"
      ]
     },
     "metadata": {},
     "output_type": "display_data"
    },
    {
     "data": {
      "text/html": [
       "<img src=\"http://pbs.twimg.com/media/D1-qNtVWkAAboV3.jpg\" width=\"30%\"/>"
      ],
      "text/plain": [
       "<IPython.core.display.HTML object>"
      ]
     },
     "metadata": {},
     "output_type": "display_data"
    }
   ],
   "source": [
    "from IPython.display import HTML, display\n",
    "for tweet in tweets:\n",
    "    if 'media' in tweet.entities:\n",
    "        for image in  tweet.entities['media']:\n",
    "            url = image['media_url']\n",
    "            display(HTML('<img src=\"'+url+'\" width=\"30%\"/>'))"
   ]
  },
  {
   "cell_type": "markdown",
   "metadata": {
    "slideshow": {
     "slide_type": "subslide"
    }
   },
   "source": [
    "We can also get user information..."
   ]
  },
  {
   "cell_type": "code",
   "execution_count": 11,
   "metadata": {
    "scrolled": true,
    "slideshow": {
     "slide_type": "fragment"
    }
   },
   "outputs": [
    {
     "data": {
      "text/plain": [
       "{'contributors_enabled': False,\n",
       " 'created_at': 'Sat May 23 15:09:05 +0000 2009',\n",
       " 'default_profile': False,\n",
       " 'default_profile_image': False,\n",
       " 'description': 'welcome to the inner workings of my mind. ♒️🌈',\n",
       " 'entities': {'description': {'urls': []}},\n",
       " 'favourites_count': 73156,\n",
       " 'follow_request_sent': False,\n",
       " 'followers_count': 1850,\n",
       " 'following': False,\n",
       " 'friends_count': 1142,\n",
       " 'geo_enabled': True,\n",
       " 'has_extended_profile': True,\n",
       " 'id': 42040603,\n",
       " 'id_str': '42040603',\n",
       " 'is_translation_enabled': False,\n",
       " 'is_translator': False,\n",
       " 'lang': 'en',\n",
       " 'listed_count': 23,\n",
       " 'location': 'Maryland, USA',\n",
       " 'name': 'køurtney. 👽',\n",
       " 'notifications': False,\n",
       " 'profile_background_color': '2A044A',\n",
       " 'profile_background_image_url': 'http://abs.twimg.com/images/themes/theme1/bg.png',\n",
       " 'profile_background_image_url_https': 'https://abs.twimg.com/images/themes/theme1/bg.png',\n",
       " 'profile_background_tile': True,\n",
       " 'profile_banner_url': 'https://pbs.twimg.com/profile_banners/42040603/1546019339',\n",
       " 'profile_image_url': 'http://pbs.twimg.com/profile_images/1105643179594911744/02oXURJo_normal.jpg',\n",
       " 'profile_image_url_https': 'https://pbs.twimg.com/profile_images/1105643179594911744/02oXURJo_normal.jpg',\n",
       " 'profile_link_color': '0B2E59',\n",
       " 'profile_sidebar_border_color': 'FFFFFF',\n",
       " 'profile_sidebar_fill_color': '0D6759',\n",
       " 'profile_text_color': 'A0C55F',\n",
       " 'profile_use_background_image': True,\n",
       " 'protected': False,\n",
       " 'screen_name': 'kourtneyLA',\n",
       " 'statuses_count': 92947,\n",
       " 'time_zone': None,\n",
       " 'translator_type': 'none',\n",
       " 'url': None,\n",
       " 'utc_offset': None,\n",
       " 'verified': False}"
      ]
     },
     "execution_count": 11,
     "metadata": {},
     "output_type": "execute_result"
    }
   ],
   "source": [
    "first_tweet.user._json"
   ]
  },
  {
   "cell_type": "markdown",
   "metadata": {
    "slideshow": {
     "slide_type": "subslide"
    }
   },
   "source": [
    "And even more detail is available on each user by querying the API on the user"
   ]
  },
  {
   "cell_type": "code",
   "execution_count": 12,
   "metadata": {
    "scrolled": true,
    "slideshow": {
     "slide_type": "fragment"
    }
   },
   "outputs": [
    {
     "data": {
      "text/plain": [
       "{'contributors_enabled': False,\n",
       " 'created_at': 'Sat Nov 09 06:04:09 +0000 2013',\n",
       " 'default_profile': False,\n",
       " 'default_profile_image': False,\n",
       " 'description': 'Reflective Writing Analytics research. Exploring the boundary between the psychosocial and the computational.',\n",
       " 'entities': {'description': {'urls': []},\n",
       "  'url': {'urls': [{'display_url': 'andrewresearch.net',\n",
       "     'expanded_url': 'http://andrewresearch.net',\n",
       "     'indices': [0, 22],\n",
       "     'url': 'http://t.co/j7skruUtCy'}]}},\n",
       " 'favourites_count': 1693,\n",
       " 'follow_request_sent': False,\n",
       " 'followers_count': 317,\n",
       " 'following': False,\n",
       " 'friends_count': 105,\n",
       " 'geo_enabled': False,\n",
       " 'has_extended_profile': False,\n",
       " 'id': 2183696382,\n",
       " 'id_str': '2183696382',\n",
       " 'is_translation_enabled': False,\n",
       " 'is_translator': False,\n",
       " 'lang': 'en',\n",
       " 'listed_count': 61,\n",
       " 'location': 'Brisbane, Australia',\n",
       " 'name': 'Andrew Gibson',\n",
       " 'needs_phone_verification': False,\n",
       " 'notifications': False,\n",
       " 'profile_background_color': '000000',\n",
       " 'profile_background_image_url': 'http://abs.twimg.com/images/themes/theme1/bg.png',\n",
       " 'profile_background_image_url_https': 'https://abs.twimg.com/images/themes/theme1/bg.png',\n",
       " 'profile_background_tile': False,\n",
       " 'profile_banner_url': 'https://pbs.twimg.com/profile_banners/2183696382/1424743880',\n",
       " 'profile_image_url': 'http://pbs.twimg.com/profile_images/898721154080296960/XEp7TFpI_normal.jpg',\n",
       " 'profile_image_url_https': 'https://pbs.twimg.com/profile_images/898721154080296960/XEp7TFpI_normal.jpg',\n",
       " 'profile_link_color': 'ABB8C2',\n",
       " 'profile_location': None,\n",
       " 'profile_sidebar_border_color': '000000',\n",
       " 'profile_sidebar_fill_color': '000000',\n",
       " 'profile_text_color': '000000',\n",
       " 'profile_use_background_image': False,\n",
       " 'protected': False,\n",
       " 'screen_name': 'AndrewResearch',\n",
       " 'status': {'contributors': None,\n",
       "  'coordinates': None,\n",
       "  'created_at': 'Mon Mar 18 09:01:56 +0000 2019',\n",
       "  'entities': {'hashtags': [],\n",
       "   'symbols': [],\n",
       "   'urls': [],\n",
       "   'user_mentions': [{'id': 28838640,\n",
       "     'id_str': '28838640',\n",
       "     'indices': [0, 16],\n",
       "     'name': 'Ruth Crick',\n",
       "     'screen_name': 'ruthdeakincrick'},\n",
       "    {'id': 1851621,\n",
       "     'id_str': '1851621',\n",
       "     'indices': [90, 98],\n",
       "     'name': 'Aneesha Bakharia',\n",
       "     'screen_name': 'aneesha'}]},\n",
       "  'favorite_count': 0,\n",
       "  'favorited': False,\n",
       "  'geo': None,\n",
       "  'id': 1107567802603311104,\n",
       "  'id_str': '1107567802603311104',\n",
       "  'in_reply_to_screen_name': 'ruthdeakincrick',\n",
       "  'in_reply_to_status_id': 1107547515933601792,\n",
       "  'in_reply_to_status_id_str': '1107547515933601792',\n",
       "  'in_reply_to_user_id': 28838640,\n",
       "  'in_reply_to_user_id_str': '28838640',\n",
       "  'is_quote_status': False,\n",
       "  'lang': 'en',\n",
       "  'place': None,\n",
       "  'retweet_count': 0,\n",
       "  'retweeted': False,\n",
       "  'source': '<a href=\"http://twitter.com/download/iphone\" rel=\"nofollow\">Twitter for iPhone</a>',\n",
       "  'text': '@ruthdeakincrick I know some people at UQ but not aware of anyone wanting to use Clara -  @aneesha may know',\n",
       "  'truncated': False},\n",
       " 'statuses_count': 1916,\n",
       " 'suspended': False,\n",
       " 'time_zone': None,\n",
       " 'translator_type': 'none',\n",
       " 'url': 'http://t.co/j7skruUtCy',\n",
       " 'utc_offset': None,\n",
       " 'verified': False}"
      ]
     },
     "execution_count": 12,
     "metadata": {},
     "output_type": "execute_result"
    }
   ],
   "source": [
    "api.get_user('andrewresearch')._json"
   ]
  },
  {
   "cell_type": "markdown",
   "metadata": {
    "slideshow": {
     "slide_type": "subslide"
    }
   },
   "source": [
    "**DISCUSSION**\n",
    "* What is it that is different about social media data like twitter?\n",
    "* What other kinds of data sources produce this type of data?\n",
    "* How is this significant for business?"
   ]
  },
  {
   "cell_type": "markdown",
   "metadata": {
    "slideshow": {
     "slide_type": "subslide"
    }
   },
   "source": [
    "#### Accessing Streaming Data\n",
    "\n",
    "We need to be able to apply a function to each element of the stream"
   ]
  },
  {
   "cell_type": "code",
   "execution_count": 13,
   "metadata": {
    "slideshow": {
     "slide_type": "fragment"
    }
   },
   "outputs": [],
   "source": [
    "class MyStreamListener(tweepy.StreamListener):\n",
    "    def on_status(self, status):\n",
    "        print(status.text)\n",
    "        if 'media' in status.entities:\n",
    "            for image in  status.entities['media']:\n",
    "                url = image['media_url']\n",
    "                display(HTML('<img src=\"'+url+'\" width=\"30%\"/>'))"
   ]
  },
  {
   "cell_type": "code",
   "execution_count": 14,
   "metadata": {
    "scrolled": true,
    "slideshow": {
     "slide_type": "subslide"
    }
   },
   "outputs": [
    {
     "name": "stdout",
     "output_type": "stream",
     "text": [
      "RT @elpais_america: Familiares y representantes de la comunidad musulmana piden que se acelere la entrega de los cuerpos de las 50 víctimas…\n",
      "RT @RobbieShilliam: These are not random maori. Nor a \"biker gang\". They are Mangu Kaha - the Black Power. There is a specific history whic…\n",
      "RT @nowthisnews: ‘You are us…so we feel deeply in our hearts what has happened to you.' — New Zealand’s Prime Minister Jacinda Ardern wore…\n",
      "RT @AJEnglish: “I am a proud Muslim, and a leader in the New Zealand police.”\n",
      "\n",
      "New Zealand's highest-ranking Muslim police officer gives an…\n",
      "RT @nzherald: 'Egg Boy' to donate money raised for him towards victims of Christchurch terror attack https://t.co/PkI6Pjv63d\n",
      "Daar hoor je #fritswester niet over. Nee, de gelegenheid gretig aangrijpen om #Baudet een vunzige veeg uit de pan t… https://t.co/98ZclCfPWj\n",
      "RT @dwnews: Students in New Zealand have been paying their respects to the victims of #Christchurch by performing the haka, a Maori ceremon…\n",
      "RT @tressiemcphd: I may not speak the culture but I know when people are sending your bad spirits back to where they came from. amen. https…\n",
      "RT @shannonrwatts: Some gun owners in New Zealand are already voluntarily turning in their semiautomatic rifles after the mass shooting in…\n",
      "RT @_SJPeace_: My heart 😭\n",
      "\n",
      "Students gather in respect of The Azaan (Muslim call to prayer) at Canterbury Christchurch University standing i…\n",
      "RT @nzherald: 'Egg Boy' to donate money raised for him towards victims of Christchurch terror attack https://t.co/PkI6Pjv63d\n",
      "RT @L_R_Schumacher: I'm so sick of how often we have to hear from stupid people like Milo. He literally knows like almost nothing because h…\n",
      "RT @LeighStewy: 🇨🇦Hey Canada: \n",
      "\n",
      "Our Prime Minister just quoted the Quaran....\n",
      "\n",
      "When was the last time you heard Trudeau quote the bible whe…\n",
      "RT @FLOTUS: My deepest condolences to the families who lost loved ones in the horrific shooting in Christchurch, New Zealand. We pray &amp; gri…\n",
      "RT @hadi_nor: \"KAWAN KAMI MENUNGGUNYA DI PENJARA...\" \n",
      "\n",
      "CHRISTCHURCH: Geng bermotosikal paling berbahaya di New Zealand, Mongrel Mob mengeca…\n",
      "RT @Jan__Fran: When a terrorist is brown its ‘us vs them.’ When they’re white, it’s just us! No them.  So we must humanise the killer if we…\n",
      "RT @KetanJ0: Here's @TwitterAU saying a tweet calling for \"a Christchurch shooting every day\" not breaching their rules. https://t.co/fi0mb…\n",
      "RT @BBCWorld: \"Losing my best friend in the New Zealand attack\"\n",
      "\n",
      "Students have been holding vigils in Christchurch in memory of those who l…\n",
      "RT @KTHopkins: I have not heard of a single mosque being closed in solidarity with these Christians being cleansed from their land by Musli…\n",
      "RT @AviKaner: Translation from Holland - \"Disgusting! During the commemoration #Christchurch, anti-Israel protesters (Including Aoife Duign…\n",
      "RT @nowthisnews: ‘You are us…so we feel deeply in our hearts what has happened to you.' — New Zealand’s Prime Minister Jacinda Ardern wore…\n",
      "RT @Partisangirl: One of the main differences between the far right, and the conservative right, is a staunch position on Zionism.\n",
      "\n",
      "The far…\n",
      "RT @asrulmm: TERKINI: Penduduk Wellington tak mengira bangsa dan agama berkumpul untuk menyatakan solidariti terhadap para Muslim yang terk…\n",
      "RT @KhaledBeydoun: Ansi Karippakulam Alibava, 25, has not been seen since Friday.  \n",
      "\n",
      "Alibava, a 25-year-old woman originally from India, ca…\n",
      "RT @Are_nipt: Daripada secebis kebencian pengganas terhadap Islam, Tuhan tunjukkan selautan manusia yang cintakan kedamaian. Peace &gt; Hatred…\n",
      "RT @annafarhana_F: Yes true.. My husband become one of the volunteer at the mosque in Hamilton as he said after the attack at Christchurch,…\n",
      "RT @BelievingBeings: This is how we need to describe the attack on Muslims in New Zealand Mosques\n",
      "\n",
      "May Allah have mercy on these victims\n",
      "\n",
      "#…\n",
      "She said, “I was one of the few in that chamber who has lived through terrorism &amp; the impact, up in the Bali bombin… https://t.co/hYFhouH0Hm\n",
      "RT @MomentsAU: Australia’s prime minister and the UK’s home secretary have strongly condemned an Australian senator’s comments on the Chris…\n",
      "RT @nzherald: 'Egg Boy' to donate money raised for him towards victims of Christchurch terror attack https://t.co/PkI6Pjv63d\n",
      "RT @nowthisnews: ‘You are us…so we feel deeply in our hearts what has happened to you.' — New Zealand’s Prime Minister Jacinda Ardern wore…\n",
      "RT @winstonCovfefe: From Madrid to London to Bombay; \n",
      "From Quebec City to San Bernardino to Christchurch;\n",
      "There is one common name: Islam\n",
      "&amp;…\n",
      "RT @gemma_chan: A good egg. #eggboy https://t.co/Zcx7W5mwuC\n",
      "@HowlingWolven 20 in the Philippines, 13 in Pakistan and 60+ in Nigeria the same day as the ChristChurch one...\n",
      "RT @yoitsnajma2: Ilahayow uu naxariiso a beautiful soul so young hope you are one of the children of jannah inshallah 💚 https://t.co/emOVm7…\n",
      "RT @nzherald: 'Egg Boy' to donate money raised for him towards victims of Christchurch terror attack https://t.co/PkI6Pjv63d\n",
      "RT @LadyElva_: @KHMarufAmin_ @jokowi \n",
      "#PrayForNewZealand https://t.co/WJm4z2qmu0\n",
      "RT @nialakhalil: “As a young Muslim woman, I had many crises of conscience working here.” says Rashna Farrukh after quitting @skynews post…\n",
      "RT @_SJPeace_: This Prime Minister also promised to  cover the funeral costs of the 51 Christchurch victims, She assured every family of th…\n",
      "RT @ABC: HAPPENING NOW: New Zealand government officials hold news conference on Christchurch terror attack. https://t.co/uTbueg4Wam https:…\n",
      "RT @lauraboldrini: #Sallusti pensa che l’omosessualità sia un problema e che se ci fosse stata una madre o una compagna a prendersi cura de…\n",
      "RT @earthma23: Students perform haka to pay tribute to classmates killed in Christchurch - video | World news | The Guardian  💔😓💜 https://t…\n",
      "RT @shannonrwatts: Some gun owners in New Zealand are already voluntarily turning in their semiautomatic rifles after the mass shooting in…\n",
      "RT @winning_race: Stoneman Douglas High School in PARKLAND connected to the CHRISTCHURCH Mosque?\n",
      "Anon notable!!\n",
      "@realDonaldTrump https://t.…\n",
      "RT @cheznadia: Un reportage de Mathieu Prost sur la responsabilité de Facebook dans la diffusion des contenus violents en direct, avec mes…\n",
      "RT @MCAOps: Adzan berkumandang di Canterbury Christchurch University, New Zealand sebagai bentuk solidaritas terhadap umat Muslim yang menj…\n",
      "RT @KhaledBeydoun: \"A Kind Soul\" | Lilik Abdul Hamid was known at the #ChristChurch for his kindness. \n",
      "\n",
      "The native of Indonesia was loved b…\n",
      "RT @KetanJ0: Here's @TwitterAU saying a tweet calling for \"a Christchurch shooting every day\" not breaching their rules. https://t.co/fi0mb…\n",
      "RT @yadavakhilesh: My deepest condolences to everyone who lost a loved one in the #Christchurch terror attack. My prayers are with my fello…\n",
      "RT @MCAOps: Adzan berkumandang di Canterbury Christchurch University, New Zealand sebagai bentuk solidaritas terhadap umat Muslim yang menj…\n",
      "RT @Qofficiel: 17 minutes : c’est la durée de la vidéo que Facebook a laissé diffuser de la tuerie de Christchurch en Nouvelle Zélande. En…\n",
      "RT @PatrickBuchanan: Who Spawned the Christchurch Killer? https://t.co/8y0yjdBijI\n",
      "Does the vision of America as a country where white racis…\n",
      "RT @KetanJ0: Here's @TwitterAU saying a tweet calling for \"a Christchurch shooting every day\" not breaching their rules. https://t.co/fi0mb…\n",
      "RT @Are_nipt: Daripada secebis kebencian pengganas terhadap Islam, Tuhan tunjukkan selautan manusia yang cintakan kedamaian. Peace &gt; Hatred…\n",
      "RT @OwenJones84: The most influential media mogul on earth holds all Muslims responsible for the \"jihadist cancer\". This is what legitimise…\n",
      "RT @Are_nipt: Daripada secebis kebencian pengganas terhadap Islam, Tuhan tunjukkan selautan manusia yang cintakan kedamaian. Peace &gt; Hatred…\n",
      "RT @BRKeogh: Eggboy is very good and important but also like this dude apparently literally stopped the massacre from continuing https://t.…\n",
      "What people do when their government isn’t owned by the gun lobby.\n",
      "RT @Jan__Fran: When a terrorist is brown its ‘us vs them.’ When they’re white, it’s just us! No them.  So we must humanise the killer if we…\n",
      "RT @esdepolitologos: #EsDePolitólogos \n",
      "\n",
      "#NewZealand 🇳🇿 #Christchurch \"Este es tu hogar y deberías haber estado a salvo aquí\". 🎨 Ilustración…\n",
      "RT @ZyroFoxtrot: Twitter Erupts After Fox News Host Jeanine Pirro Kicked Off Air After Attacking Ilhan Omar\n",
      "\n",
      "Even President Trump weighed i…\n"
     ]
    },
    {
     "name": "stdout",
     "output_type": "stream",
     "text": [
      "RT @petermansbridge: We are all New Zealand. https://t.co/8AHBnaYBCL\n",
      "RT @GaryRayBetz: \"Jacinda Ardern is showing the world what real leadership is: sympathy, love and integrity. New Zealand prime minister has…\n",
      "This made me cry. Amazing these kids honored their peers this way. 💕So sad.\n",
      "RT @na_hunny: What an incredibly gentle soul. I love this kid https://t.co/qSiM6WKvC4\n",
      "RT @shannonrwatts: Some gun owners in New Zealand are already voluntarily turning in their semiautomatic rifles after the mass shooting in…\n",
      "RT @_SJPeace_: My heart 😭\n",
      "\n",
      "Students gather in respect of The Azaan (Muslim call to prayer) at Canterbury Christchurch University standing i…\n",
      "RT @NewYorkPhotoGal: New Zealanders Voluntarily Surrender Guns After Christchurch Attack https://t.co/PtMc8B6Xif via @thedailybeast\n",
      "RT @nzherald: 'Egg Boy' to donate money raised for him towards victims of Christchurch terror attack https://t.co/PkI6Pjv63d\n",
      "RT @somalijawn: context: this kid egged this australian senator who supported the mass murder in christchurch and blamed muslims for causin…\n",
      "RT @DrOMD: 인종 차별 발언을 한 호주 상원의원을 향해 계란을 던진 \"계란소년\"이 법정싸움에 쓰라고 모아진 펀딩 머니의 대부분을 테러 희생자들을 위해서 기부한다고. 진짜 애가 낫다.👍\n",
      "\"'Egg Boy' will donate money rai…\n",
      "RT @ABC: Canadian Prime Minister Justin Trudeau condemns Christchurch attack, calls on world leaders to fight hatred and not \"let the lesso…\n",
      "RT @joshscampbell: Among a national leader’s most solemn duties are comforting the afflicted and working to heal divisions.\n",
      "\n",
      "New Zealand Pr…\n",
      "RT @PopCrave: Will Connolly, also known as \"Egg Boy\" for throwing an egg at an Australian Senator who blamed Muslims for the Christchurch a…\n",
      "RT @PopCrave: Will Connolly, also known as \"Egg Boy\" for throwing an egg at an Australian Senator who blamed Muslims for the Christchurch a…\n",
      "RT @_SJPeace_: This Prime Minister also promised to  cover the funeral costs of the 51 Christchurch victims, She assured every family of th…\n",
      "RT @zuraida_my: Terrorism has no colour, no religion and no country. \n",
      "\n",
      "Love drowns out the hate. https://t.co/ZwYsTGsCQL\n",
      "RT @h3h3productions: When it comes to mass shooters:\n",
      "\n",
      "-Don't share their name\n",
      "-Don't share their face\n",
      "-Don't share their writings\n",
      "-Don't sh…\n",
      "What a thing of beauty. The video is shot so close up, it’s hard to see how many students are doing this, but it lo… https://t.co/cm1JsioIWm\n",
      "RT @nzherald: Christchurch terror attack: It's time for tougher questions about Trump and hate groups https://t.co/kXbv7KhwXS\n",
      "RT @MG92_2: Wait a fucking minute: The organisers of the women's march were called up while kids who wanted to march for a better environme…\n",
      "RT @Redbaiternz: Christchurch shooter said his favourite country was China. He must be smiling in his jail cell as Western countries in the…\n",
      "RT @Lies_Breaker: 📌🇳🇿 [ VIDÉO ] Attentat de #Christchurch : la chef de la police Néo-Zélandaise fond en larmes en plein discours. \"Je suis…\n",
      "RT @vdare: \"As for Christchurch, unfortunately, such horrors appear to have become the new normal. But Brenton Tarrant alone is responsible…\n",
      "RT @winstonCovfefe: From Madrid to London to Bombay; \n",
      "From Quebec City to San Bernardino to Christchurch;\n",
      "There is one common name: Islam\n",
      "&amp;…\n",
      "RT @_SJPeace_: My heart 😭\n",
      "\n",
      "Students gather in respect of The Azaan (Muslim call to prayer) at Canterbury Christchurch University standing i…\n",
      "RT @MCAOps: Adzan berkumandang di Canterbury Christchurch University, New Zealand sebagai bentuk solidaritas terhadap umat Muslim yang menj…\n",
      "RT @OJessicaNigri: https://t.co/X8iezctAfz\n",
      "\n",
      "A link to help those involved in the recent horrific events in Christchurch \n",
      "\n",
      "Sending the love…\n",
      "RT @cbctom: Shocking and dangerous. Turkish President Regep Tayip Erdogan is showing the shooter's video of the New Zealand massacre at his…\n",
      "RT @na_hunny: What an incredibly gentle soul. I love this kid https://t.co/qSiM6WKvC4\n",
      "Some of our prominent pollies, which have been unusually quiet since the Christchurch massacre, are perhaps hoping… https://t.co/MTr8o0YQbb\n",
      "RT @weaintboyz: This man deserves to die I do not care. He’s a terrorist, absolute sick fuck https://t.co/IFRfsf3ayz\n",
      "RT @SBSNews: This small group of kids started an impromptu haka in tribute to two of their peers slain in the Christchurch shooting. Soon t…\n",
      "RT @BlakeDontCrack: They are part of an organization called Black Power, which was formed in 1970 to fight back against white supremacist o…\n",
      "RT @TalbertSwan: “Do you think white nationalism is a rising threat?”\n",
      "\n",
      "Trump: “I don’t really, I think it’s a very small group of people wi…\n",
      "Puluhan orang mati ditembak di Christchurch, NZ adalah tindakan Islamofobik. Tiap hari orang ditembak tentara Israe… https://t.co/R27wccQiTx\n",
      "RT @DrOMD: 인종 차별 발언을 한 호주 상원의원을 향해 계란을 던진 \"계란소년\"이 법정싸움에 쓰라고 모아진 펀딩 머니의 대부분을 테러 희생자들을 위해서 기부한다고. 진짜 애가 낫다.👍\n",
      "\"'Egg Boy' will donate money rai…\n",
      "RT @SchroederJHS: 뉴질랜드 총기사건 당시 테러리스트가 고프로로 총기 난사 하는거 찍은 영상 공유하면 14년까지 징역 먹을수 있다 당부하는 뉴질랜드 경찰 https://t.co/YKzxr6UsaQ\n",
      "RT @TonyHWindsor: It was common knowledge at the time because some Lib Ministers were disgusted with Morrison’s strategy suggestions ...@le…\n",
      "RT @nycsouthpaw: god damn hero https://t.co/MT39VLoZ6l\n",
      "RT @SantapanMinda: kenderaan yang diparkir di ruang belakang masjid Al-Noor Christchurch yang pemiliknya kini mungkin tidak akan kembali me…\n",
      "New Zealand PM Jacinda Ardern leans on Facebook to drop Christchurch shooting footage - World News - ABC News (Aust… https://t.co/EkiFFdLRts\n",
      "RT @TheJLV: The majesty of cross-cultural celebration in times of sorrow. These kids are more than alright. https://t.co/NOC303HEVf\n",
      "RT @keyzer_usual: Gloire à ce petit vaillant https://t.co/SLJCV9i1nK\n",
      ".@ScottMorrisonMP hey ScoBro are you going to the G20 to discuss the TV networks that rebroadcast the Christchurch… https://t.co/Ywi8AldHZd\n",
      "RT @nzherald: 'Egg Boy' to donate money raised for him towards victims of Christchurch terror attack https://t.co/PkI6Pjv63d\n",
      "RT @SangHeeFLee: 마오리 전통 의례 '하카'로 지난 주 뉴질랜드의 총격 참사에 스러진 동료 학생을 기리는 학생들을 보면서 분노, 슬픔, 미안함.  \n",
      "\n",
      "Students perform haka to pay tribute to classmat…\n",
      "RT @AndrewBoltsBlog: USING CHRISTCHURCH TO ATTACK AUSTRALIA, THE WEST AND \"WHITENESS\" #auspol\n",
      "\n",
      " Nick Riemer, a Sydney University academic w…\n",
      "RT @SBSNews: This small group of kids started an impromptu haka in tribute to two of their peers slain in the Christchurch shooting. Soon t…\n",
      "RT @KittyHollandIT: Good..the intolerable should not be tolerated: Australia bans Milo Yiannopoulos in wake of Christchurch massacre https:…\n",
      "RT @annafarhana_F: Yes true.. My husband become one of the volunteer at the mosque in Hamilton as he said after the attack at Christchurch,…\n",
      "RT @sunriseon7: “This terrorist manifesto almost reads like One Nation immigration and muslim policy. Do you feel complicit with this atroc…\n",
      "NZ paper saying second possible shooter in Christchurch was shot several time in a gunfight with NZPD 2 yet supposedly still in custody\n",
      "Daripada kau pikir pasal christchurch, baik kau tanya banyak mana kau solat. Kalau solat tak jaga, jangan berangan nak pertahankan islam.\n",
      "RT @SamHarrisOrg: My conversation with Nick Bostrom is now available on the podcast. \n",
      "\n",
      "I discuss the Christchurch atrocity in the intro:\n",
      "\n",
      "h…\n",
      "RT @asrulmm: Kumpulan Mongrel Mob menyatakan sokongan pada umat Islam di Masjid Al-Nour.\n",
      "\n",
      "Kumpulan Mangu Kaha mempersembahkan Haka untuk me…\n",
      "RT @MuslimIQ: The people of New Zealand continue to inspire me. \n",
      "\n",
      "An impromptu haka by a small group of Christchurch school kids to honor t…\n",
      "Death will come to you no matter where you are!\n",
      "RT @zuraida_my: Terrorism has no colour, no religion and no country. \n",
      "\n",
      "Love drowns out the hate. https://t.co/ZwYsTGsCQL\n",
      "RT @zuraida_my: Terrorism has no colour, no religion and no country. \n",
      "\n",
      "Love drowns out the hate. https://t.co/ZwYsTGsCQL\n",
      "New Zealand Prime Minister Jacinda Ardern has confirmed there will be an inquiry into the country's intelligence ag… https://t.co/9XdWH6iwBB\n",
      "RT @Advil: the Haka has always been one of my favorite traditions in the world. never thought i'd see it used in this context though. man..…\n",
      "RT @Rashidajourno: I used to walk past all the politicians in parliament who had used the chambers to demonise people like me everyday and…\n",
      "RT @7NewsSydney: Christchurch Terror: New Zealand Prime Minister @jacindaardern has visited a makeshift memorial at the Kilbirnie Mosque. #…\n"
     ]
    },
    {
     "name": "stdout",
     "output_type": "stream",
     "text": [
      "RT @joshscampbell: Among a national leader’s most solemn duties are comforting the afflicted and working to heal divisions.\n",
      "\n",
      "New Zealand Pr…\n",
      "RT @_SJPeace_: My heart 😭\n",
      "\n",
      "Students gather in respect of The Azaan (Muslim call to prayer) at Canterbury Christchurch University standing i…\n",
      "RT @ABC: Canadian Prime Minister Justin Trudeau condemns Christchurch attack, calls on world leaders to fight hatred and not \"let the lesso…\n",
      "RT @nowthisnews: ‘You are us…so we feel deeply in our hearts what has happened to you.' — New Zealand’s Prime Minister Jacinda Ardern wore…\n",
      "RT @BevanShields: Jacinda Ardern says she will never publicly say the name of the Christchurch terrorist - something Scott Morrison also vo…\n",
      "RT @tressiemcphd: I may not speak the culture but I know when people are sending your bad spirits back to where they came from. amen. https…\n",
      "RT @tressiemcphd: I may not speak the culture but I know when people are sending your bad spirits back to where they came from. amen. https…\n",
      "has any single major American white pol done this ever? they'd probably rather die\n",
      "RT @ABC: Canadian Prime Minister Justin Trudeau condemns Christchurch attack, calls on world leaders to fight hatred and not \"let the lesso…\n",
      "RT @PSRhone: terribles émotions lorsque des enfants énoncent les noms des victimes. Hommage aux musulmans assassinés  à  #Christchurch à #L…\n",
      "Veterans Today ///  Christchurch massacre https://t.co/WsKhDrQxyw https://t.co/u07PLUas3m\n"
     ]
    },
    {
     "data": {
      "text/html": [
       "<img src=\"http://pbs.twimg.com/media/D1_CILMU4AAQR0F.png\" width=\"30%\"/>"
      ],
      "text/plain": [
       "<IPython.core.display.HTML object>"
      ]
     },
     "metadata": {},
     "output_type": "display_data"
    },
    {
     "name": "stdout",
     "output_type": "stream",
     "text": [
      "RT @nzherald: Christchurch terror attack: Up to 14 years' jail for video sharers as Commissioner asks Facebook to give police names https:/…\n",
      "RT @KhaledBeydoun: Mucad Ibrahim, 3, was the youngest of the 50 victims.  \n",
      "\n",
      "This picture shows him for who he was. Mucad was “energetic, pl…\n",
      "RT @asrulmm: TERKINI: Penduduk Wellington tak mengira bangsa dan agama berkumpul untuk menyatakan solidariti terhadap para Muslim yang terk…\n",
      "RT @SharifulAiman: Adzan in University of Canterbury, Christchurch. #KiaKahaChristchurch https://t.co/gJnrEnFVkh\n"
     ]
    },
    {
     "data": {
      "text/html": [
       "<img src=\"http://pbs.twimg.com/ext_tw_video_thumb/1107497814404165634/pu/img/5Pd6TrNUzZo6-8Vn.jpg\" width=\"30%\"/>"
      ],
      "text/plain": [
       "<IPython.core.display.HTML object>"
      ]
     },
     "metadata": {},
     "output_type": "display_data"
    },
    {
     "name": "stdout",
     "output_type": "stream",
     "text": [
      "RT @AJEnglish: “I am a proud Muslim, and a leader in the New Zealand police.”\n",
      "\n",
      "New Zealand's highest-ranking Muslim police officer gives an…\n",
      "RT @MichaelSkolnik: HE HAS A NAME: 3-year-old Mucaad Ibrahim was murdered at the Al Noor Mosque in Christchurch, New Zealand on Friday, Mar…\n",
      "RT @NoTYOolympic: 卵少年ことegg boyへの法的な費用と更なる卵購入費用補助のためクラウドファンディングが立ち上がったが、本人は寄付金のほとんどをクライストチャーチの被害者へ寄付したいと\n",
      "\n",
      "'Egg Boy' to donate money raised f…\n",
      "RT @EmreUslu: Az önce Hollanda Televizyonunda konuşulan konu: “Bu bir karışık motivasyon ile ilgili, ama kesinlikle bir intikam türüne daya…\n",
      "It is time to sack the lot of these sad excuses as representatives of decent Australians. #auspol\n",
      "RT @GeorgeMNasif: A number of gun owners have voluntarily given up their semi-automatic rifles in the wake of the Christchurch terror attac…\n",
      "RT @MuslimIQ: The people of New Zealand continue to inspire me. \n",
      "\n",
      "An impromptu haka by a small group of Christchurch school kids to honor t…\n",
      "RT @soopteller: Retweeting this for the few who’ve yet to see this brilliant presentation. @theprojecttv \n",
      "Furious PM’s office threatens Ten…\n",
      "RT @khawlahabdollah: I wish the followers of #Jesus &amp; #Mary peace be upon them to read:\n",
      "-What does #Quran say about  \n",
      "them?!👓🌸\n",
      "❣️💌❣️|~| #Sh…\n",
      "RT @firstdogonmoon: what the actual fuck? christ this platform is violent racist garbage - we should all do a neil finn i reckon https://t.…\n",
      "RT @MSAatUGA: Thank you to everyone that came out tonight❤️ If you would like to donate, here is the link: https://t.co/SGr0Pebwkp\n",
      "@PrisonPlanet According to the new Christchurch syndrome, this means ALL Muslims are implicated in these attacks.\n",
      "RT @toadmeister: I was due to debate you tomorrow morning on @GMB Sophie and am sorry we won’t now have that opportunity. I was going to ma…\n",
      "RT @yashar: Don’t know how I feel about this. People should not post or share it and social media companies should remove it...but... https…\n",
      "RT @KhaledBeydoun: \"My Best Friend\" | \"I still don't know where he is.\"\n",
      "\n",
      "Mehaboobbhai Khokhur's wife Akhtar, 58, reported. They traveled fr…\n",
      "RT @hadi_nor: \"KAWAN KAMI MENUNGGUNYA DI PENJARA...\" \n",
      "\n",
      "CHRISTCHURCH: Geng bermotosikal paling berbahaya di New Zealand, Mongrel Mob mengeca…\n",
      "RT @nowthisnews: ‘You are us…so we feel deeply in our hearts what has happened to you.' — New Zealand’s Prime Minister Jacinda Ardern wore…\n",
      "RT @asrulmm: Kumpulan Mongrel Mob menyatakan sokongan pada umat Islam di Masjid Al-Nour.\n",
      "\n",
      "Kumpulan Mangu Kaha mempersembahkan Haka untuk me…\n",
      "RT @talkSPORTDrive: I wish every town and city had an @ByrneLan. He's the role model. Keep doing your thing Ian. https://t.co/OCnpxZCHpt\n",
      "RT @nzherald: 'Egg Boy' to donate money raised for him towards victims of Christchurch terror attack https://t.co/PkI6Pjv63d\n",
      "RT @kartik_chand: Nobody fucking asked https://t.co/w6RU3TP9Fu\n",
      "RT @winstonCovfefe: From Madrid to London to Bombay; \n",
      "From Quebec City to San Bernardino to Christchurch;\n",
      "There is one common name: Islam\n",
      "&amp;…\n",
      "RT @_SJPeace_: My heart 😭\n",
      "\n",
      "Students gather in respect of The Azaan (Muslim call to prayer) at Canterbury Christchurch University standing i…\n",
      "RT @_SJPeace_: My heart 😭\n",
      "\n",
      "Students gather in respect of The Azaan (Muslim call to prayer) at Canterbury Christchurch University standing i…\n",
      "RT @KokoLores20: Nach #Christchurch überschlugen sich deutsche Politiker mit Verurteilungen der Tat. \n",
      "Zu #Utrecht? Falscher Täter, ein Türk…\n",
      "RT @gmbutts: Very powerful and necessary message from PM @JustinTrudeau. Bravo. #Christchurch https://t.co/yCsBRYyUGo\n",
      "RT @hadi_nor: \"KAWAN KAMI MENUNGGUNYA DI PENJARA...\" \n",
      "\n",
      "CHRISTCHURCH: Geng bermotosikal paling berbahaya di New Zealand, Mongrel Mob mengeca…\n",
      "RT @antihateca: Peterborough neo-Nazi Kevin Goudreau is inciting violence towards us, anti-racists and media outlets in the aftermath of th…\n",
      "Can you believe this bald headed idiot giving it large and showing is total ignorance to the issues of Islam, virtu… https://t.co/71OqX6LvDn\n",
      "RT @ChrisMurphyCT: Stop what you're doing and take a minute to learn the names and read the stories of the 50 people killed in Christchurch…\n",
      "RT @shannonrwatts: Some gun owners in New Zealand are already voluntarily turning in their semiautomatic rifles after the mass shooting in…\n",
      "RT @TheMossadIL: In a completely antizionistnotantisemitic fashion, these #BDS activists turned their backs to the podium during a #Christc…\n",
      "RT @democracymum: According to reports the #Christchurch attacker (by his own account) was radicalised during a one-month period during his…\n",
      "RT @meakoopa: Reminder that @Twitter knows who the white supremacist accounts are and censors them in countries like Germany where hate spe…\n",
      "RT @SaRaAshcraft: Case and point. Thank you for playing @johnlegend. https://t.co/fv3zBfx7dc\n",
      "Social media scrambles to remove videos of New Zealand Christchurch mosque shooting https://t.co/DteQTqJMNq\n",
      "#USANews -  New Zealand officials hold news conference on Christchurch attack() - Video https://t.co/KtvLuLTnnG\n",
      "RT @KhaledBeydoun: \"The Gentle Soul\" | Mounir Suleiman, 68, converted to Islam many years ago.\n",
      "\n",
      "He migrated to New Zealand for a better lif…\n",
      "RT @nzherald: 'Egg Boy' to donate money raised for him towards victims of Christchurch terror attack https://t.co/PkI6Pjv63d\n",
      "RT @KarlUrban: Kia Ora \n",
      "I’m devastated by the cowardly atrocities that occurred in Christchurch , my heart hurts for all who lost loved one…\n",
      "RT @gemma_chan: A good egg. #eggboy https://t.co/Zcx7W5mwuC\n",
      "RT @GrogsGamut: Of course. \n",
      "\n",
      "Channel Seven says Pauline Hanson still welcome after Koch Christchurch accusation https://t.co/WpDN2epjof\n",
      "RT @CanadaBahai: In response to the attack on two mosques during Friday prayers in Christchurch, NZ, the National Spiritual Assembly of the…\n",
      "RT @nzherald: Christchurch terror attack: Up to 14 years' jail for video sharers as Commissioner asks Facebook to give police names https:/…\n",
      "RT @nzherald: 'Egg Boy' to donate money raised for him towards victims of Christchurch terror attack https://t.co/PkI6Pjv63d\n",
      "RT @DrOMD: 인종 차별 발언을 한 호주 상원의원을 향해 계란을 던진 \"계란소년\"이 법정싸움에 쓰라고 모아진 펀딩 머니의 대부분을 테러 희생자들을 위해서 기부한다고. 진짜 애가 낫다.👍\n",
      "\"'Egg Boy' will donate money rai…\n",
      "RT @AFP: Students in #NewZealand perform a traditional Maori haka in tribute to the victims of the Christchurch shootings outside one of th…\n",
      "RT @MichaelSkolnik: One day after the terrorist attack in Christchurch, the New Zealand government banned semi-automatic weapons. \n",
      "\n",
      "There h…\n",
      "RT @MuslimIQ: The people of New Zealand continue to inspire me. \n",
      "\n",
      "An impromptu haka by a small group of Christchurch school kids to honor t…\n",
      "RT @SantapanMinda: kenderaan yang diparkir di ruang belakang masjid Al-Noor Christchurch yang pemiliknya kini mungkin tidak akan kembali me…\n",
      "RT @BarbMcQuade: Leadership matters. Jacinda Ardern wins worldwide praise for her empathy in wake of Christchurch shootings - The Washingto…\n",
      "The forces behind hate &amp; violence, from Oklahoma City to Christchurch. #Christchurch https://t.co/Y504zsSNUR\n",
      "RT @ChrisMurphyCT: Stop what you're doing and take a minute to learn the names and read the stories of the 50 people killed in Christchurch…\n",
      "RT @albericie: A false equivalency has entered the Christchurch commentary- ALL white supremacists &amp; bigots believe people who don’t look o…\n",
      "RT @SBSNews: This small group of kids started an impromptu haka in tribute to two of their peers slain in the Christchurch shooting. Soon t…\n",
      "RT @Are_nipt: Daripada secebis kebencian pengganas terhadap Islam, Tuhan tunjukkan selautan manusia yang cintakan kedamaian. Peace &gt; Hatred…\n",
      "Attentat de Christchurch : le défi du traitement journalistique\n",
      "\n",
      "https://t.co/6nXbwOHMPA https://t.co/p3XhgG2yCZ\n"
     ]
    },
    {
     "data": {
      "text/html": [
       "<img src=\"http://pbs.twimg.com/media/D1_CJ3hWoAE7daR.jpg\" width=\"30%\"/>"
      ],
      "text/plain": [
       "<IPython.core.display.HTML object>"
      ]
     },
     "metadata": {},
     "output_type": "display_data"
    },
    {
     "name": "stdout",
     "output_type": "stream",
     "text": [
      "RT @vseoexperts: Governments Exploit Christchurch Tragedy to Enforce Censorship and Thought Policing https://t.co/D57IIVZ56D https://t.co/H…\n",
      "Interesting read about New Zealand's largely unknown history of extremism. Given the Christchurch tragedy, it's loo… https://t.co/PtPO0HUNHR\n",
      "RT @gongvoter: I condemn @SkyNewsAust for its constant and relentless pursuit to instil fear in the Australian public. This is bigot propag…\n",
      "RT @Harryslaststand: The way Theresa May handled the Grenfell Fire tragedy and the way Jacinda Ardern has handled the Christchurch terroris…\n",
      "@MariamVeiszadeh @FatherBob I social worked primarily with Muslim refugees the past 20yrs. We warned of the imminen… https://t.co/rI4A1HAUPl\n",
      "RT @_SJPeace_: My heart 😭\n",
      "\n",
      "Students gather in respect of The Azaan (Muslim call to prayer) at Canterbury Christchurch University standing i…\n",
      "RT @PatrickBuchanan: Who Spawned the Christchurch Killer? https://t.co/8y0yjdBijI\n",
      "Does the vision of America as a country where white racis…\n",
      "RT @BonsaiSky: just in case you needed another reason to move to New Zealand. https://t.co/0hT36n8ryY\n",
      "RT @elisahk92: Lamentable cette soumission https://t.co/ZgpfrbmqoO\n",
      "RT @CNN: At least 40 people have been killed and 20 seriously injured after gunmen opened fire in two mosques in the New Zealand city of Ch…\n",
      "Go and Donate to the victims of the #ChristchurchTerrorAttack. These people need the most help in this time of grie… https://t.co/G0UmbKWZ4w\n",
      "@passion_4truth 11/10/16 Remarks With New Zealand Foreign Minister Murray McCully Before Their Meeting;  Secretary… https://t.co/vSgLuYMD5v\n",
      "RT @Carly_Madsen: A powerful Haka has been performed in Surfers Paradise to pay tribute to the victims of the Christchurch Terror Attack. “…\n",
      "RT @ABC: Canadian Prime Minister Justin Trudeau condemns Christchurch attack, calls on world leaders to fight hatred and not \"let the lesso…\n",
      "RT @CNN: He fled to New Zealand to find refuge. He was shot and killed in his house of worship. \n",
      "\n",
      "As authorities begin to release informati…\n",
      "RT @SBSNews: This small group of kids started an impromptu haka in tribute to two of their peers slain in the Christchurch shooting. Soon t…\n",
      "RT @antihateca: Peterborough neo-Nazi Kevin Goudreau is inciting violence towards us, anti-racists and media outlets in the aftermath of th…\n",
      "RT @StormIsUponUs: This was the target of the Christchurch attack. [They] murder you to take down a web site that threatens them. #ThesePeo…\n",
      "RT @nowthisnews: ‘You are us…so we feel deeply in our hearts what has happened to you.' — New Zealand’s Prime Minister Jacinda Ardern wore…\n",
      "RT @9NewsAUS: The Prime Minister has forcefully argued that the immigration debate should not be hijacked by disputes about race following…\n",
      "RT @kcome: 方教授输出价值观了 https://t.co/zVjdAKIrSZ\n",
      "RT @asrulmm: Incredible. Simply incredible\n",
      "\n",
      "#Wellington #Christchurch https://t.co/PjxQ2X80jT\n"
     ]
    },
    {
     "data": {
      "text/html": [
       "<img src=\"http://pbs.twimg.com/media/D11rvPcU0AIeGay.jpg\" width=\"30%\"/>"
      ],
      "text/plain": [
       "<IPython.core.display.HTML object>"
      ]
     },
     "metadata": {},
     "output_type": "display_data"
    },
    {
     "name": "stdout",
     "output_type": "stream",
     "text": [
      "RT @SantapanMinda: kenderaan yang diparkir di ruang belakang masjid Al-Noor Christchurch yang pemiliknya kini mungkin tidak akan kembali me…\n",
      "RT @_SJPeace_: My heart 😭\n",
      "\n",
      "Students gather in respect of The Azaan (Muslim call to prayer) at Canterbury Christchurch University standing i…\n",
      "abcnews: 'No place safer than China': Is Beijing using the Christchurch shootings as a political opportunity? https://t.co/Dct3aaVmex\n",
      "RT @KetanJ0: Here's @TwitterAU saying a tweet calling for \"a Christchurch shooting every day\" not breaching their rules. https://t.co/fi0mb…\n",
      "RT @ava: “They are mothers, fathers, grandparents, daughters and sons. They are refugees, immigrants and New-Zealand born. They are Kiwis.…\n",
      "RT @OuestFrance: Attentat de Christchurch. « Oeil pour œil» : le dérapage de la conseillère régionale Catherine Blein  https://t.co/mQI61yj…\n",
      "RT @KastroKefi: I don’t even wanna see the media call this man ‘Mentally ill’, he’s a terrorist. Idc https://t.co/m5FiwY6qVF\n",
      "RT @Qofficiel: 17 minutes : c’est la durée de la vidéo que Facebook a laissé diffuser de la tuerie de Christchurch en Nouvelle Zélande. En…\n",
      "RT @JoshButler: Anning: the real cause of the shooting was immigration \n",
      "\n",
      "Greens: hey maybe we should tone it down with all the racism\n",
      "\n",
      "Dutt…\n",
      "RT @gemma_chan: A good egg. #eggboy https://t.co/Zcx7W5mwuC\n",
      "RT @_SJPeace_: My heart 😭\n",
      "\n",
      "Students gather in respect of The Azaan (Muslim call to prayer) at Canterbury Christchurch University standing i…\n",
      "RT @_SJPeace_: My heart 😭\n",
      "\n",
      "Students gather in respect of The Azaan (Muslim call to prayer) at Canterbury Christchurch University standing i…\n",
      "RT @hadi_nor: \"KAWAN KAMI MENUNGGUNYA DI PENJARA...\" \n",
      "\n",
      "CHRISTCHURCH: Geng bermotosikal paling berbahaya di New Zealand, Mongrel Mob mengeca…\n"
     ]
    },
    {
     "ename": "KeyboardInterrupt",
     "evalue": "",
     "output_type": "error",
     "traceback": [
      "\u001b[0;31m---------------------------------------------------------------------------\u001b[0m",
      "\u001b[0;31mWantReadError\u001b[0m                             Traceback (most recent call last)",
      "\u001b[0;32m/usr/local/lib/python3.5/dist-packages/urllib3/contrib/pyopenssl.py\u001b[0m in \u001b[0;36mrecv_into\u001b[0;34m(self, *args, **kwargs)\u001b[0m\n\u001b[1;32m    293\u001b[0m         \u001b[0;32mtry\u001b[0m\u001b[0;34m:\u001b[0m\u001b[0;34m\u001b[0m\u001b[0m\n\u001b[0;32m--> 294\u001b[0;31m             \u001b[0;32mreturn\u001b[0m \u001b[0mself\u001b[0m\u001b[0;34m.\u001b[0m\u001b[0mconnection\u001b[0m\u001b[0;34m.\u001b[0m\u001b[0mrecv_into\u001b[0m\u001b[0;34m(\u001b[0m\u001b[0;34m*\u001b[0m\u001b[0margs\u001b[0m\u001b[0;34m,\u001b[0m \u001b[0;34m**\u001b[0m\u001b[0mkwargs\u001b[0m\u001b[0;34m)\u001b[0m\u001b[0;34m\u001b[0m\u001b[0m\n\u001b[0m\u001b[1;32m    295\u001b[0m         \u001b[0;32mexcept\u001b[0m \u001b[0mOpenSSL\u001b[0m\u001b[0;34m.\u001b[0m\u001b[0mSSL\u001b[0m\u001b[0;34m.\u001b[0m\u001b[0mSysCallError\u001b[0m \u001b[0;32mas\u001b[0m \u001b[0me\u001b[0m\u001b[0;34m:\u001b[0m\u001b[0;34m\u001b[0m\u001b[0m\n",
      "\u001b[0;32m/usr/local/lib/python3.5/dist-packages/OpenSSL/SSL.py\u001b[0m in \u001b[0;36mrecv_into\u001b[0;34m(self, buffer, nbytes, flags)\u001b[0m\n\u001b[1;32m   1821\u001b[0m             \u001b[0mresult\u001b[0m \u001b[0;34m=\u001b[0m \u001b[0m_lib\u001b[0m\u001b[0;34m.\u001b[0m\u001b[0mSSL_read\u001b[0m\u001b[0;34m(\u001b[0m\u001b[0mself\u001b[0m\u001b[0;34m.\u001b[0m\u001b[0m_ssl\u001b[0m\u001b[0;34m,\u001b[0m \u001b[0mbuf\u001b[0m\u001b[0;34m,\u001b[0m \u001b[0mnbytes\u001b[0m\u001b[0;34m)\u001b[0m\u001b[0;34m\u001b[0m\u001b[0m\n\u001b[0;32m-> 1822\u001b[0;31m         \u001b[0mself\u001b[0m\u001b[0;34m.\u001b[0m\u001b[0m_raise_ssl_error\u001b[0m\u001b[0;34m(\u001b[0m\u001b[0mself\u001b[0m\u001b[0;34m.\u001b[0m\u001b[0m_ssl\u001b[0m\u001b[0;34m,\u001b[0m \u001b[0mresult\u001b[0m\u001b[0;34m)\u001b[0m\u001b[0;34m\u001b[0m\u001b[0m\n\u001b[0m\u001b[1;32m   1823\u001b[0m \u001b[0;34m\u001b[0m\u001b[0m\n",
      "\u001b[0;32m/usr/local/lib/python3.5/dist-packages/OpenSSL/SSL.py\u001b[0m in \u001b[0;36m_raise_ssl_error\u001b[0;34m(self, ssl, result)\u001b[0m\n\u001b[1;32m   1621\u001b[0m         \u001b[0;32mif\u001b[0m \u001b[0merror\u001b[0m \u001b[0;34m==\u001b[0m \u001b[0m_lib\u001b[0m\u001b[0;34m.\u001b[0m\u001b[0mSSL_ERROR_WANT_READ\u001b[0m\u001b[0;34m:\u001b[0m\u001b[0;34m\u001b[0m\u001b[0m\n\u001b[0;32m-> 1622\u001b[0;31m             \u001b[0;32mraise\u001b[0m \u001b[0mWantReadError\u001b[0m\u001b[0;34m(\u001b[0m\u001b[0;34m)\u001b[0m\u001b[0;34m\u001b[0m\u001b[0m\n\u001b[0m\u001b[1;32m   1623\u001b[0m         \u001b[0;32melif\u001b[0m \u001b[0merror\u001b[0m \u001b[0;34m==\u001b[0m \u001b[0m_lib\u001b[0m\u001b[0;34m.\u001b[0m\u001b[0mSSL_ERROR_WANT_WRITE\u001b[0m\u001b[0;34m:\u001b[0m\u001b[0;34m\u001b[0m\u001b[0m\n",
      "\u001b[0;31mWantReadError\u001b[0m: ",
      "\nDuring handling of the above exception, another exception occurred:\n",
      "\u001b[0;31mKeyboardInterrupt\u001b[0m                         Traceback (most recent call last)",
      "\u001b[0;32m<ipython-input-14-56c726cfd9ed>\u001b[0m in \u001b[0;36m<module>\u001b[0;34m()\u001b[0m\n\u001b[1;32m      1\u001b[0m \u001b[0mmyStreamListener\u001b[0m \u001b[0;34m=\u001b[0m \u001b[0mMyStreamListener\u001b[0m\u001b[0;34m(\u001b[0m\u001b[0;34m)\u001b[0m\u001b[0;34m\u001b[0m\u001b[0m\n\u001b[1;32m      2\u001b[0m \u001b[0mmyStream\u001b[0m \u001b[0;34m=\u001b[0m \u001b[0mtweepy\u001b[0m\u001b[0;34m.\u001b[0m\u001b[0mStream\u001b[0m\u001b[0;34m(\u001b[0m\u001b[0mauth\u001b[0m \u001b[0;34m=\u001b[0m \u001b[0mapi\u001b[0m\u001b[0;34m.\u001b[0m\u001b[0mauth\u001b[0m\u001b[0;34m,\u001b[0m \u001b[0mlistener\u001b[0m\u001b[0;34m=\u001b[0m\u001b[0mmyStreamListener\u001b[0m\u001b[0;34m)\u001b[0m\u001b[0;34m\u001b[0m\u001b[0m\n\u001b[0;32m----> 3\u001b[0;31m \u001b[0mmyStream\u001b[0m\u001b[0;34m.\u001b[0m\u001b[0mfilter\u001b[0m\u001b[0;34m(\u001b[0m\u001b[0mtrack\u001b[0m\u001b[0;34m=\u001b[0m\u001b[0;34m[\u001b[0m\u001b[0;34m'christchurch'\u001b[0m\u001b[0;34m]\u001b[0m\u001b[0;34m)\u001b[0m\u001b[0;34m\u001b[0m\u001b[0m\n\u001b[0m",
      "\u001b[0;32m/usr/local/lib/python3.5/dist-packages/tweepy/streaming.py\u001b[0m in \u001b[0;36mfilter\u001b[0;34m(self, follow, track, is_async, locations, stall_warnings, languages, encoding, filter_level)\u001b[0m\n\u001b[1;32m    451\u001b[0m             \u001b[0mself\u001b[0m\u001b[0;34m.\u001b[0m\u001b[0mbody\u001b[0m\u001b[0;34m[\u001b[0m\u001b[0;34m'filter_level'\u001b[0m\u001b[0;34m]\u001b[0m \u001b[0;34m=\u001b[0m \u001b[0mfilter_level\u001b[0m\u001b[0;34m.\u001b[0m\u001b[0mencode\u001b[0m\u001b[0;34m(\u001b[0m\u001b[0mencoding\u001b[0m\u001b[0;34m)\u001b[0m\u001b[0;34m\u001b[0m\u001b[0m\n\u001b[1;32m    452\u001b[0m         \u001b[0mself\u001b[0m\u001b[0;34m.\u001b[0m\u001b[0msession\u001b[0m\u001b[0;34m.\u001b[0m\u001b[0mparams\u001b[0m \u001b[0;34m=\u001b[0m \u001b[0;34m{\u001b[0m\u001b[0;34m'delimited'\u001b[0m\u001b[0;34m:\u001b[0m \u001b[0;34m'length'\u001b[0m\u001b[0;34m}\u001b[0m\u001b[0;34m\u001b[0m\u001b[0m\n\u001b[0;32m--> 453\u001b[0;31m         \u001b[0mself\u001b[0m\u001b[0;34m.\u001b[0m\u001b[0m_start\u001b[0m\u001b[0;34m(\u001b[0m\u001b[0mis_async\u001b[0m\u001b[0;34m)\u001b[0m\u001b[0;34m\u001b[0m\u001b[0m\n\u001b[0m\u001b[1;32m    454\u001b[0m \u001b[0;34m\u001b[0m\u001b[0m\n\u001b[1;32m    455\u001b[0m     def sitestream(self, follow, stall_warnings=False,\n",
      "\u001b[0;32m/usr/local/lib/python3.5/dist-packages/tweepy/streaming.py\u001b[0m in \u001b[0;36m_start\u001b[0;34m(self, is_async)\u001b[0m\n\u001b[1;32m    366\u001b[0m             \u001b[0mself\u001b[0m\u001b[0;34m.\u001b[0m\u001b[0m_thread\u001b[0m\u001b[0;34m.\u001b[0m\u001b[0mstart\u001b[0m\u001b[0;34m(\u001b[0m\u001b[0;34m)\u001b[0m\u001b[0;34m\u001b[0m\u001b[0m\n\u001b[1;32m    367\u001b[0m         \u001b[0;32melse\u001b[0m\u001b[0;34m:\u001b[0m\u001b[0;34m\u001b[0m\u001b[0m\n\u001b[0;32m--> 368\u001b[0;31m             \u001b[0mself\u001b[0m\u001b[0;34m.\u001b[0m\u001b[0m_run\u001b[0m\u001b[0;34m(\u001b[0m\u001b[0;34m)\u001b[0m\u001b[0;34m\u001b[0m\u001b[0m\n\u001b[0m\u001b[1;32m    369\u001b[0m \u001b[0;34m\u001b[0m\u001b[0m\n\u001b[1;32m    370\u001b[0m     \u001b[0;32mdef\u001b[0m \u001b[0mon_closed\u001b[0m\u001b[0;34m(\u001b[0m\u001b[0mself\u001b[0m\u001b[0;34m,\u001b[0m \u001b[0mresp\u001b[0m\u001b[0;34m)\u001b[0m\u001b[0;34m:\u001b[0m\u001b[0;34m\u001b[0m\u001b[0m\n",
      "\u001b[0;32m/usr/local/lib/python3.5/dist-packages/tweepy/streaming.py\u001b[0m in \u001b[0;36m_run\u001b[0;34m(self)\u001b[0m\n\u001b[1;32m    267\u001b[0m                     \u001b[0mself\u001b[0m\u001b[0;34m.\u001b[0m\u001b[0msnooze_time\u001b[0m \u001b[0;34m=\u001b[0m \u001b[0mself\u001b[0m\u001b[0;34m.\u001b[0m\u001b[0msnooze_time_step\u001b[0m\u001b[0;34m\u001b[0m\u001b[0m\n\u001b[1;32m    268\u001b[0m                     \u001b[0mself\u001b[0m\u001b[0;34m.\u001b[0m\u001b[0mlistener\u001b[0m\u001b[0;34m.\u001b[0m\u001b[0mon_connect\u001b[0m\u001b[0;34m(\u001b[0m\u001b[0;34m)\u001b[0m\u001b[0;34m\u001b[0m\u001b[0m\n\u001b[0;32m--> 269\u001b[0;31m                     \u001b[0mself\u001b[0m\u001b[0;34m.\u001b[0m\u001b[0m_read_loop\u001b[0m\u001b[0;34m(\u001b[0m\u001b[0mresp\u001b[0m\u001b[0;34m)\u001b[0m\u001b[0;34m\u001b[0m\u001b[0m\n\u001b[0m\u001b[1;32m    270\u001b[0m             \u001b[0;32mexcept\u001b[0m \u001b[0;34m(\u001b[0m\u001b[0mTimeout\u001b[0m\u001b[0;34m,\u001b[0m \u001b[0mssl\u001b[0m\u001b[0;34m.\u001b[0m\u001b[0mSSLError\u001b[0m\u001b[0;34m)\u001b[0m \u001b[0;32mas\u001b[0m \u001b[0mexc\u001b[0m\u001b[0;34m:\u001b[0m\u001b[0;34m\u001b[0m\u001b[0m\n\u001b[1;32m    271\u001b[0m                 \u001b[0;31m# This is still necessary, as a SSLError can actually be\u001b[0m\u001b[0;34m\u001b[0m\u001b[0;34m\u001b[0m\u001b[0m\n",
      "\u001b[0;32m/usr/local/lib/python3.5/dist-packages/tweepy/streaming.py\u001b[0m in \u001b[0;36m_read_loop\u001b[0;34m(self, resp)\u001b[0m\n\u001b[1;32m    317\u001b[0m             \u001b[0mlength\u001b[0m \u001b[0;34m=\u001b[0m \u001b[0;36m0\u001b[0m\u001b[0;34m\u001b[0m\u001b[0m\n\u001b[1;32m    318\u001b[0m             \u001b[0;32mwhile\u001b[0m \u001b[0;32mnot\u001b[0m \u001b[0mresp\u001b[0m\u001b[0;34m.\u001b[0m\u001b[0mraw\u001b[0m\u001b[0;34m.\u001b[0m\u001b[0mclosed\u001b[0m\u001b[0;34m:\u001b[0m\u001b[0;34m\u001b[0m\u001b[0m\n\u001b[0;32m--> 319\u001b[0;31m                 \u001b[0mline\u001b[0m \u001b[0;34m=\u001b[0m \u001b[0mbuf\u001b[0m\u001b[0;34m.\u001b[0m\u001b[0mread_line\u001b[0m\u001b[0;34m(\u001b[0m\u001b[0;34m)\u001b[0m\u001b[0;34m\u001b[0m\u001b[0m\n\u001b[0m\u001b[1;32m    320\u001b[0m                 \u001b[0mstripped_line\u001b[0m \u001b[0;34m=\u001b[0m \u001b[0mline\u001b[0m\u001b[0;34m.\u001b[0m\u001b[0mstrip\u001b[0m\u001b[0;34m(\u001b[0m\u001b[0;34m)\u001b[0m \u001b[0;32mif\u001b[0m \u001b[0mline\u001b[0m \u001b[0;32melse\u001b[0m \u001b[0mline\u001b[0m \u001b[0;31m# line is sometimes None so we need to check here\u001b[0m\u001b[0;34m\u001b[0m\u001b[0m\n\u001b[1;32m    321\u001b[0m                 \u001b[0;32mif\u001b[0m \u001b[0;32mnot\u001b[0m \u001b[0mstripped_line\u001b[0m\u001b[0;34m:\u001b[0m\u001b[0;34m\u001b[0m\u001b[0m\n",
      "\u001b[0;32m/usr/local/lib/python3.5/dist-packages/tweepy/streaming.py\u001b[0m in \u001b[0;36mread_line\u001b[0;34m(self, sep)\u001b[0m\n\u001b[1;32m    179\u001b[0m             \u001b[0;32melse\u001b[0m\u001b[0;34m:\u001b[0m\u001b[0;34m\u001b[0m\u001b[0m\n\u001b[1;32m    180\u001b[0m                 \u001b[0mstart\u001b[0m \u001b[0;34m=\u001b[0m \u001b[0mlen\u001b[0m\u001b[0;34m(\u001b[0m\u001b[0mself\u001b[0m\u001b[0;34m.\u001b[0m\u001b[0m_buffer\u001b[0m\u001b[0;34m)\u001b[0m\u001b[0;34m\u001b[0m\u001b[0m\n\u001b[0;32m--> 181\u001b[0;31m             \u001b[0mself\u001b[0m\u001b[0;34m.\u001b[0m\u001b[0m_buffer\u001b[0m \u001b[0;34m+=\u001b[0m \u001b[0mself\u001b[0m\u001b[0;34m.\u001b[0m\u001b[0m_stream\u001b[0m\u001b[0;34m.\u001b[0m\u001b[0mread\u001b[0m\u001b[0;34m(\u001b[0m\u001b[0mself\u001b[0m\u001b[0;34m.\u001b[0m\u001b[0m_chunk_size\u001b[0m\u001b[0;34m)\u001b[0m\u001b[0;34m\u001b[0m\u001b[0m\n\u001b[0m\u001b[1;32m    182\u001b[0m         \u001b[0;32mreturn\u001b[0m \u001b[0msix\u001b[0m\u001b[0;34m.\u001b[0m\u001b[0mb\u001b[0m\u001b[0;34m(\u001b[0m\u001b[0;34m''\u001b[0m\u001b[0;34m)\u001b[0m\u001b[0;34m\u001b[0m\u001b[0m\n\u001b[1;32m    183\u001b[0m \u001b[0;34m\u001b[0m\u001b[0m\n",
      "\u001b[0;32m/usr/local/lib/python3.5/dist-packages/urllib3/response.py\u001b[0m in \u001b[0;36mread\u001b[0;34m(self, amt, decode_content, cache_content)\u001b[0m\n\u001b[1;32m    440\u001b[0m             \u001b[0;32melse\u001b[0m\u001b[0;34m:\u001b[0m\u001b[0;34m\u001b[0m\u001b[0m\n\u001b[1;32m    441\u001b[0m                 \u001b[0mcache_content\u001b[0m \u001b[0;34m=\u001b[0m \u001b[0;32mFalse\u001b[0m\u001b[0;34m\u001b[0m\u001b[0m\n\u001b[0;32m--> 442\u001b[0;31m                 \u001b[0mdata\u001b[0m \u001b[0;34m=\u001b[0m \u001b[0mself\u001b[0m\u001b[0;34m.\u001b[0m\u001b[0m_fp\u001b[0m\u001b[0;34m.\u001b[0m\u001b[0mread\u001b[0m\u001b[0;34m(\u001b[0m\u001b[0mamt\u001b[0m\u001b[0;34m)\u001b[0m\u001b[0;34m\u001b[0m\u001b[0m\n\u001b[0m\u001b[1;32m    443\u001b[0m                 \u001b[0;32mif\u001b[0m \u001b[0mamt\u001b[0m \u001b[0;34m!=\u001b[0m \u001b[0;36m0\u001b[0m \u001b[0;32mand\u001b[0m \u001b[0;32mnot\u001b[0m \u001b[0mdata\u001b[0m\u001b[0;34m:\u001b[0m  \u001b[0;31m# Platform-specific: Buggy versions of Python.\u001b[0m\u001b[0;34m\u001b[0m\u001b[0m\n\u001b[1;32m    444\u001b[0m                     \u001b[0;31m# Close the connection when no data is returned\u001b[0m\u001b[0;34m\u001b[0m\u001b[0;34m\u001b[0m\u001b[0m\n",
      "\u001b[0;32m/usr/lib/python3.5/http/client.py\u001b[0m in \u001b[0;36mread\u001b[0;34m(self, amt)\u001b[0m\n\u001b[1;32m    446\u001b[0m             \u001b[0;31m# Amount is given, implement using readinto\u001b[0m\u001b[0;34m\u001b[0m\u001b[0;34m\u001b[0m\u001b[0m\n\u001b[1;32m    447\u001b[0m             \u001b[0mb\u001b[0m \u001b[0;34m=\u001b[0m \u001b[0mbytearray\u001b[0m\u001b[0;34m(\u001b[0m\u001b[0mamt\u001b[0m\u001b[0;34m)\u001b[0m\u001b[0;34m\u001b[0m\u001b[0m\n\u001b[0;32m--> 448\u001b[0;31m             \u001b[0mn\u001b[0m \u001b[0;34m=\u001b[0m \u001b[0mself\u001b[0m\u001b[0;34m.\u001b[0m\u001b[0mreadinto\u001b[0m\u001b[0;34m(\u001b[0m\u001b[0mb\u001b[0m\u001b[0;34m)\u001b[0m\u001b[0;34m\u001b[0m\u001b[0m\n\u001b[0m\u001b[1;32m    449\u001b[0m             \u001b[0;32mreturn\u001b[0m \u001b[0mmemoryview\u001b[0m\u001b[0;34m(\u001b[0m\u001b[0mb\u001b[0m\u001b[0;34m)\u001b[0m\u001b[0;34m[\u001b[0m\u001b[0;34m:\u001b[0m\u001b[0mn\u001b[0m\u001b[0;34m]\u001b[0m\u001b[0;34m.\u001b[0m\u001b[0mtobytes\u001b[0m\u001b[0;34m(\u001b[0m\u001b[0;34m)\u001b[0m\u001b[0;34m\u001b[0m\u001b[0m\n\u001b[1;32m    450\u001b[0m         \u001b[0;32melse\u001b[0m\u001b[0;34m:\u001b[0m\u001b[0;34m\u001b[0m\u001b[0m\n",
      "\u001b[0;32m/usr/lib/python3.5/http/client.py\u001b[0m in \u001b[0;36mreadinto\u001b[0;34m(self, b)\u001b[0m\n\u001b[1;32m    476\u001b[0m \u001b[0;34m\u001b[0m\u001b[0m\n\u001b[1;32m    477\u001b[0m         \u001b[0;32mif\u001b[0m \u001b[0mself\u001b[0m\u001b[0;34m.\u001b[0m\u001b[0mchunked\u001b[0m\u001b[0;34m:\u001b[0m\u001b[0;34m\u001b[0m\u001b[0m\n\u001b[0;32m--> 478\u001b[0;31m             \u001b[0;32mreturn\u001b[0m \u001b[0mself\u001b[0m\u001b[0;34m.\u001b[0m\u001b[0m_readinto_chunked\u001b[0m\u001b[0;34m(\u001b[0m\u001b[0mb\u001b[0m\u001b[0;34m)\u001b[0m\u001b[0;34m\u001b[0m\u001b[0m\n\u001b[0m\u001b[1;32m    479\u001b[0m \u001b[0;34m\u001b[0m\u001b[0m\n\u001b[1;32m    480\u001b[0m         \u001b[0;32mif\u001b[0m \u001b[0mself\u001b[0m\u001b[0;34m.\u001b[0m\u001b[0mlength\u001b[0m \u001b[0;32mis\u001b[0m \u001b[0;32mnot\u001b[0m \u001b[0;32mNone\u001b[0m\u001b[0;34m:\u001b[0m\u001b[0;34m\u001b[0m\u001b[0m\n",
      "\u001b[0;32m/usr/lib/python3.5/http/client.py\u001b[0m in \u001b[0;36m_readinto_chunked\u001b[0;34m(self, b)\u001b[0m\n\u001b[1;32m    571\u001b[0m         \u001b[0;32mtry\u001b[0m\u001b[0;34m:\u001b[0m\u001b[0;34m\u001b[0m\u001b[0m\n\u001b[1;32m    572\u001b[0m             \u001b[0;32mwhile\u001b[0m \u001b[0;32mTrue\u001b[0m\u001b[0;34m:\u001b[0m\u001b[0;34m\u001b[0m\u001b[0m\n\u001b[0;32m--> 573\u001b[0;31m                 \u001b[0mchunk_left\u001b[0m \u001b[0;34m=\u001b[0m \u001b[0mself\u001b[0m\u001b[0;34m.\u001b[0m\u001b[0m_get_chunk_left\u001b[0m\u001b[0;34m(\u001b[0m\u001b[0;34m)\u001b[0m\u001b[0;34m\u001b[0m\u001b[0m\n\u001b[0m\u001b[1;32m    574\u001b[0m                 \u001b[0;32mif\u001b[0m \u001b[0mchunk_left\u001b[0m \u001b[0;32mis\u001b[0m \u001b[0;32mNone\u001b[0m\u001b[0;34m:\u001b[0m\u001b[0;34m\u001b[0m\u001b[0m\n\u001b[1;32m    575\u001b[0m                     \u001b[0;32mreturn\u001b[0m \u001b[0mtotal_bytes\u001b[0m\u001b[0;34m\u001b[0m\u001b[0m\n",
      "\u001b[0;32m/usr/lib/python3.5/http/client.py\u001b[0m in \u001b[0;36m_get_chunk_left\u001b[0;34m(self)\u001b[0m\n\u001b[1;32m    539\u001b[0m                 \u001b[0mself\u001b[0m\u001b[0;34m.\u001b[0m\u001b[0m_safe_read\u001b[0m\u001b[0;34m(\u001b[0m\u001b[0;36m2\u001b[0m\u001b[0;34m)\u001b[0m  \u001b[0;31m# toss the CRLF at the end of the chunk\u001b[0m\u001b[0;34m\u001b[0m\u001b[0m\n\u001b[1;32m    540\u001b[0m             \u001b[0;32mtry\u001b[0m\u001b[0;34m:\u001b[0m\u001b[0;34m\u001b[0m\u001b[0m\n\u001b[0;32m--> 541\u001b[0;31m                 \u001b[0mchunk_left\u001b[0m \u001b[0;34m=\u001b[0m \u001b[0mself\u001b[0m\u001b[0;34m.\u001b[0m\u001b[0m_read_next_chunk_size\u001b[0m\u001b[0;34m(\u001b[0m\u001b[0;34m)\u001b[0m\u001b[0;34m\u001b[0m\u001b[0m\n\u001b[0m\u001b[1;32m    542\u001b[0m             \u001b[0;32mexcept\u001b[0m \u001b[0mValueError\u001b[0m\u001b[0;34m:\u001b[0m\u001b[0;34m\u001b[0m\u001b[0m\n\u001b[1;32m    543\u001b[0m                 \u001b[0;32mraise\u001b[0m \u001b[0mIncompleteRead\u001b[0m\u001b[0;34m(\u001b[0m\u001b[0;34mb''\u001b[0m\u001b[0;34m)\u001b[0m\u001b[0;34m\u001b[0m\u001b[0m\n",
      "\u001b[0;32m/usr/lib/python3.5/http/client.py\u001b[0m in \u001b[0;36m_read_next_chunk_size\u001b[0;34m(self)\u001b[0m\n\u001b[1;32m    499\u001b[0m     \u001b[0;32mdef\u001b[0m \u001b[0m_read_next_chunk_size\u001b[0m\u001b[0;34m(\u001b[0m\u001b[0mself\u001b[0m\u001b[0;34m)\u001b[0m\u001b[0;34m:\u001b[0m\u001b[0;34m\u001b[0m\u001b[0m\n\u001b[1;32m    500\u001b[0m         \u001b[0;31m# Read the next chunk size from the file\u001b[0m\u001b[0;34m\u001b[0m\u001b[0;34m\u001b[0m\u001b[0m\n\u001b[0;32m--> 501\u001b[0;31m         \u001b[0mline\u001b[0m \u001b[0;34m=\u001b[0m \u001b[0mself\u001b[0m\u001b[0;34m.\u001b[0m\u001b[0mfp\u001b[0m\u001b[0;34m.\u001b[0m\u001b[0mreadline\u001b[0m\u001b[0;34m(\u001b[0m\u001b[0m_MAXLINE\u001b[0m \u001b[0;34m+\u001b[0m \u001b[0;36m1\u001b[0m\u001b[0;34m)\u001b[0m\u001b[0;34m\u001b[0m\u001b[0m\n\u001b[0m\u001b[1;32m    502\u001b[0m         \u001b[0;32mif\u001b[0m \u001b[0mlen\u001b[0m\u001b[0;34m(\u001b[0m\u001b[0mline\u001b[0m\u001b[0;34m)\u001b[0m \u001b[0;34m>\u001b[0m \u001b[0m_MAXLINE\u001b[0m\u001b[0;34m:\u001b[0m\u001b[0;34m\u001b[0m\u001b[0m\n\u001b[1;32m    503\u001b[0m             \u001b[0;32mraise\u001b[0m \u001b[0mLineTooLong\u001b[0m\u001b[0;34m(\u001b[0m\u001b[0;34m\"chunk size\"\u001b[0m\u001b[0;34m)\u001b[0m\u001b[0;34m\u001b[0m\u001b[0m\n",
      "\u001b[0;32m/usr/lib/python3.5/socket.py\u001b[0m in \u001b[0;36mreadinto\u001b[0;34m(self, b)\u001b[0m\n\u001b[1;32m    573\u001b[0m         \u001b[0;32mwhile\u001b[0m \u001b[0;32mTrue\u001b[0m\u001b[0;34m:\u001b[0m\u001b[0;34m\u001b[0m\u001b[0m\n\u001b[1;32m    574\u001b[0m             \u001b[0;32mtry\u001b[0m\u001b[0;34m:\u001b[0m\u001b[0;34m\u001b[0m\u001b[0m\n\u001b[0;32m--> 575\u001b[0;31m                 \u001b[0;32mreturn\u001b[0m \u001b[0mself\u001b[0m\u001b[0;34m.\u001b[0m\u001b[0m_sock\u001b[0m\u001b[0;34m.\u001b[0m\u001b[0mrecv_into\u001b[0m\u001b[0;34m(\u001b[0m\u001b[0mb\u001b[0m\u001b[0;34m)\u001b[0m\u001b[0;34m\u001b[0m\u001b[0m\n\u001b[0m\u001b[1;32m    576\u001b[0m             \u001b[0;32mexcept\u001b[0m \u001b[0mtimeout\u001b[0m\u001b[0;34m:\u001b[0m\u001b[0;34m\u001b[0m\u001b[0m\n\u001b[1;32m    577\u001b[0m                 \u001b[0mself\u001b[0m\u001b[0;34m.\u001b[0m\u001b[0m_timeout_occurred\u001b[0m \u001b[0;34m=\u001b[0m \u001b[0;32mTrue\u001b[0m\u001b[0;34m\u001b[0m\u001b[0m\n",
      "\u001b[0;32m/usr/local/lib/python3.5/dist-packages/urllib3/contrib/pyopenssl.py\u001b[0m in \u001b[0;36mrecv_into\u001b[0;34m(self, *args, **kwargs)\u001b[0m\n\u001b[1;32m    304\u001b[0m                 \u001b[0;32mraise\u001b[0m\u001b[0;34m\u001b[0m\u001b[0m\n\u001b[1;32m    305\u001b[0m         \u001b[0;32mexcept\u001b[0m \u001b[0mOpenSSL\u001b[0m\u001b[0;34m.\u001b[0m\u001b[0mSSL\u001b[0m\u001b[0;34m.\u001b[0m\u001b[0mWantReadError\u001b[0m\u001b[0;34m:\u001b[0m\u001b[0;34m\u001b[0m\u001b[0m\n\u001b[0;32m--> 306\u001b[0;31m             \u001b[0;32mif\u001b[0m \u001b[0;32mnot\u001b[0m \u001b[0mutil\u001b[0m\u001b[0;34m.\u001b[0m\u001b[0mwait_for_read\u001b[0m\u001b[0;34m(\u001b[0m\u001b[0mself\u001b[0m\u001b[0;34m.\u001b[0m\u001b[0msocket\u001b[0m\u001b[0;34m,\u001b[0m \u001b[0mself\u001b[0m\u001b[0;34m.\u001b[0m\u001b[0msocket\u001b[0m\u001b[0;34m.\u001b[0m\u001b[0mgettimeout\u001b[0m\u001b[0;34m(\u001b[0m\u001b[0;34m)\u001b[0m\u001b[0;34m)\u001b[0m\u001b[0;34m:\u001b[0m\u001b[0;34m\u001b[0m\u001b[0m\n\u001b[0m\u001b[1;32m    307\u001b[0m                 \u001b[0;32mraise\u001b[0m \u001b[0mtimeout\u001b[0m\u001b[0;34m(\u001b[0m\u001b[0;34m'The read operation timed out'\u001b[0m\u001b[0;34m)\u001b[0m\u001b[0;34m\u001b[0m\u001b[0m\n\u001b[1;32m    308\u001b[0m             \u001b[0;32melse\u001b[0m\u001b[0;34m:\u001b[0m\u001b[0;34m\u001b[0m\u001b[0m\n",
      "\u001b[0;32m/usr/local/lib/python3.5/dist-packages/urllib3/util/wait.py\u001b[0m in \u001b[0;36mwait_for_read\u001b[0;34m(sock, timeout)\u001b[0m\n\u001b[1;32m    141\u001b[0m     \u001b[0mReturns\u001b[0m \u001b[0;32mTrue\u001b[0m \u001b[0;32mif\u001b[0m \u001b[0mthe\u001b[0m \u001b[0msocket\u001b[0m \u001b[0;32mis\u001b[0m \u001b[0mreadable\u001b[0m\u001b[0;34m,\u001b[0m \u001b[0;32mor\u001b[0m \u001b[0;32mFalse\u001b[0m \u001b[0;32mif\u001b[0m \u001b[0mthe\u001b[0m \u001b[0mtimeout\u001b[0m \u001b[0mexpired\u001b[0m\u001b[0;34m.\u001b[0m\u001b[0;34m\u001b[0m\u001b[0m\n\u001b[1;32m    142\u001b[0m     \"\"\"\n\u001b[0;32m--> 143\u001b[0;31m     \u001b[0;32mreturn\u001b[0m \u001b[0mwait_for_socket\u001b[0m\u001b[0;34m(\u001b[0m\u001b[0msock\u001b[0m\u001b[0;34m,\u001b[0m \u001b[0mread\u001b[0m\u001b[0;34m=\u001b[0m\u001b[0;32mTrue\u001b[0m\u001b[0;34m,\u001b[0m \u001b[0mtimeout\u001b[0m\u001b[0;34m=\u001b[0m\u001b[0mtimeout\u001b[0m\u001b[0;34m)\u001b[0m\u001b[0;34m\u001b[0m\u001b[0m\n\u001b[0m\u001b[1;32m    144\u001b[0m \u001b[0;34m\u001b[0m\u001b[0m\n\u001b[1;32m    145\u001b[0m \u001b[0;34m\u001b[0m\u001b[0m\n",
      "\u001b[0;32m/usr/local/lib/python3.5/dist-packages/urllib3/util/wait.py\u001b[0m in \u001b[0;36mpoll_wait_for_socket\u001b[0;34m(sock, read, write, timeout)\u001b[0m\n\u001b[1;32m    102\u001b[0m         \u001b[0;32mreturn\u001b[0m \u001b[0mpoll_obj\u001b[0m\u001b[0;34m.\u001b[0m\u001b[0mpoll\u001b[0m\u001b[0;34m(\u001b[0m\u001b[0mt\u001b[0m\u001b[0;34m)\u001b[0m\u001b[0;34m\u001b[0m\u001b[0m\n\u001b[1;32m    103\u001b[0m \u001b[0;34m\u001b[0m\u001b[0m\n\u001b[0;32m--> 104\u001b[0;31m     \u001b[0;32mreturn\u001b[0m \u001b[0mbool\u001b[0m\u001b[0;34m(\u001b[0m\u001b[0m_retry_on_intr\u001b[0m\u001b[0;34m(\u001b[0m\u001b[0mdo_poll\u001b[0m\u001b[0;34m,\u001b[0m \u001b[0mtimeout\u001b[0m\u001b[0;34m)\u001b[0m\u001b[0;34m)\u001b[0m\u001b[0;34m\u001b[0m\u001b[0m\n\u001b[0m\u001b[1;32m    105\u001b[0m \u001b[0;34m\u001b[0m\u001b[0m\n\u001b[1;32m    106\u001b[0m \u001b[0;34m\u001b[0m\u001b[0m\n",
      "\u001b[0;32m/usr/local/lib/python3.5/dist-packages/urllib3/util/wait.py\u001b[0m in \u001b[0;36m_retry_on_intr\u001b[0;34m(fn, timeout)\u001b[0m\n\u001b[1;32m     40\u001b[0m     \u001b[0;31m# Modern Python, that retries syscalls by default\u001b[0m\u001b[0;34m\u001b[0m\u001b[0;34m\u001b[0m\u001b[0m\n\u001b[1;32m     41\u001b[0m     \u001b[0;32mdef\u001b[0m \u001b[0m_retry_on_intr\u001b[0m\u001b[0;34m(\u001b[0m\u001b[0mfn\u001b[0m\u001b[0;34m,\u001b[0m \u001b[0mtimeout\u001b[0m\u001b[0;34m)\u001b[0m\u001b[0;34m:\u001b[0m\u001b[0;34m\u001b[0m\u001b[0m\n\u001b[0;32m---> 42\u001b[0;31m         \u001b[0;32mreturn\u001b[0m \u001b[0mfn\u001b[0m\u001b[0;34m(\u001b[0m\u001b[0mtimeout\u001b[0m\u001b[0;34m)\u001b[0m\u001b[0;34m\u001b[0m\u001b[0m\n\u001b[0m\u001b[1;32m     43\u001b[0m \u001b[0;32melse\u001b[0m\u001b[0;34m:\u001b[0m\u001b[0;34m\u001b[0m\u001b[0m\n\u001b[1;32m     44\u001b[0m     \u001b[0;31m# Old and broken Pythons.\u001b[0m\u001b[0;34m\u001b[0m\u001b[0;34m\u001b[0m\u001b[0m\n",
      "\u001b[0;32m/usr/local/lib/python3.5/dist-packages/urllib3/util/wait.py\u001b[0m in \u001b[0;36mdo_poll\u001b[0;34m(t)\u001b[0m\n\u001b[1;32m    100\u001b[0m         \u001b[0;32mif\u001b[0m \u001b[0mt\u001b[0m \u001b[0;32mis\u001b[0m \u001b[0;32mnot\u001b[0m \u001b[0;32mNone\u001b[0m\u001b[0;34m:\u001b[0m\u001b[0;34m\u001b[0m\u001b[0m\n\u001b[1;32m    101\u001b[0m             \u001b[0mt\u001b[0m \u001b[0;34m*=\u001b[0m \u001b[0;36m1000\u001b[0m\u001b[0;34m\u001b[0m\u001b[0m\n\u001b[0;32m--> 102\u001b[0;31m         \u001b[0;32mreturn\u001b[0m \u001b[0mpoll_obj\u001b[0m\u001b[0;34m.\u001b[0m\u001b[0mpoll\u001b[0m\u001b[0;34m(\u001b[0m\u001b[0mt\u001b[0m\u001b[0;34m)\u001b[0m\u001b[0;34m\u001b[0m\u001b[0m\n\u001b[0m\u001b[1;32m    103\u001b[0m \u001b[0;34m\u001b[0m\u001b[0m\n\u001b[1;32m    104\u001b[0m     \u001b[0;32mreturn\u001b[0m \u001b[0mbool\u001b[0m\u001b[0;34m(\u001b[0m\u001b[0m_retry_on_intr\u001b[0m\u001b[0;34m(\u001b[0m\u001b[0mdo_poll\u001b[0m\u001b[0;34m,\u001b[0m \u001b[0mtimeout\u001b[0m\u001b[0;34m)\u001b[0m\u001b[0;34m)\u001b[0m\u001b[0;34m\u001b[0m\u001b[0m\n",
      "\u001b[0;31mKeyboardInterrupt\u001b[0m: "
     ]
    }
   ],
   "source": [
    "myStreamListener = MyStreamListener()\n",
    "myStream = tweepy.Stream(auth = api.auth, listener=myStreamListener)\n",
    "myStream.filter(track=['christchurch'])"
   ]
  },
  {
   "cell_type": "markdown",
   "metadata": {
    "slideshow": {
     "slide_type": "slide"
    }
   },
   "source": [
    "### [3] Accessing twitter - app setup\n",
    "\n",
    "1. Ensure you have a twitter account, and login.\n",
    "2. Go to the apps page: https://apps.twitter.com\n",
    "3. Click *“Create New App”*\n",
    "4. Fill in the details\n",
    "5. Click *“Create your Twitter application”* and you should see the following page. You will need to copy the consumer key and consumer secret from this page into your Jupyter notebook.\n",
    "6. You will also need an access token and access secret. Click *“Create my access token”* and then copy the token and secret into your notebook."
   ]
  }
 ],
 "metadata": {
  "celltoolbar": "Slideshow",
  "kernelspec": {
   "display_name": "Python 3",
   "language": "python",
   "name": "python3"
  },
  "language_info": {
   "codemirror_mode": {
    "name": "ipython",
    "version": 3
   },
   "file_extension": ".py",
   "mimetype": "text/x-python",
   "name": "python",
   "nbconvert_exporter": "python",
   "pygments_lexer": "ipython3",
   "version": "3.5.2"
  }
 },
 "nbformat": 4,
 "nbformat_minor": 2
}
