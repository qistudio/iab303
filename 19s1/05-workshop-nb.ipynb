{
 "cells": [
  {
   "cell_type": "markdown",
   "metadata": {
    "slideshow": {
     "slide_type": "skip"
    }
   },
   "source": [
    "<div class=\"alert alert-block alert-info\"><b>IAB303</b> - Data Analytics for Business Insight</div>"
   ]
  },
  {
   "cell_type": "markdown",
   "metadata": {
    "slideshow": {
     "slide_type": "slide"
    }
   },
   "source": [
    "## Week 05 Workshop :: Scraping the web for market information\n",
    "\n",
    "1. Assessment 2 - Data Analytics Notebook\n",
    "2. Market information - digital camera case\n",
    "3. Exploring the DOM\n"
   ]
  },
  {
   "cell_type": "markdown",
   "metadata": {},
   "source": [
    "### [1] Assessment 2 - Data Analytics Notebook\n",
    "\n",
    "Refer to the Assessment task sheet on blackboard"
   ]
  },
  {
   "cell_type": "markdown",
   "metadata": {},
   "source": [
    "\n",
    "### [2] CASE: Digital Camera\n",
    "\n",
    "> Steven Sasson invented the first self-contained digital camera at Eastman Kodak in 1975. It weighed 8 pounds (3.6 kg) and had only 100 × 100 resolution (0.01 megapixels). The image was recorded onto a cassette tape and this process took 23 seconds. His camera took images in black-and-white. It used a battery for power, so it was entirely self-contained.[3] As he set out on his design project, what he envisioned for the future was a camera without mechanical moving parts (although his device did have moving parts, such as the tape drive).[4]\n",
    ">\n",
    "> [Steven Sasson (Wikipedia)](https://en.wikipedia.org/wiki/Steven_Sasson)\n",
    "\n"
   ]
  },
  {
   "cell_type": "markdown",
   "metadata": {
    "slideshow": {
     "slide_type": "slide"
    }
   },
   "source": [
    "<img src=\"https://i1.wp.com/beloved-brands.com/wp-content/uploads/2012/11/kodak-bankruptcy-Internet-Disrupts.jpg\" width=\"60%\"/>\n",
    "\n",
    "[Beloved Brands](http://beloved-brands.com/tag/brand-failures/) - Attack yourself!"
   ]
  },
  {
   "cell_type": "markdown",
   "metadata": {
    "slideshow": {
     "slide_type": "slide"
    }
   },
   "source": [
    "* Founded in 1888 [Eastman Kodak](https://en.wikipedia.org/wiki/Kodak) filed for bankrupcy in 2012.\n",
    "\n",
    "* Kodak owned the patent for the [Electronic still camera](https://patents.google.com/patent/US4131919). \n",
    "\n",
    "\n",
    "* **Why the spectacular failure?**\n",
    "    * [You Press the Button. Kodak Used to do the Rest](https://www.technologyreview.com/s/426323/you-press-the-button-kodak-used-to-do-the-rest/)\n",
    "    * [The Last Kodak Moment (2012)](https://www.economist.com/node/21542796)"
   ]
  },
  {
   "cell_type": "markdown",
   "metadata": {},
   "source": [
    "### [3] Exploring the DOM\n",
    "\n",
    "- Web browser Developer Mode\n",
    "- What is DOM?\n",
    "- Finding data in the DOM\n",
    "- Extracting data from the DOM"
   ]
  },
  {
   "cell_type": "code",
   "execution_count": null,
   "metadata": {},
   "outputs": [],
   "source": []
  }
 ],
 "metadata": {
  "celltoolbar": "Slideshow",
  "kernelspec": {
   "display_name": "Python 3",
   "language": "python",
   "name": "python3"
  },
  "language_info": {
   "codemirror_mode": {
    "name": "ipython",
    "version": 3
   },
   "file_extension": ".py",
   "mimetype": "text/x-python",
   "name": "python",
   "nbconvert_exporter": "python",
   "pygments_lexer": "ipython3",
   "version": "3.6.7"
  }
 },
 "nbformat": 4,
 "nbformat_minor": 2
}
