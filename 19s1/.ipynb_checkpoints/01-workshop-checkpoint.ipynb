{
 "cells": [
  {
   "cell_type": "markdown",
   "metadata": {
    "slideshow": {
     "slide_type": "slide"
    }
   },
   "source": [
    "<div class=\"alert alert-block alert-info\"><b>IAB303</b> - Data Analytics for Business Insight</div>"
   ]
  },
  {
   "cell_type": "markdown",
   "metadata": {
    "slideshow": {
     "slide_type": "-"
    }
   },
   "source": [
    "## Workshop 01 :: Business Insight\n",
    "\n",
    "1. Introductions\n",
    "2. Unit Overview (from Blackboard)\n",
    "3. Additional resources (from Slack)\n",
    "4. Jupyter notebooks (with GitHub)\n",
    "5. Reflective Journal (with GoingOK)\n"
   ]
  },
  {
   "cell_type": "markdown",
   "metadata": {
    "slideshow": {
     "slide_type": "slide"
    }
   },
   "source": [
    "### Introductions "
   ]
  },
  {
   "cell_type": "markdown",
   "metadata": {
    "slideshow": {
     "slide_type": "subslide"
    }
   },
   "source": [
    "#### meet the team..."
   ]
  },
  {
   "cell_type": "markdown",
   "metadata": {
    "slideshow": {
     "slide_type": "fragment"
    }
   },
   "source": [
    "- Andrew Gibson (Lecturer, Unit Coorindator)\n",
    "- Catarina Moreira (Lecturer)\n",
    "- Malmi Amadoru (Tutor)\n",
    "- Shahram Dehdashti (Tutor)\n",
    "- Abdul Obeid (Tutor)\n",
    "- Nicole Robinson (Tutor)"
   ]
  },
  {
   "cell_type": "markdown",
   "metadata": {
    "slideshow": {
     "slide_type": "subslide"
    }
   },
   "source": [
    "#### meet your peers..."
   ]
  },
  {
   "cell_type": "markdown",
   "metadata": {
    "slideshow": {
     "slide_type": "fragment"
    }
   },
   "source": [
    "   - Your name?\n",
    "   - Which major?\n",
    "   - Just started, in the middle, nearly finished\n",
    "   - Why did you take the unit?\n",
    "   - What do you hope to get out of it?\n",
    "    "
   ]
  },
  {
   "cell_type": "markdown",
   "metadata": {
    "slideshow": {
     "slide_type": "slide"
    }
   },
   "source": [
    "### Unit Overview\n",
    "\n",
    "- Study Guide - download from Blackboard"
   ]
  },
  {
   "cell_type": "markdown",
   "metadata": {
    "slideshow": {
     "slide_type": "slide"
    }
   },
   "source": [
    "### Additional Resources\n",
    "\n",
    "- Connect to Slack Workspace - get link from Blackboard\n",
    "- Join the channel `#unit_info`\n",
    "- Join the channel appropriate to your lab session\n",
    "- Send direct message to your tutor with your slack username\n",
    "- Introduce yourself to your peers in your Lab channel"
   ]
  },
  {
   "cell_type": "markdown",
   "metadata": {
    "slideshow": {
     "slide_type": "slide"
    }
   },
   "source": [
    "### Jupyter Notebooks\n",
    "\n",
    "- Create a GitHub account (if you don't have one)\n",
    "- Send direct slack message to your tutor with your github username\n",
    "- Login to Jupyter - [http://jupyter.infosci-apps.qut.edu.au](http://jupyter.infosci-apps.qut.edu.au)\n",
    "- Download *this* notebook from the Slack `#unit_info` channel and upload to your Jupyter server\n",
    "- See it in action"
   ]
  },
  {
   "cell_type": "markdown",
   "metadata": {
    "slideshow": {
     "slide_type": "subslide"
    }
   },
   "source": [
    "#### The Analytics Cycle - Business Concern\n",
    "\n",
    "A problem or a question. For example: *Which courses are IAB303 students from?*"
   ]
  },
  {
   "cell_type": "markdown",
   "metadata": {
    "slideshow": {
     "slide_type": "subslide"
    }
   },
   "source": [
    "#### The Analytics Cycle - Data Selection"
   ]
  },
  {
   "cell_type": "code",
   "execution_count": null,
   "metadata": {
    "scrolled": true,
    "slideshow": {
     "slide_type": "fragment"
    }
   },
   "outputs": [],
   "source": [
    "# import a Python library for working with tabular data\n",
    "import pandas as pd\n",
    "\n",
    "# read our data into a dataframe variable (df)\n",
    "df = pd.read_csv('data/IAB303_info_190224.csv') \n",
    "\n",
    "# print out the column headings\n",
    "for heading in df.columns:\n",
    "    print(heading)"
   ]
  },
  {
   "cell_type": "markdown",
   "metadata": {
    "slideshow": {
     "slide_type": "subslide"
    }
   },
   "source": [
    "#### The Analytics Cycle - Data Analysis\n",
    "\n",
    "We can ask questions of this data like how many students are there?"
   ]
  },
  {
   "cell_type": "code",
   "execution_count": null,
   "metadata": {
    "slideshow": {
     "slide_type": "fragment"
    }
   },
   "outputs": [],
   "source": [
    "# The dimensional shape of the dataframe\n",
    "df.shape"
   ]
  },
  {
   "cell_type": "code",
   "execution_count": null,
   "metadata": {
    "slideshow": {
     "slide_type": "-"
    }
   },
   "outputs": [],
   "source": [
    "#We only want the number of rows\n",
    "df.shape[0]"
   ]
  },
  {
   "cell_type": "code",
   "execution_count": null,
   "metadata": {
    "slideshow": {
     "slide_type": "-"
    }
   },
   "outputs": [],
   "source": [
    "print(\"There are {} students represented in the data\".format(df.shape[0]))"
   ]
  },
  {
   "cell_type": "markdown",
   "metadata": {
    "slideshow": {
     "slide_type": "subslide"
    }
   },
   "source": [
    "OR our original question: Which courses are IAB303 students from?"
   ]
  },
  {
   "cell_type": "code",
   "execution_count": null,
   "metadata": {
    "slideshow": {
     "slide_type": "fragment"
    }
   },
   "outputs": [],
   "source": [
    "df.course.unique()"
   ]
  },
  {
   "cell_type": "markdown",
   "metadata": {
    "slideshow": {
     "slide_type": "subslide"
    }
   },
   "source": [
    "But perhaps what is more useful is to know how many students are from each course..."
   ]
  },
  {
   "cell_type": "code",
   "execution_count": null,
   "metadata": {
    "slideshow": {
     "slide_type": "fragment"
    }
   },
   "outputs": [],
   "source": [
    "courseNums = df.groupby('course')['stud_num'].count()\n",
    "courseNums"
   ]
  },
  {
   "cell_type": "markdown",
   "metadata": {
    "slideshow": {
     "slide_type": "subslide"
    }
   },
   "source": [
    "#### The Analytics Cycle - Data Visualisation"
   ]
  },
  {
   "cell_type": "code",
   "execution_count": null,
   "metadata": {
    "slideshow": {
     "slide_type": "fragment"
    }
   },
   "outputs": [],
   "source": [
    "import matplotlib.pyplot as plt\n",
    "courseNums.plot(kind=\"bar\")\n",
    "plt.show()"
   ]
  },
  {
   "cell_type": "markdown",
   "metadata": {
    "slideshow": {
     "slide_type": "subslide"
    }
   },
   "source": [
    "#### The Analytics Cycle - Business Insight\n",
    "\n",
    "To actually make this insightful for our 'business' we need to (a) make clear what the chart is, and (b) explain the course codes."
   ]
  },
  {
   "cell_type": "code",
   "execution_count": null,
   "metadata": {
    "slideshow": {
     "slide_type": "fragment"
    }
   },
   "outputs": [],
   "source": [
    "# set some important variables with the extra info\n",
    "chartTitle=\"Number of IAB303 students by course\"\n",
    "yaxisLabel=\"number of students\"\n",
    "courses = {\n",
    "    \"BS05\":\"Bachelor of Business\",\n",
    "    \"IN01\":\"Bachelor of IT\",\n",
    "    \"IX22\":\"Bachelor of Business/Bachelor of Information Technology\",\n",
    "    \"IX56\":\"Bachelor of Creative Industries/Bachelor of Information Technology\",\n",
    "    \"IX69\":\"Bachelor of Fine Arts (Interactive and Visual Design)/Bachelor of Information Technology\",\n",
    "    \"SE60\":\"Bachelor of Engineering (Honours)/Bachelor of Information Technology\",\n",
    "    \"ST01\":\"Bachelor of Science\",\n",
    "    \"U095\":\"University Exchange Year\"\n",
    "}\n",
    "\n",
    "print(\"IAB303 students are from {} courses\".format(len(courses)))"
   ]
  },
  {
   "cell_type": "code",
   "execution_count": null,
   "metadata": {
    "slideshow": {
     "slide_type": "subslide"
    }
   },
   "outputs": [],
   "source": [
    "courseNums.plot.bar(ax=plt.axes(title=chartTitle,ylabel = yaxisLabel))\n",
    "plt.show()\n",
    "for code,name in courses.items():\n",
    "    print(\"{} - {}\".format(code,name))"
   ]
  },
  {
   "cell_type": "markdown",
   "metadata": {
    "slideshow": {
     "slide_type": "slide"
    }
   },
   "source": [
    "### Reflective Journal\n",
    "\n",
    "- Create a GoingOK account - [http://goingok.infosci-apps.qut.edu.au](http://goingok.infosci-apps.qut.edu.au)\n",
    "- Download `Assessment 1 Task Sheet` and the `Study Guide` from blackboard\n",
    "- Upload these PDFs to your Jupyter server\n"
   ]
  },
  {
   "cell_type": "markdown",
   "metadata": {
    "slideshow": {
     "slide_type": "subslide"
    }
   },
   "source": [
    "#### Assessment 1 - Part A"
   ]
  },
  {
   "cell_type": "markdown",
   "metadata": {
    "slideshow": {
     "slide_type": "subslide"
    }
   },
   "source": [
    "#### GoingOK\n",
    "\n",
    "- Write your first reflection in GoingOK\n",
    "    - Your thoughts and feelings about the unit as introduced today\n",
    "    - Any difficulties that you experienced during the workshop\n",
    "    - What you hope to learn over the coming weeks"
   ]
  },
  {
   "cell_type": "markdown",
   "metadata": {
    "slideshow": {
     "slide_type": "slide"
    }
   },
   "source": [
    "### Coming up"
   ]
  },
  {
   "cell_type": "markdown",
   "metadata": {
    "slideshow": {
     "slide_type": "fragment"
    }
   },
   "source": [
    "- the lab sessions\n",
    "- home practice\n",
    "- preparing for next workshop"
   ]
  }
 ],
 "metadata": {
  "celltoolbar": "Slideshow",
  "kernelspec": {
   "display_name": "Python 3",
   "language": "python",
   "name": "python3"
  },
  "language_info": {
   "codemirror_mode": {
    "name": "ipython",
    "version": 3
   },
   "file_extension": ".py",
   "mimetype": "text/x-python",
   "name": "python",
   "nbconvert_exporter": "python",
   "pygments_lexer": "ipython3",
   "version": "3.6.7"
  }
 },
 "nbformat": 4,
 "nbformat_minor": 2
}
