{
 "cells": [
  {
   "cell_type": "markdown",
   "metadata": {},
   "source": [
    "# IAB303 - Data Analytics for Business Insight\n",
    "---"
   ]
  },
  {
   "cell_type": "markdown",
   "metadata": {},
   "source": [
    "**Welcome to IAB303.**\n",
    "\n",
    "You can easily copy the latest files to your Jupyter environment at any time by clicking the following link: \n",
    "\n",
    "#### [Get files from GitHub](https://jupyter-oncampus.qutanalytics.io/hub/user-redirect/git-pull?repo=https%3A%2F%2Fgithub.com%2Fqistudio%2Fiab303.git&urlpath=lab%2Ftree%2Fiab303%2F&branch=21s2)\n",
    "\n",
    "New files will be released each week, so you will need to click the link above to re-sync your environment with GitHub each week to get new files. If you mess up your environment and need to start from scratch, just rename your `iab303` folder to `iab303_old` (or something similar) and click the link above to get a fresh 21s2 folder."
   ]
  },
  {
   "cell_type": "markdown",
   "metadata": {},
   "source": [
    "### IMPORTANT - Backup your work\n",
    "\n",
    "This Jupyter environment is ***NOT*** backed up for you. Although this environment is very stable, it is not guaranteed, and it is good practice to back-up any digital work. Please ensure that you regularly back up your work by downloading the files you are working on to your local computer. You can download files by right-clicking on the file name and selecting `download` from the menu. Note, you do not need to back-up the original files obtained by clicking the `Get files` link above.\n",
    "\n",
    "**Backing your work is YOUR responsibility. Do it regularly, particularly when working on assignments**"
   ]
  },
  {
   "cell_type": "markdown",
   "metadata": {},
   "source": [
    "### Folder structure\n",
    "\n",
    "At the top level of your jupyter environment will be an `iab303` folder. Inside this folder will be another folder corresponding to this semester `21s2` and inside that folder is a `studios` and `tutorials` folders. All notebooks related to studio sessions and tutorials will be in these respective folders. When assignments are released, you will also see an `assignments` folder. The layout should look like this:\n",
    "\n",
    "```\n",
    "/\n",
    "|\n",
    "-- iab303\n",
    "    |\n",
    "    -- 20s1\n",
    "        |\n",
    "        -- studios\n",
    "        |\n",
    "        -- tutorials\n",
    "        |\n",
    "        -- assignments\n",
    "```\n",
    "You can put your files anywhere in your Jupyter environment, but be aware when you click the `Get files` link it will copy new files into the folder structure above. Note that it will not overwrite your files, or modified files."
   ]
  },
  {
   "cell_type": "code",
   "execution_count": null,
   "metadata": {},
   "outputs": [],
   "source": []
  }
 ],
 "metadata": {
  "kernelspec": {
   "display_name": "Python 3",
   "language": "python",
   "name": "python3"
  },
  "language_info": {
   "codemirror_mode": {
    "name": "ipython",
    "version": 3
   },
   "file_extension": ".py",
   "mimetype": "text/x-python",
   "name": "python",
   "nbconvert_exporter": "python",
   "pygments_lexer": "ipython3",
   "version": "3.7.6"
  }
 },
 "nbformat": 4,
 "nbformat_minor": 4
}
