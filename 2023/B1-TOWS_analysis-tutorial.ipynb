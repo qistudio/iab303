{
 "cells": [
  {
   "cell_type": "markdown",
   "metadata": {},
   "source": [
    "<div class=\"alert alert-block alert-info\"><b>IAB303</b> - Data Analytics for Business Insight</div>"
   ]
  },
  {
   "cell_type": "markdown",
   "metadata": {
    "slideshow": {
     "slide_type": "slide"
    }
   },
   "source": [
    "## Tutorial: Assessment of threats and opportunities"
   ]
  },
  {
   "cell_type": "markdown",
   "metadata": {
    "slideshow": {
     "slide_type": "slide"
    }
   },
   "source": [
    "### Case: FaceBook and Cambridge Analytica\n",
    "\n",
    "[Why Facebook's Data Scandal is a Big Deal](https://youtu.be/a3W1I2_B6GA)\n",
    "\n",
    "The data scientist's perspective...\n",
    "\n",
    "[Christopher Wylie - Cambridge Analytica Whistleblower](https://youtu.be/FXdYSQ6nu-M?si=dJ0YpfGP_ryOfkvY)"
   ]
  },
  {
   "cell_type": "markdown",
   "metadata": {
    "slideshow": {
     "slide_type": "slide"
    }
   },
   "source": [
    "### Market Threats\n",
    "\n",
    "> A market threat is an external challenge that may negatively impact your company's ability to meet its marketing and sales goals. \n",
    ">\n",
    "> [Possible Market Threats in a Marketing Plan](https://yourbusiness.azcentral.com/possible-market-threats-marketing-plan-6075.html)\n",
    "\n",
    "1. Economic change\n",
    "2. Competitive innovation\n",
    "3. Regulation\n",
    "4. Consumer perception"
   ]
  },
  {
   "cell_type": "markdown",
   "metadata": {
    "slideshow": {
     "slide_type": "slide"
    }
   },
   "source": [
    "### Porter's 5 forces\n",
    "\n",
    "[Porter's Five Forces (Strategic Management Insight)](https://www.strategicmanagementinsight.com/tools/porters-five-forces.html)"
   ]
  },
  {
   "cell_type": "markdown",
   "metadata": {
    "slideshow": {
     "slide_type": "slide"
    }
   },
   "source": [
    "<img src=\"https://strategicmanagementinsight.com/images/2/five-forces-model.png\" width=\"50%\"></img>"
   ]
  },
  {
   "cell_type": "markdown",
   "metadata": {},
   "source": [
    "[Porter's 5 Forces Explained and How to Use the Model (Investopedia)](https://www.investopedia.com/terms/p/porter.asp)"
   ]
  },
  {
   "cell_type": "markdown",
   "metadata": {
    "slideshow": {
     "slide_type": "slide"
    }
   },
   "source": [
    "### Business Model Innovation (BMI)\n",
    "\n",
    "[Business Model Innovation:\n",
    "When the Game Gets Tough, Change the Game](https://onlinelibrary.wiley.com/servlet/linkout?suffix=s0&dbid=16384&doi=10.1002/9781119204084.ch40&type=tocOpenUrl&url=https%3A%2F%2Flibkey.io%2Flibraries%2F772%2Fopenurl%3F)\n",
    "\n",
    "**Two essential elements:**\n",
    "\n",
    "1. The value proposition\n",
    "    - Target segments - customers and their needs\n",
    "    - Product/service offering - offering to meet customer needs\n",
    "    - Revenue model - compensation for offering\n",
    "2. The operating model\n",
    "    - Value chain - deliver on customer demand\n",
    "    - Cost model - deliver VP profitably\n",
    "    - Organisation - deploy and develop people for competitve advantage\n"
   ]
  },
  {
   "cell_type": "markdown",
   "metadata": {
    "slideshow": {
     "slide_type": "slide"
    }
   },
   "source": [
    "*Executives seeking to create a shared awareness of the threats and opportunities involved should ask themselves the following questions:*\n",
    " * What compromises does our current business model force customers to make?\n",
    " * Why are nonusers or defectors dissatisfied with our offering?\n",
    " * Do we offer customers a better value proposition than the competition? l What alternative models are gaining share at the edges of our industry? l If we were an industry outsider, what would we do to take advantage of the gaps or weaknesses in our business model?\n",
    " * Do we have a plan for identifying potential business models, implementing them, and embedding BMI capabilities within the organization?\n",
    " * What do we need to change in our organization and operations to implement a new business model?\n",
    " * What information would we need to make a commitment to a new model?\n",
    " * How urgent is the perceived need for change in our organization? l How should our ideas be championed?\n",
    "\n",
    "[Business Model Innovation:\n",
    "When the Game Gets Tough, Change the Game](https://onlinelibrary.wiley.com/servlet/linkout?suffix=s0&dbid=16384&doi=10.1002/9781119204084.ch40&type=tocOpenUrl&url=https%3A%2F%2Flibkey.io%2Flibraries%2F772%2Fopenurl%3F)"
   ]
  },
  {
   "cell_type": "markdown",
   "metadata": {
    "slideshow": {
     "slide_type": "slide"
    }
   },
   "source": [
    "### TOWS analysis\n",
    "\n",
    "[Strategic Planning: SWOT & TOWS Analysis](https://youtu.be/H8FANR-2u2Q)\n",
    "\n",
    "**How can data analytics help create links between dimensions in the TOWS**\n",
    "\n",
    "* How might FaceBook have used this around the time of the Cambridge Analytica scandal?\n",
    "* First, do a SWOT analysis to identify Strengths, Weaknesses, Opportunities, Threats.\n",
    "* Second, combine the elements to identify actions for each TOWS quadrant:\n",
    "    1. Opportunities - Strengths\n",
    "    2. Opportunities - Weaknesses\n",
    "    3. Threats - Strengths\n",
    "    4. Threats - Weaknesses\n",
    "\n"
   ]
  }
 ],
 "metadata": {
  "celltoolbar": "Slideshow",
  "hide_input": false,
  "kernelspec": {
   "display_name": "Python 3 (ipykernel)",
   "language": "python",
   "name": "python3"
  },
  "language_info": {
   "codemirror_mode": {
    "name": "ipython",
    "version": 3
   },
   "file_extension": ".py",
   "mimetype": "text/x-python",
   "name": "python",
   "nbconvert_exporter": "python",
   "pygments_lexer": "ipython3",
   "version": "3.10.12"
  },
  "qut": {
    "creation_period": "2023_sem2",
    "nb_name": "B1-TOWS_analysis-tutorial",
    "unit_code": "IAB303"
   }
 },
 "nbformat": 4,
 "nbformat_minor": 4
}
