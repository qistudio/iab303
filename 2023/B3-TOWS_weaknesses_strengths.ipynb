{
 "cells": [
  {
   "cell_type": "markdown",
   "metadata": {},
   "source": [
    "<div class=\"alert alert-block alert-info\"><b>IAB303</b> - Data Analytics for Business Insight</div>"
   ]
  },
  {
   "cell_type": "markdown",
   "metadata": {},
   "source": [
    "# TOWS - Weaknesses and Strengths\n",
    "\n",
    "This session focuses on identifying trends in structured data with a technique called linear regression.\n",
    "\n",
    "Linear regression can help us find relationships between different features in our data. For example, if we're interested in the relationship between our net profit and particular product features, a linear regression might show us that future increases in profit might be more likely to come from sales in particular regions than by a particular demographic. If this was the case, the business might identify those regions as strengths, and other regions as weaknesses.\n",
    "\n",
    "In the business scenario below, we will use linear regression to identify a relationship between sale price and key features of the product that is being sold.\n",
    "\n",
    "Linear regression can also help with trend analysis which can help stakeholders predict if aspects of their business are either (a) improving which may indicate strengths that they can build on, or (b) declining which may indicate weaknesses which they need to address.\n",
    "\n",
    "The following web page provides some suggestions as to the types of data that may be useful for business trend analysis:\n",
    "[Business Queensland - Trend analysis for business improvement](https://www.business.qld.gov.au/running-business/growing-business/trend-analysis)\n"
   ]
  },
  {
   "cell_type": "markdown",
   "metadata": {},
   "source": [
    "## Linear Regression\n",
    "\n",
    "Linear regression is used to identify the relationship between a dependent variable and one or more independent variables and is typically leveraged to make predictions about future outcomes. The results from the linear regression help in predicting an unknown value depending on the relationship with the predicting variables. Linear regression fits a straight line that minimizes the discrepancies between predicted and actual output values. Further information in [Linear regression](https://en.wikipedia.org/wiki/Linear_regression).\n",
    "\n",
    "<img src=\"https://upload.wikimedia.org/wikipedia/commons/thumb/b/b0/Linear_least_squares_example2.svg/440px-Linear_least_squares_example2.svg.png\" style=\"width:50%\">"
   ]
  },
  {
   "cell_type": "markdown",
   "metadata": {},
   "source": [
    "We start by importing some machine learning packages from the `Scikit Learn` python library"
   ]
  },
  {
   "cell_type": "code",
   "execution_count": null,
   "metadata": {},
   "outputs": [],
   "source": [
    "import pandas as pd\n",
    "import plotly.express as px\n",
    "\n",
    "from sklearn.linear_model import LinearRegression\n",
    "from sklearn.model_selection import train_test_split\n",
    "from sklearn.metrics import mean_squared_error, r2_score"
   ]
  },
  {
   "cell_type": "markdown",
   "metadata": {},
   "source": [
    "## Business Scenario\n",
    "\n",
    "You're working with a real estate agency in Darwin (NT), and you're trying to get an understanding of which features of houses are most likely to be valued by buyers - and therefore command a higher price in the market. Although obviously build quality and location will have a significant impact, for this analysis we're going to focus on the typical house features that are advertised: bedrooms, bathrooms, and car parking."
   ]
  },
  {
   "cell_type": "markdown",
   "id": "40e2b0d8",
   "metadata": {},
   "source": [
    "\n",
    "\n",
    "#### Data\n",
    "\n",
    "Load and get to know the data.\n",
    "\n",
    "The included dataset is derived from a [dataset of realestate property prices in Darwin](https://www.kaggle.com/datasets/thedevastator/australian-housing-data-1000-properties-sampled?resource=download) "
   ]
  },
  {
   "cell_type": "code",
   "execution_count": null,
   "id": "f3bd6916",
   "metadata": {},
   "outputs": [],
   "source": [
    "file_path = \"data/\"\n",
    "file_name = \"RealEstateAU_NT_property.csv\"\n",
    "property_df = pd.read_csv(f\"{file_path}{file_name}\")\n",
    "property_df"
   ]
  },
  {
   "cell_type": "markdown",
   "metadata": {},
   "source": [
    "For linear regression, we need numeric values. To include the property type in our model, we can change it to a numeric value."
   ]
  },
  {
   "cell_type": "code",
   "execution_count": null,
   "metadata": {},
   "outputs": [],
   "source": [
    "# replacing values\n",
    "property_df['property'].replace(['House', 'Apartment'],\n",
    "                        [1, 2], inplace=True)\n",
    "\n",
    "property_df"
   ]
  },
  {
   "cell_type": "code",
   "execution_count": null,
   "id": "dbcc75be",
   "metadata": {},
   "outputs": [],
   "source": [
    "# Get the descriptive statiistics\n",
    "property_df.describe()"
   ]
  },
  {
   "cell_type": "markdown",
   "id": "55b6cff2",
   "metadata": {},
   "source": [
    "Are their any obvious correlations in the data?"
   ]
  },
  {
   "cell_type": "code",
   "execution_count": null,
   "id": "6ac58b84",
   "metadata": {},
   "outputs": [],
   "source": [
    "\n",
    "property_corr = property_df.corr(numeric_only=True)\n",
    "property_corr"
   ]
  },
  {
   "cell_type": "code",
   "execution_count": null,
   "id": "0f5ab5a6",
   "metadata": {},
   "outputs": [],
   "source": [
    "# Create a heatmap to visualise the correlations\n",
    "pc_fig = px.imshow(property_corr) \n",
    "pc_fig.show()"
   ]
  },
  {
   "cell_type": "markdown",
   "id": "b5088376",
   "metadata": {},
   "source": [
    "Property and parking are least correlated with price. Bedrooms and bathrooms are most correlated with price."
   ]
  },
  {
   "cell_type": "markdown",
   "metadata": {},
   "source": [
    "#### Learning check-in 1\n",
    "Throughout this notebook, we'll ask you to record an indicator of your learning. The following code facilitates this. Run the cell and follow the prompts."
   ]
  },
  {
   "cell_type": "code",
   "execution_count": null,
   "metadata": {},
   "outputs": [],
   "source": [
    "# library to record and plot learning checkins\n",
    "import sys; sys.path.append('./.local_libs'); from learning_checkin import *\n",
    "# Run this cell to check-in\n",
    "learning_checkin()"
   ]
  },
  {
   "cell_type": "markdown",
   "id": "4d321179",
   "metadata": {},
   "source": [
    "#### Alternate visualisations\n",
    "\n",
    "Different visualisations can sometimes help better understand the relationships in the data. When looking for linear relationships, a pair plot can be helpful..."
   ]
  },
  {
   "cell_type": "code",
   "execution_count": null,
   "id": "4e29ce30",
   "metadata": {},
   "outputs": [],
   "source": [
    "price_fig = px.scatter_matrix(property_df) # Create a pair plot to see the linearity of the variables\n",
    "price_fig.show()"
   ]
  },
  {
   "cell_type": "markdown",
   "id": "461f3956",
   "metadata": {},
   "source": [
    "### Creating a model\n",
    "\n",
    "To fit a linear regression model, we need to assign the dependent variable that we want to predict to the Y-axis (price), and draw the X-axis data from the independent variables(property,bedrooms,bathrooms,parking)."
   ]
  },
  {
   "cell_type": "code",
   "execution_count": null,
   "id": "91cf75eb",
   "metadata": {},
   "outputs": [],
   "source": [
    "# Independent variables\n",
    "\n",
    "X_data = property_df[['bedrooms','bathrooms','parking','property']]\n",
    "X_data"
   ]
  },
  {
   "cell_type": "code",
   "execution_count": null,
   "id": "fd4ec264",
   "metadata": {},
   "outputs": [],
   "source": [
    "# Dependent variable\n",
    "\n",
    "y_data = property_df['price']\n",
    "y_data"
   ]
  },
  {
   "cell_type": "markdown",
   "metadata": {},
   "source": [
    "As we are training a model from the data, we need to split the data into training data, and test data (a reserved portion of the data to test the model)."
   ]
  },
  {
   "cell_type": "code",
   "execution_count": null,
   "id": "2ca0601f",
   "metadata": {},
   "outputs": [],
   "source": [
    "# Break the current dataset into train and test datasets\n",
    "X_train, X_test, y_train, y_test = train_test_split(X_data, y_data,  train_size=0.8, random_state=0) # Train size determines the perceptage use for training the model"
   ]
  },
  {
   "cell_type": "code",
   "execution_count": null,
   "id": "129c2240",
   "metadata": {},
   "outputs": [],
   "source": [
    "# Create a new linear regression model\n",
    "linear_model = LinearRegression() \n",
    "\n",
    "# Train the model with the train dataset\n",
    "linear_model.fit(X_train, y_train) \n",
    "\n",
    "# Predict using the testing dataset\n",
    "linear_predictions = linear_model.predict(X_test) \n",
    "linear_predictions"
   ]
  },
  {
   "cell_type": "code",
   "execution_count": null,
   "metadata": {},
   "outputs": [],
   "source": [
    "X_test"
   ]
  },
  {
   "cell_type": "code",
   "execution_count": null,
   "metadata": {},
   "outputs": [],
   "source": [
    "actual_predict_df = pd.DataFrame({'actual':y_test,'predict':linear_predictions})\n",
    "actual_predict_df"
   ]
  },
  {
   "cell_type": "code",
   "execution_count": null,
   "metadata": {},
   "outputs": [],
   "source": [
    "\n",
    "px.scatter(actual_predict_df,trendline='ols')"
   ]
  },
  {
   "cell_type": "markdown",
   "metadata": {},
   "source": [
    "Note that the trend line is a visualisation of the linear model. To understand the extent to which our predictions are explained by the model, we can obtain some metrics from the test data."
   ]
  },
  {
   "cell_type": "code",
   "execution_count": null,
   "id": "d9615ee6",
   "metadata": {},
   "outputs": [],
   "source": [
    "# The coefficient of determination: 1 is perfect prediction\n",
    "print(\"Coefficient of determination: %.2f\" % r2_score(y_test, linear_predictions))\n",
    "\n",
    "# The mean squared error\n",
    "print(\"Mean squared error: %.2f\" % mean_squared_error(y_test, linear_predictions))\n",
    "\n",
    "# The coefficients\n",
    "print(\"Coefficients: \\n\", linear_model.coef_)\n"
   ]
  },
  {
   "cell_type": "markdown",
   "id": "43d187b3",
   "metadata": {},
   "source": [
    "\n",
    "\n",
    "The coefficent of determination (R-squared) is a coeficient between 0 and 1 that represents the proportion of the variation in the dependent variable that is predictable from the independent variable(s).\n",
    "\n",
    "The mean squared error (MSE) is the average squared difference between the predicted values and the actual values.\n",
    "\n",
    "The coefficients are associated with the 4 independent variables - bedrooms, bathrooms, parking, and property.\n",
    "\n"
   ]
  },
  {
   "cell_type": "markdown",
   "metadata": {},
   "source": [
    "#### Learning check-in 2"
   ]
  },
  {
   "cell_type": "code",
   "execution_count": null,
   "metadata": {},
   "outputs": [],
   "source": [
    "# Run this cell to check in for your learning session\n",
    "learning_checkin()"
   ]
  },
  {
   "cell_type": "markdown",
   "metadata": {},
   "source": [
    "### Making predictions\n",
    "\n",
    "Experiment with the code below to see how the model can be used to predict on different combinations of independent variables.\n",
    "\n",
    "How might this be used to address the business scenario?"
   ]
  },
  {
   "cell_type": "code",
   "execution_count": null,
   "metadata": {},
   "outputs": [],
   "source": [
    "new_df = pd.DataFrame({'bedrooms':[4],'bathrooms':[2],'parking':[2],'property':[1]})\n",
    "linear_model.predict(new_df)[0]"
   ]
  },
  {
   "cell_type": "markdown",
   "metadata": {},
   "source": [
    "#### Learning check-in 3"
   ]
  },
  {
   "cell_type": "code",
   "execution_count": null,
   "metadata": {},
   "outputs": [],
   "source": [
    "# Run this cell to check in for your learning session\n",
    "learning_checkin()"
   ]
  },
  {
   "cell_type": "markdown",
   "metadata": {},
   "source": [
    "### Exploring further\n",
    "\n",
    "Can you improve the model? \n",
    "\n",
    "Is the property type necessary?\n",
    "\n",
    "Could you create different models for different property types? Would this be helpful?"
   ]
  },
  {
   "cell_type": "markdown",
   "metadata": {},
   "source": [
    "#### Learning check-in 4"
   ]
  },
  {
   "cell_type": "code",
   "execution_count": null,
   "metadata": {},
   "outputs": [],
   "source": [
    "# Run this cell to check in for your learning session\n",
    "learning_checkin()"
   ]
  },
  {
   "cell_type": "markdown",
   "metadata": {},
   "source": [
    "#### Visualise your learning check-in data"
   ]
  },
  {
   "cell_type": "code",
   "execution_count": null,
   "metadata": {},
   "outputs": [],
   "source": [
    "# Run this cell to plot your check-ins for this session\n",
    "plot_checkin()"
   ]
  }
 ],
 "metadata": {
  "hide_input": false,
  "kernelspec": {
   "display_name": "Python 3 (ipykernel)",
   "language": "python",
   "name": "python3"
  },
  "language_info": {
   "codemirror_mode": {
    "name": "ipython",
    "version": 3
   },
   "file_extension": ".py",
   "mimetype": "text/x-python",
   "name": "python",
   "nbconvert_exporter": "python",
   "pygments_lexer": "ipython3",
   "version": "3.10.10"
  },
  "qut": {
   "creation_period": "2023_sem2",
   "nb_name": "B1-TOWS_weaknesses_strengths",
   "unit_code": "IAB303"
  }
 },
 "nbformat": 4,
 "nbformat_minor": 4
}
