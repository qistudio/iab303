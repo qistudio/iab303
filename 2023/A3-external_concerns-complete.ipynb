{
 "cells": [
  {
   "cell_type": "markdown",
   "metadata": {},
   "source": [
    "<div class=\"alert alert-block alert-info\"><b>IAB303</b> - Data Analytics for Business Insight</div>"
   ]
  },
  {
   "cell_type": "markdown",
   "metadata": {},
   "source": [
    "## External Concerns & Unstructured data"
   ]
  },
  {
   "cell_type": "markdown",
   "metadata": {},
   "source": [
    "[CoreSignal: External Data and Its Integration to Business Strategy](https://coresignal.com/blog/external-data/)\n",
    "\n",
    "> Organizations that use external data effectively have more potential to place themselves ahead of their competition when it comes to strategic planning.\n",
    "\n",
    "- Open data\n",
    "- Paid data\n",
    "- Shared data\n",
    "- Web data\n",
    "\n",
    "[McKinsey: Harnessing the power of external data](https://www.mckinsey.com/capabilities/mckinsey-digital/our-insights/harnessing-the-power-of-external-data)\n",
    "\n",
    "> The COVID-19 crisis provides an example of just how relevant external data can be. In a few short months, consumer purchasing habits, activities, and digital behavior changed dramatically, making preexisting consumer research, forecasts, and predictive models obsolete. Moreover, as organizations scrambled to understand these changing patterns, they discovered little of use in their internal data. Meanwhile, a wealth of external data could—and still can—help organizations plan and respond at a granular level.\n",
    "\n",
    "- Customer Analytics\n",
    "- Strategic Analysis\n",
    "- Operations and Forecasting\n",
    "- Risk Management"
   ]
  },
  {
   "cell_type": "markdown",
   "metadata": {},
   "source": [
    "### Unstructured data\n",
    "\n",
    "Humans can make meaning from data without necessarily having pre-defined structure. In fact we frequently use very ill-defined structures to organise and communicate our thinking. We are also adept at creating these kinds of structures as required, in the moment, rather than requiring the data be structured before we can make sense of it.\n",
    "\n",
    "<p><a href=\"https://commons.wikimedia.org/wiki/File:Coggle_Document.png#/media/File:Coggle_Document.png\"><img src=\"https://upload.wikimedia.org/wikipedia/commons/1/19/Coggle_Document.png\" alt=\"Coggle Document.png\"></a><br>By <a href=\"https://en.wikipedia.org/wiki/User:Lurched95\" class=\"extiw\" title=\"en:User:Lurched95\">User:Lurched95</a>, <a href=\"https://creativecommons.org/licenses/by-sa/3.0\" title=\"Creative Commons Attribution-Share Alike 3.0\">CC BY-SA 3.0</a>, <a href=\"https://commons.wikimedia.org/w/index.php?curid=33923406\">Link</a></p>\n"
   ]
  },
  {
   "cell_type": "markdown",
   "metadata": {},
   "source": [
    "Computers are not so adept, so complex in the moment sense-making tasks on unstructured data are often easy for humans but very challenging for computers.\n",
    "\n",
    "<img src=\"https://static.boredpanda.com/blog/wp-content/uploads/2016/03/dog-food-comparison-bagel-muffin-lookalike-teenybiscuit-karen-zack-5__700.jpg\">\n",
    "\n",
    "[Puppies or Food (boredpanda.com March 2016)](https://www.boredpanda.com/dog-food-comparison-bagel-muffin-lookalike-teenybiscuit-karen-zack/)"
   ]
  },
  {
   "cell_type": "markdown",
   "metadata": {},
   "source": [
    "### Kinds of structuring of data\n",
    "\n",
    "In order for us to perform data analysis on unstructured data, we will usually need to do some structuring of it, and this frequently results in semi-structured data. \n",
    "\n",
    "The 3 different kinds of structuring can be summarised as:\n",
    "\n",
    "* **Structured** $\\Rightarrow$ when the structure is pre-defined\n",
    "* **Structured** $\\Rightarrow$ is almost synonymous with 'stored in a RDMS', but can also exist in other software\n",
    "* **Unstructured** $\\leadsto$ when there is no pre-defined structure, or can't easily be conformed to a structure\n",
    "* **Unstructured** $\\leadsto$ commonly raw text, but also images, video, audio\n",
    "* **Unstructured** $\\leadsto$ can appear to have some kind of structure, but often that appearence is derived from our understanding, not from the data itself\n",
    "* **Semi-structured** $\\rightarrow$ the data can be stored in defined structure, but the actual instance of the structure is not predefined"
   ]
  },
  {
   "cell_type": "markdown",
   "metadata": {},
   "source": [
    "#### Recap\n",
    "\n",
    "Last week, we read structured data in the form of a CSV file from a URL, and saved the resulting CSV (a plain text file formatted as comma separated values). \n",
    "\n",
    "This week, we will use the saved file. So if you missed this step last week, make sure you run the following code."
   ]
  },
  {
   "cell_type": "code",
   "execution_count": 4,
   "metadata": {},
   "outputs": [],
   "source": [
    "# Load a CSV from remote URL and save a local file\n",
    "import pandas as pd\n",
    "extinct_mammals_url = \"https://data.gov.au/dataset/c02731e8-5327-4720-bbc7-1fe67350a569/resource/8339c2b4-c763-4c50-a647-63935537453c/download/cumulative-number-of-extinct-mammal-species.csv\"\n",
    "exmam_df = pd.read_csv(extinct_mammals_url)\n",
    "file_name = \"extinct_aus_mammals.csv\"\n",
    "path = \"data\"\n",
    "exmam_df.to_csv(f\"{path}/{file_name}\",index=False)\n"
   ]
  },
  {
   "cell_type": "markdown",
   "metadata": {},
   "source": [
    "### Semi-structured data\n",
    "\n",
    "Semi-structured data is a lot more prevalent than structured data, but the computational tools are not as mature as structured data tools. Most semi-structured data tools have come about with the advent of the internet and then social media."
   ]
  },
  {
   "cell_type": "markdown",
   "metadata": {},
   "source": [
    "### Working with semi-structured data\n",
    "\n",
    "We will work with semi-structured data mostly by:\n",
    "1. creating it from plain text which is read from a file, or\n",
    "2. importing the data from a `JSON` file.\n",
    "\n",
    "*JSON* is a way of labelling data, but without requiring all data to be the same or without requiring the structure to be fixed in advance.\n"
   ]
  },
  {
   "cell_type": "markdown",
   "metadata": {},
   "source": [
    "#### Reading plain text files"
   ]
  },
  {
   "cell_type": "code",
   "execution_count": 5,
   "metadata": {},
   "outputs": [
    {
     "name": "stdout",
     "output_type": "stream",
     "text": [
      "Decade,Cumulative number of extinct mammal species\n",
      "1790,0\n",
      "1800,0\n",
      "1810,0\n",
      "1820,0\n",
      "1830,0\n",
      "1840,1\n",
      "1850,3\n",
      "1860,5\n",
      "1870,7\n",
      "1880,8\n",
      "1890,9\n",
      "1900,14\n",
      "1910,14\n",
      "1920,15\n",
      "1930,18\n",
      "1940,18\n",
      "1950,22\n",
      "1960,24\n",
      "1970,25\n",
      "1980,25\n",
      "1990,25\n",
      "2000,26\n",
      "2010,27\n",
      "\n"
     ]
    }
   ],
   "source": [
    "# Read in a plain text file\n",
    "file_name=\"extinct_aus_mammals.csv\"\n",
    "path = \"data\"\n",
    "with open(f\"{path}/{file_name}\", 'r') as fp:\n",
    "    exmam_text = fp.read()\n",
    "\n",
    "# Print the string that was read from the file\n",
    "print(exmam_text)"
   ]
  },
  {
   "cell_type": "code",
   "execution_count": 6,
   "metadata": {},
   "outputs": [
    {
     "data": {
      "text/plain": [
       "'Decade,Cumulative number of extinct mammal species\\n1790,0\\n1800,0\\n1810,0\\n1820,0\\n1830,0\\n1840,1\\n1850,3\\n1860,5\\n1870,7\\n1880,8\\n1890,9\\n1900,14\\n1910,14\\n1920,15\\n1930,18\\n1940,18\\n1950,22\\n1960,24\\n1970,25\\n1980,25\\n1990,25\\n2000,26\\n2010,27\\n'"
      ]
     },
     "execution_count": 6,
     "metadata": {},
     "output_type": "execute_result"
    }
   ],
   "source": [
    "# What does the actual string look like (not formatted)\n",
    "exmam_text"
   ]
  },
  {
   "cell_type": "code",
   "execution_count": 7,
   "metadata": {},
   "outputs": [
    {
     "name": "stdout",
     "output_type": "stream",
     "text": [
      "['Decade,Cumulative number of extinct mammal species\\n', '1790,0\\n', '1800,0\\n', '1810,0\\n', '1820,0\\n', '1830,0\\n', '1840,1\\n', '1850,3\\n', '1860,5\\n', '1870,7\\n', '1880,8\\n', '1890,9\\n', '1900,14\\n', '1910,14\\n', '1920,15\\n', '1930,18\\n', '1940,18\\n', '1950,22\\n', '1960,24\\n', '1970,25\\n', '1980,25\\n', '1990,25\\n', '2000,26\\n', '2010,27\\n']\n"
     ]
    }
   ],
   "source": [
    "# We can read the text in a semi-structured format by taking advantage of the lines in the file\n",
    "with open(f\"{path}/{file_name}\", 'r') as fp:\n",
    "    exmam_lines = fp.readlines()\n",
    "\n",
    "print(exmam_lines)"
   ]
  },
  {
   "cell_type": "code",
   "execution_count": 8,
   "metadata": {},
   "outputs": [
    {
     "data": {
      "text/plain": [
       "['Decade,Cumulative number of extinct mammal species\\n',\n",
       " '1790,0\\n',\n",
       " '1800,0\\n',\n",
       " '1810,0\\n',\n",
       " '1820,0\\n',\n",
       " '1830,0\\n',\n",
       " '1840,1\\n',\n",
       " '1850,3\\n',\n",
       " '1860,5\\n',\n",
       " '1870,7\\n',\n",
       " '1880,8\\n',\n",
       " '1890,9\\n',\n",
       " '1900,14\\n',\n",
       " '1910,14\\n',\n",
       " '1920,15\\n',\n",
       " '1930,18\\n',\n",
       " '1940,18\\n',\n",
       " '1950,22\\n',\n",
       " '1960,24\\n',\n",
       " '1970,25\\n',\n",
       " '1980,25\\n',\n",
       " '1990,25\\n',\n",
       " '2000,26\\n',\n",
       " '2010,27\\n']"
      ]
     },
     "execution_count": 8,
     "metadata": {},
     "output_type": "execute_result"
    }
   ],
   "source": [
    "# Show the list that was read from the file\n",
    "exmam_lines"
   ]
  },
  {
   "cell_type": "markdown",
   "metadata": {},
   "source": [
    "In each of these examples, notice that we have `\\n` newline characters in the data. This is because Python is keeping all of the data from the original file including the characters that specify the end of a line of text.\n",
    "\n",
    "A way to import the data *without* this character is to split the lines using the string `.split()` function after reading in the text as a single string."
   ]
  },
  {
   "cell_type": "code",
   "execution_count": 9,
   "metadata": {},
   "outputs": [
    {
     "data": {
      "text/plain": [
       "['Decade,Cumulative number of extinct mammal species',\n",
       " '1790,0',\n",
       " '1800,0',\n",
       " '1810,0',\n",
       " '1820,0',\n",
       " '1830,0',\n",
       " '1840,1',\n",
       " '1850,3',\n",
       " '1860,5',\n",
       " '1870,7',\n",
       " '1880,8',\n",
       " '1890,9',\n",
       " '1900,14',\n",
       " '1910,14',\n",
       " '1920,15',\n",
       " '1930,18',\n",
       " '1940,18',\n",
       " '1950,22',\n",
       " '1960,24',\n",
       " '1970,25',\n",
       " '1980,25',\n",
       " '1990,25',\n",
       " '2000,26',\n",
       " '2010,27',\n",
       " '']"
      ]
     },
     "execution_count": 9,
     "metadata": {},
     "output_type": "execute_result"
    }
   ],
   "source": [
    "# We can also create the list, by splitting the original string\n",
    "lines = exmam_text.split('\\n')\n",
    "\n",
    "# view the list\n",
    "lines"
   ]
  },
  {
   "cell_type": "markdown",
   "metadata": {},
   "source": [
    "Now each line of the file is an element in the list and the `\\n` characters have been removed. \n",
    "\n",
    "However, because each line includes 2 data points, we can split each line. This creates a list of lists which gives us a structure similar to a dataframe."
   ]
  },
  {
   "cell_type": "code",
   "execution_count": 10,
   "metadata": {},
   "outputs": [
    {
     "name": "stdout",
     "output_type": "stream",
     "text": [
      "['Decade', 'Cumulative number of extinct mammal species']\n",
      "['1790', '0']\n",
      "['1800', '0']\n",
      "['1810', '0']\n",
      "['1820', '0']\n",
      "['1830', '0']\n",
      "['1840', '1']\n",
      "['1850', '3']\n",
      "['1860', '5']\n",
      "['1870', '7']\n",
      "['1880', '8']\n",
      "['1890', '9']\n",
      "['1900', '14']\n",
      "['1910', '14']\n",
      "['1920', '15']\n",
      "['1930', '18']\n",
      "['1940', '18']\n",
      "['1950', '22']\n",
      "['1960', '24']\n",
      "['1970', '25']\n",
      "['1980', '25']\n",
      "['1990', '25']\n",
      "['2000', '26']\n",
      "['2010', '27']\n",
      "['']\n"
     ]
    }
   ],
   "source": [
    "# split each line to create a list of lists\n",
    "for line in lines:\n",
    "    data_points = line.split(',')\n",
    "    print(data_points)"
   ]
  },
  {
   "cell_type": "markdown",
   "metadata": {},
   "source": [
    "Notice that the data is not `clean`. Think about ways that we might be able to fix this."
   ]
  },
  {
   "cell_type": "markdown",
   "metadata": {},
   "source": [
    "#### Reading JSON\n",
    "\n",
    "JSON is a very common file format for semi-structured data. To read this format we open the file as before, but we use the `json` library to help load the data into a Python dictionary or `dict` structure."
   ]
  },
  {
   "cell_type": "code",
   "execution_count": 11,
   "metadata": {},
   "outputs": [],
   "source": [
    "# We need the JSON library\n",
    "import json"
   ]
  },
  {
   "cell_type": "code",
   "execution_count": 13,
   "metadata": {},
   "outputs": [
    {
     "name": "stdout",
     "output_type": "stream",
     "text": [
      "{'Key 1': 'The first value that goes with Key 1', 'Second key': 'Json data that goes with the second key', '3rd_key': ['This', 'is', 'a', 'json', 'list', 'and', 'value', 'for', '3rd key']}\n"
     ]
    }
   ],
   "source": [
    "# Read a JSON file like text, but with conversion to python dictionary\n",
    "json_file_name = \"simple_json_file.json\"\n",
    "path = \"data\"\n",
    "\n",
    "with open(f\"{path}/{json_file_name}\", 'r') as file:\n",
    "    json_data = json.load(file)\n",
    "\n",
    "# print the loaded data\n",
    "print(json_data)"
   ]
  },
  {
   "cell_type": "code",
   "execution_count": 14,
   "metadata": {},
   "outputs": [
    {
     "data": {
      "text/plain": [
       "{'Key 1': 'The first value that goes with Key 1',\n",
       " 'Second key': 'Json data that goes with the second key',\n",
       " '3rd_key': ['This',\n",
       "  'is',\n",
       "  'a',\n",
       "  'json',\n",
       "  'list',\n",
       "  'and',\n",
       "  'value',\n",
       "  'for',\n",
       "  '3rd key']}"
      ]
     },
     "execution_count": 14,
     "metadata": {},
     "output_type": "execute_result"
    }
   ],
   "source": [
    "# View the json data\n",
    "json_data"
   ]
  },
  {
   "cell_type": "markdown",
   "metadata": {},
   "source": [
    "The advantage of a `dict` in python is that you can access a `value` by calling its `key`. These are called *key-value pairs* and are fundamental to a dictionary structure."
   ]
  },
  {
   "cell_type": "code",
   "execution_count": 15,
   "metadata": {},
   "outputs": [
    {
     "data": {
      "text/plain": [
       "'The first value that goes with Key 1'"
      ]
     },
     "execution_count": 15,
     "metadata": {},
     "output_type": "execute_result"
    }
   ],
   "source": [
    "# Access values in the dict by calling the keys\n",
    "json_data['Key 1']"
   ]
  },
  {
   "cell_type": "code",
   "execution_count": 16,
   "metadata": {},
   "outputs": [
    {
     "data": {
      "text/plain": [
       "dict_keys(['Key 1', 'Second key', '3rd_key'])"
      ]
     },
     "execution_count": 16,
     "metadata": {},
     "output_type": "execute_result"
    }
   ],
   "source": [
    "# Get a list of keys for a dict\n",
    "json_data.keys()"
   ]
  },
  {
   "cell_type": "code",
   "execution_count": 17,
   "metadata": {},
   "outputs": [
    {
     "name": "stdout",
     "output_type": "stream",
     "text": [
      "key: Key 1\n",
      "value: The first value that goes with Key 1\n",
      "\n",
      "key: Second key\n",
      "value: Json data that goes with the second key\n",
      "\n",
      "key: 3rd_key\n",
      "value: ['This', 'is', 'a', 'json', 'list', 'and', 'value', 'for', '3rd key']\n",
      "\n"
     ]
    }
   ],
   "source": [
    "# Iterate over the keys in a dict\n",
    "\n",
    "for key in json_data.keys():\n",
    "    print(\"key:\",key)\n",
    "    value = json_data[key]\n",
    "    print(\"value:\",value)\n",
    "    print()"
   ]
  },
  {
   "cell_type": "markdown",
   "metadata": {},
   "source": [
    "JSON data can include dictionary structures and list structures and they can be nested. To see this, in action we can load json data from a URL. \n",
    "\n",
    "To get data from a URL we use the `requests` library. This works like your web browser by sending `get` *request* to a web server, and then processing the response (instead of rendering in a browser)."
   ]
  },
  {
   "cell_type": "code",
   "execution_count": 18,
   "metadata": {},
   "outputs": [
    {
     "data": {
      "text/plain": [
       "b'{\"help\": \"https://data.gov.au/data/api/3/action/help_show?name=package_show\", \"success\": true, \"result\": {\"author\": \"CSIRO Publishing\", \"author_email\": null, \"contact_point\": \"soe@environment.gov.au\", \"creator_user_id\": \"dd537e79-7dfd-4a78-9110-8a42785bad1a\", \"data_state\": \"active\", \"id\": \"c02731e8-5327-4720-bbc7-1fe67350a569\", \"isopen\": true, \"jurisdiction\": \"Commonwealth of Australia\", \"language\": \"English\", \"license_id\": \"cc-by-4.0\", \"license_title\": \"Creative Commons Attribution 4.0 International\", \"license_url\": \"http://creativecommons.org/licenses/by/4.0\", \"maintainer\": \"soe\", \"maintainer_email\": null, \"metadata_created\": \"2016-10-13T05:31:05.905629\", \"metadata_modified\": \"2018-12-21T04:48:53.097284\", \"name\": \"2016-soe-biodiversity-cumulative-number-of-extinct-mammal-species\", \"notes\": \"Data on cumulative historical extinctions of Australian mammal species - according to the Action Plan for Australian Mammals (2014 edition) by John Woinarksi, Andrew Burbidge and Peter Harrison. CSIRO Publishing.\\\\r\\\\n\\\\r\\\\nThis data was used by the Department of Environment and Energy to produce Figure BIO19 in the Biodiversity theme of Australia State of the Environment 2016, available at \\\\r\\\\nhttps://soe.environment.gov.au/theme/biodiversity/topic/2016/terrestrial-plant-and-animal-species-mammals#biodiversity-figure-BIO19\\\\r\\\\n\", \"num_resources\": 1, \"num_tags\": 10, \"organization\": {\"id\": \"c416b1b6-1ea1-47c3-b44a-b4586bee6e58\", \"name\": \"state-of-the-environment\", \"title\": \"State of the Environment\", \"type\": \"organization\", \"description\": \"\", \"image_url\": \"2017-01-25-001455.510982SOE2016LogoColour.png\", \"created\": \"2016-01-21T17:05:45.618925\", \"is_organization\": true, \"approval_status\": \"approved\", \"state\": \"active\"}, \"owner_org\": \"c416b1b6-1ea1-47c3-b44a-b4586bee6e58\", \"private\": false, \"spatial_coverage\": \"Australia\", \"state\": \"active\", \"temporal_coverage_from\": \"1780-00-00\", \"temporal_coverage_to\": \"2010-00-00\", \"title\": \"2016 SoE Biodiversity Cumulative historical extinctions of Australian mammal species\", \"type\": \"dataset\", \"update_freq\": \"infrequently\", \"url\": null, \"version\": null, \"resources\": [{\"cache_last_updated\": null, \"cache_url\": null, \"created\": \"2016-10-13T16:31:36.178357\", \"datastore_active\": true, \"datastore_contains_all_records_of_source_file\": false, \"description\": \"Source: Woinarski, JCZ, Burbidge, AA & Harrison PL (2014 edition). The action plan for Australian mammals 2012, CSIRO Publishing, Melbourne.\\\\r\\\\n\\\\r\\\\nNote: The extinction of 3 species\\\\u2014Bettongia pusilla, Conilurus capricornensis and Pseudomys glaucus\\\\u2014cannot be readily and reliably dated, and these are not included in the data.\", \"format\": \"CSV\", \"hash\": \"\", \"id\": \"8339c2b4-c763-4c50-a647-63935537453c\", \"last_modified\": \"2016-10-13\", \"metadata_modified\": \"2016-10-13T16:31:36.178357\", \"mimetype\": null, \"mimetype_inner\": null, \"name\": \"BIO19 Cumulative historical extinctions of Australian mammal species\", \"package_id\": \"c02731e8-5327-4720-bbc7-1fe67350a569\", \"position\": 0, \"resource_type\": null, \"size\": null, \"state\": \"active\", \"url\": \"https://data.gov.au/data/dataset/c02731e8-5327-4720-bbc7-1fe67350a569/resource/8339c2b4-c763-4c50-a647-63935537453c/download/cumulative-number-of-extinct-mammal-species.csv\", \"url_type\": \"upload\", \"wms_layer\": \"\"}], \"tags\": [{\"display_name\": \"2016\", \"id\": \"1cdd2af1-833e-411c-8003-485b677d2f4d\", \"name\": \"2016\", \"state\": \"active\", \"vocabulary_id\": null}, {\"display_name\": \"2016 SoE\", \"id\": \"662eb96b-dedd-482a-bbed-6fe51a4783cb\", \"name\": \"2016 SoE\", \"state\": \"active\", \"vocabulary_id\": null}, {\"display_name\": \"Action Plan for Australian mammals\", \"id\": \"ab2fae4a-f38a-46b9-bd3b-f62f2b21aea5\", \"name\": \"Action Plan for Australian mammals\", \"state\": \"active\", \"vocabulary_id\": null}, {\"display_name\": \"Biodiversity\", \"id\": \"655e233e-355c-4311-b3ac-a06db4a3c237\", \"name\": \"Biodiversity\", \"state\": \"active\", \"vocabulary_id\": null}, {\"display_name\": \"SoE\", \"id\": \"6752f3e8-9a7a-4ffe-b9e7-9fce46be330f\", \"name\": \"SoE\", \"state\": \"active\", \"vocabulary_id\": null}, {\"display_name\": \"SoE Graph\", \"id\": \"ff1d16f8-8dfa-4c65-8bfc-3c5d53e0c385\", \"name\": \"SoE Graph\", \"state\": \"active\", \"vocabulary_id\": null}, {\"display_name\": \"State of the Environment\", \"id\": \"bfdd0f69-272e-49a1-b3b9-cabb8f586348\", \"name\": \"State of the Environment\", \"state\": \"active\", \"vocabulary_id\": null}, {\"display_name\": \"extinct\", \"id\": \"eef7a30a-2cec-4932-baf4-6ccf8d981b4b\", \"name\": \"extinct\", \"state\": \"active\", \"vocabulary_id\": null}, {\"display_name\": \"mammals\", \"id\": \"74b1d415-25b1-49f2-9274-b9626838f1c4\", \"name\": \"mammals\", \"state\": \"active\", \"vocabulary_id\": null}, {\"display_name\": \"species\", \"id\": \"2634e534-e803-4ea8-934d-50f936cf9073\", \"name\": \"species\", \"state\": \"active\", \"vocabulary_id\": null}], \"groups\": [], \"relationships_as_subject\": [], \"relationships_as_object\": []}}'"
      ]
     },
     "execution_count": 18,
     "metadata": {},
     "output_type": "execute_result"
    }
   ],
   "source": [
    "# You can also load json data from a URL\n",
    "import requests\n",
    "\n",
    "# JSON data about the CSV on extinct mammals from the same website above\n",
    "mammal_url = \"https://data.gov.au/api/3/action/package_show?id=c02731e8-5327-4720-bbc7-1fe67350a569\"\n",
    "\n",
    "# Request the content from the web server with a .get() request\n",
    "response = requests.get(mammal_url)\n",
    "\n",
    "response.content"
   ]
  },
  {
   "cell_type": "code",
   "execution_count": 19,
   "metadata": {
    "scrolled": true
   },
   "outputs": [
    {
     "data": {
      "text/plain": [
       "{'help': 'https://data.gov.au/data/api/3/action/help_show?name=package_show',\n",
       " 'success': True,\n",
       " 'result': {'author': 'CSIRO Publishing',\n",
       "  'author_email': None,\n",
       "  'contact_point': 'soe@environment.gov.au',\n",
       "  'creator_user_id': 'dd537e79-7dfd-4a78-9110-8a42785bad1a',\n",
       "  'data_state': 'active',\n",
       "  'id': 'c02731e8-5327-4720-bbc7-1fe67350a569',\n",
       "  'isopen': True,\n",
       "  'jurisdiction': 'Commonwealth of Australia',\n",
       "  'language': 'English',\n",
       "  'license_id': 'cc-by-4.0',\n",
       "  'license_title': 'Creative Commons Attribution 4.0 International',\n",
       "  'license_url': 'http://creativecommons.org/licenses/by/4.0',\n",
       "  'maintainer': 'soe',\n",
       "  'maintainer_email': None,\n",
       "  'metadata_created': '2016-10-13T05:31:05.905629',\n",
       "  'metadata_modified': '2018-12-21T04:48:53.097284',\n",
       "  'name': '2016-soe-biodiversity-cumulative-number-of-extinct-mammal-species',\n",
       "  'notes': 'Data on cumulative historical extinctions of Australian mammal species - according to the Action Plan for Australian Mammals (2014 edition) by John Woinarksi, Andrew Burbidge and Peter Harrison. CSIRO Publishing.\\r\\n\\r\\nThis data was used by the Department of Environment and Energy to produce Figure BIO19 in the Biodiversity theme of Australia State of the Environment 2016, available at \\r\\nhttps://soe.environment.gov.au/theme/biodiversity/topic/2016/terrestrial-plant-and-animal-species-mammals#biodiversity-figure-BIO19\\r\\n',\n",
       "  'num_resources': 1,\n",
       "  'num_tags': 10,\n",
       "  'organization': {'id': 'c416b1b6-1ea1-47c3-b44a-b4586bee6e58',\n",
       "   'name': 'state-of-the-environment',\n",
       "   'title': 'State of the Environment',\n",
       "   'type': 'organization',\n",
       "   'description': '',\n",
       "   'image_url': '2017-01-25-001455.510982SOE2016LogoColour.png',\n",
       "   'created': '2016-01-21T17:05:45.618925',\n",
       "   'is_organization': True,\n",
       "   'approval_status': 'approved',\n",
       "   'state': 'active'},\n",
       "  'owner_org': 'c416b1b6-1ea1-47c3-b44a-b4586bee6e58',\n",
       "  'private': False,\n",
       "  'spatial_coverage': 'Australia',\n",
       "  'state': 'active',\n",
       "  'temporal_coverage_from': '1780-00-00',\n",
       "  'temporal_coverage_to': '2010-00-00',\n",
       "  'title': '2016 SoE Biodiversity Cumulative historical extinctions of Australian mammal species',\n",
       "  'type': 'dataset',\n",
       "  'update_freq': 'infrequently',\n",
       "  'url': None,\n",
       "  'version': None,\n",
       "  'resources': [{'cache_last_updated': None,\n",
       "    'cache_url': None,\n",
       "    'created': '2016-10-13T16:31:36.178357',\n",
       "    'datastore_active': True,\n",
       "    'datastore_contains_all_records_of_source_file': False,\n",
       "    'description': 'Source: Woinarski, JCZ, Burbidge, AA & Harrison PL (2014 edition). The action plan for Australian mammals 2012, CSIRO Publishing, Melbourne.\\r\\n\\r\\nNote: The extinction of 3 species—Bettongia pusilla, Conilurus capricornensis and Pseudomys glaucus—cannot be readily and reliably dated, and these are not included in the data.',\n",
       "    'format': 'CSV',\n",
       "    'hash': '',\n",
       "    'id': '8339c2b4-c763-4c50-a647-63935537453c',\n",
       "    'last_modified': '2016-10-13',\n",
       "    'metadata_modified': '2016-10-13T16:31:36.178357',\n",
       "    'mimetype': None,\n",
       "    'mimetype_inner': None,\n",
       "    'name': 'BIO19 Cumulative historical extinctions of Australian mammal species',\n",
       "    'package_id': 'c02731e8-5327-4720-bbc7-1fe67350a569',\n",
       "    'position': 0,\n",
       "    'resource_type': None,\n",
       "    'size': None,\n",
       "    'state': 'active',\n",
       "    'url': 'https://data.gov.au/data/dataset/c02731e8-5327-4720-bbc7-1fe67350a569/resource/8339c2b4-c763-4c50-a647-63935537453c/download/cumulative-number-of-extinct-mammal-species.csv',\n",
       "    'url_type': 'upload',\n",
       "    'wms_layer': ''}],\n",
       "  'tags': [{'display_name': '2016',\n",
       "    'id': '1cdd2af1-833e-411c-8003-485b677d2f4d',\n",
       "    'name': '2016',\n",
       "    'state': 'active',\n",
       "    'vocabulary_id': None},\n",
       "   {'display_name': '2016 SoE',\n",
       "    'id': '662eb96b-dedd-482a-bbed-6fe51a4783cb',\n",
       "    'name': '2016 SoE',\n",
       "    'state': 'active',\n",
       "    'vocabulary_id': None},\n",
       "   {'display_name': 'Action Plan for Australian mammals',\n",
       "    'id': 'ab2fae4a-f38a-46b9-bd3b-f62f2b21aea5',\n",
       "    'name': 'Action Plan for Australian mammals',\n",
       "    'state': 'active',\n",
       "    'vocabulary_id': None},\n",
       "   {'display_name': 'Biodiversity',\n",
       "    'id': '655e233e-355c-4311-b3ac-a06db4a3c237',\n",
       "    'name': 'Biodiversity',\n",
       "    'state': 'active',\n",
       "    'vocabulary_id': None},\n",
       "   {'display_name': 'SoE',\n",
       "    'id': '6752f3e8-9a7a-4ffe-b9e7-9fce46be330f',\n",
       "    'name': 'SoE',\n",
       "    'state': 'active',\n",
       "    'vocabulary_id': None},\n",
       "   {'display_name': 'SoE Graph',\n",
       "    'id': 'ff1d16f8-8dfa-4c65-8bfc-3c5d53e0c385',\n",
       "    'name': 'SoE Graph',\n",
       "    'state': 'active',\n",
       "    'vocabulary_id': None},\n",
       "   {'display_name': 'State of the Environment',\n",
       "    'id': 'bfdd0f69-272e-49a1-b3b9-cabb8f586348',\n",
       "    'name': 'State of the Environment',\n",
       "    'state': 'active',\n",
       "    'vocabulary_id': None},\n",
       "   {'display_name': 'extinct',\n",
       "    'id': 'eef7a30a-2cec-4932-baf4-6ccf8d981b4b',\n",
       "    'name': 'extinct',\n",
       "    'state': 'active',\n",
       "    'vocabulary_id': None},\n",
       "   {'display_name': 'mammals',\n",
       "    'id': '74b1d415-25b1-49f2-9274-b9626838f1c4',\n",
       "    'name': 'mammals',\n",
       "    'state': 'active',\n",
       "    'vocabulary_id': None},\n",
       "   {'display_name': 'species',\n",
       "    'id': '2634e534-e803-4ea8-934d-50f936cf9073',\n",
       "    'name': 'species',\n",
       "    'state': 'active',\n",
       "    'vocabulary_id': None}],\n",
       "  'groups': [],\n",
       "  'relationships_as_subject': [],\n",
       "  'relationships_as_object': []}}"
      ]
     },
     "execution_count": 19,
     "metadata": {},
     "output_type": "execute_result"
    }
   ],
   "source": [
    "# Get the data as json from the response\n",
    "\n",
    "mammal_json = response.json()\n",
    "\n",
    "mammal_json"
   ]
  },
  {
   "cell_type": "markdown",
   "metadata": {},
   "source": [
    "Since we know this is json data, we can use the structure to navigate the data and find what we are interested in."
   ]
  },
  {
   "cell_type": "code",
   "execution_count": 20,
   "metadata": {},
   "outputs": [
    {
     "data": {
      "text/plain": [
       "dict_keys(['help', 'success', 'result'])"
      ]
     },
     "execution_count": 20,
     "metadata": {},
     "output_type": "execute_result"
    }
   ],
   "source": [
    "# Take a look at the keys\n",
    "mammal_json.keys()"
   ]
  },
  {
   "cell_type": "code",
   "execution_count": 21,
   "metadata": {},
   "outputs": [
    {
     "data": {
      "text/plain": [
       "dict_keys(['author', 'author_email', 'contact_point', 'creator_user_id', 'data_state', 'id', 'isopen', 'jurisdiction', 'language', 'license_id', 'license_title', 'license_url', 'maintainer', 'maintainer_email', 'metadata_created', 'metadata_modified', 'name', 'notes', 'num_resources', 'num_tags', 'organization', 'owner_org', 'private', 'spatial_coverage', 'state', 'temporal_coverage_from', 'temporal_coverage_to', 'title', 'type', 'update_freq', 'url', 'version', 'resources', 'tags', 'groups', 'relationships_as_subject', 'relationships_as_object'])"
      ]
     },
     "execution_count": 21,
     "metadata": {},
     "output_type": "execute_result"
    }
   ],
   "source": [
    "# What about the keys down a level?\n",
    "mammal_json['result'].keys()"
   ]
  },
  {
   "cell_type": "code",
   "execution_count": 23,
   "metadata": {},
   "outputs": [
    {
     "data": {
      "text/plain": [
       "[{'cache_last_updated': None,\n",
       "  'cache_url': None,\n",
       "  'created': '2016-10-13T16:31:36.178357',\n",
       "  'datastore_active': True,\n",
       "  'datastore_contains_all_records_of_source_file': False,\n",
       "  'description': 'Source: Woinarski, JCZ, Burbidge, AA & Harrison PL (2014 edition). The action plan for Australian mammals 2012, CSIRO Publishing, Melbourne.\\r\\n\\r\\nNote: The extinction of 3 species—Bettongia pusilla, Conilurus capricornensis and Pseudomys glaucus—cannot be readily and reliably dated, and these are not included in the data.',\n",
       "  'format': 'CSV',\n",
       "  'hash': '',\n",
       "  'id': '8339c2b4-c763-4c50-a647-63935537453c',\n",
       "  'last_modified': '2016-10-13',\n",
       "  'metadata_modified': '2016-10-13T16:31:36.178357',\n",
       "  'mimetype': None,\n",
       "  'mimetype_inner': None,\n",
       "  'name': 'BIO19 Cumulative historical extinctions of Australian mammal species',\n",
       "  'package_id': 'c02731e8-5327-4720-bbc7-1fe67350a569',\n",
       "  'position': 0,\n",
       "  'resource_type': None,\n",
       "  'size': None,\n",
       "  'state': 'active',\n",
       "  'url': 'https://data.gov.au/data/dataset/c02731e8-5327-4720-bbc7-1fe67350a569/resource/8339c2b4-c763-4c50-a647-63935537453c/download/cumulative-number-of-extinct-mammal-species.csv',\n",
       "  'url_type': 'upload',\n",
       "  'wms_layer': ''}]"
      ]
     },
     "execution_count": 23,
     "metadata": {},
     "output_type": "execute_result"
    }
   ],
   "source": [
    "# Digging deeper\n",
    "mammal_json['result']['resources']"
   ]
  },
  {
   "cell_type": "markdown",
   "metadata": {},
   "source": [
    "This is a list of dicts - let's get the first dict in the list (item 0) and explore further"
   ]
  },
  {
   "cell_type": "code",
   "execution_count": 22,
   "metadata": {},
   "outputs": [
    {
     "data": {
      "text/plain": [
       "{'cache_last_updated': None,\n",
       " 'cache_url': None,\n",
       " 'created': '2016-10-13T16:31:36.178357',\n",
       " 'datastore_active': True,\n",
       " 'datastore_contains_all_records_of_source_file': False,\n",
       " 'description': 'Source: Woinarski, JCZ, Burbidge, AA & Harrison PL (2014 edition). The action plan for Australian mammals 2012, CSIRO Publishing, Melbourne.\\r\\n\\r\\nNote: The extinction of 3 species—Bettongia pusilla, Conilurus capricornensis and Pseudomys glaucus—cannot be readily and reliably dated, and these are not included in the data.',\n",
       " 'format': 'CSV',\n",
       " 'hash': '',\n",
       " 'id': '8339c2b4-c763-4c50-a647-63935537453c',\n",
       " 'last_modified': '2016-10-13',\n",
       " 'metadata_modified': '2016-10-13T16:31:36.178357',\n",
       " 'mimetype': None,\n",
       " 'mimetype_inner': None,\n",
       " 'name': 'BIO19 Cumulative historical extinctions of Australian mammal species',\n",
       " 'package_id': 'c02731e8-5327-4720-bbc7-1fe67350a569',\n",
       " 'position': 0,\n",
       " 'resource_type': None,\n",
       " 'size': None,\n",
       " 'state': 'active',\n",
       " 'url': 'https://data.gov.au/data/dataset/c02731e8-5327-4720-bbc7-1fe67350a569/resource/8339c2b4-c763-4c50-a647-63935537453c/download/cumulative-number-of-extinct-mammal-species.csv',\n",
       " 'url_type': 'upload',\n",
       " 'wms_layer': ''}"
      ]
     },
     "execution_count": 22,
     "metadata": {},
     "output_type": "execute_result"
    }
   ],
   "source": [
    "# Only one item in the list - get it by accessing the first item 0\n",
    "mammal_json['result']['resources'][0]"
   ]
  },
  {
   "cell_type": "markdown",
   "metadata": {},
   "source": [
    "We can save this dictionary formated data as *JSON* by using the `dumps()` function of the `json` library."
   ]
  },
  {
   "cell_type": "code",
   "execution_count": 24,
   "metadata": {},
   "outputs": [
    {
     "data": {
      "text/plain": [
       "'{\"cache_last_updated\": null, \"cache_url\": null, \"created\": \"2016-10-13T16:31:36.178357\", \"datastore_active\": true, \"datastore_contains_all_records_of_source_file\": false, \"description\": \"Source: Woinarski, JCZ, Burbidge, AA & Harrison PL (2014 edition). The action plan for Australian mammals 2012, CSIRO Publishing, Melbourne.\\\\r\\\\n\\\\r\\\\nNote: The extinction of 3 species\\\\u2014Bettongia pusilla, Conilurus capricornensis and Pseudomys glaucus\\\\u2014cannot be readily and reliably dated, and these are not included in the data.\", \"format\": \"CSV\", \"hash\": \"\", \"id\": \"8339c2b4-c763-4c50-a647-63935537453c\", \"last_modified\": \"2016-10-13\", \"metadata_modified\": \"2016-10-13T16:31:36.178357\", \"mimetype\": null, \"mimetype_inner\": null, \"name\": \"BIO19 Cumulative historical extinctions of Australian mammal species\", \"package_id\": \"c02731e8-5327-4720-bbc7-1fe67350a569\", \"position\": 0, \"resource_type\": null, \"size\": null, \"state\": \"active\", \"url\": \"https://data.gov.au/data/dataset/c02731e8-5327-4720-bbc7-1fe67350a569/resource/8339c2b4-c763-4c50-a647-63935537453c/download/cumulative-number-of-extinct-mammal-species.csv\", \"url_type\": \"upload\", \"wms_layer\": \"\"}'"
      ]
     },
     "execution_count": 24,
     "metadata": {},
     "output_type": "execute_result"
    }
   ],
   "source": [
    "# Dump the dict into a json string\n",
    "metadata = json.dumps(mammal_json['result']['resources'][0])\n",
    "metadata"
   ]
  },
  {
   "cell_type": "code",
   "execution_count": 25,
   "metadata": {},
   "outputs": [],
   "source": [
    "# Write the json string to a file\n",
    "file_name = \"extinct_mammals_metadata.json\"\n",
    "with open(f\"{path}/{file_name}\",'w') as fp:\n",
    "    fp.write(metadata)"
   ]
  },
  {
   "cell_type": "markdown",
   "metadata": {},
   "source": [
    "Open the file that you just created to check that it has been written correctly."
   ]
  },
  {
   "cell_type": "code",
   "execution_count": 26,
   "metadata": {},
   "outputs": [
    {
     "data": {
      "text/plain": [
       "{'cache_last_updated': None,\n",
       " 'cache_url': None,\n",
       " 'created': '2016-10-13T16:31:36.178357',\n",
       " 'datastore_active': True,\n",
       " 'datastore_contains_all_records_of_source_file': False,\n",
       " 'description': 'Source: Woinarski, JCZ, Burbidge, AA & Harrison PL (2014 edition). The action plan for Australian mammals 2012, CSIRO Publishing, Melbourne.\\r\\n\\r\\nNote: The extinction of 3 species—Bettongia pusilla, Conilurus capricornensis and Pseudomys glaucus—cannot be readily and reliably dated, and these are not included in the data.',\n",
       " 'format': 'CSV',\n",
       " 'hash': '',\n",
       " 'id': '8339c2b4-c763-4c50-a647-63935537453c',\n",
       " 'last_modified': '2016-10-13',\n",
       " 'metadata_modified': '2016-10-13T16:31:36.178357',\n",
       " 'mimetype': None,\n",
       " 'mimetype_inner': None,\n",
       " 'name': 'BIO19 Cumulative historical extinctions of Australian mammal species',\n",
       " 'package_id': 'c02731e8-5327-4720-bbc7-1fe67350a569',\n",
       " 'position': 0,\n",
       " 'resource_type': None,\n",
       " 'size': None,\n",
       " 'state': 'active',\n",
       " 'url': 'https://data.gov.au/data/dataset/c02731e8-5327-4720-bbc7-1fe67350a569/resource/8339c2b4-c763-4c50-a647-63935537453c/download/cumulative-number-of-extinct-mammal-species.csv',\n",
       " 'url_type': 'upload',\n",
       " 'wms_layer': ''}"
      ]
     },
     "execution_count": 26,
     "metadata": {},
     "output_type": "execute_result"
    }
   ],
   "source": [
    "# read the file back in\n",
    "with open(f\"{path}/{file_name}\",'r') as fp:\n",
    "    text = fp.read()\n",
    "    file_json = json.loads(text)\n",
    "\n",
    "file_json"
   ]
  },
  {
   "cell_type": "markdown",
   "metadata": {},
   "source": [
    "Explore the JSON structure starting with the keys"
   ]
  },
  {
   "cell_type": "code",
   "execution_count": 27,
   "metadata": {},
   "outputs": [
    {
     "data": {
      "text/plain": [
       "dict_keys(['cache_last_updated', 'cache_url', 'created', 'datastore_active', 'datastore_contains_all_records_of_source_file', 'description', 'format', 'hash', 'id', 'last_modified', 'metadata_modified', 'mimetype', 'mimetype_inner', 'name', 'package_id', 'position', 'resource_type', 'size', 'state', 'url', 'url_type', 'wms_layer'])"
      ]
     },
     "execution_count": 27,
     "metadata": {},
     "output_type": "execute_result"
    }
   ],
   "source": [
    "# What keys are available in the first item in the list of resources?\n",
    "mammal_json['result']['resources'][0].keys()"
   ]
  },
  {
   "cell_type": "code",
   "execution_count": 28,
   "metadata": {},
   "outputs": [
    {
     "data": {
      "text/plain": [
       "'Source: Woinarski, JCZ, Burbidge, AA & Harrison PL (2014 edition). The action plan for Australian mammals 2012, CSIRO Publishing, Melbourne.\\r\\n\\r\\nNote: The extinction of 3 species—Bettongia pusilla, Conilurus capricornensis and Pseudomys glaucus—cannot be readily and reliably dated, and these are not included in the data.'"
      ]
     },
     "execution_count": 28,
     "metadata": {},
     "output_type": "execute_result"
    }
   ],
   "source": [
    "# Take a look at the description\n",
    "mammal_json['result']['resources'][0][\"description\"]"
   ]
  },
  {
   "cell_type": "code",
   "execution_count": 29,
   "metadata": {},
   "outputs": [
    {
     "data": {
      "text/plain": [
       "['Source: Woinarski',\n",
       " ' JCZ',\n",
       " ' Burbidge',\n",
       " ' AA & Harrison PL (2014 edition). The action plan for Australian mammals 2012',\n",
       " ' CSIRO Publishing',\n",
       " ' Melbourne.\\r\\n\\r\\nNote: The extinction of 3 species—Bettongia pusilla',\n",
       " ' Conilurus capricornensis and Pseudomys glaucus—cannot be readily and reliably dated',\n",
       " ' and these are not included in the data.']"
      ]
     },
     "execution_count": 29,
     "metadata": {},
     "output_type": "execute_result"
    }
   ],
   "source": [
    "# Format the description as a list\n",
    "mammal_json['result']['resources'][0]['description'].split(',')"
   ]
  },
  {
   "cell_type": "code",
   "execution_count": 30,
   "metadata": {},
   "outputs": [
    {
     "data": {
      "text/plain": [
       "'Source: Woinarski, JCZ, Burbidge, AA & Harrison PL (2014 edition). The action plan for Australian mammals 2012, CSIRO Publishing, Melbourne.'"
      ]
     },
     "execution_count": 30,
     "metadata": {},
     "output_type": "execute_result"
    }
   ],
   "source": [
    "# Get the first item in the list\n",
    "mammal_json['result']['resources'][0]['description'].split('\\r\\n')[0]"
   ]
  },
  {
   "cell_type": "code",
   "execution_count": 31,
   "metadata": {},
   "outputs": [
    {
     "data": {
      "text/plain": [
       "'Data on cumulative historical extinctions of Australian mammal species - according to the Action Plan for Australian Mammals (2014 edition) by John Woinarksi, Andrew Burbidge and Peter Harrison. CSIRO Publishing.\\r\\n\\r\\nThis data was used by the Department of Environment and Energy to produce Figure BIO19 in the Biodiversity theme of Australia State of the Environment 2016, available at \\r\\nhttps://soe.environment.gov.au/theme/biodiversity/topic/2016/terrestrial-plant-and-animal-species-mammals#biodiversity-figure-BIO19\\r\\n'"
      ]
     },
     "execution_count": 31,
     "metadata": {},
     "output_type": "execute_result"
    }
   ],
   "source": [
    "# since the result is a dictionary, we can the value for one particular key\n",
    "mammal_json[\"result\"][\"notes\"]"
   ]
  },
  {
   "cell_type": "code",
   "execution_count": 32,
   "metadata": {},
   "outputs": [
    {
     "name": "stdout",
     "output_type": "stream",
     "text": [
      "Data on cumulative historical extinctions of Australian mammal species - according to the Action Plan for Australian Mammals (2014 edition) by John Woinarksi, Andrew Burbidge and Peter Harrison. CSIRO Publishing.\n",
      "\n",
      "This data was used by the Department of Environment and Energy to produce Figure BIO19 in the Biodiversity theme of Australia State of the Environment 2016, available at \n",
      "https://soe.environment.gov.au/theme/biodiversity/topic/2016/terrestrial-plant-and-animal-species-mammals#biodiversity-figure-BIO19\n",
      "\n"
     ]
    }
   ],
   "source": [
    "# we can take this data and structure it further\n",
    "\n",
    "notes = mammal_json[\"result\"][\"notes\"]\n",
    "struct_notes = notes.split('\\r\\n')\n",
    "for note in struct_notes:\n",
    "    print(note)"
   ]
  },
  {
   "cell_type": "markdown",
   "metadata": {},
   "source": [
    "### Visualise\n",
    "\n",
    "We can use HTML to visualise text."
   ]
  },
  {
   "cell_type": "code",
   "execution_count": 36,
   "metadata": {},
   "outputs": [
    {
     "data": {
      "text/html": [
       "<h3>NOTES:</h3><p>Data on cumulative historical extinctions of Australian mammal species - according to the Action Plan for Australian Mammals (2014 edition) by John Woinarksi, Andrew Burbidge and Peter Harrison. CSIRO Publishing.</p><p></p><p>This data was used by the Department of Environment and Energy to produce Figure BIO19 in the Biodiversity theme of Australia State of the Environment 2016, available at </p><p>https://soe.environment.gov.au/theme/biodiversity/topic/2016/terrestrial-plant-and-animal-species-mammals#biodiversity-figure-BIO19</p><p></p>"
      ],
      "text/plain": [
       "<IPython.core.display.HTML object>"
      ]
     },
     "metadata": {},
     "output_type": "display_data"
    }
   ],
   "source": [
    "from IPython.display import display, HTML\n",
    "\n",
    "heading = f\"<h3>NOTES:</h3>\"\n",
    "\n",
    "content = \"\"\n",
    "for note in struct_notes:\n",
    "    content += f\"<p>{note}</p>\"\n",
    "\n",
    "display(HTML(heading+content))"
   ]
  },
  {
   "cell_type": "markdown",
   "metadata": {},
   "source": [
    "### Explore further\n",
    "\n",
    "Try experimenting with exploring the dict format to find interesting parts of the data. \n",
    "\n",
    "You might also like to try saving the extracted data as a file, and creating a new dataframe with the structured data."
   ]
  },
  {
   "cell_type": "code",
   "execution_count": null,
   "metadata": {},
   "outputs": [],
   "source": [
    "# Your code here\n",
    "???"
   ]
  },
  {
   "cell_type": "markdown",
   "metadata": {},
   "source": [
    "### Accessing the data via The Guardian API\n",
    "\n",
    "A useful external data source are news publishers. **The Guardian** provides an Application Programming Interface (API) which allows us to search and retrieve news articles.\n",
    "\n",
    "See the `Accessing_the_Guardian_API.ipynb` notebook file for details on obtaining data from the API. "
   ]
  }
 ],
 "metadata": {
  "kernelspec": {
   "display_name": "Python 3",
   "language": "python",
   "name": "python3"
  },
  "language_info": {
   "codemirror_mode": {
    "name": "ipython",
    "version": 3
   },
   "file_extension": ".py",
   "mimetype": "text/x-python",
   "name": "python",
   "nbconvert_exporter": "python",
   "pygments_lexer": "ipython3",
   "version": "3.10.10"
  },
  "qut": {
   "creation_period": "2023_sem2",
   "nb_name": "A3-external_concerns",
   "unit_code": "IAB303"
  }
 },
 "nbformat": 4,
 "nbformat_minor": 4
}
