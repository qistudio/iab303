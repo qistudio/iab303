{
 "cells": [
  {
   "cell_type": "markdown",
   "metadata": {},
   "source": [
    "<div class=\"alert alert-block alert-info\"><b>IAB303</b> - Data Analytics for Business Insight</div>"
   ]
  },
  {
   "cell_type": "markdown",
   "metadata": {},
   "source": [
    "## Internal Concerns & Structured data"
   ]
  },
  {
   "cell_type": "markdown",
   "metadata": {},
   "source": [
    "***But first, a quick review...***\n",
    "\n",
    "### The Big Idea: Addressing business concerns through storytelling with information\n",
    "\n",
    "1. **CONCERN:** The business concern or problem understood in the context of the business and relation to the stakeholders.\n",
    "\n",
    "2. **DATA ANALYTICS:** Potential sources of information that exist inside or outside of the business or which may be synthesised in order to address a business concern. Techniques and processes and tools which can be utilised in analysing available data for the purposes of addressing a business concern.\n",
    "\n",
    "4. **MEANING:** Relationships, perspectives, narratives, and understandings that are supported by the data analytics in a way that is meaningful for stakeholders and holds efficacy in addressing a business concern.\n",
    "\n",
    "### CONCERN\n",
    "\n",
    "* what kind of problem - is it a business problem?\n",
    "* who are the stakeholders?\n",
    "* what is the context?\n",
    "* business model disruption\n",
    "* talent management\n",
    "* global market trends\n",
    "* foresight\n",
    "* political risk\n",
    "\n",
    "### INTERNAL CONCERNS\n",
    "\n",
    "* Which concerns involve looking **INSIDE** the business?\n",
    "* Consider areas of the business which might use internal data. Take a look at this information on common business [financial statements](https://www.business.qld.gov.au/running-business/finance/essentials/statements):\n",
    "    - Profit/Loss\n",
    "    - Balance sheet\n",
    "    - Cash flow\n",
    "* What may contribute to the finances of a business\n",
    "    - Employees\n",
    "    - Stock\n",
    "    - Logistics\n",
    "    - Current customers\n",
    "    - Past sales\n",
    "    - Curent suppliers\n",
    "    - Past purchases\n",
    "* What kind of structure does most of this information take?\n",
    "\n",
    "---"
   ]
  },
  {
   "cell_type": "markdown",
   "metadata": {},
   "source": [
    "### Why consider structure in data?"
   ]
  },
  {
   "cell_type": "markdown",
   "metadata": {},
   "source": [
    "Structure in data helps us make meaning from that data and to be consistent and precise in using it.\n",
    "\n",
    "When data is structured, then we can program computational systems to compute using that data as long as the data adheres to the defined structure."
   ]
  },
  {
   "cell_type": "markdown",
   "metadata": {},
   "source": [
    "### Structured data\n",
    "\n",
    "For example, the idea of a spreadsheet allows us to make infer relationships between the cells based on rows and columns. This was possible with even the very first spreadsheets.\n",
    "\n",
    "<a title=\"By User:Gortu (apple2history.org) [Public domain], via Wikimedia Commons\" href=\"https://commons.wikimedia.org/wiki/File%3AVisicalc.png\"><img width=\"512\" alt=\"Visicalc\" src=\"https://upload.wikimedia.org/wikipedia/commons/7/7a/Visicalc.png\"/></a>\n",
    "\n",
    "*By User:Gortu (apple2history.org) \\[Public domain\\], via Wikimedia Commons*\n"
   ]
  },
  {
   "cell_type": "markdown",
   "metadata": {},
   "source": [
    "Even in this very simple example, we can make sense of this data, and because of the structure, the computer can work with the data, like calculating the costs for each row, calculating a subtotal, the tax, and the total. If the data in this spreadsheet was unstructured (for example written on a piece of paper), the computer would not be able to work with it."
   ]
  },
  {
   "cell_type": "markdown",
   "metadata": {},
   "source": [
    "Most structured data today is found in relational datatabase management systems (RDBMS), or commonly just refered to as databases. The structure is one of tables (like a spreadsheet) and relationships between them, but relating particular fields or columns in one table with those in another.\n",
    "\n",
    "<a data-flickr-embed=\"true\"  href=\"https://www.flickr.com/photos/14804582@N08/2111269218\" title=\"database schema\"><img src=\"https://farm3.staticflickr.com/2129/2111269218_950cf23a03_b.jpg\" width=\"1024\" height=\"953\" alt=\"database schema\"></a><script async src=\"//embedr.flickr.com/assets/client-code.js\" charset=\"utf-8\"></script>\n"
   ]
  },
  {
   "cell_type": "markdown",
   "metadata": {},
   "source": [
    "But these are not the only kinds of data structuring. Structured data is basically when the organisation of the data is pre-defined so that certain data is associated with certain labels.\n",
    "\n",
    "<p><a href=\"https://commons.wikimedia.org/wiki/File:Database_models.jpg#/media/File:Database_models.jpg\"><img src=\"https://upload.wikimedia.org/wikipedia/commons/thumb/3/3b/Database_models.jpg/1200px-Database_models.jpg\" alt=\"Database models.jpg\"></a><br>By <a href=\"//commons.wikimedia.org/wiki/User:Mdd\" title=\"User:Mdd\">Marcel Douwe Dekker</a> - <span class=\"int-own-work\" lang=\"en\">Own work</span>, <a href=\"https://creativecommons.org/licenses/by-sa/3.0\" title=\"Creative Commons Attribution-Share Alike 3.0\">CC BY-SA 3.0</a>, <a href=\"https://commons.wikimedia.org/w/index.php?curid=5679857\">Link</a></p>"
   ]
  },
  {
   "cell_type": "markdown",
   "metadata": {},
   "source": [
    "### Working with structured data\n",
    "\n",
    "We will work with structured data by mostly reading it from a file into a dataframe. One of the most common files for holding structured tabular data is the comma separated value (CSV) file. A spreadsheet table or a database table can be saved as a CSV file, which we can then import into a pandas dataframe. If you'd like more information on Pandas, try the [10 minutes to pandas](https://pandas.pydata.org/docs/user_guide/10min.html#min) tutorial.\n",
    "\n",
    "For the following example, we're going to use open data from [data.gov.au](https://data.gov.au) for [2016 SoE Biodiversity Cumulative historical extinctions of Australian mammal species](https://data.gov.au/data/dataset/2016-soe-biodiversity-cumulative-number-of-extinct-mammal-species).\n",
    "\n",
    "Previously, we have read data into pandas from a file. But pandas also allows us to load data from a URL. Before completing the code below, take a look at the data by opening the URL in your browser. Take a note of which column might be appropriate for the index of the dataframe.\n",
    "\n",
    "[https://data.gov.au/dataset/c02731e8-5327-4720-bbc7-1fe67350a569/resource/8339c2b4-c763-4c50-a647-63935537453c/download/cumulative-number-of-extinct-mammal-species.csv](https://data.gov.au/dataset/c02731e8-5327-4720-bbc7-1fe67350a569/resource/8339c2b4-c763-4c50-a647-63935537453c/download/cumulative-number-of-extinct-mammal-species.csv)"
   ]
  },
  {
   "cell_type": "markdown",
   "metadata": {},
   "source": [
    "#### Reading data from a URL"
   ]
  },
  {
   "cell_type": "code",
   "execution_count": null,
   "metadata": {
    "scrolled": true
   },
   "outputs": [],
   "source": [
    "# To use pandas, we need to import it (normally as 'pd')\n",
    "import ??? as pd\n",
    "\n",
    "# We can then open a CSV file into a new dataframe\n",
    "extinct_mammals_url = ???\n",
    "exmam_df = pd.read_csv(extinct_mammals_url,index_col=???)\n",
    "\n",
    "# view the dataframe\n",
    "exmam_df"
   ]
  },
  {
   "cell_type": "markdown",
   "metadata": {},
   "source": [
    "### Saving (writing) data to a file\n",
    "\n",
    "Pandas allows us to write a dataframe to a local file with the function `to_csv()`. This can be used in a way that is similar to reading a CSV into a dataframe."
   ]
  },
  {
   "cell_type": "code",
   "execution_count": null,
   "metadata": {
    "tags": []
   },
   "outputs": [],
   "source": [
    "# We can save our dataframe to use later\n",
    "file_name = \"extinct_aus_mammals.csv\"\n",
    "path = \"data\"\n",
    "exmam_df.to_csv(f\"{??}/{???}\")"
   ]
  },
  {
   "cell_type": "code",
   "execution_count": null,
   "metadata": {
    "scrolled": true
   },
   "outputs": [],
   "source": [
    "# The saved version can be loaded in the same way as the original URL\n",
    "# We have already declared the path and file_name variables in the previous string\n",
    "\n",
    "exmam_file_df = pd.???(f\"{path}/{file_name}\")\n",
    "exmam_file_df"
   ]
  },
  {
   "cell_type": "markdown",
   "metadata": {},
   "source": [
    "#### Reading and writing different formats\n",
    "\n",
    "We can also read and write structured data formats different to CSV. Excel is a common spreadsheet format for structured data. Jupyter allows us to read and write excel files with the functions `read_excel()` and `to_excel()`.\n",
    "\n",
    "Try writing the data above to excel format and then downloading it to your local computer and opening it with Excel. You might also try reading in an excel file that you upload from your local computer.\n",
    "\n",
    "What other formats does pandas *read* and *write*? (TIP: Type `pandas.to` and then the `tab` key to bring up a menu of suggestions.)"
   ]
  },
  {
   "cell_type": "code",
   "execution_count": null,
   "metadata": {},
   "outputs": [],
   "source": [
    "# Make sure the file extension .xlsx matches the save format\n",
    "# The old excel format of .xls does not work with the current version of pandas!\n",
    "\n",
    "excel_file = \"extinct_aus_mammals.xlsx\" # <---- note .xlsx\n",
    "exmam_file_df.to_excel(f\"{path}/{???}\")"
   ]
  },
  {
   "cell_type": "markdown",
   "metadata": {},
   "source": [
    "To avoid writing the (new) index to the excel file, use the option: `index=False`"
   ]
  },
  {
   "cell_type": "code",
   "execution_count": null,
   "metadata": {},
   "outputs": [],
   "source": [
    "exmam_file_df.to_excel(f\"{path}/{excel_file}\",???)"
   ]
  },
  {
   "cell_type": "code",
   "execution_count": null,
   "metadata": {},
   "outputs": [],
   "source": [
    "exmam_excel_df = pd.read_excel(f\"{path}/{excel_file}\",???=\"Decade\")\n",
    "exmam_excel_df"
   ]
  },
  {
   "cell_type": "markdown",
   "metadata": {},
   "source": [
    "---\n",
    "### Example - Workplace safety\n",
    "\n",
    "#### QDAVI\n",
    "\n",
    "When addressing business concerns, our interest is much more than just the data analytics. We are interested in what is *appropriate, efficous, ethical ...* --  what is the ***right*** kind of analytics to help provide the ***right*** kind of insights for business. To provide some structure to our approach, we follow a cycle - **QDAVI** - to address a business concern:\n",
    "\n",
    "1. **Q**uestion\n",
    "2. **D**ata\n",
    "3. **A**nalysis\n",
    "4. **V**isualisation\n",
    "5. **I**nsight\n",
    "\n",
    "<img src=\"graphics/QDAVI_cycle_sm.png\" width=\"50%\" />"
   ]
  },
  {
   "cell_type": "markdown",
   "metadata": {},
   "source": [
    "#### Internal business concerns\n",
    "\n",
    "Review business concerns\n",
    "\n",
    "What are internal business concerns?"
   ]
  },
  {
   "cell_type": "markdown",
   "metadata": {},
   "source": [
    "**BUSINESS CONCERN:**\n",
    "\n",
    "Workplace safety can have a significant impact on business success. Not only do accidents and injury cost time and money, but a safe healthy environment can contribute to a positive culture which in turn can improve employee wellbeing and lift productivity and efficacy.\n",
    "\n",
    "https://www.comcare.gov.au/safe-healthy-work/healthy-workplace/benefits"
   ]
  },
  {
   "cell_type": "markdown",
   "metadata": {},
   "source": [
    "#### 1. Question\n",
    "\n",
    "To improve safety, should we target any particular groups of people?\n",
    "\n",
    "#### 2. Data"
   ]
  },
  {
   "cell_type": "code",
   "execution_count": null,
   "metadata": {
    "scrolled": true
   },
   "outputs": [],
   "source": [
    "# Sample data from https://www.contextures.com/xlsampledata01.html#morefiles\n",
    "\n",
    "# To use pandas, we need to import it (normally as 'pd')\n",
    "import pandas as pd\n",
    "\n",
    "# We can then open a CSV file into a new dataframe\n",
    "safety_df = pd.read_csv('data/sampledatasafety.csv')\n",
    "\n",
    "# view the dataframe\n",
    "safety_df"
   ]
  },
  {
   "cell_type": "markdown",
   "metadata": {},
   "source": [
    "#### 3. Analysis\n",
    "\n",
    "There are usually a number of ways of doing a single an analysis task. We will use a few different techniques over the notebook to get familiar with what is possible.\n",
    "\n",
    "Let's start with some [descriptive statistics](https://www.mygreatlearning.com/blog/introduction-descriptive-statistics/).\n",
    "\n",
    "**Numerical data**"
   ]
  },
  {
   "cell_type": "code",
   "execution_count": null,
   "metadata": {},
   "outputs": [],
   "source": [
    "safety_df['Days Lost'].describe(include='all')"
   ]
  },
  {
   "cell_type": "markdown",
   "metadata": {},
   "source": [
    "**Categorical data**\n",
    "\n",
    "What if our data is categorical?"
   ]
  },
  {
   "cell_type": "code",
   "execution_count": null,
   "metadata": {},
   "outputs": [],
   "source": [
    "safety_df['Report Type'].describe()"
   ]
  },
  {
   "cell_type": "markdown",
   "metadata": {},
   "source": [
    "What can you learn from the data by exploring using the `describe` function?\n",
    "[Learn more](https://datatofish.com/descriptive-statistics-pandas/)"
   ]
  },
  {
   "cell_type": "markdown",
   "metadata": {},
   "source": [
    "#### Digging deeper\n",
    "\n",
    "It may help to 'drill down' into the data. For example, by checking how many Male and Female are involved in incidents, by counting the number of rows for each."
   ]
  },
  {
   "cell_type": "code",
   "execution_count": null,
   "metadata": {},
   "outputs": [],
   "source": [
    "# First how many incidents are in the database?\n",
    "incident_count = len(???)\n",
    "incident_count"
   ]
  },
  {
   "cell_type": "code",
   "execution_count": null,
   "metadata": {},
   "outputs": [],
   "source": [
    "# We can get a boolean value series for a whole column by applying a condition to that column\n",
    "safety_df['Gender']=='Male'"
   ]
  },
  {
   "cell_type": "code",
   "execution_count": null,
   "metadata": {
    "scrolled": true
   },
   "outputs": [],
   "source": [
    "# To get the true values of the column we just use the series as the selector for the dataframe\n",
    "male_safety_df = safety_df[???]\n",
    "male_safety_df"
   ]
  },
  {
   "cell_type": "code",
   "execution_count": null,
   "metadata": {},
   "outputs": [],
   "source": [
    "# How many incidents for Males?\n",
    "male_incident_count = len(???)\n",
    "male_incident_count"
   ]
  },
  {
   "cell_type": "code",
   "execution_count": null,
   "metadata": {},
   "outputs": [],
   "source": [
    "# Output as percentage:\n",
    "male_ratio = male_incident_count/incident_count\n",
    "print(\"Of all safety incidents, {:.2%} involved males\".format(male_ratio))"
   ]
  },
  {
   "cell_type": "markdown",
   "metadata": {},
   "source": [
    "Based on this, we could focus training efforts on men as that is likely to have more impact, but this is pretty broad. Let's have a look at age groups. \n",
    "\n",
    "Filtering rows for each group is tedious, what we need to is to *group* the data frame into rows by `Age Group` and then count the number of rows in each group. Turns out, pandas has a way of doing exactly that with the `GroupBy` function."
   ]
  },
  {
   "cell_type": "code",
   "execution_count": null,
   "metadata": {},
   "outputs": [],
   "source": [
    "# Just doing the groups with the males to start with\n",
    "male_safety_df.groupby(???).count()"
   ]
  },
  {
   "cell_type": "code",
   "execution_count": null,
   "metadata": {},
   "outputs": [],
   "source": [
    "# What about Department?\n",
    "male_safety_df.groupby(???).count()"
   ]
  },
  {
   "cell_type": "markdown",
   "metadata": {},
   "source": [
    "The incidents are fairly evenly spread across age groups and departments, but perhaps there is a difference in the seriousness of the injuries for these groups, so maybe we need to filter the data based on days lost:"
   ]
  },
  {
   "cell_type": "code",
   "execution_count": null,
   "metadata": {},
   "outputs": [],
   "source": [
    "minor_male_df = male_safety_df[male_safety_df['Days Lost'] == 0]\n",
    "minor_male_df"
   ]
  },
  {
   "cell_type": "code",
   "execution_count": null,
   "metadata": {},
   "outputs": [],
   "source": [
    "# Output as percentage:\n",
    "minor_male_ratio = len(minor_male_df)/male_incident_count\n",
    "print(\"Of all male safety incidents, {:.2%} were minor involving {} days lost\".format(minor_male_ratio,0))"
   ]
  },
  {
   "cell_type": "code",
   "execution_count": null,
   "metadata": {
    "scrolled": true
   },
   "outputs": [],
   "source": [
    "# More than 1 day lost\n",
    "major_male_df = male_safety_df[???]\n",
    "major_male_df"
   ]
  },
  {
   "cell_type": "code",
   "execution_count": null,
   "metadata": {},
   "outputs": [],
   "source": [
    "# Retry age\n",
    "major_male_df.groupby(['Age Group']).count()"
   ]
  },
  {
   "cell_type": "code",
   "execution_count": null,
   "metadata": {},
   "outputs": [],
   "source": [
    "# ... and department\n",
    "major_male_df.groupby(['Department']).count()"
   ]
  },
  {
   "cell_type": "code",
   "execution_count": null,
   "metadata": {},
   "outputs": [],
   "source": [
    "# What about both with a total of days lost?\n",
    "major_male_df.groupby(['Department','Age Group']).sum('Days Lost')"
   ]
  },
  {
   "cell_type": "code",
   "execution_count": null,
   "metadata": {},
   "outputs": [],
   "source": [
    "# Just days lost\n",
    "male_days_df = major_male_df.groupby(['Department','Age Group']).sum('Days Lost')['Days Lost'] \n",
    "male_days_df"
   ]
  },
  {
   "cell_type": "code",
   "execution_count": null,
   "metadata": {},
   "outputs": [],
   "source": [
    "# Filter total days more than 5\n",
    "max_male_days_df = male_days_df[male_days_df > 10]\n",
    "max_male_days_df"
   ]
  },
  {
   "cell_type": "markdown",
   "metadata": {},
   "source": [
    "#### 4. Visualisation\n",
    "\n",
    "Although we have some helpful information which we can use for insights, often the visualisation process can help us derive further insights."
   ]
  },
  {
   "cell_type": "code",
   "execution_count": null,
   "metadata": {},
   "outputs": [],
   "source": [
    "max_male_days_df.plot(kind='bar')"
   ]
  },
  {
   "cell_type": "code",
   "execution_count": null,
   "metadata": {},
   "outputs": [],
   "source": [
    "# Unpack this a bit more using the unstack() function\n",
    "\n",
    "max_male_days_df.unstack().plot(kind='bar')"
   ]
  },
  {
   "cell_type": "markdown",
   "metadata": {},
   "source": [
    "### 5. Insights\n",
    "\n",
    "* ???"
   ]
  }
 ],
 "metadata": {
  "kernelspec": {
   "display_name": "Python 3",
   "language": "python",
   "name": "python3"
  },
  "language_info": {
   "codemirror_mode": {
    "name": "ipython",
    "version": 3
   },
   "file_extension": ".py",
   "mimetype": "text/x-python",
   "name": "python",
   "nbconvert_exporter": "python",
   "pygments_lexer": "ipython3",
   "version": "3.6.9"
  },
  "qut": {
   "creation_period": "2023_sem2",
   "nb_name": "A2-internal_concerns",
   "unit_code": "IAB303"
  }
 },
 "nbformat": 4,
 "nbformat_minor": 4
}
