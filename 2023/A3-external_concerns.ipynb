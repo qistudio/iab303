{
 "cells": [
  {
   "cell_type": "markdown",
   "metadata": {},
   "source": [
    "<div class=\"alert alert-block alert-info\"><b>IAB303</b> - Data Analytics for Business Insight</div>"
   ]
  },
  {
   "cell_type": "markdown",
   "metadata": {},
   "source": [
    "## External Concerns & Unstructured data"
   ]
  },
  {
   "cell_type": "markdown",
   "metadata": {},
   "source": [
    "[CoreSignal: External Data and Its Integration to Business Strategy](https://coresignal.com/blog/external-data/)\n",
    "\n",
    "> Organizations that use external data effectively have more potential to place themselves ahead of their competition when it comes to strategic planning.\n",
    "\n",
    "- Open data\n",
    "- Paid data\n",
    "- Shared data\n",
    "- Web data\n",
    "\n",
    "[McKinsey: Harnessing the power of external data](https://www.mckinsey.com/capabilities/mckinsey-digital/our-insights/harnessing-the-power-of-external-data)\n",
    "\n",
    "> The COVID-19 crisis provides an example of just how relevant external data can be. In a few short months, consumer purchasing habits, activities, and digital behavior changed dramatically, making preexisting consumer research, forecasts, and predictive models obsolete. Moreover, as organizations scrambled to understand these changing patterns, they discovered little of use in their internal data. Meanwhile, a wealth of external data could—and still can—help organizations plan and respond at a granular level.\n",
    "\n",
    "- Customer Analytics\n",
    "- Strategic Analysis\n",
    "- Operations and Forecasting\n",
    "- Risk Management"
   ]
  },
  {
   "cell_type": "markdown",
   "metadata": {},
   "source": [
    "### Unstructured data\n",
    "\n",
    "Humans can make meaning from data without necessarily having pre-defined structure. In fact we frequently use very ill-defined structures to organise and communicate our thinking. We are also adept at creating these kinds of structures as required, in the moment, rather than requiring the data be structured before we can make sense of it.\n",
    "\n",
    "<p><a href=\"https://commons.wikimedia.org/wiki/File:Coggle_Document.png#/media/File:Coggle_Document.png\"><img src=\"https://upload.wikimedia.org/wikipedia/commons/1/19/Coggle_Document.png\" alt=\"Coggle Document.png\"></a><br>By <a href=\"https://en.wikipedia.org/wiki/User:Lurched95\" class=\"extiw\" title=\"en:User:Lurched95\">User:Lurched95</a>, <a href=\"https://creativecommons.org/licenses/by-sa/3.0\" title=\"Creative Commons Attribution-Share Alike 3.0\">CC BY-SA 3.0</a>, <a href=\"https://commons.wikimedia.org/w/index.php?curid=33923406\">Link</a></p>\n"
   ]
  },
  {
   "cell_type": "markdown",
   "metadata": {},
   "source": [
    "Computers are not so adept, so complex in the moment sense-making tasks on unstructured data are often easy for humans but very challenging for computers.\n",
    "\n",
    "<img src=\"https://static.boredpanda.com/blog/wp-content/uploads/2016/03/dog-food-comparison-bagel-muffin-lookalike-teenybiscuit-karen-zack-5__700.jpg\">\n",
    "\n",
    "[Puppies or Food (boredpanda.com March 2016)](https://www.boredpanda.com/dog-food-comparison-bagel-muffin-lookalike-teenybiscuit-karen-zack/)"
   ]
  },
  {
   "cell_type": "markdown",
   "metadata": {},
   "source": [
    "### Kinds of structuring of data\n",
    "\n",
    "In order for us to perform data analysis on unstructured data, we will usually need to do some structuring of it, and this frequently results in semi-structured data. \n",
    "\n",
    "The 3 different kinds of structuring can be summarised as:\n",
    "\n",
    "* **Structured** $\\Rightarrow$ when the structure is pre-defined\n",
    "* **Structured** $\\Rightarrow$ is almost synonymous with 'stored in a RDMS', but can also exist in other software\n",
    "* **Unstructured** $\\leadsto$ when there is no pre-defined structure, or can't easily be conformed to a structure\n",
    "* **Unstructured** $\\leadsto$ commonly raw text, but also images, video, audio\n",
    "* **Unstructured** $\\leadsto$ can appear to have some kind of structure, but often that appearence is derived from our understanding, not from the data itself\n",
    "* **Semi-structured** $\\rightarrow$ the data can be stored in defined structure, but the actual instance of the structure is not predefined"
   ]
  },
  {
   "cell_type": "markdown",
   "metadata": {},
   "source": [
    "#### Recap\n",
    "\n",
    "Last week, we read structured data in the form of a CSV file from a URL, and saved the resulting CSV (a plain text file formatted as comma separated values). \n",
    "\n",
    "This week, we will use the saved file. So if you missed this step last week, make sure you run the following code."
   ]
  },
  {
   "cell_type": "code",
   "execution_count": null,
   "metadata": {},
   "outputs": [],
   "source": [
    "# Load a CSV from remote URL and save a local file\n",
    "import pandas as pd\n",
    "extinct_mammals_url = \"https://data.gov.au/dataset/c02731e8-5327-4720-bbc7-1fe67350a569/resource/8339c2b4-c763-4c50-a647-63935537453c/download/cumulative-number-of-extinct-mammal-species.csv\"\n",
    "exmam_df = pd.read_csv(extinct_mammals_url)\n",
    "file_name = \"extinct_aus_mammals.csv\"\n",
    "path = \"data\"\n",
    "exmam_df.to_csv(f\"{path}/{file_name}\",index=False)"
   ]
  },
  {
   "cell_type": "markdown",
   "metadata": {},
   "source": [
    "### Semi-structured data\n",
    "\n",
    "Semi-structured data is a lot more prevalent than structured data, but the computational tools are not as mature as structured data tools. Most semi-structured data tools have come about with the advent of the internet and then social media."
   ]
  },
  {
   "cell_type": "markdown",
   "metadata": {},
   "source": [
    "### Working with semi-structured data\n",
    "\n",
    "We will work with semi-structured data mostly by:\n",
    "1. creating it from plain text which is read from a file, or\n",
    "2. importing the data from a `JSON` file.\n",
    "\n",
    "*JSON* is a way of labelling data, but without requiring all data to be the same or without requiring the structure to be fixed in advance.\n"
   ]
  },
  {
   "cell_type": "markdown",
   "metadata": {},
   "source": [
    "#### Reading plain text files"
   ]
  },
  {
   "cell_type": "code",
   "execution_count": null,
   "metadata": {},
   "outputs": [],
   "source": [
    "# Read in a plain text file\n",
    "with open(f\"{path}/{file_name}\", 'r') as fp:\n",
    "    exmam_text = fp.???\n",
    "\n",
    "# Print the string that was read from the file\n",
    "print(???)"
   ]
  },
  {
   "cell_type": "code",
   "execution_count": null,
   "metadata": {},
   "outputs": [],
   "source": [
    "# What does the actual string look like (not formatted)\n",
    "exmam_text"
   ]
  },
  {
   "cell_type": "code",
   "execution_count": null,
   "metadata": {},
   "outputs": [],
   "source": [
    "# We can read the text in a semi-structured format by taking advantage of the lines in the file\n",
    "with open(f\"{path}/{file_name}\", 'r') as fp:\n",
    "    exmam_lines = fp.???\n",
    "\n",
    "print(???)"
   ]
  },
  {
   "cell_type": "code",
   "execution_count": null,
   "metadata": {},
   "outputs": [],
   "source": [
    "# Show the list that was read from the file\n",
    "???"
   ]
  },
  {
   "cell_type": "markdown",
   "metadata": {},
   "source": [
    "In each of these examples, notice that we have `\\n` newline characters in the data. This is because Python is keeping all of the data from the original file including the characters that specify the end of a line of text.\n",
    "\n",
    "A way to import the data *without* this character is to split the lines using the string `.split()` function after reading in the text as a single string."
   ]
  },
  {
   "cell_type": "code",
   "execution_count": null,
   "metadata": {},
   "outputs": [],
   "source": [
    "# We can also create the list, by splitting the original string\n",
    "lines = exmam_text.split(???)\n",
    "\n",
    "# view the list\n",
    "???"
   ]
  },
  {
   "cell_type": "markdown",
   "metadata": {},
   "source": [
    "Now each line of the file is an element in the list and the `\\n` characters have been removed. \n",
    "\n",
    "However, because each line includes 2 data points, we can split each line. This creates a list of lists which gives us a structure similar to a dataframe."
   ]
  },
  {
   "cell_type": "code",
   "execution_count": null,
   "metadata": {},
   "outputs": [],
   "source": [
    "# We can also create the list, by splitting the original string\n",
    "lines = exmam_text.split('\\n')\n",
    "\n",
    "# view the list\n",
    "for line in lines:\n",
    "    data_points = line.split(???)\n",
    "    print(data_points)"
   ]
  },
  {
   "cell_type": "markdown",
   "metadata": {},
   "source": [
    "Notice that the data is not `clean`. Think about ways that we might be able to fix this."
   ]
  },
  {
   "cell_type": "markdown",
   "metadata": {},
   "source": [
    "#### Reading JSON\n",
    "\n",
    "JSON is a very common file format for semi-structured data. To read this format we open the file as before, but we use the `json` library to help load the data into a Python dictionary or `dict` structure."
   ]
  },
  {
   "cell_type": "code",
   "execution_count": null,
   "metadata": {},
   "outputs": [],
   "source": [
    "# We need the JSON library\n",
    "import json"
   ]
  },
  {
   "cell_type": "code",
   "execution_count": null,
   "metadata": {},
   "outputs": [],
   "source": [
    "# Read a JSON file like text, but with conversion to python dictionary\n",
    "json_file_name = \"simple_json_file.json\"\n",
    "path = \"data\"\n",
    "\n",
    "with open(f\"{path}/{json_file_name}\", ???) as file:\n",
    "    json_data = json.load(file)\n",
    "\n",
    "# print the loaded data\n",
    "print(???)"
   ]
  },
  {
   "cell_type": "code",
   "execution_count": null,
   "metadata": {},
   "outputs": [],
   "source": [
    "# View the json data\n",
    "???"
   ]
  },
  {
   "cell_type": "markdown",
   "metadata": {},
   "source": [
    "The advantage of a `dict` in python is that you can access a `value` by calling its `key`. These are called *key-value pairs* and are fundamental to a dictionary structure."
   ]
  },
  {
   "cell_type": "code",
   "execution_count": null,
   "metadata": {},
   "outputs": [],
   "source": [
    "# Access values in the dict by calling the keys\n",
    "json_data['Key 1']"
   ]
  },
  {
   "cell_type": "code",
   "execution_count": null,
   "metadata": {},
   "outputs": [],
   "source": [
    "# Get a list of keys for a dict\n",
    "json_data.keys()"
   ]
  },
  {
   "cell_type": "code",
   "execution_count": null,
   "metadata": {},
   "outputs": [],
   "source": [
    "# Iterate over the keys in a dict\n",
    "\n",
    "for key in json_data.???:\n",
    "    print(\"key:\",???)\n",
    "    value = json_data[???]\n",
    "    print(\"value:\",???)\n",
    "    print()"
   ]
  },
  {
   "cell_type": "markdown",
   "metadata": {},
   "source": [
    "JSON data can include dictionary structures and list structures and they can be nested. To see this, in action we can load json data from a URL. \n",
    "\n",
    "To get data from a URL we use the `requests` library. This works like your web browser by sending `get` *request* to a web server, and then processing the response (instead of rendering in a browser)."
   ]
  },
  {
   "cell_type": "code",
   "execution_count": null,
   "metadata": {},
   "outputs": [],
   "source": [
    "# You can also load json data from a URL\n",
    "import requests\n",
    "\n",
    "# JSON data about the CSV on extinct mammals from the same website above\n",
    "mammal_url = \"https://data.gov.au/api/3/action/package_show?id=c02731e8-5327-4720-bbc7-1fe67350a569\"\n",
    "\n",
    "# Request the content from the web server with a .get() request\n",
    "response = requests.get(???)\n",
    "\n",
    "response.content"
   ]
  },
  {
   "cell_type": "code",
   "execution_count": null,
   "metadata": {
    "scrolled": true
   },
   "outputs": [],
   "source": [
    "# Get the data as json from the response\n",
    "\n",
    "mammal_json = response.json()\n",
    "\n",
    "mammal_json"
   ]
  },
  {
   "cell_type": "markdown",
   "metadata": {},
   "source": [
    "Since we know this is json data, we can use the structure to navigate the data and find what we are interested in."
   ]
  },
  {
   "cell_type": "code",
   "execution_count": null,
   "metadata": {},
   "outputs": [],
   "source": [
    "# Take a look at the keys\n",
    "mammal_json.keys()"
   ]
  },
  {
   "cell_type": "code",
   "execution_count": null,
   "metadata": {},
   "outputs": [],
   "source": [
    "# What about the keys down a level?\n",
    "mammal_json[???].keys()"
   ]
  },
  {
   "cell_type": "code",
   "execution_count": null,
   "metadata": {},
   "outputs": [],
   "source": [
    "# Digging deeper\n",
    "mammal_json['result']['resources']"
   ]
  },
  {
   "cell_type": "markdown",
   "metadata": {},
   "source": [
    "This is a list of dicts - let's get the first dict in the list (item 0) and explore further"
   ]
  },
  {
   "cell_type": "code",
   "execution_count": null,
   "metadata": {},
   "outputs": [],
   "source": [
    "# Only one item in the list - get it by accessing the first item 0\n",
    "mammal_json['result']['resources'][???]"
   ]
  },
  {
   "cell_type": "markdown",
   "metadata": {},
   "source": [
    "We can save this dictionary formated data as *JSON* by using the `dumps()` function of the `json` library."
   ]
  },
  {
   "cell_type": "code",
   "execution_count": null,
   "metadata": {},
   "outputs": [],
   "source": [
    "# Dump the dict into a json string\n",
    "metadata = json.dumps(???)\n",
    "metadata"
   ]
  },
  {
   "cell_type": "code",
   "execution_count": null,
   "metadata": {},
   "outputs": [],
   "source": [
    "# Write the json string to a file\n",
    "file_name = \"extinct_mammals_metadata.json\"\n",
    "with open(f\"{path}/{file_name}\",'w') as fp:\n",
    "    fp.write(???)"
   ]
  },
  {
   "cell_type": "markdown",
   "metadata": {},
   "source": [
    "Open the file that you just created to check that it has been written correctly."
   ]
  },
  {
   "cell_type": "code",
   "execution_count": null,
   "metadata": {},
   "outputs": [],
   "source": [
    "# read the file back in\n",
    "with open(f\"{path}/{file_name}\",'r') as fp:\n",
    "    text = fp.read()\n",
    "    file_json = json.loads(text)\n",
    "\n",
    "file_json"
   ]
  },
  {
   "cell_type": "markdown",
   "metadata": {},
   "source": [
    "Explore the JSON structure starting with the keys"
   ]
  },
  {
   "cell_type": "code",
   "execution_count": null,
   "metadata": {},
   "outputs": [],
   "source": [
    "# What keys are available in the first item in the list of resources?\n",
    "mammal_json['result']['resources'][0].???"
   ]
  },
  {
   "cell_type": "code",
   "execution_count": null,
   "metadata": {},
   "outputs": [],
   "source": [
    "# Take a look at the description\n",
    "mammal_json['result']['resources'][0][???]"
   ]
  },
  {
   "cell_type": "code",
   "execution_count": null,
   "metadata": {},
   "outputs": [],
   "source": [
    "# Format the description as a list\n",
    "mammal_json['result']['resources'][0]['description'].split(???)"
   ]
  },
  {
   "cell_type": "code",
   "execution_count": null,
   "metadata": {},
   "outputs": [],
   "source": [
    "# Get the first item in the list\n",
    "mammal_json['result']['resources'][0]['description'].split('\\r\\n')[???]"
   ]
  },
  {
   "cell_type": "code",
   "execution_count": null,
   "metadata": {},
   "outputs": [],
   "source": [
    "# since the result is a dictionary, we can the value for one particular key\n",
    "mammal_json[\"result\"][\"notes\"]"
   ]
  },
  {
   "cell_type": "code",
   "execution_count": null,
   "metadata": {},
   "outputs": [],
   "source": [
    "# we can take this data and structure it further\n",
    "\n",
    "notes = mammal_json[\"result\"][\"notes\"]\n",
    "struct_notes = notes.split(???)\n",
    "for note in struct_notes:\n",
    "    print(???)"
   ]
  },
  {
   "cell_type": "markdown",
   "metadata": {},
   "source": [
    "### Visualise\n",
    "\n",
    "We can use HTML to visualise text."
   ]
  },
  {
   "cell_type": "code",
   "execution_count": null,
   "metadata": {},
   "outputs": [],
   "source": [
    "from IPython.display import display, HTML\n",
    "\n",
    "heading = f\"<h3>???</h3>\"\n",
    "\n",
    "content = \"\"\n",
    "for note in struct_notes:\n",
    "    content += f\"<p>???</p>\"\n",
    "\n",
    "display(HTML(???+???))"
   ]
  },
  {
   "cell_type": "markdown",
   "metadata": {},
   "source": [
    "### Explore further\n",
    "\n",
    "Try experimenting with exploring the dict format to find interesting parts of the data. \n",
    "\n",
    "You might also like to try saving the extracted data as a file, and creating a new dataframe with the structured data."
   ]
  },
  {
   "cell_type": "code",
   "execution_count": null,
   "metadata": {},
   "outputs": [],
   "source": [
    "# Your code here\n",
    "???"
   ]
  },
  {
   "cell_type": "markdown",
   "metadata": {},
   "source": [
    "### Accessing the data via The Guardian API\n",
    "\n",
    "A useful external data source are news publishers. **The Guardian** provides an Application Programming Interface (API) which allows us to search and retrieve news articles.\n",
    "\n",
    "See the `Accessing_the_Guardian_API.ipynb` notebook file for details on obtaining data from the API. "
   ]
  }
 ],
 "metadata": {
  "kernelspec": {
   "display_name": "Python 3",
   "language": "python",
   "name": "python3"
  },
  "language_info": {
   "codemirror_mode": {
    "name": "ipython",
    "version": 3
   },
   "file_extension": ".py",
   "mimetype": "text/x-python",
   "name": "python",
   "nbconvert_exporter": "python",
   "pygments_lexer": "ipython3",
   "version": "3.6.9"
  },
  "qut": {
   "creation_period": "2023_sem2",
   "nb_name": "A3-external_concerns",
   "unit_code": "IAB303"
  }
 },
 "nbformat": 4,
 "nbformat_minor": 4
}
