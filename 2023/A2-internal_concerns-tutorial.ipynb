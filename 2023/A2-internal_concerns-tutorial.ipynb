{
    "cells": [
        {
            "cell_type": "markdown",
            "metadata": {
                "cell_name": "header_cell"
            },
            "source": [
                "<div class=\"alert alert-block alert-info\"><b>IAB303</b> - Data Analytics for Business Insight</div>"
            ]
        },
        {
            "cell_type": "markdown",
            "metadata": {
                "cell_name": "title_cell"
            },
            "source": [
                "# Tutorial: Internal Concerns & Structured Data"
            ]
        },
        {
            "cell_type": "markdown",
            "metadata": {},
            "source": [
                "### 1. Question\n",
                "\n",
                "**CONCERN**\n",
                "\n",
                "Workplace safety can have a significant impact on business success. Not only do accidents and injury cost time and money, but a safe healthy environment can contribute to a positive culture which in turn can improve employee wellbeing and lift productivity and efficacy.\n",
                "\n",
                "https://www.comcare.gov.au/safe-healthy-work/healthy-workplace/benefits\n",
                "\n",
                "The business is looking to launch a program to reduce the costs related to incidents.\n",
                "\n",
                "**What questions might the business be interested in answering, and how might we use data analytics to address these questions?**\n",
                "\n",
                "Write down some potential questions below. Having a quick review of the dataset might be helpful."
            ]
        },
        {
            "cell_type": "markdown",
            "metadata": {},
            "source": [
                "*\n",
                "* \n",
                "* "
            ]
        },
        {
            "cell_type": "markdown",
            "metadata": {},
            "source": [
                "### 2. Data\n",
                "\n",
                "The data is going to be the same used during the studio session. The file is located in the data folder, week-3, `sampledatasafety.csv`"
            ]
        },
        {
            "cell_type": "code",
            "execution_count": null,
            "metadata": {},
            "outputs": [],
            "source": [
                "# Import libraries\n",
                "import pandas as ???\n",
                "import plotly.express as ???"
            ]
        },
        {
            "cell_type": "code",
            "execution_count": null,
            "metadata": {},
            "outputs": [],
            "source": [
                "# We can then open a CSV file into a new dataframe\n",
                "safety_df = pd.read_csv(???)\n",
                "\n",
                "# view the dataframe\n",
                "safety_df\n"
            ]
        },
        {
            "cell_type": "markdown",
            "metadata": {},
            "source": [
                "#### Clean/preprocess data"
            ]
        },
        {
            "cell_type": "code",
            "execution_count": null,
            "metadata": {},
            "outputs": [],
            "source": [
                "# Check that we have the correct data types\n",
                "safety_df.dtypes"
            ]
        },
        {
            "cell_type": "code",
            "execution_count": null,
            "metadata": {},
            "outputs": [],
            "source": [
                "# Convert the incident cost to a float data type\n",
                "safety_df[\"Incident Cost\"] = safety_df[\"Incident Cost\"].apply(lambda x: x.replace(\"$\", \"\").replace(\",\", \"\")).astype(\"float\")\n",
                "safety_df"
            ]
        },
        {
            "cell_type": "code",
            "execution_count": null,
            "metadata": {},
            "outputs": [],
            "source": [
                "# Check the data types again to ensure we fix the problem\n",
                "safety_df.dtypes"
            ]
        },
        {
            "cell_type": "markdown",
            "metadata": {},
            "source": [
                "Before getting into the analysis, what are the general observations can you find from the dataset? Feel free to explore below. "
            ]
        },
        {
            "cell_type": "code",
            "execution_count": null,
            "metadata": {},
            "outputs": [],
            "source": [
                "# Explore the dataset - add more cells if you like"
            ]
        },
        {
            "cell_type": "markdown",
            "metadata": {},
            "source": [
                "### 3. Analysis\n",
                "\n",
                "Here are some example questions we can analyse:\n",
                "- How much has cost the incidents to the business?\n",
                "- Can be identified the most expensive incidents?\n",
                "- What else can be related to the costs?"
            ]
        },
        {
            "cell_type": "code",
            "execution_count": null,
            "metadata": {},
            "outputs": [],
            "source": [
                "# The total costs of incidents\n",
                "safety_df[\"Incident Cost\"].sum()"
            ]
        },
        {
            "cell_type": "code",
            "execution_count": null,
            "metadata": {},
            "outputs": [],
            "source": [
                "# The incident cost by incident types\n",
                "incident_types_df = safety_df[[???, ???]].groupby(???).sum() \n",
                "\n",
                "incident_types_df"
            ]
        },
        {
            "cell_type": "code",
            "execution_count": null,
            "metadata": {},
            "outputs": [],
            "source": [
                "# The shift has an impact in the incident cost\n",
                "shift_df = safety_df[[???, ???]].groupby(???).sum()\n",
                "shift_df"
            ]
        },
        {
            "cell_type": "code",
            "execution_count": null,
            "metadata": {},
            "outputs": [],
            "source": [
                "# Is there any plant that has higher incident cost\n",
                "plant_df = safety_df[[???, ???]].groupby(???).sum()\n",
                "plant_df"
            ]
        },
        {
            "cell_type": "markdown",
            "metadata": {},
            "source": [
                "What results can you find so far? Report your findings and any insights from your analysis. "
            ]
        },
        {
            "cell_type": "markdown",
            "metadata": {},
            "source": []
        },
        {
            "cell_type": "markdown",
            "metadata": {},
            "source": [
                "Any other questions you would like to explore? \n",
                "Please refer to the questions you came up earlier in the *1. Question* section."
            ]
        },
        {
            "cell_type": "code",
            "execution_count": null,
            "metadata": {},
            "outputs": [],
            "source": [
                "# Analyse additional questions you proposed earlier - add more cells if you like"
            ]
        },
        {
            "cell_type": "markdown",
            "metadata": {},
            "source": [
                "### 4. Visualisation"
            ]
        },
        {
            "cell_type": "code",
            "execution_count": null,
            "metadata": {},
            "outputs": [],
            "source": [
                "# Plot the incident types df\n",
                "fig = px.bar(\n",
                "    incident_types_df.sort_values(by=???, ascending=False),\n",
                "    y=\"Incident Cost\",\n",
                "    title=\"Incident cost by incident type\"\n",
                ")\n",
                "\n",
                "fig.show()"
            ]
        },
        {
            "cell_type": "code",
            "execution_count": null,
            "metadata": {},
            "outputs": [],
            "source": [
                "# Plot the incident types df\n",
                "fig = px.bar(\n",
                "    shift_df.sort_values(by=???, ascending=False),\n",
                "    y=\"Incident Cost\",\n",
                "    title=\"Incident cost by shift\"\n",
                ")\n",
                "\n",
                "fig.show()"
            ]
        },
        {
            "cell_type": "code",
            "execution_count": null,
            "metadata": {},
            "outputs": [],
            "source": [
                "# Plot the plant df\n",
                "fig = px.bar(\n",
                "    plant_df.sort_values(by=???, ascending=False),\n",
                "    y=\"Incident Cost\",\n",
                "    title=\"Incident cost by plant\"\n",
                ")\n",
                "\n",
                "fig.show()"
            ]
        },
        {
            "cell_type": "markdown",
            "metadata": {},
            "source": []
        },
        {
            "cell_type": "markdown",
            "metadata": {},
            "source": [
                "What can you see from the visualisation above? Can you make any conclusions based on the visualisation?\n",
                "\n",
                "-\n",
                "-\n",
                "-"
            ]
        },
        {
            "cell_type": "markdown",
            "metadata": {},
            "source": [
                "What else would be beneficial to be visualised? Any other types of visualisations that might be useful?\n",
                "\n",
                "Check out [From data to Viz](https://www.data-to-viz.com/) for inspiration. "
            ]
        },
        {
            "cell_type": "code",
            "execution_count": null,
            "metadata": {},
            "outputs": [],
            "source": [
                "# Explore other types of visualisation - add more cells if you like"
            ]
        },
        {
            "cell_type": "markdown",
            "metadata": {},
            "source": [
                "### 5. Insights\n",
                "\n",
                "1. What is the concern?\n",
                "2. What data did we use?\n",
                "3. How did we analyse it, what decisions and why?\n",
                "4. What do the visualisations tell us?\n",
                "5. What is the recommendation for the concern? What other information would be helpful? What *doesn't* the data tell us? Can we make inferences?"
            ]
        },
        {
            "cell_type": "markdown",
            "metadata": {},
            "source": []
        },
        {
            "cell_type": "markdown",
            "metadata": {},
            "source": [
                "Post analysis reflection: Do you think your analysis above is fair? What could go wrong?"
            ]
        },
        {
            "cell_type": "markdown",
            "metadata": {},
            "source": []
        }
    ],
    "metadata": {
        "hide_input": false,
        "kernelspec": {
            "display_name": "Python 3 (ipykernel)",
            "language": "python",
            "name": "python3"
        },
        "language_info": {
            "codemirror_mode": {
                "name": "ipython",
                "version": 3
            },
            "file_extension": ".py",
            "mimetype": "text/x-python",
            "name": "python",
            "nbconvert_exporter": "python",
            "pygments_lexer": "ipython3",
            "version": "3.10.12"
        },
        "qut": {
            "creation_period": "2023_sem2",
            "nb_name": "A2-internal_concerns-tutorial",
            "unit_code": "IAB303"
        }
    },
    "nbformat": 4,
    "nbformat_minor": 4
}