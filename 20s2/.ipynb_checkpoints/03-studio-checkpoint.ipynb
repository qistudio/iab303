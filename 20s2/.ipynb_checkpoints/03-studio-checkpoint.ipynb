{
 "cells": [
  {
   "cell_type": "markdown",
   "metadata": {
    "ExecuteTime": {
     "end_time": "2020-08-02T17:58:00.544090Z",
     "start_time": "2020-08-02T17:58:00.540838Z"
    }
   },
   "source": [
    "<div class=\"alert alert-block alert-info\"><b>IAB303</b> - Data Analytics for Business Insight</div>"
   ]
  },
  {
   "cell_type": "markdown",
   "metadata": {},
   "source": [
    "# Module 3 - Structured Data "
   ]
  },
  {
   "cell_type": "markdown",
   "metadata": {},
   "source": [
    "Data Analytics is the process of discovering meaning and value in data to solve complex research questions, support evidence-based decision-making, and identify trends and patterns in data.\n",
    "\n",
    "Data analytics is the process that enlables the augmentation of human intelligence about some business concern belonging to a specific context using a set of tools to analyse and extract insights from data."
   ]
  },
  {
   "cell_type": "markdown",
   "metadata": {},
   "source": [
    "<img src=\"graphics/data_analytics.png\" width=50% />"
   ]
  },
  {
   "cell_type": "markdown",
   "metadata": {},
   "source": [
    "This data can occur in three different formats:\n",
    "\n",
    "- **Structured Data.** When the structure is predefined (for instance a database table). It is usually stored in a Database. \n",
    "\n",
    "- **Semi-Structured Data.** Data that does not reside in a relational database but that have some organizational properties that make it easier to analyze. With some process, you can store them in the relation database. Example: XML data.\n",
    "\n",
    "- **Unstructured Data.** Data which is not organized in a pre-defined manner or does not have a pre-defined data model, thus it is not a good fit for a mainstream relational database. Example: Word, PDF, Text, Media logs\n",
    "\n",
    "One of the primary aims of data analytics is to process semi-structured and unstructured data and put it in a structured format that is human understandable so it can be analysed. \n",
    "\n",
    "In this module, we will analyse data about the impacts of COVID-19 in different countries."
   ]
  },
  {
   "cell_type": "markdown",
   "metadata": {},
   "source": [
    "## Real World Case Study: The Impact of COVID-19 in Different Countries"
   ]
  },
  {
   "cell_type": "code",
   "execution_count": null,
   "metadata": {
    "ExecuteTime": {
     "end_time": "2020-08-02T17:58:45.365576Z",
     "start_time": "2020-08-02T17:58:43.223720Z"
    }
   },
   "outputs": [],
   "source": [
    "# import libraries\n",
    "import numpy as np              # used for algebraic operations      \n",
    "import pandas as pd              # used for data manipulation and data analysis\n",
    "import matplotlib.pyplot as plt # used for visualisations\n",
    "import seaborn as sns           # used for visualisations\n",
    "\n",
    "pd.set_option('display.max_rows', 500) # used to show all the rows in our dataset"
   ]
  },
  {
   "cell_type": "code",
   "execution_count": null,
   "metadata": {
    "ExecuteTime": {
     "end_time": "2020-08-02T17:58:45.404434Z",
     "start_time": "2020-08-02T17:58:45.376531Z"
    }
   },
   "outputs": [],
   "source": [
    "# DAILY REPORTS ABOUT CONFIRMED, DEATHS AND RECOVERY CASES DOWNLOADED FROM JOHN HOPKINS UNIVERSITY\n",
    "# source: https://github.com/CSSEGISandData/COVID-19\n",
    "\n",
    "# load confirmed cases data\n",
    "data_conf = pd.read_csv( \"data/covid19_confirmed_global.csv\" )\n",
    "\n",
    "# load deaths data\n",
    "data_deaths = pd.read_csv( \"data/covid19_deaths_global.csv\" )\n"
   ]
  },
  {
   "cell_type": "code",
   "execution_count": null,
   "metadata": {
    "ExecuteTime": {
     "end_time": "2020-08-02T17:58:45.638798Z",
     "start_time": "2020-08-02T17:58:45.544970Z"
    }
   },
   "outputs": [],
   "source": [
    "# let's take a look at out data. \n",
    "# checking the confirmed covid19 cases data\n",
    "data_conf"
   ]
  },
  {
   "cell_type": "markdown",
   "metadata": {},
   "source": [
    "The first thing we notice is that there are entries in our dataset that do not have any data records. This is represented by the NaN entries. These entries are also reffered to missing values. As presented in module 1, part of the data analytics cycle is to clean the dataset and to address these missing entries. We will take a look at this later in this notebook.\n",
    "\n",
    "After taking a quick look at our data, it is important to understand what are the variables or features (represented as columns) in our dataset. We can answer this question with the following line of code:"
   ]
  },
  {
   "cell_type": "code",
   "execution_count": null,
   "metadata": {
    "ExecuteTime": {
     "end_time": "2020-08-02T17:58:45.769032Z",
     "start_time": "2020-08-02T17:58:45.765774Z"
    }
   },
   "outputs": [],
   "source": [
    "# what are the variables or features in our dataset?\n",
    "data_conf.columns.to_list()"
   ]
  },
  {
   "cell_type": "markdown",
   "metadata": {},
   "source": [
    "Our dataset has information about the:\n",
    "- Province or State of a country\n",
    "- the Country or region\n",
    "- geographical coordinates: Latitude and Longitude\n",
    "- a range of dates from the 22nd of January of 2020 until the 12th of June of 2020\n",
    "\n",
    "But how many countries are represented in this dataset? Each country is an instance or an observation (represented as a row) in this dataset. So, we can get this information by counting the total number of rows of our dataset. We can do this by simply determining the dimensions of our dataset:"
   ]
  },
  {
   "cell_type": "code",
   "execution_count": null,
   "metadata": {
    "ExecuteTime": {
     "end_time": "2020-08-02T17:58:47.144805Z",
     "start_time": "2020-08-02T17:58:47.141549Z"
    }
   },
   "outputs": [],
   "source": [
    "# get dimensions of the dataset: (number of rows, number of columns)\n",
    "dims = data_conf.shape\n",
    "dims"
   ]
  },
  {
   "cell_type": "code",
   "execution_count": null,
   "metadata": {
    "ExecuteTime": {
     "end_time": "2020-08-02T17:58:47.643323Z",
     "start_time": "2020-08-02T17:58:47.640157Z"
    }
   },
   "outputs": [],
   "source": [
    "# how many countries are represented in this dataset?\n",
    "\n",
    "# number of countries / regions with confirmed cases.\n",
    "# note that in Python, the indexing of data structures starts with 0. \n",
    "# So, index 0 selects the first entry of a list\n",
    "num_countries_or_regions = dims[0] \n",
    "\n",
    "# %d -> integer\n",
    "# %f -> float -> decimal\n",
    "# %s -> string (chain of characters) / text\n",
    "\n",
    "print( \"There are %d of regions in our dataset\" %num_countries_or_regions )"
   ]
  },
  {
   "cell_type": "code",
   "execution_count": null,
   "metadata": {
    "ExecuteTime": {
     "end_time": "2020-08-02T17:58:48.195743Z",
     "start_time": "2020-08-02T17:58:48.192374Z"
    }
   },
   "outputs": [],
   "source": [
    "# what are the total number of recorded days in this dataset?\n",
    "\n",
    "# remember the columns that we extracted from our dataset.\n",
    "# 1st column:  Province/State\n",
    "# 2nd column:  Country/Region\n",
    "# 3rd column:  Lat\n",
    "# 4th column: 'Long\n",
    "# 5th column: 1/22/20\n",
    "\n",
    "# this means that we can compute the total number of days with recorded cases by\n",
    "# subtracting these 4 columns to the total number of columns in our dataset\n",
    "num_days = dims[1] - 4\n",
    "\n",
    "print(\"We have data reported over %d days\" %num_days)"
   ]
  },
  {
   "cell_type": "code",
   "execution_count": null,
   "metadata": {
    "ExecuteTime": {
     "end_time": "2020-08-02T17:58:48.612659Z",
     "start_time": "2020-08-02T17:58:48.606376Z"
    }
   },
   "outputs": [],
   "source": [
    "data_conf['Long']"
   ]
  },
  {
   "cell_type": "code",
   "execution_count": null,
   "metadata": {
    "ExecuteTime": {
     "end_time": "2020-08-02T17:58:49.290503Z",
     "start_time": "2020-08-02T17:58:49.286694Z"
    }
   },
   "outputs": [],
   "source": [
    "# the 2nd and 3rd entries of our dataset correspond to the geographic\n",
    "# coordinates of the country/region, so we can ignore these two for now\n",
    "\n",
    "# the date of the first confirmed case of covid-19 that has been\n",
    "# recoreded in this dataset is found on the 5th colum (5th index)\n",
    "first_date = data_conf.columns[4] \n",
    "\n",
    "# the end of a list is represented by the index -1\n",
    "last_date = data_conf.columns[-1]\n",
    "\n",
    "print( \"The first confirmed case recorded in the dataset was in %s\" %first_date)\n",
    "print(\"The last confirmed case recorded in the dataset was in %s\" %last_date)"
   ]
  },
  {
   "cell_type": "code",
   "execution_count": null,
   "metadata": {
    "ExecuteTime": {
     "end_time": "2020-08-02T17:58:50.238553Z",
     "start_time": "2020-08-02T17:58:50.232104Z"
    }
   },
   "outputs": [],
   "source": [
    "# what are the countries / regions that have reported confirmed covid-19 cases?\n",
    "\n",
    "countries = data_conf[\"Country/Region\"]\n",
    "countries.to_list()"
   ]
  },
  {
   "cell_type": "code",
   "execution_count": null,
   "metadata": {
    "ExecuteTime": {
     "end_time": "2020-08-02T17:58:51.073867Z",
     "start_time": "2020-08-02T17:58:51.069438Z"
    }
   },
   "outputs": [],
   "source": [
    "# the above list has repeated entries in some countries\n",
    "# this is because the data for some countries has been recorded by region\n",
    "\n",
    "# we can remove duplicate entries out of a list in the following way\n",
    "# what are the countries in the dataset? \n",
    "# what countries have reported confirmed covid-19 cases?\n",
    "countries.unique()"
   ]
  },
  {
   "cell_type": "code",
   "execution_count": null,
   "metadata": {
    "ExecuteTime": {
     "end_time": "2020-08-02T17:58:51.791281Z",
     "start_time": "2020-08-02T17:58:51.787875Z"
    }
   },
   "outputs": [],
   "source": [
    "# the total number of countries can be determined in the following way\n",
    "num_countries = len( countries.unique() )\n",
    "\n",
    "print(\"There are %d countries in this dataset with confirmed covid-19 cases\" %num_countries)"
   ]
  },
  {
   "cell_type": "markdown",
   "metadata": {},
   "source": [
    "Let's simplify our analysis and let's get rid of the \"Province/State\" column since it is only present for a very small amount of countries, and also the Latitude and Longitude, because we will not use them for the analysis. We will do this for the dataset of confirmed cases and also for the dataset with deaths"
   ]
  },
  {
   "cell_type": "code",
   "execution_count": null,
   "metadata": {
    "ExecuteTime": {
     "end_time": "2020-08-02T17:58:52.958760Z",
     "start_time": "2020-08-02T17:58:52.938859Z"
    }
   },
   "outputs": [],
   "source": [
    "# droping columns for confirmed covid-19 cases\n",
    "confirmed_time_series = data_conf.drop([\"Province/State\", \"Lat\", \"Long\"], axis=1)\n",
    "\n",
    "# droping columns for confirmed covid-19 deaths\n",
    "deaths_time_series = data_deaths.drop([\"Province/State\", \"Lat\", \"Long\"], axis=1)\n",
    "\n",
    "# let's take a quick look at Australia\n",
    "confirmed_time_series[confirmed_time_series[\"Country/Region\"] == \"Australia\"]"
   ]
  },
  {
   "cell_type": "markdown",
   "metadata": {},
   "source": [
    "One can see that Australia appears multiple times in our dataset. That is because Australia the recorded cases of covid19 in Australia were presented per State:"
   ]
  },
  {
   "cell_type": "code",
   "execution_count": null,
   "metadata": {
    "ExecuteTime": {
     "end_time": "2020-08-02T17:58:54.202424Z",
     "start_time": "2020-08-02T17:58:54.183907Z"
    }
   },
   "outputs": [],
   "source": [
    "data_conf[data_conf[\"Country/Region\"] == \"Australia\"]"
   ]
  },
  {
   "cell_type": "markdown",
   "metadata": {},
   "source": [
    "It would be nice to put all these cases separated by province/state in a single row representing the total number of confirmed cases in the country, in other words, we want to sum all the number of confirmed cases in each state and put them in a single row."
   ]
  },
  {
   "cell_type": "code",
   "execution_count": null,
   "metadata": {
    "ExecuteTime": {
     "end_time": "2020-08-02T17:58:55.549620Z",
     "start_time": "2020-08-02T17:58:55.467233Z"
    }
   },
   "outputs": [],
   "source": [
    "# group my data by country\n",
    "\n",
    "# for the confirmed covid19 cases\n",
    "confirmed_time_series = confirmed_time_series.groupby( \"Country/Region\" ).sum()\n",
    "\n",
    "# and for the confirmed covid19 deaths\n",
    "deaths_time_series = deaths_time_series.groupby( \"Country/Region\" ).sum()\n",
    "\n",
    "# let's take a look\n",
    "confirmed_time_series"
   ]
  },
  {
   "cell_type": "code",
   "execution_count": null,
   "metadata": {
    "ExecuteTime": {
     "end_time": "2020-08-02T17:58:56.273188Z",
     "start_time": "2020-08-02T17:58:56.267867Z"
    }
   },
   "outputs": [],
   "source": [
    "conf_cases_per_country = confirmed_time_series.iloc[:,-1]\n",
    "conf_cases_per_country.tolist()"
   ]
  },
  {
   "cell_type": "code",
   "execution_count": null,
   "metadata": {
    "ExecuteTime": {
     "end_time": "2020-08-02T17:58:57.388259Z",
     "start_time": "2020-08-02T17:58:56.995574Z"
    }
   },
   "outputs": [],
   "source": [
    "# setting fontsize of figure to 22\n",
    "plt.rcParams.update({'font.size': 22})\n",
    "\n",
    "# let's check the impact of the virus by country\n",
    "conf_cases_per_country = confirmed_time_series.iloc[:,-1]\n",
    "\n",
    "# let's look at countries with more than 20 000 cases, only\n",
    "THRESHOLD = 20000\n",
    "conf_cases_per_country = conf_cases_per_country[ conf_cases_per_country > THRESHOLD ]\n",
    "\n",
    "x = conf_cases_per_country.index.tolist()\n",
    "y = conf_cases_per_country.tolist()\n",
    "\n",
    "# get the index of the country with the highest number of confirmed cases\n",
    "max_cases_idx = y.index( max(y) )\n",
    "\n",
    "fig = plt.figure(figsize=(25,7))\n",
    "\n",
    "barlist = plt.bar(x, y)\n",
    "barlist[max_cases_idx].set_color('r')\n",
    "plt.xticks(ticks= x, rotation=90) \n",
    "\n",
    "plt.ylabel(\"Number of Confirmed Deaths\")\n",
    "plt.title('Countries with most deaths by covid-19')"
   ]
  },
  {
   "cell_type": "code",
   "execution_count": null,
   "metadata": {
    "ExecuteTime": {
     "end_time": "2020-08-02T17:58:58.005618Z",
     "start_time": "2020-08-02T17:58:57.631795Z"
    }
   },
   "outputs": [],
   "source": [
    "# setting fontsize of figure to 22\n",
    "plt.rcParams.update({'font.size': 22})\n",
    "\n",
    "# let's check the impact of the virus by country in terms of deaths\n",
    "conf_deaths_per_country = deaths_time_series.iloc[:,-1]\n",
    "\n",
    "# let's look at countries with more than 100 cases, only\n",
    "THRESHOLD = 1000\n",
    "conf_deaths_per_country = conf_deaths_per_country[ conf_deaths_per_country > THRESHOLD ]\n",
    "\n",
    "x = conf_deaths_per_country.index.tolist()\n",
    "y = conf_deaths_per_country.tolist()\n",
    "\n",
    "# get the index of the country with the highest number of confirmed cases\n",
    "max_deaths_idx = y.index( max(y) )\n",
    "fig = plt.figure(figsize=(25,7))\n",
    "\n",
    "barlist = plt.bar(x, y)\n",
    "barlist[max_deaths_idx].set_color('r')\n",
    "\n",
    "plt.xticks(ticks= x, rotation=90) \n",
    "plt.ylabel(\"Number of Confirmed Deaths\")\n",
    "plt.title('Countries with most deaths by covid-19')"
   ]
  },
  {
   "cell_type": "markdown",
   "metadata": {
    "ExecuteTime": {
     "end_time": "2020-06-15T01:53:19.744396Z",
     "start_time": "2020-06-15T01:53:19.738085Z"
    }
   },
   "source": [
    "Let's focus our analysis in Spain (one of the countries that got heavily affected by the virus)"
   ]
  },
  {
   "cell_type": "code",
   "execution_count": null,
   "metadata": {
    "ExecuteTime": {
     "end_time": "2020-08-02T17:59:00.374317Z",
     "start_time": "2020-08-02T17:59:00.360227Z"
    }
   },
   "outputs": [],
   "source": [
    "# note that when you use the groupby operation, you are changing the way you are accessing the data\n",
    "# in this case, the column \"Country/Region\" is now being used to index the data\n",
    "# you can access its information in the following way\n",
    "spain_confirmed_cases = confirmed_time_series[ confirmed_time_series.index == \"Spain\"]\n",
    "spain_confirmed_deaths = deaths_time_series[ deaths_time_series.index == \"Spain\"]\n",
    "\n",
    "spain_confirmed_cases"
   ]
  },
  {
   "cell_type": "markdown",
   "metadata": {},
   "source": [
    "Let's visualise this information"
   ]
  },
  {
   "cell_type": "code",
   "execution_count": null,
   "metadata": {
    "ExecuteTime": {
     "end_time": "2020-08-02T17:59:02.821248Z",
     "start_time": "2020-08-02T17:59:02.351541Z"
    }
   },
   "outputs": [],
   "source": [
    "# setting fontsize of figure to 22\n",
    "plt.rcParams.update({'font.size': 22})\n",
    "\n",
    "# get dates\n",
    "dates = spain_confirmed_cases.columns.to_list()\n",
    "\n",
    "# initialise figure\n",
    "fig = plt.figure(figsize=(28,10))\n",
    "\n",
    "# plot confirmed cases\n",
    "cases = spain_confirmed_cases.values[0]\n",
    "\n",
    "plt.subplot(1, 2, 1)\n",
    "plt.plot(dates, cases) # default color is blue\n",
    "plt.title('Cummulative Confirmed covid-19 cases in Spain')\n",
    "plt.ylabel('Number of confirmeed covid-19 cases')\n",
    "# adding dates on the x-axis every 10 days\n",
    "plt.xticks(ticks= range(0, len(dates), 5), rotation=90)\n",
    "plt.tight_layout()\n",
    "\n",
    "# plot confirmed deaths\n",
    "deaths = spain_confirmed_deaths.values[0]\n",
    "\n",
    "plt.subplot(1, 2, 2)\n",
    "plt.plot(dates, deaths, c=\"r\") # setting color to red\n",
    "plt.title('Cummulative Confirmed covid-19 deaths in Spain')\n",
    "plt.ylabel('Number of deaths')\n",
    "# adding dates on the x-axis every 10 days\n",
    "plt.xticks(ticks= range(0, len(dates), 5), rotation=90) \n",
    "plt.tight_layout()\n",
    "\n",
    "plt.show()"
   ]
  },
  {
   "cell_type": "markdown",
   "metadata": {},
   "source": [
    "Our dataset has information about the cummulative number of confirmed cases with covid-19. Perhaps calculating the daily number of confirmed cases might gives us better insights."
   ]
  },
  {
   "cell_type": "code",
   "execution_count": null,
   "metadata": {
    "ExecuteTime": {
     "end_time": "2020-08-02T18:02:48.718051Z",
     "start_time": "2020-08-02T18:02:48.713944Z"
    }
   },
   "outputs": [],
   "source": [
    "# we can define a function to convert the cummulative counts into daily counts\n",
    "\n",
    "# FUNCTION: get_data_per_day\n",
    "# takes a series of cummulative data counts \n",
    "# and converts to daily data counts\n",
    "# cum_data: list \n",
    "# return: list\n",
    "def get_data_per_day( cum_data ):\n",
    "    \n",
    "    cases_per_day = [0]  # list to return. Initially there are 0 cases\n",
    "    \n",
    "    # for each data point... \n",
    "    # subtract the following day cases with the current cases\n",
    "    for i in range( 0, len(cum_data)-1):\n",
    "        \n",
    "        current_day =  cum_data[i]  # current data\n",
    "        next_day = cum_data[i+1]    # following day data\n",
    "        cases_per_day.append( np.abs(next_day - current_day) ) # add data to result list\n",
    "    \n",
    "    return cases_per_day"
   ]
  },
  {
   "cell_type": "code",
   "execution_count": null,
   "metadata": {
    "ExecuteTime": {
     "end_time": "2020-08-02T18:03:00.513533Z",
     "start_time": "2020-08-02T18:02:59.778957Z"
    }
   },
   "outputs": [],
   "source": [
    "# setting fontsize of figure to 22\n",
    "plt.rcParams.update({'font.size': 22})\n",
    "\n",
    "# get dates\n",
    "dates = spain_confirmed_cases.columns.to_list()\n",
    "\n",
    "# initialise figure\n",
    "fig = plt.figure(figsize=(28,10))\n",
    "\n",
    "# plot confirmed cases\n",
    "cases = get_data_per_day(spain_confirmed_cases.values[0])\n",
    "\n",
    "plt.subplot(1, 2, 1)\n",
    "plt.bar(dates, cases) # default color is blue\n",
    "plt.title('Daily Confirmed covid-19 cases in Spain')\n",
    "plt.ylabel('Number of confirmeed covid-19 cases')\n",
    "plt.xticks(ticks= range(0, len(dates), 10), rotation=90)\n",
    "plt.tight_layout()\n",
    "\n",
    "# plot confirmed deaths\n",
    "deaths = get_data_per_day(spain_confirmed_deaths.values[0])\n",
    "\n",
    "plt.subplot(1, 2, 2)\n",
    "plt.bar(dates, deaths, color='r') # setting color to red\n",
    "plt.title('Daily Confirmed covid-19 deaths in Spain')\n",
    "plt.ylabel('Number of deaths')\n",
    "plt.xticks(ticks= range(0, len(dates), 10), rotation=90)\n",
    "plt.tight_layout()\n",
    "\n",
    "plt.show()"
   ]
  },
  {
   "cell_type": "markdown",
   "metadata": {},
   "source": [
    "Absolute levels are still very ambiguous. If a country has a big population, these graphs may not provide us much insights. Perhaps it would be better to compute the number of confirmed cases and confirmed deaths per million. Knowing that Spain has a population of approximatelly 47 million, let's adjust the above analysis to reflect numbers per million"
   ]
  },
  {
   "cell_type": "code",
   "execution_count": null,
   "metadata": {
    "ExecuteTime": {
     "end_time": "2020-08-02T18:56:08.903078Z",
     "start_time": "2020-08-02T18:56:08.899373Z"
    }
   },
   "outputs": [],
   "source": [
    "# FUNCTION: data_per_million\n",
    "# takes a series of data \n",
    "# and converts to values per million\n",
    "# data: list \n",
    "# return: list\n",
    "def data_per_million( data, population, MILLION ):\n",
    "    \n",
    "    data_per_million = []\n",
    "    for data_per_day in get_data_per_day( data ):\n",
    "        val = (data_per_day*MILLION)/population\n",
    "        data_per_million.append(val)\n",
    "        \n",
    "    return data_per_million\n",
    "    "
   ]
  },
  {
   "cell_type": "code",
   "execution_count": null,
   "metadata": {
    "ExecuteTime": {
     "end_time": "2020-08-02T18:56:40.606918Z",
     "start_time": "2020-08-02T18:56:39.854089Z"
    }
   },
   "outputs": [],
   "source": [
    "MILLION = 1000000.0\n",
    "population = 47 * MILLION # defining the population in Spain in millions of people\n",
    "\n",
    "# setting fontsize of figure to 22\n",
    "plt.rcParams.update({'font.size': 22})\n",
    "\n",
    "# get dates\n",
    "dates = spain_confirmed_cases.columns.to_list()\n",
    "\n",
    "# initialise figure\n",
    "fig = plt.figure(figsize=(28,10))\n",
    "\n",
    "# plot confirmed cases\n",
    "\n",
    "# computing the confirmed\n",
    "cases_per_million = data_per_million( spain_confirmed_cases.values[0], \n",
    "                                     population, MILLION )\n",
    "    \n",
    "plt.subplot(1, 2, 1)\n",
    "plt.bar(dates, cases_per_million) # default color is blue\n",
    "plt.title('Daily Confirmed covid-19 cases in Spain per million')\n",
    "plt.ylabel('Number of confirmeed covid-19 cases per million')\n",
    "plt.xticks(ticks= range(0, len(dates), 10), rotation=90)\n",
    "plt.tight_layout()\n",
    "\n",
    "# plot confirmed deaths\n",
    "deaths_per_million = data_per_million( spain_confirmed_deaths.values[0], \n",
    "                                       population, MILLION )\n",
    "plt.subplot(1, 2, 2)\n",
    "plt.bar(dates, deaths_per_million, color='r') # setting color to red\n",
    "plt.title('Daily Confirmed covid-19 deaths in Spain per million')\n",
    "plt.ylabel('Number of deaths per million')\n",
    "plt.xticks(ticks= range(0, len(dates), 10), rotation=90)\n",
    "plt.tight_layout()\n",
    "\n",
    "plt.show()\n",
    "\n"
   ]
  },
  {
   "cell_type": "markdown",
   "metadata": {},
   "source": [
    "## Exercise: Full lockdown, late lockdown and soft lockdown - Australia vs. Spain vs. Sweden\n",
    "\n",
    "In this module we presented two datasets containing the impact in terms of confirmed covid-19 cases and deaths in different countries. We made a setailed analysis for Spain. \n",
    "\n",
    "Can you repeat the same analysis, but for Australia and Sweden? Knowing that Australia has a population of approximately 25 million people and Sweden approximately 10.2 million, can you make an analysis between countries who went on a lockdown very early (Australia), compared to countries that entered in lockdown already late (Spain), and countries that did not fully enter into a restrict lockdown (Sweden)?  "
   ]
  },
  {
   "cell_type": "code",
   "execution_count": null,
   "metadata": {
    "ExecuteTime": {
     "end_time": "2020-08-02T18:45:50.353706Z",
     "start_time": "2020-08-02T18:45:50.254134Z"
    }
   },
   "outputs": [],
   "source": [
    "# YOUR ANSWER HERE\n",
    "\n",
    "# load confirmed cases data: data/covid19_confirmed_global.csv\n",
    "data_conf = pd.read_csv(\"data/covid19_confirmed_global.csv\")\n",
    "\n",
    "# load deaths data: data/covid19_deaths_global.csv\n",
    "data_deaths = pd.read_csv(\"data/covid19_deaths_global.csv\")\n",
    "\n",
    "# take a look at the data_conf dataset\n",
    "# YOUR ANSWER HERE:\n",
    "\n",
    "\n",
    "\n"
   ]
  },
  {
   "cell_type": "code",
   "execution_count": null,
   "metadata": {
    "ExecuteTime": {
     "end_time": "2020-08-02T18:45:55.133986Z",
     "start_time": "2020-08-02T18:45:55.128665Z"
    }
   },
   "outputs": [],
   "source": [
    "# remove the columns containing geographical information and information about the Province\n",
    "# YOUR ANSWER HERE\n",
    "\n",
    "# for the confirmed cases\n",
    "confirmed_data_simplified = \n",
    "\n",
    "# for the confirmed deaths\n",
    "deaths_data_simplified = \n"
   ]
  },
  {
   "cell_type": "code",
   "execution_count": null,
   "metadata": {
    "ExecuteTime": {
     "end_time": "2020-08-02T18:45:56.629332Z",
     "start_time": "2020-08-02T18:45:56.555790Z"
    }
   },
   "outputs": [],
   "source": [
    "# group data by country\n",
    "\n",
    "# YOUR ANSWER HERE\n",
    "# for the confirmed covid19 cases\n",
    "confirmed_time_series = \n",
    "\n",
    "# and for the confirmed covid19 deaths\n",
    "deaths_time_series = \n",
    "\n",
    "# let's take a look\n",
    "confirmed_time_series\n"
   ]
  },
  {
   "cell_type": "code",
   "execution_count": null,
   "metadata": {
    "ExecuteTime": {
     "end_time": "2020-08-02T18:35:37.997309Z",
     "start_time": "2020-08-02T18:35:37.991902Z"
    }
   },
   "outputs": [],
   "source": [
    "# select all the confirmed cases and confirmed deaths from Australia\n",
    "# YOUR ANSWER HERE\n",
    "australia_confirmed_cases = \n",
    "australia_confirmed_deaths = \n",
    "\n",
    "# select all the confirmed cases and confirmed deaths from Sweden\n",
    "# YOUR ANSWER HERE\n",
    "sweden_confirmed_cases = \n",
    "sweden_confirmed_deaths = "
   ]
  },
  {
   "cell_type": "code",
   "execution_count": null,
   "metadata": {
    "ExecuteTime": {
     "end_time": "2020-08-02T18:47:22.710127Z",
     "start_time": "2020-08-02T18:47:21.971935Z"
    }
   },
   "outputs": [],
   "source": [
    "# plot the daily number of confirmed cases and confirmed deaths from Australia per million\n",
    "\n",
    "# YOUR ANSWER HERE\n",
    "\n",
    "\n",
    "\n"
   ]
  },
  {
   "cell_type": "code",
   "execution_count": null,
   "metadata": {
    "ExecuteTime": {
     "end_time": "2020-08-02T19:02:12.131560Z",
     "start_time": "2020-08-02T19:02:11.393722Z"
    }
   },
   "outputs": [],
   "source": [
    "# plot the daily number of confirmed cases and confirmed deaths from Sweden per million\n",
    "\n",
    "# YOUR ANSWER HERE\n",
    "# plot the daily number of confirmed cases and confirmed deaths from Australia per million\n",
    "\n",
    "# YOUR ANSWER HERE\n",
    "\n",
    "\n",
    "\n"
   ]
  },
  {
   "cell_type": "markdown",
   "metadata": {},
   "source": [
    "Compare the different graphs obtained for Australia, Sweden and our previous analysis from Spain.\n",
    "\n",
    "From the graphs, make a small discussion about the number of confirmed cases and deaths per million for each country and analyse it in lights of their lockdown policies: Australia - strict lockdown, Spain - late lockdown, Sweden - soft lockdown"
   ]
  },
  {
   "cell_type": "markdown",
   "metadata": {},
   "source": [
    "**YOUR ANSWER HERE**\n",
    "\n",
    "- Australia (strict lockdown): \n",
    "\n",
    "- Spain (late lockdown): \n",
    "\n",
    "- Sweden (soft lockdown):"
   ]
  },
  {
   "cell_type": "code",
   "execution_count": null,
   "metadata": {},
   "outputs": [],
   "source": []
  }
 ],
 "metadata": {
  "kernelspec": {
   "display_name": "Python 3",
   "language": "python",
   "name": "python3"
  },
  "language_info": {
   "codemirror_mode": {
    "name": "ipython",
    "version": 3
   },
   "file_extension": ".py",
   "mimetype": "text/x-python",
   "name": "python",
   "nbconvert_exporter": "python",
   "pygments_lexer": "ipython3",
   "version": "3.7.4"
  },
  "toc": {
   "base_numbering": 1,
   "nav_menu": {},
   "number_sections": true,
   "sideBar": true,
   "skip_h1_title": false,
   "title_cell": "Table of Contents",
   "title_sidebar": "Contents",
   "toc_cell": false,
   "toc_position": {},
   "toc_section_display": true,
   "toc_window_display": false
  },
  "varInspector": {
   "cols": {
    "lenName": 16,
    "lenType": 16,
    "lenVar": 40
   },
   "kernels_config": {
    "python": {
     "delete_cmd_postfix": "",
     "delete_cmd_prefix": "del ",
     "library": "var_list.py",
     "varRefreshCmd": "print(var_dic_list())"
    },
    "r": {
     "delete_cmd_postfix": ") ",
     "delete_cmd_prefix": "rm(",
     "library": "var_list.r",
     "varRefreshCmd": "cat(var_dic_list()) "
    }
   },
   "types_to_exclude": [
    "module",
    "function",
    "builtin_function_or_method",
    "instance",
    "_Feature"
   ],
   "window_display": false
  }
 },
 "nbformat": 4,
 "nbformat_minor": 2
}
