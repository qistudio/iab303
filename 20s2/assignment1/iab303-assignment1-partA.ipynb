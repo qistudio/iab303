{
 "cells": [
  {
   "cell_type": "markdown",
   "metadata": {},
   "source": [
    "# IAB303 - Assignment 1 - Part A\n",
    "\n",
    "For first part of the assignment, you are required to answer a series of questions related to some of the preliminary Python coding concepts that have been taught so far in the tutorials.\n",
    "\n",
    "Each question will be marked separately, so if you are unsure about a question, simply try to answer it with your best possible attempt. \n",
    "\n",
    "<span style=\"color:red;\">__DO NOT ADD OR REMOVE ANY CELL BLOCKS. PROVIDE YOUR ANSWERS IN THE INDICATED SPACES ONLY.__</span>\n",
    "\n"
   ]
  },
  {
   "cell_type": "markdown",
   "metadata": {},
   "source": [
    "#### 1. Importing Required Libraries\n",
    "\n",
    "In the cell block below, import the libraries that you will require for the proceeding questions.\n",
    "\n",
    "__NOTE:__ _It is perhaps suitable to attempt this question last, as it may not be apparent what libraries you require until completion of all other questions._"
   ]
  },
  {
   "cell_type": "code",
   "execution_count": 6,
   "metadata": {
    "deletable": false,
    "nbgrader": {
     "cell_type": "code",
     "checksum": "72fb7730a1a31ccab8ad1e0344dc47bc",
     "grade": false,
     "grade_id": "q1",
     "locked": false,
     "schema_version": 3,
     "solution": true
    }
   },
   "outputs": [],
   "source": [
    "\n",
    "# YOUR CODE HERE\n"
   ]
  },
  {
   "cell_type": "code",
   "execution_count": null,
   "metadata": {
    "deletable": false,
    "editable": false,
    "nbgrader": {
     "cell_type": "code",
     "checksum": "94007b7a60ebe846a661828e60676e92",
     "grade": true,
     "grade_id": "correct_q1",
     "locked": false,
     "points": 1,
     "schema_version": 3,
     "solution": false
    }
   },
   "outputs": [],
   "source": []
  },
  {
   "cell_type": "markdown",
   "metadata": {},
   "source": [
    "#### 2. Reading In A CSV File\n",
    "\n",
    "Provided with this test notebook is a CSV file entitled <span style=\"color:blue;\">_\"mountains.csv\"_</span>. Read this file into a `pandas` dataframe variable entitled `mountain_data`, and assign an appropriate index. Then in one command __only__, display the number of rows (entries) and columns in the dataframe."
   ]
  },
  {
   "cell_type": "code",
   "execution_count": 7,
   "metadata": {
    "deletable": false,
    "nbgrader": {
     "cell_type": "code",
     "checksum": "6c089c639fab29bd8c70976019afd5e2",
     "grade": false,
     "grade_id": "q2",
     "locked": false,
     "schema_version": 3,
     "solution": true
    }
   },
   "outputs": [],
   "source": [
    "\n",
    "# YOUR CODE HERE\n"
   ]
  },
  {
   "cell_type": "code",
   "execution_count": null,
   "metadata": {
    "deletable": false,
    "editable": false,
    "nbgrader": {
     "cell_type": "code",
     "checksum": "f2e0d799459e29e0fe4552745d6ee698",
     "grade": true,
     "grade_id": "correct_q2",
     "locked": false,
     "points": 1,
     "schema_version": 3,
     "solution": false
    }
   },
   "outputs": [],
   "source": []
  },
  {
   "cell_type": "markdown",
   "metadata": {},
   "source": [
    "#### 3. Filling In Missing Data\n",
    "\n",
    "Within the `mountain_data` dataframe, there is a missing value for the mountain entitled _\"Vinson Massif\"_, under the column `Country`. Using __only__ one function, fill in the missing entry with the text _\"Antarctica\"_."
   ]
  },
  {
   "cell_type": "code",
   "execution_count": 8,
   "metadata": {
    "deletable": false,
    "nbgrader": {
     "cell_type": "code",
     "checksum": "c96a2e8b7068cf7d20542a7d4ad042fd",
     "grade": false,
     "grade_id": "q3",
     "locked": false,
     "schema_version": 3,
     "solution": true
    }
   },
   "outputs": [],
   "source": [
    "\n",
    "# YOUR CODE HERE\n"
   ]
  },
  {
   "cell_type": "code",
   "execution_count": null,
   "metadata": {
    "deletable": false,
    "editable": false,
    "nbgrader": {
     "cell_type": "code",
     "checksum": "4f098b4af6223ce2ee34330aedc07043",
     "grade": true,
     "grade_id": "correct_q3",
     "locked": false,
     "points": 1,
     "schema_version": 3,
     "solution": false
    }
   },
   "outputs": [],
   "source": []
  },
  {
   "cell_type": "markdown",
   "metadata": {},
   "source": [
    "#### 4. Filtering Columns\n",
    "\n",
    "Using only one function, filter the `Code` and `Height` columns of the `mountain_data` dataframe into a new dataframe entitled `filtered_data`."
   ]
  },
  {
   "cell_type": "code",
   "execution_count": 9,
   "metadata": {
    "deletable": false,
    "nbgrader": {
     "cell_type": "code",
     "checksum": "a76abc5835a540a5047a9bcfa9f480bf",
     "grade": false,
     "grade_id": "q4",
     "locked": false,
     "schema_version": 3,
     "solution": true
    }
   },
   "outputs": [],
   "source": [
    "\n",
    "# YOUR CODE HERE\n"
   ]
  },
  {
   "cell_type": "code",
   "execution_count": null,
   "metadata": {
    "deletable": false,
    "editable": false,
    "nbgrader": {
     "cell_type": "code",
     "checksum": "bcd1be3153968d46d93ef9bd21a26d0c",
     "grade": true,
     "grade_id": "correct_q4",
     "locked": false,
     "points": 1,
     "schema_version": 3,
     "solution": false
    }
   },
   "outputs": [],
   "source": []
  },
  {
   "cell_type": "markdown",
   "metadata": {},
   "source": [
    "#### 5. Calculating The Mean Of A Column\n",
    "\n",
    "Using only one function, calculate the mean of all values in the `Height` column of the `mountain_data` dataframe, and store the numerical result in a variable entitled `mean_of_mountain_heights`."
   ]
  },
  {
   "cell_type": "code",
   "execution_count": 10,
   "metadata": {
    "deletable": false,
    "nbgrader": {
     "cell_type": "code",
     "checksum": "ce6e734f89eee649a664033fc0b2faa5",
     "grade": false,
     "grade_id": "q5",
     "locked": false,
     "schema_version": 3,
     "solution": true
    }
   },
   "outputs": [],
   "source": [
    "\n",
    "# YOUR CODE HERE\n"
   ]
  },
  {
   "cell_type": "code",
   "execution_count": null,
   "metadata": {
    "deletable": false,
    "editable": false,
    "nbgrader": {
     "cell_type": "code",
     "checksum": "940d68cc255326106775e3ec42974246",
     "grade": true,
     "grade_id": "correct_q5",
     "locked": false,
     "points": 1,
     "schema_version": 3,
     "solution": false
    }
   },
   "outputs": [],
   "source": []
  },
  {
   "cell_type": "markdown",
   "metadata": {},
   "source": [
    "#### 6. Visualisation Of Entries\n",
    "\n",
    "Within a line of code, using a bar graph visualisation function provided with the `pandas` module, plot the `filtered_data` dataframe."
   ]
  },
  {
   "cell_type": "code",
   "execution_count": 11,
   "metadata": {
    "deletable": false,
    "nbgrader": {
     "cell_type": "code",
     "checksum": "c9b786d238118b12bb45af432d4c7de7",
     "grade": false,
     "grade_id": "q6",
     "locked": false,
     "schema_version": 3,
     "solution": true
    }
   },
   "outputs": [],
   "source": [
    "\n",
    "# YOUR CODE HERE\n"
   ]
  },
  {
   "cell_type": "code",
   "execution_count": null,
   "metadata": {
    "deletable": false,
    "editable": false,
    "nbgrader": {
     "cell_type": "code",
     "checksum": "47e96e0739d7a39b69cec87efa0f992e",
     "grade": true,
     "grade_id": "correct_q6",
     "locked": false,
     "points": 1,
     "schema_version": 3,
     "solution": false
    }
   },
   "outputs": [],
   "source": []
  },
  {
   "cell_type": "markdown",
   "metadata": {},
   "source": [
    "#### 7. Loading Unstructured Text Data\n",
    "\n",
    "Provided with this notebook is a file entitled `quotes.txt`. Load the text into a variable entitled `quotes`, and then split the data into a list variable entitled `quote_lines`, using the `\\n` carriage as a delimiter. Then print out the length of the list."
   ]
  },
  {
   "cell_type": "code",
   "execution_count": 12,
   "metadata": {
    "deletable": false,
    "nbgrader": {
     "cell_type": "code",
     "checksum": "ec7ffb0eac8d01f013ef4f3c18433dfa",
     "grade": false,
     "grade_id": "q7",
     "locked": false,
     "schema_version": 3,
     "solution": true
    }
   },
   "outputs": [],
   "source": [
    "\n",
    "# YOUR CODE HERE\n"
   ]
  },
  {
   "cell_type": "code",
   "execution_count": null,
   "metadata": {
    "deletable": false,
    "editable": false,
    "nbgrader": {
     "cell_type": "code",
     "checksum": "62a5d75f2497cb86e0c9bf75d74c4ce2",
     "grade": true,
     "grade_id": "correct_q7",
     "locked": false,
     "points": 1,
     "schema_version": 3,
     "solution": false
    }
   },
   "outputs": [],
   "source": []
  },
  {
   "cell_type": "markdown",
   "metadata": {},
   "source": [
    "#### 8. Matching A REGEX Text Pattern\n",
    "\n",
    "Using the Python `re` module (Regex module), find all numbers that were mentioned in the `quotes` text file, storing them in a list entitled `mentioned_numbers`. We also require that the regex pattern you use to extract these lines be stored in a variable entitled `regex_pattern`."
   ]
  },
  {
   "cell_type": "code",
   "execution_count": 13,
   "metadata": {
    "deletable": false,
    "nbgrader": {
     "cell_type": "code",
     "checksum": "743e71f74270f011dd6e959a15bc2662",
     "grade": false,
     "grade_id": "q8",
     "locked": false,
     "schema_version": 3,
     "solution": true
    }
   },
   "outputs": [],
   "source": [
    "\n",
    "# YOUR CODE HERE\n"
   ]
  },
  {
   "cell_type": "code",
   "execution_count": null,
   "metadata": {
    "deletable": false,
    "editable": false,
    "nbgrader": {
     "cell_type": "code",
     "checksum": "e6bd5982f26be76fdaebc31dfa52b3eb",
     "grade": true,
     "grade_id": "correct_q8",
     "locked": false,
     "points": 1,
     "schema_version": 3,
     "solution": false
    }
   },
   "outputs": [],
   "source": []
  },
  {
   "cell_type": "markdown",
   "metadata": {},
   "source": [
    "#### 9. Loading JSON\n",
    "\n",
    "Using the Python `requests` and `json` modules, load up some JSON data from the URL `http://numbersapi.com/random/year?json` into a Python dictionary variable entitled `year_fact_json`."
   ]
  },
  {
   "cell_type": "code",
   "execution_count": 14,
   "metadata": {
    "deletable": false,
    "nbgrader": {
     "cell_type": "code",
     "checksum": "a7b0928bce4a9b31a530a14f284c3a99",
     "grade": false,
     "grade_id": "q9",
     "locked": false,
     "schema_version": 3,
     "solution": true
    }
   },
   "outputs": [],
   "source": [
    "\n",
    "# YOUR CODE HERE\n"
   ]
  },
  {
   "cell_type": "code",
   "execution_count": null,
   "metadata": {
    "deletable": false,
    "editable": false,
    "nbgrader": {
     "cell_type": "code",
     "checksum": "9faf158a1ec9f2e404a83f7b53c657f8",
     "grade": true,
     "grade_id": "correct_q9",
     "locked": false,
     "points": 1,
     "schema_version": 3,
     "solution": false
    }
   },
   "outputs": [],
   "source": []
  },
  {
   "cell_type": "markdown",
   "metadata": {},
   "source": [
    "#### 10. Extracting Information From JSON\n",
    "\n",
    "Using the previously defined `year_fact_json` variable, print the value assigned to the `text` key."
   ]
  },
  {
   "cell_type": "code",
   "execution_count": 15,
   "metadata": {
    "deletable": false,
    "nbgrader": {
     "cell_type": "code",
     "checksum": "b0a815b541afda35e4dc130467878a72",
     "grade": false,
     "grade_id": "q10",
     "locked": false,
     "schema_version": 3,
     "solution": true
    }
   },
   "outputs": [],
   "source": [
    "\n",
    "# YOUR CODE HERE\n"
   ]
  },
  {
   "cell_type": "code",
   "execution_count": null,
   "metadata": {
    "deletable": false,
    "editable": false,
    "nbgrader": {
     "cell_type": "code",
     "checksum": "a83e483aeda6af16e05470595703db2b",
     "grade": true,
     "grade_id": "correct_q10",
     "locked": false,
     "points": 1,
     "schema_version": 3,
     "solution": false
    }
   },
   "outputs": [],
   "source": []
  },
  {
   "cell_type": "markdown",
   "metadata": {},
   "source": [
    "#### Next Steps\n",
    "\n",
    "Once you have completed your notebook to the best of your ability and are ready to submit, you must first undertake __all__ the following steps __in order__ to ensure that your notebook reaches the marking team.\n",
    "\n",
    "1. Firstly, ensure that all cells in your notebook run correctly, by clicking the _Run All Cells_ option in the _Run_ menu. \n",
    "\n",
    "<img src=\"run_all.png\" style=\"width: 30%\">\n",
    "\n",
    "<span style=\"color:red;\"><b>NOTE: If there is so much as one error in your notebook, your submission won't be accepted.</b></span>\n",
    "\n",
    "2. Then, in the final cell of the notebook, insert your _Name_ and _Student Number_ in the provided fields.\n",
    "\n",
    "<img src=\"input_details.png\" style=\"width: 30%\">\n",
    "\n",
    "3. Lastly, click the _Submit Notebook_ button. You should get a \"<span style=\"color:green\">Submission is complete.</span>\" confirmation once the submission has been accepted.\n",
    "\n",
    "<img src=\"submit.png\" style=\"width: 30%\">\n",
    "\n",
    "<span style=\"color:red;\"><b>NOTE: If you do not get a confirmation of submission, please get in contact with your tutor regarding this matter.</b></span>"
   ]
  },
  {
   "cell_type": "code",
   "execution_count": null,
   "metadata": {
    "editable": false,
    "jupyter": {
     "source_hidden": true
    }
   },
   "outputs": [],
   "source": [
    "from ipywidgets import interact, widgets\n",
    "from IPython.display import display\n",
    "from IPython.display import HTML, display\n",
    "import os, requests, datetime, time\n",
    "import uuid\n",
    "\n",
    "wdg_statusStudentNo_label = widgets.HTML()\n",
    "wdg_statusStudentName_label = widgets.HTML()\n",
    "wdg_status_label = widgets.HTML()\n",
    "wdg_fill_label = widgets.Label(value=\"\", width=\"400px\")\n",
    "wdg_studentNo_tbox = widgets.Text( value='', placeholder='eg. n12345678', description='Student Number:', disabled=False, layout = widgets.Layout(width='300px'), display='flex', flex_flow='column', align_items='stretch')\n",
    "wdg_studentNoHBox_tbox = widgets.HBox([wdg_studentNo_tbox,wdg_statusStudentNo_label])\n",
    "wdg_studentName_tbox = widgets.Text( value='', placeholder='eg. John Smith', description='Student Name:', disabled=False, layout = widgets.Layout(width='400px'), display='flex', flex_flow='column', align_items='stretch')\n",
    "wdg_studentNameHBox_tbox = widgets.HBox([wdg_studentName_tbox,wdg_statusStudentName_label])\n",
    "wdg_submit = widgets.Button(description = 'Submit Notebook') \n",
    "wdg_try_again = widgets.Button(description = 'Try Again', disabled = True, hidden=True) \n",
    "\n",
    "def alnumspa(string):\n",
    "    return all(x.isalnum() or x.isspace() for x in string)\n",
    "\n",
    "def submit_notebook(arg):\n",
    "    wdg_statusStudentNo_label.value = wdg_statusStudentName_label.value = wdg_status_label.value = \"\"\n",
    "    studentNo_tbox_val = wdg_studentNo_tbox.value\n",
    "    studentName_tbox_val = wdg_studentName_tbox.value\n",
    "    if ((len(studentNo_tbox_val) > 0 and alnumspa(studentNo_tbox_val)) and (len(studentName_tbox_val) > 0) and alnumspa(studentName_tbox_val)):\n",
    "        student_identifier = studentNo_tbox_val+'_'+studentName_tbox_val+'_'+(datetime.datetime.now().strftime(\"%H-%M-%S\"))\n",
    "        student_identifier = student_identifier.replace(\" \",\"_\")\n",
    "        error = False\n",
    "        try:\n",
    "            hex_uuid = uuid.uuid4().hex\n",
    "            wdg_status_label.value = \"<span style='color:blue;'>Packaging files...</span>\"\n",
    "            time.sleep(0.5)\n",
    "            os.system(\"cp -r . %s/\" % student_identifier)\n",
    "            os.system(\"tar -zcvf %s.tar.gz %s\" % (hex_uuid, student_identifier))\n",
    "            wdg_status_label.value = \"<span style='color:blue;'>Attempting upload...</span>\"\n",
    "            time.sleep(0.5)\n",
    "            req = requests.put('http://iab303-2020-bucket-test.s3.amazonaws.com/%s' % hex_uuid, data=open('%s.tar.gz' % hex_uuid, 'rb').read())\n",
    "            if (int(req.status_code) == 200):\n",
    "                wdg_status_label.value = \"<span style='color:green;'>Submission is complete.</span>\"\n",
    "            else:\n",
    "                error = True\n",
    "            os.system(\"rm %s.tar.gz .\" % hex_uuid)\n",
    "            os.system(\"rm -R %s\" % student_identifier)\n",
    "        except:\n",
    "            error = True\n",
    "        if (error):\n",
    "            wdg_status_label.value = \"<span style='color:red;'>It appears that there has been an error.</span>\"\n",
    "    else:\n",
    "        if (len(studentNo_tbox_val) == 0 or len(studentName_tbox_val) == 0):\n",
    "            if (len(studentNo_tbox_val) == 0):\n",
    "                wdg_statusStudentNo_label.value = \"<span style='color:red;'>*</span>\"\n",
    "            if (len(studentName_tbox_val) == 0):\n",
    "                wdg_statusStudentName_label.value = \"<span style='color:red;'>*</span>\"\n",
    "            wdg_status_label.value = \"<span style='color:red;'>Please ensure all fields are filled before submission.</span>\"\n",
    "        elif ((not alnumspa(studentNo_tbox_val)) or (not alnumspa(studentName_tbox_val))):\n",
    "            if (not alnumspa(studentNo_tbox_val)):\n",
    "                wdg_statusStudentNo_label.value = \"<span style='color:red;'>*</span>\"\n",
    "            if (not alnumspa(studentName_tbox_val)):\n",
    "                wdg_statusStudentName_label.value = \"<span style='color:red;'>*</span>\"\n",
    "            wdg_status_label.value = \"<span style='color:red;'>Please only use alphanumerical characters.</span>\"\n",
    "wdg_submit.on_click(submit_notebook)\n",
    "display(HTML('''<style> .widget-label { min-width: 20ex !important; } </style>'''), wdg_studentNoHBox_tbox,wdg_studentNameHBox_tbox,widgets.HBox([wdg_fill_label, wdg_submit, wdg_status_label])) \n"
   ]
  }
 ],
 "metadata": {
  "kernelspec": {
   "display_name": "Python 3",
   "language": "python",
   "name": "python3"
  },
  "language_info": {
   "codemirror_mode": {
    "name": "ipython",
    "version": 3
   },
   "file_extension": ".py",
   "mimetype": "text/x-python",
   "name": "python",
   "nbconvert_exporter": "python",
   "pygments_lexer": "ipython3",
   "version": "3.7.4"
  }
 },
 "nbformat": 4,
 "nbformat_minor": 4
}
