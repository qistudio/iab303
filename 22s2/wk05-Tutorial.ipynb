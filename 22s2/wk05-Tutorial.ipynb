{
 "cells": [
  {
   "cell_type": "markdown",
   "metadata": {
    "slideshow": {
     "slide_type": "slide"
    }
   },
   "source": [
    "## Tutorial :: The numbers behind COVID-19"
   ]
  },
  {
   "cell_type": "markdown",
   "metadata": {
    "slideshow": {
     "slide_type": "slide"
    }
   },
   "source": [
    "**CONCERN**\n",
    "\n",
    "You are working for Qantas as a data analyst. Your manager welcomes the Australian open borders. However, he wants to have an overview of how different countries in the world have been dealing with the pandemic to restart operation in the safest way possible.\n",
    "\n",
    "1. **Q**uestion\n",
    "2. **D**ata\n",
    "3. **A**nalysis\n",
    "4. **V**isualisation\n",
    "5. **I**nsight\n",
    "\n",
    "<img src=\"graphics/QDAVI_cycle_sm.png\" width=\"50%\" />"
   ]
  },
  {
   "cell_type": "markdown",
   "metadata": {
    "slideshow": {
     "slide_type": "slide"
    }
   },
   "source": [
    "### 1. Question\n",
    "\n",
    "How each country is in terms of new cases, ICU pations and vaccination?"
   ]
  },
  {
   "cell_type": "markdown",
   "metadata": {
    "slideshow": {
     "slide_type": "slide"
    }
   },
   "source": [
    "### 2. Data\n",
    "\n",
    "We are going to use a file called `owid-covid-data.csv`, located in the data folder, week-7"
   ]
  },
  {
   "cell_type": "code",
   "execution_count": null,
   "metadata": {},
   "outputs": [],
   "source": [
    "# Libraries for the analysis\n",
    "import pandas as pd\n",
    "import matplotlib.pyplot as plt"
   ]
  },
  {
   "cell_type": "code",
   "execution_count": null,
   "metadata": {},
   "outputs": [],
   "source": [
    "# Load the dataset\n",
    "df = pd.read_csv(???)\n",
    "df"
   ]
  },
  {
   "cell_type": "markdown",
   "metadata": {},
   "source": [
    "#### Clean/preprocess data"
   ]
  },
  {
   "cell_type": "code",
   "execution_count": null,
   "metadata": {},
   "outputs": [],
   "source": [
    "# Check data types\n",
    "df.dtypes"
   ]
  },
  {
   "cell_type": "code",
   "execution_count": null,
   "metadata": {},
   "outputs": [],
   "source": [
    "# Convert date to a date data type\n",
    "df[\"date\"] = pd.to_datetime(df[\"date\"], format=\"%d/%m/%Y\")\n",
    "df"
   ]
  },
  {
   "cell_type": "markdown",
   "metadata": {},
   "source": [
    "**Tip:** The format will depend on the data. If the format does not match the data, it will return an error"
   ]
  },
  {
   "cell_type": "code",
   "execution_count": null,
   "metadata": {},
   "outputs": [],
   "source": [
    "# Check data types to confirm the convertion\n",
    "df.dtypes"
   ]
  },
  {
   "cell_type": "code",
   "execution_count": null,
   "metadata": {},
   "outputs": [],
   "source": [
    "# Check the data descriptive statistics\n",
    "df.describe()"
   ]
  },
  {
   "cell_type": "code",
   "execution_count": null,
   "metadata": {},
   "outputs": [],
   "source": [
    "# Check the missing values\n",
    "df.isnull().sum()"
   ]
  },
  {
   "cell_type": "markdown",
   "metadata": {},
   "source": [
    "### 3. Analysis\n",
    "\n",
    "The data needs to be grouped to have a better perspective of the data"
   ]
  },
  {
   "cell_type": "code",
   "execution_count": null,
   "metadata": {},
   "outputs": [],
   "source": [
    "# Create new columns with the year and month\n",
    "df[\"year\"] = df[\"date\"].dt.year\n",
    "df[\"month\"] = df[\"date\"].dt.month\n",
    "df"
   ]
  },
  {
   "cell_type": "code",
   "execution_count": null,
   "metadata": {},
   "outputs": [],
   "source": [
    "# Find the unique values for locations\n",
    "df[\"location\"].unique()"
   ]
  },
  {
   "cell_type": "code",
   "execution_count": null,
   "metadata": {},
   "outputs": [],
   "source": [
    "# Filter by Australia 2021\n",
    "au_df = df[(???) & (???)]\n",
    "au_df"
   ]
  },
  {
   "cell_type": "code",
   "execution_count": null,
   "metadata": {},
   "outputs": [],
   "source": [
    "# Group Australian data by month\n",
    "au_df_grouped = au_df[[\"new_cases\", \"new_deaths\", \"people_fully_vaccinated\", \"month\"]].groupby(\"month\").agg({\"new_cases\": \"sum\",\n",
    "    \"new_deaths\": \"sum\", \"people_fully_vaccinated\": \"max\"})\n",
    "au_df_grouped"
   ]
  },
  {
   "cell_type": "code",
   "execution_count": null,
   "metadata": {},
   "outputs": [],
   "source": [
    "# Filter by Brazil 2021\n",
    "br_df = df[(???) & (???)]\n",
    "br_df"
   ]
  },
  {
   "cell_type": "code",
   "execution_count": null,
   "metadata": {},
   "outputs": [],
   "source": [
    "# Group Brazilian data by month\n",
    "br_df_grouped = br_df[[\"new_cases\", \"new_deaths\", \"people_fully_vaccinated\", \"month\"]].groupby(\"month\").agg({\"new_cases\": \"sum\",\n",
    "    \"new_deaths\": \"sum\", \"people_fully_vaccinated\": \"max\"})\n",
    "br_df_grouped"
   ]
  },
  {
   "cell_type": "markdown",
   "metadata": {},
   "source": [
    "### 4. Visualisation"
   ]
  },
  {
   "cell_type": "code",
   "execution_count": null,
   "metadata": {},
   "outputs": [],
   "source": [
    "# Visualise the countries\n",
    "fig, axs = plt.subplots(nrows=1, ncols=3, figsize=(20,5))\n",
    "fig.suptitle(\"Countries COVID-19 overview 2021\", fontweight=\"bold\", size=25)\n",
    "fig.tight_layout(h_pad=20)\n",
    "\n",
    "axs[0].set_title(\"New cases\", fontweight=\"bold\", size=15)\n",
    "au_df_grouped[\"new_cases\"].plot(ax=axs[0], label=\"Australia\")\n",
    "br_df_grouped[\"new_cases\"].plot(ax=axs[0], label=\"Brazil\")\n",
    "axs[0].legend(loc='upper right')\n",
    "\n",
    "axs[1].set_title(\"New deaths\", fontweight=\"bold\", size=15)\n",
    "au_df_grouped[\"new_deaths\"].plot(ax=axs[1], label=\"Australia\")\n",
    "br_df_grouped[\"new_deaths\"].plot(ax=axs[1], label=\"Brazil\")\n",
    "axs[1].legend(loc='upper right')\n",
    "\n",
    "axs[2].set_title(\"People fully vaccinated\", fontweight=\"bold\", size=15)\n",
    "au_df_grouped[\"people_fully_vaccinated\"].plot(ax=axs[2], label=\"Australia\")\n",
    "br_df_grouped[\"people_fully_vaccinated\"].plot(ax=axs[2], label=\"Brazil\")\n",
    "axs[2].legend(loc='upper left')"
   ]
  },
  {
   "cell_type": "markdown",
   "metadata": {},
   "source": [
    "### 5. Insights\n",
    "\n",
    "- Is it easier to compare the countries with our approach?\n",
    "- Is it fair and ethic the way we are analysing the data?\n",
    "- Can you think of a different way of analysing the data with the data we already have?"
   ]
  },
  {
   "cell_type": "markdown",
   "metadata": {},
   "source": []
  }
 ],
 "metadata": {
  "celltoolbar": "Slideshow",
  "hide_input": false,
  "kernelspec": {
   "display_name": "Python 3",
   "language": "python",
   "name": "python3"
  },
  "language_info": {
   "codemirror_mode": {
    "name": "ipython",
    "version": 3
   },
   "file_extension": ".py",
   "mimetype": "text/x-python",
   "name": "python",
   "nbconvert_exporter": "python",
   "pygments_lexer": "ipython3",
   "version": "3.6.9"
  }
 },
 "nbformat": 4,
 "nbformat_minor": 4
}
