{
 "cells": [
  {
   "cell_type": "markdown",
   "metadata": {},
   "source": [
    "<div class=\"alert alert-block alert-info\"><b>IAB303</b> - Data Analytics for Business Insight</div>"
   ]
  },
  {
   "cell_type": "markdown",
   "metadata": {},
   "source": [
    "## Homework :: The Data Analytics Cycle\n"
   ]
  },
  {
   "cell_type": "markdown",
   "metadata": {},
   "source": [
    "---\n",
    "\n",
    "## Tutorial :: QDAVI\n",
    "\n",
    "> **CONCERN:** The business is looking to launch an agricultural product in either Australia or New Zealand. However, management is unsure which country to start with.\n",
    "\n",
    "1. **Q**uestion\n",
    "2. **D**ata\n",
    "3. **A**nalysis\n",
    "4. **V**isualisation\n",
    "5. **I**nsight\n",
    "\n",
    "<img src=\"graphics/QDAVI_cycle_sm.png\" width=\"50%\" />"
   ]
  },
  {
   "cell_type": "markdown",
   "metadata": {},
   "source": [
    "### 1. Question\n",
    "\n",
    "The business is looking to launch an agricultural product in either Australia or New Zealand. However, management is unsure which country to start with."
   ]
  },
  {
   "cell_type": "markdown",
   "metadata": {},
   "source": [
    "### 2. Data\n",
    "\n",
    "[GapMinder](https://www.gapminder.org/data/) - (based on [uw-madison resource](https://uw-madison-aci.github.io/python-novice-gapminder/39-plotting/))\n",
    "* Agriculture, percent of GDP (`agric_gdp.csv`)\n",
    "\n",
    "**Tip:** The file path root is where the notebook is located\n",
    "* To access a folder write directly the folder name\n",
    "* To access the parent folder write `../` at the beginning of the path"
   ]
  },
  {
   "cell_type": "code",
   "execution_count": null,
   "metadata": {},
   "outputs": [],
   "source": [
    "# Import pandas for dataframes and matplotlib for plotting\n",
    "import matplotlib.pyplot as plt\n",
    "import pandas\n",
    "\n",
    "# Set variables for file and index column\n",
    "file = \"../data/week-2/agric_gdp.csv\" #see above\n",
    "colname = \"country\" #open the csv and have a look\n",
    "\n",
    "# Read in the percent of gdp data\n",
    "ag_gdp = pandas.read_csv(file, index_col= colname)\n",
    "print(ag_gdp.shape)\n"
   ]
  },
  {
   "cell_type": "code",
   "execution_count": null,
   "metadata": {},
   "outputs": [],
   "source": [
    "# Take a look at the data\n",
    "ag_gdp"
   ]
  },
  {
   "cell_type": "markdown",
   "metadata": {},
   "source": [
    "#### Clean/preprocess data"
   ]
  },
  {
   "cell_type": "code",
   "execution_count": null,
   "metadata": {},
   "outputs": [],
   "source": [
    "# Take the last 5 years of the GDP data\n",
    "most_recent_five_years = [\"2015\", \"2016\", \"2017\", \"2018\", \"2019\"]\n",
    "ag_gdp_cln = ag_gdp.filter(most_recent_five_years, axis=1)\n",
    "print(ag_gdp_cln.shape)\n",
    "\n",
    "# Just select the countries we are interested in by referencing the index\n",
    "ag_gdp_au = ag_gdp_cln.loc[\"Australia\"]\n",
    "ag_gdp_nz = ag_gdp_cln.loc[\"New Zealand\"]"
   ]
  },
  {
   "cell_type": "code",
   "execution_count": null,
   "metadata": {},
   "outputs": [],
   "source": [
    "# Take a look at the data for AU\n",
    "ag_gdp_au"
   ]
  },
  {
   "cell_type": "code",
   "execution_count": null,
   "metadata": {},
   "outputs": [],
   "source": [
    "# Take a look at the data for NZ\n",
    "ag_gdp_nz"
   ]
  },
  {
   "cell_type": "markdown",
   "metadata": {},
   "source": [
    "### 3. Analysis\n",
    "\n",
    "- What is the problem with the NZ data?\n",
    "- What do we need to do?\n",
    "- For now, we don't do any more analysis - we are more interested in the process"
   ]
  },
  {
   "cell_type": "markdown",
   "metadata": {},
   "source": [
    "### 4. Visualisation"
   ]
  },
  {
   "cell_type": "code",
   "execution_count": null,
   "metadata": {},
   "outputs": [],
   "source": [
    "# Plot the 2 countries\n",
    "plt.plot(ag_gdp_au)\n",
    "plt.plot(ag_gdp_nz)"
   ]
  },
  {
   "cell_type": "code",
   "execution_count": null,
   "metadata": {},
   "outputs": [],
   "source": [
    "# Add labels and set colours\n",
    "plt.plot(ag_gdp_au,'g-',label=\"Australia\")\n",
    "plt.plot(ag_gdp_nz,'m-',label=\"New Zealand\")\n",
    "\n",
    "# Create legend.\n",
    "plt.legend(loc='upper right')\n",
    "plt.xlabel(\"Years\")\n",
    "plt.ylabel(\"% of GDP\")"
   ]
  },
  {
   "cell_type": "markdown",
   "metadata": {},
   "source": [
    "### Document analytics\n",
    "\n",
    "1. What is the concern?\n",
    "2. What data did we use?\n",
    "3. How did we analyse it, what decisions and why?\n",
    "4. What do the visualisations tell us?\n",
    "5. What is the recommendation for the concern? What other information would be helpful? What *doesn't* the data tell us? Can we make inferences?"
   ]
  },
  {
   "cell_type": "markdown",
   "metadata": {},
   "source": [
    "## Second QDAVI cycle"
   ]
  },
  {
   "cell_type": "markdown",
   "metadata": {},
   "source": [
    "### 1. Question\n",
    "\n",
    "How can we give more context to the agricultural % of GDP"
   ]
  },
  {
   "cell_type": "markdown",
   "metadata": {},
   "source": [
    "### 2. Data\n",
    "\n",
    "Let's check the countries total GDP to get the value in dollars. It can be used the data file located in the data folder, week-2, called `gdp.csv`"
   ]
  },
  {
   "cell_type": "code",
   "execution_count": null,
   "metadata": {},
   "outputs": [],
   "source": [
    "# Load the require  file\n",
    "gdp = pandas.read_csv(???, index_col=???)\n",
    "gdp.shape"
   ]
  },
  {
   "cell_type": "code",
   "execution_count": null,
   "metadata": {},
   "outputs": [],
   "source": [
    "# Take a look at the dataframe\n",
    "gdp"
   ]
  },
  {
   "cell_type": "markdown",
   "metadata": {},
   "source": [
    "#### Clean/preprocess data"
   ]
  },
  {
   "cell_type": "code",
   "execution_count": null,
   "metadata": {},
   "outputs": [],
   "source": [
    "# Use the same filter as before to get the sames years\n",
    "gdp_cln = gdp.filter(???, axis=1)\n",
    "print(gdp_cln.shape)\n",
    "\n",
    "# Just select the countries we are interested in by referencing the index\n",
    "gdp_au = gdp_cln.loc[???]\n",
    "gdp_nz = gdp_cln.loc[???]"
   ]
  },
  {
   "cell_type": "code",
   "execution_count": null,
   "metadata": {},
   "outputs": [],
   "source": [
    "# Take a look at the data of AU\n",
    "gdp_au"
   ]
  },
  {
   "cell_type": "code",
   "execution_count": null,
   "metadata": {},
   "outputs": [],
   "source": [
    "# Take a look at the data of NZ\n",
    "gdp_nz"
   ]
  },
  {
   "cell_type": "code",
   "execution_count": null,
   "metadata": {},
   "outputs": [],
   "source": [
    "# Convert the data of AU to float\n",
    "fl_gdp_au = gdp_au.apply(lambda x: x.replace(\"TR\", \"\")).astype(\"float\") * 1000\n",
    "fl_gdp_au\n"
   ]
  },
  {
   "cell_type": "code",
   "execution_count": null,
   "metadata": {},
   "outputs": [],
   "source": [
    "# Convert the data of NZ to float\n",
    "fl_gdp_nz = gdp_nz.apply(lambda x: x.replace(\"B\", \"\")).astype(\"float\")\n",
    "fl_gdp_nz"
   ]
  },
  {
   "cell_type": "markdown",
   "metadata": {},
   "source": [
    "### 3. Analysis\n",
    "\n",
    "Calculate the value in dollars of the agriculture sector for each country"
   ]
  },
  {
   "cell_type": "code",
   "execution_count": null,
   "metadata": {},
   "outputs": [],
   "source": [
    "# Create a new dataframe with the year, agric %, total gdp and agric gdp for AU\n",
    "df_au = pandas.DataFrame(columns={???, ???, ???, ???})\n",
    "df_au[\"year\"] = ???\n",
    "df_au[\"agric %\"] = ???\n",
    "df_au[\"total gdp (B)\"] = ???\n",
    "df_au[\"agric gdp (B)\"] = ???\n",
    "df_au.set_index(\"year\", inplace=True)\n",
    "df_au"
   ]
  },
  {
   "cell_type": "code",
   "execution_count": null,
   "metadata": {},
   "outputs": [],
   "source": [
    "# Create a new dataframe with the year, agric %, total gdp and agric gdp for NZ\n",
    "df_nz = pandas.DataFrame(columns={???, ???, ???, ???})\n",
    "df_nz[\"year\"] = ???\n",
    "df_nz[\"agric %\"] = ???\n",
    "df_nz[\"total gdp (B)\"] = ???\n",
    "df_nz[\"agric gdp (B)\"] = ???\n",
    "df_nz.set_index(\"year\", inplace=True)\n",
    "df_nz"
   ]
  },
  {
   "cell_type": "markdown",
   "metadata": {},
   "source": [
    "### 4. Visualisation"
   ]
  },
  {
   "cell_type": "code",
   "execution_count": null,
   "metadata": {},
   "outputs": [],
   "source": [
    "# Add labels and set colours\n",
    "plt.plot(df_au[???],'g-',label=\"Australia\")\n",
    "plt.plot(df_nz[???],'m-',label=\"New Zealand\")\n",
    "\n",
    "# Create legend.\n",
    "plt.legend(loc='upper right')\n",
    "plt.xlabel(\"Years\")\n",
    "plt.ylabel(\"GDP (in billions)\")"
   ]
  },
  {
   "cell_type": "markdown",
   "metadata": {},
   "source": [
    "### 5. Insights\n",
    "\n",
    "1. What is the concern?\n",
    "2. What data did we use?\n",
    "3. How did we analyse it, what decisions and why?\n",
    "4. What do the visualisations tell us?\n",
    "5. What is the recommendation for the concern? What other information would be helpful? What *doesn't* the data tell us? Can we make inferences?"
   ]
  },
  {
   "cell_type": "code",
   "execution_count": null,
   "metadata": {},
   "outputs": [],
   "source": []
  }
 ],
 "metadata": {
  "hide_input": false,
  "kernelspec": {
   "display_name": "Python 3 (ipykernel)",
   "language": "python",
   "name": "python3"
  },
  "language_info": {
   "codemirror_mode": {
    "name": "ipython",
    "version": 3
   },
   "file_extension": ".py",
   "mimetype": "text/x-python",
   "name": "python",
   "nbconvert_exporter": "python",
   "pygments_lexer": "ipython3",
   "version": "3.9.13"
  }
 },
 "nbformat": 4,
 "nbformat_minor": 4
}
