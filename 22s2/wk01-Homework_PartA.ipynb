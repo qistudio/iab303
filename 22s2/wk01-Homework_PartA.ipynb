{
 "cells": [
  {
   "cell_type": "markdown",
   "metadata": {},
   "source": [
    "<div class=\"alert alert-block alert-info\"><b>IAB303</b> - Data Analytics for Business Insight</div>"
   ]
  },
  {
   "cell_type": "markdown",
   "metadata": {},
   "source": [
    "## Homework :: Introducing Jupyter notebook\n",
    "\n",
    "You've made it to this point, so you know how to:\n",
    "1. Sync files to your Jupyter server\n",
    "2. Launch a notebook from the Jupyter `files` page. \n",
    "\n",
    "Now it's time to take a look at how these notebooks are created. \n",
    "\n",
    "Notebooks have 2 main types of cells - `Markdown` cells for displaying content like a web page, and `Code` cells for running code (in our case Python code) and displaying the results. In this practical session we will explore both of these types of cells and how they work together for a complete analytics process.\n",
    "\n",
    "This homework includes 2 groups of tasks:\n",
    "1. Basic Markdown\n",
    "2. Basic Python\n",
    "\n",
    "Before moving on to the tasks, familiarise yourself with the menus above, and in particular the [keyboard short cuts](https://gist.github.com/discdiver/9e00618756d120a8c9fa344ac1c375ac) for `run cell and insert below`, `run cell`, changing between `command` and `edit` modes, and changing between `Code` and `Markdown` cell types.\n"
   ]
  },
  {
   "cell_type": "markdown",
   "metadata": {},
   "source": [
    "## [1] Basic Markdown\n",
    "\n",
    "Open this [link on markdown cells](http://nbviewer.jupyter.org/github/ipython/ipython/blob/3.x/examples/Notebook/Working%20With%20Markdown%20Cells.ipynb) in a new tab or window, and read what is possible to do in a markdown cell. Further information can be found in Help -> Markdown Reference.\n",
    "\n",
    "Try creating the following markdown elements. Create a new markdown cell for each element:\n",
    "1. Headings - 3 different levels. Then give each subsequent element a heading\n",
    "2. Plain text, italics and bold text, and a horizontal line. Then put a line between each element.\n",
    "3. A numbered list of your 3 favourite bands/musicians, with sublists of a couple of their albums \n",
    "4. A bulleted list of your 3 favourite movies, with sublists of characters in each.\n",
    "5. A table with your movies above, your favourite character and the actor who plays the character.\n",
    "6. A quote from a web page, and a link to the original webpage\n",
    "7. A code block that demonstrates printing your name\n",
    "8. An inline maths equation for a quadratic equation - f of x equals ax squared plus bx plus c (between some text)\n",
    "\n",
    "---"
   ]
  },
  {
   "cell_type": "markdown",
   "metadata": {},
   "source": [
    "Add your Markdown here."
   ]
  },
  {
   "cell_type": "markdown",
   "metadata": {},
   "source": [
    "## [2] Basic Python\n",
    "\n",
    "Open this [link on introductory Python](https://docs.python.org/3.6/tutorial/introduction.html) in a new tab or window, and read about some basic Python.\n",
    "\n",
    "Try running Python code for the following tasks. Create a new `Code` cell for each task. \n",
    "\n",
    "1. Code comments. Include one at the start of the cell and another beside `answer = 42` that tells the reader that \"It is the answer to life, the universe and everything\".\n",
    "2. Calculate the number hours in a week. Assign this to a variable `hours_in_week`, and then calculate the number of hours in a 13 week semester. Comment what you are doing.\n",
    "3. Create a 2 line string using newline and print it out.\n",
    "4. Create a 3 line string using triple quotes and print it out.\n",
    "5. Print out `Data Analytics for Business Insight` concatenated from 4 parts.\n",
    "6. Assign `IAB303 Data Analytics for Business Insight` to a variable `unit` and then extract the unit code separated to the unit name and print them out as `Data Analytics for Business Insight (IAB303)`.\n",
    "7. Check that the unit code is 6 characters long. If so, print out `Correct code`, else, print out `Incorrect code`.\n",
    "8. Add your movies from the markdown task to a list, then use a while loop to print each element of the list out on a separate line."
   ]
  },
  {
   "cell_type": "code",
   "execution_count": null,
   "metadata": {},
   "outputs": [],
   "source": [
    "#Write your code here"
   ]
  }
 ],
 "metadata": {
  "hide_input": false,
  "kernelspec": {
   "display_name": "Python 3 (ipykernel)",
   "language": "python",
   "name": "python3"
  },
  "language_info": {
   "codemirror_mode": {
    "name": "ipython",
    "version": 3
   },
   "file_extension": ".py",
   "mimetype": "text/x-python",
   "name": "python",
   "nbconvert_exporter": "python",
   "pygments_lexer": "ipython3",
   "version": "3.9.13"
  }
 },
 "nbformat": 4,
 "nbformat_minor": 4
}
