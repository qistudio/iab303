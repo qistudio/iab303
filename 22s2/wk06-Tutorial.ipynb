{
 "cells": [
  {
   "cell_type": "markdown",
   "metadata": {},
   "source": [
    "## Tutorial :: Last week homework\n",
    "\n",
    "After your analysis of the movies scores, your manager wanted to know if there is any additional information that could be extracted from the data.\n",
    "\n",
    "Your next task is finding what is that the critics liked about well scored movies."
   ]
  },
  {
   "cell_type": "markdown",
   "metadata": {},
   "source": [
    "### Your insights\n",
    "\n",
    "???\n",
    "\n",
    "---"
   ]
  },
  {
   "cell_type": "markdown",
   "metadata": {
    "slideshow": {
     "slide_type": "slide"
    }
   },
   "source": [
    "## Tutorial :: Assessment of competitive threats and opportunities"
   ]
  },
  {
   "cell_type": "markdown",
   "metadata": {
    "slideshow": {
     "slide_type": "slide"
    }
   },
   "source": [
    "### Case: FaceBook and Cambridge Analytica\n",
    "\n",
    "[Why Facebook's Data Scandal is a Big Deal](https://youtu.be/a3W1I2_B6GA)\n",
    "\n"
   ]
  },
  {
   "cell_type": "markdown",
   "metadata": {
    "slideshow": {
     "slide_type": "slide"
    }
   },
   "source": [
    "### Market Threats\n",
    "\n",
    "> A market threat is an external challenge that may negatively impact your company's ability to meet its marketing and sales goals. \n",
    ">\n",
    "> [Possible Market Threats in a Marketing Plan](https://yourbusiness.azcentral.com/possible-market-threats-marketing-plan-6075.html)\n",
    "\n",
    "1. Economic change\n",
    "2. Competitive innovation\n",
    "3. Regulation\n",
    "4. Consumer perception"
   ]
  },
  {
   "cell_type": "markdown",
   "metadata": {
    "slideshow": {
     "slide_type": "slide"
    }
   },
   "source": [
    "### Porter's 5 forces\n",
    "\n",
    "[Updated paper - The Five Competitive Forces That Shape Strategy](http://www.academia.edu/download/32580687/HBR_on_Strategy.pdf#page=25)\n",
    "\n",
    "[Porter's Five Forces](https://www.strategicmanagementinsight.com/tools/porters-five-forces.html)"
   ]
  },
  {
   "cell_type": "markdown",
   "metadata": {
    "slideshow": {
     "slide_type": "slide"
    }
   },
   "source": [
    "<img src=\"../graphics/porters-five-forces.png\" width=\"50%\"></img>"
   ]
  },
  {
   "cell_type": "markdown",
   "metadata": {
    "slideshow": {
     "slide_type": "slide"
    }
   },
   "source": [
    "### Business Model Innovation (BMI)\n",
    "\n",
    "[Business Model Innovation:\n",
    "When the Game Gets Tough, Change the Game](https://onlinelibrary.wiley.com/doi/pdf/10.1002/9781119204084.ch40)\n",
    "\n",
    "**Two essential elements:**\n",
    "\n",
    "1. The value proposition\n",
    "    - Target segments - customers and their needs\n",
    "    - Product/service offering - offering to meet customer needs\n",
    "    - Revenue model - compensation for offering\n",
    "2. The operating model\n",
    "    - Value chain - deliver on customer demand\n",
    "    - Cost model - deliver VP profitably\n",
    "    - Organisation - deploy and develop people for competitve advantage\n"
   ]
  },
  {
   "cell_type": "markdown",
   "metadata": {
    "slideshow": {
     "slide_type": "slide"
    }
   },
   "source": [
    "*Executives seeking to create a shared awareness of the threats and opportunities involved should ask themselves the following questions:*\n",
    " * What compromises does our current business model force customers to make?\n",
    " * Why are nonusers or defectors dissatisfied with our offering?\n",
    " * Do we offer customers a better value proposition than the competition? l What alternative models are gaining share at the edges of our industry? l If we were an industry outsider, what would we do to take advantage of the gaps or weaknesses in our business model?\n",
    " * Do we have a plan for identifying potential business models, implementing them, and embedding BMI capabilities within the organization?\n",
    " * What do we need to change in our organization and operations to implement a new business model?\n",
    " * What information would we need to make a commitment to a new model?\n",
    " * How urgent is the perceived need for change in our organization? l How should our ideas be championed?\n",
    "\n",
    "[Business Model Innovation:\n",
    "When the Game Gets Tough, Change the Game](https://onlinelibrary.wiley.com/doi/pdf/10.1002/9781119204084.ch40)"
   ]
  },
  {
   "cell_type": "markdown",
   "metadata": {
    "slideshow": {
     "slide_type": "slide"
    }
   },
   "source": [
    "### TOWS analysis\n",
    "\n",
    "[Strategic Planning: SWOT & TOWS Analysis](https://youtu.be/H8FANR-2u2Q)\n",
    "\n",
    "**How can data analytics help create links between dimensions in the TOWS**\n",
    "\n",
    "* How might FaceBook use this?\n",
    "* Login to [Wooclap FB SWOT](http://www.wooclap.com/FBSWOT) and write down one example for each link:\n",
    "    1. Opportunities - Strengths\n",
    "    2. Opportunities - Weaknesses\n",
    "    3. Threats - Strengths\n",
    "    4. Threats - Weaknesses\n",
    "\n"
   ]
  }
 ],
 "metadata": {
  "celltoolbar": "Slideshow",
  "hide_input": false,
  "kernelspec": {
   "display_name": "Python 3",
   "language": "python",
   "name": "python3"
  },
  "language_info": {
   "codemirror_mode": {
    "name": "ipython",
    "version": 3
   },
   "file_extension": ".py",
   "mimetype": "text/x-python",
   "name": "python",
   "nbconvert_exporter": "python",
   "pygments_lexer": "ipython3",
   "version": "3.5.2"
  }
 },
 "nbformat": 4,
 "nbformat_minor": 2
}
