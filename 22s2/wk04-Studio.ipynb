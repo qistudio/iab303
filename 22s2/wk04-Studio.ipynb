{
 "cells": [
  {
   "cell_type": "markdown",
   "metadata": {},
   "source": [
    "<div class=\"alert alert-block alert-info\"><b>IAB303</b> - Data Analytics for Business Insight</div>"
   ]
  },
  {
   "cell_type": "markdown",
   "metadata": {},
   "source": [
    "# Studio :: Unstructured data"
   ]
  },
  {
   "cell_type": "markdown",
   "metadata": {},
   "source": [
    "### Unstructured data\n",
    "\n",
    "Humans can make meaning from data without necessarily having pre-defined structure. In fact we frequently use very ill-defined structures to organise and communicate our thinking. We are also adept at creating these kinds of structures as required, in the moment, rather than requiring the data be structured before we can make sense of it.\n",
    "\n",
    "<p><a href=\"https://commons.wikimedia.org/wiki/File:Coggle_Document.png#/media/File:Coggle_Document.png\"><img src=\"https://upload.wikimedia.org/wikipedia/commons/1/19/Coggle_Document.png\" alt=\"Coggle Document.png\"></a><br>By <a href=\"https://en.wikipedia.org/wiki/User:Lurched95\" class=\"extiw\" title=\"en:User:Lurched95\">User:Lurched95</a>, <a href=\"https://creativecommons.org/licenses/by-sa/3.0\" title=\"Creative Commons Attribution-Share Alike 3.0\">CC BY-SA 3.0</a>, <a href=\"https://commons.wikimedia.org/w/index.php?curid=33923406\">Link</a></p>\n"
   ]
  },
  {
   "cell_type": "markdown",
   "metadata": {},
   "source": [
    "Computers are not so adept, so complex in the moment sense-making tasks on unstructured data are often easy for humans but very challenging for computers.\n",
    "\n",
    "<img src=\"https://static.boredpanda.com/blog/wp-content/uploads/2016/03/dog-food-comparison-bagel-muffin-lookalike-teenybiscuit-karen-zack-5__700.jpg\">\n",
    "\n",
    "[Puppies or Food (boredpanda.com March 2016)](https://www.boredpanda.com/dog-food-comparison-bagel-muffin-lookalike-teenybiscuit-karen-zack/)"
   ]
  },
  {
   "cell_type": "markdown",
   "metadata": {},
   "source": [
    "### Kinds of structuring of data\n",
    "\n",
    "In order for us to perform data analysis on unstructured data, we will usually need to do some structuring of it, and this frequently results in semi-structured data. \n",
    "\n",
    "The 3 different kinds of structuring can be summarised as:\n",
    "\n",
    "* **Structured** $\\Rightarrow$ when the structure is pre-defined\n",
    "* **Structured** $\\Rightarrow$ is almost synonymous with 'stored in a RDMS', but can also exist in other software\n",
    "* **Unstructured** $\\leadsto$ when there is no pre-defined structure, or can't easily be conformed to a structure\n",
    "* **Unstructured** $\\leadsto$ commonly raw text, but also images, video, audio\n",
    "* **Unstructured** $\\leadsto$ can appear to have some kind of structure, but often that appearence is derived from our understanding, not from the data itself\n",
    "* **Semi-structured** $\\rightarrow$ the data can be stored in defined structure, but the actual instance of the structure is not predefined"
   ]
  },
  {
   "cell_type": "markdown",
   "metadata": {},
   "source": [
    "### Semi-structured data\n",
    "\n",
    "Semi-structured data is a lot more prevalent than structured data, but the computational tools are not as mature as structured data tools. Most semi-structured data tools have come about with the advent of the internet and then social media."
   ]
  },
  {
   "cell_type": "markdown",
   "metadata": {},
   "source": [
    "## Working with semi-structured data\n",
    "\n",
    "We will work with semi-structured data mostly by (a) creating it from plain text which is read from a file, or (b) importing the data from a JSON file.\n",
    "\n",
    "JSON is a way of labelling data, but without requiring all data to be the same or without requiring the structure to be fixed in advance.\n",
    "\n",
    "\n"
   ]
  },
  {
   "cell_type": "markdown",
   "metadata": {},
   "source": [
    "#### Reading plain text files"
   ]
  },
  {
   "cell_type": "code",
   "execution_count": null,
   "metadata": {},
   "outputs": [],
   "source": [
    "# Read in a plain text file\n",
    "with open('data/simple_text_file.txt', 'r') as file:\n",
    "    text = file.read()"
   ]
  },
  {
   "cell_type": "code",
   "execution_count": null,
   "metadata": {},
   "outputs": [],
   "source": [
    "# Show the string that was read from the file\n",
    "text"
   ]
  },
  {
   "cell_type": "code",
   "execution_count": null,
   "metadata": {},
   "outputs": [],
   "source": [
    "# We can read the text in a semi-structured format by taking advantage of the lines in the file\n",
    "with open('data/simple_text_file.txt', 'r') as file:\n",
    "    text_lines = file.readlines()"
   ]
  },
  {
   "cell_type": "code",
   "execution_count": null,
   "metadata": {},
   "outputs": [],
   "source": [
    "# Show the list that was read from the file\n",
    "text_lines"
   ]
  },
  {
   "cell_type": "code",
   "execution_count": null,
   "metadata": {},
   "outputs": [],
   "source": [
    "# We can also create the list, by splitting the original string\n",
    "lines = text.split('\\n')\n",
    "\n",
    "# view the list\n",
    "lines"
   ]
  },
  {
   "cell_type": "markdown",
   "metadata": {},
   "source": [
    "#### Reading JSON"
   ]
  },
  {
   "cell_type": "code",
   "execution_count": null,
   "metadata": {},
   "outputs": [],
   "source": [
    "# We need the JSON library\n",
    "import json\n",
    "\n",
    "# Read a JSON file like text, but with conversion to python dictionary\n",
    "with open('data/simple_json_file.json', 'r') as file:\n",
    "    json_data = json.load(file)"
   ]
  },
  {
   "cell_type": "code",
   "execution_count": null,
   "metadata": {},
   "outputs": [],
   "source": [
    "# View the json data\n",
    "json_data"
   ]
  },
  {
   "cell_type": "code",
   "execution_count": null,
   "metadata": {},
   "outputs": [],
   "source": [
    "# You can also load json data from a URL\n",
    "import requests\n",
    "\n",
    "# We can load data about the CSV on extinct mammals that we loaded above\n",
    "mammal_url = \"https://data.gov.au/api/3/action/package_show?id=c02731e8-5327-4720-bbc7-1fe67350a569\"\n",
    "content = requests.get(mammal_url)\n",
    "mammal_data = json.loads(content.content)"
   ]
  },
  {
   "cell_type": "code",
   "execution_count": null,
   "metadata": {
    "scrolled": true
   },
   "outputs": [],
   "source": [
    "# view the result\n",
    "mammal_data"
   ]
  },
  {
   "cell_type": "code",
   "execution_count": null,
   "metadata": {},
   "outputs": [],
   "source": [
    "# since the result is a dictionary, we can the value for one particular key\n",
    "mammal_data[\"result\"][\"notes\"]"
   ]
  },
  {
   "cell_type": "code",
   "execution_count": null,
   "metadata": {},
   "outputs": [],
   "source": [
    "# we can take this data and structure it further\n",
    "\n",
    "notes = mammal_data[\"result\"][\"notes\"]\n",
    "struct_notes = notes.split('\\r\\n')\n",
    "for note in struct_notes:\n",
    "    print(note)"
   ]
  },
  {
   "cell_type": "markdown",
   "metadata": {},
   "source": [
    "---\n",
    "\n",
    "## Structured data from text with regex"
   ]
  },
  {
   "cell_type": "markdown",
   "metadata": {},
   "source": [
    "### Required libraries\n",
    "\n",
    "We will need the Python regular expression library for this. *Note: Libraries are also known as packages in python and can include multiple modules.*"
   ]
  },
  {
   "cell_type": "code",
   "execution_count": null,
   "metadata": {},
   "outputs": [],
   "source": [
    "import re"
   ]
  },
  {
   "cell_type": "markdown",
   "metadata": {},
   "source": [
    "### The task\n",
    "\n",
    "We start with text from which we want to extract some structured data. Here is the text:"
   ]
  },
  {
   "cell_type": "code",
   "execution_count": null,
   "metadata": {},
   "outputs": [],
   "source": [
    "starting_text = \"\"\"2020.03.18 Andrew eats avocado\n",
    "2020.03.19 Catarina eats coconut\n",
    "2020.03.19 Prime Minister eats pineapple mousse\"\"\""
   ]
  },
  {
   "cell_type": "code",
   "execution_count": null,
   "metadata": {},
   "outputs": [],
   "source": [
    "starting_text"
   ]
  },
  {
   "cell_type": "markdown",
   "metadata": {},
   "source": [
    "What we are looking for are the important data that is embedded in the text. We must look at our original data to see what is possible.\n",
    "\n",
    "Looking at the `starting_text` we should be able to obtain the following data:\n",
    "\n",
    "| Date | Name | Food eaten |\n",
    "| --- | --- | --- |\n",
    "| 2020.03.18 | Andrew | avocado |\n",
    "| 2020.03.19 | Catarina | coconut |\n",
    "| 2020.03.19 | Prime Minister | pineapple mousse |"
   ]
  },
  {
   "cell_type": "markdown",
   "metadata": {},
   "source": [
    "### Initial structure - lines\n",
    "\n",
    "Our text already has some structure to it: each entry is on a new line. So we can turn the string `starting_text` into a list of strings by splitting on the newline (`\\n`) character that separates each line."
   ]
  },
  {
   "cell_type": "code",
   "execution_count": null,
   "metadata": {},
   "outputs": [],
   "source": [
    "text_list = starting_text.split('\\n')\n",
    "text_list"
   ]
  },
  {
   "cell_type": "markdown",
   "metadata": {},
   "source": [
    "### First *n* characters\n",
    "\n",
    "We now have a list where each element in the list is one line of the starting text. Now we need to start extracting the data we want. \n",
    "\n",
    "The date looks the easiest to extract as it is the beginning of each line. As each line is a string, and a string is basically a list of characters, we can get the first 10 characters by indicating the range in square brackets: `[0:10]`\n",
    "\n",
    "Let's try this on the first element of the list...\n"
   ]
  },
  {
   "cell_type": "code",
   "execution_count": null,
   "metadata": {},
   "outputs": [],
   "source": [
    "first_element = text_list[0]\n",
    "print(first_element)\n",
    "\n",
    "starting_10 = first_element[0:10]\n",
    "print(starting_10)"
   ]
  },
  {
   "cell_type": "markdown",
   "metadata": {},
   "source": [
    "We can experiment with this a bit..."
   ]
  },
  {
   "cell_type": "code",
   "execution_count": null,
   "metadata": {},
   "outputs": [],
   "source": [
    "# If we're starting from 0 we can leave it out...\n",
    "first_element[:10]"
   ]
  },
  {
   "cell_type": "code",
   "execution_count": null,
   "metadata": {},
   "outputs": [],
   "source": [
    "# Get just the first 4 characters...\n",
    "first_element[:4]"
   ]
  },
  {
   "cell_type": "code",
   "execution_count": null,
   "metadata": {},
   "outputs": [],
   "source": [
    "#Get the month\n",
    "first_element[5:7]"
   ]
  },
  {
   "cell_type": "markdown",
   "metadata": {},
   "source": [
    "Note that the first number of the range is the position of the first character, but the second number is the **next** position after the last character."
   ]
  },
  {
   "cell_type": "markdown",
   "metadata": {},
   "source": [
    "Since we need the date for all lines, we can loop over the list:"
   ]
  },
  {
   "cell_type": "code",
   "execution_count": null,
   "metadata": {},
   "outputs": [],
   "source": [
    "for element in text_list:\n",
    "    print(element[0:10])"
   ]
  },
  {
   "cell_type": "markdown",
   "metadata": {},
   "source": [
    "### New list with extracted data\n",
    "\n",
    "If we want to add this data to a new list, instead of printing the elements, we could do the following:"
   ]
  },
  {
   "cell_type": "code",
   "execution_count": null,
   "metadata": {},
   "outputs": [],
   "source": [
    "#Create a new empty list\n",
    "date_list = [] \n",
    "\n",
    "#Loop over the text_list and append dates to the new list\n",
    "for element in text_list:\n",
    "    date_list.append(element[0:10])\n",
    "    \n",
    "#Check new list\n",
    "date_list"
   ]
  },
  {
   "cell_type": "markdown",
   "metadata": {},
   "source": [
    "Python also allows us to do this in a single line of code: "
   ]
  },
  {
   "cell_type": "code",
   "execution_count": null,
   "metadata": {},
   "outputs": [],
   "source": [
    "date_list_two = [element[0:10] for element in text_list]\n",
    "date_list_two"
   ]
  },
  {
   "cell_type": "markdown",
   "metadata": {},
   "source": [
    "This single line can be read as:\n",
    "1. Create a new list \n",
    "    `[ ... ]`\n",
    "2. Put the first 10 characters of each element in the list \n",
    "    `[element[0:10] ...]`\n",
    "3. Where each element is obtained by looping over text_list \n",
    "    `[element[0:10] for element in text_list]`\n",
    "4. Assign the resulting list to a variable \n",
    "    `date_list = [element[0:10] for element in text_list]`"
   ]
  },
  {
   "cell_type": "markdown",
   "metadata": {},
   "source": [
    "### More complex text\n",
    "\n",
    "But what happens if our initial text didn't always have the date starting a new line..."
   ]
  },
  {
   "cell_type": "code",
   "execution_count": null,
   "metadata": {},
   "outputs": [],
   "source": [
    "messy_text = \"\"\"\n",
    "*** Start ***\n",
    "2020.03.18 Andrew eats avocado\n",
    "2020.03.19 Catarina eats coconut\n",
    "2020.03.19 Prime Minister eats pineapple mousse\n",
    "*** End ***\n",
    "\"\"\""
   ]
  },
  {
   "cell_type": "markdown",
   "metadata": {},
   "source": [
    "If we re-run the above approach on this text, we run into some issues..."
   ]
  },
  {
   "cell_type": "code",
   "execution_count": null,
   "metadata": {},
   "outputs": [],
   "source": [
    "messy_list = messy_text.split('\\n')\n",
    "messy_dates = [element[0:10] for element in messy_list]\n",
    "messy_dates"
   ]
  },
  {
   "cell_type": "markdown",
   "metadata": {},
   "source": [
    "We have a list of 7 elements. Only 3 of them are dates. 2 of them are empty and 2 of them have other data that mark the beginning and end of the file. "
   ]
  },
  {
   "cell_type": "markdown",
   "metadata": {},
   "source": [
    "### Pattern matching with regex\n",
    "\n",
    "This is where pattern matching with regex can be helpful. Instead of just getting the first 10 characters, we can get those characters that match a specific regex pattern.\n",
    "\n",
    "One possibility is a pattern that:\n",
    "1. Starts a line\n",
    "2. Has 4 numbers then a full stop, then 2 numbers then full stop, then 2 numbers\n",
    "\n",
    "The regex for matching the start of a string is `^`, numbers are matched by `[0-9]` and if we want certain number of something we can put the number in `{}` like `{3}`. \n",
    "So if we want to match the first 4 numbers of a string, we could use the regex `^[0-9]{4}`.\n",
    "\n",
    "Let's try this with our messy_list...\n",
    "\n",
    "**Tip:** You can test regex patterns and find additional information in this page [https://regexr.com/](https://regexr.com/)"
   ]
  },
  {
   "cell_type": "code",
   "execution_count": null,
   "metadata": {},
   "outputs": [],
   "source": [
    "print(messy_list[0]) # Print first line\n",
    "match = re.search(r\"^[0-9]{4}\", messy_list[0]) # Pattern match first line\n",
    "print(match) # Print the match"
   ]
  },
  {
   "cell_type": "markdown",
   "metadata": {},
   "source": [
    "Now we try with the third line which we know has a date..."
   ]
  },
  {
   "cell_type": "code",
   "execution_count": null,
   "metadata": {},
   "outputs": [],
   "source": [
    "print(messy_list[2]) # Print third line\n",
    "match = re.search(r\"^[0-9]{4}\", messy_list[2]) # Pattern match third line\n",
    "print(match) # Print the match"
   ]
  },
  {
   "cell_type": "markdown",
   "metadata": {},
   "source": [
    "We can get the actual value of the match with the `group()` function"
   ]
  },
  {
   "cell_type": "code",
   "execution_count": null,
   "metadata": {},
   "outputs": [],
   "source": [
    "match.group()"
   ]
  },
  {
   "cell_type": "markdown",
   "metadata": {},
   "source": [
    "We can see that it found a match which was the first 4 characters of the date. Let's try this approach with the whole of `messy_text` instead of our original counting characters approach..."
   ]
  },
  {
   "cell_type": "code",
   "execution_count": null,
   "metadata": {},
   "outputs": [],
   "source": [
    "for element in messy_list:\n",
    "    match = re.search(r\"^[0-9]{4}\", element)\n",
    "    print(match)\n"
   ]
  },
  {
   "cell_type": "markdown",
   "metadata": {},
   "source": [
    "### Getting match values\n",
    "\n",
    "So we can see that the dates have been matched, and those lines without dates come back with none. We can only use the `group()` function on actual matches, so in our loop, we'll need to check if the match has a value in it..."
   ]
  },
  {
   "cell_type": "code",
   "execution_count": null,
   "metadata": {},
   "outputs": [],
   "source": [
    "for element in messy_list:\n",
    "    match = re.search(r\"^[0-9]{4}\", element)\n",
    "    if match:\n",
    "        print(match.group())\n",
    "\n"
   ]
  },
  {
   "cell_type": "markdown",
   "metadata": {
    "slideshow": {
     "slide_type": ""
    }
   },
   "source": [
    "Instead of printing, let's add the results to our new `date_list`"
   ]
  },
  {
   "cell_type": "code",
   "execution_count": null,
   "metadata": {},
   "outputs": [],
   "source": [
    "# create empty list\n",
    "date_list = []\n",
    "\n",
    "# loop over lines and match dates and put in new list\n",
    "for element in messy_list:\n",
    "    match = re.search(r\"^[0-9]{4}\", element)\n",
    "    if match:\n",
    "        date_list.append(match.group())\n",
    "\n",
    "# look at the resulting list\n",
    "date_list"
   ]
  },
  {
   "cell_type": "markdown",
   "metadata": {},
   "source": [
    "### Pattern match whole date with regex\n",
    "\n",
    "Great, but we still need to get the whole date, not just the year. So we need to modify the regex.\n",
    "\n",
    "Unfortunately, the `.` in regex means match any character, so we need to tell regex that we actually want to match a full stop. We can do this by using a backslash to tell regex to treat the next character as an ordinary character. like `\\.`\n",
    "\n",
    "We also need to match the month, another full stop and the day of month. So our full regex will be: `^[0-9]{4}\\.[0-9]{2}\\.[0-9]{2}` (four numbers, stop, two numbers, stop, two numbers).\n",
    "\n",
    "Let's try that in our code:\n"
   ]
  },
  {
   "cell_type": "code",
   "execution_count": null,
   "metadata": {},
   "outputs": [],
   "source": [
    "# create empty list\n",
    "date_list = []\n",
    "\n",
    "# loop over lines and match dates and put in new list\n",
    "for element in messy_list:\n",
    "    match = re.search(r\"^[0-9]{4}\\.[0-9]{2}\\.[0-9]{2}\", element)\n",
    "    if match:\n",
    "        date_list.append(match.group())\n",
    "\n",
    "# look at the resulting list\n",
    "date_list"
   ]
  },
  {
   "cell_type": "markdown",
   "metadata": {},
   "source": [
    "### Bring it together\n",
    "\n",
    "> Part 1\n",
    "\n",
    "Here, we bring it all together and tidy up the code using some more meaningful variable names"
   ]
  },
  {
   "cell_type": "code",
   "execution_count": null,
   "metadata": {},
   "outputs": [],
   "source": [
    "# the text which we want to obtain data from\n",
    "text = \"\"\"\n",
    "*** Start ***\n",
    "2020.03.18 Andrew eats avocado\n",
    "2020.03.19 Catarina eats coconut\n",
    "2020.03.19 Prime Minister eats pineapple mousse\n",
    "*** End ***\n",
    "\"\"\"\n",
    "# split into list of lines\n",
    "lines = text.split('\\n')\n",
    "\n",
    "# create empty list for dates\n",
    "dates = []\n",
    "\n",
    "# loop over lines and match dates and put in new list\n",
    "for line in lines:\n",
    "    match = re.search(r\"^[0-9]{4}\\.[0-9]{2}\\.[0-9]{2}\", line)\n",
    "    if match:\n",
    "        dates.append(match.group())\n",
    "        \n",
    "# look at the resulting list\n",
    "for date in dates:\n",
    "    print(date)"
   ]
  },
  {
   "cell_type": "code",
   "execution_count": null,
   "metadata": {},
   "outputs": [],
   "source": [
    "dates"
   ]
  },
  {
   "cell_type": "markdown",
   "metadata": {},
   "source": [
    "### Reducing the task\n",
    "\n",
    "Once we have the date, we no longer need to work on the entire string because our other data is in the remainder of each line.\n",
    "\n",
    "To obtain this data, we can use a technique that we used in part 1 - treating a string as a list.\n",
    "\n",
    "In part 1, we tried getting just the first 10 characters, but we can also get all of the characters *after* a certain point."
   ]
  },
  {
   "cell_type": "code",
   "execution_count": null,
   "metadata": {},
   "outputs": [],
   "source": [
    "third_line = lines[2] # The third line of the text\n",
    "third_line"
   ]
  },
  {
   "cell_type": "code",
   "execution_count": null,
   "metadata": {},
   "outputs": [],
   "source": [
    "third_line[10:] # All character from position 10 onwards"
   ]
  },
  {
   "cell_type": "markdown",
   "metadata": {},
   "source": [
    "Even the date is only 10 characters, it is followed by a space, so really we want all text from position 11 onwards..."
   ]
  },
  {
   "cell_type": "code",
   "execution_count": null,
   "metadata": {},
   "outputs": [],
   "source": [
    "third_line[11:]"
   ]
  },
  {
   "cell_type": "markdown",
   "metadata": {},
   "source": [
    "We can try this in our code so far..."
   ]
  },
  {
   "cell_type": "code",
   "execution_count": null,
   "metadata": {},
   "outputs": [],
   "source": [
    "# loop over lines and match dates\n",
    "for line in lines:\n",
    "    match = re.search(r\"^[0-9]{4}\\.[0-9]{2}\\.[0-9]{2}\", line)\n",
    "    if match:\n",
    "        print(line[11:]) # print the characters from 11 onwards of lines that match"
   ]
  },
  {
   "cell_type": "markdown",
   "metadata": {},
   "source": [
    "These are substrings of the original lines which we can add to a new list for further processing..."
   ]
  },
  {
   "cell_type": "code",
   "execution_count": null,
   "metadata": {},
   "outputs": [],
   "source": [
    "# create a new empty list\n",
    "eat_lines = []\n",
    "\n",
    "# loop over lines and match dates\n",
    "for line in lines:\n",
    "    match = re.search(r\"^[0-9]{4}\\.[0-9]{2}\\.[0-9]{2}\", line)\n",
    "    if match:\n",
    "        eat_lines.append(line[11:]) # add the substrings for lines that match\n",
    "\n",
    "eat_lines"
   ]
  },
  {
   "cell_type": "markdown",
   "metadata": {},
   "source": [
    "### Splitting text using regex\n",
    "\n",
    "Now that we have reduced our task by taking the substrings, we now need to extract the data from these strings. \n",
    "\n",
    "For this task, we don't need to match the names and the food eaten (even though that is what we want). We can take a simpler task as all strings have a common pattern that separates names and foods: `eats`\n",
    "\n",
    "So we can simply split the strings..."
   ]
  },
  {
   "cell_type": "code",
   "execution_count": null,
   "metadata": {},
   "outputs": [],
   "source": [
    "first_line = eat_lines[0]\n",
    "first_line"
   ]
  },
  {
   "cell_type": "code",
   "execution_count": null,
   "metadata": {},
   "outputs": [],
   "source": [
    "first_line.split('eats')"
   ]
  },
  {
   "cell_type": "markdown",
   "metadata": {},
   "source": [
    "This leaves us with a space attached to the end of the name and the beginning of the food, so instead we could use.."
   ]
  },
  {
   "cell_type": "code",
   "execution_count": null,
   "metadata": {},
   "outputs": [],
   "source": [
    "first_line.split(' eats ')"
   ]
  },
  {
   "cell_type": "markdown",
   "metadata": {},
   "source": [
    "However, what the `space` was an invisible character (like a tab or a non-breaking space), or what if the word was 'ate' instead of 'eats'?\n",
    "\n",
    "Using regex can help. We need to find a pattern of a space, word of any lenght and a space. In regex a space is `\\s`. The previous example we specified the number of characters using `{}`. In this case, we don't know how many characters. Thus, we can use `+` to match one or more characters."
   ]
  },
  {
   "cell_type": "code",
   "execution_count": null,
   "metadata": {},
   "outputs": [],
   "source": [
    "alt_line = \"andrew ate avocado\"\n",
    "\n",
    "re.split(r\"\\s[a-z]+\\s\",alt_line)"
   ]
  },
  {
   "cell_type": "code",
   "execution_count": null,
   "metadata": {},
   "outputs": [],
   "source": [
    "alt_line2 = \"andrew someotherrediculousword avocado\"\n",
    "re.split(r\"\\s[a-z]+\\s\",alt_line)"
   ]
  },
  {
   "cell_type": "code",
   "execution_count": null,
   "metadata": {},
   "outputs": [],
   "source": [
    "alt_line3 = \"\"\"andrew\n",
    "eats\n",
    "avocado\"\"\"\n",
    "re.split(r\"\\s[a-z]+\\s\",alt_line)"
   ]
  },
  {
   "cell_type": "markdown",
   "metadata": {},
   "source": [
    "As you can see the regex captures all of these variation by matching the pattern rather than the exact text.\n",
    "\n",
    "We can now try this back in code..."
   ]
  },
  {
   "cell_type": "code",
   "execution_count": null,
   "metadata": {},
   "outputs": [],
   "source": [
    "# loop over lines and match dates\n",
    "for line in lines:\n",
    "    match = re.search(r\"^[0-9]{4}\\.[0-9]{2}\\.[0-9]{2}\", line)\n",
    "    if match:\n",
    "        eatline = line[11:] # substrings for lines that match\n",
    "        print(eatline)\n",
    "        splitline = re.split(r\"\\s[a-z]+\\s\",eatline)\n",
    "        print(\"Name: \",splitline[0]) # First element of splitline is name\n",
    "        print(\"Food: \",splitline[1]) # Second element of splitline is food\n",
    "        print() # Empty line to make easy to read\n"
   ]
  },
  {
   "cell_type": "markdown",
   "metadata": {},
   "source": [
    "### Bring it together\n",
    "\n",
    "> Part 2\n",
    "\n",
    "Here, we bring it all together including part 1"
   ]
  },
  {
   "cell_type": "code",
   "execution_count": null,
   "metadata": {},
   "outputs": [],
   "source": [
    "# the text which we want to obtain data from\n",
    "text = \"\"\"\n",
    "*** Start ***\n",
    "2020.03.18 Andrew ate avocado\n",
    "2020.03.19 Catarina eats coconut\n",
    "2020.03.19 Prime Minister eating pineapple mousse\n",
    "*** End ***\n",
    "\"\"\"\n",
    "# split into list of lines\n",
    "lines = text.split('\\n')\n",
    "\n",
    "# loop over lines and match dates and put in new list\n",
    "for line in lines:\n",
    "    print(line)\n",
    "    match = re.search(r\"^[0-9]{4}\\.[0-9]{2}\\.[0-9]{2}\", line)\n",
    "    if match:\n",
    "        print(\"\\tDate: \",match.group())\n",
    "        eatline = line[11:] # substrings for lines that match\n",
    "        splitline = re.split(r\"\\s[a-z]+\\s\",eatline)\n",
    "        print(\"\\tName: \",splitline[0]) # First element of splitline is name\n",
    "        print(\"\\tFood: \",splitline[1]) # Second element of splitline is food\n",
    "        print() # Empty line to make easy to read\n",
    "    else:\n",
    "        print(\"--- not a match ---\")\n",
    "        print()"
   ]
  },
  {
   "cell_type": "markdown",
   "metadata": {},
   "source": [
    "### Making the data useful for further analysis\n",
    "\n",
    "While the previous example showed that we could extract the data, it didn't provide it in an easy to use format. \n",
    "\n",
    "If we want to make further analysis easy, we need to take our data and put it into an appropriate **Data Structure**.\n",
    "\n",
    "The two most common data structures we will use are **DataFrames** and **JSON**."
   ]
  },
  {
   "cell_type": "markdown",
   "metadata": {},
   "source": [
    "### Extracting to JSON\n",
    "\n",
    "If we look carefully at the code above, we see that we already have name value pairs, like what we would expect to see in a JSON object.\n",
    "\n",
    "```javascript\n",
    "{ \n",
    "    \"Date\": \"2020.02.02\",\n",
    "    \"Name\": \"My Name\",\n",
    "    \"Food\": \"my food\"\n",
    "}\n",
    "```\n",
    "\n",
    "The Python equivalent is called a dictionary. We can create a dictionary and add name value pairs like this..."
   ]
  },
  {
   "cell_type": "code",
   "execution_count": null,
   "metadata": {},
   "outputs": [],
   "source": [
    "# create an empty dictionary\n",
    "my_dict = {}\n",
    "\n",
    "# add name-value pairs\n",
    "my_dict[\"Date\"] = \"2020.02.02\"\n",
    "my_dict[\"Name\"] = \"My Name\"\n",
    "my_dict[\"Food\"] = \"my food\"\n",
    "\n",
    "# view the dictionary\n",
    "my_dict"
   ]
  },
  {
   "cell_type": "markdown",
   "metadata": {},
   "source": [
    "This is a Python dictionary, but we can turn this into a JSON string by using the json library..."
   ]
  },
  {
   "cell_type": "code",
   "execution_count": null,
   "metadata": {},
   "outputs": [],
   "source": [
    "json.dumps(my_dict)"
   ]
  },
  {
   "cell_type": "markdown",
   "metadata": {},
   "source": [
    "Now we can use this json approach to modify our code from part 2..."
   ]
  },
  {
   "cell_type": "code",
   "execution_count": null,
   "metadata": {},
   "outputs": [],
   "source": [
    "# create a list to put our dictionaries in\n",
    "new_list = []\n",
    "\n",
    "# loop over lines and match dates and put in new list\n",
    "for line in lines:\n",
    "    match = re.search(r\"^[0-9]{4}\\.[0-9]{2}\\.[0-9]{2}\", line)\n",
    "    if match:\n",
    "        # create a new dictionary to put this match in\n",
    "        new_dict = {}\n",
    "        # now add the name value pairs\n",
    "        new_dict[\"Date\"] = match.group()\n",
    "        eatline = line[11:] # substrings for lines that match\n",
    "        splitline = re.split(r\"\\s[a-z]+\\s\",eatline)\n",
    "        new_dict[\"Name\"] = splitline[0] # First element of splitline is name\n",
    "        new_dict[\"Food\"] = splitline[1] # Second element of splitline is food\n",
    "        new_list.append(new_dict) # Add the dict to the list\n",
    "    \n",
    "new_list"
   ]
  },
  {
   "cell_type": "code",
   "execution_count": null,
   "metadata": {},
   "outputs": [],
   "source": [
    "# JSON string version\n",
    "json.dumps(new_list)"
   ]
  },
  {
   "cell_type": "markdown",
   "metadata": {},
   "source": [
    "### Extracting to a DataFrame\n",
    "\n",
    "In order to use pandas dataframes, we need to import the pandas library. It is common in Python to abreviate pandas as **pd**."
   ]
  },
  {
   "cell_type": "code",
   "execution_count": null,
   "metadata": {},
   "outputs": [],
   "source": [
    "import pandas as pd"
   ]
  },
  {
   "cell_type": "markdown",
   "metadata": {},
   "source": [
    "Before extracting our data into a dataframe, we need to understand what is required to (a) create a new dataframe (b) append data to that dataframe."
   ]
  },
  {
   "cell_type": "code",
   "execution_count": null,
   "metadata": {},
   "outputs": [],
   "source": [
    "df = pd.DataFrame(columns=['Date','Name','Food'])"
   ]
  },
  {
   "cell_type": "code",
   "execution_count": null,
   "metadata": {},
   "outputs": [],
   "source": [
    "df"
   ]
  },
  {
   "cell_type": "markdown",
   "metadata": {},
   "source": [
    "pandas expects a dictionary when adding to the dataframe, as it needs to know which values should be put with which columns. Also, if we don't have explicit index values, we need to tell pandas to ignore the index."
   ]
  },
  {
   "cell_type": "code",
   "execution_count": null,
   "metadata": {},
   "outputs": [],
   "source": [
    "dict_to_add = {'Date':'2020.03.15','Name':'Test Name','Food':'test food'}\n",
    "df = df.append(dict_to_add,ignore_index=True)"
   ]
  },
  {
   "cell_type": "code",
   "execution_count": null,
   "metadata": {},
   "outputs": [],
   "source": [
    "df"
   ]
  },
  {
   "cell_type": "markdown",
   "metadata": {},
   "source": [
    "Notice that because we are adding a dictionary to the dataframe, this is very similar to our JSON code where we were adding a dictionary to a list.\n",
    "\n",
    "We can therefore modify the code above to add to a dataframe..."
   ]
  },
  {
   "cell_type": "code",
   "execution_count": null,
   "metadata": {},
   "outputs": [],
   "source": [
    "# create an empty dataframe\n",
    "df = pd.DataFrame(columns=['Date','Name','Food'])\n",
    "\n",
    "# loop over lines and match dates and put in new list\n",
    "for line in lines:\n",
    "    match = re.search(r\"^[0-9]{4}\\.[0-9]{2}\\.[0-9]{2}\", line)\n",
    "    if match:\n",
    "        # create a new dictionary to put this match in\n",
    "        new_dict = {}\n",
    "        # now add the name value pairs\n",
    "        new_dict[\"Date\"] = match.group()\n",
    "        eatline = line[11:] # substrings for lines that match\n",
    "        splitline = re.split(r\"\\s[a-z]+\\s\",eatline)\n",
    "        new_dict[\"Name\"] = splitline[0] # First element of splitline is name\n",
    "        new_dict[\"Food\"] = splitline[1] # Second element of splitline is food\n",
    "        df = df.append(new_dict,ignore_index=True) # Add the dict to the df\n",
    "    \n",
    "df"
   ]
  },
  {
   "cell_type": "markdown",
   "metadata": {},
   "source": [
    "That comples how to extract data from text using regex and put that data into JSON and DataFrame data structures."
   ]
  },
  {
   "cell_type": "markdown",
   "metadata": {},
   "source": []
  }
 ],
 "metadata": {
  "kernelspec": {
   "display_name": "Python 3",
   "language": "python",
   "name": "python3"
  },
  "language_info": {
   "codemirror_mode": {
    "name": "ipython",
    "version": 3
   },
   "file_extension": ".py",
   "mimetype": "text/x-python",
   "name": "python",
   "nbconvert_exporter": "python",
   "pygments_lexer": "ipython3",
   "version": "3.6.9"
  }
 },
 "nbformat": 4,
 "nbformat_minor": 4
}
