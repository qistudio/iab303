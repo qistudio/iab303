{
 "cells": [
  {
   "cell_type": "markdown",
   "id": "01facc5f-0018-4afe-ba62-8983748dbea5",
   "metadata": {},
   "source": [
    "# IAB303 - Data Analytics for Business Insight\n",
    "\n",
    "Welcome to IAB303, Data Analytics for Business Insight. \n",
    "\n",
    "This unit involves learning Data Analytics within the Jupyter Environment. New Jupyter notebooks will be uploaded to GitHub on a regular basis, and you can copy these resources into your own Jupyter environment with the following link:\n",
    "\n",
    "[Pull files from GitHub](https://jupyter.qutanalytics.io/hub/user-redirect/git-pull?repo=https%3A%2F%2Fgithub.com%2Fqistudio%2Fiab303&urlpath=lab%2Ftree%2Fiab303%2F&branch=22s2)\n",
    "\n",
    "If you experience problems syncing, simply rename your current unit folder to something like iab303_old, and then click the link above to resync all of the unit files back to your home directory. You can then copy anything that you were working on out of the IAB303_old directory into the fresh copy from GitHub."
   ]
  },
  {
   "cell_type": "markdown",
   "id": "144e2ac5-20b7-4e38-817d-3907c2a6bf4a",
   "metadata": {},
   "source": [
    "## Acknowledgement and Welcome to Country\n",
    "\n",
    ">The Queensland University of Technology (QUT) acknowledges the Turrbal and Yugara, as the First Nations owners of the lands where QUT now stands. We pay respects to their Elders, lores, customs and creation spirits. We recognise that these lands have always been places of teaching, research and learning. QUT acknowledges the important role Aboriginal and Torres Strait Islander people play within the QUT community.\n",
    "\n",
    "*This Jupyter environment that we are using for learning in IAB303 is part of QUT eResearch Infrastructure hosted by AWS in Sydney, and we acknowledge The Gadigal of the Eora Nation as First Nations owners of this land.*"
   ]
  },
  {
   "cell_type": "code",
   "execution_count": 3,
   "id": "54bf6545-aa45-4657-85f0-5513a6331849",
   "metadata": {
    "jupyter": {
     "source_hidden": true
    },
    "tags": []
   },
   "outputs": [
    {
     "data": {
      "text/html": [
       "\n",
       "        <iframe\n",
       "            width=\"560\"\n",
       "            height=\"315\"\n",
       "            src=\"https://www.youtube.com/embed/celIi1oV1Ec\"\n",
       "            frameborder=\"0\"\n",
       "            allowfullscreen\n",
       "            \n",
       "        ></iframe>\n",
       "        "
      ],
      "text/plain": [
       "<IPython.lib.display.IFrame at 0x7f05b2946d00>"
      ]
     },
     "execution_count": 3,
     "metadata": {},
     "output_type": "execute_result"
    }
   ],
   "source": [
    "from IPython.display import IFrame\n",
    "IFrame(\"https://www.youtube.com/embed/celIi1oV1Ec\",560,315)"
   ]
  },
  {
   "cell_type": "markdown",
   "id": "8a5da784-e219-45cb-b2cf-9dbcc61db089",
   "metadata": {},
   "source": [
    "## Respectful and Inclusive Learning\n",
    "\n",
    "* At QUT, we strive to create an environment of respect – where everyone is welcome, comfortable participating, and free from harassment\n",
    "* I would like to remind you that this unit is governed by our [code of conduct](https://www.mopp.qut.edu.au/E/E_02_01.jsp), and I thank you for doing your part towards building an inclusive community.\n",
    "* If you feel uncomfortable, or if there are any other issues that need addressing, please contact [Andrew Gibson](mailto://andrew.gibson@qut.edu.au), or any other member of the teaching team – we are happy to assist.\n",
    "* [Respect and Safety at QUT](https://qutvirtual4.qut.edu.au/group/student/health-and-wellbeing/rights-conduct-and-complaints/respect-and-safety-at-qut)\n",
    "* If you've experienced or witnessed unacceptable or problematic behaviour, get help and support from an [Harassment and Discrimination Advisor](https://qutvirtual4.qut.edu.au/group/student/health-and-wellbeing/rights-conduct-and-complaints/discrimination-harassment-problematic-behaviour/discrimination-advisers)"
   ]
  }
 ],
 "metadata": {
  "kernelspec": {
   "display_name": "Python 3 (ipykernel)",
   "language": "python",
   "name": "python3"
  },
  "language_info": {
   "codemirror_mode": {
    "name": "ipython",
    "version": 3
   },
   "file_extension": ".py",
   "mimetype": "text/x-python",
   "name": "python",
   "nbconvert_exporter": "python",
   "pygments_lexer": "ipython3",
   "version": "3.9.13"
  }
 },
 "nbformat": 4,
 "nbformat_minor": 5
}
