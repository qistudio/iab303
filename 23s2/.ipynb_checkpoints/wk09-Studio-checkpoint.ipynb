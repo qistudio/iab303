{
 "cells": [
  {
   "cell_type": "markdown",
   "metadata": {},
   "source": [
    "<div class=\"alert alert-block alert-info\"><b>IAB303</b> - Data Analytics for Business Insight</div>"
   ]
  },
  {
   "cell_type": "markdown",
   "metadata": {},
   "source": [
    "# Studio :: Internal data (Strengths and weaknesses)\n",
    "\n",
    "In this session we focus on the internal concerns of businesses, look at how structured data is important for addressing these concerns, and also take a look at how open data can be valuable for addressing internal concerns.\n",
    "\n",
    "---"
   ]
  },
  {
   "cell_type": "markdown",
   "metadata": {},
   "source": [
    "### QDAVI\n",
    "\n",
    "When addressing business concerns, our interest is much more than just the data analytics. We are interested in what is *appropriate, efficous, ethical ...* --  what is the ***right*** kind of analytics to help provide the ***right*** kind of insights for business. To provide some structure to our approach, we follow a cycle - **QDAVI** - to address a business concern:\n",
    "\n",
    "1. **Q**uestion\n",
    "2. **D**ata\n",
    "3. **A**nalysis\n",
    "4. **V**isualisation\n",
    "5. **I**nsight\n",
    "\n",
    "<img src=\"graphics/QDAVI_cycle_sm.png\" width=\"50%\" />"
   ]
  },
  {
   "cell_type": "markdown",
   "metadata": {},
   "source": [
    "### Internal business concerns\n",
    "\n",
    "Review business concerns\n",
    "\n",
    "What are internal business concerns?"
   ]
  },
  {
   "cell_type": "markdown",
   "metadata": {},
   "source": [
    "### Structured data\n",
    "\n",
    "With structured data, the structure is defined in advance and the data that populates the structure is consistent.\n",
    "\n",
    "Typically, structured data is in a tabular format with rows and columns:\n",
    "\n",
    "* Columns normally represent fields or properties that are consistent across the whole of the data e.g. postcode or phone number\n",
    "* Each row is a separate record in the data e.g. each customer has their own row in a customers table \n",
    "\n",
    "Often structured data is saved in `CSV` file format on the file system and we read it into a `pandas` `dataframe`. Review the video and notebook for **Structured Data** for an introduction on how to load and save.\n"
   ]
  },
  {
   "cell_type": "markdown",
   "metadata": {},
   "source": [
    "---\n",
    "### Example - Market size\n",
    "\n",
    "\n",
    "\n",
    "**BUSINESS CONCERN:**\n",
    "\n",
    "Expanding a business is risky and expensive, particular if the expansion involves exporting to other countries. It is essential to have a good understanding of potential markets and the degree of competition in those markets.\n",
    "\n",
    "https://export.business.gov.au/find-export-markets/tips-for-choosing-export-markets\n",
    "\n",
    "For the purposes of this exercise, our business fits into a trade category of\n",
    "`Made-up textile articles`"
   ]
  },
  {
   "cell_type": "markdown",
   "metadata": {},
   "source": [
    "#### Question:\n",
    "\n",
    " If we want to start exporting, what is the market size for our Australian competitors, and which are the biggest destinations?\n",
    "\n",
    "#### Data:"
   ]
  },
  {
   "cell_type": "code",
   "execution_count": null,
   "metadata": {},
   "outputs": [],
   "source": [
    "import pandas as pd"
   ]
  },
  {
   "cell_type": "code",
   "execution_count": null,
   "metadata": {
    "scrolled": true
   },
   "outputs": [],
   "source": [
    "# Sample data from https://data.gov.au/data/dataset/australia-s-merchandise-trade-by-state-territory-by-country-sitc-to-fy2017\n",
    "\n",
    "# We can then open a CSV file into a new dataframe\n",
    "trade_df = pd.read_csv('data/trade_data.csv')\n",
    "\n",
    "# view the dataframe\n",
    "trade_df"
   ]
  },
  {
   "cell_type": "markdown",
   "metadata": {},
   "source": [
    "#### Analysis:"
   ]
  },
  {
   "cell_type": "code",
   "execution_count": null,
   "metadata": {},
   "outputs": [],
   "source": [
    "# What is the export value in various geographic levels?\n",
    "l1_df = trade_df.groupby(['Trade type','Geographic level 1']).sum()\n",
    "l1_df"
   ]
  },
  {
   "cell_type": "code",
   "execution_count": null,
   "metadata": {},
   "outputs": [],
   "source": [
    "# Lets make this easier to read\n",
    "l1_df.round(0)"
   ]
  },
  {
   "cell_type": "markdown",
   "metadata": {},
   "source": [
    "#### Visualisation:\n",
    "\n",
    "Sometimes our data is difficult to explore without visualising. In these instances, it is good to use the visualisation as part of the exploration process. This is the equivalent of doing multiple cycles of QDAVI (with sub questions) within the overall question."
   ]
  },
  {
   "cell_type": "code",
   "execution_count": null,
   "metadata": {},
   "outputs": [],
   "source": [
    "# Reverse the groupby to make it easier to see imports and exports for each country\n",
    "l1_df = trade_df.groupby(['Geographic level 1','Trade type']).sum()\n",
    "l1_df.round(0)"
   ]
  },
  {
   "cell_type": "code",
   "execution_count": null,
   "metadata": {},
   "outputs": [],
   "source": [
    "# Visualise this - unstack allows levels of grouping to feed into the plot function\n",
    "l1_df.unstack().plot(kind='bar')"
   ]
  },
  {
   "cell_type": "markdown",
   "metadata": {},
   "source": [
    "Doing the visualisation as part of the exploration helps us see an **insight** that imports from Asia are so big (> \\$11B) that its difficult to see what is going on with exports.\n",
    "So lets just zoom in on the exports."
   ]
  },
  {
   "cell_type": "code",
   "execution_count": null,
   "metadata": {},
   "outputs": [],
   "source": [
    "# Just exports\n",
    "exports_df = trade_df[trade_df['Trade type']=='Total Exports']\n",
    "l1_exports_df = exports_df.groupby(['Geographic level 1']).sum().round(0)\n",
    "l1_exports_df"
   ]
  },
  {
   "cell_type": "code",
   "execution_count": null,
   "metadata": {},
   "outputs": [],
   "source": [
    "l1_exports_df.plot(kind='bar')"
   ]
  },
  {
   "cell_type": "markdown",
   "metadata": {},
   "source": [
    "That's better, and it gives us an overview, so perhaps we can look at by `State` as well."
   ]
  },
  {
   "cell_type": "code",
   "execution_count": null,
   "metadata": {},
   "outputs": [],
   "source": [
    "l1_exports_df = exports_df.groupby(['State','Geographic level 1']).sum().round(0)\n",
    "l1_exports_df.unstack(0).plot(kind='bar')"
   ]
  },
  {
   "cell_type": "markdown",
   "metadata": {},
   "source": [
    "Given that `Oceania & Antarctica` dominate and that Antarctica is *not* likely to be significant, what is the dominant Oceania region. We can try looking at different levels."
   ]
  },
  {
   "cell_type": "code",
   "execution_count": null,
   "metadata": {},
   "outputs": [],
   "source": [
    "# Let's define a function to make it easy\n",
    "\n",
    "def getDataForLevel(level):\n",
    "    return exports_df.groupby(['State','Geographic level '+str(level)]).sum().round(0)"
   ]
  },
  {
   "cell_type": "code",
   "execution_count": null,
   "metadata": {},
   "outputs": [],
   "source": [
    "getDataForLevel(2).unstack(0).plot(kind='bar')"
   ]
  },
  {
   "cell_type": "code",
   "execution_count": null,
   "metadata": {},
   "outputs": [],
   "source": [
    "getDataForLevel(3).unstack(0).plot(kind='bar')"
   ]
  },
  {
   "cell_type": "markdown",
   "metadata": {},
   "source": [
    "I suspect this is *New Zealand*. Let's confirm by taking a look at all countries with exports of over \\$10M."
   ]
  },
  {
   "cell_type": "code",
   "execution_count": null,
   "metadata": {},
   "outputs": [],
   "source": [
    "# What about specific countries greater than 10M\n",
    "country_df = exports_df.groupby(['Partner country']).sum().round(0)\n",
    "top_country_df = country_df[country_df[\"A$'000\"] > 10000]\n",
    "top_country_df"
   ]
  },
  {
   "cell_type": "code",
   "execution_count": null,
   "metadata": {},
   "outputs": [],
   "source": [
    "top_country_df.plot(kind='bar')"
   ]
  },
  {
   "cell_type": "markdown",
   "metadata": {},
   "source": [
    "#### Insights:\n",
    "\n",
    "* ???"
   ]
  }
 ],
 "metadata": {
  "kernelspec": {
   "display_name": "Python 3",
   "language": "python",
   "name": "python3"
  },
  "language_info": {
   "codemirror_mode": {
    "name": "ipython",
    "version": 3
   },
   "file_extension": ".py",
   "mimetype": "text/x-python",
   "name": "python",
   "nbconvert_exporter": "python",
   "pygments_lexer": "ipython3",
   "version": "3.6.9"
  }
 },
 "nbformat": 4,
 "nbformat_minor": 4
}
