{
 "cells": [
  {
   "cell_type": "markdown",
   "metadata": {
    "slideshow": {
     "slide_type": "skip"
    }
   },
   "source": [
    "<div class=\"alert alert-block alert-info\"><b>IAB303</b> - Data Analytics for Business Insight</div>"
   ]
  },
  {
   "cell_type": "markdown",
   "metadata": {
    "slideshow": {
     "slide_type": "slide"
    }
   },
   "source": [
    "## Tutorial :: Last week Homework\n",
    "\n",
    "After your analysis of the incidents ocurring in the business, your manager got an approval to create a training plan for the plant in Florida.\n",
    "\n",
    "Your next task is finding the most expensive incidents in this plant to create the content for the training plan. After this, your manager wants the group of people who need to receive the training."
   ]
  },
  {
   "cell_type": "markdown",
   "metadata": {},
   "source": [
    "### Your insights\n",
    "\n",
    "???\n",
    "\n",
    "---"
   ]
  },
  {
   "cell_type": "markdown",
   "metadata": {},
   "source": [
    "## Tutorial :: Understanding reviews\n",
    "\n",
    "**CONCERN**\n",
    "\n",
    "Amazon is trying to find which movies have had the best reviews according to critics as well as which regions the movies have had a better review. To do make this possible, amazon has been gathering unstructured data (text) from a reviews website. Your task as an amazon data analyst is converting the data into insights.\n",
    "\n",
    "1. **Q**uestion\n",
    "2. **D**ata\n",
    "3. **A**nalysis\n",
    "4. **V**isualisation\n",
    "5. **I**nsight\n",
    "\n",
    "<img src=\"../graphics/QDAVI_cycle_sm.png\" width=\"50%\" />"
   ]
  },
  {
   "cell_type": "markdown",
   "metadata": {
    "slideshow": {
     "slide_type": "subslide"
    }
   },
   "source": [
    "### 1. Question\n",
    "\n",
    "Which movies have had the best reviews and in which regions?"
   ]
  },
  {
   "cell_type": "markdown",
   "metadata": {},
   "source": [
    "### 2. Data\n",
    "\n",
    "We are going to use the file called `amazon-movies-reviews.txt`. The file is located in the data folder, week-4"
   ]
  },
  {
   "cell_type": "code",
   "execution_count": null,
   "metadata": {
    "slideshow": {
     "slide_type": "fragment"
    }
   },
   "outputs": [],
   "source": [
    "# Libraries for the analysis\n",
    "import pandas as pd\n",
    "import re"
   ]
  },
  {
   "cell_type": "code",
   "execution_count": null,
   "metadata": {
    "slideshow": {
     "slide_type": "fragment"
    }
   },
   "outputs": [],
   "source": [
    "# Read the file\n",
    "with open(???, 'r') as file:\n",
    "    text = file.read()"
   ]
  },
  {
   "cell_type": "markdown",
   "metadata": {},
   "source": [
    "#### Clean/preprocess data"
   ]
  },
  {
   "cell_type": "code",
   "execution_count": null,
   "metadata": {
    "slideshow": {
     "slide_type": "subslide"
    }
   },
   "outputs": [],
   "source": [
    "# Create a variable with paragraphs of text\n",
    "text_paragraphs = text.split(???)\n",
    "text_paragraphs"
   ]
  },
  {
   "cell_type": "code",
   "execution_count": null,
   "metadata": {},
   "outputs": [],
   "source": [
    "# Split the lines inside each paragraph\n",
    "text_lines = []\n",
    "\n",
    "for line in text_paragraphs:\n",
    "    text_lines.append(???)\n",
    "\n",
    "text_lines"
   ]
  },
  {
   "cell_type": "markdown",
   "metadata": {
    "slideshow": {
     "slide_type": "subslide"
    }
   },
   "source": [
    "Which data from the text is valuable to find an answer to the question?\n",
    "\n",
    "| ProductId | Score | Region | Summary |\n",
    "| --- | --- | --- | --- |\n",
    "| 1 | 4 | Region 1 | summary 1 |\n",
    "| 2 | 2 | Region 2 | summary 2 |\n",
    "| 3 | 2 | Region 3 | summary 3 |"
   ]
  },
  {
   "cell_type": "code",
   "execution_count": null,
   "metadata": {
    "slideshow": {
     "slide_type": "fragment"
    }
   },
   "outputs": [],
   "source": [
    "# Create a new dataframe that will store the extracted data\n",
    "reviews_df = pd.DataFrame(columns=([\"ProductId\", \"Score\", \"Region\", \"Summary\"]))\n",
    "reviews_df"
   ]
  },
  {
   "cell_type": "markdown",
   "metadata": {},
   "source": [
    "**Tip:** The text to find the ProductId and Score has some variations between lines. Read carefully to find the variations"
   ]
  },
  {
   "cell_type": "code",
   "execution_count": null,
   "metadata": {
    "slideshow": {
     "slide_type": "subslide"
    }
   },
   "outputs": [],
   "source": [
    "# Find that patterns to extract the productId, score and summary\n",
    "for paragraph in text_lines:\n",
    "    review = {}\n",
    "    for line in paragraph:\n",
    "        match_id = re.match(???, line)\n",
    "        if (match_id):\n",
    "            id = re.split(r\":\\s\", line)\n",
    "            review[\"ProductId\"] = id[1]\n",
    "        match_score = re.match(???, line)\n",
    "        if (match_score):\n",
    "            score = re.split(r\":\\s\", line)\n",
    "            review[\"Score\"] = score[1]\n",
    "        match_region = re.match(???, line)\n",
    "        if (match_region):\n",
    "            region = re.split(r\":\\s\", line)\n",
    "            review[\"Region\"] = region[1]\n",
    "        match_summary = re.match(???, line)\n",
    "        if (match_summary):\n",
    "            summary = re.split(r\":\\s\", line)\n",
    "            review[\"Summary\"] = summary[1]\n",
    "    reviews_df = reviews_df.append(review, ignore_index=True)\n",
    "\n",
    "reviews_df"
   ]
  },
  {
   "cell_type": "code",
   "execution_count": null,
   "metadata": {},
   "outputs": [],
   "source": [
    "# Check the data types\n",
    "reviews_df.dtypes"
   ]
  },
  {
   "cell_type": "code",
   "execution_count": null,
   "metadata": {},
   "outputs": [],
   "source": [
    "# Convert to float the score\n",
    "reviews_df[\"Score\"] = reviews_df[\"Score\"].astype(\"float\")"
   ]
  },
  {
   "cell_type": "code",
   "execution_count": null,
   "metadata": {},
   "outputs": [],
   "source": [
    "# Check the conversion worked\n",
    "reviews_df.dtypes"
   ]
  },
  {
   "cell_type": "markdown",
   "metadata": {
    "slideshow": {
     "slide_type": "subslide"
    }
   },
   "source": [
    "### 3. Analysis"
   ]
  },
  {
   "cell_type": "code",
   "execution_count": null,
   "metadata": {
    "slideshow": {
     "slide_type": "fragment"
    }
   },
   "outputs": [],
   "source": [
    "# Group by movies to see the score average\n",
    "movies_df = reviews_df[???].groupby(???).mean()\n",
    "movies_df"
   ]
  },
  {
   "cell_type": "code",
   "execution_count": null,
   "metadata": {},
   "outputs": [],
   "source": [
    "# Group by region to see the scores\n",
    "regions_df = reviews_df[???].groupby(???).mean()\n",
    "regions_df"
   ]
  },
  {
   "cell_type": "code",
   "execution_count": null,
   "metadata": {},
   "outputs": [],
   "source": [
    "# Group by movie and regions to see the scores\n",
    "movie_region_df = reviews_df[???].groupby(???).mean()\n",
    "movie_region_df"
   ]
  },
  {
   "cell_type": "markdown",
   "metadata": {},
   "source": [
    "### 4. Visualisation"
   ]
  },
  {
   "cell_type": "code",
   "execution_count": null,
   "metadata": {},
   "outputs": [],
   "source": [
    "# Visualise the movies data\n",
    "movies_df.sort_values(by=\"Score\", ascending=False).plot(kind=\"bar\", title=\"Movies scores\")"
   ]
  },
  {
   "cell_type": "code",
   "execution_count": null,
   "metadata": {},
   "outputs": [],
   "source": [
    "# Visualise the regions data\n",
    "regions_df.sort_values(by=\"Score\", ascending=False).plot(kind=\"bar\", title=\"Regions scores\")"
   ]
  },
  {
   "cell_type": "code",
   "execution_count": null,
   "metadata": {},
   "outputs": [],
   "source": [
    "# Visualise the movies-regions data\n",
    "movie_region_df.sort_values(by=\"Score\", ascending=False).plot(kind=\"bar\", title=\"Regions scores\")"
   ]
  },
  {
   "cell_type": "code",
   "execution_count": null,
   "metadata": {},
   "outputs": [],
   "source": [
    "# Unstack the movies-regions data to have a better visualisation\n",
    "movie_region_df.sort_values(by=\"Score\", ascending=False).unstack().plot(kind=\"bar\", title=\"Regions scores\", figsize=(15,5))"
   ]
  },
  {
   "cell_type": "markdown",
   "metadata": {},
   "source": [
    "### 5. Insights\n",
    "\n",
    "1. What is the concern?\n",
    "2. What data did we use?\n",
    "3. How did we analyse it, what decisions and why?\n",
    "4. What do the visualisations tell us?\n",
    "5. What is the recommendation for the concern? What other information would be helpful? What *doesn't* the data tell us? Can we make inferences?"
   ]
  },
  {
   "cell_type": "code",
   "execution_count": null,
   "metadata": {},
   "outputs": [],
   "source": []
  }
 ],
 "metadata": {
  "celltoolbar": "Slideshow",
  "kernelspec": {
   "display_name": "Python 3",
   "language": "python",
   "name": "python3"
  },
  "language_info": {
   "codemirror_mode": {
    "name": "ipython",
    "version": 3
   },
   "file_extension": ".py",
   "mimetype": "text/x-python",
   "name": "python",
   "nbconvert_exporter": "python",
   "pygments_lexer": "ipython3",
   "version": "3.9.9"
  }
 },
 "nbformat": 4,
 "nbformat_minor": 2
}
