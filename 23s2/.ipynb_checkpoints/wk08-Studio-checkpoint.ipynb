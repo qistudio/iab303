{
 "cells": [
  {
   "cell_type": "markdown",
   "metadata": {},
   "source": [
    "<div class=\"alert alert-block alert-info\"><b>IAB303</b> - Data Analytics for Business Insight</div>"
   ]
  },
  {
   "cell_type": "markdown",
   "metadata": {},
   "source": [
    "# Studio :: External data (Threats and opportunities)\n",
    "\n",
    "Two possible sources of external data. Web pages and APIs\n",
    "\n",
    "For web pages, the process is web scrapping. The tasks to be completed are:\n",
    "1. Understanding How Information Is Given In Web Pages\n",
    "2. Finding How Specific Information In Web Pages Is Encoded\n",
    "3. Using Python To Automate Information Retrieval From Web Pages\n",
    "4. A Business Intelligence Scenario\n",
    "\n",
    "For APIs. The tasks to be completed are:\n",
    "1. Get the API key/s\n",
    "2. Understand the structure of the API including end-points and query strings\n",
    "3. Using Python to call the API"
   ]
  },
  {
   "cell_type": "markdown",
   "metadata": {},
   "source": [
    "## Web scrapping\n",
    "\n",
    "### 1. Understanding How Information Is Given In Web Pages\n",
    "\n",
    "One of the most common ways of serving information online is through web pages. Web pages are usually given in HTML, a programming language that represents documents as well-structured elements, with sub-elements branching out from containing elements.\n",
    "\n",
    "As they 'branch' out further and further, they form what is typically called a DOM (Document Object Model) 'tree'.\n",
    "\n",
    "A DOM tree has a 'head' element, and a 'body' element, with most of the relevant viewing content being stored in the 'body' e.g."
   ]
  },
  {
   "cell_type": "raw",
   "metadata": {},
   "source": [
    "<html>\n",
    "    <head>\n",
    "    </head>\n",
    "    <body>\n",
    "        <div>\n",
    "            <div class=\"sub-element\"></div>\n",
    "        </div>\n",
    "    </body>\n",
    "</html>"
   ]
  },
  {
   "cell_type": "markdown",
   "metadata": {},
   "source": [
    "To begin, open a web browser. Depending on the browser you are using, follow instructions in the following link to open its developer tools:\n",
    "\n",
    "https://www.lifewire.com/web-browser-developer-tools-3988965"
   ]
  },
  {
   "cell_type": "markdown",
   "metadata": {},
   "source": [
    "From there, a tabbed sub-window will appear that displays information about the current web page you have opened. It can tell you a lot about the page, although all we are concerned with is the 'Elements' section, which shows the actual HTML DOM tree of the page itself."
   ]
  },
  {
   "cell_type": "markdown",
   "metadata": {},
   "source": [
    "### 2. Finding How Specific Information In Web Pages Is Encoded\n",
    "\n",
    "Now that we can load up a web page's HTML just from opening it in a browser, let's try something a bit more specific. \n",
    "\n",
    "The following web page is the 'Wikipedia' article for Australia:\n",
    "\n",
    "https://en.wikipedia.org/wiki/Australia\n",
    "\n",
    "Open a new tab and go to this page. On the page, you'll see in the right sidebar that the capital of Australia is 'Canberra'.\n",
    "\n",
    "Simply right-click the text, and hit the 'Inspect'/'Inspect Element' option. This will load up the 'Developer Tools', which will not only open up the 'Elements' tab of the page, but will jump to the location of the element in which the information is stored."
   ]
  },
  {
   "cell_type": "markdown",
   "metadata": {},
   "source": [
    "### 3. Using Python To Automate Information Retrieval From Web Pages\n",
    "\n",
    "So far, we have been given a clear understanding about how a page renders content in HTML, as well as how to trace information from a web page back to the element it is contained in within the DOM tree.\n",
    "\n",
    "In this task, we introduce 'BeautifulSoup', a powerful library for Python that enables us to automate information retrieval from a web page:"
   ]
  },
  {
   "cell_type": "code",
   "execution_count": 1,
   "metadata": {},
   "outputs": [],
   "source": [
    "from bs4 import BeautifulSoup"
   ]
  },
  {
   "cell_type": "markdown",
   "metadata": {},
   "source": [
    "BeautifulSoup can interpret the DOM tree from a HTML document, so that we can easily pull out elements from the page with simple expressions. Take for instance the following HTML that we load into a variable:"
   ]
  },
  {
   "cell_type": "code",
   "execution_count": 2,
   "metadata": {},
   "outputs": [],
   "source": [
    "some_HTML_page = \\\n",
    "    '<html>'\\\n",
    "    '   <head>'\\\n",
    "    '   </head>'\\\n",
    "    '   <body>'\\\n",
    "    '      <div>Not Here</div>'\\\n",
    "    '      <div class=\"target\">The Text We Are After</div>'\\\n",
    "    '   </body>'\\\n",
    "    '</html>'"
   ]
  },
  {
   "cell_type": "markdown",
   "metadata": {},
   "source": [
    "Using BeautifulSoup, we first interpret the page into a variable. From here, there are many possible ways of getting the target element (element with the 'class' of value 'target'). \n",
    "\n",
    "The most obvious way for this scenario involves finding the first element with the class of 'target':"
   ]
  },
  {
   "cell_type": "code",
   "execution_count": 3,
   "metadata": {},
   "outputs": [
    {
     "name": "stdout",
     "output_type": "stream",
     "text": [
      "<div class=\"target\">The Text We Are After</div>\n"
     ]
    }
   ],
   "source": [
    "soup = BeautifulSoup(some_HTML_page, \"html.parser\")\n",
    "\n",
    "for element in soup(attrs={'class' : 'target'}):\n",
    "    print(element)"
   ]
  },
  {
   "cell_type": "markdown",
   "metadata": {},
   "source": [
    "In more complex situations, we might not know the target element's class value, but may know details about its previous element (e.g. the text inside the previous element):"
   ]
  },
  {
   "cell_type": "code",
   "execution_count": 5,
   "metadata": {},
   "outputs": [
    {
     "name": "stdout",
     "output_type": "stream",
     "text": [
      "<div class=\"target\">The Text We Are After</div>\n"
     ]
    }
   ],
   "source": [
    "element = soup.find(text=\"Not Here\") # the text before\n",
    "print(element.findNext(\"div\"))  # the tag that you want to find"
   ]
  },
  {
   "cell_type": "markdown",
   "metadata": {},
   "source": [
    "If we wanted to run BeatifulSoup on an actual web page, we could simply call the 'requests' library to load down the raw text of that page. Here we specify a basic method for pulling down HTML from a real web page, by specifying its URL:"
   ]
  },
  {
   "cell_type": "code",
   "execution_count": 8,
   "metadata": {},
   "outputs": [],
   "source": [
    "import urllib.request\n",
    "\n",
    "def get_HTML(url):\n",
    "    response = urllib.request.urlopen(url)\n",
    "    html = response.read()\n",
    "    return html"
   ]
  },
  {
   "cell_type": "markdown",
   "metadata": {},
   "source": [
    "Recalling the Wikipedia page for Australia, we can then get its raw HTML using the following code:"
   ]
  },
  {
   "cell_type": "code",
   "execution_count": 9,
   "metadata": {},
   "outputs": [],
   "source": [
    "Australia_Wiki_HTML = get_HTML('https://en.wikipedia.org/wiki/Australia')"
   ]
  },
  {
   "cell_type": "markdown",
   "metadata": {},
   "source": [
    "The next question is: What are details about the element in which the name of Australia's capital city is stored?\n",
    "\n",
    "ANSWER: From perusing the elements in the 'Developer Tools' window, we can state the following facts about our target element:\n",
    "\n",
    "* It has an 'a' tag\n",
    "* It is inside an element with a 'td' tag\n",
    "* The element with the 'td' tag is preceded by an element with a 'th' tag\n",
    "* The element with the 'th' tag contains the text 'Capital'\n",
    "\n",
    "So the code that would get the exact element we are after is described in the method below:"
   ]
  },
  {
   "cell_type": "code",
   "execution_count": 10,
   "metadata": {},
   "outputs": [
    {
     "name": "stdout",
     "output_type": "stream",
     "text": [
      "<a href=\"/wiki/Canberra\" title=\"Canberra\">Canberra</a>\n"
     ]
    }
   ],
   "source": [
    "def get_the_capital(HTML):\n",
    "    soup = BeautifulSoup(HTML, \"html.parser\") # the html input and the parser name\n",
    "    th_element = soup.find(text=\"Capital\") # the text that we are looking for\n",
    "    target_element = th_element.findNext(\"a\") # the tag that we are looking for\n",
    "    print(target_element)\n",
    "\n",
    "get_the_capital(Australia_Wiki_HTML)"
   ]
  },
  {
   "cell_type": "markdown",
   "metadata": {},
   "source": [
    "Before reading any further, follow this link (https://www.crummy.com/software/BeautifulSoup/bs4/doc/) to learn more about the functions ('find', 'findNext') used in the code above.\n",
    "\n",
    "To demonstrate just how flexible our solution is, we can run the exact same method on a different country e.g. France:"
   ]
  },
  {
   "cell_type": "code",
   "execution_count": 11,
   "metadata": {},
   "outputs": [
    {
     "name": "stdout",
     "output_type": "stream",
     "text": [
      "<a href=\"/wiki/Paris\" title=\"Paris\">Paris</a>\n"
     ]
    }
   ],
   "source": [
    "France_Wiki_HTML = get_HTML('https://en.wikipedia.org/wiki/France')\n",
    "get_the_capital(France_Wiki_HTML)"
   ]
  },
  {
   "cell_type": "markdown",
   "metadata": {},
   "source": [
    "### 4. A Business Intelligence Scenario\n",
    "\n",
    "As a market analyst working for a tourism agency, your boss has approached you with a client in need of a recommendation regarding the top tourist destinations of 2018.\n",
    "\n",
    "While this may sound easy, in hopes that it will improve their tourism experience, the client has also requested that places that are more innovative be prioritised in the recommendation."
   ]
  },
  {
   "cell_type": "markdown",
   "metadata": {},
   "source": [
    "Fortunately for this task, the top tourist destinations of 2018 are stored on the following URL:"
   ]
  },
  {
   "cell_type": "code",
   "execution_count": 19,
   "metadata": {},
   "outputs": [],
   "source": [
    "top_tourism_destinations = 'https://en.wikipedia.org/wiki/World_Tourism_rankings'"
   ]
  },
  {
   "cell_type": "markdown",
   "metadata": {},
   "source": [
    "Using the Developer Tools, identify things that could be used to isolate the names of the countries in the table, in the section entitled \"Most visited destinations by international tourist arrivals\". \n",
    "\n",
    "For this task, the details have been given, however, the code that retrieves the values is only half completed:"
   ]
  },
  {
   "cell_type": "markdown",
   "metadata": {},
   "source": [
    "Details:\n",
    "     * A 'span' element contains a 'h2' element with the title of the target 'table' inside it.\n",
    "     * A 'table' element proceeds the 'span' element.\n",
    "     * There are 'td' elements inside the 'table' element.\n",
    "     * Each 'td' element has an attribute of 'align' with the value 'left'.\n",
    "     * In each 'td' element, there is an 'a' element with the name of a given country inside it."
   ]
  },
  {
   "cell_type": "code",
   "execution_count": 21,
   "metadata": {},
   "outputs": [
    {
     "data": {
      "text/plain": [
       "['France',\n",
       " 'Spain',\n",
       " 'United States',\n",
       " 'China',\n",
       " 'Italy',\n",
       " 'Mexico',\n",
       " 'United Kingdom',\n",
       " 'Turkey',\n",
       " 'Germany',\n",
       " 'Thailand']"
      ]
     },
     "execution_count": 21,
     "metadata": {},
     "output_type": "execute_result"
    }
   ],
   "source": [
    "top_tourist_locations = []\n",
    "\n",
    "Tourism_Wiki_HTML = get_HTML(???)\n",
    "soup = BeautifulSoup(???, \"html.parser\")\n",
    "span_element = soup.find(text=???)\n",
    "h2_element = span_element.parent\n",
    "table_element = h2_element.findNext(???) # a parent tag\n",
    "for td_element in table_element.findAll(???,attrs={'align':'left'}): # a tag with specific attributes\n",
    "    a_element = td_element.find(???) # the tag we are looking for\n",
    "    if a_element != None:\n",
    "        top_tourist_locations.append(a_element.text)\n",
    "\n",
    "# If you enter the missing code, this will return a list of names of the top tourist destinations for 2018.\n",
    "top_tourist_locations"
   ]
  },
  {
   "cell_type": "markdown",
   "metadata": {},
   "source": [
    "Knowing that the client is also looking for places that have higher innovation, what could we use from a single country's Wikipedia page to determine this quality?\n",
    "\n",
    "Going back to 'https://en.wikipedia.org/wiki/Australia', the HDI of the country will give a good indication of this; so how do we describe the HDI?\n",
    "\n",
    "Once again, here are some details to help:\n",
    "\n",
    "   * The text 'HDI' is in an 'a' element.\n",
    "   * The 'a' element is in a 'th' element.\n",
    "   * The 'th' is proceeded by a 'td' element.\n",
    "   * The 'td' element contains an 'img' element.\n",
    "   * Next to the 'img' element is the HDI value.\n",
    "\n",
    "The code that retrieves the HDI from a country's Wikipedia page is included in the following method, but it is incomplete:"
   ]
  },
  {
   "cell_type": "code",
   "execution_count": 22,
   "metadata": {},
   "outputs": [
    {
     "data": {
      "text/plain": [
       "'0.901'"
      ]
     },
     "execution_count": 22,
     "metadata": {},
     "output_type": "execute_result"
    }
   ],
   "source": [
    "def get_country_HDI(html):\n",
    "    soup = BeautifulSoup(html, ???)\n",
    "    a_element = soup.find('a',text=???)\n",
    "    th_element = a_element.parent\n",
    "    td_element = th_element.findNext(???)\n",
    "    HDI_value = td_element.find(???).findNextSibling(text=True)\n",
    "    return HDI_value.strip()\n",
    "\n",
    "# If you enter the missing code, this function will produce the value '0.897'\n",
    "get_country_HDI(France_Wiki_HTML)"
   ]
  },
  {
   "cell_type": "markdown",
   "metadata": {},
   "source": [
    "Now all we have to do to get the HDI of each country is to substitute each country's name into the Wikipedia country's URL, and to feed the returned HTML into the 'get_country_HDI' method:"
   ]
  },
  {
   "cell_type": "code",
   "execution_count": 23,
   "metadata": {},
   "outputs": [
    {
     "name": "stdout",
     "output_type": "stream",
     "text": [
      "Country: France\n",
      "Ranking: 1\n",
      "HDI: 0.901\n",
      "\n",
      "\n",
      "Country: Spain\n",
      "Ranking: 2\n",
      "HDI: 0.891\n",
      "\n",
      "\n",
      "Country: United States\n",
      "Ranking: 3\n",
      "HDI: 0.924\n",
      "\n",
      "\n",
      "Country: China\n",
      "Ranking: 4\n",
      "HDI: 0.752\n",
      "\n",
      "\n",
      "Country: Italy\n",
      "Ranking: 5\n",
      "HDI: 0.880\n",
      "\n",
      "\n",
      "Country: Mexico\n",
      "Ranking: 6\n",
      "HDI: 0.774\n",
      "\n",
      "\n",
      "Country: United Kingdom\n",
      "Ranking: 7\n",
      "HDI: 0.922\n",
      "\n",
      "\n",
      "Country: Turkey\n",
      "Ranking: 8\n",
      "HDI: 0.791\n",
      "\n",
      "\n",
      "Country: Germany\n",
      "Ranking: 9\n",
      "HDI: 0.936\n",
      "\n",
      "\n",
      "Country: Thailand\n",
      "Ranking: 10\n",
      "HDI: 0.755\n",
      "\n",
      "\n"
     ]
    }
   ],
   "source": [
    "for i in range(0, len(top_tourist_locations)):\n",
    "    print(\"Country: \"+top_tourist_locations[i])\n",
    "    print(\"Ranking: \"+str(i+1))\n",
    "    print(\"HDI: \"+get_country_HDI(\n",
    "        get_HTML('https://en.wikipedia.org/wiki/'+top_tourist_locations[i].replace(' ','%20'))\n",
    "    ))\n",
    "    print('\\n')"
   ]
  },
  {
   "cell_type": "markdown",
   "metadata": {},
   "source": [
    "Comparing rankings and HDIs, what would you state in your recommendation:"
   ]
  },
  {
   "cell_type": "markdown",
   "metadata": {},
   "source": [
    "## APIs\n",
    "\n",
    "### 1. Get the API key\n",
    "\n",
    "[The Guardian](https://www.theguardian.com/au) is a quality **open** News outlet with an easy to use [open-platform API](https://open-platform.theguardian.com).\n",
    "\n",
    "* Explore and experiment with the [platform here](https://open-platform.theguardian.com/explore/)\n",
    "* Get your own [developer API key here](https://bonobo.capi.gutools.co.uk/register/developer)\n",
    "\n",
    "For this example, I've save my key at the beginning of a file called `guardian_key.txt`. I load the key before anything else..."
   ]
  },
  {
   "cell_type": "code",
   "execution_count": 14,
   "metadata": {},
   "outputs": [
    {
     "ename": "FileNotFoundError",
     "evalue": "[Errno 2] No such file or directory: 'data/guardian_key.txt'",
     "output_type": "error",
     "traceback": [
      "\u001b[1;31m---------------------------------------------------------------------------\u001b[0m",
      "\u001b[1;31mFileNotFoundError\u001b[0m                         Traceback (most recent call last)",
      "\u001b[1;32m~\\AppData\\Local\\Temp/ipykernel_28024/1029210018.py\u001b[0m in \u001b[0;36m<module>\u001b[1;34m\u001b[0m\n\u001b[0;32m      1\u001b[0m \u001b[1;31m#load key\u001b[0m\u001b[1;33m\u001b[0m\u001b[1;33m\u001b[0m\u001b[0m\n\u001b[0;32m      2\u001b[0m \u001b[0mkey\u001b[0m \u001b[1;33m=\u001b[0m \u001b[1;34m\"test\"\u001b[0m\u001b[1;33m\u001b[0m\u001b[1;33m\u001b[0m\u001b[0m\n\u001b[1;32m----> 3\u001b[1;33m \u001b[1;32mwith\u001b[0m \u001b[0mopen\u001b[0m\u001b[1;33m(\u001b[0m\u001b[1;34m'data/guardian_key.txt'\u001b[0m\u001b[1;33m,\u001b[0m \u001b[1;34m'r'\u001b[0m\u001b[1;33m)\u001b[0m \u001b[1;32mas\u001b[0m \u001b[0mfile\u001b[0m\u001b[1;33m:\u001b[0m\u001b[1;33m\u001b[0m\u001b[1;33m\u001b[0m\u001b[0m\n\u001b[0m\u001b[0;32m      4\u001b[0m     \u001b[0mkey\u001b[0m \u001b[1;33m=\u001b[0m \u001b[0mfile\u001b[0m\u001b[1;33m.\u001b[0m\u001b[0mread\u001b[0m\u001b[1;33m(\u001b[0m\u001b[1;33m)\u001b[0m\u001b[1;33m.\u001b[0m\u001b[0mstrip\u001b[0m\u001b[1;33m(\u001b[0m\u001b[1;33m)\u001b[0m\u001b[1;33m\u001b[0m\u001b[1;33m\u001b[0m\u001b[0m\n\u001b[0;32m      5\u001b[0m \u001b[0mlen\u001b[0m\u001b[1;33m(\u001b[0m\u001b[0mkey\u001b[0m\u001b[1;33m)\u001b[0m \u001b[1;31m# check key loaded by reading its length - don't want to display the actual key!!\u001b[0m\u001b[1;33m\u001b[0m\u001b[1;33m\u001b[0m\u001b[0m\n",
      "\u001b[1;31mFileNotFoundError\u001b[0m: [Errno 2] No such file or directory: 'data/guardian_key.txt'"
     ]
    }
   ],
   "source": [
    "#load key\n",
    "with open('data/guardian_key.txt', 'r') as file:\n",
    "    key = file.read().strip()\n",
    "len(key) # check key loaded by reading its length - don't want to display the actual key!!"
   ]
  },
  {
   "cell_type": "markdown",
   "metadata": {},
   "source": [
    "### 2. Understand the structure of the API including end-points and query strings\n",
    "\n",
    "The Guardian API is called through a single URL which needs to be composed according to your search requirements."
   ]
  },
  {
   "cell_type": "code",
   "execution_count": 13,
   "metadata": {},
   "outputs": [
    {
     "name": "stdout",
     "output_type": "stream",
     "text": [
      "https://content.guardianapis.com/search?q=\"submarine\"&production-office=aus&from-date=2021-09-01\n"
     ]
    }
   ],
   "source": [
    " #build a search URL\n",
    "baseUrl = 'https://content.guardianapis.com/search?q=' # content search\n",
    "\n",
    "searchString = \"submarine\"\n",
    "office = \"&production-office=aus\"\n",
    "tag = \"&tag=politics/politics\"\n",
    "fromDate = \"&from-date=2021-09-01\"\n",
    "\n",
    "url = baseUrl+'\"'+searchString+'\"'+office+fromDate\n",
    "print(url)"
   ]
  },
  {
   "cell_type": "markdown",
   "metadata": {},
   "source": [
    "Now that we have the URL that we want to use for our search, we add our api-key to the end of it."
   ]
  },
  {
   "cell_type": "code",
   "execution_count": 15,
   "metadata": {},
   "outputs": [],
   "source": [
    "urlkey = url +'&api-key='+key # add my API key to the end of the URL"
   ]
  },
  {
   "cell_type": "markdown",
   "metadata": {},
   "source": [
    "### 3. Using Python to call the API\n",
    "\n",
    "To use the API, we need the `requests` library to connect to it, and the `json` library to be able to work with the json data that the API returns."
   ]
  },
  {
   "cell_type": "code",
   "execution_count": 17,
   "metadata": {},
   "outputs": [],
   "source": [
    "#import required libraries\n",
    "import requests\n",
    "import json\n",
    "\n",
    "#call the API\n",
    "response = requests.get(urlkey)"
   ]
  },
  {
   "cell_type": "markdown",
   "metadata": {},
   "source": [
    "We're hoping for a `200` response from the server to say that everything was OK. If you get a different number response, then there was probably an issue with your URL."
   ]
  },
  {
   "cell_type": "code",
   "execution_count": 18,
   "metadata": {},
   "outputs": [
    {
     "data": {
      "text/plain": [
       "<Response [200]>"
      ]
     },
     "execution_count": 18,
     "metadata": {},
     "output_type": "execute_result"
    }
   ],
   "source": [
    "response"
   ]
  },
  {
   "cell_type": "markdown",
   "metadata": {},
   "source": [
    "We can look at the content of the response - which should be in json format if your request was successful."
   ]
  },
  {
   "cell_type": "code",
   "execution_count": 19,
   "metadata": {},
   "outputs": [
    {
     "data": {
      "text/plain": [
       "b'{\"response\":{\"status\":\"ok\",\"userTier\":\"developer\",\"total\":158,\"startIndex\":1,\"pageSize\":10,\"currentPage\":1,\"pages\":16,\"orderBy\":\"relevance\",\"results\":[{\"id\":\"world/2021/nov/09/australia-promises-jobs-to-workers-stranded-by-scrapping-of-french-submarine-deal\",\"type\":\"article\",\"sectionId\":\"world\",\"sectionName\":\"World news\",\"webPublicationDate\":\"2021-11-08T16:30:35Z\",\"webTitle\":\"Australia promises jobs to workers stranded by scrapping of French submarine deal\",\"webUrl\":\"https://www.theguardian.com/world/2021/nov/09/australia-promises-jobs-to-workers-stranded-by-scrapping-of-french-submarine-deal\",\"apiUrl\":\"https://content.guardianapis.com/world/2021/nov/09/australia-promises-jobs-to-workers-stranded-by-scrapping-of-french-submarine-deal\",\"isHosted\":false,\"pillarId\":\"pillar/news\",\"pillarName\":\"News\"},{\"id\":\"world/2021/oct/01/fears-australias-france-submarine-snub-could-scupper-closer-eu-economic-ties\",\"type\":\"article\",\"sectionId\":\"world\",\"sectionName\":\"World news\",\"webPublicationDate\":\"2021-10-01T09:00:58Z\",\"webTitle\":\"Fears Australia\\xe2\\x80\\x99s France submarine snub could scupper closer EU economic ties\",\"webUrl\":\"https://www.theguardian.com/world/2021/oct/01/fears-australias-france-submarine-snub-could-scupper-closer-eu-economic-ties\",\"apiUrl\":\"https://content.guardianapis.com/world/2021/oct/01/fears-australias-france-submarine-snub-could-scupper-closer-eu-economic-ties\",\"isHosted\":false,\"pillarId\":\"pillar/news\",\"pillarName\":\"News\"},{\"id\":\"australia-news/2021/sep/29/australia-tore-up-french-submarine-contract-for-convenience-naval-group-says\",\"type\":\"article\",\"sectionId\":\"australia-news\",\"sectionName\":\"Australia news\",\"webPublicationDate\":\"2021-09-29T06:15:33Z\",\"webTitle\":\"Australia tore up French submarine contract \\xe2\\x80\\x98for convenience\\xe2\\x80\\x99 Naval Group says\",\"webUrl\":\"https://www.theguardian.com/australia-news/2021/sep/29/australia-tore-up-french-submarine-contract-for-convenience-naval-group-says\",\"apiUrl\":\"https://content.guardianapis.com/australia-news/2021/sep/29/australia-tore-up-french-submarine-contract-for-convenience-naval-group-says\",\"isHosted\":false,\"pillarId\":\"pillar/news\",\"pillarName\":\"News\"},{\"id\":\"world/2021/nov/19/naughty-guy-top-chinese-diplomat-accuses-australia-of-sabre-wielding-with-nuclear-submarine-deal\",\"type\":\"article\",\"sectionId\":\"world\",\"sectionName\":\"World news\",\"webPublicationDate\":\"2021-11-18T16:30:10Z\",\"webTitle\":\"\\xe2\\x80\\x98Naughty guy\\xe2\\x80\\x99: top Chinese diplomat accuses Australia of \\xe2\\x80\\x98sabre wielding\\xe2\\x80\\x99 with nuclear submarine deal\",\"webUrl\":\"https://www.theguardian.com/world/2021/nov/19/naughty-guy-top-chinese-diplomat-accuses-australia-of-sabre-wielding-with-nuclear-submarine-deal\",\"apiUrl\":\"https://content.guardianapis.com/world/2021/nov/19/naughty-guy-top-chinese-diplomat-accuses-australia-of-sabre-wielding-with-nuclear-submarine-deal\",\"isHosted\":false,\"pillarId\":\"pillar/news\",\"pillarName\":\"News\"},{\"id\":\"world/2021/oct/28/australias-foreign-minister-to-meet-french-ambassador-in-bid-to-heal-submarine-rift\",\"type\":\"article\",\"sectionId\":\"world\",\"sectionName\":\"World news\",\"webPublicationDate\":\"2021-10-28T04:39:00Z\",\"webTitle\":\"Australia\\xe2\\x80\\x99s foreign minister to meet French ambassador in bid to heal submarine rift \",\"webUrl\":\"https://www.theguardian.com/world/2021/oct/28/australias-foreign-minister-to-meet-french-ambassador-in-bid-to-heal-submarine-rift\",\"apiUrl\":\"https://content.guardianapis.com/world/2021/oct/28/australias-foreign-minister-to-meet-french-ambassador-in-bid-to-heal-submarine-rift\",\"isHosted\":false,\"pillarId\":\"pillar/news\",\"pillarName\":\"News\"},{\"id\":\"australia-news/2021/oct/29/macrons-anger-over-nuclear-submarine-deal-linked-to-french-election-peter-dutton-says\",\"type\":\"article\",\"sectionId\":\"australia-news\",\"sectionName\":\"Australia news\",\"webPublicationDate\":\"2021-10-29T04:32:28Z\",\"webTitle\":\"Macron\\xe2\\x80\\x99s anger over nuclear submarine deal linked to French election, Peter Dutton says\",\"webUrl\":\"https://www.theguardian.com/australia-news/2021/oct/29/macrons-anger-over-nuclear-submarine-deal-linked-to-french-election-peter-dutton-says\",\"apiUrl\":\"https://content.guardianapis.com/australia-news/2021/oct/29/macrons-anger-over-nuclear-submarine-deal-linked-to-french-election-peter-dutton-says\",\"isHosted\":false,\"pillarId\":\"pillar/news\",\"pillarName\":\"News\"},{\"id\":\"world/2021/sep/29/former-us-navy-secretary-now-scott-morrisons-aukus-middle-man-on-submarine-plan\",\"type\":\"article\",\"sectionId\":\"world\",\"sectionName\":\"World news\",\"webPublicationDate\":\"2021-09-29T02:50:32Z\",\"webTitle\":\"Former US navy secretary now Scott Morrison\\xe2\\x80\\x99s Aukus middleman on submarine plan\",\"webUrl\":\"https://www.theguardian.com/world/2021/sep/29/former-us-navy-secretary-now-scott-morrisons-aukus-middle-man-on-submarine-plan\",\"apiUrl\":\"https://content.guardianapis.com/world/2021/sep/29/former-us-navy-secretary-now-scott-morrisons-aukus-middle-man-on-submarine-plan\",\"isHosted\":false,\"pillarId\":\"pillar/news\",\"pillarName\":\"News\"},{\"id\":\"australia-news/2021/sep/29/malcolm-turnbull-excoriates-scott-morrison-over-appalling-episode-with-french-submarine-deal\",\"type\":\"article\",\"sectionId\":\"australia-news\",\"sectionName\":\"Australia news\",\"webPublicationDate\":\"2021-09-29T08:19:43Z\",\"webTitle\":\"Malcolm Turnbull excoriates Scott Morrison over \\xe2\\x80\\x98appalling episode\\xe2\\x80\\x99 with French submarine deal\",\"webUrl\":\"https://www.theguardian.com/australia-news/2021/sep/29/malcolm-turnbull-excoriates-scott-morrison-over-appalling-episode-with-french-submarine-deal\",\"apiUrl\":\"https://content.guardianapis.com/australia-news/2021/sep/29/malcolm-turnbull-excoriates-scott-morrison-over-appalling-episode-with-french-submarine-deal\",\"isHosted\":false,\"pillarId\":\"pillar/news\",\"pillarName\":\"News\"},{\"id\":\"world/2021/sep/20/we-felt-fooled-france-still-furious-after-australia-scraps-90bn-submarine-deal\",\"type\":\"article\",\"sectionId\":\"world\",\"sectionName\":\"World news\",\"webPublicationDate\":\"2021-09-20T01:11:38Z\",\"webTitle\":\"\\xe2\\x80\\x98We felt fooled\\xe2\\x80\\x99: France still furious after Australia scraps $90bn submarine deal\",\"webUrl\":\"https://www.theguardian.com/world/2021/sep/20/we-felt-fooled-france-still-furious-after-australia-scraps-90bn-submarine-deal\",\"apiUrl\":\"https://content.guardianapis.com/world/2021/sep/20/we-felt-fooled-france-still-furious-after-australia-scraps-90bn-submarine-deal\",\"isHosted\":false,\"pillarId\":\"pillar/news\",\"pillarName\":\"News\"},{\"id\":\"australia-news/2021/sep/17/game-changer-or-irresponsible-the-known-unknowns-on-australias-nuclear-submarine-deal\",\"type\":\"article\",\"sectionId\":\"australia-news\",\"sectionName\":\"Australia news\",\"webPublicationDate\":\"2021-09-17T08:35:30Z\",\"webTitle\":\"Game-changer or irresponsible? The known unknowns on Australia\\xe2\\x80\\x99s nuclear submarine deal\",\"webUrl\":\"https://www.theguardian.com/australia-news/2021/sep/17/game-changer-or-irresponsible-the-known-unknowns-on-australias-nuclear-submarine-deal\",\"apiUrl\":\"https://content.guardianapis.com/australia-news/2021/sep/17/game-changer-or-irresponsible-the-known-unknowns-on-australias-nuclear-submarine-deal\",\"isHosted\":false,\"pillarId\":\"pillar/news\",\"pillarName\":\"News\"}]}}'"
      ]
     },
     "execution_count": 19,
     "metadata": {},
     "output_type": "execute_result"
    }
   ],
   "source": [
    "response.content"
   ]
  },
  {
   "cell_type": "markdown",
   "metadata": {},
   "source": [
    "Load the json from the content into a variable (as a dictionary) that we can navigate in python."
   ]
  },
  {
   "cell_type": "code",
   "execution_count": 20,
   "metadata": {},
   "outputs": [
    {
     "data": {
      "text/plain": [
       "{'response': {'status': 'ok',\n",
       "  'userTier': 'developer',\n",
       "  'total': 158,\n",
       "  'startIndex': 1,\n",
       "  'pageSize': 10,\n",
       "  'currentPage': 1,\n",
       "  'pages': 16,\n",
       "  'orderBy': 'relevance',\n",
       "  'results': [{'id': 'world/2021/nov/09/australia-promises-jobs-to-workers-stranded-by-scrapping-of-french-submarine-deal',\n",
       "    'type': 'article',\n",
       "    'sectionId': 'world',\n",
       "    'sectionName': 'World news',\n",
       "    'webPublicationDate': '2021-11-08T16:30:35Z',\n",
       "    'webTitle': 'Australia promises jobs to workers stranded by scrapping of French submarine deal',\n",
       "    'webUrl': 'https://www.theguardian.com/world/2021/nov/09/australia-promises-jobs-to-workers-stranded-by-scrapping-of-french-submarine-deal',\n",
       "    'apiUrl': 'https://content.guardianapis.com/world/2021/nov/09/australia-promises-jobs-to-workers-stranded-by-scrapping-of-french-submarine-deal',\n",
       "    'isHosted': False,\n",
       "    'pillarId': 'pillar/news',\n",
       "    'pillarName': 'News'},\n",
       "   {'id': 'world/2021/oct/01/fears-australias-france-submarine-snub-could-scupper-closer-eu-economic-ties',\n",
       "    'type': 'article',\n",
       "    'sectionId': 'world',\n",
       "    'sectionName': 'World news',\n",
       "    'webPublicationDate': '2021-10-01T09:00:58Z',\n",
       "    'webTitle': 'Fears Australia’s France submarine snub could scupper closer EU economic ties',\n",
       "    'webUrl': 'https://www.theguardian.com/world/2021/oct/01/fears-australias-france-submarine-snub-could-scupper-closer-eu-economic-ties',\n",
       "    'apiUrl': 'https://content.guardianapis.com/world/2021/oct/01/fears-australias-france-submarine-snub-could-scupper-closer-eu-economic-ties',\n",
       "    'isHosted': False,\n",
       "    'pillarId': 'pillar/news',\n",
       "    'pillarName': 'News'},\n",
       "   {'id': 'australia-news/2021/sep/29/australia-tore-up-french-submarine-contract-for-convenience-naval-group-says',\n",
       "    'type': 'article',\n",
       "    'sectionId': 'australia-news',\n",
       "    'sectionName': 'Australia news',\n",
       "    'webPublicationDate': '2021-09-29T06:15:33Z',\n",
       "    'webTitle': 'Australia tore up French submarine contract ‘for convenience’ Naval Group says',\n",
       "    'webUrl': 'https://www.theguardian.com/australia-news/2021/sep/29/australia-tore-up-french-submarine-contract-for-convenience-naval-group-says',\n",
       "    'apiUrl': 'https://content.guardianapis.com/australia-news/2021/sep/29/australia-tore-up-french-submarine-contract-for-convenience-naval-group-says',\n",
       "    'isHosted': False,\n",
       "    'pillarId': 'pillar/news',\n",
       "    'pillarName': 'News'},\n",
       "   {'id': 'world/2021/nov/19/naughty-guy-top-chinese-diplomat-accuses-australia-of-sabre-wielding-with-nuclear-submarine-deal',\n",
       "    'type': 'article',\n",
       "    'sectionId': 'world',\n",
       "    'sectionName': 'World news',\n",
       "    'webPublicationDate': '2021-11-18T16:30:10Z',\n",
       "    'webTitle': '‘Naughty guy’: top Chinese diplomat accuses Australia of ‘sabre wielding’ with nuclear submarine deal',\n",
       "    'webUrl': 'https://www.theguardian.com/world/2021/nov/19/naughty-guy-top-chinese-diplomat-accuses-australia-of-sabre-wielding-with-nuclear-submarine-deal',\n",
       "    'apiUrl': 'https://content.guardianapis.com/world/2021/nov/19/naughty-guy-top-chinese-diplomat-accuses-australia-of-sabre-wielding-with-nuclear-submarine-deal',\n",
       "    'isHosted': False,\n",
       "    'pillarId': 'pillar/news',\n",
       "    'pillarName': 'News'},\n",
       "   {'id': 'world/2021/oct/28/australias-foreign-minister-to-meet-french-ambassador-in-bid-to-heal-submarine-rift',\n",
       "    'type': 'article',\n",
       "    'sectionId': 'world',\n",
       "    'sectionName': 'World news',\n",
       "    'webPublicationDate': '2021-10-28T04:39:00Z',\n",
       "    'webTitle': 'Australia’s foreign minister to meet French ambassador in bid to heal submarine rift ',\n",
       "    'webUrl': 'https://www.theguardian.com/world/2021/oct/28/australias-foreign-minister-to-meet-french-ambassador-in-bid-to-heal-submarine-rift',\n",
       "    'apiUrl': 'https://content.guardianapis.com/world/2021/oct/28/australias-foreign-minister-to-meet-french-ambassador-in-bid-to-heal-submarine-rift',\n",
       "    'isHosted': False,\n",
       "    'pillarId': 'pillar/news',\n",
       "    'pillarName': 'News'},\n",
       "   {'id': 'australia-news/2021/oct/29/macrons-anger-over-nuclear-submarine-deal-linked-to-french-election-peter-dutton-says',\n",
       "    'type': 'article',\n",
       "    'sectionId': 'australia-news',\n",
       "    'sectionName': 'Australia news',\n",
       "    'webPublicationDate': '2021-10-29T04:32:28Z',\n",
       "    'webTitle': 'Macron’s anger over nuclear submarine deal linked to French election, Peter Dutton says',\n",
       "    'webUrl': 'https://www.theguardian.com/australia-news/2021/oct/29/macrons-anger-over-nuclear-submarine-deal-linked-to-french-election-peter-dutton-says',\n",
       "    'apiUrl': 'https://content.guardianapis.com/australia-news/2021/oct/29/macrons-anger-over-nuclear-submarine-deal-linked-to-french-election-peter-dutton-says',\n",
       "    'isHosted': False,\n",
       "    'pillarId': 'pillar/news',\n",
       "    'pillarName': 'News'},\n",
       "   {'id': 'world/2021/sep/29/former-us-navy-secretary-now-scott-morrisons-aukus-middle-man-on-submarine-plan',\n",
       "    'type': 'article',\n",
       "    'sectionId': 'world',\n",
       "    'sectionName': 'World news',\n",
       "    'webPublicationDate': '2021-09-29T02:50:32Z',\n",
       "    'webTitle': 'Former US navy secretary now Scott Morrison’s Aukus middleman on submarine plan',\n",
       "    'webUrl': 'https://www.theguardian.com/world/2021/sep/29/former-us-navy-secretary-now-scott-morrisons-aukus-middle-man-on-submarine-plan',\n",
       "    'apiUrl': 'https://content.guardianapis.com/world/2021/sep/29/former-us-navy-secretary-now-scott-morrisons-aukus-middle-man-on-submarine-plan',\n",
       "    'isHosted': False,\n",
       "    'pillarId': 'pillar/news',\n",
       "    'pillarName': 'News'},\n",
       "   {'id': 'australia-news/2021/sep/29/malcolm-turnbull-excoriates-scott-morrison-over-appalling-episode-with-french-submarine-deal',\n",
       "    'type': 'article',\n",
       "    'sectionId': 'australia-news',\n",
       "    'sectionName': 'Australia news',\n",
       "    'webPublicationDate': '2021-09-29T08:19:43Z',\n",
       "    'webTitle': 'Malcolm Turnbull excoriates Scott Morrison over ‘appalling episode’ with French submarine deal',\n",
       "    'webUrl': 'https://www.theguardian.com/australia-news/2021/sep/29/malcolm-turnbull-excoriates-scott-morrison-over-appalling-episode-with-french-submarine-deal',\n",
       "    'apiUrl': 'https://content.guardianapis.com/australia-news/2021/sep/29/malcolm-turnbull-excoriates-scott-morrison-over-appalling-episode-with-french-submarine-deal',\n",
       "    'isHosted': False,\n",
       "    'pillarId': 'pillar/news',\n",
       "    'pillarName': 'News'},\n",
       "   {'id': 'world/2021/sep/20/we-felt-fooled-france-still-furious-after-australia-scraps-90bn-submarine-deal',\n",
       "    'type': 'article',\n",
       "    'sectionId': 'world',\n",
       "    'sectionName': 'World news',\n",
       "    'webPublicationDate': '2021-09-20T01:11:38Z',\n",
       "    'webTitle': '‘We felt fooled’: France still furious after Australia scraps $90bn submarine deal',\n",
       "    'webUrl': 'https://www.theguardian.com/world/2021/sep/20/we-felt-fooled-france-still-furious-after-australia-scraps-90bn-submarine-deal',\n",
       "    'apiUrl': 'https://content.guardianapis.com/world/2021/sep/20/we-felt-fooled-france-still-furious-after-australia-scraps-90bn-submarine-deal',\n",
       "    'isHosted': False,\n",
       "    'pillarId': 'pillar/news',\n",
       "    'pillarName': 'News'},\n",
       "   {'id': 'australia-news/2021/sep/17/game-changer-or-irresponsible-the-known-unknowns-on-australias-nuclear-submarine-deal',\n",
       "    'type': 'article',\n",
       "    'sectionId': 'australia-news',\n",
       "    'sectionName': 'Australia news',\n",
       "    'webPublicationDate': '2021-09-17T08:35:30Z',\n",
       "    'webTitle': 'Game-changer or irresponsible? The known unknowns on Australia’s nuclear submarine deal',\n",
       "    'webUrl': 'https://www.theguardian.com/australia-news/2021/sep/17/game-changer-or-irresponsible-the-known-unknowns-on-australias-nuclear-submarine-deal',\n",
       "    'apiUrl': 'https://content.guardianapis.com/australia-news/2021/sep/17/game-changer-or-irresponsible-the-known-unknowns-on-australias-nuclear-submarine-deal',\n",
       "    'isHosted': False,\n",
       "    'pillarId': 'pillar/news',\n",
       "    'pillarName': 'News'}]}}"
      ]
     },
     "execution_count": 20,
     "metadata": {},
     "output_type": "execute_result"
    }
   ],
   "source": [
    "data = json.loads(response.content)\n",
    "data"
   ]
  },
  {
   "cell_type": "code",
   "execution_count": 21,
   "metadata": {},
   "outputs": [
    {
     "data": {
      "text/plain": [
       "[{'id': 'world/2021/nov/09/australia-promises-jobs-to-workers-stranded-by-scrapping-of-french-submarine-deal',\n",
       "  'type': 'article',\n",
       "  'sectionId': 'world',\n",
       "  'sectionName': 'World news',\n",
       "  'webPublicationDate': '2021-11-08T16:30:35Z',\n",
       "  'webTitle': 'Australia promises jobs to workers stranded by scrapping of French submarine deal',\n",
       "  'webUrl': 'https://www.theguardian.com/world/2021/nov/09/australia-promises-jobs-to-workers-stranded-by-scrapping-of-french-submarine-deal',\n",
       "  'apiUrl': 'https://content.guardianapis.com/world/2021/nov/09/australia-promises-jobs-to-workers-stranded-by-scrapping-of-french-submarine-deal',\n",
       "  'isHosted': False,\n",
       "  'pillarId': 'pillar/news',\n",
       "  'pillarName': 'News'},\n",
       " {'id': 'world/2021/oct/01/fears-australias-france-submarine-snub-could-scupper-closer-eu-economic-ties',\n",
       "  'type': 'article',\n",
       "  'sectionId': 'world',\n",
       "  'sectionName': 'World news',\n",
       "  'webPublicationDate': '2021-10-01T09:00:58Z',\n",
       "  'webTitle': 'Fears Australia’s France submarine snub could scupper closer EU economic ties',\n",
       "  'webUrl': 'https://www.theguardian.com/world/2021/oct/01/fears-australias-france-submarine-snub-could-scupper-closer-eu-economic-ties',\n",
       "  'apiUrl': 'https://content.guardianapis.com/world/2021/oct/01/fears-australias-france-submarine-snub-could-scupper-closer-eu-economic-ties',\n",
       "  'isHosted': False,\n",
       "  'pillarId': 'pillar/news',\n",
       "  'pillarName': 'News'},\n",
       " {'id': 'australia-news/2021/sep/29/australia-tore-up-french-submarine-contract-for-convenience-naval-group-says',\n",
       "  'type': 'article',\n",
       "  'sectionId': 'australia-news',\n",
       "  'sectionName': 'Australia news',\n",
       "  'webPublicationDate': '2021-09-29T06:15:33Z',\n",
       "  'webTitle': 'Australia tore up French submarine contract ‘for convenience’ Naval Group says',\n",
       "  'webUrl': 'https://www.theguardian.com/australia-news/2021/sep/29/australia-tore-up-french-submarine-contract-for-convenience-naval-group-says',\n",
       "  'apiUrl': 'https://content.guardianapis.com/australia-news/2021/sep/29/australia-tore-up-french-submarine-contract-for-convenience-naval-group-says',\n",
       "  'isHosted': False,\n",
       "  'pillarId': 'pillar/news',\n",
       "  'pillarName': 'News'},\n",
       " {'id': 'world/2021/nov/19/naughty-guy-top-chinese-diplomat-accuses-australia-of-sabre-wielding-with-nuclear-submarine-deal',\n",
       "  'type': 'article',\n",
       "  'sectionId': 'world',\n",
       "  'sectionName': 'World news',\n",
       "  'webPublicationDate': '2021-11-18T16:30:10Z',\n",
       "  'webTitle': '‘Naughty guy’: top Chinese diplomat accuses Australia of ‘sabre wielding’ with nuclear submarine deal',\n",
       "  'webUrl': 'https://www.theguardian.com/world/2021/nov/19/naughty-guy-top-chinese-diplomat-accuses-australia-of-sabre-wielding-with-nuclear-submarine-deal',\n",
       "  'apiUrl': 'https://content.guardianapis.com/world/2021/nov/19/naughty-guy-top-chinese-diplomat-accuses-australia-of-sabre-wielding-with-nuclear-submarine-deal',\n",
       "  'isHosted': False,\n",
       "  'pillarId': 'pillar/news',\n",
       "  'pillarName': 'News'},\n",
       " {'id': 'world/2021/oct/28/australias-foreign-minister-to-meet-french-ambassador-in-bid-to-heal-submarine-rift',\n",
       "  'type': 'article',\n",
       "  'sectionId': 'world',\n",
       "  'sectionName': 'World news',\n",
       "  'webPublicationDate': '2021-10-28T04:39:00Z',\n",
       "  'webTitle': 'Australia’s foreign minister to meet French ambassador in bid to heal submarine rift ',\n",
       "  'webUrl': 'https://www.theguardian.com/world/2021/oct/28/australias-foreign-minister-to-meet-french-ambassador-in-bid-to-heal-submarine-rift',\n",
       "  'apiUrl': 'https://content.guardianapis.com/world/2021/oct/28/australias-foreign-minister-to-meet-french-ambassador-in-bid-to-heal-submarine-rift',\n",
       "  'isHosted': False,\n",
       "  'pillarId': 'pillar/news',\n",
       "  'pillarName': 'News'},\n",
       " {'id': 'australia-news/2021/oct/29/macrons-anger-over-nuclear-submarine-deal-linked-to-french-election-peter-dutton-says',\n",
       "  'type': 'article',\n",
       "  'sectionId': 'australia-news',\n",
       "  'sectionName': 'Australia news',\n",
       "  'webPublicationDate': '2021-10-29T04:32:28Z',\n",
       "  'webTitle': 'Macron’s anger over nuclear submarine deal linked to French election, Peter Dutton says',\n",
       "  'webUrl': 'https://www.theguardian.com/australia-news/2021/oct/29/macrons-anger-over-nuclear-submarine-deal-linked-to-french-election-peter-dutton-says',\n",
       "  'apiUrl': 'https://content.guardianapis.com/australia-news/2021/oct/29/macrons-anger-over-nuclear-submarine-deal-linked-to-french-election-peter-dutton-says',\n",
       "  'isHosted': False,\n",
       "  'pillarId': 'pillar/news',\n",
       "  'pillarName': 'News'},\n",
       " {'id': 'world/2021/sep/29/former-us-navy-secretary-now-scott-morrisons-aukus-middle-man-on-submarine-plan',\n",
       "  'type': 'article',\n",
       "  'sectionId': 'world',\n",
       "  'sectionName': 'World news',\n",
       "  'webPublicationDate': '2021-09-29T02:50:32Z',\n",
       "  'webTitle': 'Former US navy secretary now Scott Morrison’s Aukus middleman on submarine plan',\n",
       "  'webUrl': 'https://www.theguardian.com/world/2021/sep/29/former-us-navy-secretary-now-scott-morrisons-aukus-middle-man-on-submarine-plan',\n",
       "  'apiUrl': 'https://content.guardianapis.com/world/2021/sep/29/former-us-navy-secretary-now-scott-morrisons-aukus-middle-man-on-submarine-plan',\n",
       "  'isHosted': False,\n",
       "  'pillarId': 'pillar/news',\n",
       "  'pillarName': 'News'},\n",
       " {'id': 'australia-news/2021/sep/29/malcolm-turnbull-excoriates-scott-morrison-over-appalling-episode-with-french-submarine-deal',\n",
       "  'type': 'article',\n",
       "  'sectionId': 'australia-news',\n",
       "  'sectionName': 'Australia news',\n",
       "  'webPublicationDate': '2021-09-29T08:19:43Z',\n",
       "  'webTitle': 'Malcolm Turnbull excoriates Scott Morrison over ‘appalling episode’ with French submarine deal',\n",
       "  'webUrl': 'https://www.theguardian.com/australia-news/2021/sep/29/malcolm-turnbull-excoriates-scott-morrison-over-appalling-episode-with-french-submarine-deal',\n",
       "  'apiUrl': 'https://content.guardianapis.com/australia-news/2021/sep/29/malcolm-turnbull-excoriates-scott-morrison-over-appalling-episode-with-french-submarine-deal',\n",
       "  'isHosted': False,\n",
       "  'pillarId': 'pillar/news',\n",
       "  'pillarName': 'News'},\n",
       " {'id': 'world/2021/sep/20/we-felt-fooled-france-still-furious-after-australia-scraps-90bn-submarine-deal',\n",
       "  'type': 'article',\n",
       "  'sectionId': 'world',\n",
       "  'sectionName': 'World news',\n",
       "  'webPublicationDate': '2021-09-20T01:11:38Z',\n",
       "  'webTitle': '‘We felt fooled’: France still furious after Australia scraps $90bn submarine deal',\n",
       "  'webUrl': 'https://www.theguardian.com/world/2021/sep/20/we-felt-fooled-france-still-furious-after-australia-scraps-90bn-submarine-deal',\n",
       "  'apiUrl': 'https://content.guardianapis.com/world/2021/sep/20/we-felt-fooled-france-still-furious-after-australia-scraps-90bn-submarine-deal',\n",
       "  'isHosted': False,\n",
       "  'pillarId': 'pillar/news',\n",
       "  'pillarName': 'News'},\n",
       " {'id': 'australia-news/2021/sep/17/game-changer-or-irresponsible-the-known-unknowns-on-australias-nuclear-submarine-deal',\n",
       "  'type': 'article',\n",
       "  'sectionId': 'australia-news',\n",
       "  'sectionName': 'Australia news',\n",
       "  'webPublicationDate': '2021-09-17T08:35:30Z',\n",
       "  'webTitle': 'Game-changer or irresponsible? The known unknowns on Australia’s nuclear submarine deal',\n",
       "  'webUrl': 'https://www.theguardian.com/australia-news/2021/sep/17/game-changer-or-irresponsible-the-known-unknowns-on-australias-nuclear-submarine-deal',\n",
       "  'apiUrl': 'https://content.guardianapis.com/australia-news/2021/sep/17/game-changer-or-irresponsible-the-known-unknowns-on-australias-nuclear-submarine-deal',\n",
       "  'isHosted': False,\n",
       "  'pillarId': 'pillar/news',\n",
       "  'pillarName': 'News'}]"
      ]
     },
     "execution_count": 21,
     "metadata": {},
     "output_type": "execute_result"
    }
   ],
   "source": [
    "results = data['response']['results']\n",
    "results"
   ]
  },
  {
   "cell_type": "markdown",
   "metadata": {},
   "source": [
    "Once we have our results, it could be helpful to get a list of the titles. Then we could do unstructed data analytics on the titles to see if they contain specific words or phrases of interest."
   ]
  },
  {
   "cell_type": "code",
   "execution_count": 22,
   "metadata": {},
   "outputs": [],
   "source": [
    "titles = []\n",
    "for result in results:\n",
    "    titles.append(result['webTitle'])"
   ]
  },
  {
   "cell_type": "code",
   "execution_count": 23,
   "metadata": {},
   "outputs": [
    {
     "data": {
      "text/plain": [
       "['Australia promises jobs to workers stranded by scrapping of French submarine deal',\n",
       " 'Fears Australia’s France submarine snub could scupper closer EU economic ties',\n",
       " 'Australia tore up French submarine contract ‘for convenience’ Naval Group says',\n",
       " '‘Naughty guy’: top Chinese diplomat accuses Australia of ‘sabre wielding’ with nuclear submarine deal',\n",
       " 'Australia’s foreign minister to meet French ambassador in bid to heal submarine rift ',\n",
       " 'Macron’s anger over nuclear submarine deal linked to French election, Peter Dutton says',\n",
       " 'Former US navy secretary now Scott Morrison’s Aukus middleman on submarine plan',\n",
       " 'Malcolm Turnbull excoriates Scott Morrison over ‘appalling episode’ with French submarine deal',\n",
       " '‘We felt fooled’: France still furious after Australia scraps $90bn submarine deal',\n",
       " 'Game-changer or irresponsible? The known unknowns on Australia’s nuclear submarine deal']"
      ]
     },
     "execution_count": 23,
     "metadata": {},
     "output_type": "execute_result"
    }
   ],
   "source": [
    "titles"
   ]
  },
  {
   "cell_type": "code",
   "execution_count": null,
   "metadata": {},
   "outputs": [],
   "source": []
  }
 ],
 "metadata": {
  "hide_input": false,
  "kernelspec": {
   "display_name": "Python 3",
   "language": "python",
   "name": "python3"
  },
  "language_info": {
   "codemirror_mode": {
    "name": "ipython",
    "version": 3
   },
   "file_extension": ".py",
   "mimetype": "text/x-python",
   "name": "python",
   "nbconvert_exporter": "python",
   "pygments_lexer": "ipython3",
   "version": "3.9.9"
  }
 },
 "nbformat": 4,
 "nbformat_minor": 4
}
