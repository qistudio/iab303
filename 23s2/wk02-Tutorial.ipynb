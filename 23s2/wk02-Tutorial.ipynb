{
 "cells": [
  {
   "cell_type": "markdown",
   "metadata": {},
   "source": [
    "<div class=\"alert alert-block alert-info\"><b>IAB303</b> - Data Analytics for Business Insight</div>"
   ]
  },
  {
   "cell_type": "markdown",
   "metadata": {},
   "source": [
    "## Tutorial :: Last week Homework\n",
    "\n",
    "After your analysis between Australia and New Zealand. The marketing manager becomes curious if there is any other countries that they could target for expansion? \n",
    "\n",
    "Your next task is recommend the best 5 countries to expand the agricultural business based on the countries GDP"
   ]
  },
  {
   "cell_type": "markdown",
   "metadata": {},
   "source": [
    "### Your insights"
   ]
  },
  {
   "cell_type": "markdown",
   "metadata": {},
   "source": [
    "???\n",
    "\n",
    "---"
   ]
  },
  {
   "cell_type": "markdown",
   "metadata": {},
   "source": [
    "## Tutorial :: Workplace safety\n",
    "\n",
    "**CONCERN**\n",
    "\n",
    "Workplace safety can have a significant impact on business success. Not only do accidents and injury cost time and money, but a safe healthy environment can contribute to a positive culture which in turn can improve employee wellbeing and lift productivity and efficacy.\n",
    "\n",
    "https://www.comcare.gov.au/safe-healthy-work/healthy-workplace/benefits\n",
    "\n",
    "1. **Q**uestion\n",
    "2. **D**ata\n",
    "3. **A**nalysis\n",
    "4. **V**isualisation\n",
    "5. **I**nsight\n",
    "\n",
    "<img src=\"graphics/QDAVI_cycle_sm.png\" width=\"50%\" />"
   ]
  },
  {
   "cell_type": "markdown",
   "metadata": {},
   "source": [
    "### 1. Question\n",
    "\n",
    "The business is looking to launch a program to reduce the costs related to incidents."
   ]
  },
  {
   "cell_type": "markdown",
   "metadata": {},
   "source": [
    "### 2. Data\n",
    "\n",
    "The data is going to be the same used during the studio session. The file is located in the data folder, week-3, `sampledatasafety.csv`"
   ]
  },
  {
   "cell_type": "code",
   "execution_count": null,
   "metadata": {},
   "outputs": [],
   "source": [
    "# To use pandas, we need to import it (normally as 'pd')\n",
    "import pandas as pd\n",
    "\n",
    "# We can then open a CSV file into a new dataframe\n",
    "safety_df = pd.read_csv(???)\n",
    "\n",
    "# view the dataframe\n",
    "safety_df\n"
   ]
  },
  {
   "cell_type": "markdown",
   "metadata": {},
   "source": [
    "#### Clean/preprocess data"
   ]
  },
  {
   "cell_type": "code",
   "execution_count": null,
   "metadata": {},
   "outputs": [],
   "source": [
    "# Check that we have the correct data types\n",
    "safety_df.dtypes"
   ]
  },
  {
   "cell_type": "code",
   "execution_count": null,
   "metadata": {},
   "outputs": [],
   "source": [
    "# Convert the incident cost to a float data type\n",
    "safety_df[\"Incident Cost\"] = safety_df[\"Incident Cost\"].apply(lambda x: x.replace(\"$\", \"\").replace(\",\", \".\")).astype(\"float\")\n",
    "safety_df"
   ]
  },
  {
   "cell_type": "code",
   "execution_count": null,
   "metadata": {},
   "outputs": [],
   "source": [
    "# Check the data types again to ensure we fix the problem\n",
    "safety_df.dtypes"
   ]
  },
  {
   "cell_type": "markdown",
   "metadata": {},
   "source": [
    "### 3. Analysis\n",
    "\n",
    "- How much has cost the incidents to the business?\n",
    "- Can be identified the most expensive incidents?\n",
    "- What else can be related to the costs?"
   ]
  },
  {
   "cell_type": "code",
   "execution_count": null,
   "metadata": {},
   "outputs": [],
   "source": [
    "# The total costs of incidents\n",
    "safety_df[\"Incident Cost\"].sum()"
   ]
  },
  {
   "cell_type": "code",
   "execution_count": null,
   "metadata": {},
   "outputs": [],
   "source": [
    "# The incident cost by incident types\n",
    "incident_types_df = safety_df[[???, ???, ???]].groupby(???).sum()\n",
    "incident_types_df"
   ]
  },
  {
   "cell_type": "code",
   "execution_count": null,
   "metadata": {},
   "outputs": [],
   "source": [
    "# The shift has an impact in the incident cost\n",
    "shift_df = safety_df[[???, ???, ???]].groupby(???).sum()\n",
    "shift_df"
   ]
  },
  {
   "cell_type": "code",
   "execution_count": null,
   "metadata": {},
   "outputs": [],
   "source": [
    "# Is there any plant that has higher incident cost\n",
    "plant_df = safety_df[[???, ???, ???]].groupby(???).sum()\n",
    "plant_df"
   ]
  },
  {
   "cell_type": "markdown",
   "metadata": {},
   "source": [
    "### 4. Visualisation"
   ]
  },
  {
   "cell_type": "code",
   "execution_count": null,
   "metadata": {},
   "outputs": [],
   "source": [
    "# Plot the incident types df\n",
    "incident_types_df.sort_values(by=???, ascending=False)[\"Incident Cost\"].plot(kind=\"bar\", title=\"Incident Cost by incident type\", ylabel=\"Incident Cost\")"
   ]
  },
  {
   "cell_type": "code",
   "execution_count": null,
   "metadata": {},
   "outputs": [],
   "source": [
    "# Plot the shift df\n",
    "shift_df.sort_values(by=???, ascending=False)[\"Incident Cost\"].plot(kind=\"bar\", title=\"Incident Cost by shift\", ylabel=\"Incident Cost\")"
   ]
  },
  {
   "cell_type": "code",
   "execution_count": null,
   "metadata": {},
   "outputs": [],
   "source": [
    "# Plot the plant df\n",
    "plant_df.sort_values(by=???, ascending=False)[\"Incident Cost\"].plot(kind=\"bar\", title=\"Incident Cost by plant\", ylabel=\"Incident Cost\")"
   ]
  },
  {
   "cell_type": "markdown",
   "metadata": {},
   "source": [
    "### 5. Insights\n",
    "\n",
    "1. What is the concern?\n",
    "2. What data did we use?\n",
    "3. How did we analyse it, what decisions and why?\n",
    "4. What do the visualisations tell us?\n",
    "5. What is the recommendation for the concern? What other information would be helpful? What *doesn't* the data tell us? Can we make inferences?"
   ]
  },
  {
   "cell_type": "code",
   "execution_count": null,
   "metadata": {},
   "outputs": [],
   "source": []
  }
 ],
 "metadata": {
  "hide_input": false,
  "kernelspec": {
   "display_name": "Python 3",
   "language": "python",
   "name": "python3"
  },
  "language_info": {
   "codemirror_mode": {
    "name": "ipython",
    "version": 3
   },
   "file_extension": ".py",
   "mimetype": "text/x-python",
   "name": "python",
   "nbconvert_exporter": "python",
   "pygments_lexer": "ipython3",
   "version": "3.6.9"
  }
 },
 "nbformat": 4,
 "nbformat_minor": 4
}
