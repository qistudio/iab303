{
 "cells": [
  {
   "cell_type": "markdown",
   "metadata": {},
   "source": [
    "Before you turn this problem in, make sure everything runs as expected. First, **restart the kernel** (in the menubar, select Kernel$\\rightarrow$Restart) and then **run all cells** (in the menubar, select Cell$\\rightarrow$Run All).\n",
    "\n",
    "Make sure you fill in any place that says `YOUR CODE HERE` or \"YOUR ANSWER HERE\"."
   ]
  },
  {
   "cell_type": "markdown",
   "metadata": {},
   "source": [
    "---"
   ]
  },
  {
   "cell_type": "markdown",
   "metadata": {},
   "source": [
    "# IAB303 - Assignment 1 - Part A\n",
    "\n",
    "\n",
    "\n",
    "The first part of the assignment involves answering a series of questions related to loading, reading, and visualising data through the use of Python code.\n",
    "\n",
    "Each question will be marked separately, so if you are unsure about a question, simply try to answer it with your best possible attempt. \n",
    "\n",
    "**READ AND FOLLOW THESE INSTRUCTIONS CAREFULLY:**\n",
    "- Do not attempt to add or remove any cell blocks in this notebook. \n",
    "- Provide your answers in the indicated spaces __only__."
   ]
  },
  {
   "cell_type": "markdown",
   "metadata": {},
   "source": [
    "#### 1. Importing Required Libraries\n",
    "\n",
    "In the cell block below, import the libraries that you will require for the proceeding questions. It is perhaps suitable to attempt this question last, as it may not be apparent what libraries you require until completion of all other questions."
   ]
  },
  {
   "cell_type": "code",
   "execution_count": null,
   "metadata": {
    "deletable": false,
    "nbgrader": {
     "cell_type": "code",
     "checksum": "bf14858abab1a9e7c39e351839efbf78",
     "grade": false,
     "grade_id": "q1",
     "locked": false,
     "schema_version": 3,
     "solution": true
    }
   },
   "outputs": [],
   "source": [
    "\n",
    "# YOUR CODE HERE\n"
   ]
  },
  {
   "cell_type": "code",
   "execution_count": null,
   "metadata": {
    "deletable": false,
    "editable": false,
    "nbgrader": {
     "cell_type": "code",
     "checksum": "94007b7a60ebe846a661828e60676e92",
     "grade": true,
     "grade_id": "correct_q1",
     "locked": false,
     "points": 1,
     "schema_version": 3,
     "solution": false
    }
   },
   "outputs": [],
   "source": []
  },
  {
   "cell_type": "markdown",
   "metadata": {},
   "source": [
    "#### 2. Reading In A CSV File\n",
    "\n",
    "Provided with this test notebook is a CSV file entitled \"PartA_data1.csv\". Read this file into a `pandas` dataframe variable entitled `patient_recovery_data`, and assign an appropriate index. Then in one command __only__, display the number of rows (entries) and columns in the dataframe."
   ]
  },
  {
   "cell_type": "code",
   "execution_count": null,
   "metadata": {
    "deletable": false,
    "nbgrader": {
     "cell_type": "code",
     "checksum": "32a29bbc4c833632635ed0d81f423679",
     "grade": false,
     "grade_id": "q2",
     "locked": false,
     "schema_version": 3,
     "solution": true
    }
   },
   "outputs": [],
   "source": [
    "\n",
    "# YOUR CODE HERE\n"
   ]
  },
  {
   "cell_type": "code",
   "execution_count": null,
   "metadata": {
    "deletable": false,
    "editable": false,
    "nbgrader": {
     "cell_type": "code",
     "checksum": "f2e0d799459e29e0fe4552745d6ee698",
     "grade": true,
     "grade_id": "correct_q2",
     "locked": false,
     "points": 1,
     "schema_version": 3,
     "solution": false
    }
   },
   "outputs": [],
   "source": []
  },
  {
   "cell_type": "markdown",
   "metadata": {},
   "source": [
    "#### 3. Filling In Missing Data\n",
    "\n",
    "Within the `patient_recovery_data` dataframe, select the indices of range __167__ to __172__ and output them to a new `pandas` dataframe variable entitled `repaired_data`. Then repair the dataframe's missing values under the `gender` column, by filling in the missing fields with appropriate data i.e. fill in each missing `gender` entry with the text \"Not Specified\"."
   ]
  },
  {
   "cell_type": "code",
   "execution_count": null,
   "metadata": {
    "deletable": false,
    "nbgrader": {
     "cell_type": "code",
     "checksum": "370e768bd65612214a57c24355f9cf3f",
     "grade": false,
     "grade_id": "q3",
     "locked": false,
     "schema_version": 3,
     "solution": true
    }
   },
   "outputs": [],
   "source": [
    "\n",
    "# YOUR CODE HERE\n"
   ]
  },
  {
   "cell_type": "code",
   "execution_count": null,
   "metadata": {
    "deletable": false,
    "editable": false,
    "nbgrader": {
     "cell_type": "code",
     "checksum": "4f098b4af6223ce2ee34330aedc07043",
     "grade": true,
     "grade_id": "correct_q3",
     "locked": false,
     "points": 1,
     "schema_version": 3,
     "solution": false
    }
   },
   "outputs": [],
   "source": []
  },
  {
   "cell_type": "markdown",
   "metadata": {},
   "source": [
    "#### 4. Filtering Columns\n",
    "\n",
    "Using the `patient_recovery_data` dataframe, filter the columns `patientid`, `piq` and `viq` into a new dataframe entitled `filtered_data`."
   ]
  },
  {
   "cell_type": "code",
   "execution_count": null,
   "metadata": {
    "deletable": false,
    "nbgrader": {
     "cell_type": "code",
     "checksum": "40ad415f07bcc1a3eabe3cdcb3ea8f7c",
     "grade": false,
     "grade_id": "q4",
     "locked": false,
     "schema_version": 3,
     "solution": true
    }
   },
   "outputs": [],
   "source": [
    "\n",
    "# YOUR CODE HERE\n"
   ]
  },
  {
   "cell_type": "code",
   "execution_count": null,
   "metadata": {
    "deletable": false,
    "editable": false,
    "nbgrader": {
     "cell_type": "code",
     "checksum": "bcd1be3153968d46d93ef9bd21a26d0c",
     "grade": true,
     "grade_id": "correct_q4",
     "locked": false,
     "points": 1,
     "schema_version": 3,
     "solution": false
    }
   },
   "outputs": [],
   "source": []
  },
  {
   "cell_type": "markdown",
   "metadata": {},
   "source": [
    "#### 5. Sum Of A Column\n",
    "\n",
    "Using the `patient_recovery_data`, and with one line of code, calculate the sum of all values in the `days` column, and store the numerical result in a variable entitled `cumulative_days`"
   ]
  },
  {
   "cell_type": "code",
   "execution_count": null,
   "metadata": {
    "deletable": false,
    "nbgrader": {
     "cell_type": "code",
     "checksum": "94c885ffb26023055d8a7bc204d2a45e",
     "grade": false,
     "grade_id": "q5",
     "locked": false,
     "schema_version": 3,
     "solution": true
    }
   },
   "outputs": [],
   "source": [
    "\n",
    "# YOUR CODE HERE\n"
   ]
  },
  {
   "cell_type": "code",
   "execution_count": null,
   "metadata": {
    "deletable": false,
    "editable": false,
    "nbgrader": {
     "cell_type": "code",
     "checksum": "940d68cc255326106775e3ec42974246",
     "grade": true,
     "grade_id": "correct_q5",
     "locked": false,
     "points": 1,
     "schema_version": 3,
     "solution": false
    }
   },
   "outputs": [],
   "source": []
  },
  {
   "cell_type": "markdown",
   "metadata": {},
   "source": [
    "#### 6. Grouping Columns\n",
    "\n",
    "Within a line of code, group all data in the `patient_recovery_data` dataframe by the `gender` column, and then output the mean of the grouped data's `duration` to a variable entitled `mean_durations`"
   ]
  },
  {
   "cell_type": "code",
   "execution_count": null,
   "metadata": {
    "deletable": false,
    "nbgrader": {
     "cell_type": "code",
     "checksum": "2d0ce86bdf53e8935437a08f82be9dd6",
     "grade": false,
     "grade_id": "q6",
     "locked": false,
     "schema_version": 3,
     "solution": true
    }
   },
   "outputs": [],
   "source": [
    "\n",
    "# YOUR CODE HERE\n"
   ]
  },
  {
   "cell_type": "code",
   "execution_count": null,
   "metadata": {
    "deletable": false,
    "editable": false,
    "nbgrader": {
     "cell_type": "code",
     "checksum": "47e96e0739d7a39b69cec87efa0f992e",
     "grade": true,
     "grade_id": "correct_q6",
     "locked": false,
     "points": 1,
     "schema_version": 3,
     "solution": false
    }
   },
   "outputs": [],
   "source": []
  },
  {
   "cell_type": "markdown",
   "metadata": {},
   "source": [
    "#### 7. Visualisation Of Entries\n",
    "\n",
    "Within a line of code, using a bar graph visualisation function provided with the `pandas` module, plot the `days` column of all patients after the 320th index."
   ]
  },
  {
   "cell_type": "code",
   "execution_count": null,
   "metadata": {
    "deletable": false,
    "nbgrader": {
     "cell_type": "code",
     "checksum": "b9db3721b0ec4d48d1af72835e87c8fd",
     "grade": false,
     "grade_id": "q7",
     "locked": false,
     "schema_version": 3,
     "solution": true
    }
   },
   "outputs": [],
   "source": [
    "\n",
    "# YOUR CODE HERE\n"
   ]
  },
  {
   "cell_type": "code",
   "execution_count": null,
   "metadata": {
    "deletable": false,
    "editable": false,
    "nbgrader": {
     "cell_type": "code",
     "checksum": "62a5d75f2497cb86e0c9bf75d74c4ce2",
     "grade": true,
     "grade_id": "correct_q7",
     "locked": false,
     "points": 1,
     "schema_version": 3,
     "solution": false
    }
   },
   "outputs": [],
   "source": []
  },
  {
   "cell_type": "markdown",
   "metadata": {},
   "source": [
    "#### 8. Loading And Splitting Unstructured Text Data\n",
    "\n",
    "Provided with this test notebook is a file entitled `PartA_data2.txt`. Load the text into a variable entitled `raw_script`, and then split the data into a list variable entitled `script_lines`, using the `\\n` carriage as a delimiter. Then print out the length of the list."
   ]
  },
  {
   "cell_type": "code",
   "execution_count": null,
   "metadata": {
    "deletable": false,
    "nbgrader": {
     "cell_type": "code",
     "checksum": "3a0f7678366693c9f9304870f1d9c71b",
     "grade": false,
     "grade_id": "q8",
     "locked": false,
     "schema_version": 3,
     "solution": true
    }
   },
   "outputs": [],
   "source": [
    "\n",
    "# YOUR CODE HERE\n"
   ]
  },
  {
   "cell_type": "code",
   "execution_count": null,
   "metadata": {
    "deletable": false,
    "editable": false,
    "nbgrader": {
     "cell_type": "code",
     "checksum": "e6bd5982f26be76fdaebc31dfa52b3eb",
     "grade": true,
     "grade_id": "correct_q8",
     "locked": false,
     "points": 1,
     "schema_version": 3,
     "solution": false
    }
   },
   "outputs": [],
   "source": []
  },
  {
   "cell_type": "markdown",
   "metadata": {},
   "source": [
    "#### 9. Matching A REGEX Text Pattern\n",
    "\n",
    "Using the Python `re` module (Regex module), loop over the `raw_script` list, and find all lines that were spoken by Homer, storing them in a list entitled `homers_lines`. We also require that the regex pattern you use to extract these lines be stored in a variable entitled `regex_pattern`."
   ]
  },
  {
   "cell_type": "code",
   "execution_count": null,
   "metadata": {
    "deletable": false,
    "nbgrader": {
     "cell_type": "code",
     "checksum": "9cae00f18935873b5c1df1f990ad5676",
     "grade": false,
     "grade_id": "q9",
     "locked": false,
     "schema_version": 3,
     "solution": true
    }
   },
   "outputs": [],
   "source": [
    "\n",
    "# YOUR CODE HERE\n"
   ]
  },
  {
   "cell_type": "code",
   "execution_count": null,
   "metadata": {
    "deletable": false,
    "editable": false,
    "nbgrader": {
     "cell_type": "code",
     "checksum": "9faf158a1ec9f2e404a83f7b53c657f8",
     "grade": true,
     "grade_id": "correct_q9",
     "locked": false,
     "points": 1,
     "schema_version": 3,
     "solution": false
    }
   },
   "outputs": [],
   "source": []
  },
  {
   "cell_type": "markdown",
   "metadata": {},
   "source": [
    "#### 10. Rendering Text With HTML\n",
    "\n",
    "Consider the sentence \"The quick brown fox jumped over the lazy dog.\"; using HTML, render the whole sentence to output from the following code block of the Jupyter notebook, making the word `fox` appear the colour red."
   ]
  },
  {
   "cell_type": "code",
   "execution_count": null,
   "metadata": {
    "deletable": false,
    "nbgrader": {
     "cell_type": "code",
     "checksum": "0e1ffbb943819b42fd634501bdd040b9",
     "grade": false,
     "grade_id": "q10",
     "locked": false,
     "schema_version": 3,
     "solution": true
    }
   },
   "outputs": [],
   "source": [
    "\n",
    "# YOUR CODE HERE\n"
   ]
  },
  {
   "cell_type": "code",
   "execution_count": null,
   "metadata": {
    "deletable": false,
    "editable": false,
    "nbgrader": {
     "cell_type": "code",
     "checksum": "a83e483aeda6af16e05470595703db2b",
     "grade": true,
     "grade_id": "correct_q10",
     "locked": false,
     "points": 1,
     "schema_version": 3,
     "solution": false
    }
   },
   "outputs": [],
   "source": []
  },
  {
   "cell_type": "markdown",
   "metadata": {},
   "source": [
    "#### 11. Loading JSON From An API\n",
    "\n",
    "Using the Python `urllib` and `json` modules, load up recipes that contain the ingredient 'parsley' from the 'RecipePuppy' public API (found at http://www.recipepuppy.com/), storing the results in JSON format within a variable entitled `results_json`."
   ]
  },
  {
   "cell_type": "code",
   "execution_count": null,
   "metadata": {
    "deletable": false,
    "nbgrader": {
     "cell_type": "code",
     "checksum": "c73ccf3e3b079685fabe42607dedfb03",
     "grade": false,
     "grade_id": "q11",
     "locked": false,
     "schema_version": 3,
     "solution": true
    }
   },
   "outputs": [],
   "source": [
    "\n",
    "# YOUR CODE HERE\n"
   ]
  },
  {
   "cell_type": "code",
   "execution_count": null,
   "metadata": {
    "deletable": false,
    "editable": false,
    "nbgrader": {
     "cell_type": "code",
     "checksum": "8d2ea92f3ba6890eec5fb29c342c10d3",
     "grade": true,
     "grade_id": "correct_q11",
     "locked": false,
     "points": 1,
     "schema_version": 3,
     "solution": false
    }
   },
   "outputs": [],
   "source": []
  },
  {
   "cell_type": "markdown",
   "metadata": {},
   "source": [
    "#### 12. Extracting Information From JSON\n",
    "\n",
    "Using the previously defined variable `results_json`, loop over all returned results in the JSON, and for each result, print the title and ingredients of the recipe. Note that you must label the title and ingredients of each recipe with the following labels: \"Title\" and \"Ingredients\"."
   ]
  },
  {
   "cell_type": "code",
   "execution_count": null,
   "metadata": {
    "deletable": false,
    "nbgrader": {
     "cell_type": "code",
     "checksum": "7884e22378e9ada502bb0d5038c3795b",
     "grade": false,
     "grade_id": "q12",
     "locked": false,
     "schema_version": 3,
     "solution": true
    }
   },
   "outputs": [],
   "source": [
    "\n",
    "# YOUR CODE HERE\n"
   ]
  },
  {
   "cell_type": "code",
   "execution_count": null,
   "metadata": {
    "deletable": false,
    "editable": false,
    "nbgrader": {
     "cell_type": "code",
     "checksum": "e9748d189cdeb9f65068ded046b6597e",
     "grade": true,
     "grade_id": "correct_q12",
     "locked": false,
     "points": 1,
     "schema_version": 3,
     "solution": false
    }
   },
   "outputs": [],
   "source": []
  },
  {
   "cell_type": "markdown",
   "metadata": {},
   "source": [
    "### References\n",
    "\n",
    "- Mathematical Models Of Cognitive Recovery - Wong et al\n",
    "<i><br>Wong, Pauline P., Georges Monette, and Neil I. Weiner. \"Mathematical models of cognitive recovery.\" Brain injury 15.6 (2001): 519-530.</i>\n",
    "    \n",
    "- \"Homer's Enemy\" Script taken from \"Simpson's Crazy\"\n",
    "<i><br>Website: http://www.simpsoncrazy.com/scripts/homers-enemy - Last Accessed on 8th Of March 2020</i>"
   ]
  },
  {
   "cell_type": "code",
   "execution_count": null,
   "metadata": {},
   "outputs": [],
   "source": []
  }
 ],
 "metadata": {
  "kernelspec": {
   "display_name": "Python 3",
   "language": "python",
   "name": "python3"
  },
  "language_info": {
   "codemirror_mode": {
    "name": "ipython",
    "version": 3
   },
   "file_extension": ".py",
   "mimetype": "text/x-python",
   "name": "python",
   "nbconvert_exporter": "python",
   "pygments_lexer": "ipython3",
   "version": "3.7.6"
  }
 },
 "nbformat": 4,
 "nbformat_minor": 4
}
