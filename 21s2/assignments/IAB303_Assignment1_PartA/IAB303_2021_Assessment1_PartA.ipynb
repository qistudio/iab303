{
 "cells": [
  {
   "cell_type": "markdown",
   "metadata": {
    "nbgrader": {
     "grade": false,
     "grade_id": "cell-52d1c05618afd0f1",
     "locked": true,
     "schema_version": 3,
     "solution": false,
     "task": false
    }
   },
   "source": [
    "# IAB303 - 2021 - Assessment 1 - Part A\n",
    "\n",
    "Answer the questions below to demonstrate your understand of foundational techniques.\n",
    "\n",
    "You can run the *test* cells (after each answer cell) to check for simple errors.\n"
   ]
  },
  {
   "cell_type": "markdown",
   "metadata": {
    "nbgrader": {
     "grade": false,
     "grade_id": "q1",
     "locked": true,
     "schema_version": 3,
     "solution": false,
     "task": false
    }
   },
   "source": [
    "## 1. Read a CSV file\n",
    "\n",
    "After importing the required dataframes library as `pd`, read the contents of file `mountain_heights.csv` into a dataframe called `mountain_heights`. Use the mountain code for the index of the dataframe. Using a dataframe property, output the dataframe's rows and columns in the format `(rows,cols)`. \n",
    "\n",
    "**This solution requires 3 lines of code.**"
   ]
  },
  {
   "cell_type": "code",
   "execution_count": null,
   "metadata": {
    "nbgrader": {
     "grade": false,
     "grade_id": "q1-answer",
     "locked": false,
     "schema_version": 3,
     "solution": true,
     "task": false
    }
   },
   "outputs": [],
   "source": [
    "### BEGIN SOLUTION\n",
    "\n",
    "### END SOLUTION"
   ]
  },
  {
   "cell_type": "code",
   "execution_count": null,
   "metadata": {
    "nbgrader": {
     "grade": true,
     "grade_id": "q1-tests",
     "locked": true,
     "points": 1,
     "schema_version": 3,
     "solution": false,
     "task": false
    }
   },
   "outputs": [],
   "source": [
    "### RUN BASIC TESTS\n",
    "\"Check that the dataframe has been loaded and rows and columns output\"\n",
    "assert(type(mountain_heights)==type(pd.DataFrame()))\n",
    "assert(_==(10,4))"
   ]
  },
  {
   "cell_type": "markdown",
   "metadata": {
    "nbgrader": {
     "grade": false,
     "grade_id": "q2",
     "locked": true,
     "schema_version": 3,
     "solution": false,
     "task": false
    }
   },
   "source": [
    "## 2. Fix missing data\n",
    "\n",
    "Using a single line of code, assign the string `Antarctica` to the appropriate cell of the dataframe by using the index and column labels."
   ]
  },
  {
   "cell_type": "code",
   "execution_count": null,
   "metadata": {
    "nbgrader": {
     "grade": false,
     "grade_id": "q2-answer",
     "locked": false,
     "schema_version": 3,
     "solution": true,
     "task": false
    }
   },
   "outputs": [],
   "source": [
    "### BEGIN SOLUTION\n",
    "\n",
    "### END SOLUTION"
   ]
  },
  {
   "cell_type": "code",
   "execution_count": null,
   "metadata": {
    "nbgrader": {
     "grade": true,
     "grade_id": "q2-tests",
     "locked": true,
     "points": 1,
     "schema_version": 3,
     "solution": false,
     "task": false
    }
   },
   "outputs": [],
   "source": [
    "### RUN BASIC TESTS\n",
    "\"Check that there are no NaN cells\"\n",
    "assert(mountain_heights['Country'].isnull().values.any()==False)"
   ]
  },
  {
   "cell_type": "markdown",
   "metadata": {
    "nbgrader": {
     "grade": false,
     "grade_id": "q3",
     "locked": true,
     "schema_version": 3,
     "solution": false,
     "task": false
    }
   },
   "source": [
    "## 3. Finding significant data\n",
    "\n",
    "Find the mountains that are higher than the average height of all mountains in the data. Start by getting the mean and assigning it to a variable called `mean_height`. Using the format `df[c]>x` as the conditional for the rows, create a new dataframe called `highest_mountains` which have heights greater than the mean. Without using `print()`, display the value of mean_height in the output of the cell.\n",
    "\n",
    "**This solution requires 3 lines of code**\n"
   ]
  },
  {
   "cell_type": "code",
   "execution_count": null,
   "metadata": {
    "nbgrader": {
     "grade": false,
     "grade_id": "q3-answer",
     "locked": false,
     "schema_version": 3,
     "solution": true,
     "task": false
    }
   },
   "outputs": [],
   "source": [
    "### BEGIN SOLUTION\n",
    "\n",
    "### END SOLUTION"
   ]
  },
  {
   "cell_type": "code",
   "execution_count": null,
   "metadata": {
    "nbgrader": {
     "grade": true,
     "grade_id": "q3-tests",
     "locked": true,
     "points": 1,
     "schema_version": 3,
     "solution": false,
     "task": false
    }
   },
   "outputs": [],
   "source": [
    "### RUN BASIC TESTS\n",
    "\"Check highest_mountains shape, and output of cell\"\n",
    "assert(highest_mountains.shape==(3,4))\n",
    "assert(_==6060.9)"
   ]
  },
  {
   "cell_type": "markdown",
   "metadata": {
    "nbgrader": {
     "grade": false,
     "grade_id": "q4",
     "locked": true,
     "schema_version": 3,
     "solution": false,
     "task": false
    }
   },
   "source": [
    "## 4. Visualise\n",
    "\n",
    "First, sort the `mountain_heights` dataframe by height in descending order and assign the result to a dataframe called `mountains_sorted`. Use a single line of code.\n",
    "\n",
    "Then in a second single line of code, create a bar chart of the `mountains_sorted` dataframe. Assign the result of the plot to a variable called `mplot`, and include the following information:\n",
    "\n",
    "* Title: Mountain Heights\n",
    "* X Axis label: Mountain Code\n",
    "* Y Axis label: Height (m)\n"
   ]
  },
  {
   "cell_type": "code",
   "execution_count": null,
   "metadata": {
    "nbgrader": {
     "grade": false,
     "grade_id": "q4-answer",
     "locked": false,
     "schema_version": 3,
     "solution": true,
     "task": false
    }
   },
   "outputs": [],
   "source": [
    "### BEGIN SOLUTION\n",
    "\n",
    "### END SOLUTION"
   ]
  },
  {
   "cell_type": "code",
   "execution_count": null,
   "metadata": {
    "nbgrader": {
     "grade": true,
     "grade_id": "q4-tests",
     "locked": true,
     "points": 1,
     "schema_version": 3,
     "solution": false,
     "task": false
    }
   },
   "outputs": [],
   "source": [
    "### RUN BASIC TESTS\n",
    "\"Check mountains_sorted, and that a chart has been created\"\n",
    "assert(list(mountains_sorted.index) == ['EVR', 'ACG', 'DNL', 'LGN', 'KLM', 'CRC', 'ELB', 'ORZ', 'VNM', 'JAY'])\n",
    "assert(type(mplot).__name__=='AxesSubplot')"
   ]
  },
  {
   "cell_type": "markdown",
   "metadata": {
    "nbgrader": {
     "grade": false,
     "grade_id": "q5",
     "locked": true,
     "schema_version": 3,
     "solution": false,
     "task": false
    }
   },
   "source": [
    "## 5. Read a text file\n",
    "\n",
    "Using the format `with open('myfile','r') as file:`, read the contents of file `system.log` into a single string and assign it to a variable called `syslog`. Display the contents of the variable in the output of the cell."
   ]
  },
  {
   "cell_type": "code",
   "execution_count": null,
   "metadata": {
    "nbgrader": {
     "grade": false,
     "grade_id": "q5-answer",
     "locked": false,
     "schema_version": 3,
     "solution": true,
     "task": false
    }
   },
   "outputs": [],
   "source": [
    "### BEGIN SOLUTION\n",
    "\n",
    "### END SOLUTION"
   ]
  },
  {
   "cell_type": "code",
   "execution_count": null,
   "metadata": {
    "nbgrader": {
     "grade": true,
     "grade_id": "q5-tests",
     "locked": true,
     "points": 1,
     "schema_version": 3,
     "solution": false,
     "task": false
    }
   },
   "outputs": [],
   "source": [
    "### RUN BASIC TESTS\n",
    "\"Check reading using file\"\n",
    "import io\n",
    "assert(type(file)==type(io.TextIOWrapper(io.BytesIO())))\n",
    "\"Check read as string\"\n",
    "assert(type(syslog)==type(\"\"))"
   ]
  },
  {
   "cell_type": "markdown",
   "metadata": {
    "nbgrader": {
     "grade": false,
     "grade_id": "q6",
     "locked": true,
     "schema_version": 3,
     "solution": false,
     "task": false
    }
   },
   "source": [
    "## 6. Structure text\n",
    "\n",
    "Using the `syslog` string, create a list with each line being an element of the list. Ensure that lines do not include any newline characters. Assign the list to a variable called `sysloglist`. Iterate over this list and for each entry, create a list of date, time, code, and message. For example: `['2021-03-01','17:00:00','INFO','System startup complete']`. Add each created list to a new list called `syslogtable`. After iterating over `sysloglist`, the `syslogtable` should be a list of lists. Display this in the output of the cell."
   ]
  },
  {
   "cell_type": "code",
   "execution_count": null,
   "metadata": {
    "nbgrader": {
     "grade": false,
     "grade_id": "q6-answer",
     "locked": false,
     "schema_version": 3,
     "solution": true,
     "task": false
    }
   },
   "outputs": [],
   "source": [
    "### BEGIN SOLUTION\n",
    "\n",
    "### END SOLUTION"
   ]
  },
  {
   "cell_type": "code",
   "execution_count": null,
   "metadata": {
    "nbgrader": {
     "grade": true,
     "grade_id": "q6-tests",
     "locked": true,
     "points": 1,
     "schema_version": 3,
     "solution": false,
     "task": false
    }
   },
   "outputs": [],
   "source": [
    "### RUN BASIC TESTS\n",
    "\"check list created without newlines\"\n",
    "assert(len(sysloglist)==9)\n",
    "assert('\\n' not in sysloglist)\n",
    "\"check table displayed\"\n",
    "table = _\n",
    "assert(len(table)==9)\n",
    "assert(len(table[8])==4)"
   ]
  },
  {
   "cell_type": "markdown",
   "metadata": {
    "nbgrader": {
     "grade": false,
     "grade_id": "q7",
     "locked": true,
     "schema_version": 3,
     "solution": false,
     "task": false
    }
   },
   "source": [
    "## 7. Convert to JSON\n",
    "\n",
    "Create a list called `headings` with the strings `date`, `time`, `code`, and `message` corresponding to the values in the `syslogtable`. Get the 7th entry of syslog table and turn it into a dictionary with the headings as keys. Assign it to a variable called `syslogentry`. Hint: use the zip function `dict(zip(keys,values))`. Convert the dictionary to a JSON string using the `json` library. Call the result `jsonentry` and display in the output of the cell.\n"
   ]
  },
  {
   "cell_type": "code",
   "execution_count": null,
   "metadata": {
    "nbgrader": {
     "grade": false,
     "grade_id": "q7-answer",
     "locked": false,
     "schema_version": 3,
     "solution": true,
     "task": false
    }
   },
   "outputs": [],
   "source": [
    "### BEGIN SOLUTION\n",
    "\n",
    "### END SOLUTION"
   ]
  },
  {
   "cell_type": "code",
   "execution_count": null,
   "metadata": {
    "nbgrader": {
     "grade": true,
     "grade_id": "q7-tests",
     "locked": true,
     "points": 1,
     "schema_version": 3,
     "solution": false,
     "task": false
    }
   },
   "outputs": [],
   "source": [
    "### RUN BASIC TESTS\n",
    "\"Check headings, syslogentry and jsonentry\"\n",
    "assert(len(headings)==4)\n",
    "assert(type(syslogentry)==type({}))\n",
    "assert(type(jsonentry)==type(\"\"))"
   ]
  },
  {
   "cell_type": "markdown",
   "metadata": {
    "nbgrader": {
     "grade": false,
     "grade_id": "q8",
     "locked": true,
     "schema_version": 3,
     "solution": false,
     "task": false
    }
   },
   "source": [
    "## 8. Read a JSON file\n",
    "\n",
    "Using the `url` below and the `requests` library, get data from the server and read it into a dictionary called `jupyterdata`. Display in the output of this cell a string with the format `version: value` where `value` is the value in the dictionary corresponding to the key `version`."
   ]
  },
  {
   "cell_type": "code",
   "execution_count": null,
   "metadata": {
    "nbgrader": {
     "grade": false,
     "grade_id": "q8-answer",
     "locked": false,
     "schema_version": 3,
     "solution": true,
     "task": false
    }
   },
   "outputs": [],
   "source": [
    "url = \"https://jupyter-oncampus.qutanalytics.io/hub/api\"\n",
    "### BEGIN SOLUTION\n",
    "\n",
    "### END SOLUTION"
   ]
  },
  {
   "cell_type": "code",
   "execution_count": null,
   "metadata": {
    "nbgrader": {
     "grade": true,
     "grade_id": "q8-tests",
     "locked": true,
     "points": 1,
     "schema_version": 3,
     "solution": false,
     "task": false
    }
   },
   "outputs": [],
   "source": [
    "### RUN BASIC TESTS\n",
    "\"Check jupyterdata\"\n",
    "assert(type(jupyterdata)==type({}))"
   ]
  },
  {
   "cell_type": "markdown",
   "metadata": {
    "nbgrader": {
     "grade": false,
     "grade_id": "q9",
     "locked": true,
     "schema_version": 3,
     "solution": false,
     "task": false
    }
   },
   "source": [
    "## 9. Create a function\n",
    "\n",
    "Create a function called `get_json()` that when passed a URL, returns a dictionary created from the resulting JSON retrieved from that URL. For the purposes of this task, the function should work the url from question 8. Run the function to output the version of this server."
   ]
  },
  {
   "cell_type": "code",
   "execution_count": null,
   "metadata": {
    "nbgrader": {
     "grade": false,
     "grade_id": "q9-answer",
     "locked": false,
     "schema_version": 3,
     "solution": true,
     "task": false
    }
   },
   "outputs": [],
   "source": [
    "### BEGIN SOLUTION\n",
    "\n",
    "### END SOLUTION"
   ]
  },
  {
   "cell_type": "code",
   "execution_count": null,
   "metadata": {
    "nbgrader": {
     "grade": true,
     "grade_id": "q9-tests",
     "locked": true,
     "points": 1,
     "schema_version": 3,
     "solution": false,
     "task": false
    }
   },
   "outputs": [],
   "source": [
    "### RUN BASIC TESTS\n",
    "\"Check function returns value from url\"\n",
    "assert(get_json(url)['version']=='1.4.2')"
   ]
  },
  {
   "cell_type": "markdown",
   "metadata": {
    "nbgrader": {
     "grade": false,
     "grade_id": "q10",
     "locked": true,
     "schema_version": 3,
     "solution": false,
     "task": false
    }
   },
   "source": [
    "## 10. Save JSON to file\n",
    "\n",
    "Create a modified version of your `get_json()` function to save the resulting JSON data to a file called `output.json`. Call the function `save_json()` (Note: It should accept the URL as before)."
   ]
  },
  {
   "cell_type": "code",
   "execution_count": null,
   "metadata": {
    "nbgrader": {
     "grade": false,
     "grade_id": "q10-answer",
     "locked": false,
     "schema_version": 3,
     "solution": true,
     "task": false
    }
   },
   "outputs": [],
   "source": [
    "### BEGIN SOLUTION\n",
    "\n",
    "### END SOLUTION"
   ]
  },
  {
   "cell_type": "code",
   "execution_count": null,
   "metadata": {
    "nbgrader": {
     "grade": true,
     "grade_id": "q10-tests",
     "locked": true,
     "points": 1,
     "schema_version": 3,
     "solution": false,
     "task": false
    }
   },
   "outputs": [],
   "source": [
    "### RUN BASIC TESTS\n",
    "\"Check function, and that file is created after running\"\n",
    "assert(callable(save_json))\n",
    "import os.path\n",
    "save_json(url)\n",
    "assert(os.path.isfile('output.json'))\n",
    "with open('output.json','r') as checkfile:\n",
    "    check = json.loads(checkfile.read())\n",
    "assert(check=={'version': '1.4.2'})"
   ]
  }
 ],
 "metadata": {
  "celltoolbar": "Create Assignment",
  "kernelspec": {
   "display_name": "Python 3",
   "language": "python",
   "name": "python3"
  },
  "language_info": {
   "codemirror_mode": {
    "name": "ipython",
    "version": 3
   },
   "file_extension": ".py",
   "mimetype": "text/x-python",
   "name": "python",
   "nbconvert_exporter": "python",
   "pygments_lexer": "ipython3",
   "version": "3.7.6"
  }
 },
 "nbformat": 4,
 "nbformat_minor": 5
}
