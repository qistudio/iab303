{
 "cells": [
  {
   "cell_type": "markdown",
   "metadata": {},
   "source": [
    "<div class=\"alert alert-block alert-info\"><b>IAB303</b> - Data Analytics for Business Insight</div>"
   ]
  },
  {
   "cell_type": "markdown",
   "metadata": {},
   "source": [
    "# Module 2 - Data structures"
   ]
  },
  {
   "cell_type": "markdown",
   "metadata": {},
   "source": [
    "### Why consider structure in data?"
   ]
  },
  {
   "cell_type": "markdown",
   "metadata": {},
   "source": [
    "Structure in data helps us make meaning from that data and to be consistent and precise in using it.\n",
    "\n",
    "When data is structured, then we can program computational systems to compute using that data as long as the data adheres to the defined structure."
   ]
  },
  {
   "cell_type": "markdown",
   "metadata": {},
   "source": [
    "### Structured data\n",
    "\n",
    "For example, the idea of a spreadsheet allows us to make infer relationships between the cells based on rows and columns. This was possible with even the very first spreadsheets.\n",
    "\n",
    "<a title=\"By User:Gortu (apple2history.org) [Public domain], via Wikimedia Commons\" href=\"https://commons.wikimedia.org/wiki/File%3AVisicalc.png\"><img width=\"512\" alt=\"Visicalc\" src=\"https://upload.wikimedia.org/wikipedia/commons/7/7a/Visicalc.png\"/></a>\n",
    "\n",
    "*By User:Gortu (apple2history.org) \\[Public domain\\], via Wikimedia Commons*\n"
   ]
  },
  {
   "cell_type": "markdown",
   "metadata": {},
   "source": [
    "Even in this very simple example, we can make sense of this data, and because of the structure, the computer can work with the data, like calculating the costs for each row, calculating a subtotal, the tax, and the total. If the data in this spreadsheet was unstructured (for example written on a piece of paper), the computer would not be able to work with it."
   ]
  },
  {
   "cell_type": "markdown",
   "metadata": {},
   "source": [
    "Most structured data today is found in relational datatabase management systems (RDBMS), or commonly just refered to as databases. The structure is one of tables (like a spreadsheet) and relationships between them, but relating particular fields or columns in one table with those in another.\n",
    "\n",
    "<a data-flickr-embed=\"true\"  href=\"https://www.flickr.com/photos/14804582@N08/2111269218\" title=\"database schema\"><img src=\"https://farm3.staticflickr.com/2129/2111269218_950cf23a03_b.jpg\" width=\"1024\" height=\"953\" alt=\"database schema\"></a><script async src=\"//embedr.flickr.com/assets/client-code.js\" charset=\"utf-8\"></script>\n"
   ]
  },
  {
   "cell_type": "markdown",
   "metadata": {},
   "source": [
    "But these are not the only kinds of data structuring. Structured data is basically when the organisation of the data is pre-defined so that certain data is associated with certain labels.\n",
    "\n",
    "<p><a href=\"https://commons.wikimedia.org/wiki/File:Database_models.jpg#/media/File:Database_models.jpg\"><img src=\"https://upload.wikimedia.org/wikipedia/commons/thumb/3/3b/Database_models.jpg/1200px-Database_models.jpg\" alt=\"Database models.jpg\"></a><br>By <a href=\"//commons.wikimedia.org/wiki/User:Mdd\" title=\"User:Mdd\">Marcel Douwe Dekker</a> - <span class=\"int-own-work\" lang=\"en\">Own work</span>, <a href=\"https://creativecommons.org/licenses/by-sa/3.0\" title=\"Creative Commons Attribution-Share Alike 3.0\">CC BY-SA 3.0</a>, <a href=\"https://commons.wikimedia.org/w/index.php?curid=5679857\">Link</a></p>"
   ]
  },
  {
   "cell_type": "markdown",
   "metadata": {},
   "source": [
    "### Working with structured data\n",
    "\n",
    "We will work with structured data by mostly reading it from a file into a dataframe. One of the most common files for holding structured tabular data is the comma separated value (CSV) file. A spreadsheet table or a database table can be saved as a CSV file, which we can then import into a pandas dataframe. If you'd like more information on Pandas, try the [10 minutes to pandas](https://pandas.pydata.org/docs/getting_started/10min.html) tutorial.\n",
    "\n",
    "For the following example, we're going to use open data from [data.gov.au](https://data.gov.au) for [2016 SoE Biodiversity Cumulative historical extinctions of Australian mammal species](https://data.gov.au/data/dataset/2016-soe-biodiversity-cumulative-number-of-extinct-mammal-species). If you're interested, you can read about the data in [Terrestrial plant and animal species: Mammals](https://soe.environment.gov.au/theme/biodiversity/topic/2016/terrestrial-plant-and-animal-species-mammals#biodiversity-figure-BIO19)"
   ]
  },
  {
   "cell_type": "code",
   "execution_count": null,
   "metadata": {
    "scrolled": true
   },
   "outputs": [],
   "source": [
    "# To use pandas, we need to import it (normally as 'pd')\n",
    "import pandas as pd\n",
    "\n",
    "# We can then open a CSV file into a new dataframe\n",
    "url = \"https://data.gov.au/dataset/c02731e8-5327-4720-bbc7-1fe67350a569/resource/8339c2b4-c763-4c50-a647-63935537453c/download/cumulative-number-of-extinct-mammal-species.csv\"\n",
    "df = pd.read_csv(url,index_col=\"Decade\")\n",
    "\n",
    "# view the dataframe\n",
    "df"
   ]
  },
  {
   "cell_type": "code",
   "execution_count": null,
   "metadata": {},
   "outputs": [],
   "source": [
    "# We can save our dataframe to use later\n",
    "\n",
    "df.to_csv('data/extinct_aus_mammals.csv')\n"
   ]
  },
  {
   "cell_type": "code",
   "execution_count": null,
   "metadata": {
    "scrolled": true
   },
   "outputs": [],
   "source": [
    "# The saved version can be loaded in the same way as the original URL\n",
    "\n",
    "df2 = pd.read_csv('data/extinct_aus_mammals.csv',index_col=\"Decade\")\n",
    "df2"
   ]
  },
  {
   "cell_type": "markdown",
   "metadata": {},
   "source": [
    "### Unstructured data\n",
    "\n",
    "Humans can make meaning from data without necessarily having pre-defined structure. In fact we frequently use very ill-defined structures to organise and communicate our thinking. We are also adept at creating these kinds of structures as required, in the moment, rather than requiring the data be structured before we can make sense of it.\n",
    "\n",
    "<p><a href=\"https://commons.wikimedia.org/wiki/File:Coggle_Document.png#/media/File:Coggle_Document.png\"><img src=\"https://upload.wikimedia.org/wikipedia/commons/1/19/Coggle_Document.png\" alt=\"Coggle Document.png\"></a><br>By <a href=\"https://en.wikipedia.org/wiki/User:Lurched95\" class=\"extiw\" title=\"en:User:Lurched95\">User:Lurched95</a>, <a href=\"https://creativecommons.org/licenses/by-sa/3.0\" title=\"Creative Commons Attribution-Share Alike 3.0\">CC BY-SA 3.0</a>, <a href=\"https://commons.wikimedia.org/w/index.php?curid=33923406\">Link</a></p>\n"
   ]
  },
  {
   "cell_type": "markdown",
   "metadata": {},
   "source": [
    "Computers are not so adept, so complex in the moment sense-making tasks on unstructured data are often easy for humans but very challenging for computers.\n",
    "\n",
    "<img src=\"https://static.boredpanda.com/blog/wp-content/uploads/2016/03/dog-food-comparison-bagel-muffin-lookalike-teenybiscuit-karen-zack-5__700.jpg\">\n",
    "\n",
    "[Puppies or Food (boredpanda.com March 2016)](https://www.boredpanda.com/dog-food-comparison-bagel-muffin-lookalike-teenybiscuit-karen-zack/)"
   ]
  },
  {
   "cell_type": "markdown",
   "metadata": {},
   "source": [
    "### Kinds of structuring of data\n",
    "\n",
    "In order for us to perform data analysis on unstructured data, we will usually need to do some structuring of it, and this frequently results in semi-structured data. \n",
    "\n",
    "The 3 different kinds of structuring can be summarised as:\n",
    "\n",
    "* **Structured** $\\Rightarrow$ when the structure is pre-defined\n",
    "* **Structured** $\\Rightarrow$ is almost synonymous with 'stored in a RDMS', but can also exist in other software\n",
    "* **Unstructured** $\\leadsto$ when there is no pre-defined structure, or can't easily be conformed to a structure\n",
    "* **Unstructured** $\\leadsto$ commonly raw text, but also images, video, audio\n",
    "* **Unstructured** $\\leadsto$ can appear to have some kind of structure, but often that appearence is derived from our understanding, not from the data itself\n",
    "* **Semi-structured** $\\rightarrow$ the data can be stored in defined structure, but the actual instance of the structure is not predefined"
   ]
  },
  {
   "cell_type": "markdown",
   "metadata": {},
   "source": [
    "### Semi-structured data\n",
    "\n",
    "Semi-structured data is a lot more prevalent than structured data, but the computational tools are not as mature as structured data tools. Most semi-structured data tools have come about with the advent of the internet and then social media."
   ]
  },
  {
   "cell_type": "markdown",
   "metadata": {},
   "source": [
    "### Working with semi-structured data\n",
    "\n",
    "We will work with semi-structured data mostly by (a) creating it from plain text which is read from a file, or (b) importing the data from a JSON file.\n",
    "\n",
    "JSON is a way of labelling data, but without requiring all data to be the same or without requiring the structure to be fixed in advance.\n",
    "\n",
    "\n"
   ]
  },
  {
   "cell_type": "markdown",
   "metadata": {},
   "source": [
    "#### Reading plain text files"
   ]
  },
  {
   "cell_type": "code",
   "execution_count": null,
   "metadata": {},
   "outputs": [],
   "source": [
    "# Read in a plain text file\n",
    "with open('data/simple_text_file.txt', 'r') as file:\n",
    "    text = file.read()"
   ]
  },
  {
   "cell_type": "code",
   "execution_count": null,
   "metadata": {},
   "outputs": [],
   "source": [
    "# Show the string that was read from the file\n",
    "text"
   ]
  },
  {
   "cell_type": "code",
   "execution_count": null,
   "metadata": {},
   "outputs": [],
   "source": [
    "# We can read the text in a semi-structured format by taking advantage of the lines in the file\n",
    "with open('data/simple_text_file.txt', 'r') as file:\n",
    "    text_lines = file.readlines()"
   ]
  },
  {
   "cell_type": "code",
   "execution_count": null,
   "metadata": {},
   "outputs": [],
   "source": [
    "# Show the list that was read from the file\n",
    "text_lines"
   ]
  },
  {
   "cell_type": "code",
   "execution_count": null,
   "metadata": {},
   "outputs": [],
   "source": [
    "# We can also create the list, by splitting the original string\n",
    "lines = text.split('\\n')\n",
    "\n",
    "# view the list\n",
    "lines"
   ]
  },
  {
   "cell_type": "markdown",
   "metadata": {},
   "source": [
    "#### Reading JSON"
   ]
  },
  {
   "cell_type": "code",
   "execution_count": null,
   "metadata": {},
   "outputs": [],
   "source": [
    "# We need the JSON library\n",
    "import json\n",
    "\n",
    "# Read a JSON file like text, but with conversion to python dictionary\n",
    "with open('data/simple_json_file.json', 'r') as file:\n",
    "    json_data = json.load(file)"
   ]
  },
  {
   "cell_type": "code",
   "execution_count": null,
   "metadata": {},
   "outputs": [],
   "source": [
    "# View the json data\n",
    "json_data"
   ]
  },
  {
   "cell_type": "code",
   "execution_count": null,
   "metadata": {},
   "outputs": [],
   "source": [
    "# You can also load json data from a URL\n",
    "import requests\n",
    "\n",
    "# We can load data about the CSV on extinct mammals that we loaded above\n",
    "mammal_url = \"https://data.gov.au/api/3/action/package_show?id=c02731e8-5327-4720-bbc7-1fe67350a569\"\n",
    "content = requests.get(mammal_url)\n",
    "mammal_data = json.loads(content.content)"
   ]
  },
  {
   "cell_type": "code",
   "execution_count": null,
   "metadata": {
    "scrolled": true
   },
   "outputs": [],
   "source": [
    "# view the result\n",
    "mammal_data"
   ]
  },
  {
   "cell_type": "code",
   "execution_count": null,
   "metadata": {},
   "outputs": [],
   "source": [
    "# since the result is a dictionary, we can the value for one particular key\n",
    "mammal_data[\"result\"][\"notes\"]"
   ]
  },
  {
   "cell_type": "code",
   "execution_count": null,
   "metadata": {},
   "outputs": [],
   "source": [
    "# we can take this data and structure it further\n",
    "\n",
    "notes = mammal_data[\"result\"][\"notes\"]\n",
    "struct_notes = notes.split('\\r\\n')\n",
    "for note in struct_notes:\n",
    "    print(note)"
   ]
  },
  {
   "cell_type": "code",
   "execution_count": null,
   "metadata": {},
   "outputs": [],
   "source": []
  }
 ],
 "metadata": {
  "kernelspec": {
   "display_name": "Python 3",
   "language": "python",
   "name": "python3"
  },
  "language_info": {
   "codemirror_mode": {
    "name": "ipython",
    "version": 3
   },
   "file_extension": ".py",
   "mimetype": "text/x-python",
   "name": "python",
   "nbconvert_exporter": "python",
   "pygments_lexer": "ipython3",
   "version": "3.7.6"
  }
 },
 "nbformat": 4,
 "nbformat_minor": 4
}
