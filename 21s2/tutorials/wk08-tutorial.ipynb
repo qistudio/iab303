{
 "cells": [
  {
   "cell_type": "markdown",
   "id": "322091cd-3081-44f8-a614-2a5d40ada383",
   "metadata": {},
   "source": [
    "<div class=\"alert alert-block alert-info\"><b>IAB303</b> - Data Analytics for Business Insight</div>"
   ]
  },
  {
   "cell_type": "markdown",
   "id": "dfd5a9ec-c9d7-4b78-aa80-7113cf6e228f",
   "metadata": {},
   "source": [
    "## A Business Intelligence Scenario\n",
    "\n",
    "As a market analyst working for a tourism agency, your boss has approached you with a client in need of a recommendation regarding the top tourist destinations of 2018.\n",
    "\n",
    "While this may sound easy, in hopes that it will improve their tourism experience, the client has also requested that places that are more innovative be prioritised in the recommendation."
   ]
  },
  {
   "cell_type": "markdown",
   "id": "17b1753f-d02c-4fb2-a395-852b7f5dce3c",
   "metadata": {},
   "source": [
    "Fortunately for this task, the top tourist destinations of 2018 are stored on the following URL:"
   ]
  },
  {
   "cell_type": "code",
   "execution_count": null,
   "id": "5191cb26-0eb8-44ef-afb0-bbe48f966ce8",
   "metadata": {},
   "outputs": [],
   "source": [
    "top_tourism_destinations = 'https://en.wikipedia.org/wiki/World_Tourism_rankings'"
   ]
  },
  {
   "cell_type": "code",
   "execution_count": null,
   "id": "180789dc-d024-46c8-8f38-03719d2334c5",
   "metadata": {},
   "outputs": [],
   "source": [
    "from bs4 import BeautifulSoup\n",
    "import urllib.request\n",
    "\n",
    "def get_HTML(url):\n",
    "    response = urllib.request.urlopen(???)\n",
    "    html = response.read()\n",
    "    return ???"
   ]
  },
  {
   "cell_type": "markdown",
   "id": "8394f19e-67a0-47a2-b307-20f15a4f103c",
   "metadata": {},
   "source": [
    "Using the Developer Tools, identify things that could be used to isolate the names of the countries in the table, in the section entitled \"Most visited destinations by international tourist arrivals\". \n",
    "\n",
    "For this task, the details have been given, however, the code that retrieves the values is only half completed:"
   ]
  },
  {
   "cell_type": "markdown",
   "id": "2185c6cd-b963-4107-8d9e-a1a91152263d",
   "metadata": {},
   "source": [
    "Details:\n",
    "     * A 'span' element contains a 'h2' element with the title of the target 'table' inside it.\n",
    "     * A 'table' element proceeds the 'span' element.\n",
    "     * There are 'td' elements inside the 'table' element.\n",
    "     * Each 'td' element has an attribute of 'align' with the value 'left'.\n",
    "     * In each 'td' element, there is an 'a' element with the name of a given country inside it."
   ]
  },
  {
   "cell_type": "code",
   "execution_count": null,
   "id": "b8107a70-dbd3-4f77-87d3-7e92f046e18e",
   "metadata": {},
   "outputs": [],
   "source": [
    "top_tourist_locations = []\n",
    "\n",
    "Tourism_Wiki_HTML = get_HTML(???)\n",
    "soup = BeautifulSoup(???, \"html.parser\")\n",
    "span_element = soup.find(text=???)\n",
    "h2_element = span_element.parent\n",
    "table_element = h2_element.findNext(???) # a parent tag\n",
    "for td_element in table_element.findAll(???,attrs={'align':'left'}): # a tag with specific attributes\n",
    "    a_element = td_element.find(???) # the tag we are looking for\n",
    "    if a_element != None:\n",
    "        top_tourist_locations.append(a_element.text)\n",
    "\n",
    "# If you enter the missing code, this will return a list of names of the top tourist destinations for 2018.\n",
    "top_tourist_locations"
   ]
  },
  {
   "cell_type": "markdown",
   "id": "a6b63169-a2aa-487d-8135-6647ec883a40",
   "metadata": {},
   "source": [
    "Knowing that the client is also looking for places that have higher innovation, what could we use from a single country's Wikipedia page to determine this quality?\n",
    "\n",
    "Going back to 'https://en.wikipedia.org/wiki/Australia', the HDI of the country will give a good indication of this; so how do we describe the HDI?\n",
    "\n",
    "Once again, here are some details to help:\n",
    "\n",
    "   * The text 'HDI' is in an 'a' element.\n",
    "   * The 'a' element is in a 'th' element.\n",
    "   * The 'th' is proceeded by a 'td' element.\n",
    "   * The 'td' element contains an 'img' element.\n",
    "   * Next to the 'img' element is the HDI value.\n",
    "\n",
    "The code that retrieves the HDI from a country's Wikipedia page is included in the following method, but it is incomplete:"
   ]
  },
  {
   "cell_type": "code",
   "execution_count": null,
   "id": "10c4cc42-256d-44c1-8753-346f6371974b",
   "metadata": {},
   "outputs": [],
   "source": [
    "def get_country_HDI(html):\n",
    "    soup = BeautifulSoup(html, ???)\n",
    "    a_element = soup.find('a',text=???)\n",
    "    th_element = a_element.parent\n",
    "    td_element = th_element.findNext(???)\n",
    "    HDI_value = td_element.find(???).findNextSibling(text=True)\n",
    "    HDI_year = a_element.findNext(\"span\")\n",
    "    return HDI_value.strip() + \" \" + HDI_year.text\n",
    "\n",
    "# If you enter the missing code, this function will produce the value '0.901'\n",
    "France_Wiki_HTML = get_HTML('https://en.wikipedia.org/wiki/France')\n",
    "get_country_HDI(France_Wiki_HTML)"
   ]
  },
  {
   "cell_type": "markdown",
   "id": "c3af5b2a-152a-4fe1-80ad-685cedba0ff8",
   "metadata": {},
   "source": [
    "Now all we have to do to get the HDI of each country is to substitute each country's name into the Wikipedia country's URL, and to feed the returned HTML into the 'get_country_HDI' method:"
   ]
  },
  {
   "cell_type": "code",
   "execution_count": null,
   "id": "862bc744-9b1a-41af-a067-12012923bb70",
   "metadata": {},
   "outputs": [],
   "source": [
    "for i in range(0, len(top_tourist_locations)):\n",
    "    print(\"Country: \"+top_tourist_locations[i])\n",
    "    print(\"Ranking: \"+str(i+1))\n",
    "    print(\"HDI: \"+get_country_HDI(\n",
    "        get_HTML('https://en.wikipedia.org/wiki/'+top_tourist_locations[i].replace(' ','%20'))\n",
    "    ))\n",
    "    print('\\n')"
   ]
  },
  {
   "cell_type": "markdown",
   "id": "455f80f3-bc15-4a85-b39e-0c9bd2d10634",
   "metadata": {},
   "source": [
    "Comparing rankings and HDIs, what would you state in your recommendation:"
   ]
  },
  {
   "cell_type": "markdown",
   "id": "9b820aaf-0ca4-449e-a1c1-9775f27e059b",
   "metadata": {},
   "source": [
    "### Searching the best destations for the recommended countries (Homework)"
   ]
  },
  {
   "cell_type": "markdown",
   "id": "24c15924-387e-49cb-8a04-edbbdeb212aa",
   "metadata": {},
   "source": [
    "Your boss was impressed with the analysis you provided. Now, he asked you to provide a list of the top destinations in each country according to [Lonely Planet](\"https://www.lonelyplanet.com/\")"
   ]
  }
 ],
 "metadata": {
  "kernelspec": {
   "display_name": "Python 3 (ipykernel)",
   "language": "python",
   "name": "python3"
  },
  "language_info": {
   "codemirror_mode": {
    "name": "ipython",
    "version": 3
   },
   "file_extension": ".py",
   "mimetype": "text/x-python",
   "name": "python",
   "nbconvert_exporter": "python",
   "pygments_lexer": "ipython3",
   "version": "3.9.5"
  }
 },
 "nbformat": 4,
 "nbformat_minor": 5
}
