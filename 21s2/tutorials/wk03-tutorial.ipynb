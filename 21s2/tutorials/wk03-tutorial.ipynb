{
 "cells": [
  {
   "cell_type": "markdown",
   "metadata": {},
   "source": [
    "<div class=\"alert alert-block alert-info\"><b>IAB303</b> - Data Analytics for Business Insight</div>"
   ]
  },
  {
   "cell_type": "markdown",
   "metadata": {},
   "source": [
    "# Internal concerns, structured data & open data\n",
    "\n",
    "In this session we focus on the internal concerns of businesses, look at how structured data is important for addressing these concerns, and also take a look at how open data can be valuable for addressing internal concerns.\n",
    "\n",
    "---"
   ]
  },
  {
   "cell_type": "markdown",
   "metadata": {},
   "source": [
    "### QDAVI\n",
    "\n",
    "When addressing business concerns, our interest is much more than just the data analytics. We are interested in what is *appropriate, efficous, ethical ...* --  what is the ***right*** kind of analytics to help provide the ***right*** kind of insights for business. To provide some structure to our approach, we follow a cycle - **QDAVI** - to address a business concern:\n",
    "\n",
    "1. **Q**uestion\n",
    "2. **D**ata\n",
    "3. **A**nalysis\n",
    "4. **V**isualisation\n",
    "5. **I**nsight\n",
    "\n",
    "<img src=\"../studios/graphics/QDAVI_cycle_sm.png\" width=\"50%\" />"
   ]
  },
  {
   "cell_type": "markdown",
   "metadata": {},
   "source": [
    "### Internal business concerns\n",
    "\n",
    "Review business concerns\n",
    "\n",
    "What are internal business concerns?"
   ]
  },
  {
   "cell_type": "markdown",
   "metadata": {},
   "source": [
    "### Structured data\n",
    "\n",
    "With structured data, the structure is defined in advance and the data that populates the structure is consistent.\n",
    "\n",
    "Typically, structured data is in a tabular format with rows and columns:\n",
    "\n",
    "* Columns normally represent fields or properties that are consistent across the whole of the data e.g. postcode or phone number\n",
    "* Each row is a separate record in the data e.g. each customer has their own row in a customers table \n",
    "\n",
    "Often structured data is saved in `CSV` file format on the file system and we read it into a `pandas` `dataframe`. Review the video and notebook for **Structured Data** for an introduction on how to load and save.\n"
   ]
  },
  {
   "cell_type": "markdown",
   "metadata": {},
   "source": [
    "---\n",
    "### Exercise 1 - workplace safety\n",
    "\n",
    "**BUSINESS CONCERN:**\n",
    "\n",
    "Workplace safety can have a significant impact on business success. Not only do accidents and injury cost time and money, but a safe healthy environment can contribute to a positive culture which in turn can improve employee wellbeing and lift productivity and efficacy.\n",
    "\n",
    "https://www.comcare.gov.au/safe-healthy-work/healthy-workplace/benefits"
   ]
  },
  {
   "cell_type": "markdown",
   "metadata": {},
   "source": [
    "#### Question:\n",
    "\n",
    "How incident costs could be reduced?\n",
    "\n",
    "#### DATA"
   ]
  },
  {
   "cell_type": "code",
   "execution_count": null,
   "metadata": {
    "scrolled": true
   },
   "outputs": [],
   "source": [
    "# Sample data from https://www.contextures.com/xlsampledata01.html#morefiles\n",
    "\n",
    "# To use pandas, we need to import it (normally as 'pd')\n",
    "import pandas as pd\n",
    "\n",
    "# We can then open a CSV file into a new dataframe\n",
    "safety_file_path =  # Write the path where the sampledatasafety.csv file can be found\n",
    "safety_df = pd.read_csv(safety_file_path)\n",
    "\n",
    "# view the dataframe\n",
    "safety_df"
   ]
  },
  {
   "cell_type": "code",
   "execution_count": null,
   "metadata": {},
   "outputs": [],
   "source": [
    "# This are the data types in the data frame\n",
    "safety_df.dtypes"
   ]
  },
  {
   "cell_type": "code",
   "execution_count": null,
   "metadata": {},
   "outputs": [],
   "source": [
    "# Convert the Incident Cost to float\n",
    "safety_df[\"Incident Cost\"] = safety_df[\"Incident Cost\"].str.replace(\"$\",\"\",regex=True).str.replace(\",\",\"\",regex=True).astype(float)\n",
    "safety_df"
   ]
  },
  {
   "cell_type": "code",
   "execution_count": null,
   "metadata": {},
   "outputs": [],
   "source": [
    "# Check the data types in the data frame again\n",
    "safety_df.dtypes"
   ]
  },
  {
   "cell_type": "markdown",
   "metadata": {},
   "source": [
    "#### Analysis:\n",
    "\n",
    "There are usually a number of ways of doing a single an analysis task. We will use a few different techniques over the notebook to get familiar with what is possible.\n",
    "\n",
    "Let's start by checking the incident types, by counting the number of rows for each."
   ]
  },
  {
   "cell_type": "code",
   "execution_count": null,
   "metadata": {},
   "outputs": [],
   "source": [
    "# First how many incidents are in the database?\n",
    "incident_count = len(safety_df)\n",
    "incident_count"
   ]
  },
  {
   "cell_type": "code",
   "execution_count": null,
   "metadata": {},
   "outputs": [],
   "source": [
    "# How much all the incidents cost?\n",
    "incident_cost = safety_df[\" \"].sum() # Insert the column we want to calculate\n",
    "incident_cost"
   ]
  },
  {
   "cell_type": "code",
   "execution_count": null,
   "metadata": {},
   "outputs": [],
   "source": [
    "# We can group by the incident type to check the ocurrance of each of them\n",
    "incident_type_group = safety_df.groupby([\" \"]) # Insert the column we want to group by\n",
    "incident_type_group.count()"
   ]
  },
  {
   "cell_type": "code",
   "execution_count": null,
   "metadata": {},
   "outputs": [],
   "source": [
    "# We can check the details on the incident types that occur the most\n",
    "burn_df = safety_df[safety_df[\" \"] == \" \"] # Complete the condition to find the Burn incident type\n",
    "burn_df"
   ]
  },
  {
   "cell_type": "code",
   "execution_count": null,
   "metadata": {},
   "outputs": [],
   "source": [
    "# How much does it cost the incident that occurs the most\n",
    "burn_cost =  # Calculate the total cost of the Burn incident\n",
    "burn_cost"
   ]
  },
  {
   "cell_type": "code",
   "execution_count": null,
   "metadata": {},
   "outputs": [],
   "source": [
    "# Burn cost output as percentage\n",
    "print(\"Burn incidents are {:.2%} of the total incidents\".format(len(burn_df) / len(safety_df)))\n",
    "print(\"Burn incidents are {:.2%} of the total costs\".format(burn_cost / incident_cost))"
   ]
  },
  {
   "cell_type": "markdown",
   "metadata": {},
   "source": [
    "We could do the same analysis with each of the incident types. However, there is a fastes way to get the results we want"
   ]
  },
  {
   "cell_type": "code",
   "execution_count": null,
   "metadata": {},
   "outputs": [],
   "source": [
    "# Iterate the incident type groupby\n",
    "incident_type_df = pd.DataFrame(columns = [\"Incident Type\", \"Incident Count\", \"Incident Count %\", \"Incident Cost\", \"Incident Cost %\"])\n",
    "for incident_type, group in incident_type_group:\n",
    "    incident_type_df = incident_type_df.append({\"Incident Type\": incident_type, \n",
    "                                                \"Incident Count\": len(group), \n",
    "                                                \"Incident Count %\": len(group) / len(safety_df) * 100, \n",
    "                                                \"Incident Cost\": group[\"Incident Cost\"].sum(),\n",
    "                                                \"Incident Cost %\": group[\"Incident Cost\"].sum() / incident_cost * 100}, ignore_index=True)\n",
    "    print(\"{0} incidents are {1:.2%} of the total incidents\".format(incident_type, len(group) / len(safety_df)))\n",
    "    print(\"{0} incidents are {1:.2%} of the total costs\".format(incident_type, group[\"Incident Cost\"].sum() / incident_cost))\n",
    "    print(\"-----------------------------------------------------------------\")"
   ]
  },
  {
   "cell_type": "code",
   "execution_count": null,
   "metadata": {},
   "outputs": [],
   "source": [
    "# We can do a similar analysis to check if factors such as shift or the plant has an impact on the incident costs\n"
   ]
  },
  {
   "cell_type": "markdown",
   "metadata": {},
   "source": [
    "Based on this, where should we focus our training to have more impact? age group? department? plant?"
   ]
  },
  {
   "cell_type": "markdown",
   "metadata": {},
   "source": [
    "#### Visualisation:"
   ]
  },
  {
   "cell_type": "code",
   "execution_count": null,
   "metadata": {},
   "outputs": [],
   "source": [
    "incident_type_group[\"Incident Cost\"].count().plot(kind='bar')"
   ]
  },
  {
   "cell_type": "code",
   "execution_count": null,
   "metadata": {},
   "outputs": [],
   "source": [
    "incident_type_group[\"Incident Cost\"].sum().plot(kind='bar')"
   ]
  },
  {
   "cell_type": "code",
   "execution_count": null,
   "metadata": {},
   "outputs": [],
   "source": [
    "incident_type_df = incident_type_df.set_index(\"Incident Type\")\n",
    "incident_type_df[[\"Incident Count %\", \"Incident Cost %\"]].plot(kind='bar')"
   ]
  },
  {
   "cell_type": "code",
   "execution_count": null,
   "metadata": {},
   "outputs": [],
   "source": [
    "incident_type_df[[\"Incident Count %\", \"Incident Cost %\"]].sort_values(by=\"Incident Cost %\", ascending=False).plot(kind=\"bar\")"
   ]
  },
  {
   "cell_type": "markdown",
   "metadata": {},
   "source": [
    "### Insights:"
   ]
  },
  {
   "cell_type": "code",
   "execution_count": null,
   "metadata": {},
   "outputs": [],
   "source": []
  },
  {
   "cell_type": "markdown",
   "metadata": {},
   "source": [
    "---\n",
    "### Exercise 2 - customer contact info\n",
    "\n",
    "\n",
    "**BUSINESS CONCERN:**\n",
    "\n",
    "Arguably the most critical data for a business is data about their customers. Understanding their customers is critical for almost all business decisions including sales, product development, logistics, and even human resources.\n",
    "\n",
    "https://www.business.qld.gov.au/starting-business/planning/market-customer-research/researching-customers/customer-needs"
   ]
  },
  {
   "cell_type": "markdown",
   "metadata": {},
   "source": [
    "#### Question:\n",
    "\n",
    "The company is trying to expand, which state/territory do we need to look at carefully in terms of viability?\n",
    "\n",
    "#### Data:"
   ]
  },
  {
   "cell_type": "code",
   "execution_count": null,
   "metadata": {
    "scrolled": true
   },
   "outputs": [],
   "source": [
    "# Sample data from https://www.briandunning.com/sample-data/\n",
    "customer_file_path = \"../../studios/data/au-500.csv\" # Write the path where the au-500.csv file can be found\n",
    "customer_df = pd.read_csv(customer_file_path)\n",
    "\n",
    "# view the dataframe\n",
    "customer_df"
   ]
  },
  {
   "cell_type": "markdown",
   "metadata": {},
   "source": [
    "#### Analysis:\n",
    "\n",
    "There are usually a number of ways of doing a single an analysis task.\n",
    "\n",
    "Let's start by deciding the aim of the analysis, do we want to find where are more customers to take advantage of the company prescense? or should we find where are less customers to create prescense?"
   ]
  },
  {
   "cell_type": "code",
   "execution_count": null,
   "metadata": {
    "scrolled": true
   },
   "outputs": [],
   "source": [
    "# Where are our customers located? Which state? Post code?\n",
    "state_df = customer_df.groupby([\"state\"]).count()\n",
    "state_df"
   ]
  },
  {
   "cell_type": "code",
   "execution_count": null,
   "metadata": {},
   "outputs": [],
   "source": [
    "# There are more customers in NSW, now where should the company open?\n",
    "nsw_df = customer_df[ ] # Insert the condition to find NSW state\n",
    "nsw_df"
   ]
  },
  {
   "cell_type": "code",
   "execution_count": null,
   "metadata": {
    "scrolled": true
   },
   "outputs": [],
   "source": [
    "# Let's check the cities in NSW\n",
    "nsw_city_df =  # Group the nsw_df by city and count\n",
    "nsw_city_df"
   ]
  },
  {
   "cell_type": "code",
   "execution_count": null,
   "metadata": {},
   "outputs": [],
   "source": [
    "# More than 2 customers in a city?\n",
    "nsw_city_df[ ] # Insert the condition to find more than 1 customer"
   ]
  },
  {
   "cell_type": "markdown",
   "metadata": {},
   "source": [
    "The city data is not quite as helpful as the postal data, but perhaps we need a wider geographic area. Let's use the postcode construction to get a wider net:"
   ]
  },
  {
   "cell_type": "code",
   "execution_count": null,
   "metadata": {},
   "outputs": [],
   "source": [
    "# Modify postcodes to get first 2 digits\n",
    "code = 4051\n",
    "int(code/100)"
   ]
  },
  {
   "cell_type": "code",
   "execution_count": null,
   "metadata": {
    "scrolled": true
   },
   "outputs": [],
   "source": [
    "# Apply this to dataframe\n",
    "def getArea(code):\n",
    "    return int(code/100)\n",
    "\n",
    "customer_df['area'] = customer_df['post'].apply(getArea)\n",
    "customer_df"
   ]
  },
  {
   "cell_type": "code",
   "execution_count": null,
   "metadata": {
    "scrolled": true
   },
   "outputs": [],
   "source": [
    "# Group by new area column\n",
    "nsw_area = customer_df[customer_df[\"state\"] == \"NSW\"].groupby(['area'])[\"company_name\"].count()\n",
    "nsw_area"
   ]
  },
  {
   "cell_type": "code",
   "execution_count": null,
   "metadata": {},
   "outputs": [],
   "source": [
    "# We can do a similar analysis to explore the states/territories that have less customers\n"
   ]
  },
  {
   "cell_type": "markdown",
   "metadata": {},
   "source": [
    "##### Visualisation:"
   ]
  },
  {
   "cell_type": "code",
   "execution_count": null,
   "metadata": {},
   "outputs": [],
   "source": [
    "nsw_area.sort_values(ascending=False).plot(kind='bar')"
   ]
  },
  {
   "cell_type": "markdown",
   "metadata": {},
   "source": [
    "#### Insights:\n",
    "\n",
    "https://www.abs.gov.au/websitedbs/censushome.nsf/home/factsheetspoa?opendocument&navpos=450\n"
   ]
  },
  {
   "cell_type": "code",
   "execution_count": null,
   "metadata": {},
   "outputs": [],
   "source": []
  },
  {
   "cell_type": "markdown",
   "metadata": {},
   "source": [
    "---\n",
    "### Open data\n",
    "\n",
    "Businesses are increasingly waking up to the value of using open data - data provided openly by governments and other organisations. Government data is particularly important for many businesses as can provide high level information that might be difficult to a smaller business to obtain.\n",
    "\n",
    "https://data.gov.au\n"
   ]
  },
  {
   "cell_type": "markdown",
   "metadata": {},
   "source": [
    "---\n",
    "### Exercise 3 - market size (Homework)\n",
    "\n",
    "\n",
    "\n",
    "**BUSINESS CONCERN:**\n",
    "\n",
    "Expanding a business is risky and expensive, particular if the expansion involves exporting to other countries. It is essential to have a good understanding of potential markets and the degree of competition in those markets. Our market is Made-up textile and the data file has been already been filtered to contain only those rows.\n",
    "\n",
    "https://export.business.gov.au/find-export-markets/tips-for-choosing-export-markets\n"
   ]
  },
  {
   "cell_type": "markdown",
   "metadata": {},
   "source": [
    "#### Question:\n",
    "\n",
    "Which countries provide the largest and least contributions to imports in our sector? How might this inform our marketing?\n",
    "\n",
    "#### Data:"
   ]
  },
  {
   "cell_type": "code",
   "execution_count": null,
   "metadata": {
    "scrolled": true
   },
   "outputs": [],
   "source": [
    "# Sample data from https://data.gov.au/data/dataset/australia-s-merchandise-trade-by-state-territory-by-country-sitc-to-fy2017\n",
    "\n",
    "# We can then open a CSV file into a new dataframe\n",
    "trade_file_path = \"../../studios/data/trade_data-fy2017-658.csv\" # Write the path where the trade_data-fy2017-658.csv file can be found\n",
    "trade_df = pd.read_csv(trade_file_path)\n",
    "\n",
    "# view the dataframe\n",
    "trade_df"
   ]
  },
  {
   "cell_type": "markdown",
   "metadata": {},
   "source": [
    "#### Analysis:"
   ]
  },
  {
   "cell_type": "code",
   "execution_count": null,
   "metadata": {},
   "outputs": [],
   "source": [
    "# What is the export value in various geographic levels?"
   ]
  },
  {
   "cell_type": "code",
   "execution_count": null,
   "metadata": {},
   "outputs": [],
   "source": [
    "# Which states are exporting the most into the biggest markets?"
   ]
  },
  {
   "cell_type": "code",
   "execution_count": null,
   "metadata": {},
   "outputs": [],
   "source": []
  },
  {
   "cell_type": "markdown",
   "metadata": {},
   "source": [
    "#### Visualisation:"
   ]
  },
  {
   "cell_type": "code",
   "execution_count": null,
   "metadata": {},
   "outputs": [],
   "source": []
  },
  {
   "cell_type": "markdown",
   "metadata": {},
   "source": [
    "#### Insights:"
   ]
  },
  {
   "cell_type": "code",
   "execution_count": null,
   "metadata": {},
   "outputs": [],
   "source": []
  }
 ],
 "metadata": {
  "kernelspec": {
   "display_name": "Python 3 (ipykernel)",
   "language": "python",
   "name": "python3"
  },
  "language_info": {
   "codemirror_mode": {
    "name": "ipython",
    "version": 3
   },
   "file_extension": ".py",
   "mimetype": "text/x-python",
   "name": "python",
   "nbconvert_exporter": "python",
   "pygments_lexer": "ipython3",
   "version": "3.9.5"
  }
 },
 "nbformat": 4,
 "nbformat_minor": 4
}
