{
 "cells": [
  {
   "cell_type": "markdown",
   "metadata": {
    "slideshow": {
     "slide_type": "slide"
    }
   },
   "source": [
    "<div class=\"alert alert-block alert-info\"><b>IAB303</b> - Data Analytics for Business Insight</div>"
   ]
  },
  {
   "cell_type": "markdown",
   "metadata": {
    "slideshow": {
     "slide_type": "-"
    }
   },
   "source": [
    "# Module 5 - Introduction to TOWS\n"
   ]
  },
  {
   "cell_type": "markdown",
   "metadata": {
    "slideshow": {
     "slide_type": "slide"
    }
   },
   "source": [
    "### Why?\n",
    "\n",
    "* Data Analytics is NOT the ultimate objective!\n",
    "* Data Analytics SHOULD support business and organisational planning\n",
    "* Data Analytics SHOULD support business strategy to achieve their objectives\n"
   ]
  },
  {
   "cell_type": "markdown",
   "metadata": {
    "slideshow": {
     "slide_type": "subslide"
    }
   },
   "source": [
    "#### Business and organisational planning\n",
    "\n",
    "* [Business Model Canvas](https://miro.com/app/board/o9J_k0A8-0U=/?fromEmbed=1)\n"
   ]
  },
  {
   "cell_type": "markdown",
   "metadata": {
    "slideshow": {
     "slide_type": "subslide"
    }
   },
   "source": [
    "#### Business Strategy\n",
    "\n",
    "* [Our Favorite Business Strategy Frameworks](https://www.smestrategy.net/blog/business-strategy-frameworks-for-strategic-planning)\n",
    "    - Porter's 5 Forces\n",
    "    - PESTLE\n",
    "    - Value Chain Analysis\n",
    "    - Balanced Score Card\n",
    "    - SWOT"
   ]
  },
  {
   "cell_type": "markdown",
   "metadata": {
    "slideshow": {
     "slide_type": "slide"
    }
   },
   "source": [
    "### TOWS\n",
    "\n",
    "The same areas as SWOT (Strengths, Weaknesses, Opportunities, Threats), but with actions..."
   ]
  },
  {
   "cell_type": "code",
   "execution_count": 3,
   "metadata": {
    "slideshow": {
     "slide_type": "subslide"
    }
   },
   "outputs": [
    {
     "data": {
      "text/html": [
       "\n",
       "        <iframe\n",
       "            width=\"560\"\n",
       "            height=\"315\"\n",
       "            src=\"https://www.youtube.com/embed/UySPb3bACQY\"\n",
       "            frameborder=\"0\"\n",
       "            allowfullscreen\n",
       "        ></iframe>\n",
       "        "
      ],
      "text/plain": [
       "<IPython.lib.display.IFrame at 0x7f564026a490>"
      ]
     },
     "execution_count": 3,
     "metadata": {},
     "output_type": "execute_result"
    }
   ],
   "source": [
    "from IPython.display import IFrame \n",
    "IFrame('https://www.youtube.com/embed/UySPb3bACQY',width=560,height=315)"
   ]
  },
  {
   "cell_type": "markdown",
   "metadata": {
    "slideshow": {
     "slide_type": "slide"
    }
   },
   "source": [
    "### TOWS with the Data Analytics Cycle\n",
    "\n",
    "* What business concerns are related to each of the 4 areas?\n",
    "    - Strengths\n",
    "    - Weaknesses\n",
    "    - Opportunities\n",
    "    - Threats\n"
   ]
  },
  {
   "cell_type": "markdown",
   "metadata": {
    "slideshow": {
     "slide_type": "subslide"
    }
   },
   "source": [
    "#### DA and Internal [S,W]\n",
    "\n",
    "* How might a Data Analytics cycle focusing on *internal* data be able to help with strengths and weaknesses?\n",
    "* What kind of data, analysis, visualisations would be useful for this cycle?\n",
    "* What insights would we expect?"
   ]
  },
  {
   "cell_type": "markdown",
   "metadata": {
    "slideshow": {
     "slide_type": "subslide"
    }
   },
   "source": [
    "#### DA and External [O,P]\n",
    "\n",
    "* How might a Data Analytics cycle focusing on *external* data be able to help with opportunities and threats?\n",
    "* What kind of data, analysis, visualisations would be useful for this cycle?\n",
    "* What insights would we expect?"
   ]
  },
  {
   "cell_type": "markdown",
   "metadata": {
    "slideshow": {
     "slide_type": "subslide"
    }
   },
   "source": [
    "#### DA insights and TOWS\n",
    "\n",
    "* How do we bring the internal DA together with the external DA?\n",
    "    - Focus on insights\n",
    "    - Ideas for action from combined insights\n",
    "        * Strengths and Opportunities (SO)\n",
    "        * Weaknesses and Opportunities (WO)\n",
    "        * Strengths and Threats (ST)\n",
    "        * Weaknesses and Threats (WT)\n",
    "\n",
    "* What does the DA tell us about potential strategy for the business?\n"
   ]
  },
  {
   "cell_type": "markdown",
   "metadata": {
    "slideshow": {
     "slide_type": "slide"
    }
   },
   "source": [
    "## Coming Up\n",
    "\n",
    "#### This week...\n",
    "\n",
    "- Tutorials: Using the Twitter API to access twitter social media data\n",
    "- Assignment 3 - released later in the week\n",
    "\n",
    "#### Next week...\n",
    "\n",
    "- Studio: External Data Analytics - Opportunities and Threats\n",
    "- Tutorials: Web scraping for external information\n"
   ]
  },
  {
   "cell_type": "markdown",
   "metadata": {
    "slideshow": {
     "slide_type": "slide"
    }
   },
   "source": [
    "# Q&A"
   ]
  }
 ],
 "metadata": {
  "celltoolbar": "Slideshow",
  "kernelspec": {
   "display_name": "Python 3",
   "language": "python",
   "name": "python3"
  },
  "language_info": {
   "codemirror_mode": {
    "name": "ipython",
    "version": 3
   },
   "file_extension": ".py",
   "mimetype": "text/x-python",
   "name": "python",
   "nbconvert_exporter": "python",
   "pygments_lexer": "ipython3",
   "version": "3.7.6"
  }
 },
 "nbformat": 4,
 "nbformat_minor": 4
}
