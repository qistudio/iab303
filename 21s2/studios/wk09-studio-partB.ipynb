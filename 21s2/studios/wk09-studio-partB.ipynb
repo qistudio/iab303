{
 "cells": [
  {
   "cell_type": "markdown",
   "metadata": {},
   "source": [
    "<div class=\"alert alert-block alert-info\"><b>IAB303</b> - Data Analytics for Business Insight</div>"
   ]
  },
  {
   "cell_type": "markdown",
   "metadata": {},
   "source": [
    "# STUDIO :: News API\n",
    "\n",
    "[The Guardian](https://www.theguardian.com/au) is a quality **open** News outlet with an easy to use [open-platform API](https://open-platform.theguardian.com).\n",
    "\n",
    "* Explore and experiment with the [platform here](https://open-platform.theguardian.com/explore/)\n",
    "* Get your own [developer API key here](https://bonobo.capi.gutools.co.uk/register/developer)\n",
    "\n",
    "For this example, I've save my key at the beginning of a file called `guardian_key.txt`. I load the key before anything else..."
   ]
  },
  {
   "cell_type": "code",
   "execution_count": null,
   "metadata": {},
   "outputs": [],
   "source": [
    "#load key\n",
    "with open('data/guardian_key.txt', 'r') as file:\n",
    "    key = file.read().strip()\n",
    "len(key) # check key loaded by reading its length - don't want to display the actual key!!"
   ]
  },
  {
   "cell_type": "markdown",
   "metadata": {},
   "source": [
    "To use the API, we need the `requests` library to connect to it, and the `json` library to be able to work with the json data that the API returns."
   ]
  },
  {
   "cell_type": "code",
   "execution_count": null,
   "metadata": {},
   "outputs": [],
   "source": [
    "#import required libraries\n",
    "import requests\n",
    "import json"
   ]
  },
  {
   "cell_type": "markdown",
   "metadata": {},
   "source": [
    "The Guardian API is called through a single URL which needs to be composed according to your search requirements."
   ]
  },
  {
   "cell_type": "code",
   "execution_count": null,
   "metadata": {},
   "outputs": [],
   "source": [
    " #build a search URL\n",
    "baseUrl = 'https://content.guardianapis.com/search?q=' # content search\n",
    "\n",
    "searchString = \"submarine\"\n",
    "office = \"&production-office=aus\"\n",
    "tag = \"&tag=politics/politics\"\n",
    "fromDate = \"&fromDate=2021-09-01\"\n",
    "\n",
    "url = baseUrl+'\"'+searchString+'\"'+office+fromDate\n",
    "print(url)"
   ]
  },
  {
   "cell_type": "markdown",
   "metadata": {},
   "source": [
    "Now that we have the URL that we want to use for our search, we add our api-key to the end of it and send the request to the server."
   ]
  },
  {
   "cell_type": "code",
   "execution_count": null,
   "metadata": {},
   "outputs": [],
   "source": [
    "# get data from server\n",
    "urlkey = url +'&api-key='+key # add my API key to the end of the URL\n",
    "response = requests.get(urlkey)"
   ]
  },
  {
   "cell_type": "markdown",
   "metadata": {},
   "source": [
    "We're hoping for a `200` response from the server to say that everything was OK. If you get a different number response, then there was probably an issue with your URL."
   ]
  },
  {
   "cell_type": "code",
   "execution_count": null,
   "metadata": {},
   "outputs": [],
   "source": [
    "response"
   ]
  },
  {
   "cell_type": "markdown",
   "metadata": {},
   "source": [
    "We can look at the content of the response - which should be in json format if your request was successful."
   ]
  },
  {
   "cell_type": "code",
   "execution_count": null,
   "metadata": {
    "scrolled": true,
    "tags": []
   },
   "outputs": [],
   "source": [
    "response.content"
   ]
  },
  {
   "cell_type": "markdown",
   "metadata": {},
   "source": [
    "Load the json from the content into a variable (as a dictionary) that we can navigate in python."
   ]
  },
  {
   "cell_type": "code",
   "execution_count": null,
   "metadata": {
    "scrolled": true,
    "tags": []
   },
   "outputs": [],
   "source": [
    "data = json.loads(response.content)\n",
    "data"
   ]
  },
  {
   "cell_type": "code",
   "execution_count": null,
   "metadata": {
    "scrolled": true,
    "tags": []
   },
   "outputs": [],
   "source": [
    "results = data['response']['results']\n",
    "results"
   ]
  },
  {
   "cell_type": "markdown",
   "metadata": {},
   "source": [
    "Once we have our results, it could be helpful to get a list of the titles. Then we could do unstructed data analytics on the titles to see if they contain specific words or phrases of interest."
   ]
  },
  {
   "cell_type": "code",
   "execution_count": null,
   "metadata": {},
   "outputs": [],
   "source": [
    "titles = []\n",
    "for result in results:\n",
    "    titles.append(result['webTitle'])"
   ]
  },
  {
   "cell_type": "code",
   "execution_count": null,
   "metadata": {},
   "outputs": [],
   "source": [
    "titles"
   ]
  },
  {
   "cell_type": "markdown",
   "metadata": {},
   "source": [
    "### Go further with web scraping\n",
    "\n",
    "Once we have a title of interest, we could extract the webURL and then scrape the webpage for the main story"
   ]
  },
  {
   "cell_type": "code",
   "execution_count": null,
   "metadata": {},
   "outputs": [],
   "source": [
    "webUrl1 = results[0]['webUrl']\n",
    "webUrl1"
   ]
  },
  {
   "cell_type": "code",
   "execution_count": null,
   "metadata": {},
   "outputs": [],
   "source": [
    "from bs4 import BeautifulSoup\n",
    "\n",
    "def get_HTML(url):\n",
    "    response = requests.get(url)\n",
    "    html = response.content\n",
    "    return html"
   ]
  },
  {
   "cell_type": "code",
   "execution_count": null,
   "metadata": {
    "jupyter": {
     "source_hidden": true
    },
    "scrolled": true
   },
   "outputs": [],
   "source": [
    "page = get_HTML(webUrl1)\n",
    "page"
   ]
  },
  {
   "cell_type": "markdown",
   "metadata": {},
   "source": [
    "#### The main story\n",
    "\n",
    "Find the main story within the page. Thankfully the guardian uses an `id` tag to identify this content."
   ]
  },
  {
   "cell_type": "code",
   "execution_count": null,
   "metadata": {
    "scrolled": true
   },
   "outputs": [],
   "source": [
    "soup = BeautifulSoup(page,\"html.parser\")\n",
    "main_content = soup.find(\"div\", {\"id\": \"maincontent\"})\n",
    "main_content"
   ]
  },
  {
   "cell_type": "markdown",
   "metadata": {},
   "source": [
    "#### Just the text\n",
    "\n",
    "Extract the text from the page without the HTML tags"
   ]
  },
  {
   "cell_type": "code",
   "execution_count": null,
   "metadata": {},
   "outputs": [],
   "source": [
    "' '.join([s.strip() for s in main_content.stripped_strings])"
   ]
  },
  {
   "cell_type": "markdown",
   "metadata": {},
   "source": [
    "---\n",
    "### Make it easier to explore"
   ]
  },
  {
   "cell_type": "code",
   "execution_count": null,
   "metadata": {},
   "outputs": [],
   "source": [
    "# a function to build the URL\n",
    "\n",
    "def buildUrl(search_text,office=\"\",tag=\"\",fromDate=\"\"):\n",
    "    baseUrl = 'https://content.guardianapis.com/search?q='\n",
    "    # Only include office, tag and fromDate  if they have values\n",
    "    if office:\n",
    "        office = '&production-office='+office\n",
    "    if tag:\n",
    "        tag = '&tag='+tag\n",
    "    if fromDate:\n",
    "        fromDate = '&fromDate='+fromDate\n",
    "    fullurl =  baseUrl+'\"'+search_text+'\"'+office+tag+fromDate\n",
    "    print(fullurl)\n",
    "    return fullurl"
   ]
  },
  {
   "cell_type": "code",
   "execution_count": null,
   "metadata": {},
   "outputs": [],
   "source": [
    "# create a function to make it easier\n",
    "def getData(url,key):\n",
    "    response = requests.get(url+'&api-key='+key)\n",
    "    data = json.loads(response.content)\n",
    "    if data['response']['status']=='ok':\n",
    "        total = data['response']['total']\n",
    "        pages = data['response']['pages']\n",
    "        print(\"Found a total of {} records, returning first of {} pages.\".format(total,pages))\n",
    "        print(\"-------------------------------------------------------\")\n",
    "    else:\n",
    "        print(\"ERROR:\")\n",
    "        print(response)\n",
    "    return data"
   ]
  },
  {
   "cell_type": "code",
   "execution_count": null,
   "metadata": {},
   "outputs": [],
   "source": [
    "buildUrl(\"submarine\")"
   ]
  },
  {
   "cell_type": "code",
   "execution_count": null,
   "metadata": {
    "scrolled": true
   },
   "outputs": [],
   "source": [
    "getData(buildUrl(\"submarine\"),key)"
   ]
  },
  {
   "cell_type": "code",
   "execution_count": null,
   "metadata": {
    "scrolled": true
   },
   "outputs": [],
   "source": [
    "getData(buildUrl(\"submarine\",\"aus\",\"\",\"2021-09-01\"),key)"
   ]
  }
 ],
 "metadata": {
  "kernelspec": {
   "display_name": "Python 3",
   "language": "python",
   "name": "python3"
  },
  "language_info": {
   "codemirror_mode": {
    "name": "ipython",
    "version": 3
   },
   "file_extension": ".py",
   "mimetype": "text/x-python",
   "name": "python",
   "nbconvert_exporter": "python",
   "pygments_lexer": "ipython3",
   "version": "3.7.6"
  }
 },
 "nbformat": 4,
 "nbformat_minor": 5
}
