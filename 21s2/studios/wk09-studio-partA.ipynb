{
 "cells": [
  {
   "cell_type": "markdown",
   "metadata": {
    "slideshow": {
     "slide_type": "slide"
    }
   },
   "source": [
    "<div class=\"alert alert-block alert-info\"><b>IAB303</b> - Data Analytics for Business Insight</div>"
   ]
  },
  {
   "cell_type": "markdown",
   "metadata": {},
   "source": [
    "# STUDIO :: Forecasting\n",
    "\n",
    "Forecasting is the process of making predictions of the future based on past and present data and most commonly by analysis of trends. By identifying trends, decisions can take into account possible future outcomes, which if prove correct might give a business a strategic advantage."
   ]
  },
  {
   "cell_type": "markdown",
   "metadata": {
    "slideshow": {
     "slide_type": "slide"
    }
   },
   "source": [
    "**Predictive Analytics** has been traditionally viewed as one of 3 types of analytics (usually analytics based on numerical data):\n",
    "\n",
    "1. **Descriptive analytics**\n",
    "    - Interpretation of historical data to better understand changes that have happened in a business. \n",
    "    - Describes the past using a range of data to draw comparisons\n",
    "    - Usually consists in reports such as year-over-year pricing changes, month-over-month sales growth, the number of users, or the total revenues\n",
    "    - Performance metrics can be used to flag areas of **strength** and **weakness** in order to inform management’s strategy.\n",
    "    \n",
    "    \n",
    "    \n",
    "    "
   ]
  },
  {
   "cell_type": "markdown",
   "metadata": {
    "slideshow": {
     "slide_type": "slide"
    }
   },
   "source": [
    "2. **Predictive analytics**\n",
    "    - Used to make **predictions** about unknown future events.\n",
    "    - Describes the use of statistics and modeling to determine **future performance** based on current and historical data.\n",
    "    - Looks at **patterns** in data to determine if those patterns are likely to emerge again, which allows businesses and investors to **adjust** where they use their **resources** in order to take **advantage** of possible future events.\n",
    "    - Example:  marketers look at how consumers have reacted to the overall economy when planning on a new campaign, and can use shifts in demographics to determine if the current mix of products will attract consumers to make a purchase.\n",
    "   "
   ]
  },
  {
   "cell_type": "markdown",
   "metadata": {
    "slideshow": {
     "slide_type": "slide"
    }
   },
   "source": [
    "3. **Prescriptive analytics**\n",
    "  - Uses technology to help businesses make better decisions about how to handle specific situations by factoring in knowledge of possible situations, available resources, past performance and what is currently happening. \n",
    "  - Uses statistics and modeling to determine future performance based on current and historical data — to improve business decisions despite uncertainty and changing conditions, and to help companies determine what action to take.\n",
    "  - Can help prevent fraud, limit risk, increase efficiency, meet business goals and create more loyal customers. "
   ]
  },
  {
   "cell_type": "markdown",
   "metadata": {},
   "source": [
    "<img src=\"https://upload.wikimedia.org/wikipedia/commons/c/c7/Three_Phases_of_Analytics.png\" />\n",
    "  "
   ]
  },
  {
   "cell_type": "markdown",
   "metadata": {
    "slideshow": {
     "slide_type": "slide"
    }
   },
   "source": [
    "### Predictive Anaytics: Forecasting"
   ]
  },
  {
   "cell_type": "markdown",
   "metadata": {
    "slideshow": {
     "slide_type": "fragment"
    }
   },
   "source": [
    "Forecasting is the process of making predictions of the future based on past and present data and most commonly by analysis of trends\n",
    "\n",
    "<img src=\"https://i2.cdn.turner.com/money/2012/01/02/markets/stock_market_outlook_survey/chart-sp500-stock-outlook.top.gif\" />"
   ]
  },
  {
   "cell_type": "markdown",
   "metadata": {},
   "source": [
    "**Strengths**\n",
    "*  Forces a company to think about how it intends to monitor and track sales beyond the current period\n",
    "* Adjust the business strategy based on its prediction for sales growth\n",
    "* If a seasonal pattern in sales is noticed, one can hire or reduce staff accordingly\n",
    "* Track sales per item and use this information to focus stronger selling products and services."
   ]
  },
  {
   "cell_type": "markdown",
   "metadata": {},
   "source": [
    "**Weaknesses**\n",
    "* Limited data mitigates the effectiveness of putting together a sales forecast.\n",
    "* Past sales results are not always indicative of future sales results (very important)!\n",
    "* Sales forecasting uses some form of projection about future demand interpreted through consumer preferences, opinions and attitudes.\n",
    "* Consumer demand is a moving target, which makes hard future projections"
   ]
  },
  {
   "cell_type": "markdown",
   "metadata": {
    "slideshow": {
     "slide_type": "slide"
    }
   },
   "source": [
    "### Things to take into consideration in Forecasting:"
   ]
  },
  {
   "cell_type": "markdown",
   "metadata": {},
   "source": [
    "* Variation - seasonal data (e.g. Winter, Summer, Autumn, Spring, Easter, Holidays, Christmas, etc)\n",
    "* Forecast period - the longer that we try to forecast, the higher the errors (always go for short term forecasting)"
   ]
  },
  {
   "cell_type": "markdown",
   "metadata": {
    "slideshow": {
     "slide_type": "slide"
    }
   },
   "source": [
    "## Forecasting with FaceBook Prophet\n",
    "\n",
    "We will use the FaceBook Prophet library to do some basic forecasting on example data."
   ]
  },
  {
   "cell_type": "markdown",
   "metadata": {},
   "source": [
    "#### Import libraries"
   ]
  },
  {
   "cell_type": "code",
   "execution_count": null,
   "metadata": {
    "ExecuteTime": {
     "end_time": "2020-09-20T17:52:17.577267Z",
     "start_time": "2020-09-20T17:52:17.573753Z"
    }
   },
   "outputs": [],
   "source": [
    "import pandas as pd\n",
    "import matplotlib.pyplot as plt\n",
    "from datetime import datetime \n",
    "\n",
    "# Forecasting libraries\n",
    "from statsmodels.tsa.seasonal import seasonal_decompose\n",
    "from prophet import Prophet"
   ]
  },
  {
   "cell_type": "code",
   "execution_count": null,
   "metadata": {
    "ExecuteTime": {
     "end_time": "2020-09-20T18:34:28.076121Z",
     "start_time": "2020-09-20T18:34:28.029264Z"
    }
   },
   "outputs": [],
   "source": [
    "# load dataset - example sales data from https://www.kaggle.com/kyanyoga/sample-sales-data/version/1\n",
    "# file = 'data/sales_train.csv'\n",
    "# df = pd.read_csv( file )\n",
    "#\n",
    "# This dataset is 2.9M rows long and is about 90MB\n",
    "# We've created a smaller version for this exercise\n",
    "# Only 29k rows - 1.2M\n",
    "# This is the code we used to do it.\n",
    "#\n",
    "# df_small = df.sample(frac=0.01, replace=False, random_state=1)\n",
    "# df_small.to_csv(\"data/sales_train_small.csv\")\n",
    "# df_small\n",
    "#"
   ]
  },
  {
   "cell_type": "markdown",
   "metadata": {},
   "source": [
    "For the purposes of this exercise, we don't need the original full dataset. \n",
    "\n",
    "Also note that we are not doing this as a machine learning exercise, but as a business analytics exercise, so we will only use the training data. If you wish to check accuracy of the model and try additional algorithms, you will need to download the test data as well."
   ]
  },
  {
   "cell_type": "code",
   "execution_count": null,
   "metadata": {},
   "outputs": [],
   "source": [
    "# load small dataset - example sales data from https://www.kaggle.com/kyanyoga/sample-sales-data/version/1\n",
    "file = 'data/sales_train_small.csv'\n",
    "df = pd.read_csv( file )\n",
    "df"
   ]
  },
  {
   "cell_type": "code",
   "execution_count": null,
   "metadata": {},
   "outputs": [],
   "source": [
    "# get the time period of this dataset\n",
    "\n",
    "print( 'The data ranges from ' + str(df['date'].min()) + ' to ' + str(df['date'].max())  )"
   ]
  },
  {
   "cell_type": "markdown",
   "metadata": {},
   "source": [
    "So this date range looks like a problem as the last row in the dataframe is `15.03.2103`. These values are probably not in date format, so `min()` and `max()` will be treating the dates as text!"
   ]
  },
  {
   "cell_type": "code",
   "execution_count": null,
   "metadata": {},
   "outputs": [],
   "source": [
    "# Fix dates\n",
    "df['date'] = pd.to_datetime(df.date,format='%d.%m.%Y')\n",
    "df['date']"
   ]
  },
  {
   "cell_type": "code",
   "execution_count": null,
   "metadata": {},
   "outputs": [],
   "source": [
    "print( 'The data ranges from ' + str(df['date'].min()) + ' to ' + str(df['date'].max())  )"
   ]
  },
  {
   "cell_type": "markdown",
   "metadata": {},
   "source": [
    "Better. Now we can used the dates to do a `groupby` and aggregate using `sum()`. This will give us both total items sold in a day (`item_cnt_day`) and total sales \\$ amount (`item_price`). "
   ]
  },
  {
   "cell_type": "code",
   "execution_count": null,
   "metadata": {},
   "outputs": [],
   "source": [
    "sales_df = df.groupby('date').sum()\n",
    "sales_df"
   ]
  },
  {
   "cell_type": "markdown",
   "metadata": {},
   "source": [
    "Let's visualise the key data so that we can get a handle on what it might be telling us"
   ]
  },
  {
   "cell_type": "code",
   "execution_count": null,
   "metadata": {},
   "outputs": [],
   "source": [
    "items_fig = sales_df['item_cnt_day'].plot(figsize=(15,5))"
   ]
  },
  {
   "cell_type": "code",
   "execution_count": null,
   "metadata": {},
   "outputs": [],
   "source": [
    "sales_fig = sales_df['item_price'].plot(figsize=(15,5))"
   ]
  },
  {
   "cell_type": "markdown",
   "metadata": {},
   "source": [
    "There are obvious patterns in the data. To make this more obvious, we can use the `seasonal_decompose()` function to decompose the sales data into `Trend`, `Seasonal`, and `Residual` components."
   ]
  },
  {
   "cell_type": "code",
   "execution_count": null,
   "metadata": {},
   "outputs": [],
   "source": [
    "plt.figure()\n",
    "plt.rcParams['figure.figsize'] = [15, 12]\n",
    "dsales = seasonal_decompose(sales_df['item_price'], period=365)\n",
    "ax = dsales.plot()"
   ]
  },
  {
   "cell_type": "markdown",
   "metadata": {},
   "source": [
    "Sometimes, it can be easier to see what is happening by using less granular data. By re-sampling the data we can look at weeks instead of days. However, in this instance it is not really necessary."
   ]
  },
  {
   "cell_type": "code",
   "execution_count": null,
   "metadata": {
    "ExecuteTime": {
     "end_time": "2020-09-20T17:31:24.691291Z",
     "start_time": "2020-09-20T17:31:24.513012Z"
    }
   },
   "outputs": [],
   "source": [
    "ax = plt.figure( figsize=(12, 5) )\n",
    "week_sales = sales_df.item_price.resample('W').sum()\n",
    "ax = week_sales.plot()\n",
    "week_plot = week_sales.plot()"
   ]
  },
  {
   "cell_type": "markdown",
   "metadata": {},
   "source": [
    "### Forecasting\n",
    "\n",
    "We can already get a sense about where the data may be going if the overall trend and seasonality persist. However, a forecasting algorithm like FaceBook's `Prophet` can make this more obvious.\n",
    "\n",
    "For this example, we are going to assume that the business wants to predict possible sales through till the end of the financial year. For this data, that will be 30 June 2016."
   ]
  },
  {
   "cell_type": "markdown",
   "metadata": {},
   "source": [
    "#### Prep\n",
    "\n",
    "First we need to prepare the data for the forecasting algorithm. It requires a dataframe that has a `ds` column for the date and a `y` column for the values that we want to predict on. As the sales in this data are in millions, we're going to make them a bit easier to read by making 1 unit \\$1,000 - that is \\$1.5M will be shown as 1500."
   ]
  },
  {
   "cell_type": "code",
   "execution_count": null,
   "metadata": {},
   "outputs": [],
   "source": [
    "# Create the forecast dataframe with y column\n",
    "forecast_df = sales_df\n",
    "forecast_df['y'] = [round(p/1000,) for p in forecast_df['item_price']]\n",
    "forecast_df"
   ]
  },
  {
   "cell_type": "code",
   "execution_count": null,
   "metadata": {},
   "outputs": [],
   "source": [
    "# Add the ds column, and just select ds and y columns for final dataframe\n",
    "forecast_df['ds'] = [d for d in forecast_df.index]\n",
    "forecast_df = forecast_df[['ds','y']]\n",
    "forecast_df"
   ]
  },
  {
   "cell_type": "code",
   "execution_count": null,
   "metadata": {
    "ExecuteTime": {
     "end_time": "2020-09-20T18:40:41.290265Z",
     "start_time": "2020-09-20T18:40:41.283829Z"
    }
   },
   "outputs": [],
   "source": [
    "# Use the prophet algorithm to create an empty model to be trained on existing data\n",
    "model = Prophet()\n"
   ]
  },
  {
   "cell_type": "code",
   "execution_count": null,
   "metadata": {
    "ExecuteTime": {
     "end_time": "2020-09-20T18:40:43.438066Z",
     "start_time": "2020-09-20T18:40:43.254620Z"
    }
   },
   "outputs": [],
   "source": [
    "# Train the model to fit our forecast dataframe\n",
    "model.fit(forecast_df)"
   ]
  },
  {
   "cell_type": "code",
   "execution_count": null,
   "metadata": {},
   "outputs": [],
   "source": [
    "# Now use the model to do a prediction - starting with the existing data\n",
    "predict_df = model.predict()"
   ]
  },
  {
   "cell_type": "code",
   "execution_count": null,
   "metadata": {},
   "outputs": [],
   "source": [
    "predict_df[['ds','yhat','yhat_lower','yhat_upper']]"
   ]
  },
  {
   "cell_type": "markdown",
   "metadata": {},
   "source": [
    "The prediction results are the forecasting model's statistical guess as to what the sales data should be for a given date (`yhat`) as well as the upper (`yhat_upper`) and lower (`yhat_lower`) bounds of each guess.\n",
    "\n",
    "We can plot the output of the model to visualise how the statistical guesses (in blue) match up with the the actual data (black dots)."
   ]
  },
  {
   "cell_type": "code",
   "execution_count": null,
   "metadata": {
    "ExecuteTime": {
     "end_time": "2020-09-20T18:40:50.624622Z",
     "start_time": "2020-09-20T18:40:50.445311Z"
    }
   },
   "outputs": [],
   "source": [
    "fig = model.plot(predict_df)"
   ]
  },
  {
   "cell_type": "markdown",
   "metadata": {},
   "source": [
    "We can also view the various components of the prediction (like the seasonality decompose function above)"
   ]
  },
  {
   "cell_type": "code",
   "execution_count": null,
   "metadata": {
    "ExecuteTime": {
     "end_time": "2020-09-20T18:41:01.184048Z",
     "start_time": "2020-09-20T18:41:00.749756Z"
    }
   },
   "outputs": [],
   "source": [
    "figs = model.plot_components(predict_df)"
   ]
  },
  {
   "cell_type": "markdown",
   "metadata": {},
   "source": [
    "### Predicting the future\n",
    "\n",
    "However, what the business really wants to know is *NOT* predictions of what has actually happened - what we already know - but what may happen in the future!\n",
    "\n",
    "We can do this by requesting the model to predict over dates into the future. To do this we add dates to our existing data."
   ]
  },
  {
   "cell_type": "code",
   "execution_count": null,
   "metadata": {},
   "outputs": [],
   "source": [
    "# Create dates for prediction\n",
    "\n",
    "pred_date = pd.DataFrame()\n",
    "pred_date['ds'] = pd.DataFrame(pd.date_range('2015-11-01', periods=243, freq='1D'))\n",
    "pred_date"
   ]
  },
  {
   "cell_type": "code",
   "execution_count": null,
   "metadata": {},
   "outputs": [],
   "source": [
    "# Add the new dates to our existing dataframe\n",
    "pred_df = predict_df.append(pred_date,ignore_index=True)"
   ]
  },
  {
   "cell_type": "code",
   "execution_count": null,
   "metadata": {},
   "outputs": [],
   "source": [
    "# Now call the predict function again on the revised dataframe\n",
    "predict_df = model.predict(pred_df)"
   ]
  },
  {
   "cell_type": "markdown",
   "metadata": {},
   "source": [
    "#### Results\n",
    "\n",
    "When we visualise the results as before, we see that the predictions (guesses in blue) extend beyond our actual data (black)."
   ]
  },
  {
   "cell_type": "code",
   "execution_count": null,
   "metadata": {},
   "outputs": [],
   "source": [
    "fig = model.plot(predict_df)"
   ]
  },
  {
   "cell_type": "code",
   "execution_count": null,
   "metadata": {},
   "outputs": [],
   "source": [
    "figs = model.plot_components(predict_df)"
   ]
  },
  {
   "cell_type": "markdown",
   "metadata": {},
   "source": [
    "Note that trend is continuing as there is nothing in the training data to say that it might turn around. However, yearly seasonality is still reflected in the peak in January.\n",
    "\n",
    "If you wanted to try some advanced analysis, you could check these predictions and compare them against the actually data that occured (which are downloadable from Kaggle with the original data)."
   ]
  }
 ],
 "metadata": {
  "celltoolbar": "Slideshow",
  "hide_input": false,
  "kernelspec": {
   "display_name": "Python 3",
   "language": "python",
   "name": "python3"
  },
  "language_info": {
   "codemirror_mode": {
    "name": "ipython",
    "version": 3
   },
   "file_extension": ".py",
   "mimetype": "text/x-python",
   "name": "python",
   "nbconvert_exporter": "python",
   "pygments_lexer": "ipython3",
   "version": "3.7.6"
  },
  "toc": {
   "base_numbering": 1,
   "nav_menu": {},
   "number_sections": true,
   "sideBar": true,
   "skip_h1_title": false,
   "title_cell": "Table of Contents",
   "title_sidebar": "Contents",
   "toc_cell": false,
   "toc_position": {},
   "toc_section_display": true,
   "toc_window_display": false
  },
  "varInspector": {
   "cols": {
    "lenName": 16,
    "lenType": 16,
    "lenVar": 40
   },
   "kernels_config": {
    "python": {
     "delete_cmd_postfix": "",
     "delete_cmd_prefix": "del ",
     "library": "var_list.py",
     "varRefreshCmd": "print(var_dic_list())"
    },
    "r": {
     "delete_cmd_postfix": ") ",
     "delete_cmd_prefix": "rm(",
     "library": "var_list.r",
     "varRefreshCmd": "cat(var_dic_list()) "
    }
   },
   "types_to_exclude": [
    "module",
    "function",
    "builtin_function_or_method",
    "instance",
    "_Feature"
   ],
   "window_display": false
  }
 },
 "nbformat": 4,
 "nbformat_minor": 4
}
