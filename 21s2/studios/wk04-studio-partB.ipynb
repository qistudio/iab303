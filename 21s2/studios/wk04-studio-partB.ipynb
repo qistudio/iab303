{
 "cells": [
  {
   "cell_type": "markdown",
   "metadata": {},
   "source": [
    "<div class=\"alert alert-block alert-info\"><b>IAB303</b> - Data Analytics for Business Insight</div>"
   ]
  },
  {
   "cell_type": "markdown",
   "metadata": {},
   "source": [
    "# Structured data from text with regex - part 2\n",
    "\n",
    "---"
   ]
  },
  {
   "cell_type": "markdown",
   "metadata": {},
   "source": [
    "### Previously...\n",
    "\n",
    "Our task was to obtain the following data from a given text.\n",
    "\n",
    "| Date | Name | Food eaten |\n",
    "| --- | --- | --- |\n",
    "| 2020.03.18 | Andrew | avocado |\n",
    "| 2020.03.19 | Catarina | coconut |\n",
    "| 2020.03.19 | Prime Minister | pineapple mousse |\n",
    "\n",
    "In Part 1, we extracted the date from the beginning of lines of text (where there was a date to extract)."
   ]
  },
  {
   "cell_type": "code",
   "execution_count": null,
   "metadata": {},
   "outputs": [],
   "source": [
    "# import the regex library\n",
    "import re\n",
    "\n",
    "# the text which we want to obtain data from\n",
    "text = \"\"\"\n",
    "*** Start ***\n",
    "2020.03.18 Andrew eats avocado\n",
    "2020.03.19 Catarina eats coconut\n",
    "2020.03.19 Prime Minister eats pineapple mousse\n",
    "*** End ***\n",
    "\"\"\"\n",
    "# split into list of lines\n",
    "lines = text.split('\\n')\n",
    "\n",
    "# create empty list for dates\n",
    "dates = []\n",
    "\n",
    "# loop over lines and match dates and put in new list\n",
    "for line in lines:\n",
    "    match = re.search(r\"^[0-9]{4}\\.[0-9]{2}\\.[0-9]{2}\", line)\n",
    "    if match:\n",
    "        dates.append(match.group())\n",
    "\n",
    "# look at the resulting list\n",
    "for date in dates:\n",
    "    print(date)"
   ]
  },
  {
   "cell_type": "markdown",
   "metadata": {},
   "source": [
    "### Reducing the task\n",
    "\n",
    "Once we have the date, we no longer need to work on the entire string because our other data is in the remainder of each line.\n",
    "\n",
    "To obtain this data, we can use a technique that we used in part 1 - treating a string as a list.\n",
    "\n",
    "In part 1, we tried getting just the first 10 characters, but we can also get all of the characters *after* a certain point."
   ]
  },
  {
   "cell_type": "code",
   "execution_count": null,
   "metadata": {},
   "outputs": [],
   "source": [
    "third_line = lines[2] # The third line of the text\n",
    "third_line"
   ]
  },
  {
   "cell_type": "code",
   "execution_count": null,
   "metadata": {},
   "outputs": [],
   "source": [
    "third_line[10:] # All character from position 10 onwards"
   ]
  },
  {
   "cell_type": "markdown",
   "metadata": {},
   "source": [
    "Even the date is only 10 characters, it is followed by a space, so really we want all text from position 11 onwards..."
   ]
  },
  {
   "cell_type": "code",
   "execution_count": null,
   "metadata": {},
   "outputs": [],
   "source": [
    "third_line[11:]"
   ]
  },
  {
   "cell_type": "markdown",
   "metadata": {},
   "source": [
    "We can try this in our code so far..."
   ]
  },
  {
   "cell_type": "code",
   "execution_count": null,
   "metadata": {},
   "outputs": [],
   "source": [
    "# loop over lines and match dates\n",
    "for line in lines:\n",
    "    match = re.search(r\"^[0-9]{4}\\.[0-9]{2}\\.[0-9]{2}\", line)\n",
    "    if match:\n",
    "        print(line[11:]) # print the characters from 11 onwards of lines that match"
   ]
  },
  {
   "cell_type": "markdown",
   "metadata": {},
   "source": [
    "These are substrings of the original lines which we can add to a new list for further processing..."
   ]
  },
  {
   "cell_type": "code",
   "execution_count": null,
   "metadata": {},
   "outputs": [],
   "source": [
    "# create a new empty list\n",
    "eat_lines = []\n",
    "\n",
    "# loop over lines and match dates\n",
    "for line in lines:\n",
    "    match = re.search(r\"^[0-9]{4}\\.[0-9]{2}\\.[0-9]{2}\", line)\n",
    "    if match:\n",
    "        eat_lines.append(line[11:]) # add the substrings for lines that match\n",
    "\n",
    "eat_lines"
   ]
  },
  {
   "cell_type": "markdown",
   "metadata": {},
   "source": [
    "### Splitting text using regex\n",
    "\n",
    "Now that we have reduced our task by taking the substrings, we now need to extract the data from these strings. \n",
    "\n",
    "For this task, we don't need to match the names and the food eaten (even though that is what we want). We can take a simpler task as all strings have a common pattern that separates names and foods: `eats`\n",
    "\n",
    "So we can simply split the strings..."
   ]
  },
  {
   "cell_type": "code",
   "execution_count": null,
   "metadata": {},
   "outputs": [],
   "source": [
    "first_line = eat_lines[0]\n",
    "first_line"
   ]
  },
  {
   "cell_type": "code",
   "execution_count": null,
   "metadata": {},
   "outputs": [],
   "source": [
    "first_line.split('eats')"
   ]
  },
  {
   "cell_type": "markdown",
   "metadata": {},
   "source": [
    "This leaves us with a space attached to the end of the name and the beginning of the food, so instead we could use.."
   ]
  },
  {
   "cell_type": "code",
   "execution_count": null,
   "metadata": {},
   "outputs": [],
   "source": [
    "first_line.split(' eats ')"
   ]
  },
  {
   "cell_type": "markdown",
   "metadata": {},
   "source": [
    "However, what the `space` was an invisible character (like a tab or a non-breaking space), or what if the word was 'ate' instead of 'eats'?\n",
    "\n",
    "Using regex can help..."
   ]
  },
  {
   "cell_type": "code",
   "execution_count": null,
   "metadata": {},
   "outputs": [],
   "source": [
    "alt_line = \"andrew ate avocado\"\n",
    "\n",
    "re.split(r\"\\s[a-z]+\\s\",alt_line)"
   ]
  },
  {
   "cell_type": "code",
   "execution_count": null,
   "metadata": {},
   "outputs": [],
   "source": [
    "alt_line2 = \"andrew someotherrediculousword avocado\"\n",
    "re.split(r\"\\s[a-z]+\\s\",alt_line)"
   ]
  },
  {
   "cell_type": "code",
   "execution_count": null,
   "metadata": {},
   "outputs": [],
   "source": [
    "alt_line3 = \"\"\"andrew\n",
    "eats\n",
    "avocado\"\"\"\n",
    "re.split(r\"\\s[a-z]+\\s\",alt_line)"
   ]
  },
  {
   "cell_type": "markdown",
   "metadata": {},
   "source": [
    "As you can see the regex captures all of these variation by matching the pattern rather than the exact text.\n",
    "\n",
    "We can now try this back in code..."
   ]
  },
  {
   "cell_type": "code",
   "execution_count": null,
   "metadata": {},
   "outputs": [],
   "source": [
    "# loop over lines and match dates\n",
    "for line in lines:\n",
    "    match = re.search(r\"^[0-9]{4}\\.[0-9]{2}\\.[0-9]{2}\", line)\n",
    "    if match:\n",
    "        eatline = line[11:] # substrings for lines that match\n",
    "        print(eatline)\n",
    "        splitline = re.split(r\"\\s[a-z]+\\s\",eatline)\n",
    "        print(\"Name: \",splitline[0]) # First element of splitline is name\n",
    "        print(\"Food: \",splitline[1]) # Second element of splitline is food\n",
    "        print() # Empty line to make easy to read\n"
   ]
  },
  {
   "cell_type": "markdown",
   "metadata": {},
   "source": [
    "### Bring it together\n",
    "\n",
    "Here, we bring it all together including part 1"
   ]
  },
  {
   "cell_type": "code",
   "execution_count": null,
   "metadata": {},
   "outputs": [],
   "source": [
    "# the text which we want to obtain data from\n",
    "text = \"\"\"\n",
    "*** Start ***\n",
    "2020.03.18 Andrew ate avocado\n",
    "2020.03.19 Catarina eats coconut\n",
    "2020.03.19 Prime Minister eating pineapple mousse\n",
    "*** End ***\n",
    "\"\"\"\n",
    "# split into list of lines\n",
    "lines = text.split('\\n')\n",
    "\n",
    "# loop over lines and match dates and put in new list\n",
    "for line in lines:\n",
    "    print(line)\n",
    "    match = re.search(r\"^[0-9]{4}\\.[0-9]{2}\\.[0-9]{2}\", line)\n",
    "    if match:\n",
    "        print(\"\\tDate: \",match.group())\n",
    "        eatline = line[11:] # substrings for lines that match\n",
    "        splitline = re.split(r\"\\s[a-z]+\\s\",eatline)\n",
    "        print(\"\\tName: \",splitline[0]) # First element of splitline is name\n",
    "        print(\"\\tFood: \",splitline[1]) # Second element of splitline is food\n",
    "        print() # Empty line to make easy to read\n",
    "    else:\n",
    "        print(\"--- not a match ---\")\n",
    "        print()"
   ]
  },
  {
   "cell_type": "code",
   "execution_count": null,
   "metadata": {},
   "outputs": [],
   "source": []
  }
 ],
 "metadata": {
  "kernelspec": {
   "display_name": "Python 3",
   "language": "python",
   "name": "python3"
  },
  "language_info": {
   "codemirror_mode": {
    "name": "ipython",
    "version": 3
   },
   "file_extension": ".py",
   "mimetype": "text/x-python",
   "name": "python",
   "nbconvert_exporter": "python",
   "pygments_lexer": "ipython3",
   "version": "3.7.6"
  }
 },
 "nbformat": 4,
 "nbformat_minor": 4
}
