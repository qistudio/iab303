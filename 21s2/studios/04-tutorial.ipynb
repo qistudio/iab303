{
 "cells": [
  {
   "cell_type": "markdown",
   "metadata": {
    "slideshow": {
     "slide_type": "slide"
    }
   },
   "source": [
    "# Module 4 Tutorial - Unstructured External Business Data\n",
    "\n",
    "In this tutorial, we'll be working with a variety of datasets that are administered through online websites and APIs."
   ]
  },
  {
   "cell_type": "markdown",
   "metadata": {},
   "source": [
    "## Retrieving Data From An Authorised API - Traffic Data\n",
    "\n",
    "### [1] Question - Planning A Parade\n",
    "\n",
    "Let us consider the business concern of today's tutorial:\n",
    "\n",
    "> **CONCERN:** The Brisbane City Council has decided to host an inner-city parade for environmental conservation efforts. The parade's coordinators have advised that it should start and end at two separate parks in the CBD, with at least one of them being on the riverfront. To minimise disruptions for transit and business-related affairs, they would like to know which two parks would be the best for the occassion.\n",
    "\n",
    "For this task, we are going to need a dataset (or perhaps two datasets) that can help us understand what the typical commotion looks like in the Brisbane CBD. We hint that this analysis will involve retrieving data from the following website: https://data.gov.au/\n",
    "\n",
    ">**QUESTION:** Can you figure out what datasets would be most suitable to retrieve from https://data.gov.au/?"
   ]
  },
  {
   "cell_type": "markdown",
   "metadata": {},
   "source": [
    ">>**ANSWER:** ???"
   ]
  },
  {
   "cell_type": "markdown",
   "metadata": {},
   "source": [
    "Like many websites that distribute data, the website https://data.gov.au/ is strict about who can access their content.\n",
    "\n",
    ">**QUESTION:** Why would any organisation be concerned about who they give their data to?"
   ]
  },
  {
   "cell_type": "markdown",
   "metadata": {},
   "source": [
    ">>**ANSWER:** ???"
   ]
  },
  {
   "cell_type": "markdown",
   "metadata": {},
   "source": [
    "As such, to retrieve the datasets we are interested in, we must first create an account with the government's data dispensory site. This can be done by firstly clicking the login button on the main page of the site:\n",
    "\n",
    "<img src=\"graphics/4_login.png\" style=\"margin-left: 50px; width: 40%;\">\n",
    "\n",
    "Then navigating to the \"Create Account\" option on the page that appears:\n",
    "\n",
    "<img src=\"graphics/4_create_account.png\" style=\"margin-left: 50px; width: 40%;\">\n",
    "\n",
    "Once you've done this, you should be able to access the data you are interested in, without being blocked out. Download the appropriate files, and upload them into your Jupyter Lab environment. Once you've done that, we can begin the data analytics process:"
   ]
  },
  {
   "cell_type": "markdown",
   "metadata": {},
   "source": [
    "### [2] Data - Loading The ___data.gov.au___ Datasets Into Our Environment\n",
    "\n",
    "We'll begin by loading in the datasets we are concerned with; Python has a unique function for this:\n",
    "\n",
    "#### You will need to use the following python commands:\n",
    "\n",
    "```python\n",
    "    open()\n",
    "    .read()\n",
    "```"
   ]
  },
  {
   "cell_type": "code",
   "execution_count": 115,
   "metadata": {},
   "outputs": [],
   "source": [
    "??? = ???(???, 'r')\n",
    "??? = ???.???()\n",
    "\n",
    "??? = ???(???, 'r')\n",
    "??? = ???.???()"
   ]
  },
  {
   "cell_type": "markdown",
   "metadata": {},
   "source": [
    "Next, you're going to need to open each of the datasets in the Jupyter _Editor_, and inspect the kind of file types we are using.\n",
    "\n",
    ">**QUESTION:** Can you determine the file types of the datasets, and what this means we'll need to do to interpret the data?"
   ]
  },
  {
   "cell_type": "markdown",
   "metadata": {},
   "source": [
    ">>**ANSWER:** ???"
   ]
  },
  {
   "cell_type": "markdown",
   "metadata": {},
   "source": [
    "Now convert the raw text of each of the datasets files into JSON, using the appropriate Python commands:\n",
    "\n",
    "#### You will need to use the following python commands:\n",
    "\n",
    "```python\n",
    "    import\n",
    "    .loads()\n",
    "```"
   ]
  },
  {
   "cell_type": "code",
   "execution_count": 116,
   "metadata": {},
   "outputs": [],
   "source": [
    "??? json\n",
    "??? = ???.???(???)\n",
    "??? = ???.???(???)"
   ]
  },
  {
   "cell_type": "markdown",
   "metadata": {},
   "source": [
    "### [3] Analysis - Understanding The Contents Of The Datasets\n",
    "\n",
    "Now let us analyse the data to understand the relationship between the various datasets. You can do this a few different ways, however one such way might be to grab a sample (e.g. an item in the JSON file), and to study it.\n",
    "\n",
    "__HINT__: You can go to dataset's description at https://data.gov.au/ to understand it better."
   ]
  },
  {
   "cell_type": "code",
   "execution_count": null,
   "metadata": {},
   "outputs": [],
   "source": [
    "???[0]"
   ]
  },
  {
   "cell_type": "code",
   "execution_count": null,
   "metadata": {},
   "outputs": [],
   "source": [
    "???[0]"
   ]
  },
  {
   "cell_type": "markdown",
   "metadata": {},
   "source": [
    ">**QUESTION:** After studying the dataset's samples, what would you say is the relationship between them?"
   ]
  },
  {
   "cell_type": "markdown",
   "metadata": {},
   "source": [
    ">>**ANSWER:** ???"
   ]
  },
  {
   "cell_type": "markdown",
   "metadata": {},
   "source": [
    "Given that we now understand the relationship between the datasets, let us return to our business concern by asking how what we should be emphasizing in these datasets.\n",
    "\n",
    ">**QUESTION:** What is the important information to record in these datasets?"
   ]
  },
  {
   "cell_type": "markdown",
   "metadata": {},
   "source": [
    ">>**ANSWER:** ???"
   ]
  },
  {
   "cell_type": "markdown",
   "metadata": {},
   "source": [
    "Given that the important attributes are split between datasets, lets write a function to help us group them up. Our function should accept the `subsystem` and `tsc` of some intersection, and return the density of the `ds1` attribute from its traffic volume data:"
   ]
  },
  {
   "cell_type": "code",
   "execution_count": 118,
   "metadata": {},
   "outputs": [],
   "source": [
    "def traffic_ds1(???,???):\n",
    "    for record in intersection_volumes_data:\n",
    "        if ((record['ss'] == ???) and (record['tsc'] == ???)):\n",
    "            return record['ds1']\n",
    "    return None"
   ]
  },
  {
   "cell_type": "markdown",
   "metadata": {},
   "source": [
    "In the next step, we are going to be referencing coordinates a lot. Let's write a function to help us easily get a sample item's latitude and longitude:"
   ]
  },
  {
   "cell_type": "code",
   "execution_count": 123,
   "metadata": {},
   "outputs": [],
   "source": [
    "def item_lat_lng(item):\n",
    "    return [item['coordinates']['latLng'][???], item['coordinates']['latLng'][???]]"
   ]
  },
  {
   "cell_type": "markdown",
   "metadata": {},
   "source": [
    "### [4] Visualisation - Plotting Map Data\n",
    "\n",
    "For the next part of our analysis, we are going to need to plot some map data. To do this, we will be installing the `folium` map library. The `folium` library is a great tool for geographic visualisation. You can read more about it here: https://python-visualization.github.io/folium/quickstart.html"
   ]
  },
  {
   "cell_type": "code",
   "execution_count": null,
   "metadata": {},
   "outputs": [],
   "source": [
    "!pip install folium"
   ]
  },
  {
   "cell_type": "markdown",
   "metadata": {},
   "source": [
    "Next we will visualise all the intersections in Brisbane using the `folium` library. To do this, we are going to be using two functions from the `folium` library. The functions are `folium.Map()` and `folium.Circle()`.\n",
    "\n",
    "For your convenience, we've included the documentation for both these functions here:\n",
    "\n",
    "* `folium.Map()` - https://python-visualization.github.io/folium/modules.html?highlight=map#folium.folium.Map\n",
    "* `folium.Circle()` - https://python-visualization.github.io/folium/modules.html?highlight=circle#folium.vector_layers.Circle\n",
    "\n",
    "We've also partially completed the code that visualises the intersection data. Using your understanding of the provided functions, tinker with the missing fields to make the visualisation appear correctly."
   ]
  },
  {
   "cell_type": "code",
   "execution_count": null,
   "metadata": {},
   "outputs": [],
   "source": [
    "import folium\n",
    "\n",
    "# First we set up the map\n",
    "\n",
    "map_of_intersections = folium.Map(\n",
    "    location=item_lat_lng(intersection_locations_data[0]),\n",
    "    zoom_start=???, tiles='Stamen Terrain'\n",
    ")\n",
    "\n",
    "# Then we add all the coordinates to the map from the intersection data.\n",
    "\n",
    "for coordinate in intersection_locations_data:\n",
    "    try:\n",
    "        folium.Circle(\n",
    "            radius=???,\n",
    "            location=item_lat_lng(???),\n",
    "            color=???,\n",
    "            fill=False).add_to(???)\n",
    "    except:\n",
    "        pass\n",
    "map_of_intersections"
   ]
  },
  {
   "cell_type": "markdown",
   "metadata": {},
   "source": [
    "While this visualisation clearly shows where all the recorded intersections are placed, it doesn't communicate the commotion caused by traffic. Once again, we've provided some partially completed code to visualise this next part. See if you can fill in all the blanks:"
   ]
  },
  {
   "cell_type": "code",
   "execution_count": null,
   "metadata": {},
   "outputs": [],
   "source": [
    "# First we set up the map\n",
    "\n",
    "map_of_intersections_with_commotion = folium.Map(\n",
    "    location=item_lat_lng(intersection_locations_data[0]),\n",
    "    zoom_start=???,\n",
    "    tiles='Stamen Terrain'\n",
    ")\n",
    "\n",
    "# Then we add all the coordinates to the map from the intersection data, and give them weightings using the volume data.\n",
    "\n",
    "for coordinate in intersection_locations_data:\n",
    "    try:\n",
    "        density_reading = traffic_ds1(coordinate[???], coordinate[???])\n",
    "        if (??? != None):\n",
    "            folium.Circle(\n",
    "                radius=???*40,\n",
    "                location=item_lat_lng(???),\n",
    "                color=???,\n",
    "                fill=True,\n",
    "                fill_opacity=???,\n",
    "                weight=???).add_to(map_of_intersections_with_commotion)\n",
    "    except:\n",
    "        pass\n",
    "\n",
    "map_of_intersections_with_commotion"
   ]
  },
  {
   "cell_type": "markdown",
   "metadata": {},
   "source": [
    "Now we can clearly see what the commotion looks like at each of the intersections."
   ]
  },
  {
   "cell_type": "markdown",
   "metadata": {},
   "source": [
    "### [5] Insights - What Parks Should Be Chosen For The Parade?\n",
    "\n",
    "We have now gotten to the stage where we have a visualisation showing the commotion at various intersections in Brisbane. Our last step in the data analytics cycle is to relate this back to the main business concern.\n",
    "\n",
    ">**QUESTION:** At what two parks should we host the parade?"
   ]
  },
  {
   "cell_type": "markdown",
   "metadata": {},
   "source": [
    ">>**ANSWER:** ???"
   ]
  },
  {
   "cell_type": "markdown",
   "metadata": {},
   "source": [
    ">**QUESTION:** What issues can you see in our analytics process?"
   ]
  },
  {
   "cell_type": "markdown",
   "metadata": {},
   "source": [
    ">>**ANSWER:** ???"
   ]
  },
  {
   "cell_type": "markdown",
   "metadata": {},
   "source": [
    ">**QUESTION:** How might we improve our analytics process?"
   ]
  },
  {
   "cell_type": "markdown",
   "metadata": {},
   "source": [
    ">>**ANSWER:** ???"
   ]
  },
  {
   "cell_type": "markdown",
   "metadata": {},
   "source": [
    "### [6] Additional Task (Optional) - When Would The Weather Suit A Parade?\n",
    "\n",
    "For students who manage to complete the first task, or would like to implement a 'weather data' analysis, we have provided the following supplementary concern.\n",
    "\n",
    "> **CONCERN:** Greatly impressed with the quality of your previous analysis, the Brisbane City Council has now comissioned you to find out what day would be best to host the parade. The Lord Mayor has personally telephoned you, advising that he will not accept a cloud in the sky during what he hopes will be the choice of a beautiful sunny day. Furthermore, he has advised that the parade should take place within the next 5 days. What is your recommendation?\n",
    "\n",
    "For this task, we strongly recommend using the API provided by https://openweathermap.org/. The process for obtaining the dataset is much like before, however this time you will need to generate an API key, as an added measure of security. See if you can figure out how to generate the said API key. Then once you are done, fill in the blanks in the code below:"
   ]
  },
  {
   "cell_type": "code",
   "execution_count": null,
   "metadata": {},
   "outputs": [],
   "source": [
    "import requests\n",
    "\n",
    "params = {\n",
    "    \"q\" : \"Brisbane\",\n",
    "    \"appid\" : ???\n",
    "}\n",
    "r = requests.get(\"https://api.openweathermap.org/data/2.5/forecast\", params=params)\n",
    "r.content"
   ]
  },
  {
   "cell_type": "markdown",
   "metadata": {},
   "source": [
    ">**QUESTION:** What data has been returned here, and why didn't it require that we manually download a dataset?\n",
    "\n",
    "__HINT__: Use the following URL to understand the code above in a more meaningful way: https://openweathermap.org/forecast5"
   ]
  },
  {
   "cell_type": "markdown",
   "metadata": {},
   "source": [
    ">>**ANSWER:** ???"
   ]
  },
  {
   "cell_type": "markdown",
   "metadata": {},
   "source": [
    "Let us once again take a look at a sample item from the dataset. To do this, we'll once again need to convert our data into JSON:"
   ]
  },
  {
   "cell_type": "code",
   "execution_count": null,
   "metadata": {},
   "outputs": [],
   "source": [
    "???.???(???)['list'][0]"
   ]
  },
  {
   "cell_type": "markdown",
   "metadata": {},
   "source": [
    ">**QUESTION:** What datapoint immediately stands out from the data?\n",
    "\n",
    "__HINT__: Recall the Lord Mayor's stance on clouds."
   ]
  },
  {
   "cell_type": "markdown",
   "metadata": {},
   "source": [
    ">>**ANSWER:** ???"
   ]
  },
  {
   "cell_type": "markdown",
   "metadata": {},
   "source": [
    "Let's record the number of clouds across all items in the dataset for the next 5 days, and store it in a 'list' variable:"
   ]
  },
  {
   "cell_type": "code",
   "execution_count": 144,
   "metadata": {},
   "outputs": [],
   "source": [
    "??? = []\n",
    "for record in ???.???(???)['list']:\n",
    "    ???.append(record['clouds']['all'])"
   ]
  },
  {
   "cell_type": "markdown",
   "metadata": {},
   "source": [
    "Then we can visualise our data using the `matplotlib.pyplot` library, and the `numpy` library:"
   ]
  },
  {
   "cell_type": "code",
   "execution_count": null,
   "metadata": {},
   "outputs": [],
   "source": [
    "import matplotlib.pyplot as plt\n",
    "import numpy as np\n",
    "plt.plot(???)\n",
    "plt.title(???)\n",
    "plt.ylabel(???)\n",
    "plt.xlabel(???)\n",
    "plt.xticks(np.array(range(5))*10,[???, ???, ???, ???, ???])\n",
    "plt.show()"
   ]
  },
  {
   "cell_type": "markdown",
   "metadata": {},
   "source": [
    ">**QUESTION:** Given the results of the visualisation, what is your recommendation to the Lord Mayor ie. what is the most suitable day for hosting the event?"
   ]
  },
  {
   "cell_type": "markdown",
   "metadata": {},
   "source": [
    ">>**ANSWER:** ???"
   ]
  },
  {
   "cell_type": "code",
   "execution_count": null,
   "metadata": {},
   "outputs": [],
   "source": []
  }
 ],
 "metadata": {
  "celltoolbar": "Slideshow",
  "kernelspec": {
   "display_name": "Python 3",
   "language": "python",
   "name": "python3"
  },
  "language_info": {
   "codemirror_mode": {
    "name": "ipython",
    "version": 3
   },
   "file_extension": ".py",
   "mimetype": "text/x-python",
   "name": "python",
   "nbconvert_exporter": "python",
   "pygments_lexer": "ipython3",
   "version": "3.7.6"
  },
  "toc": {
   "base_numbering": 1,
   "nav_menu": {},
   "number_sections": true,
   "sideBar": true,
   "skip_h1_title": false,
   "title_cell": "Table of Contents",
   "title_sidebar": "Contents",
   "toc_cell": false,
   "toc_position": {},
   "toc_section_display": true,
   "toc_window_display": false
  },
  "varInspector": {
   "cols": {
    "lenName": 16,
    "lenType": 16,
    "lenVar": 40
   },
   "kernels_config": {
    "python": {
     "delete_cmd_postfix": "",
     "delete_cmd_prefix": "del ",
     "library": "var_list.py",
     "varRefreshCmd": "print(var_dic_list())"
    },
    "r": {
     "delete_cmd_postfix": ") ",
     "delete_cmd_prefix": "rm(",
     "library": "var_list.r",
     "varRefreshCmd": "cat(var_dic_list()) "
    }
   },
   "types_to_exclude": [
    "module",
    "function",
    "builtin_function_or_method",
    "instance",
    "_Feature"
   ],
   "window_display": false
  }
 },
 "nbformat": 4,
 "nbformat_minor": 4
}
