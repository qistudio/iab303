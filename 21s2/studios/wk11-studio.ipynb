{
 "cells": [
  {
   "cell_type": "markdown",
   "id": "a0438e88-b9c8-4875-a63b-ee9225154869",
   "metadata": {},
   "source": [
    "# TOWS Analysis Example\n",
    "\n",
    "*IMPORTANT: This is an example worked through in real time during the session. To understand what is written below, you need to watch the accompanying video for this week.*"
   ]
  },
  {
   "cell_type": "markdown",
   "id": "503402ae-e15f-4d1a-85b7-973cc015fd25",
   "metadata": {},
   "source": [
    "## Analysis 1 - Internal data\n",
    "\n",
    "Fairness survey\n",
    "* Overall reasonable result\n",
    "* Low score for female workers\n",
    "* High score for male supervisors\n",
    "\n",
    "\n",
    "\n"
   ]
  },
  {
   "cell_type": "markdown",
   "id": "26a21243-5d1e-429a-9ed7-7dce975a242d",
   "metadata": {},
   "source": [
    "### Strengths\n",
    "\n",
    "* Not poor across the board (across whole staff) - overall rating of 3.45 - between mostly fair and fair.\n",
    "\n",
    "\n",
    "### Weaknesses\n",
    "\n",
    "* Disconnect between female workers and male supervisors perceptions of fairness\n",
    "* Discontented workers - particularly female workers - rating of 2.0 - unfair - 5 people\n",
    "* Unrealistic perceptions of male supervisors - rating of 5.0 - very fair - 2 people\n"
   ]
  },
  {
   "cell_type": "markdown",
   "id": "ed63a729-ddb5-49de-930d-469ad98dd2bc",
   "metadata": {},
   "source": [
    "### Why Weaknesses are significant?\n",
    "\n",
    "* Supervisors may not be properly trained, or they may not be paying attention to workers\n",
    "* Company risks losing female workers if they find a better job\n",
    "* Company risk female workers bringing legal complaints"
   ]
  },
  {
   "cell_type": "markdown",
   "id": "52229182-6e35-4a6e-ac6e-ae8b9fbc4a66",
   "metadata": {},
   "source": [
    "## Analysis 2 - External data\n",
    "\n",
    "Guardian data on current economic conditions\n",
    "\n",
    "* House price boom\n",
    "* Unemployment and underemployment issues\n",
    "* Low interest rates\n",
    "* Lockdown conditions that are happening\n"
   ]
  },
  {
   "cell_type": "markdown",
   "id": "cab9e134-215b-475b-a0f9-3e34e1be136a",
   "metadata": {},
   "source": [
    "### Threats\n",
    "\n",
    "* Make it costly for employees to buy a house near the company\n",
    "* If unemployment continues to drop, it could be more expensive to hire employees\n",
    "* Lockdowns could continue to make it difficult for workers in the business\n"
   ]
  },
  {
   "cell_type": "markdown",
   "id": "2b00d5e6-7392-4a41-9ea2-bf070b156c75",
   "metadata": {},
   "source": [
    "### Opportunities\n",
    "\n",
    "* Could be opportunity to sell more house related product\n",
    "* If unemployment stays high, there could be more people looking for work and easier to get more people\n",
    "* More affordable for house owners to buy products\n"
   ]
  },
  {
   "cell_type": "markdown",
   "id": "56cf258c-7e49-453c-8b26-8716b94eff6b",
   "metadata": {},
   "source": [
    "## TOWS\n",
    "\n",
    "1. Strengths and Opportunities\n",
    "* Opportunity to improve staff fairness perception together with ease of obtaining new staff - refresh the workforce\n",
    "* Opportunity to change culture including working conditions like working from home\n",
    "\n",
    "2. Strengths and Threats\n",
    "* Improving workplace culture could make more desirable for employees to engage with the company in work from home environment\n",
    "\n"
   ]
  },
  {
   "cell_type": "markdown",
   "id": "95543ad7-cd82-410a-bbdf-60d2620df682",
   "metadata": {},
   "source": [
    "3. Weaknesses and Opportunities\n",
    "* Improve workplace culture by helping workers take advantage of increase in sales to enable them to take advantage of promotion opportunities.\n",
    "* Can we bring additional people on board to reduce workload on existing employees and improve conditions while taking advantage of increase in sales\n",
    "* Can additional people allow us to send supervisors for professional development to help them manage more fairly\n",
    "\n",
    "4. Weaknesses and Threats\n",
    "* A potential loss of female workers if they can't find close housing, and they business as unfair - could cause the business problems in losing staff and losing knowledge - what could be done about this - we need early intervention!\n",
    "* Employee costs going up, and difficult in getting employees on site - could make it more difficult to get high quality supervisors. Therefore need to try and keep good people and develop those that need improvement."
   ]
  },
  {
   "cell_type": "markdown",
   "id": "85b251ea-742e-40af-95af-82187dca97ce",
   "metadata": {},
   "source": [
    "### Actionable recommendations for the business...\n",
    "\n",
    "Improve workplace culture by:\n",
    "\n",
    " - creating new opportunities for female workers to participate and contribute to company growth\n",
    " - developing supervisors (particularly male) in terms of the management skills (particularly fairness)\n",
    " - taking advantage of potential growth in sales as well as available workforce.\n",
    " - reviewing working arrangements (e.g. working from home)"
   ]
  },
  {
   "cell_type": "code",
   "execution_count": null,
   "id": "f35e2380-b028-4f28-91e4-c2a9aaae6806",
   "metadata": {},
   "outputs": [],
   "source": []
  }
 ],
 "metadata": {
  "kernelspec": {
   "display_name": "Python 3 (ipykernel)",
   "language": "python",
   "name": "python3"
  },
  "language_info": {
   "codemirror_mode": {
    "name": "ipython",
    "version": 3
   },
   "file_extension": ".py",
   "mimetype": "text/x-python",
   "name": "python",
   "nbconvert_exporter": "python",
   "pygments_lexer": "ipython3",
   "version": "3.9.5"
  }
 },
 "nbformat": 4,
 "nbformat_minor": 5
}
