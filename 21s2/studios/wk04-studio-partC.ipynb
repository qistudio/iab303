{
 "cells": [
  {
   "cell_type": "markdown",
   "metadata": {},
   "source": [
    "<div class=\"alert alert-block alert-info\"><b>IAB303</b> - Data Analytics for Business Insight</div>"
   ]
  },
  {
   "cell_type": "markdown",
   "metadata": {},
   "source": [
    "# Structured data from text with regex - part 3\n",
    "\n",
    "---"
   ]
  },
  {
   "cell_type": "markdown",
   "metadata": {},
   "source": [
    "### Previously...\n",
    "\n",
    "Our task was to obtain the following data from a given text.\n",
    "\n",
    "| Date | Name | Food eaten |\n",
    "| --- | --- | --- |\n",
    "| 2020.03.18 | Andrew | avocado |\n",
    "| 2020.03.19 | Catarina | coconut |\n",
    "| 2020.03.19 | Prime Minister | pineapple mousse |\n",
    "\n",
    "In Part 1, we extracted the date from the beginning of lines of text (where there was a date to extract).\n",
    "\n",
    "In Part 2, we extracted the names and foods by splitting the remainder of each line based on a regex that could cope with different eat words."
   ]
  },
  {
   "cell_type": "code",
   "execution_count": null,
   "metadata": {},
   "outputs": [],
   "source": [
    "import re\n",
    "\n",
    "# the text which we want to obtain data from\n",
    "text = \"\"\"\n",
    "*** Start ***\n",
    "2020.03.18 Andrew ate avocado\n",
    "2020.03.19 Catarina eats coconut\n",
    "2020.03.19 Prime Minister eating pineapple mousse\n",
    "*** End ***\n",
    "\"\"\"\n",
    "# split into list of lines\n",
    "lines = text.split('\\n')\n",
    "\n",
    "# loop over lines and match dates and put in new list\n",
    "for line in lines:\n",
    "    print(line)\n",
    "    match = re.search(r\"^[0-9]{4}\\.[0-9]{2}\\.[0-9]{2}\", line)\n",
    "    if match:\n",
    "        print(\"\\tDate: \",match.group())\n",
    "        eatline = line[11:] # substrings for lines that match\n",
    "        splitline = re.split(r\"\\s[a-z]+\\s\",eatline)\n",
    "        print(\"\\tName: \",splitline[0]) # First element of splitline is name\n",
    "        print(\"\\tFood: \",splitline[1]) # Second element of splitline is food\n",
    "        print() # Empty line to make easy to read\n",
    "    else:\n",
    "        print(\"--- not a match ---\")\n",
    "        print()"
   ]
  },
  {
   "cell_type": "markdown",
   "metadata": {},
   "source": [
    "### Making the data useful for further analysis\n",
    "\n",
    "While the previous example showed that we could extract the data, it didn't provide it in an easy to use format. \n",
    "\n",
    "If we want to make further analysis easy, we need to take our data and put it into an appropriate **Data Structure**.\n",
    "\n",
    "The two most common data structures we will use are **DataFrames** and **JSON**."
   ]
  },
  {
   "cell_type": "markdown",
   "metadata": {},
   "source": [
    "### Extracting to JSON\n",
    "\n",
    "If we look carefully at the code above, we see that we already have name value pairs, like what we would expect to see in a JSON object.\n",
    "\n",
    "```javascript\n",
    "{ \n",
    "    \"Date\": \"2020.02.02\",\n",
    "    \"Name\": \"My Name\",\n",
    "    \"Food\": \"my food\"\n",
    "}\n",
    "```\n",
    "\n",
    "The Python equivalent is called a dictionary. We can create a dictionary and add name value pairs like this..."
   ]
  },
  {
   "cell_type": "code",
   "execution_count": null,
   "metadata": {},
   "outputs": [],
   "source": [
    "# create an empty dictionary\n",
    "my_dict = {}\n",
    "\n",
    "# add name-value pairs\n",
    "my_dict[\"Date\"] = \"2020.02.02\"\n",
    "my_dict[\"Name\"] = \"My Name\"\n",
    "my_dict[\"Food\"] = \"my food\"\n",
    "\n",
    "# view the dictionary\n",
    "my_dict"
   ]
  },
  {
   "cell_type": "markdown",
   "metadata": {},
   "source": [
    "This is a Python dictionary, but we can turn this into a JSON string by using the json library..."
   ]
  },
  {
   "cell_type": "code",
   "execution_count": null,
   "metadata": {},
   "outputs": [],
   "source": [
    "import json"
   ]
  },
  {
   "cell_type": "code",
   "execution_count": null,
   "metadata": {},
   "outputs": [],
   "source": [
    "json.dumps(my_dict)"
   ]
  },
  {
   "cell_type": "markdown",
   "metadata": {},
   "source": [
    "Now we can use this json approach to modify our code from part 2..."
   ]
  },
  {
   "cell_type": "code",
   "execution_count": null,
   "metadata": {},
   "outputs": [],
   "source": [
    "# create a list to put our dictionaries in\n",
    "new_list = []\n",
    "\n",
    "# loop over lines and match dates and put in new list\n",
    "for line in lines:\n",
    "    match = re.search(r\"^[0-9]{4}\\.[0-9]{2}\\.[0-9]{2}\", line)\n",
    "    if match:\n",
    "        # create a new dictionary to put this match in\n",
    "        new_dict = {}\n",
    "        # now add the name value pairs\n",
    "        new_dict[\"Date\"] = match.group()\n",
    "        eatline = line[11:] # substrings for lines that match\n",
    "        splitline = re.split(r\"\\s[a-z]+\\s\",eatline)\n",
    "        new_dict[\"Name\"] = splitline[0] # First element of splitline is name\n",
    "        new_dict[\"Food\"] = splitline[1] # Second element of splitline is food\n",
    "        new_list.append(new_dict) # Add the dict to the list\n",
    "    \n",
    "new_list"
   ]
  },
  {
   "cell_type": "code",
   "execution_count": null,
   "metadata": {},
   "outputs": [],
   "source": [
    "# JSON string version\n",
    "json.dumps(new_list)"
   ]
  },
  {
   "cell_type": "markdown",
   "metadata": {},
   "source": [
    "### Extracting to a DataFrame\n",
    "\n",
    "In order to use pandas dataframes, we need to import the pandas library. It is common in Python to abreviate pandas as **pd**."
   ]
  },
  {
   "cell_type": "code",
   "execution_count": null,
   "metadata": {},
   "outputs": [],
   "source": [
    "import pandas as pd"
   ]
  },
  {
   "cell_type": "markdown",
   "metadata": {},
   "source": [
    "Before extracting our data into a dataframe, we need to understand what is required to (a) create a new dataframe (b) append data to that dataframe."
   ]
  },
  {
   "cell_type": "code",
   "execution_count": null,
   "metadata": {},
   "outputs": [],
   "source": [
    "df = pd.DataFrame(columns=['Date','Name','Food'])"
   ]
  },
  {
   "cell_type": "code",
   "execution_count": null,
   "metadata": {},
   "outputs": [],
   "source": [
    "df"
   ]
  },
  {
   "cell_type": "markdown",
   "metadata": {},
   "source": [
    "pandas expects a dictionary when adding to the dataframe, as it needs to know which values should be put with which columns. Also, if we don't have explicit index values, we need to tell pandas to ignore the index."
   ]
  },
  {
   "cell_type": "code",
   "execution_count": null,
   "metadata": {},
   "outputs": [],
   "source": [
    "dict_to_add = {'Date':'2020.03.15','Name':'Test Name','Food':'test food'}\n",
    "df = df.append(dict_to_add,ignore_index=True)"
   ]
  },
  {
   "cell_type": "code",
   "execution_count": null,
   "metadata": {},
   "outputs": [],
   "source": [
    "df"
   ]
  },
  {
   "cell_type": "markdown",
   "metadata": {},
   "source": [
    "Notice that because we are adding a dictionary to the dataframe, this is very similar to our JSON code where we were adding a dictionary to a list.\n",
    "\n",
    "We can therefore modify the code above to add to a dataframe..."
   ]
  },
  {
   "cell_type": "code",
   "execution_count": null,
   "metadata": {},
   "outputs": [],
   "source": [
    "# create an empty dataframe\n",
    "df = pd.DataFrame(columns=['Date','Name','Food'])\n",
    "\n",
    "# loop over lines and match dates and put in new list\n",
    "for line in lines:\n",
    "    match = re.search(r\"^[0-9]{4}\\.[0-9]{2}\\.[0-9]{2}\", line)\n",
    "    if match:\n",
    "        # create a new dictionary to put this match in\n",
    "        new_dict = {}\n",
    "        # now add the name value pairs\n",
    "        new_dict[\"Date\"] = match.group()\n",
    "        eatline = line[11:] # substrings for lines that match\n",
    "        splitline = re.split(r\"\\s[a-z]+\\s\",eatline)\n",
    "        new_dict[\"Name\"] = splitline[0] # First element of splitline is name\n",
    "        new_dict[\"Food\"] = splitline[1] # Second element of splitline is food\n",
    "        df = df.append(new_dict,ignore_index=True) # Add the dict to the df\n",
    "    \n",
    "df"
   ]
  },
  {
   "cell_type": "markdown",
   "metadata": {},
   "source": [
    "That comples our QuAD showing how to extract data from text using regex and put that data into JSON and DataFrame data structures."
   ]
  },
  {
   "cell_type": "code",
   "execution_count": null,
   "metadata": {},
   "outputs": [],
   "source": []
  }
 ],
 "metadata": {
  "kernelspec": {
   "display_name": "Python 3",
   "language": "python",
   "name": "python3"
  },
  "language_info": {
   "codemirror_mode": {
    "name": "ipython",
    "version": 3
   },
   "file_extension": ".py",
   "mimetype": "text/x-python",
   "name": "python",
   "nbconvert_exporter": "python",
   "pygments_lexer": "ipython3",
   "version": "3.7.6"
  }
 },
 "nbformat": 4,
 "nbformat_minor": 4
}
