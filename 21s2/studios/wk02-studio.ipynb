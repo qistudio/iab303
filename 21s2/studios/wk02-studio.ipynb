{
 "cells": [
  {
   "cell_type": "markdown",
   "metadata": {
    "slideshow": {
     "slide_type": "slide"
    }
   },
   "source": [
    "<div class=\"alert alert-block alert-info\"><b>IAB303</b> - Data Analytics for Business Insight</div>"
   ]
  },
  {
   "cell_type": "markdown",
   "metadata": {
    "slideshow": {
     "slide_type": "-"
    }
   },
   "source": [
    "# Week 2 Studio :: The Data Analytics Cycle"
   ]
  },
  {
   "cell_type": "markdown",
   "metadata": {
    "slideshow": {
     "slide_type": "subslide"
    }
   },
   "source": [
    "---\n",
    "\n",
    "## Why Data Analytics?"
   ]
  },
  {
   "cell_type": "markdown",
   "metadata": {
    "slideshow": {
     "slide_type": "fragment"
    }
   },
   "source": [
    "Imagine:\n",
    "* You've just started a new job\n",
    "* Marketing manager drops into your office with a problem: Our competition is overtaking us. Our customers seem to be turning away from our product. We don't know why. Can you help?"
   ]
  },
  {
   "cell_type": "markdown",
   "metadata": {
    "slideshow": {
     "slide_type": "fragment"
    }
   },
   "source": [
    "Consider:\n",
    "* How significant is this problem for the business?\n",
    "* What information do you need to address this concern?\n",
    "* How do you go about obtaining this information?"
   ]
  },
  {
   "cell_type": "markdown",
   "metadata": {
    "slideshow": {
     "slide_type": "slide"
    }
   },
   "source": [
    "### Human Intelligence as a starting point\n",
    "\n",
    "* How does the Marketing manager describe the problem?\n",
    "* What does their gut feeling, their intuition tell them?\n",
    "* At a guess, why do they think this happening?"
   ]
  },
  {
   "cell_type": "markdown",
   "metadata": {
    "slideshow": {
     "slide_type": "fragment"
    }
   },
   "source": [
    "* The importance of intuition\n",
    "* The risks of intuition"
   ]
  },
  {
   "cell_type": "markdown",
   "metadata": {
    "slideshow": {
     "slide_type": "fragment"
    }
   },
   "source": [
    "#### What value is Data Analytics for this scenario?"
   ]
  },
  {
   "cell_type": "markdown",
   "metadata": {
    "slideshow": {
     "slide_type": "slide"
    }
   },
   "source": [
    "## Example\n",
    "\n",
    "Say we want to find out what customers have been saying about our product that we are selling on Amazon...\n",
    "\n",
    "[Data from Kaggle](https://www.kaggle.com/bittlingmayer/amazonreviews)"
   ]
  },
  {
   "cell_type": "code",
   "execution_count": 1,
   "metadata": {
    "slideshow": {
     "slide_type": "fragment"
    }
   },
   "outputs": [
    {
     "name": "stdout",
     "output_type": "stream",
     "text": [
      "File size:  22.6171875 KB\n"
     ]
    }
   ],
   "source": [
    "# Load first 50 of 400,000 Amazon reviews (out of total dataset of 4 million)\n",
    "pathToData = \"data/kaggle-amazon_reviews-first50.txt\"\n",
    "\n",
    "# How big is this file?\n",
    "import os\n",
    "fileSize = os.stat(pathToData).st_size / (1024)\n",
    "print(\"File size: \",fileSize, \"KB\")"
   ]
  },
  {
   "cell_type": "code",
   "execution_count": 2,
   "metadata": {
    "slideshow": {
     "slide_type": "slide"
    }
   },
   "outputs": [
    {
     "name": "stdout",
     "output_type": "stream",
     "text": [
      "Number of reviews:  50\n"
     ]
    }
   ],
   "source": [
    "# Now lets define a function to load the reviews\n",
    "def readFileToList(fileName):\n",
    "    file = open(fileName)\n",
    "    rawtext = file.read()\n",
    "    file.close()\n",
    "    return rawtext.split(\"\\n\")\n",
    "\n",
    "# Read the data into a List and assign to variable\n",
    "reviewData = readFileToList(pathToData)\n",
    "\n",
    "# Now lets check how many items in the list\n",
    "numReviews = len(reviewData)\n",
    "\n",
    "print(\"Number of reviews: \",numReviews)"
   ]
  },
  {
   "cell_type": "code",
   "execution_count": 3,
   "metadata": {
    "slideshow": {
     "slide_type": "slide"
    }
   },
   "outputs": [
    {
     "name": "stdout",
     "output_type": "stream",
     "text": [
      "First:  __label__2 Great CD: My lovely Pat has one of the GREAT voices of her generation. I have listened to this CD for YEARS and I still LOVE IT. When I'm in a good mood it makes me feel better. A bad mood just evaporates like sugar in the rain. This CD just oozes LIFE. Vocals are jusat STUUNNING and lyrics just kill. One of life's hidden gems. This is a desert isle CD in my book. Why she never made it big is just beyond me. Everytime I play this, no matter black, white, young, old, male, female EVERYBODY says one thing \"Who was that singing ?\"\n",
      "Last: __label__2 Patricia Cornwell has turned me into a reader: I was never really a big reader before and somebody put me on to Patricia Cornwell. Well, now I can't put her books down. Her books just get better and better as you go through the Kay Scarpetta series.I really enjoy the series concept and the fact that some of the same characters keep returning from book to book. It's nice to see the characters develop through each story line. It allows you to get comfortable with them, get close to them, and get frustrated with them when they do something out of character.I highly recommend reading not just this book but the entire Kay Scarpetta series.\n"
     ]
    }
   ],
   "source": [
    "# Let's look at the first and last reviews\n",
    "print(\"First: \",reviewData[0]) # Why 0?\n",
    "print(\"Last:\",reviewData[-1])"
   ]
  },
  {
   "cell_type": "code",
   "execution_count": 4,
   "metadata": {
    "slideshow": {
     "slide_type": "slide"
    }
   },
   "outputs": [
    {
     "data": {
      "text/plain": [
       "\"__label__1 Okay but Messy....: We purchased this bag for a vacation we were taking a cruise and we wanted to use it when we left the ship. The bag was convenient to carry, however the faux leather began peeling. At first it wasn't so bad but then it became annoying because it then began flaking all over your skin and clothes. I would have rather the bag been a cloth bag with no flaking than the faux leather that I had to keep wisking away from my skin and clothes.\""
      ]
     },
     "execution_count": 4,
     "metadata": {},
     "output_type": "execute_result"
    }
   ],
   "source": [
    "# 2nd last item\n",
    "reviewData[-2]"
   ]
  },
  {
   "cell_type": "markdown",
   "metadata": {
    "slideshow": {
     "slide_type": "slide"
    }
   },
   "source": [
    "### Making sense\n",
    "\n",
    "* How do we make meaning of this data?\n",
    "* What intuitions might we have on the data?\n",
    "* How do we test these intuitions?\n",
    "* What do we need to do to make this raw data useful?"
   ]
  },
  {
   "cell_type": "code",
   "execution_count": 5,
   "metadata": {
    "slideshow": {
     "slide_type": "slide"
    }
   },
   "outputs": [
    {
     "name": "stdout",
     "output_type": "stream",
     "text": [
      "CD reviews:  6\n"
     ]
    },
    {
     "data": {
      "text/plain": [
       "['__label__2 Great CD: My lovely Pat has one of the GREAT voices of her generation. I have listened to this CD for YEARS and I still LOVE IT. When I\\'m in a good mood it makes me feel better. A bad mood just evaporates like sugar in the rain. This CD just oozes LIFE. Vocals are jusat STUUNNING and lyrics just kill. One of life\\'s hidden gems. This is a desert isle CD in my book. Why she never made it big is just beyond me. Everytime I play this, no matter black, white, young, old, male, female EVERYBODY says one thing \"Who was that singing ?\"',\n",
       " '__label__1 A complete Bust: This game requires quicktime 5.0 to work...if you have a better version of quicktime (I have 7.5), it will ask you to install the quicktime available on the CD...if you click no, it will not let you play. So, I begrudgingly clicked yes on the third try, and it installed quicktime 5, THEN it tells me to please install the quicktime available on the disc. It KEPT telling me that, even after I uninstalled my version of quicktime 7.5, and reinstalled Barbie Rapunzel and quicktime 5. Very frustrating, and the game absolutely will not work for me. It keeps telling me over and over, to install quicktime 5, tho I\\'ve been through the installation process repeatedly. It is NOT my \"operating system limitations\". This is a brand new computer...merely weeks old with all the state of the art contraptions.',\n",
       " '__label__2 Sony Hi8 Camcorder with 2.5 LCD: I believe I will be very happy with the camcorder. Its small,light and easy to handle.The LCD is clear and bright.Ease of operation.']"
      ]
     },
     "execution_count": 5,
     "metadata": {},
     "output_type": "execute_result"
    }
   ],
   "source": [
    "# What if we just want the CD reviews?\n",
    "cdReviews = list(filter(lambda text: \"CD\" in text,reviewData))\n",
    "\n",
    "# How many now?\n",
    "print(\"CD reviews: \",len(cdReviews))\n",
    "\n",
    "# Let's check the first few\n",
    "cdReviews[0:3]"
   ]
  },
  {
   "cell_type": "markdown",
   "metadata": {
    "slideshow": {
     "slide_type": "slide"
    }
   },
   "source": [
    "### Not so easy :(\n",
    "\n",
    "* How long did take you to spot the problem in the first 3 reviews?\n",
    "* How easy would it be to do with 21,178 reviews?\n",
    "* What about millions?\n",
    "* What is the computer good at?\n",
    "* What is the computer bad at?\n",
    "* What are humans good at?\n",
    "* What are humans bad at?"
   ]
  },
  {
   "cell_type": "markdown",
   "metadata": {
    "slideshow": {
     "slide_type": "fragment"
    }
   },
   "source": [
    "---\n",
    "\n",
    "## The Data Analytics Cycle\n"
   ]
  },
  {
   "cell_type": "markdown",
   "metadata": {},
   "source": [
    "For this unit, we are concerned with more than just data analytics, we are interested in what is *appropriate, efficous, ethical ...* what is the ***right*** kind of analytics to help provide the ***right*** kind of insights for business.\n",
    "\n",
    "In doing Data Analytics, we will follow a cycle - **QDAVI** - to address a business concern:\n",
    "\n",
    "1. **Q**uestion\n",
    "2. **D**ata\n",
    "3. **A**nalysis\n",
    "4. **V**isualisation\n",
    "5. **I**nsight\n",
    "\n",
    "<img src=\"graphics/QDAVI_cycle_sm.png\" width=\"50%\" />"
   ]
  },
  {
   "cell_type": "markdown",
   "metadata": {
    "slideshow": {
     "slide_type": "subslide"
    }
   },
   "source": [
    "### 1. QUESTION\n",
    "\n",
    "**Concern:** Getting to know eachother in IAB303\n",
    "\n",
    "> What aspects of IT are students mostly interested, and how does Data Analytics fit with these interests?"
   ]
  },
  {
   "cell_type": "markdown",
   "metadata": {},
   "source": [
    "### 2. Data\n",
    "\n",
    "Select and load data"
   ]
  },
  {
   "cell_type": "code",
   "execution_count": 6,
   "metadata": {
    "scrolled": true,
    "slideshow": {
     "slide_type": "fragment"
    }
   },
   "outputs": [
    {
     "name": "stdout",
     "output_type": "stream",
     "text": [
      "stud_num\n",
      "course\n",
      "mode\n",
      "lab\n",
      "workshop\n"
     ]
    }
   ],
   "source": [
    "# import a Python library for working with tabular data\n",
    "import pandas as pd\n",
    "\n",
    "# read our data into a dataframe variable (df)\n",
    "df = pd.read_csv('data/IAB303_info.csv') \n",
    "\n",
    "# print out the column headings\n",
    "for heading in df.columns:\n",
    "    print(heading)"
   ]
  },
  {
   "cell_type": "markdown",
   "metadata": {
    "slideshow": {
     "slide_type": "subslide"
    }
   },
   "source": [
    "### 3. Analysis\n",
    "\n",
    "We can ask questions of this data like how many students are there?"
   ]
  },
  {
   "cell_type": "code",
   "execution_count": 7,
   "metadata": {
    "slideshow": {
     "slide_type": "fragment"
    }
   },
   "outputs": [
    {
     "data": {
      "text/plain": [
       "(120, 5)"
      ]
     },
     "execution_count": 7,
     "metadata": {},
     "output_type": "execute_result"
    }
   ],
   "source": [
    "# The dimensional shape of the dataframe\n",
    "df.shape"
   ]
  },
  {
   "cell_type": "code",
   "execution_count": 8,
   "metadata": {
    "slideshow": {
     "slide_type": "-"
    }
   },
   "outputs": [
    {
     "data": {
      "text/plain": [
       "120"
      ]
     },
     "execution_count": 8,
     "metadata": {},
     "output_type": "execute_result"
    }
   ],
   "source": [
    "#We only want the number of rows\n",
    "df.shape[0]"
   ]
  },
  {
   "cell_type": "code",
   "execution_count": 9,
   "metadata": {
    "slideshow": {
     "slide_type": "-"
    }
   },
   "outputs": [
    {
     "name": "stdout",
     "output_type": "stream",
     "text": [
      "There are 120 students represented in the data\n"
     ]
    }
   ],
   "source": [
    "print(\"There are {} students represented in the data\".format(df.shape[0]))"
   ]
  },
  {
   "cell_type": "markdown",
   "metadata": {
    "slideshow": {
     "slide_type": "subslide"
    }
   },
   "source": [
    "OR our original question: Which courses are IAB303 students from?"
   ]
  },
  {
   "cell_type": "code",
   "execution_count": 10,
   "metadata": {
    "slideshow": {
     "slide_type": "fragment"
    }
   },
   "outputs": [
    {
     "data": {
      "text/plain": [
       "array(['IN01', 'IX22', 'U095', 'SE60', 'ST01', 'IX56', 'BS05', 'IX69'],\n",
       "      dtype=object)"
      ]
     },
     "execution_count": 10,
     "metadata": {},
     "output_type": "execute_result"
    }
   ],
   "source": [
    "df.course.unique()"
   ]
  },
  {
   "cell_type": "markdown",
   "metadata": {
    "slideshow": {
     "slide_type": "subslide"
    }
   },
   "source": [
    "But perhaps what is more useful is to know how many students are from each course..."
   ]
  },
  {
   "cell_type": "code",
   "execution_count": 11,
   "metadata": {
    "slideshow": {
     "slide_type": "fragment"
    }
   },
   "outputs": [
    {
     "data": {
      "text/plain": [
       "course\n",
       "BS05     2\n",
       "IN01    86\n",
       "IX22    22\n",
       "IX56     2\n",
       "IX69     1\n",
       "SE60     5\n",
       "ST01     1\n",
       "U095     1\n",
       "Name: stud_num, dtype: int64"
      ]
     },
     "execution_count": 11,
     "metadata": {},
     "output_type": "execute_result"
    }
   ],
   "source": [
    "courseNums = df.groupby('course')['stud_num'].count()\n",
    "courseNums"
   ]
  },
  {
   "cell_type": "markdown",
   "metadata": {
    "slideshow": {
     "slide_type": "subslide"
    }
   },
   "source": [
    "### 4. Visualisation"
   ]
  },
  {
   "cell_type": "code",
   "execution_count": 12,
   "metadata": {
    "slideshow": {
     "slide_type": "fragment"
    }
   },
   "outputs": [
    {
     "data": {
      "image/png": "[encoded data removed]",
      "text/plain": [
       "<Figure size 432x288 with 1 Axes>"
      ]
     },
     "metadata": {
      "needs_background": "light"
     },
     "output_type": "display_data"
    }
   ],
   "source": [
    "import matplotlib.pyplot as plt\n",
    "courseNums.plot(kind=\"bar\")\n",
    "plt.show()"
   ]
  },
  {
   "cell_type": "markdown",
   "metadata": {
    "slideshow": {
     "slide_type": "subslide"
    }
   },
   "source": [
    "### 5. Insight\n",
    "\n",
    "To actually make this insightful for our 'business' we need to (a) make clear what the chart is, and (b) explain the course codes."
   ]
  },
  {
   "cell_type": "code",
   "execution_count": 13,
   "metadata": {
    "slideshow": {
     "slide_type": "fragment"
    }
   },
   "outputs": [
    {
     "name": "stdout",
     "output_type": "stream",
     "text": [
      "IAB303 students are from 8 courses\n"
     ]
    }
   ],
   "source": [
    "# set some important variables with the extra info\n",
    "chartTitle=\"Number of IAB303 students by course\"\n",
    "yaxisLabel=\"number of students\"\n",
    "courses = {\n",
    "    \"BS05\":\"Bachelor of Business\",\n",
    "    \"IN01\":\"Bachelor of IT\",\n",
    "    \"IX22\":\"Bachelor of Business/Bachelor of Information Technology\",\n",
    "    \"IX56\":\"Bachelor of Creative Industries/Bachelor of Information Technology\",\n",
    "    \"IX69\":\"Bachelor of Fine Arts (Interactive and Visual Design)/Bachelor of Information Technology\",\n",
    "    \"SE60\":\"Bachelor of Engineering (Honours)/Bachelor of Information Technology\",\n",
    "    \"ST01\":\"Bachelor of Science\",\n",
    "    \"U095\":\"University Exchange Year\"\n",
    "}\n",
    "\n",
    "print(\"IAB303 students are from {} courses\".format(len(courses)))"
   ]
  },
  {
   "cell_type": "code",
   "execution_count": 14,
   "metadata": {
    "slideshow": {
     "slide_type": "subslide"
    }
   },
   "outputs": [
    {
     "data": {
      "image/png": "[encoded data removed]",
      "text/plain": [
       "<Figure size 432x288 with 1 Axes>"
      ]
     },
     "metadata": {
      "needs_background": "light"
     },
     "output_type": "display_data"
    },
    {
     "name": "stdout",
     "output_type": "stream",
     "text": [
      "BS05 - Bachelor of Business\n",
      "IN01 - Bachelor of IT\n",
      "IX22 - Bachelor of Business/Bachelor of Information Technology\n",
      "IX56 - Bachelor of Creative Industries/Bachelor of Information Technology\n",
      "IX69 - Bachelor of Fine Arts (Interactive and Visual Design)/Bachelor of Information Technology\n",
      "SE60 - Bachelor of Engineering (Honours)/Bachelor of Information Technology\n",
      "ST01 - Bachelor of Science\n",
      "U095 - University Exchange Year\n"
     ]
    }
   ],
   "source": [
    "courseNums.plot.bar(ax=plt.axes(title=chartTitle,ylabel = yaxisLabel))\n",
    "plt.show()\n",
    "for code,name in courses.items():\n",
    "    print(\"{} - {}\".format(code,name))"
   ]
  },
  {
   "cell_type": "markdown",
   "metadata": {
    "slideshow": {
     "slide_type": "slide"
    }
   },
   "source": [
    "---\n",
    "\n",
    "## The Big Idea: Addressing business concerns through storytelling with information\n",
    "\n",
    "1. **CONCERN:** The business concern or problem understood in the context of the business and relation to the stakeholders.\n",
    "\n",
    "2. **DATA ANALYTICS:** Potential sources of information that exist inside or outside of the business or which may be synthesised in order to address a business concern. Techniques and processes and tools which can be utilised in analysing available data for the purposes of addressing a business concern.\n",
    "\n",
    "4. **MEANING:** Relationships, perspectives, narratives, and understandings that are supported by the data analytics in a way that is meaningful for stakeholders and holds efficacy in addressing a business concern."
   ]
  },
  {
   "cell_type": "markdown",
   "metadata": {
    "slideshow": {
     "slide_type": "slide"
    }
   },
   "source": [
    "### CONCERN\n",
    "\n",
    "* what kind of problem - is it a business problem?\n",
    "* who are the stakeholders?\n",
    "* what is the context?\n",
    "* business model disruption\n",
    "* talent management\n",
    "* global market trends\n",
    "* foresight\n",
    "* political risk\n"
   ]
  },
  {
   "cell_type": "markdown",
   "metadata": {
    "slideshow": {
     "slide_type": "slide"
    }
   },
   "source": [
    "#### LEARN MORE\n",
    "\n",
    "> \"If you aren't harnessing the power of data, you're almost certain to end up falling behind.\"\n",
    ">\n",
    "> [The Top Issues CEOs Face These Days (2014)](https://www.wsj.com/articles/executive-leadership-what-are-the-top-issues-ceos-face-these-days-1395267060)\n",
    "\n",
    "> \"Don't ever try and present a technology solution to a business problem\"\n",
    ">\n",
    "> [Technology Solutions Do Not Always Solve Business Problems](https://youtu.be/J7XAFa4wXgY)\n"
   ]
  },
  {
   "cell_type": "markdown",
   "metadata": {
    "slideshow": {
     "slide_type": "slide"
    }
   },
   "source": [
    "#### LEARN MORE\n",
    "\n",
    "> \"Competitive innovation waits for no one\"\n",
    ">\n",
    "> [Worst Company Disasters! | Top 6 Blunders](https://youtu.be/T0Z73Zbtlyg) (16 mins)\n",
    "\n",
    "> \"You promised me Mars colonies. Instead, I got Facebook.\"\n",
    ">\n",
    "> [Jason Pontin: Can technology solve our big problems?](https://youtu.be/ZB50BfYlsDc)"
   ]
  },
  {
   "cell_type": "markdown",
   "metadata": {
    "slideshow": {
     "slide_type": "slide"
    }
   },
   "source": [
    "### DATA\n",
    "\n",
    "* external vs internal\n",
    "* external data for a bigger picture\n",
    "* industry, consumer, product trends\n",
    "* needs to be available for decisions\n",
    "* quality an issue\n",
    "* governance\n",
    "* realtime\n"
   ]
  },
  {
   "cell_type": "markdown",
   "metadata": {
    "slideshow": {
     "slide_type": "slide"
    }
   },
   "source": [
    "#### LEARN MORE\n",
    "\n",
    "> \"Only one-third of enterprises currently use information to identify new business opportunities and predict future trends and behavior\"\n",
    ">\n",
    "> [14 Survey-Based Recommendations on How to Improve Data-Driven Decision-Making](https://bi-survey.com/data-driven-decision-making-business)\n",
    "\n",
    "> \"External data can give you real-time, minute-by-minute updates on industry, consumer, and product trends.\"\n",
    ">\n",
    "> [Why now is the perfect time to go all in on external data analytics](https://www.import.io/post/why-now-is-the-perfect-time-to-go-all-in-on-external-data-analytics/)"
   ]
  },
  {
   "cell_type": "markdown",
   "metadata": {
    "slideshow": {
     "slide_type": "slide"
    }
   },
   "source": [
    "#### LEARN MORE\n",
    "\n",
    ">\"external data is one of the biggest blind spots in executive decision making today\"\n",
    ">\n",
    "> [Outside Insight: Why External Data Is The Fuel Of Tomorrow's Business Success](https://www.forbes.com/sites/bernardmarr/2017/11/15/outside-insight-why-external-data-is-the-fuel-of-tomorrows-business-success/#443d8fa25e1d)\n",
    "\n",
    "> \"There are many free, external data sources posted around the Internet that can, if used well, completely transform our understanding of our market, audience, and the way we do business.\"\n",
    ">\n",
    "> [Free Data Sources to Upgrade Your Business Decision-Making](https://www.sisense.com/blog/free-data-sources-upgrade-business-decision-making/)"
   ]
  },
  {
   "cell_type": "markdown",
   "metadata": {
    "slideshow": {
     "slide_type": "slide"
    }
   },
   "source": [
    "### ANALYTICS\n",
    "\n",
    "* anchored to business value\n",
    "* pragmatic approach\n",
    "* test strategies\n",
    "* invest in data for analytics insights\n"
   ]
  },
  {
   "cell_type": "markdown",
   "metadata": {
    "slideshow": {
     "slide_type": "slide"
    }
   },
   "source": [
    "#### LEARN MORE\n",
    "\n",
    "> \"big data analytics is not trawl fishing. It’s spear fishing\"\n",
    ">\n",
    ">[Big data analytics should be driven by business needs, not technology](https://www.mckinsey.com/business-functions/mckinsey-analytics/our-insights/big-data-analytics-should-be-driven-by-business-needs-not-technology)\n",
    "\n",
    "> \"So, one good rule of thumb is to always have a clear analytical objective.\"\n",
    "> \n",
    "> [Here Are The Benefits of Data-Driven Decision Making](https://www.entrepreneur.com/article/280923)"
   ]
  },
  {
   "cell_type": "markdown",
   "metadata": {
    "slideshow": {
     "slide_type": "slide"
    }
   },
   "source": [
    "### MEANING\n",
    "\n",
    "* proactivity\n",
    "* mitigating risk\n",
    "* customer experience\n",
    "* design thinking for human problems"
   ]
  },
  {
   "cell_type": "markdown",
   "metadata": {
    "slideshow": {
     "slide_type": "slide"
    }
   },
   "source": [
    "#### LEARN MORE\n",
    "\n",
    "> \"Today, businesses can collect data along every point of the customer journey\"\n",
    ">\n",
    ">[5 Big Benefits of Data and Analytics for Positive Business Outcomes](http://blogs.teradata.com/data-points/5-big-benefits-data-analytics-positive-business-outcomes/)\n",
    "\n",
    "> \"In design, we build our way forward\"\n",
    ">\n",
    "> [Want to Make Better Decisions? Know the Difference between Engineering and Design Thinking](https://youtu.be/q7LRxKHdao8) (7 mins)\n",
    "\n"
   ]
  }
 ],
 "metadata": {
  "celltoolbar": "Slideshow",
  "kernelspec": {
   "display_name": "Python 3",
   "language": "python",
   "name": "python3"
  },
  "language_info": {
   "codemirror_mode": {
    "name": "ipython",
    "version": 3
   },
   "file_extension": ".py",
   "mimetype": "text/x-python",
   "name": "python",
   "nbconvert_exporter": "python",
   "pygments_lexer": "ipython3",
   "version": "3.7.6"
  }
 },
 "nbformat": 4,
 "nbformat_minor": 4
}
