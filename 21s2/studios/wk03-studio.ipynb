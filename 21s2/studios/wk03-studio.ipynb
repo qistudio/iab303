{
 "cells": [
  {
   "cell_type": "markdown",
   "metadata": {},
   "source": [
    "<div class=\"alert alert-block alert-info\"><b>IAB303</b> - Data Analytics for Business Insight</div>"
   ]
  },
  {
   "cell_type": "markdown",
   "metadata": {},
   "source": [
    "# Internal concerns, structured data & open data\n",
    "\n",
    "In this session we focus on the internal concerns of businesses, look at how structured data is important for addressing these concerns, and also take a look at how open data can be valuable for addressing internal concerns.\n",
    "\n",
    "---"
   ]
  },
  {
   "cell_type": "markdown",
   "metadata": {},
   "source": [
    "### QDAVI\n",
    "\n",
    "When addressing business concerns, our interest is much more than just the data analytics. We are interested in what is *appropriate, efficous, ethical ...* --  what is the ***right*** kind of analytics to help provide the ***right*** kind of insights for business. To provide some structure to our approach, we follow a cycle - **QDAVI** - to address a business concern:\n",
    "\n",
    "1. **Q**uestion\n",
    "2. **D**ata\n",
    "3. **A**nalysis\n",
    "4. **V**isualisation\n",
    "5. **I**nsight\n",
    "\n",
    "<img src=\"graphics/QDAVI_cycle_sm.png\" width=\"50%\" />"
   ]
  },
  {
   "cell_type": "markdown",
   "metadata": {},
   "source": [
    "### Internal business concerns\n",
    "\n",
    "Review business concerns\n",
    "\n",
    "What are internal business concerns?"
   ]
  },
  {
   "cell_type": "markdown",
   "metadata": {},
   "source": [
    "### Structured data\n",
    "\n",
    "With structured data, the structure is defined in advance and the data that populates the structure is consistent.\n",
    "\n",
    "Typically, structured data is in a tabular format with rows and columns:\n",
    "\n",
    "* Columns normally represent fields or properties that are consistent across the whole of the data e.g. postcode or phone number\n",
    "* Each row is a separate record in the data e.g. each customer has their own row in a customers table \n",
    "\n",
    "Often structured data is saved in `CSV` file format on the file system and we read it into a `pandas` `dataframe`. Review the video and notebook for **Structured Data** for an introduction on how to load and save.\n"
   ]
  },
  {
   "cell_type": "markdown",
   "metadata": {},
   "source": [
    "---\n",
    "### Example 1 - workplace safety\n",
    "\n",
    "**BUSINESS CONCERN:**\n",
    "\n",
    "Workplace safety can have a significant impact on business success. Not only do accidents and injury cost time and money, but a safe healthy environment can contribute to a positive culture which in turn can improve employee wellbeing and lift productivity and efficacy.\n",
    "\n",
    "https://www.comcare.gov.au/safe-healthy-work/healthy-workplace/benefits"
   ]
  },
  {
   "cell_type": "markdown",
   "metadata": {},
   "source": [
    "#### Question:\n",
    "\n",
    "To improve safety, should we target any particular groups of people?\n",
    "\n",
    "#### DATA"
   ]
  },
  {
   "cell_type": "code",
   "execution_count": null,
   "metadata": {
    "scrolled": true
   },
   "outputs": [],
   "source": [
    "# Sample data from https://www.contextures.com/xlsampledata01.html#morefiles\n",
    "\n",
    "# To use pandas, we need to import it (normally as 'pd')\n",
    "import pandas as pd\n",
    "\n",
    "# We can then open a CSV file into a new dataframe\n",
    "safety_df = pd.read_csv('data/sampledatasafety.csv')\n",
    "\n",
    "# view the dataframe\n",
    "safety_df"
   ]
  },
  {
   "cell_type": "markdown",
   "metadata": {},
   "source": [
    "#### Analysis:\n",
    "\n",
    "There are usually a number of ways of doing a single an analysis task. We will use a few different techniques over the notebook to get familiar with what is possible.\n",
    "\n",
    "Let's start by checking how many Male and Female are involved in incidents, by counting the number of rows for each."
   ]
  },
  {
   "cell_type": "code",
   "execution_count": null,
   "metadata": {},
   "outputs": [],
   "source": [
    "# First how many incidents are in the database?\n",
    "incident_count = len(safety_df)\n",
    "incident_count"
   ]
  },
  {
   "cell_type": "code",
   "execution_count": null,
   "metadata": {},
   "outputs": [],
   "source": [
    "# We can get a boolean value series for a whole column by applying a condition to that column\n",
    "safety_df['Gender']=='Male'"
   ]
  },
  {
   "cell_type": "code",
   "execution_count": null,
   "metadata": {
    "scrolled": true
   },
   "outputs": [],
   "source": [
    "# To get the true values of the column we just use the series as the selector for the dataframe\n",
    "male_safety_df = safety_df[safety_df['Gender']=='Male']\n",
    "male_safety_df"
   ]
  },
  {
   "cell_type": "code",
   "execution_count": null,
   "metadata": {},
   "outputs": [],
   "source": [
    "# How many incidents for Males?\n",
    "male_incident_count = len(male_safety_df)\n",
    "male_incident_count"
   ]
  },
  {
   "cell_type": "code",
   "execution_count": null,
   "metadata": {},
   "outputs": [],
   "source": [
    "# Output as percentage:\n",
    "male_ratio = male_incident_count/incident_count\n",
    "print(\"Of all safety incidents, {:.2%} involved males\".format(male_ratio))"
   ]
  },
  {
   "cell_type": "markdown",
   "metadata": {},
   "source": [
    "Based on this, we could focus training efforts on men as that is likely to have more impact, but this is pretty broad. Let's have a look at age groups. \n",
    "\n",
    "Filtering rows for each group is tedious, what we need to is to *group* the data frame into rows by `Age Group` and then count the number of rows in each group. Turns out, pandas has a way of doing exactly that with the `GroupBy` function."
   ]
  },
  {
   "cell_type": "code",
   "execution_count": null,
   "metadata": {},
   "outputs": [],
   "source": [
    "# Just doing the groups with the males to start with\n",
    "male_safety_df.groupby(['Age Group']).count()"
   ]
  },
  {
   "cell_type": "code",
   "execution_count": null,
   "metadata": {},
   "outputs": [],
   "source": [
    "# What about Department?\n",
    "male_safety_df.groupby(['Department']).count()"
   ]
  },
  {
   "cell_type": "markdown",
   "metadata": {},
   "source": [
    "The incidents are fairly evenly spread across age groups and departments, but perhaps there is a difference in the seriousness of the injuries for these groups, so maybe we need to filter the data based on days lost:"
   ]
  },
  {
   "cell_type": "code",
   "execution_count": null,
   "metadata": {},
   "outputs": [],
   "source": [
    "minor_male_df = male_safety_df[male_safety_df['Days Lost'] == 0]\n",
    "minor_male_df"
   ]
  },
  {
   "cell_type": "code",
   "execution_count": null,
   "metadata": {},
   "outputs": [],
   "source": [
    "# Output as percentage:\n",
    "minor_male_ratio = len(minor_male_df)/male_incident_count\n",
    "print(\"Of all male safety incidents, {:.2%} were minor involving {} days lost\".format(minor_male_ratio,0))"
   ]
  },
  {
   "cell_type": "code",
   "execution_count": null,
   "metadata": {
    "scrolled": true
   },
   "outputs": [],
   "source": [
    "# More than 1 day lost\n",
    "major_male_df = male_safety_df[male_safety_df['Days Lost'] > 2]\n",
    "major_male_df"
   ]
  },
  {
   "cell_type": "code",
   "execution_count": null,
   "metadata": {},
   "outputs": [],
   "source": [
    "# Retry age\n",
    "major_male_df.groupby(['Age Group']).count()"
   ]
  },
  {
   "cell_type": "code",
   "execution_count": null,
   "metadata": {},
   "outputs": [],
   "source": [
    "# ... and department\n",
    "major_male_df.groupby(['Department']).count()"
   ]
  },
  {
   "cell_type": "code",
   "execution_count": null,
   "metadata": {},
   "outputs": [],
   "source": [
    "# What about both with a total of days lost?\n",
    "major_male_df.groupby(['Department','Age Group']).sum('Days Lost')"
   ]
  },
  {
   "cell_type": "code",
   "execution_count": null,
   "metadata": {},
   "outputs": [],
   "source": [
    "# Just days lost\n",
    "male_days_df = major_male_df.groupby(['Department','Age Group']).sum('Days Lost')['Days Lost'] \n",
    "male_days_df"
   ]
  },
  {
   "cell_type": "code",
   "execution_count": null,
   "metadata": {},
   "outputs": [],
   "source": [
    "# Filter total days more than 5\n",
    "max_male_days_df = male_days_df[male_days_df > 10]\n",
    "max_male_days_df"
   ]
  },
  {
   "cell_type": "markdown",
   "metadata": {},
   "source": [
    "#### Visualisation:\n",
    "\n",
    "Although we have some helpful information which we can use for insights, often the visualisation process can help us derive further insights."
   ]
  },
  {
   "cell_type": "code",
   "execution_count": null,
   "metadata": {},
   "outputs": [],
   "source": [
    "max_male_days_df.plot(kind='bar')"
   ]
  },
  {
   "cell_type": "code",
   "execution_count": null,
   "metadata": {},
   "outputs": [],
   "source": [
    "# Unpack this a bit more using the unstack() function\n",
    "\n",
    "max_male_days_df.unstack().plot(kind='bar')"
   ]
  },
  {
   "cell_type": "markdown",
   "metadata": {},
   "source": [
    "### Insights\n",
    "\n",
    "* ???"
   ]
  },
  {
   "cell_type": "markdown",
   "metadata": {},
   "source": [
    "---\n",
    "### Example 2 - customer contact info\n",
    "\n",
    "\n",
    "**BUSINESS CONCERN:**\n",
    "\n",
    "Arguably the most critical data for a business is data about their customers. Understanding their customers is critical for almost all business decisions including sales, product development, logistics, and even human resources.\n",
    "\n",
    "https://www.business.qld.gov.au/starting-business/planning/market-customer-research/researching-customers/customer-needs"
   ]
  },
  {
   "cell_type": "markdown",
   "metadata": {},
   "source": [
    "#### Question:\n",
    "\n",
    "Where should we start in providing more localised support for our customers?\n",
    "\n",
    "#### Data:"
   ]
  },
  {
   "cell_type": "code",
   "execution_count": null,
   "metadata": {
    "scrolled": true
   },
   "outputs": [],
   "source": [
    "# Sample data from https://www.briandunning.com/sample-data/\n",
    "\n",
    "customer_df = pd.read_csv('data/au-500.csv')\n",
    "\n",
    "# view the dataframe\n",
    "customer_df"
   ]
  },
  {
   "cell_type": "markdown",
   "metadata": {},
   "source": [
    "#### Analysis:\n",
    "\n",
    "We follow our intuintion in conducting the analysis. Remember there are often many ways of addressing the **question**. This analysis is just one approach."
   ]
  },
  {
   "cell_type": "code",
   "execution_count": null,
   "metadata": {
    "scrolled": true
   },
   "outputs": [],
   "source": [
    "# Where are our customers located? Which state? Post code?\n",
    "postal_df = customer_df.groupby(['state','post']).count()\n",
    "postal_df"
   ]
  },
  {
   "cell_type": "code",
   "execution_count": null,
   "metadata": {},
   "outputs": [],
   "source": [
    "# More than 2 customers in a postcode?\n",
    "postal_df[postal_df['company_name']>2]"
   ]
  },
  {
   "cell_type": "code",
   "execution_count": null,
   "metadata": {
    "scrolled": true
   },
   "outputs": [],
   "source": [
    "# What about cities?\n",
    "city_df = customer_df.groupby(['state','city']).count()\n",
    "city_df"
   ]
  },
  {
   "cell_type": "code",
   "execution_count": null,
   "metadata": {},
   "outputs": [],
   "source": [
    "# More than 2 customers in a postcode?\n",
    "city_df[city_df['company_name']>1]"
   ]
  },
  {
   "cell_type": "markdown",
   "metadata": {},
   "source": [
    "The city data is not quite as helpful as the postal data, but perhaps we need a wider geographic area. Let's use the postcode construction to get a wider net:"
   ]
  },
  {
   "cell_type": "code",
   "execution_count": null,
   "metadata": {},
   "outputs": [],
   "source": [
    "# Modify postcodes to get first 2 digits\n",
    "code = 4051\n",
    "int(code/100)"
   ]
  },
  {
   "cell_type": "code",
   "execution_count": null,
   "metadata": {
    "scrolled": true
   },
   "outputs": [],
   "source": [
    "# Apply this to dataframe\n",
    "def getArea(code):\n",
    "    return int(code/100)\n",
    "\n",
    "customer_df['area'] = customer_df['post'].apply(getArea)\n",
    "customer_df"
   ]
  },
  {
   "cell_type": "code",
   "execution_count": null,
   "metadata": {
    "scrolled": true
   },
   "outputs": [],
   "source": [
    "# Group by new area column\n",
    "area_s = customer_df.groupby(['state','area'])['company_name'].nunique()\n",
    "area_s"
   ]
  },
  {
   "cell_type": "code",
   "execution_count": null,
   "metadata": {},
   "outputs": [],
   "source": [
    "# More than 2 customers in a postcode?\n",
    "top_areas = area_s[area_s>15]\n",
    "top_areas"
   ]
  },
  {
   "cell_type": "markdown",
   "metadata": {},
   "source": [
    "##### Visualisation:"
   ]
  },
  {
   "cell_type": "code",
   "execution_count": null,
   "metadata": {},
   "outputs": [],
   "source": [
    "top_areas.unstack().plot(kind='bar')"
   ]
  },
  {
   "cell_type": "markdown",
   "metadata": {},
   "source": [
    "#### Insights\n",
    "\n",
    "We need to keep in mind assumptions that we take while conducting analyses. For example, there could be some issues with postcodes, such as the geographic size, and that some cross state boundaries.\n",
    "\n",
    "https://www.abs.gov.au/websitedbs/censushome.nsf/home/factsheetspoa?opendocument&navpos=450\n",
    "\n",
    "* ???"
   ]
  },
  {
   "cell_type": "markdown",
   "metadata": {},
   "source": [
    "---\n",
    "### Open data\n",
    "\n",
    "Businesses are increasingly waking up to the value of using open data - data provided openly by governments and other organisations. Government data is particularly important for many businesses as can provide high level information that might be difficult to a smaller business to obtain.\n",
    "\n",
    "https://data.gov.au\n"
   ]
  },
  {
   "cell_type": "markdown",
   "metadata": {},
   "source": [
    "---\n",
    "### Example 3 - market size\n",
    "\n",
    "\n",
    "\n",
    "**BUSINESS CONCERN:**\n",
    "\n",
    "Expanding a business is risky and expensive, particular if the expansion involves exporting to other countries. It is essential to have a good understanding of potential markets and the degree of competition in those markets.\n",
    "\n",
    "https://export.business.gov.au/find-export-markets/tips-for-choosing-export-markets\n",
    "\n",
    "For the purposes of this exercise, our business fits into a trade category of\n",
    "`Made-up textile articles`"
   ]
  },
  {
   "cell_type": "markdown",
   "metadata": {},
   "source": [
    "#### Question:\n",
    "\n",
    " If we want to start exporting, what is the market size for our Australian competitors, and which are the biggest destinations?\n",
    "\n",
    "#### Data:"
   ]
  },
  {
   "cell_type": "code",
   "execution_count": null,
   "metadata": {
    "scrolled": true
   },
   "outputs": [],
   "source": [
    "# Sample data from https://data.gov.au/data/dataset/australia-s-merchandise-trade-by-state-territory-by-country-sitc-to-fy2017\n",
    "\n",
    "# We can then open a CSV file into a new dataframe\n",
    "trade_df = pd.read_csv('data/trade_data-fy2017-658.csv')\n",
    "\n",
    "# view the dataframe\n",
    "trade_df"
   ]
  },
  {
   "cell_type": "markdown",
   "metadata": {},
   "source": [
    "#### Analysis:"
   ]
  },
  {
   "cell_type": "code",
   "execution_count": null,
   "metadata": {},
   "outputs": [],
   "source": [
    "# What is the export value in various geographic levels?\n",
    "l1_df = trade_df.groupby(['Trade type','Geographic level 1']).sum()\n",
    "l1_df"
   ]
  },
  {
   "cell_type": "code",
   "execution_count": null,
   "metadata": {},
   "outputs": [],
   "source": [
    "# Lets make this easier to read\n",
    "l1_df.round(0)"
   ]
  },
  {
   "cell_type": "markdown",
   "metadata": {},
   "source": [
    "#### Visualisation:\n",
    "\n",
    "Sometimes our data is difficult to explore without visualising. In these instances, it is good to use the visualisation as part of the exploration process. This is the equivalent of doing multiple cycles of QDAVI (with sub questions) within the overall question."
   ]
  },
  {
   "cell_type": "code",
   "execution_count": null,
   "metadata": {},
   "outputs": [],
   "source": [
    "# Reverse the groupby to make it easier to see imports and exports for each country\n",
    "l1_df = trade_df.groupby(['Geographic level 1','Trade type']).sum()\n",
    "l1_df.round(0)"
   ]
  },
  {
   "cell_type": "code",
   "execution_count": null,
   "metadata": {},
   "outputs": [],
   "source": [
    "# Visualise this - unstack allows levels of grouping to feed into the plot function\n",
    "l1_df.unstack().plot(kind='bar')"
   ]
  },
  {
   "cell_type": "markdown",
   "metadata": {},
   "source": [
    "Doing the visualisation as part of the exploration helps us see an **insight** that imports from Asia are so big (> \\$11B) that its difficult to see what is going on with exports.\n",
    "So lets just zoom in on the exports."
   ]
  },
  {
   "cell_type": "code",
   "execution_count": null,
   "metadata": {},
   "outputs": [],
   "source": [
    "# Just exports\n",
    "exports_df = trade_df[trade_df['Trade type']=='Total Exports']\n",
    "l1_exports_df = exports_df.groupby(['Geographic level 1']).sum().round(0)\n",
    "l1_exports_df"
   ]
  },
  {
   "cell_type": "code",
   "execution_count": null,
   "metadata": {},
   "outputs": [],
   "source": [
    "l1_exports_df.plot(kind='bar')"
   ]
  },
  {
   "cell_type": "markdown",
   "metadata": {},
   "source": [
    "That's better, and it gives us an overview, so perhaps we can look at by `State` as well."
   ]
  },
  {
   "cell_type": "code",
   "execution_count": null,
   "metadata": {},
   "outputs": [],
   "source": [
    "l1_exports_df = exports_df.groupby(['State','Geographic level 1']).sum().round(0)\n",
    "l1_exports_df.unstack(0).plot(kind='bar')"
   ]
  },
  {
   "cell_type": "markdown",
   "metadata": {},
   "source": [
    "Given that `Oceania & Antarctica` dominate and that Antarctica is *not* likely to be significant, what is the dominant Oceania region. We can try looking at different levels."
   ]
  },
  {
   "cell_type": "code",
   "execution_count": null,
   "metadata": {},
   "outputs": [],
   "source": [
    "# Let's define a function to make it easy\n",
    "\n",
    "def getDataForLevel(level):\n",
    "    return exports_df.groupby(['State','Geographic level '+str(level)]).sum().round(0)"
   ]
  },
  {
   "cell_type": "code",
   "execution_count": null,
   "metadata": {},
   "outputs": [],
   "source": [
    "getDataForLevel(2).unstack(0).plot(kind='bar')"
   ]
  },
  {
   "cell_type": "code",
   "execution_count": null,
   "metadata": {},
   "outputs": [],
   "source": [
    "getDataForLevel(3).unstack(0).plot(kind='bar')"
   ]
  },
  {
   "cell_type": "markdown",
   "metadata": {},
   "source": [
    "I suspect this is *New Zealand*. Let's confirm by taking a look at all countries with exports of over \\$10M."
   ]
  },
  {
   "cell_type": "code",
   "execution_count": null,
   "metadata": {},
   "outputs": [],
   "source": [
    "# What about specific countries greater than 10M\n",
    "country_df = exports_df.groupby(['Partner country']).sum().round(0)\n",
    "top_country_df = country_df[country_df[\"A$'000\"] > 10000]\n",
    "top_country_df"
   ]
  },
  {
   "cell_type": "code",
   "execution_count": null,
   "metadata": {},
   "outputs": [],
   "source": [
    "top_country_df.plot(kind='bar')"
   ]
  },
  {
   "cell_type": "markdown",
   "metadata": {},
   "source": [
    "#### Insights:\n",
    "\n",
    "* ???"
   ]
  }
 ],
 "metadata": {
  "kernelspec": {
   "display_name": "Python 3",
   "language": "python",
   "name": "python3"
  },
  "language_info": {
   "codemirror_mode": {
    "name": "ipython",
    "version": 3
   },
   "file_extension": ".py",
   "mimetype": "text/x-python",
   "name": "python",
   "nbconvert_exporter": "python",
   "pygments_lexer": "ipython3",
   "version": "3.7.6"
  }
 },
 "nbformat": 4,
 "nbformat_minor": 4
}
