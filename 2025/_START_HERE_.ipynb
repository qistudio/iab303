{
 "cells": [
  {
   "attachments": {},
   "cell_type": "markdown",
   "metadata": {},
   "source": [
    "# Getting Started\n",
    "\n",
    "Welcome to the IAB303 JupyterLab.\n",
    "This service is running in QUT's data centre here in Brisbane."
   ]
  },
  {
   "attachments": {},
   "cell_type": "markdown",
   "metadata": {},
   "source": [
    "During the semester, the teaching team will update the notebooks and other resources on our GitHub repo.\n",
    "\n",
    "To *PULL* these resources into your personal Jupyter environment, click this link:\n",
    "\n",
    "### [Get files from GitHub](https://jupyter.eres.qut.edu.au/hub/user-redirect/git-pull?repo=https%3A%2F%2Fgithub.com%2Fqistudio%2Fiab303&urlpath=lab/workspaces/auto-J/tree/iab303/2024&branch=release)\n",
    "\n",
    "Note that this will not overwrite your own files. If you need a clean copy at any point, copy your old files into another direction (like 'old-files'), and then click the link above to pull a fresh copy of the files."
   ]
  },
  {
   "cell_type": "markdown",
   "metadata": {},
   "source": []
  }
 ],
 "metadata": {
  "kernelspec": {
   "display_name": "Python 3",
   "language": "python",
   "name": "python3"
  },
  "language_info": {
   "name": "python",
   "version": "3.10.6"
  },
  "orig_nbformat": 4,
  "qut": {
   "creation_period": "2023_sem2",
   "nb_name": "_START_HERE_",
   "unit_code": "IAB303"
  },
  "vscode": {
   "interpreter": {
    "hash": "31f2aee4e71d21fbe5cf8b01ff0e069b9275f58929596ceb00d14d90e3e16cd6"
   }
  }
 },
 "nbformat": 4,
 "nbformat_minor": 2
}
