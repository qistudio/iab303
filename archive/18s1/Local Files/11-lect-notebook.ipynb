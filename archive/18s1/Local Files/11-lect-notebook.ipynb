{
 "cells": [
  {
   "cell_type": "markdown",
   "metadata": {},
   "source": [
    "<div class=\"alert alert-block alert-info\">IAB303 - Business Intelligence - <a href=\"0%20-%20IAB303%20Overview.ipynb\">overview</a></div>"
   ]
  },
  {
   "cell_type": "markdown",
   "metadata": {},
   "source": [
    "## LECTURE :: Trends in business data analytics\n",
    "\n"
   ]
  },
  {
   "cell_type": "markdown",
   "metadata": {},
   "source": [
    "### Some context - What is happening at the top?\n",
    "\n",
    "[In five years, the CIO will be a digital evangelist, product manager](https://searchcio.techtarget.com/video/In-five-years-the-CIO-will-be-a-digital-evangelist-product-manager)\n",
    "\n",
    "> Here’s McKinsey’s summary of the grim reality: “…few executives say their IT leaders are closely involved in helping shape the strategic agenda, and confidence in IT’s ability to support growth and other business goals is waning. Moreover, IT and business executives disagree strongly on the function’s overall priorities.”\n",
    ">\n",
    "> [The CIO Dilemma: What New Surveys Say About IT's Declining Strategic Role](https://www.forbes.com/sites/gilpress/2015/02/23/the-cio-dilemma-what-new-surveys-say-about-its-declining-strategic-role/2/#18dd3311d483)\n"
   ]
  },
  {
   "cell_type": "markdown",
   "metadata": {},
   "source": [
    "> While systems engineers and help-desk roles have declined dramatically, the architecture space has expanded in their place as CIOs and CTOs, looking to shape their technology strategy to support the business strategy, hire more specialists like enterprise architects, integration architects, solutions architects, data architects and security architects.  We’re seeing this trend consistently at both the enterprise and mid-market level as architecture matures as a discipline.\n",
    ">\n",
    "> [IT jobs changing as CIOs shift their focus from efficiency to innovation](http://www.marshallmcadam.com.au/it-jobs-changing-as-cios-shift-their-focus-from-efficiency-to-innovation.html)\n"
   ]
  },
  {
   "cell_type": "markdown",
   "metadata": {},
   "source": [
    "### What is Industry saying?\n",
    "\n",
    "* [BARC BI Trend Monitor](http://barc-research.com/research/bi-trend-monitor/) (2,770 Users, consultants, vendors). 3 upward trends: \n",
    "    1. Data preparation, \n",
    "    2. Collaboration, \n",
    "    3. Using external/open data (biggest change)\n",
    " \n",
    "\n",
    "* **Top 5 Overall...**\n",
    "    1. Master Data/DQ Management\n",
    "    2. Data discovery/Visualisation\n",
    "    3. Self-service BI\n",
    "    4. Data governance\n",
    "    5. Data preparation\n",
    "        "
   ]
  },
  {
   "cell_type": "markdown",
   "metadata": {},
   "source": [
    "* [Qlik](https://www.qlik.com/bi/trends)\n",
    "    1. Data literacy increasing social priority\n",
    "    2. Hybrid multi-cloud to connect the dots\n",
    "    3. Data gets edgy\n",
    "    4. Big data, data discovery, and data science will converge\n",
    "    5. Data catalogs for self-service\n",
    "    6. Need for interopability puts focus on APIs\n",
    "    7. Blockchain will drive experimentation beyond cryptocurrencies\n",
    "    8. Analytics will become conversational\n",
    "    9. Reporting will become highly contextualised\n",
    "    10. Analytics will become emersive"
   ]
  },
  {
   "cell_type": "markdown",
   "metadata": {},
   "source": [
    "* [Tableau](https://www.tableau.com/reports/business-intelligence-trends)\n",
    "    1. Don't fear AI\n",
    "    2. Liberal arts impact\n",
    "    3. Promise of NLP\n",
    "    4. Multi-cloud debate\n",
    "    5. Rise of the CDO\n",
    "    6. Crowd-sourced governance\n",
    "    7. Data insurance\n",
    "    8. Data engineer role\n",
    "    9. Location IoT\n",
    "    10. Academics investment"
   ]
  },
  {
   "cell_type": "markdown",
   "metadata": {},
   "source": [
    "  * [Microsoft Power BI](https://powerbi.microsoft.com/en-us/blog/five-key-trends-in-business-intelligence/)\n",
    "    1. BI for everyone\n",
    "    2. Self-service analytics\n",
    "    3. Realtime analytics\n",
    "    4. Data integration\n",
    "    5. Mobile BI"
   ]
  },
  {
   "cell_type": "markdown",
   "metadata": {},
   "source": [
    "* [Dataversity](http://www.dataversity.net/business-intelligence-analytics-trends-2018/)\n",
    "    1. Augmented Data Preparation will gain popularity among the business users\n",
    "    2. Data visualization\n",
    "    3. Smart Data Discovery\n",
    "    4. Citizen Data Scientists or mainstream business users will depend on mobile analytics\n",
    "    5. The larger organizations will heavily invest in building an in-house BI/analytics platform"
   ]
  },
  {
   "cell_type": "markdown",
   "metadata": {},
   "source": [
    "* [Capterra](https://blog.capterra.com/significant-business-intelligence-trends-for-2018/)\n",
    "    1. The rise of Augmented analytics\n",
    "    2. Artificial Intelligence use skyrockets\n",
    "    3. More cloud, less danger\n",
    "    4. More visualisation requires better quality data\n",
    "    5. Modern and accessible business intelligence\n",
    "    "
   ]
  },
  {
   "cell_type": "markdown",
   "metadata": {},
   "source": [
    "* [Datapine](https://www.datapine.com/)\n",
    "    1. Artificial Intelligence\n",
    "    2. Predictive and prescriptive analytics tools\n",
    "    3. Natural Language Processing\n",
    "    4. Data quality management\n",
    "    5. Multi-cloud strategy\n",
    "    6. Data governance\n",
    "    7. Security\n",
    "    8. Rise of the Chief Data Officer (CDO)\n",
    "    9. Embedded BI\n",
    "    10. Collaborative BI\n",
    "\n"
   ]
  },
  {
   "cell_type": "markdown",
   "metadata": {},
   "source": [
    "### What are the common themes\n",
    "\n",
    "1. Data analytics is moving out of IT and into the hands of business users\n",
    "2. Less monolithic, more suites of data management AI driven analytics and user focused visualisation and discovery\n",
    "3. Less centralised, more multi-platform, multi-system, multi-cloud\n",
    "4. Managed less by tech centric CIO and more by business focused CDO\n",
    "5. Increasing contextualisation"
   ]
  },
  {
   "cell_type": "markdown",
   "metadata": {},
   "source": [
    "### Implications for IT professionals\n",
    "\n",
    "1. Change of focus - Less database, More data\n",
    "2. Change of work - Less tech expert, More keeping the lights on (tech), More connecting with strategy (info)\n",
    "3. Change of jobs - A decline in Systems jobs, A rise in human information integration jobs"
   ]
  },
  {
   "cell_type": "markdown",
   "metadata": {},
   "source": [
    "* [4 principles that will shape the future of IT](https://www.cio.com/article/3040853/software/4-principles-that-will-shape-the-future-of-it.html)\n",
    "    1. Software is eating the world\n",
    "    2. Open source is eating the technology industry\n",
    "    3. No enterprise is Netflix ...or ever will be\n",
    "    4. Helping enterprises becoming software companies via open source is the next decade’s IT challenge … and opportunity"
   ]
  },
  {
   "cell_type": "markdown",
   "metadata": {},
   "source": [
    "### Keeping the lights on ... or enabling differentiation?\n",
    "\n",
    "[What is the future of IT?](https://youtu.be/mt9ERCxqY4I)"
   ]
  },
  {
   "cell_type": "markdown",
   "metadata": {},
   "source": [
    "# Where is your future?"
   ]
  },
  {
   "cell_type": "code",
   "execution_count": null,
   "metadata": {},
   "outputs": [],
   "source": []
  }
 ],
 "metadata": {
  "kernelspec": {
   "display_name": "Python 3",
   "language": "python",
   "name": "python3"
  },
  "language_info": {
   "codemirror_mode": {
    "name": "ipython",
    "version": 3
   },
   "file_extension": ".py",
   "mimetype": "text/x-python",
   "name": "python",
   "nbconvert_exporter": "python",
   "pygments_lexer": "ipython3",
   "version": "3.6.4"
  }
 },
 "nbformat": 4,
 "nbformat_minor": 2
}
