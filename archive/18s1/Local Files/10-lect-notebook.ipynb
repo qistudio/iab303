{
 "cells": [
  {
   "cell_type": "markdown",
   "metadata": {},
   "source": [
    "<div class=\"alert alert-block alert-info\">IAB303 - Business Intelligence - <a href=\"0%20-%20IAB303%20Overview.ipynb\">overview</a></div>"
   ]
  },
  {
   "cell_type": "markdown",
   "metadata": {},
   "source": [
    "## LECTURE :: Addressing business concerns with multiple analytic methods"
   ]
  },
  {
   "cell_type": "markdown",
   "metadata": {},
   "source": [
    "## Why?\n",
    "* Why do we need multiple analytics methods?\n",
    "* Why address internal and external data?"
   ]
  },
  {
   "cell_type": "markdown",
   "metadata": {},
   "source": [
    "> Our research, which has involved studying more than 50 international organizations in a variety of industries, has identified an alternative approach to big data and analytics projects that allows companies to continually exploit data in new ways. Instead of the deployment of technology, it focuses on the exploration of information. And rather than viewing information as a resource that resides in databases—which works well for designing and implementing conventional IT systems—it sees information as something that people themselves make valuable.\n",
    ">\n",
    "> [Marchand and Peppard (2013)](https://hbr.org/2013/01/why-it-fumbles-analytics)\n"
   ]
  },
  {
   "cell_type": "markdown",
   "metadata": {},
   "source": [
    "### Understand the differences between IT and Data Analytics projects\n",
    "\n",
    "<img src=\"https://hbr.org/resources/images/article_assets/hbr/1301/R1301H_A_LG.gif\"/>"
   ]
  },
  {
   "cell_type": "markdown",
   "metadata": {},
   "source": [
    "### 5 Recommendations\n",
    "\n",
    "Marchand and Peppard (2013) recommend:\n",
    "* Place users—the people who will create meaning from the information—at the heart of the initiative.\n",
    "* Unlock value from IT by asking second-order questions and giving teams the freedom to reframe business problems.\n",
    "* Equip teams with cognitive and behavioral scientists, who understand how people perceive problems and analyze data.\n",
    "* Focus on learning by facilitating information sharing, examining assumptions, and striving to understand cause and effect.\n",
    "* Worry more about solving business problems than about deploying technology.\n",
    "\n",
    "https://hbr.org/2013/01/why-it-fumbles-analytics"
   ]
  },
  {
   "cell_type": "markdown",
   "metadata": {},
   "source": [
    "### Implications for Business Data Analytics\n",
    "\n",
    ">In 2016, we are going to see a mash up of business intelligence and market intelligence platforms, a mash up that will be transformational for both industries:\n",
    ">\n",
    "> * Business intelligence will have to deliver not only the software, but also the data that helps their customers understand their business; and .\n",
    ">\n",
    "> * Market intelligence will have to learn how to distribute their data in a more modern way than they currently do.\n",
    ">\n",
    "> * Together, these intelligence platforms will have to figure out how to deliver joint value in a way that best suits both of them and more importantly, their customers. Maybe we will call this unison \"unified intelligence\"?\n",
    ">\n",
    "> * Whatever it will be called, we are in for an interesting transformation of these two major industries, so buckle up and enjoy the ride.\n",
    ">\n",
    "> [Hjalmar Gislason, VP of data at BI, Qlik](https://www.businesslive.co.za/bd/opinion/2016-07-23-business-intelligence-must-look-at-internal-and-external-data/)\n"
   ]
  },
  {
   "cell_type": "markdown",
   "metadata": {},
   "source": [
    "## Where?\n",
    "\n",
    "* [How Netflix Used Analytics in the House of Cards](https://youtu.be/OFAqbfEl870)\n",
    "* [How ZARA Uses Data Analytics To Run A Profitable Business](https://youtu.be/bkcAmCqIaao)\n",
    "* [We Can Use Big Data to Make Ourselves Better](https://www.youtube.com/watch?v=qApXwClhrcg)"
   ]
  },
  {
   "cell_type": "markdown",
   "metadata": {},
   "source": [
    "## How?\n",
    "* How do we connect internal and external data?\n",
    "    - the wrong way: focus on the IT\n",
    "    - the right way: focus on the human interaction with the information\n",
    "\n",
    "* How do we ensure a focus on human information interaction? \n",
    "    - Hypothesis to connect external to business concern.\n",
    "    - Hypothesis to connect internal to business concern.\n",
    "    "
   ]
  },
  {
   "cell_type": "markdown",
   "metadata": {},
   "source": [
    "### Example\n",
    "\n",
    "* Example - stock prediction (e.g. \n",
    "    - Seasonality from internal data\n",
    "        - What is the internal data?\n",
    "        - What is the hypothesis for how the **data** relates to the **human** aspects of the business concern?\n",
    "    - Weather from external data\n",
    "        - What is the external data?\n",
    "        -  What is the hypothesis for how the **data** relates to the **human** aspects of the business concern?\n",
    "    - How are these hypotheses related?"
   ]
  }
 ],
 "metadata": {
  "kernelspec": {
   "display_name": "Python 3",
   "language": "python",
   "name": "python3"
  },
  "language_info": {
   "codemirror_mode": {
    "name": "ipython",
    "version": 3
   },
   "file_extension": ".py",
   "mimetype": "text/x-python",
   "name": "python",
   "nbconvert_exporter": "python",
   "pygments_lexer": "ipython3",
   "version": "3.6.4"
  }
 },
 "nbformat": 4,
 "nbformat_minor": 2
}
