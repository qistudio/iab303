{
 "cells": [
  {
   "cell_type": "markdown",
   "metadata": {
    "slideshow": {
     "slide_type": "skip"
    }
   },
   "source": [
    "<div class=\"alert alert-block alert-info\">IAB303 - Business Intelligence - <a href=\"0%20-%20IAB303%20Overview.ipynb\">overview</a></div>"
   ]
  },
  {
   "cell_type": "markdown",
   "metadata": {
    "slideshow": {
     "slide_type": "slide"
    }
   },
   "source": [
    "## LECTURE :: Scraping the web for market information\n",
    "\n",
    "### CASE: Digital Camera\n",
    "\n",
    "> Steven Sasson invented the first self-contained digital camera at Eastman Kodak in 1975. It weighed 8 pounds (3.6 kg) and had only 100 × 100 resolution (0.01 megapixels). The image was recorded onto a cassette tape and this process took 23 seconds. His camera took images in black-and-white. It used a battery for power, so it was entirely self-contained.[3] As he set out on his design project, what he envisioned for the future was a camera without mechanical moving parts (although his device did have moving parts, such as the tape drive).[4]\n",
    ">\n",
    "> [Steven Sasson (Wikipedia)](https://en.wikipedia.org/wiki/Steven_Sasson)\n"
   ]
  },
  {
   "cell_type": "markdown",
   "metadata": {
    "slideshow": {
     "slide_type": "slide"
    }
   },
   "source": [
    "<img src=\"https://i1.wp.com/beloved-brands.com/wp-content/uploads/2012/11/kodak-bankruptcy-Internet-Disrupts.jpg\" width=\"60%\"/>\n",
    "\n",
    "[Beloved Brands](http://beloved-brands.com/tag/brand-failures/) - Attack yourself!"
   ]
  },
  {
   "cell_type": "markdown",
   "metadata": {
    "slideshow": {
     "slide_type": "slide"
    }
   },
   "source": [
    "* Founded in 1888 [Eastman Kodak](https://en.wikipedia.org/wiki/Kodak) filed for bankrupcy in 2012.\n",
    "\n",
    "* Kodak owned the patent for the [Electronic still camera](https://patents.google.com/patent/US4131919). \n",
    "\n",
    "\n",
    "* **Why the spectacular failure?**\n",
    "    * [You Press the Button. Kodak Used to do the Rest](https://www.technologyreview.com/s/426323/you-press-the-button-kodak-used-to-do-the-rest/)\n",
    "    * [The Last Kodak Moment (2012)](https://www.economist.com/node/21542796)"
   ]
  },
  {
   "cell_type": "markdown",
   "metadata": {
    "slideshow": {
     "slide_type": "slide"
    }
   },
   "source": [
    "### Revisiting the Lecture Prep - What is the world telling us?\n",
    "\n",
    "Peruse the following websites and make a note of different types of news and different countries mentioned in headlines or short abstracts (not the articles themselves), then answer the questions below.\n",
    "\n",
    "* [ABC World News](http://www.abc.net.au/news/world/)\n",
    "\n",
    "* [Reuters World News](https://www.reuters.com/news/world)\n",
    "\n",
    "* [BBC World news](http://www.bbc.com/news/world)\n",
    "\n",
    "* [SBS World News](https://www.sbs.com.au/news/topic/world)\n",
    "\n",
    "\n",
    "**Q1:** Pretend that you are working for a company with international customers. What data from these websites would be useful for your business. How would you colate it and use it? \n",
    "\n",
    "**Q2:** If you were to produce a daily report, what would it look like?\n",
    "\n"
   ]
  }
 ],
 "metadata": {
  "celltoolbar": "Slideshow",
  "kernelspec": {
   "display_name": "Python 3",
   "language": "python",
   "name": "python3"
  },
  "language_info": {
   "codemirror_mode": {
    "name": "ipython",
    "version": 3
   },
   "file_extension": ".py",
   "mimetype": "text/x-python",
   "name": "python",
   "nbconvert_exporter": "python",
   "pygments_lexer": "ipython3",
   "version": "3.6.4"
  }
 },
 "nbformat": 4,
 "nbformat_minor": 2
}
