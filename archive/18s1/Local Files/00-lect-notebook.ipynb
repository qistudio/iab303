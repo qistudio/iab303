{
 "cells": [
  {
   "cell_type": "markdown",
   "metadata": {},
   "source": [
    "<div class=\"alert alert-block alert-info\">IAB303 - Business Intelligence - <a href=\"0%20-%20IAB303%20Overview.ipynb\">overview</a></div>"
   ]
  },
  {
   "cell_type": "markdown",
   "metadata": {},
   "source": [
    "## LECTURE :: Prepare for semester\n",
    "\n",
    "There is no lecture for this week, however you should take this opportunity to ensure that you are prepared to start next week:\n",
    "\n",
    "- Read through the [Week 0 Prep notebook](00-prep-notebook.ipynb), watch the videos and complete the short reflection survey.\n",
    "- Work through the [Week 0 Prac notebook](00-prac-notebook.ipynb) to refresh your knowledge of Python and become familiar with Jupyter.\n",
    "- Ensure that you have read through the Study Guide for the unit (download from Blackboard)."
   ]
  },
  {
   "cell_type": "code",
   "execution_count": null,
   "metadata": {},
   "outputs": [],
   "source": []
  }
 ],
 "metadata": {
  "kernelspec": {
   "display_name": "Python 3",
   "language": "python",
   "name": "python3"
  },
  "language_info": {
   "codemirror_mode": {
    "name": "ipython",
    "version": 3
   },
   "file_extension": ".py",
   "mimetype": "text/x-python",
   "name": "python",
   "nbconvert_exporter": "python",
   "pygments_lexer": "ipython3",
   "version": "3.6.4"
  }
 },
 "nbformat": 4,
 "nbformat_minor": 2
}
