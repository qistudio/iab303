{
 "cells": [
  {
   "cell_type": "markdown",
   "metadata": {},
   "source": [
    "## PRACTICAL :: Essential Elements in Business Reports\n",
    "\n",
    "1. Report Structure\n",
    "2. Writing a Good Report"
   ]
  },
  {
   "cell_type": "markdown",
   "metadata": {},
   "source": [
    "## Business Reports\n",
    "\n",
    "Business report is a written document that provides information and analysis to assist a business in making informed decisions.\n",
    "\n",
    "[How to Write a Business Report](https://www.youtube.com/watch?v=fYRLiyT1Ttk)\n"
   ]
  },
  {
   "cell_type": "markdown",
   "metadata": {},
   "source": [
    "### Report Structure\n",
    "\n",
    "Following are some of the key components (but not limited to) of a good business report.\n",
    "\n",
    "* Title Page\n",
    "* Table of Contents\n",
    "* Executive Summary\n",
    "* Introduction\n",
    "* Body\n",
    "* Conclusions (and Recommendations)\n",
    "\n",
    "[What Are the Typical Components of a Business Report?](https://bizfluent.com/info-8250160-typical-components-business-report.html)\n",
    "\n",
    "[Report Writing](https://www.youtube.com/watch?v=FXIuHOFAxos)"
   ]
  },
  {
   "cell_type": "markdown",
   "metadata": {},
   "source": [
    "## Writing a Good Report\n",
    "\n",
    "* Determine its purpose\n",
    "* Identify the readers and write to them\n",
    "* Organize in an orderly manner\n",
    "* Make it appeal\n",
    "* Review and revise\n",
    "\n",
    "[How To Write A Great Report: 7 Tips To Make Your Next Report Stand Out](https://biggsuccess.com/bigg-articles/how-to-write-a-great-report/)\n",
    "\n",
    "[How NOT to Write Reports for Senior management](https://blogs.sap.com/2017/08/23/how-not-to-write-reports-for-senior-management/)\n",
    "\n",
    "[How to Write a Business Report to an Executive](http://smallbusiness.chron.com/write-business-report-executive-17048.html)"
   ]
  },
  {
   "cell_type": "code",
   "execution_count": null,
   "metadata": {},
   "outputs": [],
   "source": []
  }
 ],
 "metadata": {
  "hide_input": false,
  "kernelspec": {
   "display_name": "Python 3",
   "language": "python",
   "name": "python3"
  },
  "language_info": {
   "codemirror_mode": {
    "name": "ipython",
    "version": 3
   },
   "file_extension": ".py",
   "mimetype": "text/x-python",
   "name": "python",
   "nbconvert_exporter": "python",
   "pygments_lexer": "ipython3",
   "version": "3.6.4"
  }
 },
 "nbformat": 4,
 "nbformat_minor": 2
}
