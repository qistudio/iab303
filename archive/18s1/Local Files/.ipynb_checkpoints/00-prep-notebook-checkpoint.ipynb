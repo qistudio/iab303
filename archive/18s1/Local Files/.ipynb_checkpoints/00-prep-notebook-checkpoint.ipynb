{
 "cells": [
  {
   "cell_type": "markdown",
   "metadata": {},
   "source": [
    "<div class=\"alert alert-block alert-info\">IAB303 - Business Intelligence - <a href=\"0%20-%20IAB303%20Overview.ipynb\">overview</a>"
   ]
  },
  {
   "cell_type": "markdown",
   "metadata": {},
   "source": [
    "## PREPARE :: Prepare for semester\n",
    "\n",
    "Welcome to IAB303 Business Intelligence. This notebook presents some important information to help you prepare for your learning this semester. Please read through it carefully, and undertake the tasks **BEFORE** the classes commence in week 1."
   ]
  },
  {
   "cell_type": "markdown",
   "metadata": {},
   "source": [
    "<div class=\"alert alert-block alert-warning\">\n",
    "<b>IMPORTANT:</b> Note that these notebooks <b>do not</b> replace the important univeristy specific information and processes that are provided via lectures, practicals and the Learning Management System (Blackboard).\n",
    "</div>"
   ]
  },
  {
   "cell_type": "markdown",
   "metadata": {},
   "source": [
    "### Unit Structure\n",
    "\n",
    "Each week of the unit will follow a similar structure:\n",
    "\n",
    "1. *Prepare* - tasks to complete prior to the lecture and practical for the week. These tasks are intended to help you become familiar with the topic, and may involve readings or watching key videos. They will also involve you answering some brief questions to help you reflect on the topic and how it links to your prior learning. Allow 20-30 minutes.\n",
    "\n",
    "2. *Lecture* - the lecture timeslot for this unit will include aproximately 30-40 minutes of detailed content about the topic, and 10-20 minutes of Q&A or discussion about important concepts. Understanding of key concepts will be assessed in the end of semester exam.\n",
    "\n",
    "3. *Practical* - the practical exercises are designed to be mostly completed in the 2 hour practical sessions, with some opportunities for extension in your own time. The techniques introduced in the practical tasks will form the basis of your assignments, so these sessions are also an opportunity for you to gain a good understanding on how to complete the assignments."
   ]
  },
  {
   "cell_type": "markdown",
   "metadata": {},
   "source": [
    "<div class=\"alert alert-block alert-warning\">\n",
    "Choose <b>Run all</b> from the Cell menu above to load the material below...\n",
    "</div>"
   ]
  },
  {
   "cell_type": "markdown",
   "metadata": {},
   "source": [
    "## Watch\n",
    "\n",
    "Watch the following video on business analytics from [IBM](https://www.youtube.com/user/IBM). Note, if you would like to see how these videos are embedded in the notebook, click the `Show code` button."
   ]
  },
  {
   "cell_type": "code",
   "execution_count": null,
   "metadata": {
    "scrolled": true
   },
   "outputs": [],
   "source": [
    "from IPython.display import HTML\n",
    "HTML('''<script>\n",
    "code_show=true; \n",
    "function code_toggle() {\n",
    " if (code_show){\n",
    " $('div.input').hide();\n",
    " } else {\n",
    " $('div.input').show();\n",
    " }\n",
    " code_show = !code_show\n",
    "} \n",
    "$( document ).ready(code_toggle);\n",
    "</script>\n",
    "<form action=\"javascript:code_toggle()\"><input type=\"submit\" value=\"Show code\"></form>''')"
   ]
  },
  {
   "cell_type": "code",
   "execution_count": null,
   "metadata": {},
   "outputs": [],
   "source": [
    "HTML('<iframe width=\"560\" height=\"315\" src=\"https://www.youtube-nocookie.com/embed/6jDjeNJrN14?rel=0\" frameborder=\"0\" allow=\"autoplay; encrypted-media\" allowfullscreen></iframe>')"
   ]
  },
  {
   "cell_type": "markdown",
   "metadata": {},
   "source": [
    "...and this one on information and data analytics from [Fujitsu](https://www.youtube.com/user/FujitsuUK)"
   ]
  },
  {
   "cell_type": "code",
   "execution_count": null,
   "metadata": {},
   "outputs": [],
   "source": [
    "HTML('<iframe width=\"560\" height=\"315\" src=\"https://www.youtube-nocookie.com/embed/A8sQtJQazfE?rel=0\" frameborder=\"0\" allow=\"autoplay; encrypted-media\" allowfullscreen></iframe>')"
   ]
  },
  {
   "cell_type": "markdown",
   "metadata": {},
   "source": [
    "## Reflect\n",
    "\n",
    "Pause for a moment and think about your understanding of Business Intelligence and what you would like to get out of this unit. Complete the online survey below so that we can analyse the results of the class for discussion next week."
   ]
  },
  {
   "cell_type": "code",
   "execution_count": null,
   "metadata": {},
   "outputs": [],
   "source": [
    "HTML('<div class=\"typeform-widget\" data-url=\"https://andrewgibson.typeform.com/to/DiCir7\" style=\"width: 100%; height: 500px;\"></div> <script> (function() { var qs,js,q,s,d=document, gi=d.getElementById, ce=d.createElement, gt=d.getElementsByTagName, id=\"typef_orm\", b=\"https://embed.typeform.com/\"; if(!gi.call(d,id)) { js=ce.call(d,\"script\"); js.id=id; js.src=b+\"embed.js\"; q=gt.call(d,\"script\")[0]; q.parentNode.insertBefore(js,q) } })() </script> <div style=\"font-family: Sans-Serif;font-size: 12px;color: #999;opacity: 0.5; padding-top: 5px;\"> powered by <a href=\"https://admin.typeform.com/signup?utm_campaign=DiCir7&utm_source=typeform.com-11589094-Basic&utm_medium=typeform&utm_content=typeform-embedded-poweredbytypeform&utm_term=EN\" style=\"color: #999\" target=\"_blank\">Typeform</a> </div>')"
   ]
  },
  {
   "cell_type": "markdown",
   "metadata": {},
   "source": [
    "That's it for the preparation. Take a look at the lecture and practical materials for this week."
   ]
  }
 ],
 "metadata": {
  "kernelspec": {
   "display_name": "Python 3",
   "language": "python",
   "name": "python3"
  },
  "language_info": {
   "codemirror_mode": {
    "name": "ipython",
    "version": 3
   },
   "file_extension": ".py",
   "mimetype": "text/x-python",
   "name": "python",
   "nbconvert_exporter": "python",
   "pygments_lexer": "ipython3",
   "version": "3.6.7"
  }
 },
 "nbformat": 4,
 "nbformat_minor": 2
}
