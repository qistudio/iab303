{
 "cells": [
  {
   "cell_type": "markdown",
   "metadata": {},
   "source": [
    "<div class=\"alert alert-block alert-info\"><b>IAB303</b> - Data Analytics for Business Insight</div>"
   ]
  },
  {
   "cell_type": "markdown",
   "metadata": {},
   "source": [
    "## PRACTICAL :: Open data for business environment assessment\n",
    "\n",
    "1. Basics\n",
    "2. Connect to API\n",
    "3. Experiment with JSON from APIs"
   ]
  },
  {
   "cell_type": "markdown",
   "metadata": {},
   "source": [
    "---\n",
    "### [1] Basics\n",
    "\n",
    "* JSON objects loaded as python Dicts\n",
    "* JSON arrays loaded as python Lists"
   ]
  },
  {
   "cell_type": "markdown",
   "metadata": {},
   "source": [
    "---\n",
    "#### JSON objects"
   ]
  },
  {
   "cell_type": "code",
   "execution_count": 4,
   "metadata": {},
   "outputs": [
    {
     "name": "stdout",
     "output_type": "stream",
     "text": [
      "The type of simpleJsonObj: <class 'str'>\n",
      "loadedObj looks like: {'lastname': 'gibson', 'firstname': 'andrew'}\n",
      "The type of loadedObj: <class 'dict'>\n"
     ]
    }
   ],
   "source": [
    "# import the python json library\n",
    "import json\n",
    "\n",
    "#  a simple json object\n",
    "simpleJsonObj = '{ \"lastname\": \"gibson\",\"firstname\": \"andrew\"}'\n",
    "print(\"The type of simpleJsonObj:\",type(simpleJsonObj))\n",
    "loadedObj = json.loads(simpleJsonObj)\n",
    "\n",
    "# print some information about the loaded object\n",
    "print(\"loadedObj looks like:\",loadedObj)\n",
    "print(\"The type of loadedObj:\",type(loadedObj))"
   ]
  },
  {
   "cell_type": "markdown",
   "metadata": {},
   "source": [
    "**DISCUSSION:** \n",
    "- What is a string?\n",
    "- What happened when we loaded the string with the function `json.loads()`?\n",
    "- A python `dict` is a dictionary which has `keys` and `values`. Using your common knowledge of a dictionary, what do you think keys and values are?\n",
    "- What are the keys and values in the example above?"
   ]
  },
  {
   "cell_type": "code",
   "execution_count": 14,
   "metadata": {},
   "outputs": [
    {
     "name": "stdout",
     "output_type": "stream",
     "text": [
      "First name: andrew\n",
      "Last name: gibson\n"
     ]
    }
   ],
   "source": [
    "# Access dict values by key\n",
    "value1 = loadedObj.get(\"firstname\")\n",
    "print(\"First name:\",value1)\n",
    "value2 = loadedObj[\"lastname\"]\n",
    "print(\"Last name:\",value2)"
   ]
  },
  {
   "cell_type": "code",
   "execution_count": 16,
   "metadata": {},
   "outputs": [
    {
     "name": "stdout",
     "output_type": "stream",
     "text": [
      "First name: andrew\n",
      "Last name: gibson\n"
     ]
    }
   ],
   "source": [
    "# Or a shortcut for the above\n",
    "print(\"First name:\",loadedObj['firstname'])\n",
    "print(\"Last name:\",loadedObj['lastname'])"
   ]
  },
  {
   "cell_type": "code",
   "execution_count": 10,
   "metadata": {},
   "outputs": [
    {
     "name": "stdout",
     "output_type": "stream",
     "text": [
      "keys: dict_keys(['lastname', 'firstname'])\n",
      "values: dict_values(['gibson', 'andrew'])\n",
      "items: dict_items([('lastname', 'gibson'), ('firstname', 'andrew')])\n"
     ]
    }
   ],
   "source": [
    "# Get all of the keys\n",
    "print(\"keys:\",loadedObj.keys())\n",
    "\n",
    "# Get all of the values\n",
    "print(\"values:\",loadedObj.values())\n",
    "\n",
    "# Get all of the items\n",
    "print(\"items:\",loadedObj.items())"
   ]
  },
  {
   "cell_type": "markdown",
   "metadata": {},
   "source": [
    "We can iterate over any of these lists (keys, values, items). This enables us to do something useful with each itme in the dictionary. For now, we are using print, but we could do anything (possible in Python) with each item by using the same approach. The basic pattern is: \n",
    "\n",
    "```\n",
    "for ITEM in LIST:\n",
    "    do something\n",
    "```"
   ]
  },
  {
   "cell_type": "code",
   "execution_count": 13,
   "metadata": {},
   "outputs": [
    {
     "name": "stdout",
     "output_type": "stream",
     "text": [
      "The lastname is gibson\n",
      "The firstname is andrew\n"
     ]
    }
   ],
   "source": [
    "# Iterate over the dictionary items\n",
    "for key,value in loadedObj.items():\n",
    "    print(\"The\",key,\"is\",value)"
   ]
  },
  {
   "cell_type": "markdown",
   "metadata": {},
   "source": [
    "**EXPERIMENT:** \n",
    "- try iterating over keys and values separately\n",
    "- try changing the key and value above\n",
    "- try adding more keys and values to the json object (hint: `mydict[key] = \"value\"`)\n",
    "- try sorting the dictionary (hint: `sorted(mydict)` or `sorted(mydict.values())`)"
   ]
  },
  {
   "cell_type": "markdown",
   "metadata": {},
   "source": [
    "---\n",
    "#### JSON arrays"
   ]
  },
  {
   "cell_type": "code",
   "execution_count": 20,
   "metadata": {},
   "outputs": [
    {
     "name": "stdout",
     "output_type": "stream",
     "text": [
      "loadedArray looks like: ['element1', 2, 'el 3', 432, {'name': 'andrew'}]\n",
      "loadedArray type is: <class 'list'>\n"
     ]
    }
   ],
   "source": [
    "# try loading a json array\n",
    "simpleJsonArray = '[\"element1\",2,\"el 3\",432, { \"name\": \"andrew\" }]'\n",
    "\n",
    "loadedArray = json.loads(simpleJsonArray)\n",
    "print(\"loadedArray looks like:\",loadedArray)\n",
    "print(\"loadedArray type is:\",type(loadedArray))"
   ]
  },
  {
   "cell_type": "code",
   "execution_count": 22,
   "metadata": {},
   "outputs": [
    {
     "name": "stdout",
     "output_type": "stream",
     "text": [
      "The first element is: 2\n"
     ]
    }
   ],
   "source": [
    "# Access an element of a list using its index\n",
    "elem = loadedArray[1]\n",
    "print(\"The first element is:\",elem)"
   ]
  },
  {
   "cell_type": "markdown",
   "metadata": {},
   "source": [
    "- What is this incorrect?\n",
    "- Modify the code to make it correct"
   ]
  },
  {
   "cell_type": "code",
   "execution_count": 24,
   "metadata": {},
   "outputs": [
    {
     "name": "stdout",
     "output_type": "stream",
     "text": [
      "{'name': 'andrew'}\n",
      "<class 'dict'>\n"
     ]
    }
   ],
   "source": [
    "# get the last element in the list\n",
    "nameObj = loadedArray[-1]\n",
    "print(nameObj)\n",
    "print(type(nameObj))"
   ]
  },
  {
   "cell_type": "markdown",
   "metadata": {},
   "source": [
    "- What do you notice about this element type?\n",
    "- What does this tell you that we can do with Python lists and dicts?\n",
    "- Why is this important?"
   ]
  },
  {
   "cell_type": "code",
   "execution_count": null,
   "metadata": {},
   "outputs": [],
   "source": [
    "# Iterate over the list the same as we did for dicts\n",
    "for entry in loadedArray:\n",
    "    print(entry)"
   ]
  },
  {
   "cell_type": "code",
   "execution_count": null,
   "metadata": {},
   "outputs": [],
   "source": [
    "#Test if an element exists\n",
    "432 in loadedArray"
   ]
  },
  {
   "cell_type": "markdown",
   "metadata": {},
   "source": [
    "**EXPERIMENT:** Try adding elements, to the original json array. Try adding json objects to the json array, and a json array as an element in a json object"
   ]
  },
  {
   "cell_type": "markdown",
   "metadata": {},
   "source": [
    "---\n",
    "### [2] Connect to an API\n",
    "\n",
    "Starting with the lecture example, let's retrieve some JSON from XKCD and load it into Python Dict."
   ]
  },
  {
   "cell_type": "code",
   "execution_count": null,
   "metadata": {},
   "outputs": [],
   "source": [
    "from urllib import request, response\n",
    "\n",
    "#Fetch the data for the latest xkcd comic\n",
    "comicRequest = request.Request('http://xkcd.com/info.0.json')\n",
    "comicResponse = request.urlopen(comicRequest)\n",
    "#print(comicResponse.status)                   \n",
    "responseBody = comicResponse.read().decode('utf8')\n",
    "print(responseBody)\n",
    "print(type(responseBody))\n",
    "#Read the JSON\n",
    "jsonFromApi = json.loads(responseBody)\n",
    "print(jsonFromApi)\n",
    "print(type(jsonFromApi))"
   ]
  },
  {
   "cell_type": "code",
   "execution_count": null,
   "metadata": {},
   "outputs": [],
   "source": [
    "#Now get the title of the comic\n",
    "title = jsonFromApi[\"title\"]\n",
    "print(title)"
   ]
  },
  {
   "cell_type": "markdown",
   "metadata": {},
   "source": [
    "### Experiment with JSON from APIs\n",
    "\n",
    "1. First create a function that gets json from a URL and returns a Python array or dict\n",
    "2. Try your function on: `https://dog.ceo/api/breeds/list/all` - how many breeds of hound are there?\n",
    "3. Try with other APIs of your choice"
   ]
  },
  {
   "cell_type": "code",
   "execution_count": null,
   "metadata": {},
   "outputs": [],
   "source": [
    "#Function\n",
    "def getDogBreeds(url):\n",
    "    req = request.Request(url)\n",
    "    resp = request.urlopen(req)\n",
    "    body = resp.read().decode('utf8')\n",
    "    return json.loads(body)"
   ]
  },
  {
   "cell_type": "code",
   "execution_count": null,
   "metadata": {},
   "outputs": [],
   "source": [
    "#Get the breeds\n",
    "data = getDogBreeds(\"https://dog.ceo/api/breeds/list/all\")\n",
    "#print(data)\n",
    "breeds = data[\"message\"]\n",
    "print(breeds)"
   ]
  },
  {
   "cell_type": "code",
   "execution_count": null,
   "metadata": {},
   "outputs": [],
   "source": [
    "#Answer question?\n",
    "setter = breeds[\"setter\"]\n",
    "#how many?\n",
    "print(len(setter))\n",
    "#what are they?\n",
    "print(setter)"
   ]
  },
  {
   "cell_type": "code",
   "execution_count": null,
   "metadata": {},
   "outputs": [],
   "source": [
    "def getBreed(breed):\n",
    "    breedData = breeds[breed]\n",
    "    return breedData"
   ]
  },
  {
   "cell_type": "code",
   "execution_count": null,
   "metadata": {},
   "outputs": [],
   "source": [
    "getBreed(\"setter\")"
   ]
  },
  {
   "cell_type": "code",
   "execution_count": null,
   "metadata": {},
   "outputs": [],
   "source": []
  }
 ],
 "metadata": {
  "hide_input": false,
  "kernelspec": {
   "display_name": "Python 3",
   "language": "python",
   "name": "python3"
  },
  "language_info": {
   "codemirror_mode": {
    "name": "ipython",
    "version": 3
   },
   "file_extension": ".py",
   "mimetype": "text/x-python",
   "name": "python",
   "nbconvert_exporter": "python",
   "pygments_lexer": "ipython3",
   "version": "3.6.7"
  }
 },
 "nbformat": 4,
 "nbformat_minor": 2
}
