{
 "cells": [
  {
   "cell_type": "markdown",
   "metadata": {},
   "source": [
    "<div class=\"alert alert-block alert-info\">IAB303 - Business Intelligence - <a href=\"0%20-%20IAB303%20Overview.ipynb\">overview</a></div>"
   ]
  },
  {
   "cell_type": "markdown",
   "metadata": {},
   "source": [
    "## PREPARE :: Scraping the web for market information"
   ]
  },
  {
   "cell_type": "markdown",
   "metadata": {},
   "source": [
    "Hi everyone. Due to some personal circumstances on my part, there is no cheesy video as part of this week's prep. However, I do wish to draw your attention to a few things...\n",
    "1. I have updated the assignment FAQ with some important questions that have been coming in via email\n",
    "2. A reminder to submit Part A of your assignment by Monday if you wish to get feedback on your work thus far. The link is now available on Blackboard.\n",
    "3. Last week's lecture Q&A recording is online in Blackboard\n",
    "4. Please complete this week's reflection which is focused on the unit format"
   ]
  },
  {
   "cell_type": "markdown",
   "metadata": {},
   "source": [
    "### Lecture Prep\n",
    "\n",
    "Peruse the following websites and make a note of different types of news and different countries mentioned in headlines or short abstracts (not the articles themselves), then answer the questions below.\n",
    "\n",
    "* [ABC World News](http://www.abc.net.au/news/world/)\n",
    "\n",
    "* [Reuters World News](https://www.reuters.com/news/world)\n",
    "\n",
    "* [BBC World news](http://www.bbc.com/news/world)\n",
    "\n",
    "* [SBS World News](https://www.sbs.com.au/news/topic/world)\n",
    "\n",
    "\n",
    "**Q1:** Pretend that you are working for a company with international customers. What data from these websites would be useful for your business. How would you colate it and use it? \n",
    "\n",
    "**Q2:** If you were to produce a daily report, what would it look like?\n"
   ]
  },
  {
   "cell_type": "markdown",
   "metadata": {},
   "source": [
    "### Reflection Survey\n",
    "\n",
    "<a class=\"typeform-share button\" href=\"https://andrewgibson.typeform.com/to/JV8WnH\" data-mode=\"popup\" style=\"display:inline-block;text-decoration:none;background-color:#267DDD;color:white;cursor:pointer;font-family:Helvetica,Arial,sans-serif;font-size:20px;line-height:50px;text-align:center;margin:0;height:50px;padding:0px 33px;border-radius:25px;max-width:100%;white-space:nowrap;overflow:hidden;text-overflow:ellipsis;font-weight:bold;-webkit-font-smoothing:antialiased;-moz-osx-font-smoothing:grayscale;\" target=\"_blank\">reflect </a> <script> (function() { var qs,js,q,s,d=document, gi=d.getElementById, ce=d.createElement, gt=d.getElementsByTagName, id=\"typef_orm_share\", b=\"https://embed.typeform.com/\"; if(!gi.call(d,id)){ js=ce.call(d,\"script\"); js.id=id; js.src=b+\"embed.js\"; q=gt.call(d,\"script\")[0]; q.parentNode.insertBefore(js,q) } })() </script>"
   ]
  }
 ],
 "metadata": {
  "kernelspec": {
   "display_name": "Python 3",
   "language": "python",
   "name": "python3"
  },
  "language_info": {
   "codemirror_mode": {
    "name": "ipython",
    "version": 3
   },
   "file_extension": ".py",
   "mimetype": "text/x-python",
   "name": "python",
   "nbconvert_exporter": "python",
   "pygments_lexer": "ipython3",
   "version": "3.6.4"
  }
 },
 "nbformat": 4,
 "nbformat_minor": 2
}
