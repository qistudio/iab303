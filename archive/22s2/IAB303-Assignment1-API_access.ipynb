{
 "cells": [
  {
   "cell_type": "markdown",
   "id": "1b0e8326",
   "metadata": {},
   "source": [
    "### Guardian API access\n",
    "\n",
    "You will need to apply for a free developer key in order to use the API fully within Jupyter:\n",
    "\n",
    "[Guardian Open Platform - Getting started](https://open-platform.theguardian.com/access/)\n",
    "\n",
    "You can explore what is possible with the API here:\n",
    "\n",
    "[Guardian Open Platform - explore](https://open-platform.theguardian.com/explore/)"
   ]
  },
  {
   "cell_type": "code",
   "execution_count": null,
   "id": "3bcfe98d",
   "metadata": {},
   "outputs": [],
   "source": [
    "#load key\n",
    "with open('private/guardian_key.txt', 'r') as file:\n",
    "    key = file.read().strip()\n",
    "len(key)"
   ]
  },
  {
   "cell_type": "code",
   "execution_count": null,
   "id": "efb65ee8",
   "metadata": {},
   "outputs": [],
   "source": [
    "#import required libraries\n",
    "import requests\n",
    "import json"
   ]
  },
  {
   "cell_type": "code",
   "execution_count": null,
   "id": "e73870f4",
   "metadata": {},
   "outputs": [],
   "source": [
    " #build a search URL\n",
    "baseUrl = 'https://content.guardianapis.com/search?q='\n",
    "searchString = \"election\"\n",
    "production_office = \"aus\"\n",
    "fromDate = \"2022-03-01\"\n",
    "\n",
    "url = baseUrl+'\"'+searchString+'\"'+'&production-office='+production_office+'&from-date='+fromDate+'&api-key='+key\n",
    "print(url[:100])"
   ]
  },
  {
   "cell_type": "code",
   "execution_count": null,
   "id": "ba55b07e",
   "metadata": {},
   "outputs": [],
   "source": [
    "# get data from server\n",
    "response = requests.get(url)"
   ]
  },
  {
   "cell_type": "code",
   "execution_count": null,
   "id": "5eb56803",
   "metadata": {},
   "outputs": [],
   "source": [
    "response"
   ]
  },
  {
   "cell_type": "code",
   "execution_count": null,
   "id": "d12f889e",
   "metadata": {
    "scrolled": true,
    "tags": []
   },
   "outputs": [],
   "source": [
    "response.content"
   ]
  },
  {
   "cell_type": "code",
   "execution_count": null,
   "id": "26504a0a",
   "metadata": {
    "scrolled": true,
    "tags": []
   },
   "outputs": [],
   "source": [
    "data = json.loads(response.content)\n",
    "data"
   ]
  },
  {
   "cell_type": "code",
   "execution_count": null,
   "id": "2020a06f",
   "metadata": {
    "scrolled": true,
    "tags": []
   },
   "outputs": [],
   "source": [
    "results = data['response']['results']\n",
    "results"
   ]
  },
  {
   "cell_type": "code",
   "execution_count": null,
   "id": "2df72ef5",
   "metadata": {},
   "outputs": [],
   "source": [
    "for result in results:\n",
    "    print(result['webTitle'])"
   ]
  },
  {
   "cell_type": "code",
   "execution_count": null,
   "id": "2e964e21",
   "metadata": {},
   "outputs": [],
   "source": [
    "titles = []\n",
    "for result in results:\n",
    "    titles.append(result['webTitle'])"
   ]
  },
  {
   "cell_type": "code",
   "execution_count": null,
   "id": "cda01535",
   "metadata": {},
   "outputs": [],
   "source": [
    "titles"
   ]
  },
  {
   "cell_type": "code",
   "execution_count": null,
   "id": "e2e36b97",
   "metadata": {},
   "outputs": [],
   "source": [
    "titles[0].split(\" \")"
   ]
  },
  {
   "cell_type": "code",
   "execution_count": null,
   "id": "166cfa1a",
   "metadata": {},
   "outputs": [],
   "source": [
    "# create a function to make it easier\n",
    "def getData(url):\n",
    "    content = requests.get(url+'?api-key='+key)\n",
    "    data = json.loads(content.content)\n",
    "    return data"
   ]
  },
  {
   "cell_type": "code",
   "execution_count": null,
   "id": "f5784f3e",
   "metadata": {
    "scrolled": true,
    "tags": []
   },
   "outputs": [],
   "source": [
    "# explore editions\n",
    "editionsResponse = getData('http://content.guardianapis.com/editions')"
   ]
  },
  {
   "cell_type": "code",
   "execution_count": null,
   "id": "6c068dce",
   "metadata": {
    "scrolled": true,
    "tags": []
   },
   "outputs": [],
   "source": [
    "results = editionsResponse['response']['results']\n",
    "results"
   ]
  },
  {
   "cell_type": "code",
   "execution_count": null,
   "id": "7baacac0",
   "metadata": {},
   "outputs": [],
   "source": [
    "for result in results:\n",
    "    print(result['id'])"
   ]
  },
  {
   "cell_type": "code",
   "execution_count": null,
   "id": "cd7972db",
   "metadata": {
    "scrolled": true,
    "tags": []
   },
   "outputs": [],
   "source": [
    "# explore sections\n",
    "for result in getData('http://content.guardianapis.com/sections')['response']['results']:\n",
    "    print(result['webTitle'])"
   ]
  },
  {
   "cell_type": "code",
   "execution_count": null,
   "id": "2afbfbee",
   "metadata": {},
   "outputs": [],
   "source": []
  }
 ],
 "metadata": {
  "kernelspec": {
   "display_name": "Python 3",
   "language": "python",
   "name": "python3"
  },
  "language_info": {
   "codemirror_mode": {
    "name": "ipython",
    "version": 3
   },
   "file_extension": ".py",
   "mimetype": "text/x-python",
   "name": "python",
   "nbconvert_exporter": "python",
   "pygments_lexer": "ipython3",
   "version": "3.6.9"
  }
 },
 "nbformat": 4,
 "nbformat_minor": 5
}
