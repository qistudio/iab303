{
 "cells": [
  {
   "cell_type": "markdown",
   "metadata": {
    "slideshow": {
     "slide_type": "slide"
    }
   },
   "source": [
    "<div class=\"alert alert-block alert-info\"><b>IAB303</b> - Data Analytics for Business Insight</div>"
   ]
  },
  {
   "cell_type": "markdown",
   "metadata": {
    "slideshow": {
     "slide_type": "-"
    }
   },
   "source": [
    "# Studio :: Introduction to TOWS\n"
   ]
  },
  {
   "cell_type": "markdown",
   "metadata": {
    "slideshow": {
     "slide_type": "slide"
    }
   },
   "source": [
    "### Why?\n",
    "\n",
    "* Data Analytics is NOT the ultimate objective!\n",
    "* Data Analytics SHOULD support business and organisational planning\n",
    "* Data Analytics SHOULD support business strategy to achieve their objectives\n"
   ]
  },
  {
   "cell_type": "markdown",
   "metadata": {
    "slideshow": {
     "slide_type": "subslide"
    }
   },
   "source": [
    "#### Business and organisational planning\n",
    "\n",
    "* [Business Model Canvas](https://miro.com/app/board/o9J_k0A8-0U=/?fromEmbed=1)\n"
   ]
  },
  {
   "cell_type": "markdown",
   "metadata": {
    "slideshow": {
     "slide_type": "subslide"
    }
   },
   "source": [
    "#### Business Strategy\n",
    "\n",
    "* [Our Favorite Business Strategy Frameworks](https://www.smestrategy.net/blog/business-strategy-frameworks-for-strategic-planning)\n",
    "    - Porter's 5 Forces\n",
    "    - PESTLE\n",
    "    - Value Chain Analysis\n",
    "    - Balanced Score Card\n",
    "    - SWOT"
   ]
  },
  {
   "cell_type": "markdown",
   "metadata": {
    "slideshow": {
     "slide_type": "slide"
    }
   },
   "source": [
    "### TOWS\n",
    "\n",
    "The same areas as SWOT (Strengths, Weaknesses, Opportunities, Threats), but with actions..."
   ]
  },
  {
   "cell_type": "code",
   "execution_count": 1,
   "metadata": {
    "jupyter": {
     "source_hidden": true
    },
    "slideshow": {
     "slide_type": "subslide"
    },
    "tags": []
   },
   "outputs": [
    {
     "data": {
      "text/html": [
       "\n",
       "        <iframe\n",
       "            width=\"560\"\n",
       "            height=\"315\"\n",
       "            src=\"https://www.youtube.com/embed/UySPb3bACQY\"\n",
       "            frameborder=\"0\"\n",
       "            allowfullscreen\n",
       "        ></iframe>\n",
       "        "
      ],
      "text/plain": [
       "<IPython.lib.display.IFrame at 0x7f6c041ade80>"
      ]
     },
     "execution_count": 1,
     "metadata": {},
     "output_type": "execute_result"
    }
   ],
   "source": [
    "from IPython.display import IFrame \n",
    "IFrame('https://www.youtube.com/embed/UySPb3bACQY',width=560,height=315)"
   ]
  },
  {
   "cell_type": "markdown",
   "metadata": {
    "slideshow": {
     "slide_type": "slide"
    }
   },
   "source": [
    "### TOWS with the Data Analytics Cycle\n",
    "\n",
    "* What business concerns are related to each of the 4 areas?\n",
    "    - Strengths\n",
    "    - Weaknesses\n",
    "    - Opportunities\n",
    "    - Threats\n"
   ]
  },
  {
   "cell_type": "markdown",
   "metadata": {
    "slideshow": {
     "slide_type": "subslide"
    }
   },
   "source": [
    "#### Internal data [Strengths and Weaknesses]\n",
    "\n",
    "* How might a Data Analytics cycle focusing on *internal* data be able to help with strengths and weaknesses?\n",
    "* What kind of data, analysis, visualisations would be useful for this cycle?\n",
    "* What insights would we expect?"
   ]
  },
  {
   "cell_type": "markdown",
   "metadata": {
    "slideshow": {
     "slide_type": "subslide"
    }
   },
   "source": [
    "#### External data [Opportunities and Threats]\n",
    "\n",
    "* How might a Data Analytics cycle focusing on *external* data be able to help with opportunities and threats?\n",
    "* What kind of data, analysis, visualisations would be useful for this cycle?\n",
    "* What insights would we expect?"
   ]
  },
  {
   "cell_type": "markdown",
   "metadata": {
    "slideshow": {
     "slide_type": "subslide"
    }
   },
   "source": [
    "#### Insights and TOWS\n",
    "\n",
    "* How do we bring the internal DA together with the external DA?\n",
    "    - Focus on insights\n",
    "    - Ideas for action from combined insights\n",
    "        * Strengths and Opportunities (SO)\n",
    "        * Weaknesses and Opportunities (WO)\n",
    "        * Strengths and Threats (ST)\n",
    "        * Weaknesses and Threats (WT)\n",
    "\n",
    "* What does the DA tell us about potential strategy for the business?\n"
   ]
  },
  {
   "cell_type": "markdown",
   "metadata": {},
   "source": [
    "---\n",
    "\n",
    "# TOWS Analysis Example\n",
    "\n",
    "*IMPORTANT: This is an example that uses data analysis from week 4 tutorial.*"
   ]
  },
  {
   "cell_type": "markdown",
   "metadata": {},
   "source": [
    "## Analysis 1 - Internal data\n",
    "\n",
    "Amazon Movies revenue and subscribers by regions\n",
    "\n",
    "\n",
    "\n"
   ]
  },
  {
   "cell_type": "code",
   "execution_count": null,
   "metadata": {},
   "outputs": [],
   "source": [
    "import pandas as pd\n",
    "import matplotlib.pyplot as plt\n",
    "\n",
    "# Analysis of the internal data\n",
    "df = pd.read_csv(\"data/DataAmazonMoviesRevenue2020.csv\")\n",
    "df[\"Quarter\"] = df[\"Years\"].apply(lambda x: x.split(\"-\")[0])\n",
    "df[\"Years\"] = df[\"Years\"].apply(lambda x: x.split(\"-\")[1]).astype(\"int\")\n",
    "years_df = df[[\"Area\", \"Years\", \"Revenue\"]].groupby([\"Years\", \"Area\"]).sum()\n",
    "\n",
    "# Visualise the data\n",
    "years_df.unstack().plot(kind=\"bar\")"
   ]
  },
  {
   "cell_type": "markdown",
   "metadata": {},
   "source": [
    "### Strengths\n",
    "\n",
    "* North America is the biggest market\n",
    "* Europe seems to have been the lowest market decline\n",
    "\n",
    "\n",
    "### Weaknesses\n",
    "\n",
    "* Revenue has declined in all regions\n",
    "* Nort America has dramatically declined\n"
   ]
  },
  {
   "cell_type": "markdown",
   "metadata": {},
   "source": [
    "### Why Weaknesses are significant?\n",
    "\n",
    "* Although North America is still the biggest market, its revenue is declining making other regions becoming important\n",
    "* The company needs to view its position in relevant regions like Europe and Latin America"
   ]
  },
  {
   "cell_type": "markdown",
   "metadata": {},
   "source": [
    "## Analysis 2 - External data\n",
    "\n",
    "Amazon Movies reviews were already analysed inweek 4 tutorial. Here's a recap..."
   ]
  },
  {
   "cell_type": "code",
   "execution_count": null,
   "metadata": {
    "slideshow": {
     "slide_type": "fragment"
    },
    "tags": []
   },
   "outputs": [],
   "source": [
    "import re\n",
    "\n",
    "with open('data/amazon-movies-reviews.txt', 'r') as file:\n",
    "    text = file.read()\n",
    "\n",
    "text_lines = []\n",
    "\n",
    "for line in text.split(\"\\n\\n\"):\n",
    "    text_lines.append(line.split(\"\\n\"))\n",
    "\n",
    "# Create a new dataframe that will store the extracted data\n",
    "reviews_df = pd.DataFrame(columns=([\"ProductId\", \"Score\", \"Region\", \"Summary\"]))\n",
    "\n",
    "# Find that patterns to extract the productId, score and summary\n",
    "for paragraph in text_lines:\n",
    "    review = {}\n",
    "    for line in paragraph:\n",
    "        match_id = re.match(r\"^product[-|/]product[I|i][D|d][\\s:|:]\", line)\n",
    "        if (match_id):\n",
    "            id = re.split(r\":\\s\", line)\n",
    "            review[\"ProductId\"] = id[1]\n",
    "        match_score = re.match(r\"^review[-|/]score[\\s:|:]\", line)\n",
    "        if (match_score):\n",
    "            score = re.split(r\":\\s\", line)\n",
    "            review[\"Score\"] = score[1]\n",
    "        match_region = re.match(r\"^review/region:\", line)\n",
    "        if (match_region):\n",
    "            region = re.split(r\":\\s\", line)\n",
    "            review[\"Region\"] = region[1]\n",
    "        match_summary = re.match(r\"^review/summary:\", line)\n",
    "        if (match_summary):\n",
    "            summary = re.split(r\":\\s\", line)\n",
    "            review[\"Summary\"] = summary[1]\n",
    "    reviews_df = reviews_df.append(review, ignore_index=True)\n",
    "\n",
    "reviews_df[\"Score\"] = reviews_df[\"Score\"].astype(\"float\")\n",
    "\n",
    "# Group by movie and regions to see the scores\n",
    "movie_region_df = reviews_df[[\"ProductId\", \"Region\", \"Score\"]].groupby([\"ProductId\", \"Region\"]).mean()\n",
    "movie_region_df"
   ]
  },
  {
   "cell_type": "code",
   "execution_count": null,
   "metadata": {},
   "outputs": [],
   "source": [
    "# Unstack the movies-regions data to have a better visualisation\n",
    "movie_region_df.sort_values(by=\"Score\", ascending=False).unstack().plot(kind=\"bar\", title=\"Regions scores\", figsize=(15,5))"
   ]
  },
  {
   "cell_type": "markdown",
   "metadata": {},
   "source": [
    "#### Some insights\n",
    "\n",
    "* Latin America has the region with the lowest review scores from critics\n",
    "* North American and Europe has similar review scores\n"
   ]
  },
  {
   "cell_type": "markdown",
   "metadata": {},
   "source": [
    "### Threats\n",
    "\n",
    "* Competitors can take advantage of the lowest score reviews in Latin America to enter into the market\n"
   ]
  },
  {
   "cell_type": "markdown",
   "metadata": {},
   "source": [
    "### Opportunities\n",
    "\n",
    "* European market can be targeted to increase revenue as the score reviews are as high as North America\n",
    "* North American market remains the best score reviews\n"
   ]
  },
  {
   "cell_type": "markdown",
   "metadata": {},
   "source": [
    "## TOWS\n",
    "\n",
    "1. Strengths and Opportunities\n",
    "* Opportunity to increase our prescense in the European market\n",
    "\n",
    "2. Strengths and Threats\n",
    "* Improving the service to the Latin American market might attract subscribers\n",
    "\n"
   ]
  },
  {
   "cell_type": "markdown",
   "metadata": {},
   "source": [
    "3. Weaknesses and Opportunities\n",
    "* The reduction in the North American market can be regained as the reviews scores are still high\n",
    "\n",
    "4. Weaknesses and Threats\n",
    "* A potential loss of the Latin American market"
   ]
  },
  {
   "cell_type": "markdown",
   "metadata": {},
   "source": [
    "### Actionable recommendations for the business...\n",
    "\n",
    " - add to the catalog movies that might be of interest to the European market\n",
    " - review the reasons the Latin American market review scores are low, subtitles? dubbing?\n",
    " - deals for the North American market to recover the share"
   ]
  }
 ],
 "metadata": {
  "celltoolbar": "Slideshow",
  "kernelspec": {
   "display_name": "Python 3",
   "language": "python",
   "name": "python3"
  },
  "language_info": {
   "codemirror_mode": {
    "name": "ipython",
    "version": 3
   },
   "file_extension": ".py",
   "mimetype": "text/x-python",
   "name": "python",
   "nbconvert_exporter": "python",
   "pygments_lexer": "ipython3",
   "version": "3.6.9"
  }
 },
 "nbformat": 4,
 "nbformat_minor": 4
}
