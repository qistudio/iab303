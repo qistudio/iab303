{
 "cells": [
  {
   "cell_type": "markdown",
   "metadata": {},
   "source": [
    "# Tutorial :: Last week homework"
   ]
  },
  {
   "cell_type": "markdown",
   "metadata": {},
   "source": [
    "Your next task is analyse the data from a different perspective using the same dataset. Which way would be fair to analyse the data?"
   ]
  },
  {
   "cell_type": "markdown",
   "metadata": {},
   "source": [
    "### Your insights\n",
    "\n",
    "???\n",
    "\n",
    "---"
   ]
  },
  {
   "cell_type": "markdown",
   "metadata": {
    "slideshow": {
     "slide_type": "slide"
    }
   },
   "source": [
    "## Tutorial :: The power of the news"
   ]
  },
  {
   "cell_type": "markdown",
   "metadata": {
    "slideshow": {
     "slide_type": "slide"
    }
   },
   "source": [
    "**CONCERN**\n",
    "\n",
    "You are working for a consultancy firm in charge of political image. Last year Australia had a problem with France for a submarine deal that was pulled off. A report was already generated with the news titles. However, your job as an analyst is to generate a thorough report with additional information inside each news.\n",
    "\n",
    "1. **Q**uestion\n",
    "2. **D**ata\n",
    "3. **A**nalysis\n",
    "4. **V**isualisation\n",
    "5. **I**nsight\n",
    "\n",
    "<img src=\"graphics/QDAVI_cycle_sm.png\" width=\"50%\" />"
   ]
  },
  {
   "cell_type": "markdown",
   "metadata": {
    "slideshow": {
     "slide_type": "slide"
    }
   },
   "source": [
    "### 1. Question\n",
    "\n",
    "How the news affected the image of the government?\n",
    "\n",
    "**Tip:** You can combine web scrapping and APIs"
   ]
  },
  {
   "cell_type": "markdown",
   "metadata": {
    "slideshow": {
     "slide_type": "slide"
    }
   },
   "source": [
    "### 2. Data\n",
    "\n",
    "You must use The Guardian API\n",
    "\n",
    "**Tip:** Check the studio session for information about how to call the guardian API"
   ]
  },
  {
   "cell_type": "code",
   "execution_count": 26,
   "metadata": {},
   "outputs": [],
   "source": [
    "# Libraries for the analysis\n",
    "import pandas as pd\n",
    "import matplotlib.pyplot as plt\n",
    "import requests\n",
    "import json\n",
    "from bs4 import BeautifulSoup\n",
    "import urllib.request"
   ]
  },
  {
   "cell_type": "code",
   "execution_count": 27,
   "metadata": {},
   "outputs": [
    {
     "name": "stdout",
     "output_type": "stream",
     "text": [
      "https://content.guardianapis.com/search?q=\"submarine\"&production-office=aus&from-date=2021-09-01&api-key=test\n"
     ]
    }
   ],
   "source": [
    "# Build a search URL\n",
    "baseUrl = 'https://content.guardianapis.com/search?q=' # content search\n",
    "\n",
    "searchString = \"submarine\"\n",
    "office = \"&production-office=aus\"\n",
    "tag = \"&tag=politics/politics\"\n",
    "fromDate = \"&from-date=2021-09-01\"\n",
    "\n",
    "url = baseUrl+'\"'+searchString+'\"'+office+fromDate+\"&api-key=test\"\n",
    "print(url)"
   ]
  },
  {
   "cell_type": "code",
   "execution_count": 28,
   "metadata": {},
   "outputs": [
    {
     "data": {
      "text/plain": [
       "[{'id': 'world/2021/nov/09/australia-promises-jobs-to-workers-stranded-by-scrapping-of-french-submarine-deal',\n",
       "  'type': 'article',\n",
       "  'sectionId': 'world',\n",
       "  'sectionName': 'World news',\n",
       "  'webPublicationDate': '2021-11-08T16:30:35Z',\n",
       "  'webTitle': 'Australia promises jobs to workers stranded by scrapping of French submarine deal',\n",
       "  'webUrl': 'https://www.theguardian.com/world/2021/nov/09/australia-promises-jobs-to-workers-stranded-by-scrapping-of-french-submarine-deal',\n",
       "  'apiUrl': 'https://content.guardianapis.com/world/2021/nov/09/australia-promises-jobs-to-workers-stranded-by-scrapping-of-french-submarine-deal',\n",
       "  'isHosted': False,\n",
       "  'pillarId': 'pillar/news',\n",
       "  'pillarName': 'News'},\n",
       " {'id': 'world/2021/oct/01/fears-australias-france-submarine-snub-could-scupper-closer-eu-economic-ties',\n",
       "  'type': 'article',\n",
       "  'sectionId': 'world',\n",
       "  'sectionName': 'World news',\n",
       "  'webPublicationDate': '2021-10-01T09:00:58Z',\n",
       "  'webTitle': 'Fears Australia’s France submarine snub could scupper closer EU economic ties',\n",
       "  'webUrl': 'https://www.theguardian.com/world/2021/oct/01/fears-australias-france-submarine-snub-could-scupper-closer-eu-economic-ties',\n",
       "  'apiUrl': 'https://content.guardianapis.com/world/2021/oct/01/fears-australias-france-submarine-snub-could-scupper-closer-eu-economic-ties',\n",
       "  'isHosted': False,\n",
       "  'pillarId': 'pillar/news',\n",
       "  'pillarName': 'News'},\n",
       " {'id': 'australia-news/2021/sep/29/australia-tore-up-french-submarine-contract-for-convenience-naval-group-says',\n",
       "  'type': 'article',\n",
       "  'sectionId': 'australia-news',\n",
       "  'sectionName': 'Australia news',\n",
       "  'webPublicationDate': '2021-09-29T06:15:33Z',\n",
       "  'webTitle': 'Australia tore up French submarine contract ‘for convenience’ Naval Group says',\n",
       "  'webUrl': 'https://www.theguardian.com/australia-news/2021/sep/29/australia-tore-up-french-submarine-contract-for-convenience-naval-group-says',\n",
       "  'apiUrl': 'https://content.guardianapis.com/australia-news/2021/sep/29/australia-tore-up-french-submarine-contract-for-convenience-naval-group-says',\n",
       "  'isHosted': False,\n",
       "  'pillarId': 'pillar/news',\n",
       "  'pillarName': 'News'},\n",
       " {'id': 'world/2021/nov/19/naughty-guy-top-chinese-diplomat-accuses-australia-of-sabre-wielding-with-nuclear-submarine-deal',\n",
       "  'type': 'article',\n",
       "  'sectionId': 'world',\n",
       "  'sectionName': 'World news',\n",
       "  'webPublicationDate': '2021-11-18T16:30:10Z',\n",
       "  'webTitle': '‘Naughty guy’: top Chinese diplomat accuses Australia of ‘sabre wielding’ with nuclear submarine deal',\n",
       "  'webUrl': 'https://www.theguardian.com/world/2021/nov/19/naughty-guy-top-chinese-diplomat-accuses-australia-of-sabre-wielding-with-nuclear-submarine-deal',\n",
       "  'apiUrl': 'https://content.guardianapis.com/world/2021/nov/19/naughty-guy-top-chinese-diplomat-accuses-australia-of-sabre-wielding-with-nuclear-submarine-deal',\n",
       "  'isHosted': False,\n",
       "  'pillarId': 'pillar/news',\n",
       "  'pillarName': 'News'},\n",
       " {'id': 'world/2021/oct/28/australias-foreign-minister-to-meet-french-ambassador-in-bid-to-heal-submarine-rift',\n",
       "  'type': 'article',\n",
       "  'sectionId': 'world',\n",
       "  'sectionName': 'World news',\n",
       "  'webPublicationDate': '2021-10-28T04:39:00Z',\n",
       "  'webTitle': 'Australia’s foreign minister to meet French ambassador in bid to heal submarine rift ',\n",
       "  'webUrl': 'https://www.theguardian.com/world/2021/oct/28/australias-foreign-minister-to-meet-french-ambassador-in-bid-to-heal-submarine-rift',\n",
       "  'apiUrl': 'https://content.guardianapis.com/world/2021/oct/28/australias-foreign-minister-to-meet-french-ambassador-in-bid-to-heal-submarine-rift',\n",
       "  'isHosted': False,\n",
       "  'pillarId': 'pillar/news',\n",
       "  'pillarName': 'News'},\n",
       " {'id': 'world/2021/sep/29/former-us-navy-secretary-now-scott-morrisons-aukus-middle-man-on-submarine-plan',\n",
       "  'type': 'article',\n",
       "  'sectionId': 'world',\n",
       "  'sectionName': 'World news',\n",
       "  'webPublicationDate': '2021-09-29T02:50:32Z',\n",
       "  'webTitle': 'Former US navy secretary now Scott Morrison’s Aukus middleman on submarine plan',\n",
       "  'webUrl': 'https://www.theguardian.com/world/2021/sep/29/former-us-navy-secretary-now-scott-morrisons-aukus-middle-man-on-submarine-plan',\n",
       "  'apiUrl': 'https://content.guardianapis.com/world/2021/sep/29/former-us-navy-secretary-now-scott-morrisons-aukus-middle-man-on-submarine-plan',\n",
       "  'isHosted': False,\n",
       "  'pillarId': 'pillar/news',\n",
       "  'pillarName': 'News'},\n",
       " {'id': 'australia-news/2021/oct/29/macrons-anger-over-nuclear-submarine-deal-linked-to-french-election-peter-dutton-says',\n",
       "  'type': 'article',\n",
       "  'sectionId': 'australia-news',\n",
       "  'sectionName': 'Australia news',\n",
       "  'webPublicationDate': '2021-10-29T04:32:28Z',\n",
       "  'webTitle': 'Macron’s anger over nuclear submarine deal linked to French election, Peter Dutton says',\n",
       "  'webUrl': 'https://www.theguardian.com/australia-news/2021/oct/29/macrons-anger-over-nuclear-submarine-deal-linked-to-french-election-peter-dutton-says',\n",
       "  'apiUrl': 'https://content.guardianapis.com/australia-news/2021/oct/29/macrons-anger-over-nuclear-submarine-deal-linked-to-french-election-peter-dutton-says',\n",
       "  'isHosted': False,\n",
       "  'pillarId': 'pillar/news',\n",
       "  'pillarName': 'News'},\n",
       " {'id': 'australia-news/2021/sep/29/malcolm-turnbull-excoriates-scott-morrison-over-appalling-episode-with-french-submarine-deal',\n",
       "  'type': 'article',\n",
       "  'sectionId': 'australia-news',\n",
       "  'sectionName': 'Australia news',\n",
       "  'webPublicationDate': '2021-09-29T08:19:43Z',\n",
       "  'webTitle': 'Malcolm Turnbull excoriates Scott Morrison over ‘appalling episode’ with French submarine deal',\n",
       "  'webUrl': 'https://www.theguardian.com/australia-news/2021/sep/29/malcolm-turnbull-excoriates-scott-morrison-over-appalling-episode-with-french-submarine-deal',\n",
       "  'apiUrl': 'https://content.guardianapis.com/australia-news/2021/sep/29/malcolm-turnbull-excoriates-scott-morrison-over-appalling-episode-with-french-submarine-deal',\n",
       "  'isHosted': False,\n",
       "  'pillarId': 'pillar/news',\n",
       "  'pillarName': 'News'},\n",
       " {'id': 'world/2021/sep/20/we-felt-fooled-france-still-furious-after-australia-scraps-90bn-submarine-deal',\n",
       "  'type': 'article',\n",
       "  'sectionId': 'world',\n",
       "  'sectionName': 'World news',\n",
       "  'webPublicationDate': '2021-09-20T01:11:38Z',\n",
       "  'webTitle': '‘We felt fooled’: France still furious after Australia scraps $90bn submarine deal',\n",
       "  'webUrl': 'https://www.theguardian.com/world/2021/sep/20/we-felt-fooled-france-still-furious-after-australia-scraps-90bn-submarine-deal',\n",
       "  'apiUrl': 'https://content.guardianapis.com/world/2021/sep/20/we-felt-fooled-france-still-furious-after-australia-scraps-90bn-submarine-deal',\n",
       "  'isHosted': False,\n",
       "  'pillarId': 'pillar/news',\n",
       "  'pillarName': 'News'},\n",
       " {'id': 'australia-news/2021/sep/17/game-changer-or-irresponsible-the-known-unknowns-on-australias-nuclear-submarine-deal',\n",
       "  'type': 'article',\n",
       "  'sectionId': 'australia-news',\n",
       "  'sectionName': 'Australia news',\n",
       "  'webPublicationDate': '2021-09-17T08:35:30Z',\n",
       "  'webTitle': 'Game-changer or irresponsible? The known unknowns on Australia’s nuclear submarine deal',\n",
       "  'webUrl': 'https://www.theguardian.com/australia-news/2021/sep/17/game-changer-or-irresponsible-the-known-unknowns-on-australias-nuclear-submarine-deal',\n",
       "  'apiUrl': 'https://content.guardianapis.com/australia-news/2021/sep/17/game-changer-or-irresponsible-the-known-unknowns-on-australias-nuclear-submarine-deal',\n",
       "  'isHosted': False,\n",
       "  'pillarId': 'pillar/news',\n",
       "  'pillarName': 'News'}]"
      ]
     },
     "execution_count": 28,
     "metadata": {},
     "output_type": "execute_result"
    }
   ],
   "source": [
    "# Call the API\n",
    "response = requests.get(url)\n",
    "data = json.loads(response.content)\n",
    "results = data['response']['results']\n",
    "results"
   ]
  },
  {
   "cell_type": "markdown",
   "metadata": {},
   "source": [
    "The results contain the URL to the news website. After inspecting a couple of pages, which information could be eaiser to extrat from it"
   ]
  },
  {
   "cell_type": "code",
   "execution_count": 30,
   "metadata": {},
   "outputs": [],
   "source": [
    "# Get HTML function\n",
    "def get_HTML(url):\n",
    "    response = urllib.request.urlopen(url)\n",
    "    html = response.read()\n",
    "    return html"
   ]
  },
  {
   "cell_type": "code",
   "execution_count": 34,
   "metadata": {},
   "outputs": [],
   "source": [
    "# Beautiful soup function for subtitle\n",
    "def extract_subTitle(HTML):\n",
    "    soup = BeautifulSoup(HTML, \"html.parser\") # the html input and the parser name\n",
    "    article = soup.find(\"article\") # the tag that contains the article\n",
    "    div_element = article.find(\"div\", attrs={\"data-gu-name\": \"standfirst\"}) # the tag that can be found using an attribute\n",
    "    target_element = div_element.find(\"p\")\n",
    "    return target_element.text"
   ]
  },
  {
   "cell_type": "code",
   "execution_count": 40,
   "metadata": {},
   "outputs": [],
   "source": [
    "# Beautiful soup function for body\n",
    "def extract_body(HTML):\n",
    "    soup = BeautifulSoup(HTML, \"html.parser\") # the html input and the parser name\n",
    "    article = soup.find(\"article\") # the tag that contains the article\n",
    "    div_element = article.find(\"div\", attrs={\"id\": \"maincontent\"}) # the tag that can be found using an attribute\n",
    "    div_div_element = div_element.find(\"div\")\n",
    "    target_elements = div_element.findAll(\"p\")\n",
    "    result = \"\"\n",
    "    for te in target_elements:\n",
    "        result += te.text\n",
    "    return result"
   ]
  },
  {
   "cell_type": "markdown",
   "metadata": {},
   "source": [
    "#### Clean/preprocess data"
   ]
  },
  {
   "cell_type": "code",
   "execution_count": 44,
   "metadata": {},
   "outputs": [
    {
     "data": {
      "text/html": [
       "<div>\n",
       "<style scoped>\n",
       "    .dataframe tbody tr th:only-of-type {\n",
       "        vertical-align: middle;\n",
       "    }\n",
       "\n",
       "    .dataframe tbody tr th {\n",
       "        vertical-align: top;\n",
       "    }\n",
       "\n",
       "    .dataframe thead th {\n",
       "        text-align: right;\n",
       "    }\n",
       "</style>\n",
       "<table border=\"1\" class=\"dataframe\">\n",
       "  <thead>\n",
       "    <tr style=\"text-align: right;\">\n",
       "      <th></th>\n",
       "      <th>Date</th>\n",
       "      <th>Section</th>\n",
       "      <th>Title</th>\n",
       "      <th>Subtitle</th>\n",
       "      <th>Body</th>\n",
       "    </tr>\n",
       "  </thead>\n",
       "  <tbody>\n",
       "  </tbody>\n",
       "</table>\n",
       "</div>"
      ],
      "text/plain": [
       "Empty DataFrame\n",
       "Columns: [Date, Section, Title, Subtitle, Body]\n",
       "Index: []"
      ]
     },
     "execution_count": 44,
     "metadata": {},
     "output_type": "execute_result"
    }
   ],
   "source": [
    "# Create a dataframe\n",
    "df = pd.DataFrame(columns=[\"Date\", \"Section\", \"Title\", \"Subtitle\", \"Body\"])\n",
    "df"
   ]
  },
  {
   "cell_type": "code",
   "execution_count": 45,
   "metadata": {},
   "outputs": [
    {
     "data": {
      "text/html": [
       "<div>\n",
       "<style scoped>\n",
       "    .dataframe tbody tr th:only-of-type {\n",
       "        vertical-align: middle;\n",
       "    }\n",
       "\n",
       "    .dataframe tbody tr th {\n",
       "        vertical-align: top;\n",
       "    }\n",
       "\n",
       "    .dataframe thead th {\n",
       "        text-align: right;\n",
       "    }\n",
       "</style>\n",
       "<table border=\"1\" class=\"dataframe\">\n",
       "  <thead>\n",
       "    <tr style=\"text-align: right;\">\n",
       "      <th></th>\n",
       "      <th>Date</th>\n",
       "      <th>Section</th>\n",
       "      <th>Title</th>\n",
       "      <th>Subtitle</th>\n",
       "      <th>Body</th>\n",
       "    </tr>\n",
       "  </thead>\n",
       "  <tbody>\n",
       "    <tr>\n",
       "      <th>0</th>\n",
       "      <td>2021-11-08T16:30:35Z</td>\n",
       "      <td>World news</td>\n",
       "      <td>Australia promises jobs to workers stranded by...</td>\n",
       "      <td>Defence industry minister Melissa Price tells ...</td>\n",
       "      <td>“Each and every” skilled shipbuilding worker a...</td>\n",
       "    </tr>\n",
       "    <tr>\n",
       "      <th>1</th>\n",
       "      <td>2021-10-01T09:00:58Z</td>\n",
       "      <td>World news</td>\n",
       "      <td>Fears Australia’s France submarine snub could ...</td>\n",
       "      <td>Opposition accuses Scott Morrison of failing ‘...</td>\n",
       "      <td>The postponement of trade talks between the Eu...</td>\n",
       "    </tr>\n",
       "    <tr>\n",
       "      <th>2</th>\n",
       "      <td>2021-09-29T06:15:33Z</td>\n",
       "      <td>Australia news</td>\n",
       "      <td>Australia tore up French submarine contract ‘f...</td>\n",
       "      <td>Shipbuilding company maintains it ‘did not fai...</td>\n",
       "      <td>Australia scrapped the $90bn submarine deal wi...</td>\n",
       "    </tr>\n",
       "    <tr>\n",
       "      <th>3</th>\n",
       "      <td>2021-11-18T16:30:10Z</td>\n",
       "      <td>World news</td>\n",
       "      <td>‘Naughty guy’: top Chinese diplomat accuses Au...</td>\n",
       "      <td>Exclusive: Acting ambassador to Australia, Wan...</td>\n",
       "      <td>A top Chinese diplomat has likened Australia t...</td>\n",
       "    </tr>\n",
       "    <tr>\n",
       "      <th>4</th>\n",
       "      <td>2021-10-28T04:39:00Z</td>\n",
       "      <td>World news</td>\n",
       "      <td>Australia’s foreign minister to meet French am...</td>\n",
       "      <td>Marise Payne says she regrets France’s ‘deep d...</td>\n",
       "      <td>Australia’s foreign minister will meet with th...</td>\n",
       "    </tr>\n",
       "    <tr>\n",
       "      <th>5</th>\n",
       "      <td>2021-09-29T02:50:32Z</td>\n",
       "      <td>World news</td>\n",
       "      <td>Former US navy secretary now Scott Morrison’s ...</td>\n",
       "      <td>Prof Donald Winter, who advised the Australian...</td>\n",
       "      <td>A former US navy secretary who advised the Aus...</td>\n",
       "    </tr>\n",
       "    <tr>\n",
       "      <th>6</th>\n",
       "      <td>2021-10-29T04:32:28Z</td>\n",
       "      <td>Australia news</td>\n",
       "      <td>Macron’s anger over nuclear submarine deal lin...</td>\n",
       "      <td>Australian defence minister’s claim comes as F...</td>\n",
       "      <td>Peter Dutton says sustained expressions of out...</td>\n",
       "    </tr>\n",
       "    <tr>\n",
       "      <th>7</th>\n",
       "      <td>2021-09-29T08:19:43Z</td>\n",
       "      <td>Australia news</td>\n",
       "      <td>Malcolm Turnbull excoriates Scott Morrison ove...</td>\n",
       "      <td>Former PM also revealed he plans to go to Glas...</td>\n",
       "      <td>Malcolm Turnbull has revealed he has spoken to...</td>\n",
       "    </tr>\n",
       "    <tr>\n",
       "      <th>8</th>\n",
       "      <td>2021-09-20T01:11:38Z</td>\n",
       "      <td>World news</td>\n",
       "      <td>‘We felt fooled’: France still furious after A...</td>\n",
       "      <td>‘Maybe we’re not friends,’ recalled ambassador...</td>\n",
       "      <td>French anger at the Morrison government’s deci...</td>\n",
       "    </tr>\n",
       "    <tr>\n",
       "      <th>9</th>\n",
       "      <td>2021-09-17T08:35:30Z</td>\n",
       "      <td>Australia news</td>\n",
       "      <td>Game-changer or irresponsible? The known unkno...</td>\n",
       "      <td>Analysis: Stay tuned as we battle the notoriou...</td>\n",
       "      <td>It started, as defence stories so often do, wi...</td>\n",
       "    </tr>\n",
       "  </tbody>\n",
       "</table>\n",
       "</div>"
      ],
      "text/plain": [
       "                   Date         Section  \\\n",
       "0  2021-11-08T16:30:35Z      World news   \n",
       "1  2021-10-01T09:00:58Z      World news   \n",
       "2  2021-09-29T06:15:33Z  Australia news   \n",
       "3  2021-11-18T16:30:10Z      World news   \n",
       "4  2021-10-28T04:39:00Z      World news   \n",
       "5  2021-09-29T02:50:32Z      World news   \n",
       "6  2021-10-29T04:32:28Z  Australia news   \n",
       "7  2021-09-29T08:19:43Z  Australia news   \n",
       "8  2021-09-20T01:11:38Z      World news   \n",
       "9  2021-09-17T08:35:30Z  Australia news   \n",
       "\n",
       "                                               Title  \\\n",
       "0  Australia promises jobs to workers stranded by...   \n",
       "1  Fears Australia’s France submarine snub could ...   \n",
       "2  Australia tore up French submarine contract ‘f...   \n",
       "3  ‘Naughty guy’: top Chinese diplomat accuses Au...   \n",
       "4  Australia’s foreign minister to meet French am...   \n",
       "5  Former US navy secretary now Scott Morrison’s ...   \n",
       "6  Macron’s anger over nuclear submarine deal lin...   \n",
       "7  Malcolm Turnbull excoriates Scott Morrison ove...   \n",
       "8  ‘We felt fooled’: France still furious after A...   \n",
       "9  Game-changer or irresponsible? The known unkno...   \n",
       "\n",
       "                                            Subtitle  \\\n",
       "0  Defence industry minister Melissa Price tells ...   \n",
       "1  Opposition accuses Scott Morrison of failing ‘...   \n",
       "2  Shipbuilding company maintains it ‘did not fai...   \n",
       "3  Exclusive: Acting ambassador to Australia, Wan...   \n",
       "4  Marise Payne says she regrets France’s ‘deep d...   \n",
       "5  Prof Donald Winter, who advised the Australian...   \n",
       "6  Australian defence minister’s claim comes as F...   \n",
       "7  Former PM also revealed he plans to go to Glas...   \n",
       "8  ‘Maybe we’re not friends,’ recalled ambassador...   \n",
       "9  Analysis: Stay tuned as we battle the notoriou...   \n",
       "\n",
       "                                                Body  \n",
       "0  “Each and every” skilled shipbuilding worker a...  \n",
       "1  The postponement of trade talks between the Eu...  \n",
       "2  Australia scrapped the $90bn submarine deal wi...  \n",
       "3  A top Chinese diplomat has likened Australia t...  \n",
       "4  Australia’s foreign minister will meet with th...  \n",
       "5  A former US navy secretary who advised the Aus...  \n",
       "6  Peter Dutton says sustained expressions of out...  \n",
       "7  Malcolm Turnbull has revealed he has spoken to...  \n",
       "8  French anger at the Morrison government’s deci...  \n",
       "9  It started, as defence stories so often do, wi...  "
      ]
     },
     "execution_count": 45,
     "metadata": {},
     "output_type": "execute_result"
    }
   ],
   "source": [
    "# Populate the dataframe\n",
    "for news in results:\n",
    "    html = get_HTML(news[\"webUrl\"])\n",
    "    data = {\"Date\": news[\"webPublicationDate\"], \"Section\": news[\"sectionName\"], \"Title\": news[\"webTitle\"], \"Subtitle\": extract_subTitle(html), \"Body\": extract_body(html)}\n",
    "    df = df.append(data, ignore_index=True)\n",
    "df"
   ]
  },
  {
   "cell_type": "markdown",
   "metadata": {},
   "source": [
    "### 3. Analysis\n",
    "\n",
    "Information extraction?"
   ]
  },
  {
   "cell_type": "markdown",
   "metadata": {},
   "source": [
    "### 4. Visualisation"
   ]
  },
  {
   "cell_type": "markdown",
   "metadata": {},
   "source": [
    "### 5. Insights\n"
   ]
  },
  {
   "cell_type": "markdown",
   "metadata": {},
   "source": []
  }
 ],
 "metadata": {
  "celltoolbar": "Slideshow",
  "hide_input": false,
  "kernelspec": {
   "display_name": "Python 3",
   "language": "python",
   "name": "python3"
  },
  "language_info": {
   "codemirror_mode": {
    "name": "ipython",
    "version": 3
   },
   "file_extension": ".py",
   "mimetype": "text/x-python",
   "name": "python",
   "nbconvert_exporter": "python",
   "pygments_lexer": "ipython3",
   "version": "3.6.9"
  }
 },
 "nbformat": 4,
 "nbformat_minor": 4
}
