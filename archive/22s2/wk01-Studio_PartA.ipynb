{
 "cells": [
  {
   "cell_type": "markdown",
   "metadata": {},
   "source": [
    "<div class=\"alert alert-block alert-info\"><b>IAB303</b> - Data Analytics for Business Insight</div>"
   ]
  },
  {
   "cell_type": "markdown",
   "metadata": {},
   "source": [
    "## Studio :: Welcome\n",
    "\n",
    "1. Introductions\n",
    "2. Unit overview (Learning guide)\n",
    "3. Jupyter environment\n",
    "4. Additional resources (Slack)\n",
    "5. Reflective journal (GoingOK)"
   ]
  },
  {
   "cell_type": "markdown",
   "metadata": {},
   "source": [
    "### Introductions"
   ]
  },
  {
   "cell_type": "markdown",
   "metadata": {},
   "source": [
    "#### meet the team...\n",
    "\n",
    "- [Andrew Gibson](andrew.gibson@qut.edu.au) (Unit Coordinator, Lecturer)\n",
    "- [Miguel Canizares](m.canizaresmena@qut.edu.au) (Online lecturer, Tutor)"
   ]
  },
  {
   "cell_type": "markdown",
   "metadata": {},
   "source": [
    "#### meet your peers...\n",
    "\n",
    "- Your name?\n",
    "- Which major?\n",
    "- Just started, in the middle, nearly finished\n",
    "- Why did you take the unit?\n",
    "- What do you hope to get out of it?"
   ]
  },
  {
   "cell_type": "markdown",
   "metadata": {},
   "source": [
    "### Unit overview\n",
    "\n",
    "- Learning guide (download from blackboard)"
   ]
  },
  {
   "cell_type": "markdown",
   "metadata": {},
   "source": [
    "### Jupyter environment\n",
    "\n",
    "- Login to QUT's Jupyter enviroment useing your QUT username and password:\n",
    "    - [https://jupyter-oncampus.qutanalytics.io/](https://jupyter-oncampus.qutanalytics.io/)\n",
    "- Download the [Welcome notebook](https://raw.githubusercontent.com/qistudio/iab303/22s2/22s2/Welcome.ipynb) from GitHub\n",
    "    1. Upload the notebook to your Jupyter environment\n",
    "    2. Open the notebook and **click the link to sync files** to your Jupyter environment\n",
    "    3. After syncing, the files for this week should be in your Jupyter environment\n",
    "- Continue to sync throughout the semester each time you need to update your files with the master on GitHub\n",
    "- You can install Jupyter to your local computer if you want to. However, the teaching team will not provide environment support in local environments"
   ]
  },
  {
   "cell_type": "markdown",
   "metadata": {},
   "source": [
    "### Additional resources\n",
    "\n",
    "- Connect to Slack Workspace - get link from blackboard\n",
    "- Join the different channels (studio, tutorials, assignments)\n",
    "- Introduce yourself to your peers"
   ]
  },
  {
   "cell_type": "markdown",
   "metadata": {},
   "source": [
    "### Reflective journal\n",
    "\n",
    "Assignment 3 is a personal reflection. To assist you with this process, the web application GoingOK is available for you to use: \n",
    "- Follow the link [https://qut.goingok.org](https://qut.goingok.org)\n",
    "- Sign-in with QUT (or Google/Apple if you prefer)\n",
    "- When asked to enter a group code, enter `???`\n",
    "- Click register\n",
    "\n",
    "The use of the GoingOK application is not complsory. However, it is highly recommended."
   ]
  },
  {
   "cell_type": "markdown",
   "metadata": {},
   "source": [
    "## Python refresher"
   ]
  },
  {
   "cell_type": "markdown",
   "metadata": {},
   "source": [
    "### Working with variables\n",
    "\n",
    "Variables allow you to store data. The most common data types are `string`, `integer`, and `list`. However, any data type can be assigned to a variable.\n",
    "\n",
    "To assign a variable, you need to write the variable name and its value."
   ]
  },
  {
   "cell_type": "code",
   "execution_count": null,
   "metadata": {},
   "outputs": [],
   "source": [
    "# A variable called string_var with a string data\n",
    "string_var = \"this is a string\"\n",
    "print(string_var)\n",
    "\n",
    "# A variable called int_var with an integer data\n",
    "int_var = 0\n",
    "print(int_var)"
   ]
  },
  {
   "cell_type": "markdown",
   "metadata": {},
   "source": [
    "If you need to replace the value of the variable, just assign a new value"
   ]
  },
  {
   "cell_type": "code",
   "execution_count": null,
   "metadata": {},
   "outputs": [],
   "source": [
    "# Replave the string_var value to \"this is a new string\"\n",
    "string_var = \"this is a new string\"\n",
    "print(string_var)"
   ]
  },
  {
   "cell_type": "markdown",
   "metadata": {},
   "source": [
    "**Tip:** Be carefull with the variables values when running the notebook. Every time you run a cell the variable value will get replaced with the content of the cell"
   ]
  },
  {
   "cell_type": "markdown",
   "metadata": {},
   "source": [
    "### String concatenation\n",
    "\n",
    "You can concatenate different strings or variables with string data type using the `+` operator"
   ]
  },
  {
   "cell_type": "code",
   "execution_count": null,
   "metadata": {},
   "outputs": [],
   "source": [
    "# Concatenating different strings\n",
    "string_var_1 = \"with strings\" + \" concatenated\"\n",
    "print(string_var_1)"
   ]
  },
  {
   "cell_type": "code",
   "execution_count": null,
   "metadata": {},
   "outputs": [],
   "source": [
    "# Concatenating variables\n",
    "string_var_2 = string_var + \" \" + string_var_1\n",
    "print(string_var_2)"
   ]
  },
  {
   "cell_type": "markdown",
   "metadata": {},
   "source": [
    "### Working with lists\n",
    "\n",
    "You can create a list in the same way that you create variables. The items of the list can be of any data type, or even another list"
   ]
  },
  {
   "cell_type": "code",
   "execution_count": null,
   "metadata": {},
   "outputs": [],
   "source": [
    "# Creating a list with strings\n",
    "list_var = [\"a\", \"b\", \"c\", \"d\"]\n",
    "print(list_var)"
   ]
  },
  {
   "cell_type": "code",
   "execution_count": null,
   "metadata": {},
   "outputs": [],
   "source": [
    "# Creating a list with integers\n",
    "list_var_1 = [0, 1, 2, 3]\n",
    "print(list_var_1)"
   ]
  },
  {
   "cell_type": "markdown",
   "metadata": {},
   "source": [
    "You can use the index to access a specific item in a list"
   ]
  },
  {
   "cell_type": "code",
   "execution_count": null,
   "metadata": {},
   "outputs": [],
   "source": [
    "# Access the item 1 in the list_var\n",
    "list_var[0]"
   ]
  },
  {
   "cell_type": "markdown",
   "metadata": {},
   "source": [
    "**Tip:** The index in a list starts with number 0. This is the reason that the first element of list_var can be accessed with the index 0"
   ]
  },
  {
   "cell_type": "markdown",
   "metadata": {},
   "source": [
    "You can modify items of a list or add new items if you need"
   ]
  },
  {
   "cell_type": "code",
   "execution_count": null,
   "metadata": {},
   "outputs": [],
   "source": [
    "# Modify the first item in list_var\n",
    "list_var[0] = \"z\"\n",
    "print(list_var)\n",
    "\n",
    "# Add the item \"a\" to list_var\n",
    "list_var.append(\"a\")\n",
    "print(list_var)"
   ]
  },
  {
   "cell_type": "markdown",
   "metadata": {},
   "source": [
    "### Dictionaries\n",
    "\n",
    "Dictionaries allows you to store value pairs with the syntax `key: value`"
   ]
  },
  {
   "cell_type": "code",
   "execution_count": null,
   "metadata": {},
   "outputs": [],
   "source": [
    "# Creating a dictionary\n",
    "dict_var = {\n",
    "    \"key-1\": \"value-1\",\n",
    "    \"key-2\": 2,\n",
    "    \"key-3\": [\"a\", \"b\", \"c\", \"d\"],\n",
    "    \"key-4\": [0, 1, 2, 3]\n",
    "}\n",
    "print(dict_var)"
   ]
  },
  {
   "cell_type": "markdown",
   "metadata": {},
   "source": [
    "Dictionaries allow you to search values based on the key"
   ]
  },
  {
   "cell_type": "code",
   "execution_count": null,
   "metadata": {},
   "outputs": [],
   "source": [
    "# Accessing key-1 of the dict_var\n",
    "print(dict_var[\"key-1\"])\n",
    "\n",
    "# Accessing key-3 of the dict_var\n",
    "print(dict_var[\"key-3\"])"
   ]
  },
  {
   "cell_type": "markdown",
   "metadata": {},
   "source": [
    "**Tip:** The dictionary values can be any data type and also you can have a list of dictionaries"
   ]
  },
  {
   "cell_type": "markdown",
   "metadata": {},
   "source": [
    "### If statement\n",
    "\n",
    "The If statement serves to create conditions using mathematical operators:\n",
    "- Equals: `a == b`\n",
    "- Not equals: `a != b`\n",
    "- Less than: `a < b`\n",
    "- Greater than: `a > b`"
   ]
  },
  {
   "cell_type": "code",
   "execution_count": null,
   "metadata": {},
   "outputs": [],
   "source": [
    "# Check if the variable if_var_1 is equals to if_var_2\n",
    "if_var_1 = 4\n",
    "if_var_2 = 4\n",
    "\n",
    "if if_var_1 == if_var_2:\n",
    "    print(\"The variables are equal\")\n",
    "else:\n",
    "    print(\"The variables are different\")"
   ]
  },
  {
   "cell_type": "markdown",
   "metadata": {},
   "source": [
    "**Tip:** The indentation for any operation inside the if statement is CRUCIAL, if the indentation is not present this will throw an error"
   ]
  },
  {
   "cell_type": "markdown",
   "metadata": {},
   "source": [
    "### For loop\n",
    "\n",
    "The for loop allows you to iterate over every item in a list"
   ]
  },
  {
   "cell_type": "code",
   "execution_count": null,
   "metadata": {},
   "outputs": [],
   "source": [
    "# Double every item in the variable loop\n",
    "loop = [0, 1, 2, 3, 4]\n",
    "for x in loop:\n",
    "    double = x *2\n",
    "    print(double)"
   ]
  },
  {
   "cell_type": "markdown",
   "metadata": {},
   "source": [
    "### While loop\n",
    "\n",
    "The while loop allows you to execute a loop as long as the condition is true"
   ]
  },
  {
   "cell_type": "code",
   "execution_count": null,
   "metadata": {},
   "outputs": [],
   "source": [
    "# Double only the first two items in the variable loop\n",
    "i = 0\n",
    "while i < 2:\n",
    "    double = loop[i] * 2\n",
    "    i += 1\n",
    "    print(double)"
   ]
  },
  {
   "cell_type": "markdown",
   "metadata": {},
   "source": [
    "**Tip:** Be carefull to check that the condition is going to be false at a point in time. If the condition is never false, the while loop will be executing indefenitely"
   ]
  },
  {
   "cell_type": "markdown",
   "metadata": {},
   "source": [
    "### Functions\n",
    "\n",
    "We can reuse code by placing them in a function that can accept variables and return a result (which can be assigned to a variable)"
   ]
  },
  {
   "cell_type": "code",
   "execution_count": null,
   "metadata": {},
   "outputs": [],
   "source": [
    "# Double for loop within a function\n",
    "\n",
    "def doubleItems(orig_list):\n",
    "    new_list = []\n",
    "    for x in my_list:\n",
    "        new_list.append(x*2)\n",
    "    return new_list\n",
    "\n",
    "my_list = [0, 1, 2, 3, 4]\n",
    "doubleItems(my_list)"
   ]
  },
  {
   "cell_type": "code",
   "execution_count": null,
   "metadata": {},
   "outputs": [],
   "source": [
    "# or print it out like before\n",
    "for item in doubleItems(my_list):\n",
    "    print(item)"
   ]
  },
  {
   "cell_type": "code",
   "execution_count": null,
   "metadata": {},
   "outputs": [],
   "source": []
  }
 ],
 "metadata": {
  "hide_input": false,
  "kernelspec": {
   "display_name": "Python 3 (ipykernel)",
   "language": "python",
   "name": "python3"
  },
  "language_info": {
   "codemirror_mode": {
    "name": "ipython",
    "version": 3
   },
   "file_extension": ".py",
   "mimetype": "text/x-python",
   "name": "python",
   "nbconvert_exporter": "python",
   "pygments_lexer": "ipython3",
   "version": "3.9.13"
  }
 },
 "nbformat": 4,
 "nbformat_minor": 4
}
