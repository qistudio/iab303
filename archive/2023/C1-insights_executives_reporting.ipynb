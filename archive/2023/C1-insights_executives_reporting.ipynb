{
 "cells": [
  {
   "cell_type": "markdown",
   "metadata": {},
   "source": [
    "<div class=\"alert alert-block alert-info\"><b>IAB303</b> - Data Analytics for Business Insight</div>"
   ]
  },
  {
   "cell_type": "markdown",
   "metadata": {
    "tags": []
   },
   "source": [
    "# Insights for executives - reporting to stakeholders\n",
    "\n",
    "1. Understand what is important (and what's not)\n",
    "2. Focus on the business narrative (not the data analysis journey)"
   ]
  },
  {
   "cell_type": "markdown",
   "metadata": {},
   "source": [
    "## [1] Understand what is important (and what's not)\n",
    "\n",
    "> Our research, which has involved studying more than 50 international organizations in a variety of industries, has identified an alternative approach to big data and analytics projects that allows companies to continually exploit data in new ways. Instead of the deployment of technology, it focuses on the exploration of information. And rather than viewing information as a resource that resides in databases—which works well for designing and implementing conventional IT systems—it sees information as something that people themselves make valuable.\n",
    ">\n",
    "> [Marchand and Peppard (2013)](https://hbr.org/2013/01/why-it-fumbles-analytics)\n"
   ]
  },
  {
   "cell_type": "markdown",
   "metadata": {},
   "source": [
    "These examples show the importantance of thinking about anlaytics from the business POV:\n",
    "\n",
    "* [How Netflix Used Analytics in the House of Cards](https://youtu.be/OFAqbfEl870)\n",
    "* [How ZARA Uses Data Analytics To Run A Profitable Business](https://youtu.be/bkcAmCqIaao)\n",
    "* [The NBA Data Scientist](https://youtu.be/MpLHMKTolVw)"
   ]
  },
  {
   "cell_type": "markdown",
   "metadata": {},
   "source": [
    "Data analytics needs to be thought about differently than IT. Take a look at this comparison between IT projects and DA projects:\n",
    "<img src=\"https://hbr.org/resources/images/article_assets/hbr/1301/R1301H_A_LG.gif\"/>"
   ]
  },
  {
   "cell_type": "markdown",
   "metadata": {},
   "source": [
    "## [2] Focus on the business narrative (not the data analysis journey)\n",
    "\n",
    "### Structure\n",
    "\n",
    "* Executive summary\n",
    "* Outline/contents\n",
    "* Introduction \n",
    "    - business concern\n",
    "    - stakeholders\n",
    "    - questions\n",
    "* Body\n",
    "    - analysis\n",
    "    - tables & visualisations\n",
    "    - key facts & findings\n",
    "    - ethical considerations\n",
    "* Conclusion\n",
    "    - recommendations\n",
    "    - limitations\n",
    "\n"
   ]
  },
  {
   "cell_type": "markdown",
   "metadata": {
    "jp-MarkdownHeadingCollapsed": true,
    "tags": []
   },
   "source": [
    "[Biggsuccess.com - How To Write A Great Report: 7 Tips To Make Your Next Report Stand Out](https://biggsuccess.com/bigg-articles/how-to-write-a-great-report/):\n",
    "\n",
    "* Determine its purpose. What should it accomplish?\n",
    "* Write to your readers. Who is your audience?\n",
    "* Proceed in an orderly manner. Research – Write – Summarize.\n",
    "* Length matters. Cover your topic, then quit.\n",
    "* Flow logically. Lead the reader from start to finish.\n",
    "* Appearance matters. Make it visually appealing.\n",
    "* Review and revise.\n"
   ]
  },
  {
   "cell_type": "markdown",
   "metadata": {},
   "source": [
    "[Writing reports for Senior Management (Matthew Smith)](https://www.linkedin.com/pulse/writing-reports-senior-management-words-matter-matthew-smith/)\n",
    "\n",
    "> Writing plainly means knowing what you want to say without saying it, and 7-C is simply seven words that begin with a \"C\" and characterize a strong and professional style.\n",
    "\n",
    "1. Clear\n",
    "2. Concise\n",
    "3. Concrete\n",
    "4. Correct\n",
    "5. Coherent\n",
    "6. Complete\n",
    "7. Courteous"
   ]
  },
  {
   "cell_type": "markdown",
   "metadata": {},
   "source": [
    "[Efficiently Reporting Data to Executive Management: A Comprehensive Guide for Professionals](https://www.linkedin.com/pulse/efficiently-reporting-data-executive-management-guide-akhunzada/)\n",
    "\n",
    "> Efficient reporting of data to executive management is essential for the success of any organization. With the ever-increasing amount of data available to companies, it is essential to understand how to efficiently analyze and present data in a meaningful way to decision-makers. Reporting data effectively allows executives to make informed decisions that can lead to the growth and success of the company.\n",
    "\n",
    "1. Start with your business goals\n",
    "2. Identify key performance indicators (KPIs)\n",
    "3. Consider context\n",
    "4. Use visualisations\n",
    "5. Prioritise simplicity"
   ]
  }
 ],
 "metadata": {
  "hide_input": false,
  "kernelspec": {
   "display_name": "Python 3 (ipykernel)",
   "language": "python",
   "name": "python3"
  },
  "language_info": {
   "codemirror_mode": {
    "name": "ipython",
    "version": 3
   },
   "file_extension": ".py",
   "mimetype": "text/x-python",
   "name": "python",
   "nbconvert_exporter": "python",
   "pygments_lexer": "ipython3",
   "version": "3.10.6"
  },
  "qut": {
   "creation_period": "2023_sem2",
   "nb_name": "C1-insights_executives_reporting",
   "unit_code": "IAB303"
  }
 },
 "nbformat": 4,
 "nbformat_minor": 4
}
