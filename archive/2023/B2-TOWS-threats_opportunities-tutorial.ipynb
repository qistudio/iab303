{
    "cells": [
        {
            "cell_type": "markdown",
            "metadata": {
                "slideshow": {
                    "slide_type": "slide"
                }
            },
            "source": [
                "# Tutorial :: Threats and opportunities in external data - the power of the news"
            ]
        },
        {
            "cell_type": "markdown",
            "metadata": {
                "slideshow": {
                    "slide_type": "slide"
                }
            },
            "source": [
                "**CONCERN**\n",
                "\n",
                "You are working for a consultancy firm in charge of the Australian government's political image. In September 2021, the Australian government had a high-profile problem with France due to a deal to buy french submarines being called off. A report has already been generated with the titles of news items. However, your job as an analyst is to create a more thorough report taking into consideration additional information inside each news item.\n",
                "\n",
                "In particular, your clients want to be aware of **threats** and **opportunities** suggested by the news.\n",
                "\n",
                "1. **Q**uestion\n",
                "2. **D**ata\n",
                "3. **A**nalysis\n",
                "4. **V**isualisation\n",
                "5. **I**nsight\n",
                "\n",
                "<img src=\"graphics/QDAVI_cycle_sm.png\" width=\"50%\" />"
            ]
        },
        {
            "cell_type": "markdown",
            "metadata": {
                "slideshow": {
                    "slide_type": "slide"
                }
            },
            "source": [
                "### 1. Question\n",
                "\n",
                "How has the news affected the image of the Australian government?\n",
                "\n",
                "**Tip:** You can combine web scraping and APIs"
            ]
        },
        {
            "cell_type": "markdown",
            "metadata": {
                "slideshow": {
                    "slide_type": "slide"
                }
            },
            "source": [
                "### 2. Data\n",
                "\n",
                "You must use The Guardian API\n",
                "\n",
                "**Tip:** Check the studio session and tutorial notebooks from Week 3 for information about how to call the guardian API"
            ]
        },
        {
            "cell_type": "code",
            "execution_count": 1,
            "metadata": {
                "tags": []
            },
            "outputs": [],
            "source": [
                "# Libraries for the analysis\n",
                "import pandas as pd\n",
                "import requests\n",
                "import json\n",
                "from bs4 import BeautifulSoup"
            ]
        },
        {
            "cell_type": "code",
            "execution_count": 2,
            "metadata": {
                "tags": []
            },
            "outputs": [
                {
                    "name": "stdout",
                    "output_type": "stream",
                    "text": [
                        "https://content.guardianapis.com/search?q=\"submarine\"&production-office=aus&from-date=2021-09-01&to-date=2021-11-30&api-key=test\n"
                    ]
                }
            ],
            "source": [
                "# Build a search URL\n",
                "baseUrl = 'https://content.guardianapis.com/search?q=' # content search\n",
                "\n",
                "searchString = \"submarine\"\n",
                "office = \"&production-office=aus\"\n",
                "tag = \"&tag=politics/politics\"\n",
                "fromDate = \"&from-date=2021-09-01\"\n",
                "toDate = \"&to-date=2021-11-30\"\n",
                "\n",
                "url = baseUrl+'\"'+searchString+'\"'+office+fromDate+toDate+\"&api-key=test\"\n",
                "print(url)"
            ]
        },
        {
            "cell_type": "code",
            "execution_count": 3,
            "metadata": {
                "tags": []
            },
            "outputs": [
                {
                    "data": {
                        "text/plain": [
                            "[{'id': 'world/2021/nov/09/australia-promises-jobs-to-workers-stranded-by-scrapping-of-french-submarine-deal',\n",
                            "  'type': 'article',\n",
                            "  'sectionId': 'world',\n",
                            "  'sectionName': 'World news',\n",
                            "  'webPublicationDate': '2021-11-08T16:30:35Z',\n",
                            "  'webTitle': 'Australia promises jobs to workers stranded by scrapping of French submarine deal',\n",
                            "  'webUrl': 'https://www.theguardian.com/world/2021/nov/09/australia-promises-jobs-to-workers-stranded-by-scrapping-of-french-submarine-deal',\n",
                            "  'apiUrl': 'https://content.guardianapis.com/world/2021/nov/09/australia-promises-jobs-to-workers-stranded-by-scrapping-of-french-submarine-deal',\n",
                            "  'isHosted': False,\n",
                            "  'pillarId': 'pillar/news',\n",
                            "  'pillarName': 'News'},\n",
                            " {'id': 'world/2021/oct/01/fears-australias-france-submarine-snub-could-scupper-closer-eu-economic-ties',\n",
                            "  'type': 'article',\n",
                            "  'sectionId': 'world',\n",
                            "  'sectionName': 'World news',\n",
                            "  'webPublicationDate': '2021-10-01T09:00:58Z',\n",
                            "  'webTitle': 'Fears Australia\u2019s France submarine snub could scupper closer EU economic ties',\n",
                            "  'webUrl': 'https://www.theguardian.com/world/2021/oct/01/fears-australias-france-submarine-snub-could-scupper-closer-eu-economic-ties',\n",
                            "  'apiUrl': 'https://content.guardianapis.com/world/2021/oct/01/fears-australias-france-submarine-snub-could-scupper-closer-eu-economic-ties',\n",
                            "  'isHosted': False,\n",
                            "  'pillarId': 'pillar/news',\n",
                            "  'pillarName': 'News'},\n",
                            " {'id': 'australia-news/2021/sep/29/australia-tore-up-french-submarine-contract-for-convenience-naval-group-says',\n",
                            "  'type': 'article',\n",
                            "  'sectionId': 'australia-news',\n",
                            "  'sectionName': 'Australia news',\n",
                            "  'webPublicationDate': '2021-09-29T06:15:33Z',\n",
                            "  'webTitle': 'Australia tore up French submarine contract \u2018for convenience\u2019 Naval Group says',\n",
                            "  'webUrl': 'https://www.theguardian.com/australia-news/2021/sep/29/australia-tore-up-french-submarine-contract-for-convenience-naval-group-says',\n",
                            "  'apiUrl': 'https://content.guardianapis.com/australia-news/2021/sep/29/australia-tore-up-french-submarine-contract-for-convenience-naval-group-says',\n",
                            "  'isHosted': False,\n",
                            "  'pillarId': 'pillar/news',\n",
                            "  'pillarName': 'News'},\n",
                            " {'id': 'australia-news/2021/oct/29/macrons-anger-over-nuclear-submarine-deal-linked-to-french-election-peter-dutton-says',\n",
                            "  'type': 'article',\n",
                            "  'sectionId': 'australia-news',\n",
                            "  'sectionName': 'Australia news',\n",
                            "  'webPublicationDate': '2021-10-29T04:32:28Z',\n",
                            "  'webTitle': 'Macron\u2019s anger over nuclear submarine deal linked to French election, Peter Dutton says',\n",
                            "  'webUrl': 'https://www.theguardian.com/australia-news/2021/oct/29/macrons-anger-over-nuclear-submarine-deal-linked-to-french-election-peter-dutton-says',\n",
                            "  'apiUrl': 'https://content.guardianapis.com/australia-news/2021/oct/29/macrons-anger-over-nuclear-submarine-deal-linked-to-french-election-peter-dutton-says',\n",
                            "  'isHosted': False,\n",
                            "  'pillarId': 'pillar/news',\n",
                            "  'pillarName': 'News'},\n",
                            " {'id': 'world/2021/oct/28/australias-foreign-minister-to-meet-french-ambassador-in-bid-to-heal-submarine-rift',\n",
                            "  'type': 'article',\n",
                            "  'sectionId': 'world',\n",
                            "  'sectionName': 'World news',\n",
                            "  'webPublicationDate': '2021-10-28T04:39:00Z',\n",
                            "  'webTitle': 'Australia\u2019s foreign minister to meet French ambassador in bid to heal submarine rift ',\n",
                            "  'webUrl': 'https://www.theguardian.com/world/2021/oct/28/australias-foreign-minister-to-meet-french-ambassador-in-bid-to-heal-submarine-rift',\n",
                            "  'apiUrl': 'https://content.guardianapis.com/world/2021/oct/28/australias-foreign-minister-to-meet-french-ambassador-in-bid-to-heal-submarine-rift',\n",
                            "  'isHosted': False,\n",
                            "  'pillarId': 'pillar/news',\n",
                            "  'pillarName': 'News'},\n",
                            " {'id': 'world/2021/nov/19/naughty-guy-top-chinese-diplomat-accuses-australia-of-sabre-wielding-with-nuclear-submarine-deal',\n",
                            "  'type': 'article',\n",
                            "  'sectionId': 'world',\n",
                            "  'sectionName': 'World news',\n",
                            "  'webPublicationDate': '2021-11-18T16:30:10Z',\n",
                            "  'webTitle': '\u2018Naughty guy\u2019: top Chinese diplomat accuses Australia of \u2018sabre wielding\u2019 with nuclear submarine deal',\n",
                            "  'webUrl': 'https://www.theguardian.com/world/2021/nov/19/naughty-guy-top-chinese-diplomat-accuses-australia-of-sabre-wielding-with-nuclear-submarine-deal',\n",
                            "  'apiUrl': 'https://content.guardianapis.com/world/2021/nov/19/naughty-guy-top-chinese-diplomat-accuses-australia-of-sabre-wielding-with-nuclear-submarine-deal',\n",
                            "  'isHosted': False,\n",
                            "  'pillarId': 'pillar/news',\n",
                            "  'pillarName': 'News'},\n",
                            " {'id': 'australia-news/2021/sep/29/malcolm-turnbull-excoriates-scott-morrison-over-appalling-episode-with-french-submarine-deal',\n",
                            "  'type': 'article',\n",
                            "  'sectionId': 'australia-news',\n",
                            "  'sectionName': 'Australia news',\n",
                            "  'webPublicationDate': '2021-09-29T08:19:43Z',\n",
                            "  'webTitle': 'Malcolm Turnbull excoriates Scott Morrison over \u2018appalling episode\u2019 with French submarine deal',\n",
                            "  'webUrl': 'https://www.theguardian.com/australia-news/2021/sep/29/malcolm-turnbull-excoriates-scott-morrison-over-appalling-episode-with-french-submarine-deal',\n",
                            "  'apiUrl': 'https://content.guardianapis.com/australia-news/2021/sep/29/malcolm-turnbull-excoriates-scott-morrison-over-appalling-episode-with-french-submarine-deal',\n",
                            "  'isHosted': False,\n",
                            "  'pillarId': 'pillar/news',\n",
                            "  'pillarName': 'News'},\n",
                            " {'id': 'world/2021/sep/29/former-us-navy-secretary-now-scott-morrisons-aukus-middle-man-on-submarine-plan',\n",
                            "  'type': 'article',\n",
                            "  'sectionId': 'world',\n",
                            "  'sectionName': 'World news',\n",
                            "  'webPublicationDate': '2021-09-29T02:50:32Z',\n",
                            "  'webTitle': 'Former US navy secretary now Scott Morrison\u2019s Aukus middleman on submarine plan',\n",
                            "  'webUrl': 'https://www.theguardian.com/world/2021/sep/29/former-us-navy-secretary-now-scott-morrisons-aukus-middle-man-on-submarine-plan',\n",
                            "  'apiUrl': 'https://content.guardianapis.com/world/2021/sep/29/former-us-navy-secretary-now-scott-morrisons-aukus-middle-man-on-submarine-plan',\n",
                            "  'isHosted': False,\n",
                            "  'pillarId': 'pillar/news',\n",
                            "  'pillarName': 'News'},\n",
                            " {'id': 'world/2021/sep/20/we-felt-fooled-france-still-furious-after-australia-scraps-90bn-submarine-deal',\n",
                            "  'type': 'article',\n",
                            "  'sectionId': 'world',\n",
                            "  'sectionName': 'World news',\n",
                            "  'webPublicationDate': '2021-09-20T01:11:38Z',\n",
                            "  'webTitle': '\u2018We felt fooled\u2019: France still furious after Australia scraps $90bn submarine deal',\n",
                            "  'webUrl': 'https://www.theguardian.com/world/2021/sep/20/we-felt-fooled-france-still-furious-after-australia-scraps-90bn-submarine-deal',\n",
                            "  'apiUrl': 'https://content.guardianapis.com/world/2021/sep/20/we-felt-fooled-france-still-furious-after-australia-scraps-90bn-submarine-deal',\n",
                            "  'isHosted': False,\n",
                            "  'pillarId': 'pillar/news',\n",
                            "  'pillarName': 'News'},\n",
                            " {'id': 'australia-news/2021/sep/17/game-changer-or-irresponsible-the-known-unknowns-on-australias-nuclear-submarine-deal',\n",
                            "  'type': 'article',\n",
                            "  'sectionId': 'australia-news',\n",
                            "  'sectionName': 'Australia news',\n",
                            "  'webPublicationDate': '2021-09-17T08:35:30Z',\n",
                            "  'webTitle': 'Game-changer or irresponsible? The known unknowns on Australia\u2019s nuclear submarine deal',\n",
                            "  'webUrl': 'https://www.theguardian.com/australia-news/2021/sep/17/game-changer-or-irresponsible-the-known-unknowns-on-australias-nuclear-submarine-deal',\n",
                            "  'apiUrl': 'https://content.guardianapis.com/australia-news/2021/sep/17/game-changer-or-irresponsible-the-known-unknowns-on-australias-nuclear-submarine-deal',\n",
                            "  'isHosted': False,\n",
                            "  'pillarId': 'pillar/news',\n",
                            "  'pillarName': 'News'}]"
                        ]
                    },
                    "execution_count": 3,
                    "metadata": {},
                    "output_type": "execute_result"
                }
            ],
            "source": [
                "# Call the API\n",
                "response = requests.get(url)\n",
                "data = json.loads(response.content)\n",
                "results = data['response']['results']\n",
                "results"
            ]
        },
        {
            "cell_type": "markdown",
            "metadata": {},
            "source": [
                "The results contain the URL to the news items on the website. After inspecting a couple of pages, which information could be easily extracted from it"
            ]
        },
        {
            "cell_type": "code",
            "execution_count": 4,
            "metadata": {
                "tags": []
            },
            "outputs": [],
            "source": [
                "# Get HTML function\n",
                "def get_HTML(url):\n",
                "    # get data from server\n",
                "    response = requests.get(url)\n",
                "    html = response.content\n",
                "    return html"
            ]
        },
        {
            "cell_type": "code",
            "execution_count": 5,
            "metadata": {
                "tags": []
            },
            "outputs": [],
            "source": [
                "# Beautiful soup function for subtitle\n",
                "def extract_subTitle(HTML):\n",
                "    soup = BeautifulSoup(HTML, \"html.parser\") # the html input and the parser name\n",
                "    article = soup.find(\"article\") # the tag that contains the article\n",
                "    div_element = article.find(\"div\", attrs={\"data-gu-name\": \"standfirst\"}) # the tag that can be found using an attribute\n",
                "    if div_element is not None:\n",
                "        target_element = div_element.find(\"p\")\n",
                "        return target_element.text\n",
                "    else:\n",
                "        return \"\"\n",
                "    "
            ]
        },
        {
            "cell_type": "code",
            "execution_count": 6,
            "metadata": {
                "tags": []
            },
            "outputs": [],
            "source": [
                "# Beautiful soup function for body\n",
                "def extract_body(HTML):\n",
                "    soup = BeautifulSoup(HTML, \"html.parser\") # the html input and the parser name\n",
                "    article = soup.find(\"article\") # the tag that contains the article\n",
                "    div_element = article.find(\"div\", attrs={\"id\": \"maincontent\"}) # the tag that can be found using an attribute\n",
                "    if div_element is not None:\n",
                "        div_div_element = div_element.find(\"div\")\n",
                "        target_elements = div_element.findAll(\"p\")\n",
                "        result = \"\"\n",
                "        for te in target_elements:\n",
                "            result += te.text\n",
                "        return result\n",
                "    else:\n",
                "        return \"\""
            ]
        },
        {
            "cell_type": "markdown",
            "metadata": {},
            "source": [
                "#### Clean/preprocess data"
            ]
        },
        {
            "cell_type": "code",
            "execution_count": 7,
            "metadata": {
                "tags": []
            },
            "outputs": [
                {
                    "data": {
                        "text/html": [
                            "<div>\n",
                            "<style scoped>\n",
                            "    .dataframe tbody tr th:only-of-type {\n",
                            "        vertical-align: middle;\n",
                            "    }\n",
                            "\n",
                            "    .dataframe tbody tr th {\n",
                            "        vertical-align: top;\n",
                            "    }\n",
                            "\n",
                            "    .dataframe thead th {\n",
                            "        text-align: right;\n",
                            "    }\n",
                            "</style>\n",
                            "<table border=\"1\" class=\"dataframe\">\n",
                            "  <thead>\n",
                            "    <tr style=\"text-align: right;\">\n",
                            "      <th></th>\n",
                            "      <th>Date</th>\n",
                            "      <th>Section</th>\n",
                            "      <th>Title</th>\n",
                            "      <th>Subtitle</th>\n",
                            "      <th>Body</th>\n",
                            "    </tr>\n",
                            "  </thead>\n",
                            "  <tbody>\n",
                            "  </tbody>\n",
                            "</table>\n",
                            "</div>"
                        ],
                        "text/plain": [
                            "Empty DataFrame\n",
                            "Columns: [Date, Section, Title, Subtitle, Body]\n",
                            "Index: []"
                        ]
                    },
                    "execution_count": 7,
                    "metadata": {},
                    "output_type": "execute_result"
                }
            ],
            "source": [
                "# Create a dataframe\n",
                "df = pd.DataFrame(columns=[\"Date\", \"Section\", \"Title\", \"Subtitle\", \"Body\"])\n",
                "df"
            ]
        },
        {
            "cell_type": "code",
            "execution_count": 8,
            "metadata": {
                "tags": []
            },
            "outputs": [
                {
                    "data": {
                        "text/html": [
                            "<div>\n",
                            "<style scoped>\n",
                            "    .dataframe tbody tr th:only-of-type {\n",
                            "        vertical-align: middle;\n",
                            "    }\n",
                            "\n",
                            "    .dataframe tbody tr th {\n",
                            "        vertical-align: top;\n",
                            "    }\n",
                            "\n",
                            "    .dataframe thead th {\n",
                            "        text-align: right;\n",
                            "    }\n",
                            "</style>\n",
                            "<table border=\"1\" class=\"dataframe\">\n",
                            "  <thead>\n",
                            "    <tr style=\"text-align: right;\">\n",
                            "      <th></th>\n",
                            "      <th>Date</th>\n",
                            "      <th>Section</th>\n",
                            "      <th>Title</th>\n",
                            "      <th>Subtitle</th>\n",
                            "      <th>Body</th>\n",
                            "    </tr>\n",
                            "  </thead>\n",
                            "  <tbody>\n",
                            "    <tr>\n",
                            "      <th>0</th>\n",
                            "      <td>2021-11-08T16:30:35Z</td>\n",
                            "      <td>World news</td>\n",
                            "      <td>Australia promises jobs to workers stranded by...</td>\n",
                            "      <td>Defence industry minister Melissa Price tells ...</td>\n",
                            "      <td>\u201cEach and every\u201d skilled shipbuilding worker a...</td>\n",
                            "    </tr>\n",
                            "    <tr>\n",
                            "      <th>1</th>\n",
                            "      <td>2021-10-01T09:00:58Z</td>\n",
                            "      <td>World news</td>\n",
                            "      <td>Fears Australia\u2019s France submarine snub could ...</td>\n",
                            "      <td>Opposition accuses Scott Morrison of failing \u2018...</td>\n",
                            "      <td>The postponement of trade talks between the Eu...</td>\n",
                            "    </tr>\n",
                            "    <tr>\n",
                            "      <th>2</th>\n",
                            "      <td>2021-09-29T06:15:33Z</td>\n",
                            "      <td>Australia news</td>\n",
                            "      <td>Australia tore up French submarine contract \u2018f...</td>\n",
                            "      <td>Shipbuilding company maintains it \u2018did not fai...</td>\n",
                            "      <td>Australia scrapped the $90bn submarine deal wi...</td>\n",
                            "    </tr>\n",
                            "    <tr>\n",
                            "      <th>3</th>\n",
                            "      <td>2021-10-29T04:32:28Z</td>\n",
                            "      <td>Australia news</td>\n",
                            "      <td>Macron\u2019s anger over nuclear submarine deal lin...</td>\n",
                            "      <td>Australian defence minister\u2019s claim comes as F...</td>\n",
                            "      <td>Peter Dutton says sustained expressions of out...</td>\n",
                            "    </tr>\n",
                            "    <tr>\n",
                            "      <th>4</th>\n",
                            "      <td>2021-10-28T04:39:00Z</td>\n",
                            "      <td>World news</td>\n",
                            "      <td>Australia\u2019s foreign minister to meet French am...</td>\n",
                            "      <td>Marise Payne says she regrets France\u2019s \u2018deep d...</td>\n",
                            "      <td>Australia\u2019s foreign minister will meet with th...</td>\n",
                            "    </tr>\n",
                            "    <tr>\n",
                            "      <th>5</th>\n",
                            "      <td>2021-11-18T16:30:10Z</td>\n",
                            "      <td>World news</td>\n",
                            "      <td>\u2018Naughty guy\u2019: top Chinese diplomat accuses Au...</td>\n",
                            "      <td>Exclusive: Acting ambassador to Australia, Wan...</td>\n",
                            "      <td>A top Chinese diplomat has likened Australia t...</td>\n",
                            "    </tr>\n",
                            "    <tr>\n",
                            "      <th>6</th>\n",
                            "      <td>2021-09-29T08:19:43Z</td>\n",
                            "      <td>Australia news</td>\n",
                            "      <td>Malcolm Turnbull excoriates Scott Morrison ove...</td>\n",
                            "      <td>Former PM also revealed he plans to go to Glas...</td>\n",
                            "      <td>Malcolm Turnbull has revealed he has spoken to...</td>\n",
                            "    </tr>\n",
                            "    <tr>\n",
                            "      <th>7</th>\n",
                            "      <td>2021-09-29T02:50:32Z</td>\n",
                            "      <td>World news</td>\n",
                            "      <td>Former US navy secretary now Scott Morrison\u2019s ...</td>\n",
                            "      <td>Prof Donald Winter, who advised the Australian...</td>\n",
                            "      <td>A former US navy secretary who advised the Aus...</td>\n",
                            "    </tr>\n",
                            "    <tr>\n",
                            "      <th>8</th>\n",
                            "      <td>2021-09-20T01:11:38Z</td>\n",
                            "      <td>World news</td>\n",
                            "      <td>\u2018We felt fooled\u2019: France still furious after A...</td>\n",
                            "      <td>\u2018Maybe we\u2019re not friends,\u2019 recalled ambassador...</td>\n",
                            "      <td>French anger at the Morrison government\u2019s deci...</td>\n",
                            "    </tr>\n",
                            "    <tr>\n",
                            "      <th>9</th>\n",
                            "      <td>2021-09-17T08:35:30Z</td>\n",
                            "      <td>Australia news</td>\n",
                            "      <td>Game-changer or irresponsible? The known unkno...</td>\n",
                            "      <td>Analysis: Stay tuned as we battle the notoriou...</td>\n",
                            "      <td>It started, as defence stories so often do, wi...</td>\n",
                            "    </tr>\n",
                            "  </tbody>\n",
                            "</table>\n",
                            "</div>"
                        ],
                        "text/plain": [
                            "                   Date         Section  \\\n",
                            "0  2021-11-08T16:30:35Z      World news   \n",
                            "1  2021-10-01T09:00:58Z      World news   \n",
                            "2  2021-09-29T06:15:33Z  Australia news   \n",
                            "3  2021-10-29T04:32:28Z  Australia news   \n",
                            "4  2021-10-28T04:39:00Z      World news   \n",
                            "5  2021-11-18T16:30:10Z      World news   \n",
                            "6  2021-09-29T08:19:43Z  Australia news   \n",
                            "7  2021-09-29T02:50:32Z      World news   \n",
                            "8  2021-09-20T01:11:38Z      World news   \n",
                            "9  2021-09-17T08:35:30Z  Australia news   \n",
                            "\n",
                            "                                               Title  \\\n",
                            "0  Australia promises jobs to workers stranded by...   \n",
                            "1  Fears Australia\u2019s France submarine snub could ...   \n",
                            "2  Australia tore up French submarine contract \u2018f...   \n",
                            "3  Macron\u2019s anger over nuclear submarine deal lin...   \n",
                            "4  Australia\u2019s foreign minister to meet French am...   \n",
                            "5  \u2018Naughty guy\u2019: top Chinese diplomat accuses Au...   \n",
                            "6  Malcolm Turnbull excoriates Scott Morrison ove...   \n",
                            "7  Former US navy secretary now Scott Morrison\u2019s ...   \n",
                            "8  \u2018We felt fooled\u2019: France still furious after A...   \n",
                            "9  Game-changer or irresponsible? The known unkno...   \n",
                            "\n",
                            "                                            Subtitle  \\\n",
                            "0  Defence industry minister Melissa Price tells ...   \n",
                            "1  Opposition accuses Scott Morrison of failing \u2018...   \n",
                            "2  Shipbuilding company maintains it \u2018did not fai...   \n",
                            "3  Australian defence minister\u2019s claim comes as F...   \n",
                            "4  Marise Payne says she regrets France\u2019s \u2018deep d...   \n",
                            "5  Exclusive: Acting ambassador to Australia, Wan...   \n",
                            "6  Former PM also revealed he plans to go to Glas...   \n",
                            "7  Prof Donald Winter, who advised the Australian...   \n",
                            "8  \u2018Maybe we\u2019re not friends,\u2019 recalled ambassador...   \n",
                            "9  Analysis: Stay tuned as we battle the notoriou...   \n",
                            "\n",
                            "                                                Body  \n",
                            "0  \u201cEach and every\u201d skilled shipbuilding worker a...  \n",
                            "1  The postponement of trade talks between the Eu...  \n",
                            "2  Australia scrapped the $90bn submarine deal wi...  \n",
                            "3  Peter Dutton says sustained expressions of out...  \n",
                            "4  Australia\u2019s foreign minister will meet with th...  \n",
                            "5  A top Chinese diplomat has likened Australia t...  \n",
                            "6  Malcolm Turnbull has revealed he has spoken to...  \n",
                            "7  A former US navy secretary who advised the Aus...  \n",
                            "8  French anger at the Morrison government\u2019s deci...  \n",
                            "9  It started, as defence stories so often do, wi...  "
                        ]
                    },
                    "execution_count": 8,
                    "metadata": {},
                    "output_type": "execute_result"
                }
            ],
            "source": [
                "# Populate the dataframe\n",
                "for news in results:\n",
                "    html = get_HTML(news[\"webUrl\"])\n",
                "    data = {\"Date\": news[\"webPublicationDate\"], \"Section\": news[\"sectionName\"], \"Title\": news[\"webTitle\"], \"Subtitle\": extract_subTitle(html), \"Body\": extract_body(html)}\n",
                "    df_to_append = pd.DataFrame([data])\n",
                "    df = pd.concat([df,df_to_append], ignore_index=True)\n",
                "df"
            ]
        },
        {
            "cell_type": "code",
            "execution_count": 9,
            "metadata": {
                "tags": []
            },
            "outputs": [
                {
                    "data": {
                        "text/html": [
                            "<div>\n",
                            "<style scoped>\n",
                            "    .dataframe tbody tr th:only-of-type {\n",
                            "        vertical-align: middle;\n",
                            "    }\n",
                            "\n",
                            "    .dataframe tbody tr th {\n",
                            "        vertical-align: top;\n",
                            "    }\n",
                            "\n",
                            "    .dataframe thead th {\n",
                            "        text-align: right;\n",
                            "    }\n",
                            "</style>\n",
                            "<table border=\"1\" class=\"dataframe\">\n",
                            "  <thead>\n",
                            "    <tr style=\"text-align: right;\">\n",
                            "      <th></th>\n",
                            "      <th>Date</th>\n",
                            "      <th>Section</th>\n",
                            "      <th>Title</th>\n",
                            "      <th>Subtitle</th>\n",
                            "      <th>Body</th>\n",
                            "    </tr>\n",
                            "  </thead>\n",
                            "  <tbody>\n",
                            "    <tr>\n",
                            "      <th>0</th>\n",
                            "      <td>2021-11-08T16:30:35Z</td>\n",
                            "      <td>World news</td>\n",
                            "      <td>Australia promises jobs to workers stranded by...</td>\n",
                            "      <td>Defence industry minister Melissa Price tells ...</td>\n",
                            "      <td>\u201cEach and every\u201d skilled shipbuilding worker a...</td>\n",
                            "    </tr>\n",
                            "    <tr>\n",
                            "      <th>1</th>\n",
                            "      <td>2021-10-01T09:00:58Z</td>\n",
                            "      <td>World news</td>\n",
                            "      <td>Fears Australia\u2019s France submarine snub could ...</td>\n",
                            "      <td>Opposition accuses Scott Morrison of failing \u2018...</td>\n",
                            "      <td>The postponement of trade talks between the Eu...</td>\n",
                            "    </tr>\n",
                            "    <tr>\n",
                            "      <th>2</th>\n",
                            "      <td>2021-09-29T06:15:33Z</td>\n",
                            "      <td>Australia news</td>\n",
                            "      <td>Australia tore up French submarine contract \u2018f...</td>\n",
                            "      <td>Shipbuilding company maintains it \u2018did not fai...</td>\n",
                            "      <td>Australia scrapped the $90bn submarine deal wi...</td>\n",
                            "    </tr>\n",
                            "    <tr>\n",
                            "      <th>3</th>\n",
                            "      <td>2021-10-29T04:32:28Z</td>\n",
                            "      <td>Australia news</td>\n",
                            "      <td>Macron\u2019s anger over nuclear submarine deal lin...</td>\n",
                            "      <td>Australian defence minister\u2019s claim comes as F...</td>\n",
                            "      <td>Peter Dutton says sustained expressions of out...</td>\n",
                            "    </tr>\n",
                            "    <tr>\n",
                            "      <th>4</th>\n",
                            "      <td>2021-10-28T04:39:00Z</td>\n",
                            "      <td>World news</td>\n",
                            "      <td>Australia\u2019s foreign minister to meet French am...</td>\n",
                            "      <td>Marise Payne says she regrets France\u2019s \u2018deep d...</td>\n",
                            "      <td>Australia\u2019s foreign minister will meet with th...</td>\n",
                            "    </tr>\n",
                            "    <tr>\n",
                            "      <th>5</th>\n",
                            "      <td>2021-11-18T16:30:10Z</td>\n",
                            "      <td>World news</td>\n",
                            "      <td>\u2018Naughty guy\u2019: top Chinese diplomat accuses Au...</td>\n",
                            "      <td>Exclusive: Acting ambassador to Australia, Wan...</td>\n",
                            "      <td>A top Chinese diplomat has likened Australia t...</td>\n",
                            "    </tr>\n",
                            "    <tr>\n",
                            "      <th>6</th>\n",
                            "      <td>2021-09-29T08:19:43Z</td>\n",
                            "      <td>Australia news</td>\n",
                            "      <td>Malcolm Turnbull excoriates Scott Morrison ove...</td>\n",
                            "      <td>Former PM also revealed he plans to go to Glas...</td>\n",
                            "      <td>Malcolm Turnbull has revealed he has spoken to...</td>\n",
                            "    </tr>\n",
                            "    <tr>\n",
                            "      <th>7</th>\n",
                            "      <td>2021-09-29T02:50:32Z</td>\n",
                            "      <td>World news</td>\n",
                            "      <td>Former US navy secretary now Scott Morrison\u2019s ...</td>\n",
                            "      <td>Prof Donald Winter, who advised the Australian...</td>\n",
                            "      <td>A former US navy secretary who advised the Aus...</td>\n",
                            "    </tr>\n",
                            "    <tr>\n",
                            "      <th>8</th>\n",
                            "      <td>2021-09-20T01:11:38Z</td>\n",
                            "      <td>World news</td>\n",
                            "      <td>\u2018We felt fooled\u2019: France still furious after A...</td>\n",
                            "      <td>\u2018Maybe we\u2019re not friends,\u2019 recalled ambassador...</td>\n",
                            "      <td>French anger at the Morrison government\u2019s deci...</td>\n",
                            "    </tr>\n",
                            "    <tr>\n",
                            "      <th>9</th>\n",
                            "      <td>2021-09-17T08:35:30Z</td>\n",
                            "      <td>Australia news</td>\n",
                            "      <td>Game-changer or irresponsible? The known unkno...</td>\n",
                            "      <td>Analysis: Stay tuned as we battle the notoriou...</td>\n",
                            "      <td>It started, as defence stories so often do, wi...</td>\n",
                            "    </tr>\n",
                            "  </tbody>\n",
                            "</table>\n",
                            "</div>"
                        ],
                        "text/plain": [
                            "                   Date         Section  \\\n",
                            "0  2021-11-08T16:30:35Z      World news   \n",
                            "1  2021-10-01T09:00:58Z      World news   \n",
                            "2  2021-09-29T06:15:33Z  Australia news   \n",
                            "3  2021-10-29T04:32:28Z  Australia news   \n",
                            "4  2021-10-28T04:39:00Z      World news   \n",
                            "5  2021-11-18T16:30:10Z      World news   \n",
                            "6  2021-09-29T08:19:43Z  Australia news   \n",
                            "7  2021-09-29T02:50:32Z      World news   \n",
                            "8  2021-09-20T01:11:38Z      World news   \n",
                            "9  2021-09-17T08:35:30Z  Australia news   \n",
                            "\n",
                            "                                               Title  \\\n",
                            "0  Australia promises jobs to workers stranded by...   \n",
                            "1  Fears Australia\u2019s France submarine snub could ...   \n",
                            "2  Australia tore up French submarine contract \u2018f...   \n",
                            "3  Macron\u2019s anger over nuclear submarine deal lin...   \n",
                            "4  Australia\u2019s foreign minister to meet French am...   \n",
                            "5  \u2018Naughty guy\u2019: top Chinese diplomat accuses Au...   \n",
                            "6  Malcolm Turnbull excoriates Scott Morrison ove...   \n",
                            "7  Former US navy secretary now Scott Morrison\u2019s ...   \n",
                            "8  \u2018We felt fooled\u2019: France still furious after A...   \n",
                            "9  Game-changer or irresponsible? The known unkno...   \n",
                            "\n",
                            "                                            Subtitle  \\\n",
                            "0  Defence industry minister Melissa Price tells ...   \n",
                            "1  Opposition accuses Scott Morrison of failing \u2018...   \n",
                            "2  Shipbuilding company maintains it \u2018did not fai...   \n",
                            "3  Australian defence minister\u2019s claim comes as F...   \n",
                            "4  Marise Payne says she regrets France\u2019s \u2018deep d...   \n",
                            "5  Exclusive: Acting ambassador to Australia, Wan...   \n",
                            "6  Former PM also revealed he plans to go to Glas...   \n",
                            "7  Prof Donald Winter, who advised the Australian...   \n",
                            "8  \u2018Maybe we\u2019re not friends,\u2019 recalled ambassador...   \n",
                            "9  Analysis: Stay tuned as we battle the notoriou...   \n",
                            "\n",
                            "                                                Body  \n",
                            "0  \u201cEach and every\u201d skilled shipbuilding worker a...  \n",
                            "1  The postponement of trade talks between the Eu...  \n",
                            "2  Australia scrapped the $90bn submarine deal wi...  \n",
                            "3  Peter Dutton says sustained expressions of out...  \n",
                            "4  Australia\u2019s foreign minister will meet with th...  \n",
                            "5  A top Chinese diplomat has likened Australia t...  \n",
                            "6  Malcolm Turnbull has revealed he has spoken to...  \n",
                            "7  A former US navy secretary who advised the Aus...  \n",
                            "8  French anger at the Morrison government\u2019s deci...  \n",
                            "9  It started, as defence stories so often do, wi...  "
                        ]
                    },
                    "execution_count": 9,
                    "metadata": {},
                    "output_type": "execute_result"
                }
            ],
            "source": [
                "df"
            ]
        },
        {
            "cell_type": "markdown",
            "metadata": {},
            "source": [
                "### 3. Analysis\n",
                "\n",
                "Information extraction?"
            ]
        },
        {
            "cell_type": "markdown",
            "metadata": {},
            "source": [
                "#### Inspect the data\n",
                "\n",
                "Read a few articles at random to get a feel for what is important to analyse."
            ]
        },
        {
            "cell_type": "markdown",
            "metadata": {
                "tags": []
            },
            "source": [
                "#### One approach - a basic sentiment analysis that looks for positive and negative words in the text"
            ]
        },
        {
            "cell_type": "code",
            "execution_count": 10,
            "metadata": {},
            "outputs": [],
            "source": [
                "# Define lists of positive and negative words\n",
                "positive_words = [\"good\", \"positive\", \"excellent\", \"success\"] # add words you think are good indicators\n",
                "negative_words = [\"bad\", \"poor\", \"negative\", \"disappointing\"]\n",
                "\n",
                "\n",
                "# Function to calculate a basic sentiment score\n",
                "def analyze_sentiment(article):\n",
                "    positive_count = 0\n",
                "    negative_count = 0\n",
                "    \n",
                "    # Convert article to lowercase and split into words\n",
                "    words = article.lower().split()\n",
                "    \n",
                "    # Count occurrences of positive and negative words\n",
                "    for word in words:\n",
                "        if word in positive_words:\n",
                "            positive_count += 1\n",
                "        if word in negative_words:\n",
                "            negative_count += 1\n",
                "            \n",
                "    # Compute sentiment score\n",
                "    sentiment_score = positive_count - negative_count\n",
                "    return sentiment_score\n",
                "\n"
            ]
        },
        {
            "cell_type": "code",
            "execution_count": 11,
            "metadata": {
                "tags": []
            },
            "outputs": [
                {
                    "name": "stdout",
                    "output_type": "stream",
                    "text": [
                        "Sentiment Score: 0\n",
                        "Sentiment Score: 0\n",
                        "Sentiment Score: -1\n",
                        "Sentiment Score: 0\n",
                        "Sentiment Score: 0\n",
                        "Sentiment Score: -1\n",
                        "Sentiment Score: -1\n",
                        "Sentiment Score: 0\n",
                        "Sentiment Score: 1\n",
                        "Sentiment Score: 0\n"
                    ]
                }
            ],
            "source": [
                "# Analyze the articles\n",
                "\n",
                "# Create a list of article bodies from the df column\n",
                "article_body_texts = df[\"Body\"].tolist()\n",
                "\n",
                "# Loop through and run the analyze_sentiment function on each\n",
                "for article_text in article_body_texts:\n",
                "    \n",
                "    score = analyze_sentiment(article_text)\n",
                "\n",
                "    # Print sentiment score\n",
                "    print(f\"Sentiment Score: {score}\")"
            ]
        },
        {
            "cell_type": "markdown",
            "metadata": {},
            "source": [
                "#### Combine the scores and do some analysis\n",
                "\n",
                "##### Tip: You could add them as a new column of your existing df\n"
            ]
        },
        {
            "cell_type": "code",
            "execution_count": null,
            "metadata": {},
            "outputs": [],
            "source": [
                "???"
            ]
        },
        {
            "cell_type": "markdown",
            "metadata": {},
            "source": [
                "### 4. Visualisation"
            ]
        },
        {
            "cell_type": "code",
            "execution_count": null,
            "metadata": {},
            "outputs": [],
            "source": [
                "???"
            ]
        },
        {
            "cell_type": "markdown",
            "metadata": {},
            "source": [
                "### 5. Insights\n",
                "\n",
                "What might be some limitations of how you analysed the data?"
            ]
        },
        {
            "cell_type": "markdown",
            "metadata": {},
            "source": [
                "#"
            ]
        },
        {
            "cell_type": "code",
            "execution_count": null,
            "metadata": {},
            "outputs": [],
            "source": []
        },
        {
            "cell_type": "code",
            "execution_count": null,
            "metadata": {},
            "outputs": [],
            "source": []
        },
        {
            "cell_type": "markdown",
            "metadata": {},
            "source": [
                "# Scrape some data from the web to include as background in your final report\n",
                "\n",
                "Use code similar to that in this week's studio session to scrape some data from the web relevant to the submarine issue.\n",
                "\n",
                "Suggestion: A list of current Australian submarines with their names and launch dates scraped from the web like the one at https://en.wikipedia.org/wiki/Collins-class_submarine#Submarines_in_class)"
            ]
        },
        {
            "cell_type": "code",
            "execution_count": null,
            "metadata": {},
            "outputs": [],
            "source": []
        }
    ],
    "metadata": {
        "celltoolbar": "Slideshow",
        "hide_input": false,
        "kernelspec": {
            "display_name": "Python 3 (ipykernel)",
            "language": "python",
            "name": "python3"
        },
        "language_info": {
            "codemirror_mode": {
                "name": "ipython",
                "version": 3
            },
            "file_extension": ".py",
            "mimetype": "text/x-python",
            "name": "python",
            "nbconvert_exporter": "python",
            "pygments_lexer": "ipython3",
            "version": "3.10.12"
        },
        "qut": {
            "creation_period": "2023_sem2",
            "nb_name": "B2-TOWS-threats_opportunities-tutorial",
            "unit_code": "IAB303"
        }
    },
    "nbformat": 4,
    "nbformat_minor": 4
}