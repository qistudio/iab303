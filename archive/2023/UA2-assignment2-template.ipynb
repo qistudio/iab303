{
 "cells": [
  {
   "cell_type": "markdown",
   "metadata": {},
   "source": [
    "# IAB303 - Assignment 2\n",
    "## TOWS analysis report\n",
    "\n",
    "#### INSTRUCTIONS\n",
    "\n",
    "1. Read the assignment instructions on Canvas [UA2 - Instructions for TOWS analysis report assignment (Assign. 2)](https://canvas.qut.edu.au/courses/14658/pages/ua2-instructions-for-tows-analysis-report-assignment-assign-2).\n",
    "2. Complete the section below with your personal details (and run the cell)\n",
    "3. Use the provided data sources for your analysis. You may supplement this with additional relevant data if you like (but this is not required).\n",
    "4. Ensure that you include at least 1 complete analysis using *structured* data to identify *strengths* and/or *weaknesses*. Include appropriate visualisation. Add cells as required to the relevant sections.\n",
    "5. Ensure that you include at least 1 complete analysis using *semi/unstructured* data to identify *opportunities* and/or *threats*. Include appropriate visualisation. Add cells as required to the relevant sections.\n",
    "6. Ensure that you include at least 1 detailed actionable recommendation from a TOWS analysis using your data analytics from steps 3 & 4. Depending on how you approach the scenario, you may find a group of actionable recommendations may contribute to a larger strategic recommendation that addresses the scenario. Your recommendation/s should also address relevant human factors and potential ethical concerns that should be taken into account by the business decision-makers. Ensure that you write your recommendation/s in a way that is appropriate for reporting to stakeholders.\n",
    "7. Ensure that you use markdown cells to document your thinking and decision making throughout the analysis process. Be clear on how your decisions are working towards addressing the business concern.\n",
    "8. Ensure that you undertake a peer review process and complete the peer review section.\n",
    "9. Before handing in your notebook, clear all cell outputs and run the complete notebook. Ensure that it runs without errors and that all output is displaying. **IMPORTANT:** It is your responsibility to ensure that the notebook is in a state that clearly meets the criteria. It is not the responsibility of the marker to try and fix errors in your notebook in order for it to meet criteria. *Not attending to this point could result in lower grades (even if you have completed the required analysis).*\n",
    "10. Right-click on your notebook name (in file viewer) and select download. Ensure that your name and student ID are on the file, and then upload to the appropriate assignment upload link in blackboard."
   ]
  },
  {
   "cell_type": "code",
   "execution_count": null,
   "metadata": {},
   "outputs": [],
   "source": [
    "# Complete the following cell with your details and run to produce your personalised header for this assignment\n",
    "\n",
    "from IPython.core.display import display, HTML\n",
    "\n",
    "first_name = ???\n",
    "last_name = ???\n",
    "student_number = ???\n",
    "\n",
    "personal_header = \"<h1>\"+first_name+\" \"+last_name+\" (\"+student_number+\")</h1>\"\n",
    "display(HTML(personal_header))"
   ]
  },
  {
   "cell_type": "markdown",
   "metadata": {},
   "source": [
    "---\n",
    "\n",
    "## SCENARIO\n",
    "\n",
    "You are working as a data analyst for a small Queensland business that is supplies luxury hire cars for tourists visiting Queensland. The managing director of the business is considering scaling back petrol vehicles and focusing the business more on the emerging green tourism segment of the market, by providing a way for tourists to undertake roadtrips up the queensland coast in hybrid or electric vehicles. Your task is to undertake an analysis of threats/oppportunities, and weaknesses/strengths, and by conducting a TOWS analysis provide actionable recommendations to the managing director.\n",
    "\n",
    "You must use the following 3 data sources in your analysis. However, you can augment these sources with additional relevant data if you wish.\n",
    "\n",
    "1. Current company vehicle data (see UA2-Current_vehicles.csv in data folder)<sup>1</sup>\n",
    "2. [QLD EV charging network](https://www.data.qld.gov.au/dataset/find-a-charging-station-electric-vehicle) - see also [Queensland's Zero Emission Vehicle Strategy](https://www.qld.gov.au/transport/projects/electricvehicles/zero-emission-strategy) and [The Future is Electric - Queensland's Electric Super Highway](https://www.stateoftheenvironment.des.qld.gov.au/pollution/case-studies/case-study-4)\n",
    "3. [The Guardian OpenPlatform](https://open-platform.theguardian.com)\n"
   ]
  },
  {
   "cell_type": "markdown",
   "metadata": {},
   "source": [
    "\n",
    "<sup>1</sup>*data adapted from [Cornell Car Rental Dataset](https://www.kaggle.com/datasets/kushleshkumar/cornell-car-rental-dataset?select=CarRentalData.csv)*\n",
    "\n",
    "\n",
    "For the purposes of this exercise, you can be creative and make up other aspects of the scenario to help contextualise your anlaysis.\n",
    "\n",
    "---"
   ]
  },
  {
   "cell_type": "markdown",
   "metadata": {},
   "source": [
    "### Executive Summary\n",
    "\n",
    "*## Write this section last after you have completed the full notebook. It should be a consise summary of the report appropriate to the Managing Director and other key stakeholders ##*\n",
    "\n"
   ]
  },
  {
   "cell_type": "markdown",
   "metadata": {},
   "source": [
    "\n",
    "---"
   ]
  },
  {
   "cell_type": "markdown",
   "metadata": {},
   "source": [
    "\n",
    "### [1] Introduction - Business Concern\n",
    "\n",
    "*## Expand on your interpretation of the business concern here, and be clear in identifying the related questions that the analysis will address. ##*\n"
   ]
  },
  {
   "cell_type": "code",
   "execution_count": 2,
   "metadata": {},
   "outputs": [],
   "source": [
    "# import libraries needed for this notebook here\n"
   ]
  },
  {
   "cell_type": "markdown",
   "metadata": {},
   "source": [
    "### [2] Analysis of Opportunities and/or Threats\n"
   ]
  },
  {
   "cell_type": "code",
   "execution_count": 3,
   "metadata": {},
   "outputs": [],
   "source": [
    "# "
   ]
  },
  {
   "cell_type": "markdown",
   "metadata": {},
   "source": [
    "### [3] Analysis of Strengths and/or Weaknesses"
   ]
  },
  {
   "cell_type": "code",
   "execution_count": 4,
   "metadata": {},
   "outputs": [],
   "source": [
    "#"
   ]
  },
  {
   "cell_type": "markdown",
   "metadata": {},
   "source": [
    "### [4] TOWS analysis\n",
    "\n",
    "*## Ensure that you satisfy the assignment requirements with your analysis ##*\n",
    "\n"
   ]
  },
  {
   "cell_type": "markdown",
   "metadata": {},
   "source": []
  },
  {
   "cell_type": "markdown",
   "metadata": {},
   "source": [
    "### [5] Conclusion - actionable recommendation/s\n",
    "\n",
    "*## Conclude your report with the final actionable recommendation/s that you found from your TOWS analysis, and ensure that you link these back to [1] business concern ##*"
   ]
  },
  {
   "cell_type": "markdown",
   "metadata": {},
   "source": []
  },
  {
   "cell_type": "markdown",
   "metadata": {},
   "source": [
    "---\n",
    "\n",
    "## Peer review"
   ]
  },
  {
   "cell_type": "markdown",
   "metadata": {},
   "source": [
    "#### Feedback received - reviewer 1: Firstname Lastname (Student number)\n",
    "\n",
    "*## Write comments here ##*"
   ]
  },
  {
   "cell_type": "markdown",
   "metadata": {},
   "source": [
    "#### Feedback received - reviewer 2: Firstname Lastname (Student number)\n",
    "\n",
    "*## Write comments here ##*"
   ]
  },
  {
   "cell_type": "markdown",
   "metadata": {},
   "source": [
    "#### Feedback received - reviewer 3: Firstname Lastname (Student number)\n",
    "\n",
    "*## Write comments here ##*"
   ]
  },
  {
   "cell_type": "markdown",
   "metadata": {},
   "source": [
    "#### Response to feedback received:\n",
    "\n",
    "*## Write response here ##*"
   ]
  },
  {
   "cell_type": "code",
   "execution_count": null,
   "metadata": {},
   "outputs": [],
   "source": []
  },
  {
   "cell_type": "markdown",
   "metadata": {},
   "source": [
    "#### Feedback given to reviewer 1:\n",
    "\n",
    "*## Write comments here ##*"
   ]
  },
  {
   "cell_type": "markdown",
   "metadata": {},
   "source": [
    "#### Feedback given to reviewer 2:\n",
    "\n",
    "*## Write comments here ##*"
   ]
  },
  {
   "cell_type": "markdown",
   "metadata": {},
   "source": [
    "#### Feedback given to reviewer 3:\n",
    "\n",
    "*## Write comments here ##*"
   ]
  }
 ],
 "metadata": {
  "kernelspec": {
   "display_name": "Python 3",
   "language": "python",
   "name": "python3"
  },
  "language_info": {
   "codemirror_mode": {
    "name": "ipython",
    "version": 3
   },
   "file_extension": ".py",
   "mimetype": "text/x-python",
   "name": "python",
   "nbconvert_exporter": "python",
   "pygments_lexer": "ipython3",
   "version": "3.6.9"
  },
  "qut": {
    "creation_period": "2023_sem2",
    "nb_name": "UA2-assignment2-template",
    "unit_code": "IAB303"
   }
 },
 "nbformat": 4,
 "nbformat_minor": 4
}
