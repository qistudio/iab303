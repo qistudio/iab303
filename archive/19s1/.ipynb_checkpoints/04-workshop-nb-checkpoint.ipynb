{
 "cells": [
  {
   "cell_type": "markdown",
   "metadata": {
    "slideshow": {
     "slide_type": "slide"
    }
   },
   "source": [
    "<div class=\"alert alert-block alert-info\"><b>IAB303</b> - Data Analytics for Business Insight</div>"
   ]
  },
  {
   "cell_type": "markdown",
   "metadata": {
    "slideshow": {
     "slide_type": "-"
    }
   },
   "source": [
    "## WORKSHOP :: Customers and social media\n",
    "\n",
    "1. What can a business learn about their customers from social media?\n",
    "2. APIs and semi-structured social data - twitter example\n",
    "3. Accessing twitter - app setup"
   ]
  },
  {
   "cell_type": "markdown",
   "metadata": {
    "slideshow": {
     "slide_type": "slide"
    }
   },
   "source": [
    "### [1] What can a business learn about their customers from social media?"
   ]
  },
  {
   "cell_type": "code",
   "execution_count": 4,
   "metadata": {
    "slideshow": {
     "slide_type": "fragment"
    }
   },
   "outputs": [
    {
     "data": {
      "text/html": [
       "\n",
       "        <iframe\n",
       "            width=\"560\"\n",
       "            height=\"315\"\n",
       "            src=\"https://www.youtube-nocookie.com/embed/nSgy9Jwffw8\"\n",
       "            frameborder=\"0\"\n",
       "            allowfullscreen\n",
       "        ></iframe>\n",
       "        "
      ],
      "text/plain": [
       "<IPython.lib.display.IFrame at 0x7f2f0c340160>"
      ]
     },
     "execution_count": 4,
     "metadata": {},
     "output_type": "execute_result"
    }
   ],
   "source": [
    "from IPython.display import IFrame \n",
    "IFrame('https://www.youtube-nocookie.com/embed/nSgy9Jwffw8',width=560,height=315)"
   ]
  },
  {
   "cell_type": "markdown",
   "metadata": {
    "slideshow": {
     "slide_type": "subslide"
    }
   },
   "source": [
    "**DISCUSSION:**\n",
    "1. Which of these could have been prevented or minimised by the use of data analytics? How?\n",
    "2. What can social media anlytics tell a business about their customers?\n",
    "3. What can social media analytics tell a business about their competitors?"
   ]
  },
  {
   "cell_type": "markdown",
   "metadata": {
    "slideshow": {
     "slide_type": "slide"
    }
   },
   "source": [
    "### [2] APIs and semi-structured social data - twitter example"
   ]
  },
  {
   "cell_type": "markdown",
   "metadata": {
    "slideshow": {
     "slide_type": "fragment"
    }
   },
   "source": [
    "First we setup access to the twitter API"
   ]
  },
  {
   "cell_type": "code",
   "execution_count": 10,
   "metadata": {
    "slideshow": {
     "slide_type": "fragment"
    }
   },
   "outputs": [],
   "source": [
    "import tweepy\n",
    "import pandas as pd\n",
    "\n",
    "auth = tweepy.OAuthHandler('Qn762oOeXVGmLVTth7FdLvi3v', '640521fMV0gbnpPoW4Kqad1h9zbbgJR1pAu7ZfrmpG8v3uK3PX')\n",
    "auth.set_access_token('2183696382-z35XQoAS3wNuqq0rg5HEyfVImKXCPpm8q8RzHmn', 'eqiIo3xh4RmQmSzECaXC8VC9JBHSrBUrs675htR41irY0')\n",
    "api = tweepy.API(auth)"
   ]
  },
  {
   "cell_type": "code",
   "execution_count": 89,
   "metadata": {
    "scrolled": true,
    "slideshow": {
     "slide_type": "fragment"
    }
   },
   "outputs": [],
   "source": [
    "tweets = api.search(q=\"#brexit\", lang = \"en\", count=50,include_entities=True)"
   ]
  },
  {
   "cell_type": "code",
   "execution_count": 106,
   "metadata": {
    "scrolled": true,
    "slideshow": {
     "slide_type": "subslide"
    }
   },
   "outputs": [
    {
     "name": "stdout",
     "output_type": "stream",
     "text": [
      "2019-03-17 10:07:00\n",
      "1107221788772257792\n",
      "#SundayRead 📖 The economic impact of #Brexit will leave less money for a range of vital public services, and a redu… https://t.co/Bc8MEiXJlH \n",
      "\n",
      "2019-03-17 10:07:00\n",
      "1107221788637818880\n",
      "Looking for insight on #Brexit? Watch the latest analysis from @LSEGovernment experts on our @YouTube channel - https://t.co/oZv70J2PNx \n",
      "\n",
      "2019-03-17 10:06:58\n",
      "1107221780597563392\n",
      "RT @ByDonkeys: “I never promised it would be a huge success #Brexit”\n",
      "(Billboard location: @Nigel_Farage) https://t.co/tjHRaL3oNm \n",
      "\n",
      "2019-03-17 10:06:57\n",
      "1107221777418117122\n",
      "@RidgeOnSunday @jeremycorbyn Is the sky blue Jeremy?\n",
      "*We’re having discussions &amp; will come to a decision very soon*… https://t.co/PDdWVnCHp8 \n",
      "\n",
      "2019-03-17 10:06:54\n",
      "1107221764592070657\n",
      "RT @DalbidEU: @abcpoppins @LPrivileged Remember? ‘There will be no downside to #Brexit, only a considerable upside’ #DavidDavis; ‘The day a… \n",
      "\n",
      "2019-03-17 10:06:53\n",
      "1107221761698025473\n",
      "RT @EUVoteLeave23rd: Before the #EUreferendum, @YvetteCooperMP was asked if #MPs should keep the #UK in the #SingleMarket if the country vo… \n",
      "\n",
      "2019-03-17 10:06:51\n",
      "1107221751350611968\n",
      "RT @ChukaUmunna: Jeremy Corbyn indicates to @SophyRidgeSky he prefers to facilitate #Brexit with a deal over staying in the EU, disappointi… \n",
      "\n",
      "2019-03-17 10:06:49\n",
      "1107221743289200642\n",
      "RT @ladyermintrude: If Farage, Banks, JRM, Johnson and their ilk believe so passionately, where are they? Counting the profits they’ve made… \n",
      "\n",
      "2019-03-17 10:06:48\n",
      "1107221740629962752\n",
      "RT @ChukaUmunna: Jeremy Corbyn indicates to @SophyRidgeSky he prefers to facilitate #Brexit with a deal over staying in the EU, disappointi… \n",
      "\n",
      "2019-03-17 10:06:48\n",
      "1107221739942100994\n",
      "RT @thomasbrake: .@theresa_may, it is because I am a patriot that I am opposing your hopeless #Brexit deal\n",
      "\n",
      "It leaves us poorer, less influ… \n",
      "\n",
      "2019-03-17 10:06:46\n",
      "1107221731700363264\n",
      "RT @xmp125a: Note to #Brexit #UK ... India wants free movement of Indian citizens into UK as a condition for free trade agreement. Good luc… \n",
      "\n",
      "2019-03-17 10:06:45\n",
      "1107221728382586880\n",
      "RT @KayBurley: Does the last line in this lead story by @ShippersUnbound say that the PM is set to spend ANOTHER billion pounds buying 10 v… \n",
      "\n",
      "2019-03-17 10:06:43\n",
      "1107221719926931456\n",
      "RT @Howes84: @timothy_stanley @DPJHodges Being forced to back a deal that is NOT #Brexit. This is like asking someone, do they want there h… \n",
      "\n",
      "2019-03-17 10:06:43\n",
      "1107221717217431552\n",
      "@TheEconomist @worldcitizen1st It’s already affecting house building, sales are slowing , because of the uncertaint… https://t.co/A9oiboPnxD \n",
      "\n",
      "2019-03-17 10:06:42\n",
      "1107221713597677568\n",
      "RT @Manuel_TSSA: Our union backs a public vote on the #Brexit deal - fantastic that Labour wants to give people the #FinalSay! https://t.co… \n",
      "\n",
      "2019-03-17 10:06:40\n",
      "1107221705418665984\n",
      "I hope so. I really do. This is the very thing she accused the #peoplesvote campaign of. “Undemocratic”. We wanted… https://t.co/0sEwKwOMFo \n",
      "\n",
      "2019-03-17 10:06:39\n",
      "1107221702881226752\n",
      "@RogerV52 @JuliaHB1 I NEVER had a single doubt\n",
      "\n",
      "On the day #Remainiac #TraitorMay became PM I predicted she would p… https://t.co/AqueyAqph1 \n",
      "\n",
      "2019-03-17 10:06:38\n",
      "1107221696807948294\n",
      "\"I am convinced that the time to define ourselves by how we voted in 2016 must now end.\"\n",
      "\n",
      "@theresa_may\n",
      "\n",
      "Apparently… https://t.co/fzkVaAImsk \n",
      "\n",
      "2019-03-17 10:06:38\n",
      "1107221696048705537\n",
      "RT @nickreeves9876: Nicky Morgan told the Commons she feared that MPs were suffering “systematic intimidation” to get them to change their… \n",
      "\n",
      "2019-03-17 10:06:37\n",
      "1107221693477605377\n",
      "RT @AFireInTheNorth: #Ridge purposely trying to over dumb-down the complexities of #Brexit to try to score cheap political points off Corby… \n",
      "\n",
      "2019-03-17 10:06:37\n",
      "1107221691292438530\n",
      "RT @RidgeOnSunday: After a momentous week in British politics, and ahead of another crucial vote on the PM’s #Brexit deal, Labour Leader @j… \n",
      "\n",
      "2019-03-17 10:06:36\n",
      "1107221689375604736\n",
      "RT @Saczak1: @jeremycorbyn on #ridge says his priority is #Brexit.\n",
      "\n",
      "That's right: he is genuinely willing to turn a blind eye to the crimin… \n",
      "\n",
      "2019-03-17 10:06:36\n",
      "1107221688067022849\n",
      "RT @DarrenEuronews: NEW: @JeremyCorbyn indicates   that he could VOTE LEAVE rather than REMAIN in a possible second referendum if Labour's… \n",
      "\n",
      "2019-03-17 10:06:36\n",
      "1107221687303573507\n",
      "Before the #EUreferendum, @YvetteCooperMP was asked if #MPs should keep the #UK in the #SingleMarket if the country… https://t.co/bS020bn6ns \n",
      "\n",
      "2019-03-17 10:06:36\n",
      "1107221687005859840\n",
      "RT @ChukaUmunna: Jeremy Corbyn indicates to @SophyRidgeSky he prefers to facilitate #Brexit with a deal over staying in the EU, disappointi… \n",
      "\n",
      "2019-03-17 10:06:35\n",
      "1107221684837408769\n",
      "@adamfleming woah! Adam Fleming on the @AndrewMarr9 serious journalists couch. Can #brexit possibly bring any more… https://t.co/MgKlibzGMX \n",
      "\n",
      "2019-03-17 10:06:35\n",
      "1107221684648579072\n",
      "RT @Rog_Anderson: Excellent article shining a light on the malign Ruling Class forces behind Brexit as well as links to Dark Money &amp; ruling… \n",
      "\n",
      "2019-03-17 10:06:35\n",
      "1107221684124307457\n",
      "RT @CllrBSilvester: @ForBritainParty has offered to share seats with other #Brexit parties.\n",
      "The ball is now in their court. https://t.co/GU… \n",
      "\n",
      "2019-03-17 10:06:34\n",
      "1107221682312413184\n",
      "RT @ViscountBraith1: BREAKING: Brexiteers are mobilizing. There are 17.4 million #PatriotsUnited Join in.\n",
      "\n",
      "Be prepared to move at short not… \n",
      "\n",
      "2019-03-17 10:06:34\n",
      "1107221682308243457\n",
      "RT @Howes84: @timothy_stanley @DPJHodges Being forced to back a deal that is NOT #Brexit. This is like asking someone, do they want there h… \n",
      "\n",
      "2019-03-17 10:06:33\n",
      "1107221677514153984\n",
      "RT @OpenBritainNE: While checking out the fuss around the #Brexit fishing flotilla in #Newcastle yesterday, @jrs911 explained why he voted… \n",
      "\n",
      "2019-03-17 10:06:32\n",
      "1107221672761937922\n",
      "@EstherMcVey1 latest to sell out. May's deal is so bad, I would chose no Brexit or a @peoplesvote_uk over it any da… https://t.co/a2COxZQEvF \n",
      "\n",
      "2019-03-17 10:06:31\n",
      "1107221666546020352\n",
      "If Farage, Banks, JRM, Johnson and their ilk believe so passionately, where are they? Counting the profits they’ve… https://t.co/cKrVdBwGRJ \n",
      "\n",
      "2019-03-17 10:06:30\n",
      "1107221664205623296\n",
      "RT @LeedsEurope: We are proud that #Leeds has been chosen to host the National Conference of @LabPeoplesVote on 6 April. Many of our member… \n",
      "\n",
      "2019-03-17 10:06:29\n",
      "1107221659277291521\n",
      "RT @RCorbettMEP: Tails shouldn’t wag dogs!\n",
      "\n",
      "The “inconvenience” of holding European Parliament elections is a minor issue compared to avoid… \n",
      "\n",
      "2019-03-17 10:06:28\n",
      "1107221653724020736\n",
      "RT @RCorbettMEP: Tails shouldn’t wag dogs!\n",
      "\n",
      "The “inconvenience” of holding European Parliament elections is a minor issue compared to avoid… \n",
      "\n",
      "2019-03-17 10:06:27\n",
      "1107221652562235392\n",
      "RT @RCorbettMEP: Tails shouldn’t wag dogs!\n",
      "\n",
      "The “inconvenience” of holding European Parliament elections is a minor issue compared to avoid… \n",
      "\n",
      "2019-03-17 10:06:26\n",
      "1107221645259886592\n",
      "RT @ByDonkeys: “I never promised it would be a huge success #Brexit”\n",
      "(Billboard location: @Nigel_Farage) https://t.co/tjHRaL3oNm \n",
      "\n",
      "2019-03-17 10:06:25\n",
      "1107221644496592896\n",
      "RT @thomasbrake: .@theresa_may, it is because I am a patriot that I am opposing your hopeless #Brexit deal\n",
      "\n",
      "It leaves us poorer, less influ… \n",
      "\n",
      "2019-03-17 10:06:25\n",
      "1107221642491629568\n",
      "If the people of Northern Ireland ever decide they want a #UnitedIreland, we can convert this rotten #Brino to a tr… https://t.co/24SBUbSXpL \n",
      "\n",
      "2019-03-17 10:06:24\n",
      "1107221638976864257\n",
      "RT @jamesak47: Let's not pretend that the mindless hatred of the other is not part of our mainstream political discourse.\n",
      "\n",
      "Ask yrself if yo… \n",
      "\n",
      "2019-03-17 10:06:24\n",
      "1107221638133829633\n",
      "RT @EtonOldBoys: @LBC @Nigel_Farage You back on the Radio again Nigel ? I thought you was walking 200 miles with Geordi #brexit Morons http… \n",
      "\n",
      "2019-03-17 10:06:22\n",
      "1107221631561330694\n",
      "@RitaPanahi #Brexit is like couple of 5yos under kitchen table plotting secret midnight feast \"and mummy will never… https://t.co/9XgypoZz1h \n",
      "\n",
      "2019-03-17 10:06:22\n",
      "1107221631334838272\n",
      "RT @DarrenEuronews: NEW: @JeremyCorbyn indicates   that he could VOTE LEAVE rather than REMAIN in a possible second referendum if Labour's… \n",
      "\n",
      "2019-03-17 10:06:22\n",
      "1107221628289720320\n",
      "#Brexit: Theresa May has warned MPs that if they fail to back her Brexit deal at the third time of asking then Brus… https://t.co/UAXCgXuPNF \n",
      "\n",
      "2019-03-17 10:06:22\n",
      "1107221628268756993\n",
      "RT @bobscartoons: .@Telegraph cartoon\n",
      "#MayMustGo #Brexit #BorisJohnson #jacobreesmogg https://t.co/5UwplkC9m3 \n",
      "\n",
      "2019-03-17 10:06:21\n",
      "1107221626666520577\n",
      "IF this is true, then #MarchToLeave’s forethought and planning for this simple march is a true metaphor for the Lea… https://t.co/38P3JHbTAe \n",
      "\n",
      "2019-03-17 10:06:21\n",
      "1107221624519094273\n",
      "\"Honourable compromise!\" COMPROMISE! What the f*ck is she on? For 2 years she's wanted HER #Brexit. She's ignored a… https://t.co/CHxNQtjaaF \n",
      "\n",
      "2019-03-17 10:06:19\n",
      "1107221616050798592\n",
      "RT @jim45cotland: Listen here to Tory MSP Liz Smith trying to talk down #indyref2 ... only to be met with a wall of laughter from the audie… \n",
      "\n",
      "2019-03-17 10:06:17\n",
      "1107221607808974854\n",
      "RT @RCorbettMEP: Tails shouldn’t wag dogs!\n",
      "\n",
      "The “inconvenience” of holding European Parliament elections is a minor issue compared to avoid… \n",
      "\n"
     ]
    }
   ],
   "source": [
    "for tweet in tweets:\n",
    "    print(tweet.created_at)\n",
    "    print(tweet.id)\n",
    "    print(tweet.text,'\\n')"
   ]
  },
  {
   "cell_type": "markdown",
   "metadata": {
    "slideshow": {
     "slide_type": "subslide"
    }
   },
   "source": [
    "What kind of data do we receive for each tweet?"
   ]
  },
  {
   "cell_type": "code",
   "execution_count": 108,
   "metadata": {
    "scrolled": true,
    "slideshow": {
     "slide_type": "fragment"
    }
   },
   "outputs": [
    {
     "data": {
      "text/plain": [
       "{'created_at': 'Sun Mar 17 10:06:58 +0000 2019',\n",
       " 'id': 1107221780597563392,\n",
       " 'id_str': '1107221780597563392',\n",
       " 'text': 'RT @ByDonkeys: “I never promised it would be a huge success #Brexit”\\n(Billboard location: @Nigel_Farage) https://t.co/tjHRaL3oNm',\n",
       " 'truncated': False,\n",
       " 'entities': {'hashtags': [{'text': 'Brexit', 'indices': [60, 67]}],\n",
       "  'symbols': [],\n",
       "  'user_mentions': [{'screen_name': 'ByDonkeys',\n",
       "    'name': 'Led By Donkeys',\n",
       "    'id': 1073606435580325889,\n",
       "    'id_str': '1073606435580325889',\n",
       "    'indices': [3, 13]},\n",
       "   {'screen_name': 'Nigel_Farage',\n",
       "    'name': 'Nigel Farage',\n",
       "    'id': 19017675,\n",
       "    'id_str': '19017675',\n",
       "    'indices': [90, 103]}],\n",
       "  'urls': [],\n",
       "  'media': [{'id': 1107194555852562432,\n",
       "    'id_str': '1107194555852562432',\n",
       "    'indices': [105, 128],\n",
       "    'media_url': 'http://pbs.twimg.com/media/D12LlRbWoAAAGbE.jpg',\n",
       "    'media_url_https': 'https://pbs.twimg.com/media/D12LlRbWoAAAGbE.jpg',\n",
       "    'url': 'https://t.co/tjHRaL3oNm',\n",
       "    'display_url': 'pic.twitter.com/tjHRaL3oNm',\n",
       "    'expanded_url': 'https://twitter.com/ByDonkeys/status/1107194560323694592/photo/1',\n",
       "    'type': 'photo',\n",
       "    'sizes': {'thumb': {'w': 150, 'h': 150, 'resize': 'crop'},\n",
       "     'large': {'w': 1024, 'h': 713, 'resize': 'fit'},\n",
       "     'medium': {'w': 1024, 'h': 713, 'resize': 'fit'},\n",
       "     'small': {'w': 680, 'h': 473, 'resize': 'fit'}},\n",
       "    'source_status_id': 1107194560323694592,\n",
       "    'source_status_id_str': '1107194560323694592',\n",
       "    'source_user_id': 1073606435580325889,\n",
       "    'source_user_id_str': '1073606435580325889'}]},\n",
       " 'extended_entities': {'media': [{'id': 1107194555852562432,\n",
       "    'id_str': '1107194555852562432',\n",
       "    'indices': [105, 128],\n",
       "    'media_url': 'http://pbs.twimg.com/media/D12LlRbWoAAAGbE.jpg',\n",
       "    'media_url_https': 'https://pbs.twimg.com/media/D12LlRbWoAAAGbE.jpg',\n",
       "    'url': 'https://t.co/tjHRaL3oNm',\n",
       "    'display_url': 'pic.twitter.com/tjHRaL3oNm',\n",
       "    'expanded_url': 'https://twitter.com/ByDonkeys/status/1107194560323694592/photo/1',\n",
       "    'type': 'photo',\n",
       "    'sizes': {'thumb': {'w': 150, 'h': 150, 'resize': 'crop'},\n",
       "     'large': {'w': 1024, 'h': 713, 'resize': 'fit'},\n",
       "     'medium': {'w': 1024, 'h': 713, 'resize': 'fit'},\n",
       "     'small': {'w': 680, 'h': 473, 'resize': 'fit'}},\n",
       "    'source_status_id': 1107194560323694592,\n",
       "    'source_status_id_str': '1107194560323694592',\n",
       "    'source_user_id': 1073606435580325889,\n",
       "    'source_user_id_str': '1073606435580325889'}]},\n",
       " 'metadata': {'iso_language_code': 'en', 'result_type': 'recent'},\n",
       " 'source': '<a href=\"http://twitter.com/#!/download/ipad\" rel=\"nofollow\">Twitter for iPad</a>',\n",
       " 'in_reply_to_status_id': None,\n",
       " 'in_reply_to_status_id_str': None,\n",
       " 'in_reply_to_user_id': None,\n",
       " 'in_reply_to_user_id_str': None,\n",
       " 'in_reply_to_screen_name': None,\n",
       " 'user': {'id': 3012439683,\n",
       "  'id_str': '3012439683',\n",
       "  'name': 'Glynis Fisher',\n",
       "  'screen_name': 'glynis_fisher',\n",
       "  'location': '',\n",
       "  'description': '',\n",
       "  'url': None,\n",
       "  'entities': {'description': {'urls': []}},\n",
       "  'protected': False,\n",
       "  'followers_count': 605,\n",
       "  'friends_count': 154,\n",
       "  'listed_count': 22,\n",
       "  'created_at': 'Mon Feb 02 16:16:37 +0000 2015',\n",
       "  'favourites_count': 175301,\n",
       "  'utc_offset': None,\n",
       "  'time_zone': None,\n",
       "  'geo_enabled': False,\n",
       "  'verified': False,\n",
       "  'statuses_count': 180773,\n",
       "  'lang': 'en-GB',\n",
       "  'contributors_enabled': False,\n",
       "  'is_translator': False,\n",
       "  'is_translation_enabled': False,\n",
       "  'profile_background_color': 'C0DEED',\n",
       "  'profile_background_image_url': 'http://abs.twimg.com/images/themes/theme1/bg.png',\n",
       "  'profile_background_image_url_https': 'https://abs.twimg.com/images/themes/theme1/bg.png',\n",
       "  'profile_background_tile': False,\n",
       "  'profile_image_url': 'http://abs.twimg.com/sticky/default_profile_images/default_profile_normal.png',\n",
       "  'profile_image_url_https': 'https://abs.twimg.com/sticky/default_profile_images/default_profile_normal.png',\n",
       "  'profile_link_color': '1DA1F2',\n",
       "  'profile_sidebar_border_color': 'C0DEED',\n",
       "  'profile_sidebar_fill_color': 'DDEEF6',\n",
       "  'profile_text_color': '333333',\n",
       "  'profile_use_background_image': True,\n",
       "  'has_extended_profile': False,\n",
       "  'default_profile': True,\n",
       "  'default_profile_image': True,\n",
       "  'following': False,\n",
       "  'follow_request_sent': False,\n",
       "  'notifications': False,\n",
       "  'translator_type': 'none'},\n",
       " 'geo': None,\n",
       " 'coordinates': None,\n",
       " 'place': None,\n",
       " 'contributors': None,\n",
       " 'retweeted_status': {'created_at': 'Sun Mar 17 08:18:48 +0000 2019',\n",
       "  'id': 1107194560323694592,\n",
       "  'id_str': '1107194560323694592',\n",
       "  'text': '“I never promised it would be a huge success #Brexit”\\n(Billboard location: @Nigel_Farage) https://t.co/tjHRaL3oNm',\n",
       "  'truncated': False,\n",
       "  'entities': {'hashtags': [{'text': 'Brexit', 'indices': [45, 52]}],\n",
       "   'symbols': [],\n",
       "   'user_mentions': [{'screen_name': 'Nigel_Farage',\n",
       "     'name': 'Nigel Farage',\n",
       "     'id': 19017675,\n",
       "     'id_str': '19017675',\n",
       "     'indices': [75, 88]}],\n",
       "   'urls': [],\n",
       "   'media': [{'id': 1107194555852562432,\n",
       "     'id_str': '1107194555852562432',\n",
       "     'indices': [90, 113],\n",
       "     'media_url': 'http://pbs.twimg.com/media/D12LlRbWoAAAGbE.jpg',\n",
       "     'media_url_https': 'https://pbs.twimg.com/media/D12LlRbWoAAAGbE.jpg',\n",
       "     'url': 'https://t.co/tjHRaL3oNm',\n",
       "     'display_url': 'pic.twitter.com/tjHRaL3oNm',\n",
       "     'expanded_url': 'https://twitter.com/ByDonkeys/status/1107194560323694592/photo/1',\n",
       "     'type': 'photo',\n",
       "     'sizes': {'thumb': {'w': 150, 'h': 150, 'resize': 'crop'},\n",
       "      'large': {'w': 1024, 'h': 713, 'resize': 'fit'},\n",
       "      'medium': {'w': 1024, 'h': 713, 'resize': 'fit'},\n",
       "      'small': {'w': 680, 'h': 473, 'resize': 'fit'}}}]},\n",
       "  'extended_entities': {'media': [{'id': 1107194555852562432,\n",
       "     'id_str': '1107194555852562432',\n",
       "     'indices': [90, 113],\n",
       "     'media_url': 'http://pbs.twimg.com/media/D12LlRbWoAAAGbE.jpg',\n",
       "     'media_url_https': 'https://pbs.twimg.com/media/D12LlRbWoAAAGbE.jpg',\n",
       "     'url': 'https://t.co/tjHRaL3oNm',\n",
       "     'display_url': 'pic.twitter.com/tjHRaL3oNm',\n",
       "     'expanded_url': 'https://twitter.com/ByDonkeys/status/1107194560323694592/photo/1',\n",
       "     'type': 'photo',\n",
       "     'sizes': {'thumb': {'w': 150, 'h': 150, 'resize': 'crop'},\n",
       "      'large': {'w': 1024, 'h': 713, 'resize': 'fit'},\n",
       "      'medium': {'w': 1024, 'h': 713, 'resize': 'fit'},\n",
       "      'small': {'w': 680, 'h': 473, 'resize': 'fit'}}}]},\n",
       "  'metadata': {'iso_language_code': 'en', 'result_type': 'recent'},\n",
       "  'source': '<a href=\"http://twitter.com/download/iphone\" rel=\"nofollow\">Twitter for iPhone</a>',\n",
       "  'in_reply_to_status_id': None,\n",
       "  'in_reply_to_status_id_str': None,\n",
       "  'in_reply_to_user_id': None,\n",
       "  'in_reply_to_user_id_str': None,\n",
       "  'in_reply_to_screen_name': None,\n",
       "  'user': {'id': 1073606435580325889,\n",
       "   'id_str': '1073606435580325889',\n",
       "   'name': 'Led By Donkeys',\n",
       "   'screen_name': 'ByDonkeys',\n",
       "   'location': 'United Kingdom',\n",
       "   'description': 'The Brexit pronouncements of our leaders, rendered as tweets then put on massive billboards - DMs open',\n",
       "   'url': 'https://t.co/P0aq2sUxHT',\n",
       "   'entities': {'url': {'urls': [{'url': 'https://t.co/P0aq2sUxHT',\n",
       "       'expanded_url': 'https://www.crowdfunder.co.uk/by-donkeys',\n",
       "       'display_url': 'crowdfunder.co.uk/by-donkeys',\n",
       "       'indices': [0, 23]}]},\n",
       "    'description': {'urls': []}},\n",
       "   'protected': False,\n",
       "   'followers_count': 92336,\n",
       "   'friends_count': 0,\n",
       "   'listed_count': 252,\n",
       "   'created_at': 'Fri Dec 14 15:51:35 +0000 2018',\n",
       "   'favourites_count': 0,\n",
       "   'utc_offset': None,\n",
       "   'time_zone': None,\n",
       "   'geo_enabled': True,\n",
       "   'verified': False,\n",
       "   'statuses_count': 1043,\n",
       "   'lang': 'en',\n",
       "   'contributors_enabled': False,\n",
       "   'is_translator': False,\n",
       "   'is_translation_enabled': False,\n",
       "   'profile_background_color': 'F5F8FA',\n",
       "   'profile_background_image_url': None,\n",
       "   'profile_background_image_url_https': None,\n",
       "   'profile_background_tile': False,\n",
       "   'profile_image_url': 'http://pbs.twimg.com/profile_images/1085150433960706048/_T5T_iZY_normal.jpg',\n",
       "   'profile_image_url_https': 'https://pbs.twimg.com/profile_images/1085150433960706048/_T5T_iZY_normal.jpg',\n",
       "   'profile_banner_url': 'https://pbs.twimg.com/profile_banners/1073606435580325889/1548004283',\n",
       "   'profile_link_color': '1DA1F2',\n",
       "   'profile_sidebar_border_color': 'C0DEED',\n",
       "   'profile_sidebar_fill_color': 'DDEEF6',\n",
       "   'profile_text_color': '333333',\n",
       "   'profile_use_background_image': True,\n",
       "   'has_extended_profile': False,\n",
       "   'default_profile': True,\n",
       "   'default_profile_image': False,\n",
       "   'following': False,\n",
       "   'follow_request_sent': False,\n",
       "   'notifications': False,\n",
       "   'translator_type': 'none'},\n",
       "  'geo': None,\n",
       "  'coordinates': None,\n",
       "  'place': None,\n",
       "  'contributors': None,\n",
       "  'is_quote_status': False,\n",
       "  'retweet_count': 442,\n",
       "  'favorite_count': 1775,\n",
       "  'favorited': False,\n",
       "  'retweeted': False,\n",
       "  'possibly_sensitive': False,\n",
       "  'lang': 'en'},\n",
       " 'is_quote_status': False,\n",
       " 'retweet_count': 442,\n",
       " 'favorite_count': 0,\n",
       " 'favorited': False,\n",
       " 'retweeted': False,\n",
       " 'possibly_sensitive': False,\n",
       " 'lang': 'en'}"
      ]
     },
     "execution_count": 108,
     "metadata": {},
     "output_type": "execute_result"
    }
   ],
   "source": [
    "first_tweet = tweets[2]\n",
    "first_tweet._json"
   ]
  },
  {
   "cell_type": "markdown",
   "metadata": {
    "slideshow": {
     "slide_type": "subslide"
    }
   },
   "source": [
    "What other data can we extract?"
   ]
  },
  {
   "cell_type": "code",
   "execution_count": 109,
   "metadata": {
    "scrolled": true,
    "slideshow": {
     "slide_type": "fragment"
    }
   },
   "outputs": [
    {
     "data": {
      "text/html": [
       "<img src=\"http://pbs.twimg.com/media/D12LlRbWoAAAGbE.jpg\" width=\"30%\"/>"
      ],
      "text/plain": [
       "<IPython.core.display.HTML object>"
      ]
     },
     "metadata": {},
     "output_type": "display_data"
    },
    {
     "data": {
      "text/html": [
       "<img src=\"http://pbs.twimg.com/media/D12LlRbWoAAAGbE.jpg\" width=\"30%\"/>"
      ],
      "text/plain": [
       "<IPython.core.display.HTML object>"
      ]
     },
     "metadata": {},
     "output_type": "display_data"
    },
    {
     "data": {
      "text/html": [
       "<img src=\"http://pbs.twimg.com/media/D1zOh_BW0AQ1VMJ.jpg\" width=\"30%\"/>"
      ],
      "text/plain": [
       "<IPython.core.display.HTML object>"
      ]
     },
     "metadata": {},
     "output_type": "display_data"
    }
   ],
   "source": [
    "for tweet in tweets:\n",
    "    if 'media' in tweet.entities:\n",
    "        for image in  tweet.entities['media']:\n",
    "            url = image['media_url']\n",
    "            display(HTML('<img src=\"'+url+'\" width=\"30%\"/>'))"
   ]
  },
  {
   "cell_type": "markdown",
   "metadata": {
    "slideshow": {
     "slide_type": "subslide"
    }
   },
   "source": [
    "We can also get user information..."
   ]
  },
  {
   "cell_type": "code",
   "execution_count": 110,
   "metadata": {
    "scrolled": true,
    "slideshow": {
     "slide_type": "fragment"
    }
   },
   "outputs": [
    {
     "data": {
      "text/plain": [
       "{'id': 3012439683,\n",
       " 'id_str': '3012439683',\n",
       " 'name': 'Glynis Fisher',\n",
       " 'screen_name': 'glynis_fisher',\n",
       " 'location': '',\n",
       " 'description': '',\n",
       " 'url': None,\n",
       " 'entities': {'description': {'urls': []}},\n",
       " 'protected': False,\n",
       " 'followers_count': 605,\n",
       " 'friends_count': 154,\n",
       " 'listed_count': 22,\n",
       " 'created_at': 'Mon Feb 02 16:16:37 +0000 2015',\n",
       " 'favourites_count': 175301,\n",
       " 'utc_offset': None,\n",
       " 'time_zone': None,\n",
       " 'geo_enabled': False,\n",
       " 'verified': False,\n",
       " 'statuses_count': 180773,\n",
       " 'lang': 'en-GB',\n",
       " 'contributors_enabled': False,\n",
       " 'is_translator': False,\n",
       " 'is_translation_enabled': False,\n",
       " 'profile_background_color': 'C0DEED',\n",
       " 'profile_background_image_url': 'http://abs.twimg.com/images/themes/theme1/bg.png',\n",
       " 'profile_background_image_url_https': 'https://abs.twimg.com/images/themes/theme1/bg.png',\n",
       " 'profile_background_tile': False,\n",
       " 'profile_image_url': 'http://abs.twimg.com/sticky/default_profile_images/default_profile_normal.png',\n",
       " 'profile_image_url_https': 'https://abs.twimg.com/sticky/default_profile_images/default_profile_normal.png',\n",
       " 'profile_link_color': '1DA1F2',\n",
       " 'profile_sidebar_border_color': 'C0DEED',\n",
       " 'profile_sidebar_fill_color': 'DDEEF6',\n",
       " 'profile_text_color': '333333',\n",
       " 'profile_use_background_image': True,\n",
       " 'has_extended_profile': False,\n",
       " 'default_profile': True,\n",
       " 'default_profile_image': True,\n",
       " 'following': False,\n",
       " 'follow_request_sent': False,\n",
       " 'notifications': False,\n",
       " 'translator_type': 'none'}"
      ]
     },
     "execution_count": 110,
     "metadata": {},
     "output_type": "execute_result"
    }
   ],
   "source": [
    "first_tweet.user._json"
   ]
  },
  {
   "cell_type": "markdown",
   "metadata": {
    "slideshow": {
     "slide_type": "subslide"
    }
   },
   "source": [
    "And even more detail is available on each user by querying the API on the user"
   ]
  },
  {
   "cell_type": "code",
   "execution_count": 111,
   "metadata": {
    "scrolled": true,
    "slideshow": {
     "slide_type": "fragment"
    }
   },
   "outputs": [
    {
     "data": {
      "text/plain": [
       "{'id': 2183696382,\n",
       " 'id_str': '2183696382',\n",
       " 'name': 'Andrew Gibson',\n",
       " 'screen_name': 'AndrewResearch',\n",
       " 'location': 'Brisbane, Australia',\n",
       " 'profile_location': None,\n",
       " 'description': 'Reflective Writing Analytics research. Exploring the boundary between the psychosocial and the computational.',\n",
       " 'url': 'http://t.co/j7skruUtCy',\n",
       " 'entities': {'url': {'urls': [{'url': 'http://t.co/j7skruUtCy',\n",
       "     'expanded_url': 'http://andrewresearch.net',\n",
       "     'display_url': 'andrewresearch.net',\n",
       "     'indices': [0, 22]}]},\n",
       "  'description': {'urls': []}},\n",
       " 'protected': False,\n",
       " 'followers_count': 316,\n",
       " 'friends_count': 105,\n",
       " 'listed_count': 61,\n",
       " 'created_at': 'Sat Nov 09 06:04:09 +0000 2013',\n",
       " 'favourites_count': 1692,\n",
       " 'utc_offset': None,\n",
       " 'time_zone': None,\n",
       " 'geo_enabled': False,\n",
       " 'verified': False,\n",
       " 'statuses_count': 1915,\n",
       " 'lang': 'en',\n",
       " 'status': {'created_at': 'Sun Mar 17 09:45:21 +0000 2019',\n",
       "  'id': 1107216341566554112,\n",
       "  'id_str': '1107216341566554112',\n",
       "  'text': 'Looking forward to analysing tweets tomorrow with my undergrad data analytics students at QUT.',\n",
       "  'truncated': False,\n",
       "  'entities': {'hashtags': [], 'symbols': [], 'user_mentions': [], 'urls': []},\n",
       "  'source': '<a href=\"http://twitter.com/download/iphone\" rel=\"nofollow\">Twitter for iPhone</a>',\n",
       "  'in_reply_to_status_id': None,\n",
       "  'in_reply_to_status_id_str': None,\n",
       "  'in_reply_to_user_id': None,\n",
       "  'in_reply_to_user_id_str': None,\n",
       "  'in_reply_to_screen_name': None,\n",
       "  'geo': None,\n",
       "  'coordinates': None,\n",
       "  'place': None,\n",
       "  'contributors': None,\n",
       "  'is_quote_status': False,\n",
       "  'retweet_count': 0,\n",
       "  'favorite_count': 5,\n",
       "  'favorited': False,\n",
       "  'retweeted': False,\n",
       "  'lang': 'en'},\n",
       " 'contributors_enabled': False,\n",
       " 'is_translator': False,\n",
       " 'is_translation_enabled': False,\n",
       " 'profile_background_color': '000000',\n",
       " 'profile_background_image_url': 'http://abs.twimg.com/images/themes/theme1/bg.png',\n",
       " 'profile_background_image_url_https': 'https://abs.twimg.com/images/themes/theme1/bg.png',\n",
       " 'profile_background_tile': False,\n",
       " 'profile_image_url': 'http://pbs.twimg.com/profile_images/898721154080296960/XEp7TFpI_normal.jpg',\n",
       " 'profile_image_url_https': 'https://pbs.twimg.com/profile_images/898721154080296960/XEp7TFpI_normal.jpg',\n",
       " 'profile_banner_url': 'https://pbs.twimg.com/profile_banners/2183696382/1424743880',\n",
       " 'profile_link_color': 'ABB8C2',\n",
       " 'profile_sidebar_border_color': '000000',\n",
       " 'profile_sidebar_fill_color': '000000',\n",
       " 'profile_text_color': '000000',\n",
       " 'profile_use_background_image': False,\n",
       " 'has_extended_profile': False,\n",
       " 'default_profile': False,\n",
       " 'default_profile_image': False,\n",
       " 'following': False,\n",
       " 'follow_request_sent': False,\n",
       " 'notifications': False,\n",
       " 'translator_type': 'none',\n",
       " 'suspended': False,\n",
       " 'needs_phone_verification': False}"
      ]
     },
     "execution_count": 111,
     "metadata": {},
     "output_type": "execute_result"
    }
   ],
   "source": [
    "api.get_user('andrewresearch')._json"
   ]
  },
  {
   "cell_type": "markdown",
   "metadata": {
    "slideshow": {
     "slide_type": "subslide"
    }
   },
   "source": [
    "**DISCUSSION**\n",
    "* What is it that is different about social media data like twitter?\n",
    "* What other kinds of data sources produce this type of data?\n",
    "* How is this significant for business?"
   ]
  },
  {
   "cell_type": "markdown",
   "metadata": {
    "slideshow": {
     "slide_type": "subslide"
    }
   },
   "source": [
    "#### Accessing Streaming Data\n",
    "\n",
    "We need to be able to apply a function to each element of the stream"
   ]
  },
  {
   "cell_type": "code",
   "execution_count": 93,
   "metadata": {
    "slideshow": {
     "slide_type": "fragment"
    }
   },
   "outputs": [],
   "source": [
    "class MyStreamListener(tweepy.StreamListener):\n",
    "    def on_status(self, status):\n",
    "        print(status.text)\n",
    "        if 'media' in status.entities:\n",
    "            for image in  status.entities['media']:\n",
    "                url = image['media_url']\n",
    "                display(HTML('<img src=\"'+url+'\" width=\"30%\"/>'))"
   ]
  },
  {
   "cell_type": "code",
   "execution_count": 105,
   "metadata": {
    "scrolled": true,
    "slideshow": {
     "slide_type": "subslide"
    }
   },
   "outputs": [
    {
     "name": "stdout",
     "output_type": "stream",
     "text": [
      "RT @ChukaUmunna: Jeremy Corbyn indicates to @SophyRidgeSky he prefers to facilitate #Brexit with a deal over staying in the EU, disappointi…\n",
      "\"New Zealanders should be calling for an immigration ban… on Australians\"\n",
      ".\n",
      "#Brexit #StopBrexit #PeoplesVote #nhs… https://t.co/nnumnPaPkz\n",
      "RT @thomasbrake: .@theresa_may, it is because I am a patriot that I am opposing your hopeless #Brexit deal\n",
      "\n",
      "It leaves us poorer, less influ…\n",
      "RT @WeareallTommys: #Brexit https://t.co/mllsJdT7j6\n"
     ]
    },
    {
     "data": {
      "text/html": [
       "<img src=\"http://pbs.twimg.com/media/D12leG6WkAAoj-2.png\" width=\"30%\"/>"
      ],
      "text/plain": [
       "<IPython.core.display.HTML object>"
      ]
     },
     "metadata": {},
     "output_type": "display_data"
    },
    {
     "name": "stdout",
     "output_type": "stream",
     "text": [
      "RT @Facts4euOrg: We see no reason for delay either.  Let's have certainty with a clean World Trade Brexit on 29 March and stop all the nons…\n",
      "RT @ChukaUmunna: Jeremy Corbyn indicates to @SophyRidgeSky he prefers to facilitate #Brexit with a deal over staying in the EU, disappointi…\n",
      "Excellent @byDonkeys, and there lies the crux of the matter. The vast majority on both sides of the debate are good… https://t.co/clLTFGBKF9\n"
     ]
    },
    {
     "ename": "KeyboardInterrupt",
     "evalue": "",
     "output_type": "error",
     "traceback": [
      "\u001b[0;31m---------------------------------------------------------------------------\u001b[0m",
      "\u001b[0;31mWantReadError\u001b[0m                             Traceback (most recent call last)",
      "\u001b[0;32m/opt/conda/lib/python3.6/site-packages/urllib3/contrib/pyopenssl.py\u001b[0m in \u001b[0;36mrecv_into\u001b[0;34m(self, *args, **kwargs)\u001b[0m\n\u001b[1;32m    293\u001b[0m         \u001b[0;32mtry\u001b[0m\u001b[0;34m:\u001b[0m\u001b[0;34m\u001b[0m\u001b[0;34m\u001b[0m\u001b[0m\n\u001b[0;32m--> 294\u001b[0;31m             \u001b[0;32mreturn\u001b[0m \u001b[0mself\u001b[0m\u001b[0;34m.\u001b[0m\u001b[0mconnection\u001b[0m\u001b[0;34m.\u001b[0m\u001b[0mrecv_into\u001b[0m\u001b[0;34m(\u001b[0m\u001b[0;34m*\u001b[0m\u001b[0margs\u001b[0m\u001b[0;34m,\u001b[0m \u001b[0;34m**\u001b[0m\u001b[0mkwargs\u001b[0m\u001b[0;34m)\u001b[0m\u001b[0;34m\u001b[0m\u001b[0;34m\u001b[0m\u001b[0m\n\u001b[0m\u001b[1;32m    295\u001b[0m         \u001b[0;32mexcept\u001b[0m \u001b[0mOpenSSL\u001b[0m\u001b[0;34m.\u001b[0m\u001b[0mSSL\u001b[0m\u001b[0;34m.\u001b[0m\u001b[0mSysCallError\u001b[0m \u001b[0;32mas\u001b[0m \u001b[0me\u001b[0m\u001b[0;34m:\u001b[0m\u001b[0;34m\u001b[0m\u001b[0;34m\u001b[0m\u001b[0m\n",
      "\u001b[0;32m/opt/conda/lib/python3.6/site-packages/OpenSSL/SSL.py\u001b[0m in \u001b[0;36mrecv_into\u001b[0;34m(self, buffer, nbytes, flags)\u001b[0m\n\u001b[1;32m   1813\u001b[0m             \u001b[0mresult\u001b[0m \u001b[0;34m=\u001b[0m \u001b[0m_lib\u001b[0m\u001b[0;34m.\u001b[0m\u001b[0mSSL_read\u001b[0m\u001b[0;34m(\u001b[0m\u001b[0mself\u001b[0m\u001b[0;34m.\u001b[0m\u001b[0m_ssl\u001b[0m\u001b[0;34m,\u001b[0m \u001b[0mbuf\u001b[0m\u001b[0;34m,\u001b[0m \u001b[0mnbytes\u001b[0m\u001b[0;34m)\u001b[0m\u001b[0;34m\u001b[0m\u001b[0;34m\u001b[0m\u001b[0m\n\u001b[0;32m-> 1814\u001b[0;31m         \u001b[0mself\u001b[0m\u001b[0;34m.\u001b[0m\u001b[0m_raise_ssl_error\u001b[0m\u001b[0;34m(\u001b[0m\u001b[0mself\u001b[0m\u001b[0;34m.\u001b[0m\u001b[0m_ssl\u001b[0m\u001b[0;34m,\u001b[0m \u001b[0mresult\u001b[0m\u001b[0;34m)\u001b[0m\u001b[0;34m\u001b[0m\u001b[0;34m\u001b[0m\u001b[0m\n\u001b[0m\u001b[1;32m   1815\u001b[0m \u001b[0;34m\u001b[0m\u001b[0m\n",
      "\u001b[0;32m/opt/conda/lib/python3.6/site-packages/OpenSSL/SSL.py\u001b[0m in \u001b[0;36m_raise_ssl_error\u001b[0;34m(self, ssl, result)\u001b[0m\n\u001b[1;32m   1613\u001b[0m         \u001b[0;32mif\u001b[0m \u001b[0merror\u001b[0m \u001b[0;34m==\u001b[0m \u001b[0m_lib\u001b[0m\u001b[0;34m.\u001b[0m\u001b[0mSSL_ERROR_WANT_READ\u001b[0m\u001b[0;34m:\u001b[0m\u001b[0;34m\u001b[0m\u001b[0;34m\u001b[0m\u001b[0m\n\u001b[0;32m-> 1614\u001b[0;31m             \u001b[0;32mraise\u001b[0m \u001b[0mWantReadError\u001b[0m\u001b[0;34m(\u001b[0m\u001b[0;34m)\u001b[0m\u001b[0;34m\u001b[0m\u001b[0;34m\u001b[0m\u001b[0m\n\u001b[0m\u001b[1;32m   1615\u001b[0m         \u001b[0;32melif\u001b[0m \u001b[0merror\u001b[0m \u001b[0;34m==\u001b[0m \u001b[0m_lib\u001b[0m\u001b[0;34m.\u001b[0m\u001b[0mSSL_ERROR_WANT_WRITE\u001b[0m\u001b[0;34m:\u001b[0m\u001b[0;34m\u001b[0m\u001b[0;34m\u001b[0m\u001b[0m\n",
      "\u001b[0;31mWantReadError\u001b[0m: ",
      "\nDuring handling of the above exception, another exception occurred:\n",
      "\u001b[0;31mKeyboardInterrupt\u001b[0m                         Traceback (most recent call last)",
      "\u001b[0;32m<ipython-input-105-cbe370b0d241>\u001b[0m in \u001b[0;36m<module>\u001b[0;34m\u001b[0m\n\u001b[1;32m      1\u001b[0m \u001b[0mmyStreamListener\u001b[0m \u001b[0;34m=\u001b[0m \u001b[0mMyStreamListener\u001b[0m\u001b[0;34m(\u001b[0m\u001b[0;34m)\u001b[0m\u001b[0;34m\u001b[0m\u001b[0;34m\u001b[0m\u001b[0m\n\u001b[1;32m      2\u001b[0m \u001b[0mmyStream\u001b[0m \u001b[0;34m=\u001b[0m \u001b[0mtweepy\u001b[0m\u001b[0;34m.\u001b[0m\u001b[0mStream\u001b[0m\u001b[0;34m(\u001b[0m\u001b[0mauth\u001b[0m \u001b[0;34m=\u001b[0m \u001b[0mapi\u001b[0m\u001b[0;34m.\u001b[0m\u001b[0mauth\u001b[0m\u001b[0;34m,\u001b[0m \u001b[0mlistener\u001b[0m\u001b[0;34m=\u001b[0m\u001b[0mmyStreamListener\u001b[0m\u001b[0;34m)\u001b[0m\u001b[0;34m\u001b[0m\u001b[0;34m\u001b[0m\u001b[0m\n\u001b[0;32m----> 3\u001b[0;31m \u001b[0mmyStream\u001b[0m\u001b[0;34m.\u001b[0m\u001b[0mfilter\u001b[0m\u001b[0;34m(\u001b[0m\u001b[0mtrack\u001b[0m\u001b[0;34m=\u001b[0m\u001b[0;34m[\u001b[0m\u001b[0;34m'#brexit'\u001b[0m\u001b[0;34m]\u001b[0m\u001b[0;34m)\u001b[0m\u001b[0;34m\u001b[0m\u001b[0;34m\u001b[0m\u001b[0m\n\u001b[0m",
      "\u001b[0;32m/opt/conda/lib/python3.6/site-packages/tweepy/streaming.py\u001b[0m in \u001b[0;36mfilter\u001b[0;34m(self, follow, track, is_async, locations, stall_warnings, languages, encoding, filter_level)\u001b[0m\n\u001b[1;32m    451\u001b[0m             \u001b[0mself\u001b[0m\u001b[0;34m.\u001b[0m\u001b[0mbody\u001b[0m\u001b[0;34m[\u001b[0m\u001b[0;34m'filter_level'\u001b[0m\u001b[0;34m]\u001b[0m \u001b[0;34m=\u001b[0m \u001b[0mfilter_level\u001b[0m\u001b[0;34m.\u001b[0m\u001b[0mencode\u001b[0m\u001b[0;34m(\u001b[0m\u001b[0mencoding\u001b[0m\u001b[0;34m)\u001b[0m\u001b[0;34m\u001b[0m\u001b[0;34m\u001b[0m\u001b[0m\n\u001b[1;32m    452\u001b[0m         \u001b[0mself\u001b[0m\u001b[0;34m.\u001b[0m\u001b[0msession\u001b[0m\u001b[0;34m.\u001b[0m\u001b[0mparams\u001b[0m \u001b[0;34m=\u001b[0m \u001b[0;34m{\u001b[0m\u001b[0;34m'delimited'\u001b[0m\u001b[0;34m:\u001b[0m \u001b[0;34m'length'\u001b[0m\u001b[0;34m}\u001b[0m\u001b[0;34m\u001b[0m\u001b[0;34m\u001b[0m\u001b[0m\n\u001b[0;32m--> 453\u001b[0;31m         \u001b[0mself\u001b[0m\u001b[0;34m.\u001b[0m\u001b[0m_start\u001b[0m\u001b[0;34m(\u001b[0m\u001b[0mis_async\u001b[0m\u001b[0;34m)\u001b[0m\u001b[0;34m\u001b[0m\u001b[0;34m\u001b[0m\u001b[0m\n\u001b[0m\u001b[1;32m    454\u001b[0m \u001b[0;34m\u001b[0m\u001b[0m\n\u001b[1;32m    455\u001b[0m     def sitestream(self, follow, stall_warnings=False,\n",
      "\u001b[0;32m/opt/conda/lib/python3.6/site-packages/tweepy/streaming.py\u001b[0m in \u001b[0;36m_start\u001b[0;34m(self, is_async)\u001b[0m\n\u001b[1;32m    366\u001b[0m             \u001b[0mself\u001b[0m\u001b[0;34m.\u001b[0m\u001b[0m_thread\u001b[0m\u001b[0;34m.\u001b[0m\u001b[0mstart\u001b[0m\u001b[0;34m(\u001b[0m\u001b[0;34m)\u001b[0m\u001b[0;34m\u001b[0m\u001b[0;34m\u001b[0m\u001b[0m\n\u001b[1;32m    367\u001b[0m         \u001b[0;32melse\u001b[0m\u001b[0;34m:\u001b[0m\u001b[0;34m\u001b[0m\u001b[0;34m\u001b[0m\u001b[0m\n\u001b[0;32m--> 368\u001b[0;31m             \u001b[0mself\u001b[0m\u001b[0;34m.\u001b[0m\u001b[0m_run\u001b[0m\u001b[0;34m(\u001b[0m\u001b[0;34m)\u001b[0m\u001b[0;34m\u001b[0m\u001b[0;34m\u001b[0m\u001b[0m\n\u001b[0m\u001b[1;32m    369\u001b[0m \u001b[0;34m\u001b[0m\u001b[0m\n\u001b[1;32m    370\u001b[0m     \u001b[0;32mdef\u001b[0m \u001b[0mon_closed\u001b[0m\u001b[0;34m(\u001b[0m\u001b[0mself\u001b[0m\u001b[0;34m,\u001b[0m \u001b[0mresp\u001b[0m\u001b[0;34m)\u001b[0m\u001b[0;34m:\u001b[0m\u001b[0;34m\u001b[0m\u001b[0;34m\u001b[0m\u001b[0m\n",
      "\u001b[0;32m/opt/conda/lib/python3.6/site-packages/tweepy/streaming.py\u001b[0m in \u001b[0;36m_run\u001b[0;34m(self)\u001b[0m\n\u001b[1;32m    267\u001b[0m                     \u001b[0mself\u001b[0m\u001b[0;34m.\u001b[0m\u001b[0msnooze_time\u001b[0m \u001b[0;34m=\u001b[0m \u001b[0mself\u001b[0m\u001b[0;34m.\u001b[0m\u001b[0msnooze_time_step\u001b[0m\u001b[0;34m\u001b[0m\u001b[0;34m\u001b[0m\u001b[0m\n\u001b[1;32m    268\u001b[0m                     \u001b[0mself\u001b[0m\u001b[0;34m.\u001b[0m\u001b[0mlistener\u001b[0m\u001b[0;34m.\u001b[0m\u001b[0mon_connect\u001b[0m\u001b[0;34m(\u001b[0m\u001b[0;34m)\u001b[0m\u001b[0;34m\u001b[0m\u001b[0;34m\u001b[0m\u001b[0m\n\u001b[0;32m--> 269\u001b[0;31m                     \u001b[0mself\u001b[0m\u001b[0;34m.\u001b[0m\u001b[0m_read_loop\u001b[0m\u001b[0;34m(\u001b[0m\u001b[0mresp\u001b[0m\u001b[0;34m)\u001b[0m\u001b[0;34m\u001b[0m\u001b[0;34m\u001b[0m\u001b[0m\n\u001b[0m\u001b[1;32m    270\u001b[0m             \u001b[0;32mexcept\u001b[0m \u001b[0;34m(\u001b[0m\u001b[0mTimeout\u001b[0m\u001b[0;34m,\u001b[0m \u001b[0mssl\u001b[0m\u001b[0;34m.\u001b[0m\u001b[0mSSLError\u001b[0m\u001b[0;34m)\u001b[0m \u001b[0;32mas\u001b[0m \u001b[0mexc\u001b[0m\u001b[0;34m:\u001b[0m\u001b[0;34m\u001b[0m\u001b[0;34m\u001b[0m\u001b[0m\n\u001b[1;32m    271\u001b[0m                 \u001b[0;31m# This is still necessary, as a SSLError can actually be\u001b[0m\u001b[0;34m\u001b[0m\u001b[0;34m\u001b[0m\u001b[0;34m\u001b[0m\u001b[0m\n",
      "\u001b[0;32m/opt/conda/lib/python3.6/site-packages/tweepy/streaming.py\u001b[0m in \u001b[0;36m_read_loop\u001b[0;34m(self, resp)\u001b[0m\n\u001b[1;32m    317\u001b[0m             \u001b[0mlength\u001b[0m \u001b[0;34m=\u001b[0m \u001b[0;36m0\u001b[0m\u001b[0;34m\u001b[0m\u001b[0;34m\u001b[0m\u001b[0m\n\u001b[1;32m    318\u001b[0m             \u001b[0;32mwhile\u001b[0m \u001b[0;32mnot\u001b[0m \u001b[0mresp\u001b[0m\u001b[0;34m.\u001b[0m\u001b[0mraw\u001b[0m\u001b[0;34m.\u001b[0m\u001b[0mclosed\u001b[0m\u001b[0;34m:\u001b[0m\u001b[0;34m\u001b[0m\u001b[0;34m\u001b[0m\u001b[0m\n\u001b[0;32m--> 319\u001b[0;31m                 \u001b[0mline\u001b[0m \u001b[0;34m=\u001b[0m \u001b[0mbuf\u001b[0m\u001b[0;34m.\u001b[0m\u001b[0mread_line\u001b[0m\u001b[0;34m(\u001b[0m\u001b[0;34m)\u001b[0m\u001b[0;34m\u001b[0m\u001b[0;34m\u001b[0m\u001b[0m\n\u001b[0m\u001b[1;32m    320\u001b[0m                 \u001b[0mstripped_line\u001b[0m \u001b[0;34m=\u001b[0m \u001b[0mline\u001b[0m\u001b[0;34m.\u001b[0m\u001b[0mstrip\u001b[0m\u001b[0;34m(\u001b[0m\u001b[0;34m)\u001b[0m \u001b[0;32mif\u001b[0m \u001b[0mline\u001b[0m \u001b[0;32melse\u001b[0m \u001b[0mline\u001b[0m \u001b[0;31m# line is sometimes None so we need to check here\u001b[0m\u001b[0;34m\u001b[0m\u001b[0;34m\u001b[0m\u001b[0m\n\u001b[1;32m    321\u001b[0m                 \u001b[0;32mif\u001b[0m \u001b[0;32mnot\u001b[0m \u001b[0mstripped_line\u001b[0m\u001b[0;34m:\u001b[0m\u001b[0;34m\u001b[0m\u001b[0;34m\u001b[0m\u001b[0m\n",
      "\u001b[0;32m/opt/conda/lib/python3.6/site-packages/tweepy/streaming.py\u001b[0m in \u001b[0;36mread_line\u001b[0;34m(self, sep)\u001b[0m\n\u001b[1;32m    179\u001b[0m             \u001b[0;32melse\u001b[0m\u001b[0;34m:\u001b[0m\u001b[0;34m\u001b[0m\u001b[0;34m\u001b[0m\u001b[0m\n\u001b[1;32m    180\u001b[0m                 \u001b[0mstart\u001b[0m \u001b[0;34m=\u001b[0m \u001b[0mlen\u001b[0m\u001b[0;34m(\u001b[0m\u001b[0mself\u001b[0m\u001b[0;34m.\u001b[0m\u001b[0m_buffer\u001b[0m\u001b[0;34m)\u001b[0m\u001b[0;34m\u001b[0m\u001b[0;34m\u001b[0m\u001b[0m\n\u001b[0;32m--> 181\u001b[0;31m             \u001b[0mself\u001b[0m\u001b[0;34m.\u001b[0m\u001b[0m_buffer\u001b[0m \u001b[0;34m+=\u001b[0m \u001b[0mself\u001b[0m\u001b[0;34m.\u001b[0m\u001b[0m_stream\u001b[0m\u001b[0;34m.\u001b[0m\u001b[0mread\u001b[0m\u001b[0;34m(\u001b[0m\u001b[0mself\u001b[0m\u001b[0;34m.\u001b[0m\u001b[0m_chunk_size\u001b[0m\u001b[0;34m)\u001b[0m\u001b[0;34m\u001b[0m\u001b[0;34m\u001b[0m\u001b[0m\n\u001b[0m\u001b[1;32m    182\u001b[0m         \u001b[0;32mreturn\u001b[0m \u001b[0msix\u001b[0m\u001b[0;34m.\u001b[0m\u001b[0mb\u001b[0m\u001b[0;34m(\u001b[0m\u001b[0;34m''\u001b[0m\u001b[0;34m)\u001b[0m\u001b[0;34m\u001b[0m\u001b[0;34m\u001b[0m\u001b[0m\n\u001b[1;32m    183\u001b[0m \u001b[0;34m\u001b[0m\u001b[0m\n",
      "\u001b[0;32m/opt/conda/lib/python3.6/site-packages/urllib3/response.py\u001b[0m in \u001b[0;36mread\u001b[0;34m(self, amt, decode_content, cache_content)\u001b[0m\n\u001b[1;32m    440\u001b[0m             \u001b[0;32melse\u001b[0m\u001b[0;34m:\u001b[0m\u001b[0;34m\u001b[0m\u001b[0;34m\u001b[0m\u001b[0m\n\u001b[1;32m    441\u001b[0m                 \u001b[0mcache_content\u001b[0m \u001b[0;34m=\u001b[0m \u001b[0;32mFalse\u001b[0m\u001b[0;34m\u001b[0m\u001b[0;34m\u001b[0m\u001b[0m\n\u001b[0;32m--> 442\u001b[0;31m                 \u001b[0mdata\u001b[0m \u001b[0;34m=\u001b[0m \u001b[0mself\u001b[0m\u001b[0;34m.\u001b[0m\u001b[0m_fp\u001b[0m\u001b[0;34m.\u001b[0m\u001b[0mread\u001b[0m\u001b[0;34m(\u001b[0m\u001b[0mamt\u001b[0m\u001b[0;34m)\u001b[0m\u001b[0;34m\u001b[0m\u001b[0;34m\u001b[0m\u001b[0m\n\u001b[0m\u001b[1;32m    443\u001b[0m                 \u001b[0;32mif\u001b[0m \u001b[0mamt\u001b[0m \u001b[0;34m!=\u001b[0m \u001b[0;36m0\u001b[0m \u001b[0;32mand\u001b[0m \u001b[0;32mnot\u001b[0m \u001b[0mdata\u001b[0m\u001b[0;34m:\u001b[0m  \u001b[0;31m# Platform-specific: Buggy versions of Python.\u001b[0m\u001b[0;34m\u001b[0m\u001b[0;34m\u001b[0m\u001b[0m\n\u001b[1;32m    444\u001b[0m                     \u001b[0;31m# Close the connection when no data is returned\u001b[0m\u001b[0;34m\u001b[0m\u001b[0;34m\u001b[0m\u001b[0;34m\u001b[0m\u001b[0m\n",
      "\u001b[0;32m/opt/conda/lib/python3.6/http/client.py\u001b[0m in \u001b[0;36mread\u001b[0;34m(self, amt)\u001b[0m\n\u001b[1;32m    447\u001b[0m             \u001b[0;31m# Amount is given, implement using readinto\u001b[0m\u001b[0;34m\u001b[0m\u001b[0;34m\u001b[0m\u001b[0;34m\u001b[0m\u001b[0m\n\u001b[1;32m    448\u001b[0m             \u001b[0mb\u001b[0m \u001b[0;34m=\u001b[0m \u001b[0mbytearray\u001b[0m\u001b[0;34m(\u001b[0m\u001b[0mamt\u001b[0m\u001b[0;34m)\u001b[0m\u001b[0;34m\u001b[0m\u001b[0;34m\u001b[0m\u001b[0m\n\u001b[0;32m--> 449\u001b[0;31m             \u001b[0mn\u001b[0m \u001b[0;34m=\u001b[0m \u001b[0mself\u001b[0m\u001b[0;34m.\u001b[0m\u001b[0mreadinto\u001b[0m\u001b[0;34m(\u001b[0m\u001b[0mb\u001b[0m\u001b[0;34m)\u001b[0m\u001b[0;34m\u001b[0m\u001b[0;34m\u001b[0m\u001b[0m\n\u001b[0m\u001b[1;32m    450\u001b[0m             \u001b[0;32mreturn\u001b[0m \u001b[0mmemoryview\u001b[0m\u001b[0;34m(\u001b[0m\u001b[0mb\u001b[0m\u001b[0;34m)\u001b[0m\u001b[0;34m[\u001b[0m\u001b[0;34m:\u001b[0m\u001b[0mn\u001b[0m\u001b[0;34m]\u001b[0m\u001b[0;34m.\u001b[0m\u001b[0mtobytes\u001b[0m\u001b[0;34m(\u001b[0m\u001b[0;34m)\u001b[0m\u001b[0;34m\u001b[0m\u001b[0;34m\u001b[0m\u001b[0m\n\u001b[1;32m    451\u001b[0m         \u001b[0;32melse\u001b[0m\u001b[0;34m:\u001b[0m\u001b[0;34m\u001b[0m\u001b[0;34m\u001b[0m\u001b[0m\n",
      "\u001b[0;32m/opt/conda/lib/python3.6/http/client.py\u001b[0m in \u001b[0;36mreadinto\u001b[0;34m(self, b)\u001b[0m\n\u001b[1;32m    481\u001b[0m \u001b[0;34m\u001b[0m\u001b[0m\n\u001b[1;32m    482\u001b[0m         \u001b[0;32mif\u001b[0m \u001b[0mself\u001b[0m\u001b[0;34m.\u001b[0m\u001b[0mchunked\u001b[0m\u001b[0;34m:\u001b[0m\u001b[0;34m\u001b[0m\u001b[0;34m\u001b[0m\u001b[0m\n\u001b[0;32m--> 483\u001b[0;31m             \u001b[0;32mreturn\u001b[0m \u001b[0mself\u001b[0m\u001b[0;34m.\u001b[0m\u001b[0m_readinto_chunked\u001b[0m\u001b[0;34m(\u001b[0m\u001b[0mb\u001b[0m\u001b[0;34m)\u001b[0m\u001b[0;34m\u001b[0m\u001b[0;34m\u001b[0m\u001b[0m\n\u001b[0m\u001b[1;32m    484\u001b[0m \u001b[0;34m\u001b[0m\u001b[0m\n\u001b[1;32m    485\u001b[0m         \u001b[0;32mif\u001b[0m \u001b[0mself\u001b[0m\u001b[0;34m.\u001b[0m\u001b[0mlength\u001b[0m \u001b[0;32mis\u001b[0m \u001b[0;32mnot\u001b[0m \u001b[0;32mNone\u001b[0m\u001b[0;34m:\u001b[0m\u001b[0;34m\u001b[0m\u001b[0;34m\u001b[0m\u001b[0m\n",
      "\u001b[0;32m/opt/conda/lib/python3.6/http/client.py\u001b[0m in \u001b[0;36m_readinto_chunked\u001b[0;34m(self, b)\u001b[0m\n\u001b[1;32m    576\u001b[0m         \u001b[0;32mtry\u001b[0m\u001b[0;34m:\u001b[0m\u001b[0;34m\u001b[0m\u001b[0;34m\u001b[0m\u001b[0m\n\u001b[1;32m    577\u001b[0m             \u001b[0;32mwhile\u001b[0m \u001b[0;32mTrue\u001b[0m\u001b[0;34m:\u001b[0m\u001b[0;34m\u001b[0m\u001b[0;34m\u001b[0m\u001b[0m\n\u001b[0;32m--> 578\u001b[0;31m                 \u001b[0mchunk_left\u001b[0m \u001b[0;34m=\u001b[0m \u001b[0mself\u001b[0m\u001b[0;34m.\u001b[0m\u001b[0m_get_chunk_left\u001b[0m\u001b[0;34m(\u001b[0m\u001b[0;34m)\u001b[0m\u001b[0;34m\u001b[0m\u001b[0;34m\u001b[0m\u001b[0m\n\u001b[0m\u001b[1;32m    579\u001b[0m                 \u001b[0;32mif\u001b[0m \u001b[0mchunk_left\u001b[0m \u001b[0;32mis\u001b[0m \u001b[0;32mNone\u001b[0m\u001b[0;34m:\u001b[0m\u001b[0;34m\u001b[0m\u001b[0;34m\u001b[0m\u001b[0m\n\u001b[1;32m    580\u001b[0m                     \u001b[0;32mreturn\u001b[0m \u001b[0mtotal_bytes\u001b[0m\u001b[0;34m\u001b[0m\u001b[0;34m\u001b[0m\u001b[0m\n",
      "\u001b[0;32m/opt/conda/lib/python3.6/http/client.py\u001b[0m in \u001b[0;36m_get_chunk_left\u001b[0;34m(self)\u001b[0m\n\u001b[1;32m    544\u001b[0m                 \u001b[0mself\u001b[0m\u001b[0;34m.\u001b[0m\u001b[0m_safe_read\u001b[0m\u001b[0;34m(\u001b[0m\u001b[0;36m2\u001b[0m\u001b[0;34m)\u001b[0m  \u001b[0;31m# toss the CRLF at the end of the chunk\u001b[0m\u001b[0;34m\u001b[0m\u001b[0;34m\u001b[0m\u001b[0m\n\u001b[1;32m    545\u001b[0m             \u001b[0;32mtry\u001b[0m\u001b[0;34m:\u001b[0m\u001b[0;34m\u001b[0m\u001b[0;34m\u001b[0m\u001b[0m\n\u001b[0;32m--> 546\u001b[0;31m                 \u001b[0mchunk_left\u001b[0m \u001b[0;34m=\u001b[0m \u001b[0mself\u001b[0m\u001b[0;34m.\u001b[0m\u001b[0m_read_next_chunk_size\u001b[0m\u001b[0;34m(\u001b[0m\u001b[0;34m)\u001b[0m\u001b[0;34m\u001b[0m\u001b[0;34m\u001b[0m\u001b[0m\n\u001b[0m\u001b[1;32m    547\u001b[0m             \u001b[0;32mexcept\u001b[0m \u001b[0mValueError\u001b[0m\u001b[0;34m:\u001b[0m\u001b[0;34m\u001b[0m\u001b[0;34m\u001b[0m\u001b[0m\n\u001b[1;32m    548\u001b[0m                 \u001b[0;32mraise\u001b[0m \u001b[0mIncompleteRead\u001b[0m\u001b[0;34m(\u001b[0m\u001b[0;34mb''\u001b[0m\u001b[0;34m)\u001b[0m\u001b[0;34m\u001b[0m\u001b[0;34m\u001b[0m\u001b[0m\n",
      "\u001b[0;32m/opt/conda/lib/python3.6/http/client.py\u001b[0m in \u001b[0;36m_read_next_chunk_size\u001b[0;34m(self)\u001b[0m\n\u001b[1;32m    504\u001b[0m     \u001b[0;32mdef\u001b[0m \u001b[0m_read_next_chunk_size\u001b[0m\u001b[0;34m(\u001b[0m\u001b[0mself\u001b[0m\u001b[0;34m)\u001b[0m\u001b[0;34m:\u001b[0m\u001b[0;34m\u001b[0m\u001b[0;34m\u001b[0m\u001b[0m\n\u001b[1;32m    505\u001b[0m         \u001b[0;31m# Read the next chunk size from the file\u001b[0m\u001b[0;34m\u001b[0m\u001b[0;34m\u001b[0m\u001b[0;34m\u001b[0m\u001b[0m\n\u001b[0;32m--> 506\u001b[0;31m         \u001b[0mline\u001b[0m \u001b[0;34m=\u001b[0m \u001b[0mself\u001b[0m\u001b[0;34m.\u001b[0m\u001b[0mfp\u001b[0m\u001b[0;34m.\u001b[0m\u001b[0mreadline\u001b[0m\u001b[0;34m(\u001b[0m\u001b[0m_MAXLINE\u001b[0m \u001b[0;34m+\u001b[0m \u001b[0;36m1\u001b[0m\u001b[0;34m)\u001b[0m\u001b[0;34m\u001b[0m\u001b[0;34m\u001b[0m\u001b[0m\n\u001b[0m\u001b[1;32m    507\u001b[0m         \u001b[0;32mif\u001b[0m \u001b[0mlen\u001b[0m\u001b[0;34m(\u001b[0m\u001b[0mline\u001b[0m\u001b[0;34m)\u001b[0m \u001b[0;34m>\u001b[0m \u001b[0m_MAXLINE\u001b[0m\u001b[0;34m:\u001b[0m\u001b[0;34m\u001b[0m\u001b[0;34m\u001b[0m\u001b[0m\n\u001b[1;32m    508\u001b[0m             \u001b[0;32mraise\u001b[0m \u001b[0mLineTooLong\u001b[0m\u001b[0;34m(\u001b[0m\u001b[0;34m\"chunk size\"\u001b[0m\u001b[0;34m)\u001b[0m\u001b[0;34m\u001b[0m\u001b[0;34m\u001b[0m\u001b[0m\n",
      "\u001b[0;32m/opt/conda/lib/python3.6/socket.py\u001b[0m in \u001b[0;36mreadinto\u001b[0;34m(self, b)\u001b[0m\n\u001b[1;32m    584\u001b[0m         \u001b[0;32mwhile\u001b[0m \u001b[0;32mTrue\u001b[0m\u001b[0;34m:\u001b[0m\u001b[0;34m\u001b[0m\u001b[0;34m\u001b[0m\u001b[0m\n\u001b[1;32m    585\u001b[0m             \u001b[0;32mtry\u001b[0m\u001b[0;34m:\u001b[0m\u001b[0;34m\u001b[0m\u001b[0;34m\u001b[0m\u001b[0m\n\u001b[0;32m--> 586\u001b[0;31m                 \u001b[0;32mreturn\u001b[0m \u001b[0mself\u001b[0m\u001b[0;34m.\u001b[0m\u001b[0m_sock\u001b[0m\u001b[0;34m.\u001b[0m\u001b[0mrecv_into\u001b[0m\u001b[0;34m(\u001b[0m\u001b[0mb\u001b[0m\u001b[0;34m)\u001b[0m\u001b[0;34m\u001b[0m\u001b[0;34m\u001b[0m\u001b[0m\n\u001b[0m\u001b[1;32m    587\u001b[0m             \u001b[0;32mexcept\u001b[0m \u001b[0mtimeout\u001b[0m\u001b[0;34m:\u001b[0m\u001b[0;34m\u001b[0m\u001b[0;34m\u001b[0m\u001b[0m\n\u001b[1;32m    588\u001b[0m                 \u001b[0mself\u001b[0m\u001b[0;34m.\u001b[0m\u001b[0m_timeout_occurred\u001b[0m \u001b[0;34m=\u001b[0m \u001b[0;32mTrue\u001b[0m\u001b[0;34m\u001b[0m\u001b[0;34m\u001b[0m\u001b[0m\n",
      "\u001b[0;32m/opt/conda/lib/python3.6/site-packages/urllib3/contrib/pyopenssl.py\u001b[0m in \u001b[0;36mrecv_into\u001b[0;34m(self, *args, **kwargs)\u001b[0m\n\u001b[1;32m    304\u001b[0m                 \u001b[0;32mraise\u001b[0m\u001b[0;34m\u001b[0m\u001b[0;34m\u001b[0m\u001b[0m\n\u001b[1;32m    305\u001b[0m         \u001b[0;32mexcept\u001b[0m \u001b[0mOpenSSL\u001b[0m\u001b[0;34m.\u001b[0m\u001b[0mSSL\u001b[0m\u001b[0;34m.\u001b[0m\u001b[0mWantReadError\u001b[0m\u001b[0;34m:\u001b[0m\u001b[0;34m\u001b[0m\u001b[0;34m\u001b[0m\u001b[0m\n\u001b[0;32m--> 306\u001b[0;31m             \u001b[0;32mif\u001b[0m \u001b[0;32mnot\u001b[0m \u001b[0mutil\u001b[0m\u001b[0;34m.\u001b[0m\u001b[0mwait_for_read\u001b[0m\u001b[0;34m(\u001b[0m\u001b[0mself\u001b[0m\u001b[0;34m.\u001b[0m\u001b[0msocket\u001b[0m\u001b[0;34m,\u001b[0m \u001b[0mself\u001b[0m\u001b[0;34m.\u001b[0m\u001b[0msocket\u001b[0m\u001b[0;34m.\u001b[0m\u001b[0mgettimeout\u001b[0m\u001b[0;34m(\u001b[0m\u001b[0;34m)\u001b[0m\u001b[0;34m)\u001b[0m\u001b[0;34m:\u001b[0m\u001b[0;34m\u001b[0m\u001b[0;34m\u001b[0m\u001b[0m\n\u001b[0m\u001b[1;32m    307\u001b[0m                 \u001b[0;32mraise\u001b[0m \u001b[0mtimeout\u001b[0m\u001b[0;34m(\u001b[0m\u001b[0;34m'The read operation timed out'\u001b[0m\u001b[0;34m)\u001b[0m\u001b[0;34m\u001b[0m\u001b[0;34m\u001b[0m\u001b[0m\n\u001b[1;32m    308\u001b[0m             \u001b[0;32melse\u001b[0m\u001b[0;34m:\u001b[0m\u001b[0;34m\u001b[0m\u001b[0;34m\u001b[0m\u001b[0m\n",
      "\u001b[0;32m/opt/conda/lib/python3.6/site-packages/urllib3/util/wait.py\u001b[0m in \u001b[0;36mwait_for_read\u001b[0;34m(sock, timeout)\u001b[0m\n\u001b[1;32m    141\u001b[0m     \u001b[0mReturns\u001b[0m \u001b[0;32mTrue\u001b[0m \u001b[0;32mif\u001b[0m \u001b[0mthe\u001b[0m \u001b[0msocket\u001b[0m \u001b[0;32mis\u001b[0m \u001b[0mreadable\u001b[0m\u001b[0;34m,\u001b[0m \u001b[0;32mor\u001b[0m \u001b[0;32mFalse\u001b[0m \u001b[0;32mif\u001b[0m \u001b[0mthe\u001b[0m \u001b[0mtimeout\u001b[0m \u001b[0mexpired\u001b[0m\u001b[0;34m.\u001b[0m\u001b[0;34m\u001b[0m\u001b[0;34m\u001b[0m\u001b[0m\n\u001b[1;32m    142\u001b[0m     \"\"\"\n\u001b[0;32m--> 143\u001b[0;31m     \u001b[0;32mreturn\u001b[0m \u001b[0mwait_for_socket\u001b[0m\u001b[0;34m(\u001b[0m\u001b[0msock\u001b[0m\u001b[0;34m,\u001b[0m \u001b[0mread\u001b[0m\u001b[0;34m=\u001b[0m\u001b[0;32mTrue\u001b[0m\u001b[0;34m,\u001b[0m \u001b[0mtimeout\u001b[0m\u001b[0;34m=\u001b[0m\u001b[0mtimeout\u001b[0m\u001b[0;34m)\u001b[0m\u001b[0;34m\u001b[0m\u001b[0;34m\u001b[0m\u001b[0m\n\u001b[0m\u001b[1;32m    144\u001b[0m \u001b[0;34m\u001b[0m\u001b[0m\n\u001b[1;32m    145\u001b[0m \u001b[0;34m\u001b[0m\u001b[0m\n",
      "\u001b[0;32m/opt/conda/lib/python3.6/site-packages/urllib3/util/wait.py\u001b[0m in \u001b[0;36mpoll_wait_for_socket\u001b[0;34m(sock, read, write, timeout)\u001b[0m\n\u001b[1;32m    102\u001b[0m         \u001b[0;32mreturn\u001b[0m \u001b[0mpoll_obj\u001b[0m\u001b[0;34m.\u001b[0m\u001b[0mpoll\u001b[0m\u001b[0;34m(\u001b[0m\u001b[0mt\u001b[0m\u001b[0;34m)\u001b[0m\u001b[0;34m\u001b[0m\u001b[0;34m\u001b[0m\u001b[0m\n\u001b[1;32m    103\u001b[0m \u001b[0;34m\u001b[0m\u001b[0m\n\u001b[0;32m--> 104\u001b[0;31m     \u001b[0;32mreturn\u001b[0m \u001b[0mbool\u001b[0m\u001b[0;34m(\u001b[0m\u001b[0m_retry_on_intr\u001b[0m\u001b[0;34m(\u001b[0m\u001b[0mdo_poll\u001b[0m\u001b[0;34m,\u001b[0m \u001b[0mtimeout\u001b[0m\u001b[0;34m)\u001b[0m\u001b[0;34m)\u001b[0m\u001b[0;34m\u001b[0m\u001b[0;34m\u001b[0m\u001b[0m\n\u001b[0m\u001b[1;32m    105\u001b[0m \u001b[0;34m\u001b[0m\u001b[0m\n\u001b[1;32m    106\u001b[0m \u001b[0;34m\u001b[0m\u001b[0m\n",
      "\u001b[0;32m/opt/conda/lib/python3.6/site-packages/urllib3/util/wait.py\u001b[0m in \u001b[0;36m_retry_on_intr\u001b[0;34m(fn, timeout)\u001b[0m\n\u001b[1;32m     40\u001b[0m     \u001b[0;31m# Modern Python, that retries syscalls by default\u001b[0m\u001b[0;34m\u001b[0m\u001b[0;34m\u001b[0m\u001b[0;34m\u001b[0m\u001b[0m\n\u001b[1;32m     41\u001b[0m     \u001b[0;32mdef\u001b[0m \u001b[0m_retry_on_intr\u001b[0m\u001b[0;34m(\u001b[0m\u001b[0mfn\u001b[0m\u001b[0;34m,\u001b[0m \u001b[0mtimeout\u001b[0m\u001b[0;34m)\u001b[0m\u001b[0;34m:\u001b[0m\u001b[0;34m\u001b[0m\u001b[0;34m\u001b[0m\u001b[0m\n\u001b[0;32m---> 42\u001b[0;31m         \u001b[0;32mreturn\u001b[0m \u001b[0mfn\u001b[0m\u001b[0;34m(\u001b[0m\u001b[0mtimeout\u001b[0m\u001b[0;34m)\u001b[0m\u001b[0;34m\u001b[0m\u001b[0;34m\u001b[0m\u001b[0m\n\u001b[0m\u001b[1;32m     43\u001b[0m \u001b[0;32melse\u001b[0m\u001b[0;34m:\u001b[0m\u001b[0;34m\u001b[0m\u001b[0;34m\u001b[0m\u001b[0m\n\u001b[1;32m     44\u001b[0m     \u001b[0;31m# Old and broken Pythons.\u001b[0m\u001b[0;34m\u001b[0m\u001b[0;34m\u001b[0m\u001b[0;34m\u001b[0m\u001b[0m\n",
      "\u001b[0;32m/opt/conda/lib/python3.6/site-packages/urllib3/util/wait.py\u001b[0m in \u001b[0;36mdo_poll\u001b[0;34m(t)\u001b[0m\n\u001b[1;32m    100\u001b[0m         \u001b[0;32mif\u001b[0m \u001b[0mt\u001b[0m \u001b[0;32mis\u001b[0m \u001b[0;32mnot\u001b[0m \u001b[0;32mNone\u001b[0m\u001b[0;34m:\u001b[0m\u001b[0;34m\u001b[0m\u001b[0;34m\u001b[0m\u001b[0m\n\u001b[1;32m    101\u001b[0m             \u001b[0mt\u001b[0m \u001b[0;34m*=\u001b[0m \u001b[0;36m1000\u001b[0m\u001b[0;34m\u001b[0m\u001b[0;34m\u001b[0m\u001b[0m\n\u001b[0;32m--> 102\u001b[0;31m         \u001b[0;32mreturn\u001b[0m \u001b[0mpoll_obj\u001b[0m\u001b[0;34m.\u001b[0m\u001b[0mpoll\u001b[0m\u001b[0;34m(\u001b[0m\u001b[0mt\u001b[0m\u001b[0;34m)\u001b[0m\u001b[0;34m\u001b[0m\u001b[0;34m\u001b[0m\u001b[0m\n\u001b[0m\u001b[1;32m    103\u001b[0m \u001b[0;34m\u001b[0m\u001b[0m\n\u001b[1;32m    104\u001b[0m     \u001b[0;32mreturn\u001b[0m \u001b[0mbool\u001b[0m\u001b[0;34m(\u001b[0m\u001b[0m_retry_on_intr\u001b[0m\u001b[0;34m(\u001b[0m\u001b[0mdo_poll\u001b[0m\u001b[0;34m,\u001b[0m \u001b[0mtimeout\u001b[0m\u001b[0;34m)\u001b[0m\u001b[0;34m)\u001b[0m\u001b[0;34m\u001b[0m\u001b[0;34m\u001b[0m\u001b[0m\n",
      "\u001b[0;31mKeyboardInterrupt\u001b[0m: "
     ]
    }
   ],
   "source": [
    "myStreamListener = MyStreamListener()\n",
    "myStream = tweepy.Stream(auth = api.auth, listener=myStreamListener)\n",
    "myStream.filter(track=['#brexit'])"
   ]
  },
  {
   "cell_type": "markdown",
   "metadata": {
    "slideshow": {
     "slide_type": "slide"
    }
   },
   "source": [
    "### [3] Accessing twitter - app setup\n",
    "\n",
    "1. Ensure you have a twitter account, and login.\n",
    "2. Go to the apps page: https://apps.twitter.com\n",
    "3. Click *“Create New App”*\n",
    "4. Fill in the details\n",
    "5. Click *“Create your Twitter application”* and you should see the following page. You will need to copy the consumer key and consumer secret from this page into your Jupyter notebook.\n",
    "6. You will also need an access token and access secret. Click *“Create my access token”* and then copy the token and secret into your notebook."
   ]
  }
 ],
 "metadata": {
  "celltoolbar": "Slideshow",
  "kernelspec": {
   "display_name": "Python 3",
   "language": "python",
   "name": "python3"
  },
  "language_info": {
   "codemirror_mode": {
    "name": "ipython",
    "version": 3
   },
   "file_extension": ".py",
   "mimetype": "text/x-python",
   "name": "python",
   "nbconvert_exporter": "python",
   "pygments_lexer": "ipython3",
   "version": "3.6.7"
  }
 },
 "nbformat": 4,
 "nbformat_minor": 2
}
