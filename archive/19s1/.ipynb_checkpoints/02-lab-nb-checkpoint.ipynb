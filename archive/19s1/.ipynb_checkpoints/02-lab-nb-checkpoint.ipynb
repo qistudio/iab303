{
 "cells": [
  {
   "cell_type": "markdown",
   "metadata": {},
   "source": [
    "<div class=\"alert alert-block alert-info\"><b>IAB303</b> - Data Analytics for Business Insight</div>"
   ]
  },
  {
   "cell_type": "markdown",
   "metadata": {},
   "source": [
    "## LAB SESSION :: Wrangling external business data\n",
    "\n",
    "1. Load text, infer structure\n",
    "2. Basic pattern matching\n",
    "3. Basic visualisation"
   ]
  },
  {
   "cell_type": "markdown",
   "metadata": {},
   "source": [
    "## Load text, infer structure\n",
    "\n",
    "1. Load the contents of the file called `kaggle-amazon_reviews-first50.txt` into a variable called `rawtext` and then display the contents of the variable.\n",
    "2. How do we make this unstructured text fit a structure that we can use? How do we separate the reviews?\n",
    "3. Can we use split further to structure each review?"
   ]
  },
  {
   "cell_type": "code",
   "execution_count": null,
   "metadata": {},
   "outputs": [],
   "source": [
    "#Open the file and read it into a variable 'text'\n",
    "file = open(\"\")\n",
    "rawtext = file.read()\n",
    "file.close()\n",
    "rawtext"
   ]
  },
  {
   "cell_type": "code",
   "execution_count": null,
   "metadata": {},
   "outputs": [],
   "source": [
    "#Split the document by newlines to give us individual reviews\n",
    "reviews = rawtext.split(\"\")\n",
    "if reviews[-1]=='':\n",
    "    del reviews[-1] #Remove last empty item\n",
    "reviews"
   ]
  },
  {
   "cell_type": "markdown",
   "metadata": {},
   "source": [
    "Use a function to convert the plain text list into `HTML` that we can then display to make the reviews easier to read. The function will take each element of the list and wrap them in paragraph `p` tags, join the paragraphs together and return the result as `HTML`."
   ]
  },
  {
   "cell_type": "code",
   "execution_count": null,
   "metadata": {},
   "outputs": [],
   "source": [
    "#Import some display software\n",
    "from IPython.core.display import display, HTML\n",
    "\n",
    "#FUNCTION - turn list into HTML\n",
    "def listToHtml(textList):\n",
    "    def pTag(text): #function that wraps text in paragraph tags\n",
    "        return \"\"+text+\"\"\n",
    "    paras = map(pTag,textList) #Apply the wrapping function to the list\n",
    "    return HTML(''.join(paras)) #Join the paragraphs together and return as HTML\n",
    "\n",
    "#Create the HTML by calling the function\n",
    "reviewsAsHtml = listToHtml(reviews)\n",
    "\n",
    "#Display the HTML\n",
    "display(reviewsAsHtml)"
   ]
  },
  {
   "cell_type": "code",
   "execution_count": null,
   "metadata": {},
   "outputs": [],
   "source": [
    "#For each review, we can split further - try with first review\n",
    "firstReview = reviews[0]\n",
    "firstReview"
   ]
  },
  {
   "cell_type": "code",
   "execution_count": null,
   "metadata": {},
   "outputs": [],
   "source": [
    "firstReviewParts = firstReview.split(\"\")\n",
    "print(\"Label, subject >>> \",firstReviewParts[0])\n",
    "print(\"Review text    >>> \",firstReviewParts[1])"
   ]
  },
  {
   "cell_type": "markdown",
   "metadata": {},
   "source": [
    "## Basic pattern matching\n",
    "\n",
    "In splitting the text we were actually applying a simple pattern matching algorithm that turned the text into a list based on matching a chosen character e.g. `\\n`. However, we can manipulate text further by using *regular expressions* or *regex*.\n",
    "\n",
    "1. Use regex to identify the label and return `positive` or `negative` (hint: `?<=`) [Python Regex](https://docs.python.org/3/library/re.html). Experiment [here](https://pythex.org)\n",
    "2. Use a namedtuple to hold label, subject and text\n",
    "3. Process the list of unstructured reviews into structured form"
   ]
  },
  {
   "cell_type": "code",
   "execution_count": null,
   "metadata": {},
   "outputs": [],
   "source": [
    "#Import the Regex library\n",
    "import re\n",
    "\n",
    "#Create an expression to pull out the label value\n",
    "match = re.search(r\"(?<=)[0]+\",)\n",
    "match"
   ]
  },
  {
   "cell_type": "code",
   "execution_count": null,
   "metadata": {},
   "outputs": [],
   "source": [
    "#Get the first regex match group\n",
    "match.group(0)"
   ]
  },
  {
   "cell_type": "code",
   "execution_count": null,
   "metadata": {},
   "outputs": [],
   "source": [
    "#We can split using the same regex\n",
    "split = re.split(r\"(?<=)[]+\",)\n",
    "split"
   ]
  },
  {
   "cell_type": "code",
   "execution_count": null,
   "metadata": {},
   "outputs": [],
   "source": [
    "#The second part gives us the subject, but we need to clean it up\n",
    "subject = split[1].strip()\n",
    "subject"
   ]
  },
  {
   "cell_type": "markdown",
   "metadata": {},
   "source": [
    "Functions enable us to easily repeat a block of code. If we write functions to get the sentiment and the subject of the review, these can be used repeatedly on each of the reviews in our list."
   ]
  },
  {
   "cell_type": "code",
   "execution_count": null,
   "metadata": {},
   "outputs": [],
   "source": [
    "#Create a function to extract the number value as a positive or negative label\n",
    "\n",
    "def getSentimentLabel(text):\n",
    "    match = re.search(r\"(?<=)[]+\",text)\n",
    "    value = match.group(0)\n",
    "    if value=='1':\n",
    "        return 'negative'\n",
    "    elif value=='2':\n",
    "        return 'positive'\n",
    "    \n",
    "#Test with first review\n",
    "\n",
    "getSentimentLabel(firstReviewParts[0])"
   ]
  },
  {
   "cell_type": "code",
   "execution_count": null,
   "metadata": {},
   "outputs": [],
   "source": [
    "#Create a function to extract the subject\n",
    "\n",
    "def getSubject(text):\n",
    "    split = re.split(r\"(?<=)[]+\",text)\n",
    "    return split[1].strip()\n",
    "\n",
    "#Test with first review\n",
    "\n",
    "getSubject(firstReviewParts[0])"
   ]
  },
  {
   "cell_type": "code",
   "execution_count": null,
   "metadata": {},
   "outputs": [],
   "source": [
    "#Setup a review namedtuple\n",
    "from collections import namedtuple\n",
    "Review = namedtuple('review',['label','subject','text'])"
   ]
  },
  {
   "cell_type": "code",
   "execution_count": null,
   "metadata": {},
   "outputs": [],
   "source": [
    "#Create dummy Review to test\n",
    "rev = Review('','','')\n",
    "rev.label"
   ]
  },
  {
   "cell_type": "code",
   "execution_count": null,
   "metadata": {},
   "outputs": [],
   "source": [
    "# Create a function to parse a review into a tuple\n",
    "\n",
    "def parseReview(text):\n",
    "    textSplit = text.split('')\n",
    "    text = textSplit[1]  \n",
    "    subject = getSubject(textSplit[0])\n",
    "    label = getSentimentLabel(textSplit[0])\n",
    "    return Review(label,subject,text)"
   ]
  },
  {
   "cell_type": "code",
   "execution_count": null,
   "metadata": {},
   "outputs": [],
   "source": [
    "# Test the review function\n",
    "\n",
    "parseReview(firstReview)"
   ]
  },
  {
   "cell_type": "code",
   "execution_count": null,
   "metadata": {},
   "outputs": [],
   "source": [
    "# Process all reviews with the parseReview function\n",
    "\n",
    "structuredReviews = list(map(parseReview,reviews))\n",
    "structuredReviews"
   ]
  },
  {
   "cell_type": "markdown",
   "metadata": {},
   "source": [
    "## Basic visualisation\n",
    "\n",
    "Create 2 visualisations from the semi-structured data:\n",
    "\n",
    "1. Print out the reviews with subject in `bold` and coloured according to sentiment label. Print the text normally.\n",
    "2. Display a graph of the total positive and negative labels."
   ]
  },
  {
   "cell_type": "code",
   "execution_count": null,
   "metadata": {},
   "outputs": [],
   "source": [
    "#Modify the listToHtml function from before\n",
    "def reviewsToHtml(reviewList):\n",
    "    def pTag(review): #function that wraps review in tags\n",
    "        return '<?><? class=\"'+review.label+'\">'+review.subject+\"</?>: \"+review.text+\"</?>\"\n",
    "    paras = map(pTag,reviewList) #Apply the wrapping function to the list\n",
    "    return HTML(''.join(paras)) #Join the paragraphs together and return as HTML\n",
    "\n"
   ]
  },
  {
   "cell_type": "code",
   "execution_count": null,
   "metadata": {},
   "outputs": [],
   "source": [
    "#Create the HTML by calling the function\n",
    "structReviewsHtml = reviewsToHtml(structuredReviews)\n",
    "structReviewsHtml"
   ]
  },
  {
   "cell_type": "markdown",
   "metadata": {},
   "source": [
    "We now have better structure, but we are still lacking the colour to descriminate between the positive and negative reviews."
   ]
  },
  {
   "cell_type": "code",
   "execution_count": null,
   "metadata": {},
   "outputs": [],
   "source": [
    "#Create the CSS for the positive and negative labels\n",
    "css = HTML(\"\"\"\n",
    "<style>\n",
    ".positive {\n",
    "    ;\n",
    "}\n",
    ".negative {\n",
    "    ;\n",
    "}\n",
    "</style>\n",
    "\"\"\")\n",
    "\n",
    "#Display the HTML\n",
    "display(css,structReviewsHtml)"
   ]
  },
  {
   "cell_type": "markdown",
   "metadata": {},
   "source": [
    "Before creating the chart, we need to get a count of the positive reviews and the negative reviews. We can do this by getting a list of each type (which could be useful separate datasets) and counting how many are in each list."
   ]
  },
  {
   "cell_type": "code",
   "execution_count": null,
   "metadata": {},
   "outputs": [],
   "source": [
    "#Count the positives and negatives\n",
    "posList = list(filter(lambda review: review.label=='', structuredReviews))\n",
    "negList = list(filter(lambda review: review.label=='', structuredReviews))\n",
    "posCount = len(posList)\n",
    "negCount = len(negList)\n",
    "print(\"Number of positive reviews: \",posCount)\n",
    "print(\"Number of negative reviews: \",negCount)"
   ]
  },
  {
   "cell_type": "code",
   "execution_count": null,
   "metadata": {},
   "outputs": [],
   "source": [
    "#Import the plotting library\n",
    "import matplotlib.pyplot as plt\n",
    "\n",
    "#Setup the data\n",
    "y = [posCount,negCount]\n",
    "x = ['','']\n",
    "colours = ['','']\n",
    "#Plot the data\n",
    "plt.bar(x,y, color=colours)\n",
    "\n",
    "#Lable the chart\n",
    "plt.ylabel('')\n",
    "plt.xlabel('')\n",
    "plt.title('')"
   ]
  }
 ],
 "metadata": {
  "hide_input": false,
  "kernelspec": {
   "display_name": "Python 3",
   "language": "python",
   "name": "python3"
  },
  "language_info": {
   "codemirror_mode": {
    "name": "ipython",
    "version": 3
   },
   "file_extension": ".py",
   "mimetype": "text/x-python",
   "name": "python",
   "nbconvert_exporter": "python",
   "pygments_lexer": "ipython3",
   "version": "3.6.7"
  }
 },
 "nbformat": 4,
 "nbformat_minor": 2
}
