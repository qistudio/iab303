{
 "cells": [
  {
   "cell_type": "markdown",
   "metadata": {},
   "source": [
    "## PRACTICAL :: Social Media Analysis\n"
   ]
  },
  {
   "cell_type": "markdown",
   "metadata": {},
   "source": [
    "Black Panther was an exceptionally successful movie by hitting 1 billion USD at Global Box Office. This movie had one of the greatest online engagement in Twitter's history, more than 5 million tweets within a month.\n",
    "\n",
    "How did you feel about the movie? Did you share your thoughts on social media? How can we understand sentiments behind those thoughts?\n",
    "\n",
    "1. Connect to Twitter API and extract tweets\n",
    "2. Basic sentiment analysis\n",
    "3. Basic visualisation"
   ]
  },
  {
   "cell_type": "markdown",
   "metadata": {},
   "source": [
    "## Connect to Twitter API and extract tweets\n",
    "\n",
    "1. How can we connect to Twitter API?\n",
    "2. How can we extract tweets of a particular hashtag?\n",
    "3. What is the structure of a tweet?\n",
    "4. How can we extract more information about a tweet?"
   ]
  },
  {
   "cell_type": "markdown",
   "metadata": {},
   "source": [
    "tweepy is a python library which we can use to connect to Twitter and extract tweets. Store Twitter application's credentials in variables. Write a function to connect to Twitter API."
   ]
  },
  {
   "cell_type": "code",
   "execution_count": 1,
   "metadata": {},
   "outputs": [],
   "source": [
    "# import required libraries\n",
    "import tweepy           # To access and consume Twitter's API\n",
    "import pandas as pd     # To handle data\n",
    "import numpy as np      # For number computing\n",
    "\n",
    "# Twitter App access keys\n",
    "\n",
    "# Consume:\n",
    "CONSUMER_KEY    = '???'\n",
    "CONSUMER_SECRET = '???'\n",
    "\n",
    "# Access:\n",
    "ACCESS_TOKEN  = '???'\n",
    "ACCESS_SECRET = '???'\n",
    "\n",
    "# API's setup:\n",
    "def connectToTwitterAPI():\n",
    "    \"\"\"\n",
    "    Utility function to setup the Twitter's API\n",
    "    with access keys.\n",
    "    \"\"\"\n",
    "    # Authentication and access using keys\n",
    "    auth = tweepy.OAuthHandler(CONSUMER_KEY, CONSUMER_SECRET)\n",
    "    auth.set_access_token(ACCESS_TOKEN, ACCESS_SECRET)\n",
    "\n",
    "    # Return API with authentication\n",
    "    api = tweepy.API(auth)\n",
    "    return api"
   ]
  },
  {
   "cell_type": "markdown",
   "metadata": {},
   "source": [
    "Call the function and connect to Twitter API. Extract Tweets using a search term. In this example we use a hashtag to search for specific tweets."
   ]
  },
  {
   "cell_type": "code",
   "execution_count": 10,
   "metadata": {},
   "outputs": [
    {
     "name": "stdout",
     "output_type": "stream",
     "text": [
      "Number of tweets extracted: 46.\n",
      "\n"
     ]
    }
   ],
   "source": [
    "# Create an extractor object\n",
    "extractor = connectToTwitterAPI()\n",
    "\n",
    "# Specify search criteria and extract tweets into a list\n",
    "tweets = extractor.search(q=???, lang = \"en\", count=???)\n",
    "\n",
    "# Print the total number of extracted tweets\n",
    "print(\"Number of tweets extracted: {}.\\n\".format(len(???)))"
   ]
  },
  {
   "cell_type": "markdown",
   "metadata": {},
   "source": [
    "Print the most recent 5 tweets and observe the nature of extracted tweets."
   ]
  },
  {
   "cell_type": "code",
   "execution_count": null,
   "metadata": {
    "scrolled": true
   },
   "outputs": [],
   "source": [
    "# Print the most recent 5 tweets:\n",
    "print(\"5 recent tweets:\\n\")\n",
    "for tweet in tweets[:???]:\n",
    "    print(tweet.text)\n",
    "    print()"
   ]
  },
  {
   "cell_type": "markdown",
   "metadata": {},
   "source": [
    "Data frames are useful to store data in tableau format. Create a data frame and store relavant data from each tweet. Display the first 10 tweets stored in the data frame in table format."
   ]
  },
  {
   "cell_type": "code",
   "execution_count": 13,
   "metadata": {},
   "outputs": [
    {
     "data": {
      "text/html": [
       "<div>\n",
       "<style scoped>\n",
       "    .dataframe tbody tr th:only-of-type {\n",
       "        vertical-align: middle;\n",
       "    }\n",
       "\n",
       "    .dataframe tbody tr th {\n",
       "        vertical-align: top;\n",
       "    }\n",
       "\n",
       "    .dataframe thead th {\n",
       "        text-align: right;\n",
       "    }\n",
       "</style>\n",
       "<table border=\"1\" class=\"dataframe\">\n",
       "  <thead>\n",
       "    <tr style=\"text-align: right;\">\n",
       "      <th></th>\n",
       "      <th>Tweets</th>\n",
       "      <th>len</th>\n",
       "      <th>ID</th>\n",
       "      <th>Date</th>\n",
       "      <th>Source</th>\n",
       "      <th>Likes</th>\n",
       "      <th>RTs</th>\n",
       "    </tr>\n",
       "  </thead>\n",
       "  <tbody>\n",
       "    <tr>\n",
       "      <th>0</th>\n",
       "      <td>RT @GunnerBallZ: Black Panther &amp;amp; The Hulk ...</td>\n",
       "      <td>144</td>\n",
       "      <td>1106877468827246592</td>\n",
       "      <td>2019-03-16 11:18:48</td>\n",
       "      <td>Twitter for iPhone</td>\n",
       "      <td>0</td>\n",
       "      <td>6</td>\n",
       "    </tr>\n",
       "    <tr>\n",
       "      <th>1</th>\n",
       "      <td>RT @GunnerBallZ: Black Panther &amp;amp; The Hulk ...</td>\n",
       "      <td>144</td>\n",
       "      <td>1106877438854746118</td>\n",
       "      <td>2019-03-16 11:18:40</td>\n",
       "      <td>Twitter for Android</td>\n",
       "      <td>0</td>\n",
       "      <td>6</td>\n",
       "    </tr>\n",
       "    <tr>\n",
       "      <th>2</th>\n",
       "      <td>RT @GunnerBallZ: Black Panther &amp;amp; The Hulk ...</td>\n",
       "      <td>144</td>\n",
       "      <td>1106877205743890433</td>\n",
       "      <td>2019-03-16 11:17:45</td>\n",
       "      <td>Twitter for Android</td>\n",
       "      <td>0</td>\n",
       "      <td>6</td>\n",
       "    </tr>\n",
       "    <tr>\n",
       "      <th>3</th>\n",
       "      <td>RT @THR: Fun fact: When @Winston_Duke arrived ...</td>\n",
       "      <td>140</td>\n",
       "      <td>1106877195622977536</td>\n",
       "      <td>2019-03-16 11:17:42</td>\n",
       "      <td>Twitter for iPhone</td>\n",
       "      <td>0</td>\n",
       "      <td>159</td>\n",
       "    </tr>\n",
       "    <tr>\n",
       "      <th>4</th>\n",
       "      <td>RT @GunnerBallZ: Black Panther &amp;amp; The Hulk ...</td>\n",
       "      <td>144</td>\n",
       "      <td>1106876977833664513</td>\n",
       "      <td>2019-03-16 11:16:50</td>\n",
       "      <td>Twitter for iPhone</td>\n",
       "      <td>0</td>\n",
       "      <td>6</td>\n",
       "    </tr>\n",
       "    <tr>\n",
       "      <th>5</th>\n",
       "      <td>RT @GunnerBallZ: Black Panther &amp;amp; The Hulk ...</td>\n",
       "      <td>144</td>\n",
       "      <td>1106876904362201089</td>\n",
       "      <td>2019-03-16 11:16:33</td>\n",
       "      <td>Twitter for iPhone</td>\n",
       "      <td>0</td>\n",
       "      <td>6</td>\n",
       "    </tr>\n",
       "    <tr>\n",
       "      <th>6</th>\n",
       "      <td>Black Panther &amp;amp; The Hulk will be absolutel...</td>\n",
       "      <td>139</td>\n",
       "      <td>1106876535791906818</td>\n",
       "      <td>2019-03-16 11:15:05</td>\n",
       "      <td>Twitter for iPad</td>\n",
       "      <td>8</td>\n",
       "      <td>6</td>\n",
       "    </tr>\n",
       "    <tr>\n",
       "      <th>7</th>\n",
       "      <td>RT @THR: Trolls have tried to sabotage #BlackP...</td>\n",
       "      <td>139</td>\n",
       "      <td>1106876157507657729</td>\n",
       "      <td>2019-03-16 11:13:35</td>\n",
       "      <td>Twitter Web App</td>\n",
       "      <td>0</td>\n",
       "      <td>51</td>\n",
       "    </tr>\n",
       "    <tr>\n",
       "      <th>8</th>\n",
       "      <td>RT @THR: Fun fact: When @Winston_Duke arrived ...</td>\n",
       "      <td>140</td>\n",
       "      <td>1106874913321820160</td>\n",
       "      <td>2019-03-16 11:08:38</td>\n",
       "      <td>Twitter for Android</td>\n",
       "      <td>0</td>\n",
       "      <td>159</td>\n",
       "    </tr>\n",
       "    <tr>\n",
       "      <th>9</th>\n",
       "      <td>RT @RossLynch: #BlackPanther is probably my fa...</td>\n",
       "      <td>65</td>\n",
       "      <td>1106874883458457601</td>\n",
       "      <td>2019-03-16 11:08:31</td>\n",
       "      <td>Twitter for Android</td>\n",
       "      <td>0</td>\n",
       "      <td>1356</td>\n",
       "    </tr>\n",
       "  </tbody>\n",
       "</table>\n",
       "</div>"
      ],
      "text/plain": [
       "                                              Tweets  len  \\\n",
       "0  RT @GunnerBallZ: Black Panther &amp; The Hulk ...  144   \n",
       "1  RT @GunnerBallZ: Black Panther &amp; The Hulk ...  144   \n",
       "2  RT @GunnerBallZ: Black Panther &amp; The Hulk ...  144   \n",
       "3  RT @THR: Fun fact: When @Winston_Duke arrived ...  140   \n",
       "4  RT @GunnerBallZ: Black Panther &amp; The Hulk ...  144   \n",
       "5  RT @GunnerBallZ: Black Panther &amp; The Hulk ...  144   \n",
       "6  Black Panther &amp; The Hulk will be absolutel...  139   \n",
       "7  RT @THR: Trolls have tried to sabotage #BlackP...  139   \n",
       "8  RT @THR: Fun fact: When @Winston_Duke arrived ...  140   \n",
       "9  RT @RossLynch: #BlackPanther is probably my fa...   65   \n",
       "\n",
       "                    ID                Date               Source  Likes   RTs  \n",
       "0  1106877468827246592 2019-03-16 11:18:48   Twitter for iPhone      0     6  \n",
       "1  1106877438854746118 2019-03-16 11:18:40  Twitter for Android      0     6  \n",
       "2  1106877205743890433 2019-03-16 11:17:45  Twitter for Android      0     6  \n",
       "3  1106877195622977536 2019-03-16 11:17:42   Twitter for iPhone      0   159  \n",
       "4  1106876977833664513 2019-03-16 11:16:50   Twitter for iPhone      0     6  \n",
       "5  1106876904362201089 2019-03-16 11:16:33   Twitter for iPhone      0     6  \n",
       "6  1106876535791906818 2019-03-16 11:15:05     Twitter for iPad      8     6  \n",
       "7  1106876157507657729 2019-03-16 11:13:35      Twitter Web App      0    51  \n",
       "8  1106874913321820160 2019-03-16 11:08:38  Twitter for Android      0   159  \n",
       "9  1106874883458457601 2019-03-16 11:08:31  Twitter for Android      0  1356  "
      ]
     },
     "metadata": {},
     "output_type": "display_data"
    }
   ],
   "source": [
    "# Create a pandas dataframe\n",
    "data = pd.DataFrame(data=[tweet.text for tweet in tweets], columns=['Tweets'])\n",
    "\n",
    "# Add relavant data from each tweet\n",
    "data['len']  = np.array([len(tweet.text) for tweet in tweets]) #textual content legnth\n",
    "data['ID']   = np.array([tweet.id for tweet in tweets])\n",
    "data['Date'] = np.array([tweet.created_at for tweet in tweets])\n",
    "data['Source'] = np.array([tweet.source for tweet in tweets])\n",
    "data['Likes']  = np.array([tweet.favorite_count for tweet in tweets]) #likes counts\n",
    "data['RTs']    = np.array([tweet.retweet_count for tweet in tweets]) #retweets count\n",
    "\n",
    "# Display the first 10 elements of the dataframe\n",
    "display(data.head(10))"
   ]
  },
  {
   "cell_type": "markdown",
   "metadata": {},
   "source": [
    "Extract the most liked tweet and the most retweeted tweet."
   ]
  },
  {
   "cell_type": "code",
   "execution_count": 14,
   "metadata": {},
   "outputs": [
    {
     "name": "stdout",
     "output_type": "stream",
     "text": [
      "The tweet with more likes is: \n",
      "Black Panther &amp; The Hulk will be absolutely vital in Arsenal’s Endgame this season. 🙅🏾‍♂️🧤 #arsenal #kolasinac… https://t.co/u0WfMJRYOf\n",
      "Number of likes: 8\n",
      "The tweet with more retweets is: \n",
      "RT @seadk6: 💥💥 Get in! Big effort on both ends of the pitch tonight, quarter-finals here we are! 👊🏼 #BlackPanther aka @Aubameyang7 is there…\n",
      "Number of retweets: 2897\n"
     ]
    }
   ],
   "source": [
    " # Extract the tweet with the highest number of likes and retweets\n",
    "\n",
    "maxLikes = np.max(data[???])\n",
    "maxRetweets  = np.max(data[???])\n",
    "\n",
    "fav = data[data.Likes == maxLikes].index[0]\n",
    "rt  = data[data.RTs == maxRetweets].index[0]\n",
    "\n",
    "# Max FAVs:\n",
    "print(\"The tweet with more likes is: \\n{}\".format(data['Tweets'][???]))\n",
    "print(\"Number of likes: {}\".format(maxLikes))\n",
    "\n",
    "# Max RTs:\n",
    "print(\"The tweet with more retweets is: \\n{}\".format(data['Tweets'][???]))\n",
    "print(\"Number of retweets: {}\".format(maxRetweets))"
   ]
  },
  {
   "cell_type": "markdown",
   "metadata": {},
   "source": [
    "## Basic Sentiment Analysis\n",
    "\n",
    "1. Use Textblob python library to classify polarity of a tweet\n",
    "2. Compute the sentiment for each tweet\n"
   ]
  },
  {
   "cell_type": "markdown",
   "metadata": {},
   "source": [
    "We can determine whether a tweet is positive, negative or neutral using sentiment analysis. Textblob library provides a simple API to support sentiment analysis. It has an already trained analyzer to classify the polarity of a given text. We define two functions in the following code. One to pre-process and clean the tweet content and the other to compute the sentiment associated with each tweet."
   ]
  },
  {
   "cell_type": "code",
   "execution_count": 16,
   "metadata": {},
   "outputs": [],
   "source": [
    "from textblob import TextBlob\n",
    "import re\n",
    "\n",
    "def cleanTweet(tweet):\n",
    "    '''\n",
    "    Utility function to clean the text in a tweet by removing \n",
    "    links and special characters using regex.\n",
    "    '''\n",
    "    return ' '.join(re.sub(\"(@[A-Za-z0-9]+)|([^0-9A-Za-z \\t])|(\\w+:\\/\\/\\S+)\", \" \", tweet).split())\n",
    "\n",
    "def analyseSentiment(tweet):\n",
    "    '''\n",
    "    Utility function to classify the polarity of a tweet\n",
    "    using textblob.\n",
    "    '''\n",
    "    analysis = TextBlob(cleanTweet(tweet))\n",
    "    if analysis.sentiment.polarity > 0:\n",
    "        return 1\n",
    "    elif analysis.sentiment.polarity == 0:\n",
    "        return 0\n",
    "    else:\n",
    "        return -1"
   ]
  },
  {
   "cell_type": "markdown",
   "metadata": {},
   "source": [
    "Compute sentiment for each tweet and add it to the data frame we created previously."
   ]
  },
  {
   "cell_type": "code",
   "execution_count": 17,
   "metadata": {},
   "outputs": [
    {
     "data": {
      "text/html": [
       "<div>\n",
       "<style scoped>\n",
       "    .dataframe tbody tr th:only-of-type {\n",
       "        vertical-align: middle;\n",
       "    }\n",
       "\n",
       "    .dataframe tbody tr th {\n",
       "        vertical-align: top;\n",
       "    }\n",
       "\n",
       "    .dataframe thead th {\n",
       "        text-align: right;\n",
       "    }\n",
       "</style>\n",
       "<table border=\"1\" class=\"dataframe\">\n",
       "  <thead>\n",
       "    <tr style=\"text-align: right;\">\n",
       "      <th></th>\n",
       "      <th>Tweets</th>\n",
       "      <th>len</th>\n",
       "      <th>ID</th>\n",
       "      <th>Date</th>\n",
       "      <th>Source</th>\n",
       "      <th>Likes</th>\n",
       "      <th>RTs</th>\n",
       "      <th>Sentiment</th>\n",
       "    </tr>\n",
       "  </thead>\n",
       "  <tbody>\n",
       "    <tr>\n",
       "      <th>0</th>\n",
       "      <td>RT @GunnerBallZ: Black Panther &amp;amp; The Hulk ...</td>\n",
       "      <td>144</td>\n",
       "      <td>1106877468827246592</td>\n",
       "      <td>2019-03-16 11:18:48</td>\n",
       "      <td>Twitter for iPhone</td>\n",
       "      <td>0</td>\n",
       "      <td>6</td>\n",
       "      <td>-1</td>\n",
       "    </tr>\n",
       "    <tr>\n",
       "      <th>1</th>\n",
       "      <td>RT @GunnerBallZ: Black Panther &amp;amp; The Hulk ...</td>\n",
       "      <td>144</td>\n",
       "      <td>1106877438854746118</td>\n",
       "      <td>2019-03-16 11:18:40</td>\n",
       "      <td>Twitter for Android</td>\n",
       "      <td>0</td>\n",
       "      <td>6</td>\n",
       "      <td>-1</td>\n",
       "    </tr>\n",
       "    <tr>\n",
       "      <th>2</th>\n",
       "      <td>RT @GunnerBallZ: Black Panther &amp;amp; The Hulk ...</td>\n",
       "      <td>144</td>\n",
       "      <td>1106877205743890433</td>\n",
       "      <td>2019-03-16 11:17:45</td>\n",
       "      <td>Twitter for Android</td>\n",
       "      <td>0</td>\n",
       "      <td>6</td>\n",
       "      <td>-1</td>\n",
       "    </tr>\n",
       "    <tr>\n",
       "      <th>3</th>\n",
       "      <td>RT @THR: Fun fact: When @Winston_Duke arrived ...</td>\n",
       "      <td>140</td>\n",
       "      <td>1106877195622977536</td>\n",
       "      <td>2019-03-16 11:17:42</td>\n",
       "      <td>Twitter for iPhone</td>\n",
       "      <td>0</td>\n",
       "      <td>159</td>\n",
       "      <td>1</td>\n",
       "    </tr>\n",
       "    <tr>\n",
       "      <th>4</th>\n",
       "      <td>RT @GunnerBallZ: Black Panther &amp;amp; The Hulk ...</td>\n",
       "      <td>144</td>\n",
       "      <td>1106876977833664513</td>\n",
       "      <td>2019-03-16 11:16:50</td>\n",
       "      <td>Twitter for iPhone</td>\n",
       "      <td>0</td>\n",
       "      <td>6</td>\n",
       "      <td>-1</td>\n",
       "    </tr>\n",
       "    <tr>\n",
       "      <th>5</th>\n",
       "      <td>RT @GunnerBallZ: Black Panther &amp;amp; The Hulk ...</td>\n",
       "      <td>144</td>\n",
       "      <td>1106876904362201089</td>\n",
       "      <td>2019-03-16 11:16:33</td>\n",
       "      <td>Twitter for iPhone</td>\n",
       "      <td>0</td>\n",
       "      <td>6</td>\n",
       "      <td>-1</td>\n",
       "    </tr>\n",
       "    <tr>\n",
       "      <th>6</th>\n",
       "      <td>Black Panther &amp;amp; The Hulk will be absolutel...</td>\n",
       "      <td>139</td>\n",
       "      <td>1106876535791906818</td>\n",
       "      <td>2019-03-16 11:15:05</td>\n",
       "      <td>Twitter for iPad</td>\n",
       "      <td>8</td>\n",
       "      <td>6</td>\n",
       "      <td>-1</td>\n",
       "    </tr>\n",
       "    <tr>\n",
       "      <th>7</th>\n",
       "      <td>RT @THR: Trolls have tried to sabotage #BlackP...</td>\n",
       "      <td>139</td>\n",
       "      <td>1106876157507657729</td>\n",
       "      <td>2019-03-16 11:13:35</td>\n",
       "      <td>Twitter Web App</td>\n",
       "      <td>0</td>\n",
       "      <td>51</td>\n",
       "      <td>0</td>\n",
       "    </tr>\n",
       "    <tr>\n",
       "      <th>8</th>\n",
       "      <td>RT @THR: Fun fact: When @Winston_Duke arrived ...</td>\n",
       "      <td>140</td>\n",
       "      <td>1106874913321820160</td>\n",
       "      <td>2019-03-16 11:08:38</td>\n",
       "      <td>Twitter for Android</td>\n",
       "      <td>0</td>\n",
       "      <td>159</td>\n",
       "      <td>1</td>\n",
       "    </tr>\n",
       "    <tr>\n",
       "      <th>9</th>\n",
       "      <td>RT @RossLynch: #BlackPanther is probably my fa...</td>\n",
       "      <td>65</td>\n",
       "      <td>1106874883458457601</td>\n",
       "      <td>2019-03-16 11:08:31</td>\n",
       "      <td>Twitter for Android</td>\n",
       "      <td>0</td>\n",
       "      <td>1356</td>\n",
       "      <td>1</td>\n",
       "    </tr>\n",
       "  </tbody>\n",
       "</table>\n",
       "</div>"
      ],
      "text/plain": [
       "                                              Tweets  len  \\\n",
       "0  RT @GunnerBallZ: Black Panther &amp; The Hulk ...  144   \n",
       "1  RT @GunnerBallZ: Black Panther &amp; The Hulk ...  144   \n",
       "2  RT @GunnerBallZ: Black Panther &amp; The Hulk ...  144   \n",
       "3  RT @THR: Fun fact: When @Winston_Duke arrived ...  140   \n",
       "4  RT @GunnerBallZ: Black Panther &amp; The Hulk ...  144   \n",
       "5  RT @GunnerBallZ: Black Panther &amp; The Hulk ...  144   \n",
       "6  Black Panther &amp; The Hulk will be absolutel...  139   \n",
       "7  RT @THR: Trolls have tried to sabotage #BlackP...  139   \n",
       "8  RT @THR: Fun fact: When @Winston_Duke arrived ...  140   \n",
       "9  RT @RossLynch: #BlackPanther is probably my fa...   65   \n",
       "\n",
       "                    ID                Date               Source  Likes   RTs  \\\n",
       "0  1106877468827246592 2019-03-16 11:18:48   Twitter for iPhone      0     6   \n",
       "1  1106877438854746118 2019-03-16 11:18:40  Twitter for Android      0     6   \n",
       "2  1106877205743890433 2019-03-16 11:17:45  Twitter for Android      0     6   \n",
       "3  1106877195622977536 2019-03-16 11:17:42   Twitter for iPhone      0   159   \n",
       "4  1106876977833664513 2019-03-16 11:16:50   Twitter for iPhone      0     6   \n",
       "5  1106876904362201089 2019-03-16 11:16:33   Twitter for iPhone      0     6   \n",
       "6  1106876535791906818 2019-03-16 11:15:05     Twitter for iPad      8     6   \n",
       "7  1106876157507657729 2019-03-16 11:13:35      Twitter Web App      0    51   \n",
       "8  1106874913321820160 2019-03-16 11:08:38  Twitter for Android      0   159   \n",
       "9  1106874883458457601 2019-03-16 11:08:31  Twitter for Android      0  1356   \n",
       "\n",
       "   Sentiment  \n",
       "0         -1  \n",
       "1         -1  \n",
       "2         -1  \n",
       "3          1  \n",
       "4         -1  \n",
       "5         -1  \n",
       "6         -1  \n",
       "7          0  \n",
       "8          1  \n",
       "9          1  "
      ]
     },
     "metadata": {},
     "output_type": "display_data"
    }
   ],
   "source": [
    "# Compute sentiment for each tweet and add the result into a new column\n",
    "data['Sentiment'] = np.array([ analyseSentiment(tweet) for tweet in data['Tweets'] ])\n",
    "\n",
    "# Display the first 10 elements of the dataframe\n",
    "display(data.head(10))"
   ]
  },
  {
   "cell_type": "markdown",
   "metadata": {},
   "source": [
    "## Basic Visualization\n",
    "\n",
    "1. Calculate percentages of positive, neutral and negative tweets\n",
    "2. Plot percentages in a pie chart"
   ]
  },
  {
   "cell_type": "code",
   "execution_count": 19,
   "metadata": {
    "scrolled": false
   },
   "outputs": [
    {
     "name": "stdout",
     "output_type": "stream",
     "text": [
      "Percentage of positive tweets: 58.69565217391305%\n",
      "Percentage of neutral tweets: 21.73913043478261%\n",
      "Percentage de negative tweets: 19.565217391304348%\n"
     ]
    }
   ],
   "source": [
    "# Construct lists with classified tweets\n",
    "\n",
    "positiveTweets = [ tweet for index, tweet in enumerate(data['Tweets']) if data[???][index] > 0]\n",
    "neutralTweets = [ tweet for index, tweet in enumerate(data['Tweets']) if data[???][index] == 0]\n",
    "negativeTweets = [ tweet for index, tweet in enumerate(data['Tweets']) if data[???][index] < 0]\n",
    "\n",
    "# Calculate percentages\n",
    "\n",
    "positivePercent = len(positiveTweets)*100/len(data['Tweets'])\n",
    "neutralPercent = len(neutralTweets)*100/len(data['Tweets'])\n",
    "negativePercent = len(negativeTweets)*100/len(data['Tweets'])\n",
    "\n",
    "# Print percentages\n",
    "\n",
    "print(\"Percentage of positive tweets: {}%\".format(positivePercent))\n",
    "print(\"Percentage of neutral tweets: {}%\".format(neutralPercent))\n",
    "print(\"Percentage de negative tweets: {}%\".format(negativePercent))"
   ]
  },
  {
   "cell_type": "markdown",
   "metadata": {},
   "source": [
    "Plot sentiment percentages in a pie chart"
   ]
  },
  {
   "cell_type": "code",
   "execution_count": 20,
   "metadata": {
    "scrolled": true
   },
   "outputs": [
    {
     "data": {
      "image/png": "[encoded data removed]",
      "text/plain": [
       "<Figure size 432x288 with 1 Axes>"
      ]
     },
     "metadata": {},
     "output_type": "display_data"
    }
   ],
   "source": [
    "# For plotting and visualization\n",
    "from IPython.display import display\n",
    "import matplotlib.pyplot as plt\n",
    "import seaborn as sns\n",
    "%matplotlib inline\n",
    "\n",
    "labels = ['Positive', 'Neutral', 'Negative']\n",
    "sizes = [???, ???, ???]\n",
    "\n",
    "# Set different colors\n",
    "colors = ['green', 'grey', 'red']\n",
    "\n",
    "plt.pie(sizes, labels=labels, colors=colors, autopct='%1.1f%%', startangle=140)\n",
    "plt.axis('equal')\n",
    "plt.show()"
   ]
  },
  {
   "cell_type": "markdown",
   "metadata": {},
   "source": [
    "## Challenge Scenario"
   ]
  },
  {
   "cell_type": "markdown",
   "metadata": {},
   "source": [
    "Here's a challenge for those who are interested in further analysis.\n",
    "\n",
    "\"Warner Bros. Movie World Gold Coast Theme Park is considering to introduce Marvel heroes apart from their existing DC heroes like Superman, Batman, and Wonder Woman. They plan to start from Black Panther super heroes as the movie was an exceptional success. What characters would you recommend from the Black Panther movie?\""
   ]
  },
  {
   "cell_type": "code",
   "execution_count": null,
   "metadata": {},
   "outputs": [],
   "source": []
  }
 ],
 "metadata": {
  "hide_input": false,
  "kernelspec": {
   "display_name": "Python 3",
   "language": "python",
   "name": "python3"
  },
  "language_info": {
   "codemirror_mode": {
    "name": "ipython",
    "version": 3
   },
   "file_extension": ".py",
   "mimetype": "text/x-python",
   "name": "python",
   "nbconvert_exporter": "python",
   "pygments_lexer": "ipython3",
   "version": "3.5.2"
  }
 },
 "nbformat": 4,
 "nbformat_minor": 2
}
