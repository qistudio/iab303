{
 "cells": [
  {
   "cell_type": "markdown",
   "metadata": {},
   "source": [
    "<div class=\"alert alert-block alert-info\"><b>IAB303</b> - Data Analytics for Business Insight</div>"
   ]
  },
  {
   "cell_type": "markdown",
   "metadata": {},
   "source": [
    "## LAB SESSION :: Introducing Jupyter notebook\n",
    "\n",
    "You've made it to this point, so you know how to:\n",
    "1. Sync files to your Jupyter server\n",
    "2. Launch a notebook from the Jupyter `files` page. \n",
    "\n",
    "Now it's time to take a look at how these notebooks are created. \n",
    "\n",
    "Notebooks have 2 main types of cells - `Markdown` cells for displaying content like a web page, and `Code` cells for running code (in our case Python code) and displaying the results. In this practical session we will explore both of these types of cells and how they work together for a complete analytics process.\n",
    "\n",
    "This PRAC includes 3 groups of tasks:\n",
    "1. Basic Markdown\n",
    "2. Basic Python\n",
    "3. Overview of analytics process\n",
    "\n",
    "Before moving on to the tasks, familiarise yourself with the menus above, and in particular the keyboard short cuts (click the keyboard icon) for `run cell and insert below`, `run cell and select next`, changing between `command` and `edit` modes, and changing between `Code` and `Markdown` cell types.\n",
    "\n",
    "---"
   ]
  },
  {
   "cell_type": "markdown",
   "metadata": {},
   "source": [
    "## [1] Basic Markdown\n",
    "\n",
    "Open this [link on markdown cells](http://nbviewer.jupyter.org/github/ipython/ipython/blob/3.x/examples/Notebook/Working%20With%20Markdown%20Cells.ipynb) in a new tab or window, and read what is possible to do in a markdown cell. Click the `</>` symbol on the top right of the page to view the markdown code that is used to create the markdown.\n",
    "\n",
    "Try creating the following markdown elements. Create a new markdown cell for each element:\n",
    "1. Headings - 3 different levels. Then give each subsequent element a heading\n",
    "2. Plain text, italics and bold text, and a horizontal line. Then put a line between each element.\n",
    "3. A numbered list of your 3 favourite bands/musicians, with sublists of a couple of their albums \n",
    "4. A bulleted list of your 3 favourite movies, with sublists of characters in each.\n",
    "5. A table with your movies above, your favourite character and the actor who plays the character.\n",
    "6. A quote from a web page, and a link to the original webpage\n",
    "7. A code block that demonstrates printing your name\n",
    "8. An inline maths equation for a quadratic equation - f of x equals ax squared plus bx plus c (between some text)\n",
    "\n",
    "---"
   ]
  },
  {
   "cell_type": "markdown",
   "metadata": {},
   "source": [
    "Add your Markdown here."
   ]
  },
  {
   "cell_type": "markdown",
   "metadata": {},
   "source": [
    "## [2] Basic Python\n",
    "\n",
    "Open this [link on introductory Python](https://docs.python.org/3.6/tutorial/introduction.html) in a new tab or window, and read about some basic Python.\n",
    "\n",
    "Try running Python code for the following tasks. Create a new `Code` cell for each task. \n",
    "\n",
    "1. Code comments. Include one at the start of the cell and another beside `answer = 42` that tells the reader that it is the answer to life, the universe and everything.\n",
    "2. Calculate the number hours in a week. Assign this to a variable `hoursInWeek`, and then calculate the number of hours in a 13 week semester. Comment what you are doing.\n",
    "3. Create a 2 line string using newline and print it out.\n",
    "4. Create a 3 line string using triple quotes and print it out.\n",
    "5. Print out `Data Analytics for Business Insight` concatenated from 4 parts.\n",
    "6. Assign `IAB303 Data Analytics for Business Insight` to a variable `unit` and then extract the unit code separated to the unit name and print them out as `Data Analytics for Business Insight (IAB303)`.\n",
    "7. Check that the unit code is 6 characters long.\n",
    "8. Add your movies from the markdown task to a list, then use a while loop to print each element of the list out on a separate line."
   ]
  },
  {
   "cell_type": "code",
   "execution_count": null,
   "metadata": {},
   "outputs": [],
   "source": [
    "#Write your code here"
   ]
  },
  {
   "cell_type": "markdown",
   "metadata": {},
   "source": [
    "## [3] Overview of analytics process\n",
    "\n",
    "> **CONCERN:** The business is looking to launch an agricultural product in either Australia or New Zealand. However, management is unsure which country to start with.\n",
    "\n",
    "Complete each of the following steps to get an overview of the analytics process.\n",
    "1. Load data\n",
    "2. Clean/preprocess data\n",
    "3. Perform analysis\n",
    "4. Visualise analytics\n",
    "5. Document analytics"
   ]
  },
  {
   "cell_type": "markdown",
   "metadata": {},
   "source": [
    "### Load data\n",
    "\n",
    "[GapMinder](https://www.gapminder.org/data/) - (based on [uw-madison resource](https://uw-madison-aci.github.io/python-novice-gapminder/39-plotting/))\n",
    "* Agriculture, percent of GDP (`prac1-data1.csv`)"
   ]
  },
  {
   "cell_type": "code",
   "execution_count": null,
   "metadata": {},
   "outputs": [],
   "source": [
    "# Import pandas for dataframes and matplotlib for plotting\n",
    "import matplotlib.pyplot as plt\n",
    "import pandas\n",
    "\n",
    "# Set variables for file and index column\n",
    "file = ??? #see above\n",
    "colname = ??? #open the csv and have a look\n",
    "\n",
    "# Read in the percent of gdp data\n",
    "ag_gdp = pandas.read_csv(file, index_col= colname)\n",
    "print(ag_gdp.shape)\n"
   ]
  },
  {
   "cell_type": "code",
   "execution_count": null,
   "metadata": {},
   "outputs": [],
   "source": [
    "# Take a look at the data\n",
    "???"
   ]
  },
  {
   "cell_type": "markdown",
   "metadata": {},
   "source": [
    "### Clean/pre-process data"
   ]
  },
  {
   "cell_type": "code",
   "execution_count": null,
   "metadata": {},
   "outputs": [],
   "source": [
    "# Take the last 5 years of the GDP data\n",
    "most_recent_five_years = [???,???,???,???,???]\n",
    "ag_gdp_cln = ag_gdp.filter(most_recent_five_years, axis=1)\n",
    "print(ag_gdp_cln.shape)\n",
    "\n",
    "# Just select the countries we are interested in by referencing the index\n",
    "ag_gdp_au = ag_gdp_cln.loc[???]\n",
    "ag_gdp_nz = ag_gdp_cln.loc[???]"
   ]
  },
  {
   "cell_type": "code",
   "execution_count": null,
   "metadata": {},
   "outputs": [],
   "source": [
    "# Take a look at the data for AU\n",
    "ag_gdp_au"
   ]
  },
  {
   "cell_type": "code",
   "execution_count": null,
   "metadata": {},
   "outputs": [],
   "source": [
    "# Take a look at the data for NZ\n",
    "ag_gdp_nz"
   ]
  },
  {
   "cell_type": "markdown",
   "metadata": {},
   "source": [
    "### Perform analysis"
   ]
  },
  {
   "cell_type": "code",
   "execution_count": null,
   "metadata": {},
   "outputs": [],
   "source": [
    "# What is the problem with the NZ data?\n",
    "# What do we need to do?\n",
    "# For now, we don't do any more analysis - we are more interested in the process."
   ]
  },
  {
   "cell_type": "markdown",
   "metadata": {},
   "source": [
    "### Visualise analytics"
   ]
  },
  {
   "cell_type": "code",
   "execution_count": null,
   "metadata": {},
   "outputs": [],
   "source": [
    "# Plot the 2 countries\n",
    "plt.plot(???)\n",
    "plt.plot(???)"
   ]
  },
  {
   "cell_type": "code",
   "execution_count": null,
   "metadata": {},
   "outputs": [],
   "source": [
    "# Add labels and set colours\n",
    "plt.plot(ag_gdp_au,'g-',label=???)\n",
    "plt.plot(ag_gdp_nz,'m-',label=???)\n",
    "\n",
    "# Create legend.\n",
    "plt.legend(loc='upper right')\n",
    "plt.xlabel(???)\n",
    "plt.ylabel(???)"
   ]
  },
  {
   "cell_type": "markdown",
   "metadata": {},
   "source": [
    "### Document analytics\n",
    "\n",
    "1. What is the concern?\n",
    "2. What data did we use?\n",
    "3. How did we analyse it, what decisions and why?\n",
    "4. What do the visualisations tell us?\n",
    "5. What is the recommendation for the concern? What other information would be helpful? What *doesn't* the data tell us? Can we make inferences?"
   ]
  }
 ],
 "metadata": {
  "hide_input": false,
  "kernelspec": {
   "display_name": "Python 3",
   "language": "python",
   "name": "python3"
  },
  "language_info": {
   "codemirror_mode": {
    "name": "ipython",
    "version": 3
   },
   "file_extension": ".py",
   "mimetype": "text/x-python",
   "name": "python",
   "nbconvert_exporter": "python",
   "pygments_lexer": "ipython3",
   "version": "3.6.7"
  }
 },
 "nbformat": 4,
 "nbformat_minor": 2
}
