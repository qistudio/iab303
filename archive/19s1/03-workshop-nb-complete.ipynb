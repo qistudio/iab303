{
 "cells": [
  {
   "cell_type": "markdown",
   "metadata": {
    "slideshow": {
     "slide_type": "skip"
    }
   },
   "source": [
    "<div class=\"alert alert-block alert-info\"><b>IAB303</b> - Data Analytics for Business Insight</div>"
   ]
  },
  {
   "cell_type": "markdown",
   "metadata": {
    "slideshow": {
     "slide_type": "slide"
    }
   },
   "source": [
    "## WORKSHOP :: Open data for business environment assessment\n",
    "\n",
    "* Business as society and environmental embedded organisations\n",
    "    * Society - conditions\n",
    "    * Political environments\n",
    "    * Natural environment\n",
    "       "
   ]
  },
  {
   "cell_type": "markdown",
   "metadata": {
    "slideshow": {
     "slide_type": "slide"
    }
   },
   "source": [
    "### Activity - Exploring Open Data\n",
    "\n",
    "- Scan the website [Open Data as a business tool (World Bank)](http://blogs.worldbank.org/ic4d/open-data-business-tool-learning-initial-pilots)\n",
    "    - What is open data?\n",
    "    - Why is it valuable to business?"
   ]
  },
  {
   "cell_type": "markdown",
   "metadata": {
    "slideshow": {
     "slide_type": "slide"
    }
   },
   "source": [
    "### Recap - The Data Analytics Cycle\n",
    "\n",
    "1. Business Concern\n",
    "2. Data\n",
    "3. Analyse\n",
    "4. Visualise\n",
    "5. Insight in business concern"
   ]
  },
  {
   "cell_type": "markdown",
   "metadata": {
    "slideshow": {
     "slide_type": "slide"
    }
   },
   "source": [
    "### Recap - Wrangling Data\n",
    "\n",
    "*Taming your data so that it easy to work with*\n",
    "\n",
    "- Getting the data into a form that you can analyse\n",
    "- Turning unstructured data into structured data\n",
    "- Visualising the data in a way that makes it easy to interpret\n"
   ]
  },
  {
   "cell_type": "markdown",
   "metadata": {
    "slideshow": {
     "slide_type": "subslide"
    }
   },
   "source": [
    "First we need to load the data from some external source. Last week we read the data from a file."
   ]
  },
  {
   "cell_type": "code",
   "execution_count": 18,
   "metadata": {
    "slideshow": {
     "slide_type": "fragment"
    }
   },
   "outputs": [],
   "source": [
    "# Libraries used by this notebook\n",
    "from urllib import request, response\n",
    "from IPython.core.display import display, HTML\n",
    "from collections import namedtuple\n",
    "import json\n",
    "import re"
   ]
  },
  {
   "cell_type": "code",
   "execution_count": 19,
   "metadata": {
    "slideshow": {
     "slide_type": "fragment"
    }
   },
   "outputs": [],
   "source": [
    "file = open(\"IAB303-notebooks/labs/data/kaggle-amazon_reviews-first50.txt\")\n",
    "rawtext = file.read()\n",
    "file.close()"
   ]
  },
  {
   "cell_type": "code",
   "execution_count": 20,
   "metadata": {
    "slideshow": {
     "slide_type": "subslide"
    }
   },
   "outputs": [
    {
     "data": {
      "text/plain": [
       "'__label__2 Great CD: My lovely Pat has one of the GREAT voices of her generation. I have listened to this CD for YEARS and I still LOVE IT. When I\\'m in a good mood it makes me feel better. A bad mood just evaporates like sugar in the rain. This CD just oozes LIFE. Vocals are jusat STUUNNING and lyrics just kill. One of life\\'s hidden gems. This is a desert isle CD in my book. Why she never made it big is just beyond me. Everytime I play this, no matter black, white, young, old, male, female EVERYBODY says one thing \"Who was that singing ?\"\\n__label__2 One of the best game music soundtracks - for a game I didn\\'t really play: Despite the fact that I have only played a small portion of the game, the music I heard (plus the connection to Chrono Trigger which was great as well) led me to purchase the soundtrack, and it remains one of my favorite albums. There is an incredible mix of fun, epic, and emotional songs. Those sad and beautiful tracks I especially like, as there\\'s not too many of those kinds of songs in my other video game soundtracks. I must admit that one of the songs (Life-A Distant Promise) has brought tears to my eyes on many occasions.My one complaint about this soundtrack is that they use guitar fretting effects in many of the songs, which I find distracting. But even if those weren\\'t included I would still consider the collection worth it.\\n__label__1 Batteries died within a year ...: I bought this charger in Jul 2003 and it worked OK for a while. The design is nice and convenient. However, after about a year, the batteries would not hold a charge. Might as well just get alkaline disposables, or look elsewhere for a charger that comes with batteries that have better staying power.\\n__label__2 works fine, but Maha Energy is better: Check out Maha Energy\\'s website. Their Powerex MH-C204F charger works in 100 minutes for rapid charge, with option for slower charge (better for batteries). And they have 2200 mAh batteries.\\n__label__2 Great for the non-audiophile: Reviewed quite a bit of the combo players and was hesitant due to unfavorable reviews and size of machines. I am weaning off my VHS collection, but don\\'t want to replace them with DVD\\'s. This unit is well built, easy to setup and resolution and special effects (no progressive scan for HDTV owners) suitable for many people looking for a versatile product.Cons- No universal remote.\\n__label__1 DVD Player crapped out after one year: I also began having the incorrect disc problems that I\\'ve read about on here. The VCR still works, but hte DVD side is useless. I understand that DVD players sometimes just quit on you, but after not even one year? To me that\\'s a sign on bad quality. I\\'m giving up JVC after this as well. I\\'m sticking to Sony or giving another brand a shot.\\n__label__1 Incorrect Disc: I love the style of this, but after a couple years, the DVD is giving me problems. It doesn\\'t even work anymore and I use my broken PS2 Now. I wouldn\\'t recommend this, I\\'m just going to upgrade to a recorder now. I wish it would work but I guess i\\'m giving up on JVC. I really did like this one... before it stopped working. The dvd player gave me problems probably after a year of having it.\\n__label__1 DVD menu select problems: I cannot scroll through a DVD menu that is set up vertically. The triangle keys will only select horizontally. So I cannot select anything on most DVD\\'s besides play. No special features, no language select, nothing, just play.\\n__label__2 Unique Weird Orientalia from the 1930\\'s: Exotic tales of the Orient from the 1930\\'s. \"Dr Shen Fu\", a Weird Tales magazine reprint, is about the elixir of life that grants immortality at a price. If you\\'re tired of modern authors who all sound alike, this is the antidote for you. Owen\\'s palette is loaded with splashes of Chinese and Japanese colours. Marvelous.\\n__label__1 Not an \"ultimate guide\": Firstly,I enjoyed the format and tone of the book (how the author addressed the reader). However, I did not feel that she imparted any insider secrets that the book promised to reveal. If you are just starting to research law school, and do not know all the requirements of admission, then this book may be a tremendous help. If you have done your homework and are looking for an edge when it comes to admissions, I recommend some more topic-specific books. For example, books on how to write your personal statment, books geared specifically towards LSAT preparation (Powerscore books were the most helpful for me), and there are some websites with great advice geared towards aiding the individuals whom you are asking to write letters of recommendation. Yet, for those new to the entire affair, this book can definitely clarify the requirements for you.\\n__label__2 Great book for travelling Europe: I currently live in Europe, and this is the book I recommend for my visitors. It covers many countries, colour pictures, and is a nice starter for before you go, and once you are there.\\n__label__1 Not!: If you want to listen to El Duke , then it is better if you have access to his shower,this is not him, it is a gimmick,very well orchestrated.\\n__label__1 A complete Bust: This game requires quicktime 5.0 to work...if you have a better version of quicktime (I have 7.5), it will ask you to install the quicktime available on the CD...if you click no, it will not let you play. So, I begrudgingly clicked yes on the third try, and it installed quicktime 5, THEN it tells me to please install the quicktime available on the disc. It KEPT telling me that, even after I uninstalled my version of quicktime 7.5, and reinstalled Barbie Rapunzel and quicktime 5. Very frustrating, and the game absolutely will not work for me. It keeps telling me over and over, to install quicktime 5, tho I\\'ve been through the installation process repeatedly. It is NOT my \"operating system limitations\". This is a brand new computer...merely weeks old with all the state of the art contraptions.\\n__label__2 TRULY MADE A DIFFERENCE!: I have been using this product for a couple years now. I started using it because my hair had gotten so dry from all the chemical treatments and relaxers. This actualy came in the relaxer kit. I tried it and could not beleive the difference it made with one use. I could not find it in any of the stores at the time so I searched Amazon and they had it. I absolutely love it. It is the best moisturizing product I have used so far. My hair is soft with good elasticity and it is not breaking anywhere close to what it was. I am very happy with it.\\n__label__1 didn\\'t run off of USB bus power: Was hoping that this drive would run off of bus power, but it required the adapter to actually work. :( I sent it back.\\n__label__1 Don\\'t buy!: First of all, the company took my money and sent me an email telling me the product was shipped. A week and a half later I received another email telling me that they are sorry, but they don\\'t actually have any of these items, and if I received an email telling me it has shipped, it was a mistake.When I finally got my money back, I went through another company to buy the product and it won\\'t work with my phone, even though it depicts that it will. I have sent numerous emails to the company - I can\\'t actually find a phone number on their website - and I still have not gotten any kind of response. What kind of customer service is that? No one will help me with this problem. My advice - don\\'t waste your money!\\n__label__2 Simple, Durable, Fun game for all ages: This is an AWESOME game! Almost everyone know tic-tac-toe so it is EASY to learn and quick to play. You can\\'t play just once! The twist is that your pieces are slightly different sizes - just big enough to gobble up your opponent. The first person to make tic-tac-toe wins, but it\\'s not as easy as it looks when you\\'re stuck in the mindset of just making three in a row and forget about the gobbling possibilities! My 4 and 5 year olds will beat me even when I\\'m trying to win! Excellent beginning critical thinking game. Grandparents loved playing it with the kids too.\\n__label__2 Review of Kelly Club for Toddlers: For the price of 7.99, this PC game is WELL worth it, great graphics, colorful and lots to do! My four year old daughter is in love with the many tasks to complete in this game, including dressing and grooming wide variety of pets and decoration of numerous floats to show in your little one\\'s very own parade.\\n__label__2 SOY UN APASIONADO DEL BOX: Y ESTE LIBRO ESTÁ ESPLÉNDIDO !Lo disfrutas, lo puedes usar como obra de consultaNos trae LAS HISTORIA DE LOS BOXEADORES MÁS BRILLANTES, DE LOS CAMPEONES DURANTE CIEN AÑOS !!Si te gusta el box...¡NO TE LO PIERDAS !\\n__label__2 Some of the best fiddle playing I have heard in a long time: This is an excellent album with some great fiddle playing. Ryan is amazing to watch when he plays in person. You can feel the emotion he puts into each song.\\n__label__1 Long and boring: I\\'ve read this book with much expectation, it was very boring all through out the book\\n__label__1 Dont like it: This product smells when you open the package and it appears one of the gel cushions leaks so I spent $10 and havent worn then. I wouldnt buy this product again. Dont waste your money on something you may not be able to use.\\n__label__2 one of the last in the series to collect !: The magazine was in very good condition and had the usual high standard of articles and photos that Victoria magazine has come to represent. I have collected all the previous magazines of the series and still enjoy leafing through them on a rainy day\\n__label__2 Sony Hi8 Camcorder with 2.5 LCD: I believe I will be very happy with the camcorder. Its small,light and easy to handle.The LCD is clear and bright.Ease of operation.\\n__label__1 Don\\'t Take the Chance - Get the SE Branded Cable: If you purchase this data cable, you need to know that you will receive no real directions or information regarding what to check if nothing works. As directed, I downloaded all of the files from the SE site (70MB on dial up!), and then downloaded all of the user guides. Everything seemed to install ok, but nothing would make my phone be recognized. After that I scoured the SE site for troubleshooting info on their branded cable-in the hope that something would help me figure out the problem. After 2 full days of beating my head against the wall, I finally threw the cable and the useless CD that came with it in the trash.If I had used my brain I would have paid the extra $$ for a SE branded cable and software (and the support that comes along with that). I now have the real deal (SE data cable and software), and guess what? Yep, installation was a breeze and it works beautifully. You really do get what you pay for.\\n__label__1 Waste of money!: Like many of the Barbie CD Roms, the playtime is limited - averaging about 5 mins for each of my two daughters (ages 5 & 7). Like the Barbie movies and other CD Roms the graphics are poorly done.\\n__label__2 works great: i bought this item to connect to a strobe light. unit functions well. not sure that it has all the range claimed, but i never really believe everything a manufacturer claims about a product like this. just too many variables. I can say it works from my neighbors house into my garage; at least 40\\' going thru two buildings. now if i make too much noise later at night he can simply press a button to let me know.\\n__label__1 Has No Range: I suppose if you were going to sit in the same room and have line-of-sight with the device, lamp, etc. plugged into this control, it might work. Maybe. But I had it completely within the stated range and one basic house wall separating me and the unit, and it was completely unreliable.I\\'d recommend spending a touch more money and getting a higher quality product.\\n__label__2 wish i had gotten this sooner!: ive got a lamp in the corner of my room behind my desk thats a complete pain in the arse to turn on and off. ive been using this with the lamp for a month now and it works perfectly. added a little velcro and now i have a light switch where ever i want. under my desk, shelf, etc.\\n__label__1 Three Days of Use and It Broke: Very disappointed in this product. It worked perfectly for exactly three days and could not be resuscitated. It was very inexpensive so I did not want to pay half again the price to ship it back for an exchange, so the company would do nothing when they sent me an inquiry as to product satisfaction.\\n__label__2 This is the all time best book!: This is the all time best book. She mentoins in the book how anyone can be a vampire, who knows. Well anyway I like the idea of having one soulmate and one crazed werewolf crush. P.S I think that it is a good twist on the story about how anone can be part of the night world.\\n__label__2 Mary Ash: Can\\'t believe I have never reviewed this book before. First read this back when I was 13. Like a lot of girls wanting the mysterious boyfriend and believed in soul-mates which drug me into these books. Rereading it over time years later still stands the test of time for me. Ash is that bad boy you want and your parents want you to stay away from even though he seems like a jerk there is just something about him that make you wanna root for him.\\n__label__2 Tha BOMB of a book!!: L.J. Smith is the best author in the whole world. I read this book a year ago but I can\\'t stop reading it. It is beyond sweet. I love Ash.The entire Night World seris is the bomb. I read mostly everyone of L.J Smiths book and they all are awesome. I think Ash and Mary Lynetee are one of the sweetest soulmates. I loved how they tried to fight there feelings but couldn\\'t. There should be real guys like Ash,Quinn,Juliun,Damon,Gabriel and I can go on forever. I think everyone should read at least one L.J Smith book. If you do you\\'ll be hooked on them for life,like I am. L.J Smith is the BEST!!!!\\n__label__2 This book was a great book that i have read many times!: This book was so great! I loved and read it so many times that i will soon have to buy a new copy because my last one fell apart. I just hope that there is a follow up on this story because I want to know if Mary-Lynette and Ash get together.\\n__label__2 They\\'d watch it nonstop if I\\'d let them: apart from it arriving broken the first time, my kids are loving this DVD, which I alternate with the other I purchased to keep my own sanity. This DVD has created a Thomas fan out of my 3 1/2 yr. old daughter as well.\\n__label__1 Not as expected...: My children get easily bored with this video. I thought it was several episodes of Thomas but it has A LOT of just children and parents talking about Thomas and all. It doesn\\'t keep the kids attention because what kid wants to sit and listen to a bunch of talking. This was my first Thomas video purchase...hopefully the next will have more shows and less talking!\\n__label__2 Wonderful: I went online for information about Dockers Khaki pants. The size my husband wears are very hard to find in stores. I was very impressed with the selection I had and he was thrilled to have all these pants without having them taken up in the length. The delivery was quick (especially during Christmas) and I really appreciate all the effort made to send us the selections we chose.\\n__label__1 Doublecharged for shipping because merchant was backordered: Merchant was out of stock on the second pair of pants, so when it was shipped I was charged $9 again when the second pair was in stock weeks later.Will not buy from Amazon vendors again.\\n__label__2 Book of Chance: I had just finished reading \\'The Food of Love\\' by Anthony Capella since I had nothing to do, but read. Mind you, reading is one of my favorite pastimes.I had recently bought a series of books. The Food of Love was just one of the books I just picked up so I can get that \\'three for the price of two\\' deal at Waterstones in London (British\\'s equivalent of Barnes&Noble;). I wasn\\'t really interested, but it was one of the more interesting options I had. Well, I\\'m glad I made the right choice! I started reading it last night and I haven\\'t put it down since.If you love food and a little romance, which I am both fond of, it\\'s an excellent book to read. Mr. Capella was remarkably thorough in his description of the rich and textured Italian dishes that the words assails you with a sense of smell and taste that leaves you hungry for more. This book took me by surprise and I\\'m sure you would not be disappointed.\\n__label__1 Light reading, light in substance: A clichéd storyline based on the classic Cyrano de Bergerac, this book reads like a rookie novel written by someone who has a knowledge and passion for Italian culture and cuisine, but little experience in developing a story. I can understand Bruno and his passion for cooking, but have no clue as to his passion for Laura. It seems to be primarily based on her being a blonde American. How exotic. Her character is so underdeveloped- we know she\\'s studying art history, and she enjoys Bruno\\'s cooking with a passion. That\\'s about it. And Tomasso, he\\'s just the cliché for any over-sexed Mediterranean male who encounters foreign females.It\\'s a light and entertaining read if you can get beyond all of the reasons you should put it down and walk away. That being said, I will, however, check out this author\\'s more recent novels. He does seem to have a way with technical details, hopefully his storytelling has caught up.\\n__label__2 WeiB FOREVER!: This is a great CD!! I love WeiB Kreuz!! The anime is awsome! Its bout 4 guys (hhhooottt) who work at a flower shop, but at night they are the White Hunters (or Byce as in the anime) they are assasins that \"hunt the tomorrow\" of Bad guys, the bad guys the police cant get . Like when teens start blowing up in flames in public for no reason... from a strange gas substance that w/ instant contact ingulfs any object... but i couldnt resist. Its also an emotional anime at times! I think this is a Cd and Anime any anime fan should see...\\n__label__1 Great Book--unacceptable condition: I was looking forward to receiving this book, as I was going to New Orleans to Antoine\\'s restaurant. I read the book at least thirty years ago and wanted my own copy. This book came without a dust jacket and was so musty that I could not read it without my eyes watering. I sent it back, at my own expense, and to date, I have not had a refund.\\n__label__2 Real HTML for people who build sites for a living: This book is simply great! If you build sites for a living you probably struggle with books that trivialize HTML and present its syntax willy-nilly. This book is the ONLY book I\\'ve ever seen that actually seems to be written by someone who builds sites professionally and wants to know all the markup. It explains logical and physical tagging styles well and does a really good job showing how to hook HTML with other technologies without trying to teach CGI, CSS, etc. at the same time. The only thing I wish is that this guy would write a JavaScript or DHTML book. I\\'d buy that right away.\\n__label__2 Marriage has its good and bad moments: This is a tear-jerker mixed with humor. A lot of rough patches for this couple but don\\'t let that scare you off because there are also a lot of good times, too. I watch this movie often as I am a hopeless romantic and I thoroughly enjoy the music and dancing (Hindi style & Pop Rock mix), plus it\\'s worth wading through the tears to get to the fun parts. It ends the way a typical relationship of this type would, but that\\'s not exactly a bad thing in this case. I recommend it to everyone.\\n__label__2 Amazing...: love it...very touch.it\\'s to bad that in the dvd description doesn\\'t mention no subtitles\\n__label__2 Leslie in a nutshell: Danelectro DJ-20C Rocky Road Spin Speaker Mini Effects Pedal, is an amazing little pedal!I use it with guitar, and keyboards.Using with Keyboards, organ mode(doesn\\'t matter which type) jazz, rock, gives me an instant controllable Leslie effects.it includes fast and slow ramp up,boost, volume/drive. thru a mixer in stereo you can do some amazing stuff with this inexpensive unit.The only drawback i have found is the buttons are very hard to engage and disengage.But i\\'m working on that. i will modify the springs if possible and maybe even send a recommendation to Danelectro.\\n__label__1 More Romance Please and Less Mystery!!: the reason i gave two stars when I usually give 5 stars for ms. feehan\\'s books is b/c this book was tooooooo mystery/gothic genre rather than romance. I really didn\\'t feel like the two main characters were in love, in fact the entire book was almost entirely from the heroine\\'s point of view and I was getting sick of her whining and her point of view. unlike the \"dark\" series, you really didnt feel any passion. the book is better suited for the mystery/gothic genre and NOT romance.even the mystery was not that good! its only in the last chapter that for some unforseen reason the villain confesses all in less than three pages. throughout the entire book, you\\'re kept in suspense of who was the bad guy, if you wanted to know who it was look at the last couple of pages....Ms. Feehan, if your reading, please focuse more on the main characters relation to each other rather then distract us with so much unamusing mystery!\\n__label__1 A Lost Author: I have read all of the Carpathian novels to date, except one. I very much enjoyed them at first, but nothing EVER gets resolved. You would think that after 16 books something would have been resolved and a new obstacle introduced. As for this book, it is an off-shoot of another Carpathian novel about the Jaguar Line. I was hoping to find out more about this curse, the origins and why the males kill the females. Nothing, not a word about the Jaguar curse. And why do the walls and ceilings change? Ideas introduced and left at that. Ms. Feehan went, once again, off on a tagent. Her books become less and less meaty and more and more expensive. I will NOT be buying any further books by this author. What a shame.\\n__label__1 Okay but Messy....: We purchased this bag for a vacation we were taking a cruise and we wanted to use it when we left the ship. The bag was convenient to carry, however the faux leather began peeling. At first it wasn\\'t so bad but then it became annoying because it then began flaking all over your skin and clothes. I would have rather the bag been a cloth bag with no flaking than the faux leather that I had to keep wisking away from my skin and clothes.\\n__label__2 Patricia Cornwell has turned me into a reader: I was never really a big reader before and somebody put me on to Patricia Cornwell. Well, now I can\\'t put her books down. Her books just get better and better as you go through the Kay Scarpetta series.I really enjoy the series concept and the fact that some of the same characters keep returning from book to book. It\\'s nice to see the characters develop through each story line. It allows you to get comfortable with them, get close to them, and get frustrated with them when they do something out of character.I highly recommend reading not just this book but the entire Kay Scarpetta series.\\n'"
      ]
     },
     "execution_count": 20,
     "metadata": {},
     "output_type": "execute_result"
    }
   ],
   "source": [
    "rawtext"
   ]
  },
  {
   "cell_type": "markdown",
   "metadata": {
    "slideshow": {
     "slide_type": "subslide"
    }
   },
   "source": [
    "We need to start to structure this data into a form that enables us to analyse it"
   ]
  },
  {
   "cell_type": "code",
   "execution_count": 21,
   "metadata": {
    "slideshow": {
     "slide_type": "fragment"
    }
   },
   "outputs": [],
   "source": [
    "reviews = rawtext.split(\"\\n\")\n",
    "if reviews[-1]=='':\n",
    "    del reviews[-1] #Remove last empty item"
   ]
  },
  {
   "cell_type": "code",
   "execution_count": 22,
   "metadata": {
    "slideshow": {
     "slide_type": "subslide"
    }
   },
   "outputs": [
    {
     "data": {
      "text/plain": [
       "['__label__2 Great CD: My lovely Pat has one of the GREAT voices of her generation. I have listened to this CD for YEARS and I still LOVE IT. When I\\'m in a good mood it makes me feel better. A bad mood just evaporates like sugar in the rain. This CD just oozes LIFE. Vocals are jusat STUUNNING and lyrics just kill. One of life\\'s hidden gems. This is a desert isle CD in my book. Why she never made it big is just beyond me. Everytime I play this, no matter black, white, young, old, male, female EVERYBODY says one thing \"Who was that singing ?\"',\n",
       " \"__label__2 One of the best game music soundtracks - for a game I didn't really play: Despite the fact that I have only played a small portion of the game, the music I heard (plus the connection to Chrono Trigger which was great as well) led me to purchase the soundtrack, and it remains one of my favorite albums. There is an incredible mix of fun, epic, and emotional songs. Those sad and beautiful tracks I especially like, as there's not too many of those kinds of songs in my other video game soundtracks. I must admit that one of the songs (Life-A Distant Promise) has brought tears to my eyes on many occasions.My one complaint about this soundtrack is that they use guitar fretting effects in many of the songs, which I find distracting. But even if those weren't included I would still consider the collection worth it.\",\n",
       " '__label__1 Batteries died within a year ...: I bought this charger in Jul 2003 and it worked OK for a while. The design is nice and convenient. However, after about a year, the batteries would not hold a charge. Might as well just get alkaline disposables, or look elsewhere for a charger that comes with batteries that have better staying power.',\n",
       " \"__label__2 works fine, but Maha Energy is better: Check out Maha Energy's website. Their Powerex MH-C204F charger works in 100 minutes for rapid charge, with option for slower charge (better for batteries). And they have 2200 mAh batteries.\",\n",
       " \"__label__2 Great for the non-audiophile: Reviewed quite a bit of the combo players and was hesitant due to unfavorable reviews and size of machines. I am weaning off my VHS collection, but don't want to replace them with DVD's. This unit is well built, easy to setup and resolution and special effects (no progressive scan for HDTV owners) suitable for many people looking for a versatile product.Cons- No universal remote.\",\n",
       " \"__label__1 DVD Player crapped out after one year: I also began having the incorrect disc problems that I've read about on here. The VCR still works, but hte DVD side is useless. I understand that DVD players sometimes just quit on you, but after not even one year? To me that's a sign on bad quality. I'm giving up JVC after this as well. I'm sticking to Sony or giving another brand a shot.\",\n",
       " \"__label__1 Incorrect Disc: I love the style of this, but after a couple years, the DVD is giving me problems. It doesn't even work anymore and I use my broken PS2 Now. I wouldn't recommend this, I'm just going to upgrade to a recorder now. I wish it would work but I guess i'm giving up on JVC. I really did like this one... before it stopped working. The dvd player gave me problems probably after a year of having it.\",\n",
       " \"__label__1 DVD menu select problems: I cannot scroll through a DVD menu that is set up vertically. The triangle keys will only select horizontally. So I cannot select anything on most DVD's besides play. No special features, no language select, nothing, just play.\",\n",
       " '__label__2 Unique Weird Orientalia from the 1930\\'s: Exotic tales of the Orient from the 1930\\'s. \"Dr Shen Fu\", a Weird Tales magazine reprint, is about the elixir of life that grants immortality at a price. If you\\'re tired of modern authors who all sound alike, this is the antidote for you. Owen\\'s palette is loaded with splashes of Chinese and Japanese colours. Marvelous.',\n",
       " '__label__1 Not an \"ultimate guide\": Firstly,I enjoyed the format and tone of the book (how the author addressed the reader). However, I did not feel that she imparted any insider secrets that the book promised to reveal. If you are just starting to research law school, and do not know all the requirements of admission, then this book may be a tremendous help. If you have done your homework and are looking for an edge when it comes to admissions, I recommend some more topic-specific books. For example, books on how to write your personal statment, books geared specifically towards LSAT preparation (Powerscore books were the most helpful for me), and there are some websites with great advice geared towards aiding the individuals whom you are asking to write letters of recommendation. Yet, for those new to the entire affair, this book can definitely clarify the requirements for you.',\n",
       " '__label__2 Great book for travelling Europe: I currently live in Europe, and this is the book I recommend for my visitors. It covers many countries, colour pictures, and is a nice starter for before you go, and once you are there.',\n",
       " '__label__1 Not!: If you want to listen to El Duke , then it is better if you have access to his shower,this is not him, it is a gimmick,very well orchestrated.',\n",
       " '__label__1 A complete Bust: This game requires quicktime 5.0 to work...if you have a better version of quicktime (I have 7.5), it will ask you to install the quicktime available on the CD...if you click no, it will not let you play. So, I begrudgingly clicked yes on the third try, and it installed quicktime 5, THEN it tells me to please install the quicktime available on the disc. It KEPT telling me that, even after I uninstalled my version of quicktime 7.5, and reinstalled Barbie Rapunzel and quicktime 5. Very frustrating, and the game absolutely will not work for me. It keeps telling me over and over, to install quicktime 5, tho I\\'ve been through the installation process repeatedly. It is NOT my \"operating system limitations\". This is a brand new computer...merely weeks old with all the state of the art contraptions.',\n",
       " '__label__2 TRULY MADE A DIFFERENCE!: I have been using this product for a couple years now. I started using it because my hair had gotten so dry from all the chemical treatments and relaxers. This actualy came in the relaxer kit. I tried it and could not beleive the difference it made with one use. I could not find it in any of the stores at the time so I searched Amazon and they had it. I absolutely love it. It is the best moisturizing product I have used so far. My hair is soft with good elasticity and it is not breaking anywhere close to what it was. I am very happy with it.',\n",
       " \"__label__1 didn't run off of USB bus power: Was hoping that this drive would run off of bus power, but it required the adapter to actually work. :( I sent it back.\",\n",
       " \"__label__1 Don't buy!: First of all, the company took my money and sent me an email telling me the product was shipped. A week and a half later I received another email telling me that they are sorry, but they don't actually have any of these items, and if I received an email telling me it has shipped, it was a mistake.When I finally got my money back, I went through another company to buy the product and it won't work with my phone, even though it depicts that it will. I have sent numerous emails to the company - I can't actually find a phone number on their website - and I still have not gotten any kind of response. What kind of customer service is that? No one will help me with this problem. My advice - don't waste your money!\",\n",
       " \"__label__2 Simple, Durable, Fun game for all ages: This is an AWESOME game! Almost everyone know tic-tac-toe so it is EASY to learn and quick to play. You can't play just once! The twist is that your pieces are slightly different sizes - just big enough to gobble up your opponent. The first person to make tic-tac-toe wins, but it's not as easy as it looks when you're stuck in the mindset of just making three in a row and forget about the gobbling possibilities! My 4 and 5 year olds will beat me even when I'm trying to win! Excellent beginning critical thinking game. Grandparents loved playing it with the kids too.\",\n",
       " \"__label__2 Review of Kelly Club for Toddlers: For the price of 7.99, this PC game is WELL worth it, great graphics, colorful and lots to do! My four year old daughter is in love with the many tasks to complete in this game, including dressing and grooming wide variety of pets and decoration of numerous floats to show in your little one's very own parade.\",\n",
       " '__label__2 SOY UN APASIONADO DEL BOX: Y ESTE LIBRO ESTÁ ESPLÉNDIDO !Lo disfrutas, lo puedes usar como obra de consultaNos trae LAS HISTORIA DE LOS BOXEADORES MÁS BRILLANTES, DE LOS CAMPEONES DURANTE CIEN AÑOS !!Si te gusta el box...¡NO TE LO PIERDAS !',\n",
       " '__label__2 Some of the best fiddle playing I have heard in a long time: This is an excellent album with some great fiddle playing. Ryan is amazing to watch when he plays in person. You can feel the emotion he puts into each song.',\n",
       " \"__label__1 Long and boring: I've read this book with much expectation, it was very boring all through out the book\",\n",
       " '__label__1 Dont like it: This product smells when you open the package and it appears one of the gel cushions leaks so I spent $10 and havent worn then. I wouldnt buy this product again. Dont waste your money on something you may not be able to use.',\n",
       " '__label__2 one of the last in the series to collect !: The magazine was in very good condition and had the usual high standard of articles and photos that Victoria magazine has come to represent. I have collected all the previous magazines of the series and still enjoy leafing through them on a rainy day',\n",
       " '__label__2 Sony Hi8 Camcorder with 2.5 LCD: I believe I will be very happy with the camcorder. Its small,light and easy to handle.The LCD is clear and bright.Ease of operation.',\n",
       " \"__label__1 Don't Take the Chance - Get the SE Branded Cable: If you purchase this data cable, you need to know that you will receive no real directions or information regarding what to check if nothing works. As directed, I downloaded all of the files from the SE site (70MB on dial up!), and then downloaded all of the user guides. Everything seemed to install ok, but nothing would make my phone be recognized. After that I scoured the SE site for troubleshooting info on their branded cable-in the hope that something would help me figure out the problem. After 2 full days of beating my head against the wall, I finally threw the cable and the useless CD that came with it in the trash.If I had used my brain I would have paid the extra $$ for a SE branded cable and software (and the support that comes along with that). I now have the real deal (SE data cable and software), and guess what? Yep, installation was a breeze and it works beautifully. You really do get what you pay for.\",\n",
       " '__label__1 Waste of money!: Like many of the Barbie CD Roms, the playtime is limited - averaging about 5 mins for each of my two daughters (ages 5 & 7). Like the Barbie movies and other CD Roms the graphics are poorly done.',\n",
       " \"__label__2 works great: i bought this item to connect to a strobe light. unit functions well. not sure that it has all the range claimed, but i never really believe everything a manufacturer claims about a product like this. just too many variables. I can say it works from my neighbors house into my garage; at least 40' going thru two buildings. now if i make too much noise later at night he can simply press a button to let me know.\",\n",
       " \"__label__1 Has No Range: I suppose if you were going to sit in the same room and have line-of-sight with the device, lamp, etc. plugged into this control, it might work. Maybe. But I had it completely within the stated range and one basic house wall separating me and the unit, and it was completely unreliable.I'd recommend spending a touch more money and getting a higher quality product.\",\n",
       " '__label__2 wish i had gotten this sooner!: ive got a lamp in the corner of my room behind my desk thats a complete pain in the arse to turn on and off. ive been using this with the lamp for a month now and it works perfectly. added a little velcro and now i have a light switch where ever i want. under my desk, shelf, etc.',\n",
       " '__label__1 Three Days of Use and It Broke: Very disappointed in this product. It worked perfectly for exactly three days and could not be resuscitated. It was very inexpensive so I did not want to pay half again the price to ship it back for an exchange, so the company would do nothing when they sent me an inquiry as to product satisfaction.',\n",
       " '__label__2 This is the all time best book!: This is the all time best book. She mentoins in the book how anyone can be a vampire, who knows. Well anyway I like the idea of having one soulmate and one crazed werewolf crush. P.S I think that it is a good twist on the story about how anone can be part of the night world.',\n",
       " \"__label__2 Mary Ash: Can't believe I have never reviewed this book before. First read this back when I was 13. Like a lot of girls wanting the mysterious boyfriend and believed in soul-mates which drug me into these books. Rereading it over time years later still stands the test of time for me. Ash is that bad boy you want and your parents want you to stay away from even though he seems like a jerk there is just something about him that make you wanna root for him.\",\n",
       " \"__label__2 Tha BOMB of a book!!: L.J. Smith is the best author in the whole world. I read this book a year ago but I can't stop reading it. It is beyond sweet. I love Ash.The entire Night World seris is the bomb. I read mostly everyone of L.J Smiths book and they all are awesome. I think Ash and Mary Lynetee are one of the sweetest soulmates. I loved how they tried to fight there feelings but couldn't. There should be real guys like Ash,Quinn,Juliun,Damon,Gabriel and I can go on forever. I think everyone should read at least one L.J Smith book. If you do you'll be hooked on them for life,like I am. L.J Smith is the BEST!!!!\",\n",
       " '__label__2 This book was a great book that i have read many times!: This book was so great! I loved and read it so many times that i will soon have to buy a new copy because my last one fell apart. I just hope that there is a follow up on this story because I want to know if Mary-Lynette and Ash get together.',\n",
       " \"__label__2 They'd watch it nonstop if I'd let them: apart from it arriving broken the first time, my kids are loving this DVD, which I alternate with the other I purchased to keep my own sanity. This DVD has created a Thomas fan out of my 3 1/2 yr. old daughter as well.\",\n",
       " \"__label__1 Not as expected...: My children get easily bored with this video. I thought it was several episodes of Thomas but it has A LOT of just children and parents talking about Thomas and all. It doesn't keep the kids attention because what kid wants to sit and listen to a bunch of talking. This was my first Thomas video purchase...hopefully the next will have more shows and less talking!\",\n",
       " '__label__2 Wonderful: I went online for information about Dockers Khaki pants. The size my husband wears are very hard to find in stores. I was very impressed with the selection I had and he was thrilled to have all these pants without having them taken up in the length. The delivery was quick (especially during Christmas) and I really appreciate all the effort made to send us the selections we chose.',\n",
       " '__label__1 Doublecharged for shipping because merchant was backordered: Merchant was out of stock on the second pair of pants, so when it was shipped I was charged $9 again when the second pair was in stock weeks later.Will not buy from Amazon vendors again.',\n",
       " \"__label__2 Book of Chance: I had just finished reading 'The Food of Love' by Anthony Capella since I had nothing to do, but read. Mind you, reading is one of my favorite pastimes.I had recently bought a series of books. The Food of Love was just one of the books I just picked up so I can get that 'three for the price of two' deal at Waterstones in London (British's equivalent of Barnes&Noble;). I wasn't really interested, but it was one of the more interesting options I had. Well, I'm glad I made the right choice! I started reading it last night and I haven't put it down since.If you love food and a little romance, which I am both fond of, it's an excellent book to read. Mr. Capella was remarkably thorough in his description of the rich and textured Italian dishes that the words assails you with a sense of smell and taste that leaves you hungry for more. This book took me by surprise and I'm sure you would not be disappointed.\",\n",
       " \"__label__1 Light reading, light in substance: A clichéd storyline based on the classic Cyrano de Bergerac, this book reads like a rookie novel written by someone who has a knowledge and passion for Italian culture and cuisine, but little experience in developing a story. I can understand Bruno and his passion for cooking, but have no clue as to his passion for Laura. It seems to be primarily based on her being a blonde American. How exotic. Her character is so underdeveloped- we know she's studying art history, and she enjoys Bruno's cooking with a passion. That's about it. And Tomasso, he's just the cliché for any over-sexed Mediterranean male who encounters foreign females.It's a light and entertaining read if you can get beyond all of the reasons you should put it down and walk away. That being said, I will, however, check out this author's more recent novels. He does seem to have a way with technical details, hopefully his storytelling has caught up.\",\n",
       " '__label__2 WeiB FOREVER!: This is a great CD!! I love WeiB Kreuz!! The anime is awsome! Its bout 4 guys (hhhooottt) who work at a flower shop, but at night they are the White Hunters (or Byce as in the anime) they are assasins that \"hunt the tomorrow\" of Bad guys, the bad guys the police cant get . Like when teens start blowing up in flames in public for no reason... from a strange gas substance that w/ instant contact ingulfs any object... but i couldnt resist. Its also an emotional anime at times! I think this is a Cd and Anime any anime fan should see...',\n",
       " \"__label__1 Great Book--unacceptable condition: I was looking forward to receiving this book, as I was going to New Orleans to Antoine's restaurant. I read the book at least thirty years ago and wanted my own copy. This book came without a dust jacket and was so musty that I could not read it without my eyes watering. I sent it back, at my own expense, and to date, I have not had a refund.\",\n",
       " \"__label__2 Real HTML for people who build sites for a living: This book is simply great! If you build sites for a living you probably struggle with books that trivialize HTML and present its syntax willy-nilly. This book is the ONLY book I've ever seen that actually seems to be written by someone who builds sites professionally and wants to know all the markup. It explains logical and physical tagging styles well and does a really good job showing how to hook HTML with other technologies without trying to teach CGI, CSS, etc. at the same time. The only thing I wish is that this guy would write a JavaScript or DHTML book. I'd buy that right away.\",\n",
       " \"__label__2 Marriage has its good and bad moments: This is a tear-jerker mixed with humor. A lot of rough patches for this couple but don't let that scare you off because there are also a lot of good times, too. I watch this movie often as I am a hopeless romantic and I thoroughly enjoy the music and dancing (Hindi style & Pop Rock mix), plus it's worth wading through the tears to get to the fun parts. It ends the way a typical relationship of this type would, but that's not exactly a bad thing in this case. I recommend it to everyone.\",\n",
       " \"__label__2 Amazing...: love it...very touch.it's to bad that in the dvd description doesn't mention no subtitles\",\n",
       " \"__label__2 Leslie in a nutshell: Danelectro DJ-20C Rocky Road Spin Speaker Mini Effects Pedal, is an amazing little pedal!I use it with guitar, and keyboards.Using with Keyboards, organ mode(doesn't matter which type) jazz, rock, gives me an instant controllable Leslie effects.it includes fast and slow ramp up,boost, volume/drive. thru a mixer in stereo you can do some amazing stuff with this inexpensive unit.The only drawback i have found is the buttons are very hard to engage and disengage.But i'm working on that. i will modify the springs if possible and maybe even send a recommendation to Danelectro.\",\n",
       " '__label__1 More Romance Please and Less Mystery!!: the reason i gave two stars when I usually give 5 stars for ms. feehan\\'s books is b/c this book was tooooooo mystery/gothic genre rather than romance. I really didn\\'t feel like the two main characters were in love, in fact the entire book was almost entirely from the heroine\\'s point of view and I was getting sick of her whining and her point of view. unlike the \"dark\" series, you really didnt feel any passion. the book is better suited for the mystery/gothic genre and NOT romance.even the mystery was not that good! its only in the last chapter that for some unforseen reason the villain confesses all in less than three pages. throughout the entire book, you\\'re kept in suspense of who was the bad guy, if you wanted to know who it was look at the last couple of pages....Ms. Feehan, if your reading, please focuse more on the main characters relation to each other rather then distract us with so much unamusing mystery!',\n",
       " '__label__1 A Lost Author: I have read all of the Carpathian novels to date, except one. I very much enjoyed them at first, but nothing EVER gets resolved. You would think that after 16 books something would have been resolved and a new obstacle introduced. As for this book, it is an off-shoot of another Carpathian novel about the Jaguar Line. I was hoping to find out more about this curse, the origins and why the males kill the females. Nothing, not a word about the Jaguar curse. And why do the walls and ceilings change? Ideas introduced and left at that. Ms. Feehan went, once again, off on a tagent. Her books become less and less meaty and more and more expensive. I will NOT be buying any further books by this author. What a shame.',\n",
       " \"__label__1 Okay but Messy....: We purchased this bag for a vacation we were taking a cruise and we wanted to use it when we left the ship. The bag was convenient to carry, however the faux leather began peeling. At first it wasn't so bad but then it became annoying because it then began flaking all over your skin and clothes. I would have rather the bag been a cloth bag with no flaking than the faux leather that I had to keep wisking away from my skin and clothes.\",\n",
       " \"__label__2 Patricia Cornwell has turned me into a reader: I was never really a big reader before and somebody put me on to Patricia Cornwell. Well, now I can't put her books down. Her books just get better and better as you go through the Kay Scarpetta series.I really enjoy the series concept and the fact that some of the same characters keep returning from book to book. It's nice to see the characters develop through each story line. It allows you to get comfortable with them, get close to them, and get frustrated with them when they do something out of character.I highly recommend reading not just this book but the entire Kay Scarpetta series.\"]"
      ]
     },
     "execution_count": 22,
     "metadata": {},
     "output_type": "execute_result"
    }
   ],
   "source": [
    "reviews"
   ]
  },
  {
   "cell_type": "markdown",
   "metadata": {
    "slideshow": {
     "slide_type": "subslide"
    }
   },
   "source": [
    "Now we have a list of individual reviews which is a good start, but we can structure the data further. Last week we created a number functions to do this work for us. Functions enable us to encapsulate multiple lines of code into a single function call"
   ]
  },
  {
   "cell_type": "code",
   "execution_count": 23,
   "metadata": {
    "slideshow": {
     "slide_type": "fragment"
    }
   },
   "outputs": [],
   "source": [
    "def getSentimentLabel(text):\n",
    "    match = re.search(r\"(?<=__label__)[0-9]+\",text)\n",
    "    value = match.group(0)\n",
    "    if value=='1':\n",
    "        return 'negative'\n",
    "    elif value=='2':\n",
    "        return 'positive'"
   ]
  },
  {
   "cell_type": "code",
   "execution_count": 24,
   "metadata": {
    "slideshow": {
     "slide_type": "fragment"
    }
   },
   "outputs": [],
   "source": [
    "def getSubject(text):\n",
    "    split = re.split(r\"(?<=__label__)[0-9]+\",text)\n",
    "    return split[1].strip()"
   ]
  },
  {
   "cell_type": "markdown",
   "metadata": {
    "slideshow": {
     "slide_type": "subslide"
    }
   },
   "source": [
    "We also create a data structure to put our data in."
   ]
  },
  {
   "cell_type": "code",
   "execution_count": 25,
   "metadata": {
    "slideshow": {
     "slide_type": "fragment"
    }
   },
   "outputs": [],
   "source": [
    "Review = namedtuple('review',['label','subject','text'])"
   ]
  },
  {
   "cell_type": "markdown",
   "metadata": {
    "slideshow": {
     "slide_type": "fragment"
    }
   },
   "source": [
    "and then a function to do the work"
   ]
  },
  {
   "cell_type": "code",
   "execution_count": 26,
   "metadata": {
    "slideshow": {
     "slide_type": "fragment"
    }
   },
   "outputs": [],
   "source": [
    "def parseReview(text):\n",
    "    textSplit = text.split(':')\n",
    "    text = textSplit[1]  \n",
    "    subject = getSubject(textSplit[0])\n",
    "    label = getSentimentLabel(textSplit[0])\n",
    "    return Review(label,subject,text)"
   ]
  },
  {
   "cell_type": "markdown",
   "metadata": {
    "slideshow": {
     "slide_type": "subslide"
    }
   },
   "source": [
    "Now we can run our function parseReview over the list of reviews"
   ]
  },
  {
   "cell_type": "code",
   "execution_count": 27,
   "metadata": {
    "slideshow": {
     "slide_type": "fragment"
    }
   },
   "outputs": [],
   "source": [
    "structuredReviews = list(map(parseReview,reviews))"
   ]
  },
  {
   "cell_type": "code",
   "execution_count": 28,
   "metadata": {
    "slideshow": {
     "slide_type": "subslide"
    }
   },
   "outputs": [
    {
     "data": {
      "text/plain": [
       "[review(label='positive', subject='Great CD', text=' My lovely Pat has one of the GREAT voices of her generation. I have listened to this CD for YEARS and I still LOVE IT. When I\\'m in a good mood it makes me feel better. A bad mood just evaporates like sugar in the rain. This CD just oozes LIFE. Vocals are jusat STUUNNING and lyrics just kill. One of life\\'s hidden gems. This is a desert isle CD in my book. Why she never made it big is just beyond me. Everytime I play this, no matter black, white, young, old, male, female EVERYBODY says one thing \"Who was that singing ?\"'),\n",
       " review(label='positive', subject=\"One of the best game music soundtracks - for a game I didn't really play\", text=\" Despite the fact that I have only played a small portion of the game, the music I heard (plus the connection to Chrono Trigger which was great as well) led me to purchase the soundtrack, and it remains one of my favorite albums. There is an incredible mix of fun, epic, and emotional songs. Those sad and beautiful tracks I especially like, as there's not too many of those kinds of songs in my other video game soundtracks. I must admit that one of the songs (Life-A Distant Promise) has brought tears to my eyes on many occasions.My one complaint about this soundtrack is that they use guitar fretting effects in many of the songs, which I find distracting. But even if those weren't included I would still consider the collection worth it.\"),\n",
       " review(label='negative', subject='Batteries died within a year ...', text=' I bought this charger in Jul 2003 and it worked OK for a while. The design is nice and convenient. However, after about a year, the batteries would not hold a charge. Might as well just get alkaline disposables, or look elsewhere for a charger that comes with batteries that have better staying power.'),\n",
       " review(label='positive', subject='works fine, but Maha Energy is better', text=\" Check out Maha Energy's website. Their Powerex MH-C204F charger works in 100 minutes for rapid charge, with option for slower charge (better for batteries). And they have 2200 mAh batteries.\"),\n",
       " review(label='positive', subject='Great for the non-audiophile', text=\" Reviewed quite a bit of the combo players and was hesitant due to unfavorable reviews and size of machines. I am weaning off my VHS collection, but don't want to replace them with DVD's. This unit is well built, easy to setup and resolution and special effects (no progressive scan for HDTV owners) suitable for many people looking for a versatile product.Cons- No universal remote.\"),\n",
       " review(label='negative', subject='DVD Player crapped out after one year', text=\" I also began having the incorrect disc problems that I've read about on here. The VCR still works, but hte DVD side is useless. I understand that DVD players sometimes just quit on you, but after not even one year? To me that's a sign on bad quality. I'm giving up JVC after this as well. I'm sticking to Sony or giving another brand a shot.\"),\n",
       " review(label='negative', subject='Incorrect Disc', text=\" I love the style of this, but after a couple years, the DVD is giving me problems. It doesn't even work anymore and I use my broken PS2 Now. I wouldn't recommend this, I'm just going to upgrade to a recorder now. I wish it would work but I guess i'm giving up on JVC. I really did like this one... before it stopped working. The dvd player gave me problems probably after a year of having it.\"),\n",
       " review(label='negative', subject='DVD menu select problems', text=\" I cannot scroll through a DVD menu that is set up vertically. The triangle keys will only select horizontally. So I cannot select anything on most DVD's besides play. No special features, no language select, nothing, just play.\"),\n",
       " review(label='positive', subject=\"Unique Weird Orientalia from the 1930's\", text=' Exotic tales of the Orient from the 1930\\'s. \"Dr Shen Fu\", a Weird Tales magazine reprint, is about the elixir of life that grants immortality at a price. If you\\'re tired of modern authors who all sound alike, this is the antidote for you. Owen\\'s palette is loaded with splashes of Chinese and Japanese colours. Marvelous.'),\n",
       " review(label='negative', subject='Not an \"ultimate guide\"', text=' Firstly,I enjoyed the format and tone of the book (how the author addressed the reader). However, I did not feel that she imparted any insider secrets that the book promised to reveal. If you are just starting to research law school, and do not know all the requirements of admission, then this book may be a tremendous help. If you have done your homework and are looking for an edge when it comes to admissions, I recommend some more topic-specific books. For example, books on how to write your personal statment, books geared specifically towards LSAT preparation (Powerscore books were the most helpful for me), and there are some websites with great advice geared towards aiding the individuals whom you are asking to write letters of recommendation. Yet, for those new to the entire affair, this book can definitely clarify the requirements for you.'),\n",
       " review(label='positive', subject='Great book for travelling Europe', text=' I currently live in Europe, and this is the book I recommend for my visitors. It covers many countries, colour pictures, and is a nice starter for before you go, and once you are there.'),\n",
       " review(label='negative', subject='Not!', text=' If you want to listen to El Duke , then it is better if you have access to his shower,this is not him, it is a gimmick,very well orchestrated.'),\n",
       " review(label='negative', subject='A complete Bust', text=' This game requires quicktime 5.0 to work...if you have a better version of quicktime (I have 7.5), it will ask you to install the quicktime available on the CD...if you click no, it will not let you play. So, I begrudgingly clicked yes on the third try, and it installed quicktime 5, THEN it tells me to please install the quicktime available on the disc. It KEPT telling me that, even after I uninstalled my version of quicktime 7.5, and reinstalled Barbie Rapunzel and quicktime 5. Very frustrating, and the game absolutely will not work for me. It keeps telling me over and over, to install quicktime 5, tho I\\'ve been through the installation process repeatedly. It is NOT my \"operating system limitations\". This is a brand new computer...merely weeks old with all the state of the art contraptions.'),\n",
       " review(label='positive', subject='TRULY MADE A DIFFERENCE!', text=' I have been using this product for a couple years now. I started using it because my hair had gotten so dry from all the chemical treatments and relaxers. This actualy came in the relaxer kit. I tried it and could not beleive the difference it made with one use. I could not find it in any of the stores at the time so I searched Amazon and they had it. I absolutely love it. It is the best moisturizing product I have used so far. My hair is soft with good elasticity and it is not breaking anywhere close to what it was. I am very happy with it.'),\n",
       " review(label='negative', subject=\"didn't run off of USB bus power\", text=' Was hoping that this drive would run off of bus power, but it required the adapter to actually work. '),\n",
       " review(label='negative', subject=\"Don't buy!\", text=\" First of all, the company took my money and sent me an email telling me the product was shipped. A week and a half later I received another email telling me that they are sorry, but they don't actually have any of these items, and if I received an email telling me it has shipped, it was a mistake.When I finally got my money back, I went through another company to buy the product and it won't work with my phone, even though it depicts that it will. I have sent numerous emails to the company - I can't actually find a phone number on their website - and I still have not gotten any kind of response. What kind of customer service is that? No one will help me with this problem. My advice - don't waste your money!\"),\n",
       " review(label='positive', subject='Simple, Durable, Fun game for all ages', text=\" This is an AWESOME game! Almost everyone know tic-tac-toe so it is EASY to learn and quick to play. You can't play just once! The twist is that your pieces are slightly different sizes - just big enough to gobble up your opponent. The first person to make tic-tac-toe wins, but it's not as easy as it looks when you're stuck in the mindset of just making three in a row and forget about the gobbling possibilities! My 4 and 5 year olds will beat me even when I'm trying to win! Excellent beginning critical thinking game. Grandparents loved playing it with the kids too.\"),\n",
       " review(label='positive', subject='Review of Kelly Club for Toddlers', text=\" For the price of 7.99, this PC game is WELL worth it, great graphics, colorful and lots to do! My four year old daughter is in love with the many tasks to complete in this game, including dressing and grooming wide variety of pets and decoration of numerous floats to show in your little one's very own parade.\"),\n",
       " review(label='positive', subject='SOY UN APASIONADO DEL BOX', text=' Y ESTE LIBRO ESTÁ ESPLÉNDIDO !Lo disfrutas, lo puedes usar como obra de consultaNos trae LAS HISTORIA DE LOS BOXEADORES MÁS BRILLANTES, DE LOS CAMPEONES DURANTE CIEN AÑOS !!Si te gusta el box...¡NO TE LO PIERDAS !'),\n",
       " review(label='positive', subject='Some of the best fiddle playing I have heard in a long time', text=' This is an excellent album with some great fiddle playing. Ryan is amazing to watch when he plays in person. You can feel the emotion he puts into each song.'),\n",
       " review(label='negative', subject='Long and boring', text=\" I've read this book with much expectation, it was very boring all through out the book\"),\n",
       " review(label='negative', subject='Dont like it', text=' This product smells when you open the package and it appears one of the gel cushions leaks so I spent $10 and havent worn then. I wouldnt buy this product again. Dont waste your money on something you may not be able to use.'),\n",
       " review(label='positive', subject='one of the last in the series to collect !', text=' The magazine was in very good condition and had the usual high standard of articles and photos that Victoria magazine has come to represent. I have collected all the previous magazines of the series and still enjoy leafing through them on a rainy day'),\n",
       " review(label='positive', subject='Sony Hi8 Camcorder with 2.5 LCD', text=' I believe I will be very happy with the camcorder. Its small,light and easy to handle.The LCD is clear and bright.Ease of operation.'),\n",
       " review(label='negative', subject=\"Don't Take the Chance - Get the SE Branded Cable\", text=' If you purchase this data cable, you need to know that you will receive no real directions or information regarding what to check if nothing works. As directed, I downloaded all of the files from the SE site (70MB on dial up!), and then downloaded all of the user guides. Everything seemed to install ok, but nothing would make my phone be recognized. After that I scoured the SE site for troubleshooting info on their branded cable-in the hope that something would help me figure out the problem. After 2 full days of beating my head against the wall, I finally threw the cable and the useless CD that came with it in the trash.If I had used my brain I would have paid the extra $$ for a SE branded cable and software (and the support that comes along with that). I now have the real deal (SE data cable and software), and guess what? Yep, installation was a breeze and it works beautifully. You really do get what you pay for.'),\n",
       " review(label='negative', subject='Waste of money!', text=' Like many of the Barbie CD Roms, the playtime is limited - averaging about 5 mins for each of my two daughters (ages 5 & 7). Like the Barbie movies and other CD Roms the graphics are poorly done.'),\n",
       " review(label='positive', subject='works great', text=\" i bought this item to connect to a strobe light. unit functions well. not sure that it has all the range claimed, but i never really believe everything a manufacturer claims about a product like this. just too many variables. I can say it works from my neighbors house into my garage; at least 40' going thru two buildings. now if i make too much noise later at night he can simply press a button to let me know.\"),\n",
       " review(label='negative', subject='Has No Range', text=\" I suppose if you were going to sit in the same room and have line-of-sight with the device, lamp, etc. plugged into this control, it might work. Maybe. But I had it completely within the stated range and one basic house wall separating me and the unit, and it was completely unreliable.I'd recommend spending a touch more money and getting a higher quality product.\"),\n",
       " review(label='positive', subject='wish i had gotten this sooner!', text=' ive got a lamp in the corner of my room behind my desk thats a complete pain in the arse to turn on and off. ive been using this with the lamp for a month now and it works perfectly. added a little velcro and now i have a light switch where ever i want. under my desk, shelf, etc.'),\n",
       " review(label='negative', subject='Three Days of Use and It Broke', text=' Very disappointed in this product. It worked perfectly for exactly three days and could not be resuscitated. It was very inexpensive so I did not want to pay half again the price to ship it back for an exchange, so the company would do nothing when they sent me an inquiry as to product satisfaction.'),\n",
       " review(label='positive', subject='This is the all time best book!', text=' This is the all time best book. She mentoins in the book how anyone can be a vampire, who knows. Well anyway I like the idea of having one soulmate and one crazed werewolf crush. P.S I think that it is a good twist on the story about how anone can be part of the night world.'),\n",
       " review(label='positive', subject='Mary Ash', text=\" Can't believe I have never reviewed this book before. First read this back when I was 13. Like a lot of girls wanting the mysterious boyfriend and believed in soul-mates which drug me into these books. Rereading it over time years later still stands the test of time for me. Ash is that bad boy you want and your parents want you to stay away from even though he seems like a jerk there is just something about him that make you wanna root for him.\"),\n",
       " review(label='positive', subject='Tha BOMB of a book!!', text=\" L.J. Smith is the best author in the whole world. I read this book a year ago but I can't stop reading it. It is beyond sweet. I love Ash.The entire Night World seris is the bomb. I read mostly everyone of L.J Smiths book and they all are awesome. I think Ash and Mary Lynetee are one of the sweetest soulmates. I loved how they tried to fight there feelings but couldn't. There should be real guys like Ash,Quinn,Juliun,Damon,Gabriel and I can go on forever. I think everyone should read at least one L.J Smith book. If you do you'll be hooked on them for life,like I am. L.J Smith is the BEST!!!!\"),\n",
       " review(label='positive', subject='This book was a great book that i have read many times!', text=' This book was so great! I loved and read it so many times that i will soon have to buy a new copy because my last one fell apart. I just hope that there is a follow up on this story because I want to know if Mary-Lynette and Ash get together.'),\n",
       " review(label='positive', subject=\"They'd watch it nonstop if I'd let them\", text=' apart from it arriving broken the first time, my kids are loving this DVD, which I alternate with the other I purchased to keep my own sanity. This DVD has created a Thomas fan out of my 3 1/2 yr. old daughter as well.'),\n",
       " review(label='negative', subject='Not as expected...', text=\" My children get easily bored with this video. I thought it was several episodes of Thomas but it has A LOT of just children and parents talking about Thomas and all. It doesn't keep the kids attention because what kid wants to sit and listen to a bunch of talking. This was my first Thomas video purchase...hopefully the next will have more shows and less talking!\"),\n",
       " review(label='positive', subject='Wonderful', text=' I went online for information about Dockers Khaki pants. The size my husband wears are very hard to find in stores. I was very impressed with the selection I had and he was thrilled to have all these pants without having them taken up in the length. The delivery was quick (especially during Christmas) and I really appreciate all the effort made to send us the selections we chose.'),\n",
       " review(label='negative', subject='Doublecharged for shipping because merchant was backordered', text=' Merchant was out of stock on the second pair of pants, so when it was shipped I was charged $9 again when the second pair was in stock weeks later.Will not buy from Amazon vendors again.'),\n",
       " review(label='positive', subject='Book of Chance', text=\" I had just finished reading 'The Food of Love' by Anthony Capella since I had nothing to do, but read. Mind you, reading is one of my favorite pastimes.I had recently bought a series of books. The Food of Love was just one of the books I just picked up so I can get that 'three for the price of two' deal at Waterstones in London (British's equivalent of Barnes&Noble;). I wasn't really interested, but it was one of the more interesting options I had. Well, I'm glad I made the right choice! I started reading it last night and I haven't put it down since.If you love food and a little romance, which I am both fond of, it's an excellent book to read. Mr. Capella was remarkably thorough in his description of the rich and textured Italian dishes that the words assails you with a sense of smell and taste that leaves you hungry for more. This book took me by surprise and I'm sure you would not be disappointed.\"),\n",
       " review(label='negative', subject='Light reading, light in substance', text=\" A clichéd storyline based on the classic Cyrano de Bergerac, this book reads like a rookie novel written by someone who has a knowledge and passion for Italian culture and cuisine, but little experience in developing a story. I can understand Bruno and his passion for cooking, but have no clue as to his passion for Laura. It seems to be primarily based on her being a blonde American. How exotic. Her character is so underdeveloped- we know she's studying art history, and she enjoys Bruno's cooking with a passion. That's about it. And Tomasso, he's just the cliché for any over-sexed Mediterranean male who encounters foreign females.It's a light and entertaining read if you can get beyond all of the reasons you should put it down and walk away. That being said, I will, however, check out this author's more recent novels. He does seem to have a way with technical details, hopefully his storytelling has caught up.\"),\n",
       " review(label='positive', subject='WeiB FOREVER!', text=' This is a great CD!! I love WeiB Kreuz!! The anime is awsome! Its bout 4 guys (hhhooottt) who work at a flower shop, but at night they are the White Hunters (or Byce as in the anime) they are assasins that \"hunt the tomorrow\" of Bad guys, the bad guys the police cant get . Like when teens start blowing up in flames in public for no reason... from a strange gas substance that w/ instant contact ingulfs any object... but i couldnt resist. Its also an emotional anime at times! I think this is a Cd and Anime any anime fan should see...'),\n",
       " review(label='negative', subject='Great Book--unacceptable condition', text=\" I was looking forward to receiving this book, as I was going to New Orleans to Antoine's restaurant. I read the book at least thirty years ago and wanted my own copy. This book came without a dust jacket and was so musty that I could not read it without my eyes watering. I sent it back, at my own expense, and to date, I have not had a refund.\"),\n",
       " review(label='positive', subject='Real HTML for people who build sites for a living', text=\" This book is simply great! If you build sites for a living you probably struggle with books that trivialize HTML and present its syntax willy-nilly. This book is the ONLY book I've ever seen that actually seems to be written by someone who builds sites professionally and wants to know all the markup. It explains logical and physical tagging styles well and does a really good job showing how to hook HTML with other technologies without trying to teach CGI, CSS, etc. at the same time. The only thing I wish is that this guy would write a JavaScript or DHTML book. I'd buy that right away.\"),\n",
       " review(label='positive', subject='Marriage has its good and bad moments', text=\" This is a tear-jerker mixed with humor. A lot of rough patches for this couple but don't let that scare you off because there are also a lot of good times, too. I watch this movie often as I am a hopeless romantic and I thoroughly enjoy the music and dancing (Hindi style & Pop Rock mix), plus it's worth wading through the tears to get to the fun parts. It ends the way a typical relationship of this type would, but that's not exactly a bad thing in this case. I recommend it to everyone.\"),\n",
       " review(label='positive', subject='Amazing...', text=\" love it...very touch.it's to bad that in the dvd description doesn't mention no subtitles\"),\n",
       " review(label='positive', subject='Leslie in a nutshell', text=\" Danelectro DJ-20C Rocky Road Spin Speaker Mini Effects Pedal, is an amazing little pedal!I use it with guitar, and keyboards.Using with Keyboards, organ mode(doesn't matter which type) jazz, rock, gives me an instant controllable Leslie effects.it includes fast and slow ramp up,boost, volume/drive. thru a mixer in stereo you can do some amazing stuff with this inexpensive unit.The only drawback i have found is the buttons are very hard to engage and disengage.But i'm working on that. i will modify the springs if possible and maybe even send a recommendation to Danelectro.\"),\n",
       " review(label='negative', subject='More Romance Please and Less Mystery!!', text=' the reason i gave two stars when I usually give 5 stars for ms. feehan\\'s books is b/c this book was tooooooo mystery/gothic genre rather than romance. I really didn\\'t feel like the two main characters were in love, in fact the entire book was almost entirely from the heroine\\'s point of view and I was getting sick of her whining and her point of view. unlike the \"dark\" series, you really didnt feel any passion. the book is better suited for the mystery/gothic genre and NOT romance.even the mystery was not that good! its only in the last chapter that for some unforseen reason the villain confesses all in less than three pages. throughout the entire book, you\\'re kept in suspense of who was the bad guy, if you wanted to know who it was look at the last couple of pages....Ms. Feehan, if your reading, please focuse more on the main characters relation to each other rather then distract us with so much unamusing mystery!'),\n",
       " review(label='negative', subject='A Lost Author', text=' I have read all of the Carpathian novels to date, except one. I very much enjoyed them at first, but nothing EVER gets resolved. You would think that after 16 books something would have been resolved and a new obstacle introduced. As for this book, it is an off-shoot of another Carpathian novel about the Jaguar Line. I was hoping to find out more about this curse, the origins and why the males kill the females. Nothing, not a word about the Jaguar curse. And why do the walls and ceilings change? Ideas introduced and left at that. Ms. Feehan went, once again, off on a tagent. Her books become less and less meaty and more and more expensive. I will NOT be buying any further books by this author. What a shame.'),\n",
       " review(label='negative', subject='Okay but Messy....', text=\" We purchased this bag for a vacation we were taking a cruise and we wanted to use it when we left the ship. The bag was convenient to carry, however the faux leather began peeling. At first it wasn't so bad but then it became annoying because it then began flaking all over your skin and clothes. I would have rather the bag been a cloth bag with no flaking than the faux leather that I had to keep wisking away from my skin and clothes.\"),\n",
       " review(label='positive', subject='Patricia Cornwell has turned me into a reader', text=\" I was never really a big reader before and somebody put me on to Patricia Cornwell. Well, now I can't put her books down. Her books just get better and better as you go through the Kay Scarpetta series.I really enjoy the series concept and the fact that some of the same characters keep returning from book to book. It's nice to see the characters develop through each story line. It allows you to get comfortable with them, get close to them, and get frustrated with them when they do something out of character.I highly recommend reading not just this book but the entire Kay Scarpetta series.\")]"
      ]
     },
     "execution_count": 28,
     "metadata": {},
     "output_type": "execute_result"
    }
   ],
   "source": [
    "structuredReviews"
   ]
  },
  {
   "cell_type": "markdown",
   "metadata": {
    "slideshow": {
     "slide_type": "subslide"
    }
   },
   "source": [
    "We have now turned the unstructured data into a structured format. However, it is difficult to explore due to the way the structure is displayed. Let's improve our ability to explore the data."
   ]
  },
  {
   "cell_type": "code",
   "execution_count": 29,
   "metadata": {
    "slideshow": {
     "slide_type": "fragment"
    }
   },
   "outputs": [],
   "source": [
    "def reviewsToHtml(reviewList):\n",
    "    def pTag(review): #function that wraps review in tags\n",
    "        return '<p><b class=\"'+review.label+'\">'+review.subject+\"</b>: \"+review.text+\"</p>\"\n",
    "    paras = map(pTag,reviewList) #Apply the wrapping function to the list\n",
    "    return HTML(''.join(paras)) #Join the paragraphs together and return as HTML"
   ]
  },
  {
   "cell_type": "code",
   "execution_count": 30,
   "metadata": {
    "slideshow": {
     "slide_type": "fragment"
    }
   },
   "outputs": [],
   "source": [
    "structReviewsHtml = reviewsToHtml(structuredReviews)\n",
    "css = HTML(\"\"\"<style>\n",
    ".positive { color: green; }\n",
    ".negative { color: red; }\n",
    "</style>\"\"\")"
   ]
  },
  {
   "cell_type": "code",
   "execution_count": 31,
   "metadata": {
    "slideshow": {
     "slide_type": "subslide"
    }
   },
   "outputs": [
    {
     "data": {
      "text/html": [
       "<style>\n",
       ".positive { color: green; }\n",
       ".negative { color: red; }\n",
       "</style>"
      ],
      "text/plain": [
       "<IPython.core.display.HTML object>"
      ]
     },
     "metadata": {},
     "output_type": "display_data"
    },
    {
     "data": {
      "text/html": [
       "<p><b class=\"positive\">Great CD</b>:  My lovely Pat has one of the GREAT voices of her generation. I have listened to this CD for YEARS and I still LOVE IT. When I'm in a good mood it makes me feel better. A bad mood just evaporates like sugar in the rain. This CD just oozes LIFE. Vocals are jusat STUUNNING and lyrics just kill. One of life's hidden gems. This is a desert isle CD in my book. Why she never made it big is just beyond me. Everytime I play this, no matter black, white, young, old, male, female EVERYBODY says one thing \"Who was that singing ?\"</p><p><b class=\"positive\">One of the best game music soundtracks - for a game I didn't really play</b>:  Despite the fact that I have only played a small portion of the game, the music I heard (plus the connection to Chrono Trigger which was great as well) led me to purchase the soundtrack, and it remains one of my favorite albums. There is an incredible mix of fun, epic, and emotional songs. Those sad and beautiful tracks I especially like, as there's not too many of those kinds of songs in my other video game soundtracks. I must admit that one of the songs (Life-A Distant Promise) has brought tears to my eyes on many occasions.My one complaint about this soundtrack is that they use guitar fretting effects in many of the songs, which I find distracting. But even if those weren't included I would still consider the collection worth it.</p><p><b class=\"negative\">Batteries died within a year ...</b>:  I bought this charger in Jul 2003 and it worked OK for a while. The design is nice and convenient. However, after about a year, the batteries would not hold a charge. Might as well just get alkaline disposables, or look elsewhere for a charger that comes with batteries that have better staying power.</p><p><b class=\"positive\">works fine, but Maha Energy is better</b>:  Check out Maha Energy's website. Their Powerex MH-C204F charger works in 100 minutes for rapid charge, with option for slower charge (better for batteries). And they have 2200 mAh batteries.</p><p><b class=\"positive\">Great for the non-audiophile</b>:  Reviewed quite a bit of the combo players and was hesitant due to unfavorable reviews and size of machines. I am weaning off my VHS collection, but don't want to replace them with DVD's. This unit is well built, easy to setup and resolution and special effects (no progressive scan for HDTV owners) suitable for many people looking for a versatile product.Cons- No universal remote.</p><p><b class=\"negative\">DVD Player crapped out after one year</b>:  I also began having the incorrect disc problems that I've read about on here. The VCR still works, but hte DVD side is useless. I understand that DVD players sometimes just quit on you, but after not even one year? To me that's a sign on bad quality. I'm giving up JVC after this as well. I'm sticking to Sony or giving another brand a shot.</p><p><b class=\"negative\">Incorrect Disc</b>:  I love the style of this, but after a couple years, the DVD is giving me problems. It doesn't even work anymore and I use my broken PS2 Now. I wouldn't recommend this, I'm just going to upgrade to a recorder now. I wish it would work but I guess i'm giving up on JVC. I really did like this one... before it stopped working. The dvd player gave me problems probably after a year of having it.</p><p><b class=\"negative\">DVD menu select problems</b>:  I cannot scroll through a DVD menu that is set up vertically. The triangle keys will only select horizontally. So I cannot select anything on most DVD's besides play. No special features, no language select, nothing, just play.</p><p><b class=\"positive\">Unique Weird Orientalia from the 1930's</b>:  Exotic tales of the Orient from the 1930's. \"Dr Shen Fu\", a Weird Tales magazine reprint, is about the elixir of life that grants immortality at a price. If you're tired of modern authors who all sound alike, this is the antidote for you. Owen's palette is loaded with splashes of Chinese and Japanese colours. Marvelous.</p><p><b class=\"negative\">Not an \"ultimate guide\"</b>:  Firstly,I enjoyed the format and tone of the book (how the author addressed the reader). However, I did not feel that she imparted any insider secrets that the book promised to reveal. If you are just starting to research law school, and do not know all the requirements of admission, then this book may be a tremendous help. If you have done your homework and are looking for an edge when it comes to admissions, I recommend some more topic-specific books. For example, books on how to write your personal statment, books geared specifically towards LSAT preparation (Powerscore books were the most helpful for me), and there are some websites with great advice geared towards aiding the individuals whom you are asking to write letters of recommendation. Yet, for those new to the entire affair, this book can definitely clarify the requirements for you.</p><p><b class=\"positive\">Great book for travelling Europe</b>:  I currently live in Europe, and this is the book I recommend for my visitors. It covers many countries, colour pictures, and is a nice starter for before you go, and once you are there.</p><p><b class=\"negative\">Not!</b>:  If you want to listen to El Duke , then it is better if you have access to his shower,this is not him, it is a gimmick,very well orchestrated.</p><p><b class=\"negative\">A complete Bust</b>:  This game requires quicktime 5.0 to work...if you have a better version of quicktime (I have 7.5), it will ask you to install the quicktime available on the CD...if you click no, it will not let you play. So, I begrudgingly clicked yes on the third try, and it installed quicktime 5, THEN it tells me to please install the quicktime available on the disc. It KEPT telling me that, even after I uninstalled my version of quicktime 7.5, and reinstalled Barbie Rapunzel and quicktime 5. Very frustrating, and the game absolutely will not work for me. It keeps telling me over and over, to install quicktime 5, tho I've been through the installation process repeatedly. It is NOT my \"operating system limitations\". This is a brand new computer...merely weeks old with all the state of the art contraptions.</p><p><b class=\"positive\">TRULY MADE A DIFFERENCE!</b>:  I have been using this product for a couple years now. I started using it because my hair had gotten so dry from all the chemical treatments and relaxers. This actualy came in the relaxer kit. I tried it and could not beleive the difference it made with one use. I could not find it in any of the stores at the time so I searched Amazon and they had it. I absolutely love it. It is the best moisturizing product I have used so far. My hair is soft with good elasticity and it is not breaking anywhere close to what it was. I am very happy with it.</p><p><b class=\"negative\">didn't run off of USB bus power</b>:  Was hoping that this drive would run off of bus power, but it required the adapter to actually work. </p><p><b class=\"negative\">Don't buy!</b>:  First of all, the company took my money and sent me an email telling me the product was shipped. A week and a half later I received another email telling me that they are sorry, but they don't actually have any of these items, and if I received an email telling me it has shipped, it was a mistake.When I finally got my money back, I went through another company to buy the product and it won't work with my phone, even though it depicts that it will. I have sent numerous emails to the company - I can't actually find a phone number on their website - and I still have not gotten any kind of response. What kind of customer service is that? No one will help me with this problem. My advice - don't waste your money!</p><p><b class=\"positive\">Simple, Durable, Fun game for all ages</b>:  This is an AWESOME game! Almost everyone know tic-tac-toe so it is EASY to learn and quick to play. You can't play just once! The twist is that your pieces are slightly different sizes - just big enough to gobble up your opponent. The first person to make tic-tac-toe wins, but it's not as easy as it looks when you're stuck in the mindset of just making three in a row and forget about the gobbling possibilities! My 4 and 5 year olds will beat me even when I'm trying to win! Excellent beginning critical thinking game. Grandparents loved playing it with the kids too.</p><p><b class=\"positive\">Review of Kelly Club for Toddlers</b>:  For the price of 7.99, this PC game is WELL worth it, great graphics, colorful and lots to do! My four year old daughter is in love with the many tasks to complete in this game, including dressing and grooming wide variety of pets and decoration of numerous floats to show in your little one's very own parade.</p><p><b class=\"positive\">SOY UN APASIONADO DEL BOX</b>:  Y ESTE LIBRO ESTÁ ESPLÉNDIDO !Lo disfrutas, lo puedes usar como obra de consultaNos trae LAS HISTORIA DE LOS BOXEADORES MÁS BRILLANTES, DE LOS CAMPEONES DURANTE CIEN AÑOS !!Si te gusta el box...¡NO TE LO PIERDAS !</p><p><b class=\"positive\">Some of the best fiddle playing I have heard in a long time</b>:  This is an excellent album with some great fiddle playing. Ryan is amazing to watch when he plays in person. You can feel the emotion he puts into each song.</p><p><b class=\"negative\">Long and boring</b>:  I've read this book with much expectation, it was very boring all through out the book</p><p><b class=\"negative\">Dont like it</b>:  This product smells when you open the package and it appears one of the gel cushions leaks so I spent $10 and havent worn then. I wouldnt buy this product again. Dont waste your money on something you may not be able to use.</p><p><b class=\"positive\">one of the last in the series to collect !</b>:  The magazine was in very good condition and had the usual high standard of articles and photos that Victoria magazine has come to represent. I have collected all the previous magazines of the series and still enjoy leafing through them on a rainy day</p><p><b class=\"positive\">Sony Hi8 Camcorder with 2.5 LCD</b>:  I believe I will be very happy with the camcorder. Its small,light and easy to handle.The LCD is clear and bright.Ease of operation.</p><p><b class=\"negative\">Don't Take the Chance - Get the SE Branded Cable</b>:  If you purchase this data cable, you need to know that you will receive no real directions or information regarding what to check if nothing works. As directed, I downloaded all of the files from the SE site (70MB on dial up!), and then downloaded all of the user guides. Everything seemed to install ok, but nothing would make my phone be recognized. After that I scoured the SE site for troubleshooting info on their branded cable-in the hope that something would help me figure out the problem. After 2 full days of beating my head against the wall, I finally threw the cable and the useless CD that came with it in the trash.If I had used my brain I would have paid the extra $$ for a SE branded cable and software (and the support that comes along with that). I now have the real deal (SE data cable and software), and guess what? Yep, installation was a breeze and it works beautifully. You really do get what you pay for.</p><p><b class=\"negative\">Waste of money!</b>:  Like many of the Barbie CD Roms, the playtime is limited - averaging about 5 mins for each of my two daughters (ages 5 & 7). Like the Barbie movies and other CD Roms the graphics are poorly done.</p><p><b class=\"positive\">works great</b>:  i bought this item to connect to a strobe light. unit functions well. not sure that it has all the range claimed, but i never really believe everything a manufacturer claims about a product like this. just too many variables. I can say it works from my neighbors house into my garage; at least 40' going thru two buildings. now if i make too much noise later at night he can simply press a button to let me know.</p><p><b class=\"negative\">Has No Range</b>:  I suppose if you were going to sit in the same room and have line-of-sight with the device, lamp, etc. plugged into this control, it might work. Maybe. But I had it completely within the stated range and one basic house wall separating me and the unit, and it was completely unreliable.I'd recommend spending a touch more money and getting a higher quality product.</p><p><b class=\"positive\">wish i had gotten this sooner!</b>:  ive got a lamp in the corner of my room behind my desk thats a complete pain in the arse to turn on and off. ive been using this with the lamp for a month now and it works perfectly. added a little velcro and now i have a light switch where ever i want. under my desk, shelf, etc.</p><p><b class=\"negative\">Three Days of Use and It Broke</b>:  Very disappointed in this product. It worked perfectly for exactly three days and could not be resuscitated. It was very inexpensive so I did not want to pay half again the price to ship it back for an exchange, so the company would do nothing when they sent me an inquiry as to product satisfaction.</p><p><b class=\"positive\">This is the all time best book!</b>:  This is the all time best book. She mentoins in the book how anyone can be a vampire, who knows. Well anyway I like the idea of having one soulmate and one crazed werewolf crush. P.S I think that it is a good twist on the story about how anone can be part of the night world.</p><p><b class=\"positive\">Mary Ash</b>:  Can't believe I have never reviewed this book before. First read this back when I was 13. Like a lot of girls wanting the mysterious boyfriend and believed in soul-mates which drug me into these books. Rereading it over time years later still stands the test of time for me. Ash is that bad boy you want and your parents want you to stay away from even though he seems like a jerk there is just something about him that make you wanna root for him.</p><p><b class=\"positive\">Tha BOMB of a book!!</b>:  L.J. Smith is the best author in the whole world. I read this book a year ago but I can't stop reading it. It is beyond sweet. I love Ash.The entire Night World seris is the bomb. I read mostly everyone of L.J Smiths book and they all are awesome. I think Ash and Mary Lynetee are one of the sweetest soulmates. I loved how they tried to fight there feelings but couldn't. There should be real guys like Ash,Quinn,Juliun,Damon,Gabriel and I can go on forever. I think everyone should read at least one L.J Smith book. If you do you'll be hooked on them for life,like I am. L.J Smith is the BEST!!!!</p><p><b class=\"positive\">This book was a great book that i have read many times!</b>:  This book was so great! I loved and read it so many times that i will soon have to buy a new copy because my last one fell apart. I just hope that there is a follow up on this story because I want to know if Mary-Lynette and Ash get together.</p><p><b class=\"positive\">They'd watch it nonstop if I'd let them</b>:  apart from it arriving broken the first time, my kids are loving this DVD, which I alternate with the other I purchased to keep my own sanity. This DVD has created a Thomas fan out of my 3 1/2 yr. old daughter as well.</p><p><b class=\"negative\">Not as expected...</b>:  My children get easily bored with this video. I thought it was several episodes of Thomas but it has A LOT of just children and parents talking about Thomas and all. It doesn't keep the kids attention because what kid wants to sit and listen to a bunch of talking. This was my first Thomas video purchase...hopefully the next will have more shows and less talking!</p><p><b class=\"positive\">Wonderful</b>:  I went online for information about Dockers Khaki pants. The size my husband wears are very hard to find in stores. I was very impressed with the selection I had and he was thrilled to have all these pants without having them taken up in the length. The delivery was quick (especially during Christmas) and I really appreciate all the effort made to send us the selections we chose.</p><p><b class=\"negative\">Doublecharged for shipping because merchant was backordered</b>:  Merchant was out of stock on the second pair of pants, so when it was shipped I was charged $9 again when the second pair was in stock weeks later.Will not buy from Amazon vendors again.</p><p><b class=\"positive\">Book of Chance</b>:  I had just finished reading 'The Food of Love' by Anthony Capella since I had nothing to do, but read. Mind you, reading is one of my favorite pastimes.I had recently bought a series of books. The Food of Love was just one of the books I just picked up so I can get that 'three for the price of two' deal at Waterstones in London (British's equivalent of Barnes&Noble;). I wasn't really interested, but it was one of the more interesting options I had. Well, I'm glad I made the right choice! I started reading it last night and I haven't put it down since.If you love food and a little romance, which I am both fond of, it's an excellent book to read. Mr. Capella was remarkably thorough in his description of the rich and textured Italian dishes that the words assails you with a sense of smell and taste that leaves you hungry for more. This book took me by surprise and I'm sure you would not be disappointed.</p><p><b class=\"negative\">Light reading, light in substance</b>:  A clichéd storyline based on the classic Cyrano de Bergerac, this book reads like a rookie novel written by someone who has a knowledge and passion for Italian culture and cuisine, but little experience in developing a story. I can understand Bruno and his passion for cooking, but have no clue as to his passion for Laura. It seems to be primarily based on her being a blonde American. How exotic. Her character is so underdeveloped- we know she's studying art history, and she enjoys Bruno's cooking with a passion. That's about it. And Tomasso, he's just the cliché for any over-sexed Mediterranean male who encounters foreign females.It's a light and entertaining read if you can get beyond all of the reasons you should put it down and walk away. That being said, I will, however, check out this author's more recent novels. He does seem to have a way with technical details, hopefully his storytelling has caught up.</p><p><b class=\"positive\">WeiB FOREVER!</b>:  This is a great CD!! I love WeiB Kreuz!! The anime is awsome! Its bout 4 guys (hhhooottt) who work at a flower shop, but at night they are the White Hunters (or Byce as in the anime) they are assasins that \"hunt the tomorrow\" of Bad guys, the bad guys the police cant get . Like when teens start blowing up in flames in public for no reason... from a strange gas substance that w/ instant contact ingulfs any object... but i couldnt resist. Its also an emotional anime at times! I think this is a Cd and Anime any anime fan should see...</p><p><b class=\"negative\">Great Book--unacceptable condition</b>:  I was looking forward to receiving this book, as I was going to New Orleans to Antoine's restaurant. I read the book at least thirty years ago and wanted my own copy. This book came without a dust jacket and was so musty that I could not read it without my eyes watering. I sent it back, at my own expense, and to date, I have not had a refund.</p><p><b class=\"positive\">Real HTML for people who build sites for a living</b>:  This book is simply great! If you build sites for a living you probably struggle with books that trivialize HTML and present its syntax willy-nilly. This book is the ONLY book I've ever seen that actually seems to be written by someone who builds sites professionally and wants to know all the markup. It explains logical and physical tagging styles well and does a really good job showing how to hook HTML with other technologies without trying to teach CGI, CSS, etc. at the same time. The only thing I wish is that this guy would write a JavaScript or DHTML book. I'd buy that right away.</p><p><b class=\"positive\">Marriage has its good and bad moments</b>:  This is a tear-jerker mixed with humor. A lot of rough patches for this couple but don't let that scare you off because there are also a lot of good times, too. I watch this movie often as I am a hopeless romantic and I thoroughly enjoy the music and dancing (Hindi style & Pop Rock mix), plus it's worth wading through the tears to get to the fun parts. It ends the way a typical relationship of this type would, but that's not exactly a bad thing in this case. I recommend it to everyone.</p><p><b class=\"positive\">Amazing...</b>:  love it...very touch.it's to bad that in the dvd description doesn't mention no subtitles</p><p><b class=\"positive\">Leslie in a nutshell</b>:  Danelectro DJ-20C Rocky Road Spin Speaker Mini Effects Pedal, is an amazing little pedal!I use it with guitar, and keyboards.Using with Keyboards, organ mode(doesn't matter which type) jazz, rock, gives me an instant controllable Leslie effects.it includes fast and slow ramp up,boost, volume/drive. thru a mixer in stereo you can do some amazing stuff with this inexpensive unit.The only drawback i have found is the buttons are very hard to engage and disengage.But i'm working on that. i will modify the springs if possible and maybe even send a recommendation to Danelectro.</p><p><b class=\"negative\">More Romance Please and Less Mystery!!</b>:  the reason i gave two stars when I usually give 5 stars for ms. feehan's books is b/c this book was tooooooo mystery/gothic genre rather than romance. I really didn't feel like the two main characters were in love, in fact the entire book was almost entirely from the heroine's point of view and I was getting sick of her whining and her point of view. unlike the \"dark\" series, you really didnt feel any passion. the book is better suited for the mystery/gothic genre and NOT romance.even the mystery was not that good! its only in the last chapter that for some unforseen reason the villain confesses all in less than three pages. throughout the entire book, you're kept in suspense of who was the bad guy, if you wanted to know who it was look at the last couple of pages....Ms. Feehan, if your reading, please focuse more on the main characters relation to each other rather then distract us with so much unamusing mystery!</p><p><b class=\"negative\">A Lost Author</b>:  I have read all of the Carpathian novels to date, except one. I very much enjoyed them at first, but nothing EVER gets resolved. You would think that after 16 books something would have been resolved and a new obstacle introduced. As for this book, it is an off-shoot of another Carpathian novel about the Jaguar Line. I was hoping to find out more about this curse, the origins and why the males kill the females. Nothing, not a word about the Jaguar curse. And why do the walls and ceilings change? Ideas introduced and left at that. Ms. Feehan went, once again, off on a tagent. Her books become less and less meaty and more and more expensive. I will NOT be buying any further books by this author. What a shame.</p><p><b class=\"negative\">Okay but Messy....</b>:  We purchased this bag for a vacation we were taking a cruise and we wanted to use it when we left the ship. The bag was convenient to carry, however the faux leather began peeling. At first it wasn't so bad but then it became annoying because it then began flaking all over your skin and clothes. I would have rather the bag been a cloth bag with no flaking than the faux leather that I had to keep wisking away from my skin and clothes.</p><p><b class=\"positive\">Patricia Cornwell has turned me into a reader</b>:  I was never really a big reader before and somebody put me on to Patricia Cornwell. Well, now I can't put her books down. Her books just get better and better as you go through the Kay Scarpetta series.I really enjoy the series concept and the fact that some of the same characters keep returning from book to book. It's nice to see the characters develop through each story line. It allows you to get comfortable with them, get close to them, and get frustrated with them when they do something out of character.I highly recommend reading not just this book but the entire Kay Scarpetta series.</p>"
      ],
      "text/plain": [
       "<IPython.core.display.HTML object>"
      ]
     },
     "metadata": {},
     "output_type": "display_data"
    }
   ],
   "source": [
    "display(css,structReviewsHtml)"
   ]
  },
  {
   "cell_type": "markdown",
   "metadata": {
    "slideshow": {
     "slide_type": "slide"
    }
   },
   "source": [
    "### Recap - Structured, Unstructured and Semi-structured Data\n",
    "\n",
    "*Understanding the format of the data so that you can select the appropriate tools to use for analysis*\n",
    "\n",
    "- Structured: Usually tabular like the house price index for country and year\n",
    "- Unstructured: Usually text like the review data\n",
    "- Semi-structured: What the review data looked like after we finished wrangling it, but also like the data that we are going to look at today"
   ]
  },
  {
   "cell_type": "markdown",
   "metadata": {
    "slideshow": {
     "slide_type": "slide"
    }
   },
   "source": [
    "### Activity - Exploring Open Data\n",
    "\n",
    "- Explore the [data.qld.gov.au](https://data.qld.gov.au) website - what data is available?\n",
    "\n",
    "- What other open data can you find?"
   ]
  },
  {
   "cell_type": "markdown",
   "metadata": {
    "slideshow": {
     "slide_type": "slide"
    }
   },
   "source": [
    "### Demo - Obtaining data via APIs\n",
    "\n",
    "An Application Programming Interface (API) allows a computer program to connect to other software for the purpose of utilising a service offered by that software.\n",
    "\n",
    "Particularly relevant to this unit is are web API's which provide data services and can be 'called' by other software."
   ]
  },
  {
   "cell_type": "code",
   "execution_count": 33,
   "metadata": {
    "slideshow": {
     "slide_type": "subslide"
    }
   },
   "outputs": [
    {
     "name": "stdout",
     "output_type": "stream",
     "text": [
      "200\n",
      "{\"month\": \"3\", \"num\": 2122, \"link\": \"\", \"year\": \"2019\", \"news\": \"\", \"safe_title\": \"Size Venn Diagram\", \"transcript\": \"\", \"alt\": \"Terms I'm going to start using: The Large Dipper, great potatoes, the Big Hadron Collider, and Large Orphan Annie.\", \"img\": \"https://imgs.xkcd.com/comics/size_venn_diagram.png\", \"title\": \"Size Venn Diagram\", \"day\": \"11\"}\n"
     ]
    }
   ],
   "source": [
    "#Fetch the data for the latest xkcd comic\n",
    "comicRequest = request.Request('http://xkcd.com/info.0.json')\n",
    "comicResponse = request.urlopen(comicRequest)\n",
    "print(comicResponse.status)                   \n",
    "body = comicResponse.read().decode('utf8')\n",
    "print(body)"
   ]
  },
  {
   "cell_type": "markdown",
   "metadata": {
    "slideshow": {
     "slide_type": "subslide"
    }
   },
   "source": [
    "The XKCD API gave us back info about the latest comic, including a URL to the comic itself, so let's extract that..."
   ]
  },
  {
   "cell_type": "code",
   "execution_count": 34,
   "metadata": {
    "slideshow": {
     "slide_type": "fragment"
    }
   },
   "outputs": [
    {
     "name": "stdout",
     "output_type": "stream",
     "text": [
      "https://imgs.xkcd.com/comics/size_venn_diagram.png\n"
     ]
    }
   ],
   "source": [
    "jsonData = json.loads(body)\n",
    "comicUrl = jsonData.get(\"img\")\n",
    "print(comicUrl) "
   ]
  },
  {
   "cell_type": "markdown",
   "metadata": {
    "slideshow": {
     "slide_type": "subslide"
    }
   },
   "source": [
    "Now, let's display the image as HTML..."
   ]
  },
  {
   "cell_type": "code",
   "execution_count": 35,
   "metadata": {
    "slideshow": {
     "slide_type": "fragment"
    }
   },
   "outputs": [
    {
     "data": {
      "text/html": [
       "<img src=\"https://imgs.xkcd.com/comics/size_venn_diagram.png\"/>"
      ],
      "text/plain": [
       "<IPython.core.display.HTML object>"
      ]
     },
     "metadata": {},
     "output_type": "display_data"
    }
   ],
   "source": [
    "display(HTML('<img src=\"'+comicUrl+'\"/>'))"
   ]
  },
  {
   "cell_type": "markdown",
   "metadata": {
    "slideshow": {
     "slide_type": "subslide"
    }
   },
   "source": [
    "Try calling other APIs from these sites...\n",
    "* [Any API](https://any-api.com)\n",
    "* [toddmotto public APIs](https://github.com/toddmotto/public-apis)"
   ]
  },
  {
   "cell_type": "markdown",
   "metadata": {
    "slideshow": {
     "slide_type": "slide"
    }
   },
   "source": [
    "### Why Open Data?\n",
    "\n",
    "* [Open Opportunities](http://smallville.com.au/open-opportunities-business-open-data/)\n",
    "* What do businesses have to gain by sharing data?\n",
    "    * Expand customer base\n",
    "    * Customer loyalty via transparency - evidence of claims\n",
    "    * Knowledge base adds value to business\n",
    "    * Product improvement - communication - realtime\n",
    "* What do businesses have to gain by using open data?\n",
    "    * Identify new customers and markets\n",
    "    * Identify trends\n",
    "    * Guage sentiment of customers\n",
    "    * Adjust operations more quickly in response to external events\n",
    "    * Competitive knowledge\n",
    "* What environmental factors?\n",
    "    * Political events\n",
    "    * Geographic/weather conditions"
   ]
  }
 ],
 "metadata": {
  "celltoolbar": "Slideshow",
  "kernelspec": {
   "display_name": "Python 3",
   "language": "python",
   "name": "python3"
  },
  "language_info": {
   "codemirror_mode": {
    "name": "ipython",
    "version": 3
   },
   "file_extension": ".py",
   "mimetype": "text/x-python",
   "name": "python",
   "nbconvert_exporter": "python",
   "pygments_lexer": "ipython3",
   "version": "3.5.2"
  }
 },
 "nbformat": 4,
 "nbformat_minor": 2
}
