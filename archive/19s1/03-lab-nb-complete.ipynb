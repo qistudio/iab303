{
 "cells": [
  {
   "cell_type": "markdown",
   "metadata": {},
   "source": [
    "<div class=\"alert alert-block alert-info\"><b>IAB303</b> - Data Analytics for Business Insight</div>"
   ]
  },
  {
   "cell_type": "markdown",
   "metadata": {},
   "source": [
    "## PRACTICAL :: Open data for business environment assessment\n",
    "\n",
    "1. Basics\n",
    "2. Connect to API\n",
    "3. Experiment with JSON from APIs"
   ]
  },
  {
   "cell_type": "markdown",
   "metadata": {},
   "source": [
    "---\n",
    "### [1] Basics\n",
    "\n",
    "* JSON objects loaded as python Dicts\n",
    "* JSON arrays loaded as python Lists"
   ]
  },
  {
   "cell_type": "markdown",
   "metadata": {},
   "source": [
    "---\n",
    "#### JSON objects"
   ]
  },
  {
   "cell_type": "code",
   "execution_count": 4,
   "metadata": {},
   "outputs": [
    {
     "name": "stdout",
     "output_type": "stream",
     "text": [
      "The type of simpleJsonObj: <class 'str'>\n",
      "loadedObj looks like: {'lastname': 'gibson', 'firstname': 'andrew'}\n",
      "The type of loadedObj: <class 'dict'>\n"
     ]
    }
   ],
   "source": [
    "# import the python json library\n",
    "import json\n",
    "\n",
    "#  a simple json object\n",
    "simpleJsonObj = '{ \"lastname\": \"gibson\",\"firstname\": \"andrew\"}'\n",
    "print(\"The type of simpleJsonObj:\",type(simpleJsonObj))\n",
    "loadedObj = json.loads(simpleJsonObj)\n",
    "\n",
    "# print some information about the loaded object\n",
    "print(\"loadedObj looks like:\",loadedObj)\n",
    "print(\"The type of loadedObj:\",type(loadedObj))"
   ]
  },
  {
   "cell_type": "markdown",
   "metadata": {},
   "source": [
    "**DISCUSSION:** \n",
    "- What is a string?\n",
    "- What happened when we loaded the string with the function `json.loads()`?\n",
    "- A python `dict` is a dictionary which has `keys` and `values`. Using your common knowledge of a dictionary, what do you think keys and values are?\n",
    "- What are the keys and values in the example above?"
   ]
  },
  {
   "cell_type": "code",
   "execution_count": 14,
   "metadata": {},
   "outputs": [
    {
     "name": "stdout",
     "output_type": "stream",
     "text": [
      "First name: andrew\n",
      "Last name: gibson\n"
     ]
    }
   ],
   "source": [
    "# Access dict values by key\n",
    "value1 = loadedObj.get(\"firstname\")\n",
    "print(\"First name:\",value1)\n",
    "value2 = loadedObj[\"lastname\"]\n",
    "print(\"Last name:\",value2)"
   ]
  },
  {
   "cell_type": "code",
   "execution_count": 16,
   "metadata": {},
   "outputs": [
    {
     "name": "stdout",
     "output_type": "stream",
     "text": [
      "First name: andrew\n",
      "Last name: gibson\n"
     ]
    }
   ],
   "source": [
    "# Or a shortcut for the above\n",
    "print(\"First name:\",loadedObj['firstname'])\n",
    "print(\"Last name:\",loadedObj['lastname'])"
   ]
  },
  {
   "cell_type": "code",
   "execution_count": 10,
   "metadata": {},
   "outputs": [
    {
     "name": "stdout",
     "output_type": "stream",
     "text": [
      "keys: dict_keys(['lastname', 'firstname'])\n",
      "values: dict_values(['gibson', 'andrew'])\n",
      "items: dict_items([('lastname', 'gibson'), ('firstname', 'andrew')])\n"
     ]
    }
   ],
   "source": [
    "# Get all of the keys\n",
    "print(\"keys:\",loadedObj.keys())\n",
    "\n",
    "# Get all of the values\n",
    "print(\"values:\",loadedObj.values())\n",
    "\n",
    "# Get all of the items\n",
    "print(\"items:\",loadedObj.items())"
   ]
  },
  {
   "cell_type": "markdown",
   "metadata": {},
   "source": [
    "We can iterate over any of these lists (keys, values, items). This enables us to do something useful with each itme in the dictionary. For now, we are using print, but we could do anything (possible in Python) with each item by using the same approach. The basic pattern is: \n",
    "\n",
    "```\n",
    "for ITEM in LIST:\n",
    "    do something\n",
    "```"
   ]
  },
  {
   "cell_type": "code",
   "execution_count": 13,
   "metadata": {},
   "outputs": [
    {
     "name": "stdout",
     "output_type": "stream",
     "text": [
      "The lastname is gibson\n",
      "The firstname is andrew\n"
     ]
    }
   ],
   "source": [
    "# Iterate over the dictionary items\n",
    "for key,value in loadedObj.items():\n",
    "    print(\"The\",key,\"is\",value)"
   ]
  },
  {
   "cell_type": "markdown",
   "metadata": {},
   "source": [
    "**EXPERIMENT:** \n",
    "- try iterating over keys and values separately\n",
    "- try changing the key and value above\n",
    "- try adding more keys and values to the json object (hint: `mydict[key] = \"value\"`)\n",
    "- try sorting the dictionary (hint: `sorted(mydict)` or `sorted(mydict.values())`)"
   ]
  },
  {
   "cell_type": "markdown",
   "metadata": {},
   "source": [
    "---\n",
    "#### JSON arrays"
   ]
  },
  {
   "cell_type": "code",
   "execution_count": 20,
   "metadata": {},
   "outputs": [
    {
     "name": "stdout",
     "output_type": "stream",
     "text": [
      "loadedArray looks like: ['element1', 2, 'el 3', 432, {'name': 'andrew'}]\n",
      "loadedArray type is: <class 'list'>\n"
     ]
    }
   ],
   "source": [
    "# try loading a json array\n",
    "simpleJsonArray = '[\"element1\",2,\"el 3\",432, { \"name\": \"andrew\" }]'\n",
    "\n",
    "loadedArray = json.loads(simpleJsonArray)\n",
    "print(\"loadedArray looks like:\",loadedArray)\n",
    "print(\"loadedArray type is:\",type(loadedArray))"
   ]
  },
  {
   "cell_type": "code",
   "execution_count": 22,
   "metadata": {},
   "outputs": [
    {
     "name": "stdout",
     "output_type": "stream",
     "text": [
      "The first element is: 2\n"
     ]
    }
   ],
   "source": [
    "# Access an element of a list using its index\n",
    "elem = loadedArray[1]\n",
    "print(\"The first element is:\",elem)"
   ]
  },
  {
   "cell_type": "markdown",
   "metadata": {},
   "source": [
    "- What is this incorrect?\n",
    "- Modify the code to make it correct"
   ]
  },
  {
   "cell_type": "code",
   "execution_count": 24,
   "metadata": {},
   "outputs": [
    {
     "name": "stdout",
     "output_type": "stream",
     "text": [
      "{'name': 'andrew'}\n",
      "<class 'dict'>\n"
     ]
    }
   ],
   "source": [
    "# get the last element in the list\n",
    "nameObj = loadedArray[-1]\n",
    "print(nameObj)\n",
    "print(type(nameObj))"
   ]
  },
  {
   "cell_type": "markdown",
   "metadata": {},
   "source": [
    "- What do you notice about this element type?\n",
    "- What does this tell you that we can do with Python lists and dicts?\n",
    "- Why is this important?"
   ]
  },
  {
   "cell_type": "code",
   "execution_count": 25,
   "metadata": {},
   "outputs": [
    {
     "name": "stdout",
     "output_type": "stream",
     "text": [
      "element1\n",
      "2\n",
      "el 3\n",
      "432\n",
      "{'name': 'andrew'}\n"
     ]
    }
   ],
   "source": [
    "# Iterate over the list the same as we did for dicts\n",
    "for entry in loadedArray:\n",
    "    print(entry)"
   ]
  },
  {
   "cell_type": "code",
   "execution_count": 27,
   "metadata": {},
   "outputs": [
    {
     "data": {
      "text/plain": [
       "True"
      ]
     },
     "execution_count": 27,
     "metadata": {},
     "output_type": "execute_result"
    }
   ],
   "source": [
    "# Test if an element exists\n",
    "432 in loadedArray"
   ]
  },
  {
   "cell_type": "code",
   "execution_count": 29,
   "metadata": {},
   "outputs": [
    {
     "data": {
      "text/plain": [
       "True"
      ]
     },
     "execution_count": 29,
     "metadata": {},
     "output_type": "execute_result"
    }
   ],
   "source": [
    "# Make sure the type is correct\n",
    "'el 3' in loadedArray"
   ]
  },
  {
   "cell_type": "code",
   "execution_count": 30,
   "metadata": {},
   "outputs": [
    {
     "data": {
      "text/plain": [
       "False"
      ]
     },
     "execution_count": 30,
     "metadata": {},
     "output_type": "execute_result"
    }
   ],
   "source": [
    "# What if the element isn't there?\n",
    "'route66' in loadedArray"
   ]
  },
  {
   "cell_type": "code",
   "execution_count": 31,
   "metadata": {},
   "outputs": [
    {
     "ename": "IndexError",
     "evalue": "list index out of range",
     "output_type": "error",
     "traceback": [
      "\u001b[0;31m---------------------------------------------------------------------------\u001b[0m",
      "\u001b[0;31mIndexError\u001b[0m                                Traceback (most recent call last)",
      "\u001b[0;32m<ipython-input-31-150f3b0c895b>\u001b[0m in \u001b[0;36m<module>\u001b[0;34m\u001b[0m\n\u001b[0;32m----> 1\u001b[0;31m \u001b[0mloadedArray\u001b[0m\u001b[0;34m[\u001b[0m\u001b[0;36m14\u001b[0m\u001b[0;34m]\u001b[0m\u001b[0;34m\u001b[0m\u001b[0;34m\u001b[0m\u001b[0m\n\u001b[0m",
      "\u001b[0;31mIndexError\u001b[0m: list index out of range"
     ]
    }
   ],
   "source": [
    "# What if the index is bigger than the list\n",
    "loadedArray[14]"
   ]
  },
  {
   "cell_type": "markdown",
   "metadata": {},
   "source": [
    "**EXPERIMENT:** \n",
    "- try adding elements, to the original json array\n",
    "- try adding json objects to the json array\n",
    "- try adding a json array as an element in a json object and add that to the original array"
   ]
  },
  {
   "cell_type": "markdown",
   "metadata": {},
   "source": [
    "---\n",
    "### [2] Connect to an API\n",
    "\n",
    "Starting with the workshop example, let's retrieve some JSON from XKCD and load it into Python Dict. For each code block, try and explain in your own words what the code is doing."
   ]
  },
  {
   "cell_type": "code",
   "execution_count": 35,
   "metadata": {},
   "outputs": [
    {
     "name": "stdout",
     "output_type": "stream",
     "text": [
      "200\n"
     ]
    }
   ],
   "source": [
    "from urllib import request, response\n",
    "\n",
    "# Fetch the data for the latest xkcd comic\n",
    "comicRequest = request.Request('http://xkcd.com/info.0.json')\n",
    "comicResponse = request.urlopen(comicRequest)\n",
    "print(comicResponse.status)                   "
   ]
  },
  {
   "cell_type": "markdown",
   "metadata": {},
   "source": [
    "- change `json` in the request to `js` and see what happens\n",
    "- what does the code `200` mean? (hint: search `http status codes`)"
   ]
  },
  {
   "cell_type": "code",
   "execution_count": 36,
   "metadata": {},
   "outputs": [
    {
     "name": "stdout",
     "output_type": "stream",
     "text": [
      "{\"month\": \"3\", \"num\": 2121, \"link\": \"\", \"year\": \"2019\", \"news\": \"\", \"safe_title\": \"Light Pollution\", \"transcript\": \"\", \"alt\": \"It's so sad how almost no one alive today can remember seeing the galactic rainbow, the insanity nebula, or the skull and glowing eyes of the Destroyer of Sagittarius.\", \"img\": \"https://imgs.xkcd.com/comics/light_pollution.png\", \"title\": \"Light Pollution\", \"day\": \"8\"}\n",
      "<class 'str'>\n"
     ]
    }
   ],
   "source": [
    "# Get the body of the response\n",
    "responseBody = comicResponse.read().decode('utf8')\n",
    "print(responseBody)\n",
    "print(type(responseBody))"
   ]
  },
  {
   "cell_type": "markdown",
   "metadata": {},
   "source": [
    "- This is a string, but what kind of data does it look like?\n",
    "- What can we do with it?"
   ]
  },
  {
   "cell_type": "code",
   "execution_count": 37,
   "metadata": {},
   "outputs": [
    {
     "name": "stdout",
     "output_type": "stream",
     "text": [
      "{'month': '3', 'num': 2121, 'link': '', 'year': '2019', 'news': '', 'safe_title': 'Light Pollution', 'transcript': '', 'alt': \"It's so sad how almost no one alive today can remember seeing the galactic rainbow, the insanity nebula, or the skull and glowing eyes of the Destroyer of Sagittarius.\", 'img': 'https://imgs.xkcd.com/comics/light_pollution.png', 'title': 'Light Pollution', 'day': '8'}\n",
      "<class 'dict'>\n"
     ]
    }
   ],
   "source": [
    "#Read the JSON\n",
    "jsonFromApi = json.loads(responseBody)\n",
    "print(jsonFromApi)\n",
    "print(type(jsonFromApi))"
   ]
  },
  {
   "cell_type": "code",
   "execution_count": 38,
   "metadata": {},
   "outputs": [
    {
     "name": "stdout",
     "output_type": "stream",
     "text": [
      "Light Pollution\n"
     ]
    }
   ],
   "source": [
    "#Now get the title of the comic\n",
    "title = jsonFromApi[\"title\"]\n",
    "print(title)"
   ]
  },
  {
   "cell_type": "markdown",
   "metadata": {},
   "source": [
    "**EXPERIMENT:**\n",
    "- we now have data in the same format as we were experimenting with before\n",
    "- try and print out all of the keys\n",
    "- try and get different values by using their key"
   ]
  },
  {
   "cell_type": "markdown",
   "metadata": {},
   "source": [
    "---\n",
    "### Experiment with JSON from APIs\n",
    "\n",
    "- First create a function that gets json from a URL and returns a Python array or dict\n",
    "- Try your function on: `https://dog.ceo/api/breeds/list/all` - how many breeds of hound are there?"
   ]
  },
  {
   "cell_type": "code",
   "execution_count": 41,
   "metadata": {},
   "outputs": [],
   "source": [
    "# Function\n",
    "def getDogBreeds(url):\n",
    "    req = request.Request(url)\n",
    "    resp = request.urlopen(req)\n",
    "    body = resp.read().decode('utf8')\n",
    "    return json.loads(body)"
   ]
  },
  {
   "cell_type": "code",
   "execution_count": 48,
   "metadata": {},
   "outputs": [
    {
     "name": "stdout",
     "output_type": "stream",
     "text": [
      "Data from server:\n",
      " {'status': 'success', 'message': {'affenpinscher': [], 'african': [], 'airedale': [], 'akita': [], 'appenzeller': [], 'basenji': [], 'beagle': [], 'bluetick': [], 'borzoi': [], 'bouvier': [], 'boxer': [], 'brabancon': [], 'briard': [], 'bulldog': ['boston', 'french'], 'bullterrier': ['staffordshire'], 'cairn': [], 'cattledog': ['australian'], 'chihuahua': [], 'chow': [], 'clumber': [], 'cockapoo': [], 'collie': ['border'], 'coonhound': [], 'corgi': ['cardigan'], 'cotondetulear': [], 'dachshund': [], 'dalmatian': [], 'dane': ['great'], 'deerhound': ['scottish'], 'dhole': [], 'dingo': [], 'doberman': [], 'elkhound': ['norwegian'], 'entlebucher': [], 'eskimo': [], 'frise': ['bichon'], 'germanshepherd': [], 'greyhound': ['italian'], 'groenendael': [], 'hound': ['afghan', 'basset', 'blood', 'english', 'ibizan', 'walker'], 'husky': [], 'keeshond': [], 'kelpie': [], 'komondor': [], 'kuvasz': [], 'labrador': [], 'leonberg': [], 'lhasa': [], 'malamute': [], 'malinois': [], 'maltese': [], 'mastiff': ['bull', 'english', 'tibetan'], 'mexicanhairless': [], 'mix': [], 'mountain': ['bernese', 'swiss'], 'newfoundland': [], 'otterhound': [], 'papillon': [], 'pekinese': [], 'pembroke': [], 'pinscher': ['miniature'], 'pointer': ['german', 'germanlonghair'], 'pomeranian': [], 'poodle': ['miniature', 'standard', 'toy'], 'pug': [], 'puggle': [], 'pyrenees': [], 'redbone': [], 'retriever': ['chesapeake', 'curly', 'flatcoated', 'golden'], 'ridgeback': ['rhodesian'], 'rottweiler': [], 'saluki': [], 'samoyed': [], 'schipperke': [], 'schnauzer': ['giant', 'miniature'], 'setter': ['english', 'gordon', 'irish'], 'sheepdog': ['english', 'shetland'], 'shiba': [], 'shihtzu': [], 'spaniel': ['blenheim', 'brittany', 'cocker', 'irish', 'japanese', 'sussex', 'welsh'], 'springer': ['english'], 'stbernard': [], 'terrier': ['american', 'australian', 'bedlington', 'border', 'dandie', 'fox', 'irish', 'kerryblue', 'lakeland', 'norfolk', 'norwich', 'patterdale', 'russell', 'scottish', 'sealyham', 'silky', 'tibetan', 'toy', 'westhighland', 'wheaten', 'yorkshire'], 'vizsla': [], 'weimaraner': [], 'whippet': [], 'wolfhound': ['irish']}}\n",
      "\n",
      "Breeds:\n",
      " {'affenpinscher': [], 'african': [], 'airedale': [], 'akita': [], 'appenzeller': [], 'basenji': [], 'beagle': [], 'bluetick': [], 'borzoi': [], 'bouvier': [], 'boxer': [], 'brabancon': [], 'briard': [], 'bulldog': ['boston', 'french'], 'bullterrier': ['staffordshire'], 'cairn': [], 'cattledog': ['australian'], 'chihuahua': [], 'chow': [], 'clumber': [], 'cockapoo': [], 'collie': ['border'], 'coonhound': [], 'corgi': ['cardigan'], 'cotondetulear': [], 'dachshund': [], 'dalmatian': [], 'dane': ['great'], 'deerhound': ['scottish'], 'dhole': [], 'dingo': [], 'doberman': [], 'elkhound': ['norwegian'], 'entlebucher': [], 'eskimo': [], 'frise': ['bichon'], 'germanshepherd': [], 'greyhound': ['italian'], 'groenendael': [], 'hound': ['afghan', 'basset', 'blood', 'english', 'ibizan', 'walker'], 'husky': [], 'keeshond': [], 'kelpie': [], 'komondor': [], 'kuvasz': [], 'labrador': [], 'leonberg': [], 'lhasa': [], 'malamute': [], 'malinois': [], 'maltese': [], 'mastiff': ['bull', 'english', 'tibetan'], 'mexicanhairless': [], 'mix': [], 'mountain': ['bernese', 'swiss'], 'newfoundland': [], 'otterhound': [], 'papillon': [], 'pekinese': [], 'pembroke': [], 'pinscher': ['miniature'], 'pointer': ['german', 'germanlonghair'], 'pomeranian': [], 'poodle': ['miniature', 'standard', 'toy'], 'pug': [], 'puggle': [], 'pyrenees': [], 'redbone': [], 'retriever': ['chesapeake', 'curly', 'flatcoated', 'golden'], 'ridgeback': ['rhodesian'], 'rottweiler': [], 'saluki': [], 'samoyed': [], 'schipperke': [], 'schnauzer': ['giant', 'miniature'], 'setter': ['english', 'gordon', 'irish'], 'sheepdog': ['english', 'shetland'], 'shiba': [], 'shihtzu': [], 'spaniel': ['blenheim', 'brittany', 'cocker', 'irish', 'japanese', 'sussex', 'welsh'], 'springer': ['english'], 'stbernard': [], 'terrier': ['american', 'australian', 'bedlington', 'border', 'dandie', 'fox', 'irish', 'kerryblue', 'lakeland', 'norfolk', 'norwich', 'patterdale', 'russell', 'scottish', 'sealyham', 'silky', 'tibetan', 'toy', 'westhighland', 'wheaten', 'yorkshire'], 'vizsla': [], 'weimaraner': [], 'whippet': [], 'wolfhound': ['irish']}\n"
     ]
    }
   ],
   "source": [
    "# Get the breeds\n",
    "data = getDogBreeds(\"https://dog.ceo/api/breeds/list/all\")\n",
    "print(\"Data from server:\\n\",data)\n",
    "\n",
    "# Get just the info we need\n",
    "breeds = data[\"message\"]\n",
    "print(\"\\nBreeds:\\n\",breeds) #Note the new lines to help with formatting"
   ]
  },
  {
   "cell_type": "code",
   "execution_count": 52,
   "metadata": {},
   "outputs": [
    {
     "name": "stdout",
     "output_type": "stream",
     "text": [
      "There are 6 breeds of hound :\n",
      "\t afghan\n",
      "\t basset\n",
      "\t blood\n",
      "\t english\n",
      "\t ibizan\n",
      "\t walker\n"
     ]
    }
   ],
   "source": [
    "# Answer question?\n",
    "breed2find = \"hound\"\n",
    "selected = breeds[breed2find]\n",
    "# how many?\n",
    "print(\"There are\",len(selected),\"breeds of\",breed2find,\":\")\n",
    "for breed in selected:\n",
    "    print(\"\\t\",breed)"
   ]
  },
  {
   "cell_type": "markdown",
   "metadata": {},
   "source": [
    "**EXPERIMENT:**\n",
    "- Try parsing the data from this API in different ways to answer different questions\n",
    "- Try getting data from a different API and parsing it"
   ]
  },
  {
   "cell_type": "code",
   "execution_count": null,
   "metadata": {},
   "outputs": [],
   "source": []
  }
 ],
 "metadata": {
  "hide_input": false,
  "kernelspec": {
   "display_name": "Python 3",
   "language": "python",
   "name": "python3"
  },
  "language_info": {
   "codemirror_mode": {
    "name": "ipython",
    "version": 3
   },
   "file_extension": ".py",
   "mimetype": "text/x-python",
   "name": "python",
   "nbconvert_exporter": "python",
   "pygments_lexer": "ipython3",
   "version": "3.6.7"
  }
 },
 "nbformat": 4,
 "nbformat_minor": 2
}
