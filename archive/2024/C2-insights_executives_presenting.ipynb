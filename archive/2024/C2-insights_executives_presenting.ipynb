{
 "cells": [
  {
   "cell_type": "markdown",
   "metadata": {},
   "source": [
    "<div class=\"alert alert-block alert-info\"><b>IAB303</b> - Data Analytics for Business Insight</div>"
   ]
  },
  {
   "cell_type": "markdown",
   "metadata": {
    "tags": []
   },
   "source": [
    "# Insights for executives - presenting to stakeholders\n",
    "\n",
    "**1. Features of good presentations**\n",
    "\n",
    "**2. Short and to-the-point presentations**\n"
   ]
  },
  {
   "cell_type": "markdown",
   "metadata": {},
   "source": [
    "These examples shows the importance of presenting analytics from a 'business' (contextual/topic) POV and to keep it short: \n",
    "\n",
    "[Can we understand AI? (Mythreyi Velmurugan)](https://www.youtube.com/watch?v=zcWT-dYoPM0)\n",
    "\n",
    "[From molecules to the mind: autism biology from big data (Chloe Yap)](https://www.youtube.com/watch?v=syw5YYICo_U)\n",
    "\n",
    "[All the world wide web's a stage: Teenager girls' self-presentation and identifies formation through status updates (Megan Pozzi)](https://www.youtube.com/watch?v=0K9iYUBCG_o)\n"
   ]
  },
  {
   "cell_type": "markdown",
   "metadata": {},
   "source": [
    "## Presentation structure\n",
    "\n",
    "\n",
    "* Introduction\n",
    "    - What is the problem/main topic of the talk? (\"what is\")\n",
    "    - Why is this important? \n",
    "    - What is your recommendation how to fix this problem? (\"what could be\")\n",
    "\n",
    "\n",
    "* Body\n",
    "    - short overview of data and analysis (not too much detail, avoid technical jargon)\n",
    "    - results & key findings: charts & visualisations\n",
    "    - go back and forth between \"what is\" and \"what could be\"\n",
    "\n",
    "\n",
    "* Conclusion\n",
    "    - recommendations\n",
    "    - limitations\n",
    "\n",
    "\n",
    "[QUT HiQ - How to prepare and deliver presentations](https://qutvirtual4.qut.edu.au/group/student/study/assignments/presenting)\n",
    "\n"
   ]
  },
  {
   "cell_type": "markdown",
   "metadata": {},
   "source": [
    "\n",
    "<img src=\"graphics/beginmiddleend.PNG\" width=\"40%\" />\n",
    "\n",
    "(image credit: Hugh Kearns, ithinkwell.com.au)"
   ]
  },
  {
   "cell_type": "markdown",
   "metadata": {},
   "source": [
    "## Presentation style\n",
    "\n",
    "Ensure that you present in ways that\n",
    "- Can be understood by the audience\n",
    "- Makes sense to the audience\n",
    "- Have meaning to the audience\n",
    "- Are relevant to the audience’s expectations\n",
    "- Have substance – not hollow gimmicks\n",
    "- Are succinct, lively and engaging… not boring\n",
    "- Use words and images to enhance meaning and understanding\n",
    "- Tell a clear and compelling story\n",
    "- Ensure you can use the presentation technology well (microphone, screen sharing, software, ...)\n"
   ]
  },
  {
   "cell_type": "markdown",
   "metadata": {},
   "source": [
    "## Keep your presentation short and to the point.\n",
    "\n",
    "[How to Present to Senior Executives (HBR blog by Nancy Duarte)](https://hbr.org/2012/10/how-to-present-to-senior-execu)\n",
    "\n",
    "\n",
    "- **Summarise up front**. If you are given 30 mins to present, make your whole presentation fit into 5 mins. That's your introduction - clearly state what the problem is and what your conclusion/recommendation (take-home message) is. \n",
    "    \n",
    "- **Set expectations**. Let the audience know you’ll spend the first few minutes presenting your summary and the rest of the time on discussion. \n",
    "    \n",
    "- **Create summary slides**. Place a short overview of key points at the front; the rest of your slides should serve as an appendix. Follow the 10% rule (e.g., 30 slides in total, max. 3 summary slides at the start).\n",
    "    \n",
    "- **Give the audience what they asked for** (don't cover anything else). \n",
    "\n",
    "\n",
    "- **Rehearse**. Practice and ask a colleague for honest feedback ('critical friend').\n",
    "    \n",
    "\n",
    "\n",
    "\n",
    "[secondnature.com.au - How To Present To Senior Executives & The Board](https://www.secondnature.com.au/blog/presenting-to-senior-executives/)\n",
    "\n",
    "1. Know your audience. \n",
    "2. What else is on the agenda of the meeting? \n",
    "3. Answer the brief. Be succinct. \n",
    "4. Don't use jargon. \n",
    "5. Structure your presentation to reflect their needs. \n",
    "6. Start with the bottom line.\n",
    "7. Manage their expectations. \n",
    "8. Be flexible. \n",
    "9. Expect to be interrupted. \n",
    "10. Anticipate questions in advance. \n",
    "\n",
    "\n",
    "\n",
    "\n"
   ]
  },
  {
   "cell_type": "markdown",
   "metadata": {},
   "source": [
    "## Effective slides\n",
    "\n",
    "**Slides should**\n",
    "- support your presentation\n",
    "- provide cues to your main point\n",
    "- engage your audience\n",
    "\n",
    "**Keep in mind that...\n",
    "An audience can’t listen to your presentation and read detailed, text-heavy slides at the same time (not without missing key parts of your message).** \n",
    "- Make sure your slides pass the **\"glance test\"**: your audience should be able to comprehend each slide in about three seconds.\n",
    "- no more than four points per slide/page\n",
    "- show images and figures as much as possible and relevant to your main point\n",
    "- reduce textual information as much as possible (\"a picute says more than a thousand words\")\n",
    "\n"
   ]
  },
  {
   "cell_type": "markdown",
   "metadata": {},
   "source": [
    "\n",
    "\n",
    "<img src=\"graphics/1slidepermin.PNG\" width=\"25%\" />"
   ]
  },
  {
   "cell_type": "markdown",
   "metadata": {},
   "source": [
    "\n",
    "Ensure images and text are legible from a distance, for in-person presentations \n",
    "\n",
    "<font size=\"24\">use a minimum font size of 24pt</font>\n",
    "    \n",
    "<img src=\"graphics/slide_fontsize.PNG\" width=\"45%\" />\n",
    "\n",
    "\n",
    "\n",
    "    "
   ]
  },
  {
   "cell_type": "markdown",
   "metadata": {},
   "source": [
    "- text should be aligned on the left of the screen (it is easier for the eye to follow from left to right)\n",
    "- use consistent colour themes, fonts and slide transitions\n",
    "- the background should not distract or over-power the words/information you are trying to display.\n",
    "    \n",
    "    <img src=\"graphics/slides_background.PNG\" width=\"45%\" />\n",
    "    \n",
    "    (image credit: Lindsey Patrick, QUT HiQ)\n",
    "- Contrast and colour: background and font colours should be complimentary, the font colour should stand out so it's easy to view for the audience. \n",
    "    \n",
    "- When you show images/figures/graphics/photos, they should relate to the content you are presenting. If an image is not related to the content, leave it off your slides.\n"
   ]
  },
  {
   "cell_type": "markdown",
   "metadata": {},
   "source": [
    "\n",
    "\n",
    "<font size=\"6\">do **not** use</font> <font color=\"red\">visually</font> <font color=\"green\">distracting</font>, <font size=\"4\">gimmicky</font> fonts \n",
    "\n",
    "Keep font type and size consistent.\n",
    "\n",
    "DONT USE ALL CAPS (for the audience it feels like you are shouting at them).\n",
    "\n",
    "<img src=\"graphics/slide_font.PNG\" width=\"50%\" />\n",
    "(image credit: Hugh Kearns, ithinkwell.com.au)"
   ]
  },
  {
   "cell_type": "markdown",
   "metadata": {},
   "source": []
  },
  {
   "cell_type": "markdown",
   "metadata": {
    "tags": []
   },
   "source": [
    "### Keep charts simple.\n",
    "Make it easy for the audience.\n",
    "\n",
    "\n",
    "\n",
    "<img src=\"http://mitcommlab.wpengine.com/be/wp-content/uploads/sites/2/2016/09/slideshow4.gif\"/>\n",
    "\n",
    "(from: https://mitcommlab.mit.edu/broad/commkit/slideshow/)\n"
   ]
  },
  {
   "cell_type": "markdown",
   "metadata": {},
   "source": [
    "## Online presentations\n",
    "\n",
    "\n",
    "[secondnature.com.au - Learn how to present like a Video Conferencing Pro](https://www.secondnature.com.au/blog/how-to-present-better-by-video-conference/)\n",
    "\n",
    "\n",
    "- Join the meeting 10-15 mins early to make sure all technology works. \n",
    "\n",
    "- Don't rely on technology - have a backup recording and/or email that presents the main points. \n",
    "\n",
    "- Your appearance matters. Dress up. \n",
    "\n",
    "- Dress your set (background and lighting).\n",
    "\n",
    "- Sound quality: ensure your microphone works well and that you present in a setting with minimal background noise.\n",
    "\n",
    "- Look at the camera. Your audience is behind the camera, not on your screen.\n",
    "\n",
    "- Make your movements and gestures matter. Beware of nervous gestures like fiddling with a pen or palying with your hair. \n",
    "\n",
    "- Present slower than you would in-person. Keep your slides up a bit longer.\n",
    "\n",
    "- If you present longer than 5 mins, engage your audience (e.g., use 'reactions', emojis, polls, etc.).\n",
    "\n",
    "\n"
   ]
  },
  {
   "cell_type": "markdown",
   "metadata": {},
   "source": [
    "## SVS\n",
    "\n",
    "<img src=\"graphics/SVS_QR.jpg\" width=\"90%\" />"
   ]
  },
  {
   "cell_type": "markdown",
   "metadata": {},
   "source": []
  }
 ],
 "metadata": {
  "hide_input": false,
  "kernelspec": {
   "display_name": "Python 3 (ipykernel)",
   "language": "python",
   "name": "python3"
  },
  "language_info": {
   "codemirror_mode": {
    "name": "ipython",
    "version": 3
   },
   "file_extension": ".py",
   "mimetype": "text/x-python",
   "name": "python",
   "nbconvert_exporter": "python",
   "pygments_lexer": "ipython3",
   "version": "3.10.12"
  },
  "qut": {
   "creation_period": "2023_sem2",
   "nb_name": "C2-insights_executives_presenting.ipynb",
   "unit_code": "IAB303"
  }
 },
 "nbformat": 4,
 "nbformat_minor": 4
}
