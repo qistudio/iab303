{
 "cells": [
  {
   "cell_type": "markdown",
   "metadata": {
    "slideshow": {
     "slide_type": "slide"
    }
   },
   "source": [
    "<div class=\"alert alert-block alert-info\"><b>IAB303</b> - Data Analytics for Business Insight</div>"
   ]
  },
  {
   "cell_type": "markdown",
   "metadata": {
    "slideshow": {
     "slide_type": "-"
    }
   },
   "source": [
    "# Business Concerns & Data Analytics"
   ]
  },
  {
   "cell_type": "markdown",
   "metadata": {
    "slideshow": {
     "slide_type": "subslide"
    }
   },
   "source": [
    "---\n",
    "\n",
    "## Why Data Analytics?"
   ]
  },
  {
   "cell_type": "markdown",
   "metadata": {
    "slideshow": {
     "slide_type": "fragment"
    }
   },
   "source": [
    "Imagine:\n",
    "* You've just started a new job\n",
    "* Marketing manager drops into your office with a problem: The business is looking to launch an agricultural product in either Australia or New Zealand. However, management is unsure which country to start with. Can you help?"
   ]
  },
  {
   "cell_type": "markdown",
   "metadata": {
    "slideshow": {
     "slide_type": "fragment"
    }
   },
   "source": [
    "Consider:\n",
    "* How significant is this problem for the business?\n",
    "* What information do you need to address this concern?\n",
    "* How do you go about obtaining this information?"
   ]
  },
  {
   "cell_type": "markdown",
   "metadata": {
    "slideshow": {
     "slide_type": "slide"
    }
   },
   "source": [
    "### Human Intelligence as a starting point\n",
    "\n",
    "* How does the Marketing manager describe the problem?\n",
    "* What does their gut feeling, their intuition tell them?\n",
    "* At a guess, why do they think this happening?\n",
    "* The importance of intuition\n",
    "* The risks of intuition"
   ]
  },
  {
   "cell_type": "markdown",
   "metadata": {
    "slideshow": {
     "slide_type": "fragment"
    }
   },
   "source": [
    "### What value is Data Analytics for this scenario?\n",
    "\n",
    "Let's explore some data that could be relevant. For this exercise, we'll use the `agriculture_percent_of_gdp.csv` file in the data folder, which comes from [GapMinder](https://www.gapminder.org/data/)."
   ]
  },
  {
   "cell_type": "markdown",
   "metadata": {},
   "source": [
    "We can view the data by openning the file in Jupyter (which is a good idea to see what it looks like)."
   ]
  },
  {
   "cell_type": "markdown",
   "metadata": {
    "slideshow": {
     "slide_type": "slide"
    }
   },
   "source": [
    "### Making sense\n",
    "\n",
    "* How do we make meaning of this data?\n",
    "* What intuitions might we have on the data?\n",
    "* How do we test these intuitions?\n",
    "* What do we need to do to make this raw data useful?"
   ]
  },
  {
   "cell_type": "markdown",
   "metadata": {
    "slideshow": {
     "slide_type": "slide"
    }
   },
   "source": [
    "### Not so easy :(\n",
    "\n",
    "* How long did take you to spot the GDP of each country?\n",
    "* How easy would it be to compare to more countries?\n",
    "* What about dozens?\n",
    "* What is the computer good at?\n",
    "* What is the computer bad at?\n",
    "* What are humans good at?\n",
    "* What are humans bad at?"
   ]
  },
  {
   "cell_type": "markdown",
   "metadata": {
    "slideshow": {
     "slide_type": "fragment"
    }
   },
   "source": [
    "---\n",
    "\n",
    "## The Data Analytics Cycle\n"
   ]
  },
  {
   "cell_type": "markdown",
   "metadata": {},
   "source": [
    "For this unit, we are concerned with more than just data analytics, we are interested in what is *appropriate, efficous, ethical ...* what is the ***right*** kind of analytics to help provide the ***right*** kind of insights for business.\n",
    "\n",
    "In doing Data Analytics, we will follow a cycle - **QDAVI** - to address a business concern:\n",
    "\n",
    "1. **Q**uestion\n",
    "2. **D**ata\n",
    "3. **A**nalysis\n",
    "4. **V**isualisation\n",
    "5. **I**nsight\n",
    "\n",
    "<img src=\"graphics/QDAVI_cycle_sm.png\" width=\"50%\" />"
   ]
  },
  {
   "cell_type": "markdown",
   "metadata": {
    "slideshow": {
     "slide_type": "subslide"
    }
   },
   "source": [
    "### 1. QUESTION\n",
    "\n",
    "**Concern:** Which country, Australia or New Zealand is most suitable to launch a new agricultural product\n",
    "\n",
    "> What insights can be extracted from the agricultural percent of GDP of a country?"
   ]
  },
  {
   "cell_type": "markdown",
   "metadata": {},
   "source": [
    "### 2. Data\n",
    "\n",
    "First, load any software libraries that we might need to help us with the data analytics.\n",
    "`pandas` is a library for working with tabular data.\n",
    "`plotly.express` is a visualisation library."
   ]
  },
  {
   "cell_type": "code",
   "execution_count": null,
   "metadata": {},
   "outputs": [],
   "source": [
    "# Load required libraries\n",
    "import pandas as ???\n",
    "import plotly.express as ???"
   ]
  },
  {
   "cell_type": "markdown",
   "metadata": {},
   "source": [
    "Then, select appropriate data and load into our notebook"
   ]
  },
  {
   "cell_type": "code",
   "execution_count": null,
   "metadata": {},
   "outputs": [],
   "source": [
    "# Read a CSV into a dataframe\n",
    "file_path = \"data/\"\n",
    "file_name = \"agriculture_percent_of_gdp.csv\"\n",
    "index_column = \"???\"\n",
    "ag_gdp_df = pd.read_csv(f\"{???}{???}\",index_col=???)\n",
    "print(ag_gdp_df.shape) # displays (rows,cols)"
   ]
  },
  {
   "cell_type": "code",
   "execution_count": null,
   "metadata": {},
   "outputs": [],
   "source": [
    "# Take a look at the first 10 rows of data\n",
    "ag_gdp_df.head(???)"
   ]
  },
  {
   "cell_type": "markdown",
   "metadata": {},
   "source": [
    "Clean and preprocess the data"
   ]
  },
  {
   "cell_type": "code",
   "execution_count": null,
   "metadata": {},
   "outputs": [],
   "source": [
    "# Take the last 5 years of the GDP data\n",
    "most_recent_five_years = ['2016', '2017', '2018', '2019','2020']\n",
    "recent_df = ag_gdp_df.filter(???, axis=1)\n",
    "print(recent_df.shape)"
   ]
  },
  {
   "cell_type": "code",
   "execution_count": null,
   "metadata": {},
   "outputs": [],
   "source": [
    "# Just select the countries we are interested in by referencing the index\n",
    "select_df = recent_df.loc[[???,'New Zealand']]\n",
    "select_df"
   ]
  },
  {
   "cell_type": "markdown",
   "metadata": {
    "slideshow": {
     "slide_type": "subslide"
    }
   },
   "source": [
    "### 3. Analysis\n",
    "\n",
    "- What is the problem with the NZ data?\n",
    "- What do we need to do?\n",
    "- For now, we don't do any more analysis - we are more interested in the process"
   ]
  },
  {
   "cell_type": "code",
   "execution_count": null,
   "metadata": {},
   "outputs": [],
   "source": [
    "# Get descriptive stats\n",
    "select_df.T.describe()"
   ]
  },
  {
   "cell_type": "markdown",
   "metadata": {
    "slideshow": {
     "slide_type": "subslide"
    }
   },
   "source": [
    "### 4. Visualisation"
   ]
  },
  {
   "cell_type": "code",
   "execution_count": null,
   "metadata": {
    "slideshow": {
     "slide_type": "fragment"
    }
   },
   "outputs": [],
   "source": [
    "# Plot the 2 countries\n",
    "fig = px.line(select_df.T)\n",
    "fig.show()"
   ]
  },
  {
   "cell_type": "markdown",
   "metadata": {
    "slideshow": {
     "slide_type": "subslide"
    }
   },
   "source": [
    "### 5. Insight\n",
    "\n",
    "1. What is the concern?\n",
    "2. What data did we use?\n",
    "3. How did we analyse it, what decisions and why?\n",
    "4. What do the visualisations tell us?\n",
    "5. What is the recommendation for the concern? What other information would be helpful? What *doesn't* the data tell us? Can we make inferences?"
   ]
  },
  {
   "cell_type": "markdown",
   "metadata": {
    "slideshow": {
     "slide_type": "slide"
    }
   },
   "source": [
    "---\n",
    "\n",
    "## The Big Idea: Addressing business concerns through storytelling with information\n",
    "\n",
    "1. **CONCERN:** The business concern or problem understood in the context of the business and relation to the stakeholders.\n",
    "\n",
    "2. **DATA ANALYTICS:** Potential sources of information that exist inside or outside of the business or which may be synthesised in order to address a business concern. Techniques and processes and tools which can be utilised in analysing available data for the purposes of addressing a business concern.\n",
    "\n",
    "4. **MEANING:** Relationships, perspectives, narratives, and understandings that are supported by the data analytics in a way that is meaningful for stakeholders and holds efficacy in addressing a business concern."
   ]
  },
  {
   "cell_type": "markdown",
   "metadata": {
    "slideshow": {
     "slide_type": "slide"
    }
   },
   "source": [
    "### CONCERN\n",
    "\n",
    "* what kind of problem - is it a business problem?\n",
    "* who are the stakeholders?\n",
    "* what is the context?\n",
    "* business model disruption\n",
    "* talent management\n",
    "* global market trends\n",
    "* foresight\n",
    "* political risk\n"
   ]
  },
  {
   "cell_type": "markdown",
   "metadata": {
    "slideshow": {
     "slide_type": "slide"
    }
   },
   "source": [
    "#### LEARN MORE\n",
    "\n",
    "> \"If you aren't harnessing the power of data, you're almost certain to end up falling behind.\"\n",
    ">\n",
    "> [The Top Issues CEOs Face These Days (2014)](https://www.wsj.com/articles/executive-leadership-what-are-the-top-issues-ceos-face-these-days-1395267060)\n",
    "\n",
    "> \"Don't ever try and present a technology solution to a business problem\"\n",
    ">\n",
    "> [Technology Solutions Do Not Always Solve Business Problems](https://youtu.be/J7XAFa4wXgY)\n",
    ">\n",
    "\n",
    "> \"You promised me Mars colonies. Instead, I got Facebook.\"\n",
    ">\n",
    "> [Jason Pontin: Can technology solve our big problems?](https://youtu.be/ZB50BfYlsDc)\n"
   ]
  },
  {
   "cell_type": "markdown",
   "metadata": {
    "slideshow": {
     "slide_type": "slide"
    }
   },
   "source": [
    "### DATA\n",
    "\n",
    "* external vs internal\n",
    "* external data for a bigger picture\n",
    "* industry, consumer, product trends\n",
    "* needs to be available for decisions\n",
    "* quality an issue\n",
    "* governance\n",
    "* realtime\n"
   ]
  },
  {
   "cell_type": "markdown",
   "metadata": {
    "slideshow": {
     "slide_type": "slide"
    }
   },
   "source": [
    "#### LEARN MORE\n",
    "\n",
    "> \"Only one-third of enterprises currently use information to identify new business opportunities and predict future trends and behavior\"\n",
    ">\n",
    "> [14 Survey-Based Recommendations on How to Improve Data-Driven Decision-Making](https://bi-survey.com/data-driven-decision-making-business)\n",
    "\n",
    ">\"external data is one of the biggest blind spots in executive decision making today\"\n",
    ">\n",
    "> [Outside Insight: Why External Data Is The Fuel Of Tomorrow's Business Success](https://www.forbes.com/sites/bernardmarr/2017/11/15/outside-insight-why-external-data-is-the-fuel-of-tomorrows-business-success/#443d8fa25e1d)\n",
    "\n",
    "> \"There are many free, external data sources posted around the Internet that can, if used well, completely transform our understanding of our market, audience, and the way we do business.\"\n",
    ">\n",
    "> [Free Data Sources to Upgrade Your Business Decision-Making](https://www.sisense.com/blog/free-data-sources-upgrade-business-decision-making/)"
   ]
  },
  {
   "cell_type": "markdown",
   "metadata": {
    "slideshow": {
     "slide_type": "slide"
    }
   },
   "source": [
    "### ANALYTICS\n",
    "\n",
    "* anchored to business value\n",
    "* pragmatic approach\n",
    "* test strategies\n",
    "* invest in data for analytics insights\n"
   ]
  },
  {
   "cell_type": "markdown",
   "metadata": {
    "slideshow": {
     "slide_type": "slide"
    }
   },
   "source": [
    "#### LEARN MORE\n",
    "\n",
    "> \"big data analytics is not trawl fishing. It’s spear fishing\"\n",
    ">\n",
    ">[Big data analytics should be driven by business needs, not technology](https://www.mckinsey.com/business-functions/mckinsey-analytics/our-insights/big-data-analytics-should-be-driven-by-business-needs-not-technology)\n",
    "\n",
    "> \"So, one good rule of thumb is to always have a clear analytical objective.\"\n",
    "> \n",
    "> [Here Are The Benefits of Data-Driven Decision Making](https://www.entrepreneur.com/article/280923)"
   ]
  },
  {
   "cell_type": "markdown",
   "metadata": {
    "slideshow": {
     "slide_type": "slide"
    }
   },
   "source": [
    "### MEANING\n",
    "\n",
    "* proactivity\n",
    "* mitigating risk\n",
    "* customer experience\n",
    "* design thinking for human problems"
   ]
  },
  {
   "cell_type": "markdown",
   "metadata": {
    "slideshow": {
     "slide_type": "slide"
    }
   },
   "source": [
    "#### LEARN MORE\n",
    "\n",
    "> \"In design, we build our way forward\"\n",
    ">\n",
    "> [Want to Make Better Decisions? Know the Difference between Engineering and Design Thinking](https://youtu.be/q7LRxKHdao8) (7 mins)\n",
    "\n"
   ]
  }
 ],
 "metadata": {
  "celltoolbar": "Slideshow",
  "kernelspec": {
   "display_name": "Python 3 (ipykernel)",
   "language": "python",
   "name": "python3"
  },
  "language_info": {
   "codemirror_mode": {
    "name": "ipython",
    "version": 3
   },
   "file_extension": ".py",
   "mimetype": "text/x-python",
   "name": "python",
   "nbconvert_exporter": "python",
   "pygments_lexer": "ipython3",
   "version": "3.9.13"
  },
  "qut": {
   "creation_period": "2023_sem2",
   "nb_name": "A1-business_concerns-complete",
   "unit_code": "IAB303"
  }
 },
 "nbformat": 4,
 "nbformat_minor": 4
}
