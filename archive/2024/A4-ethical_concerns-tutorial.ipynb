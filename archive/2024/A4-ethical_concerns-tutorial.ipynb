{
 "cells": [
  {
   "cell_type": "markdown",
   "metadata": {},
   "source": [
    "<div class=\"alert alert-block alert-info\"><b>IAB303</b> - Data Analytics for Business Insight</div>"
   ]
  },
  {
   "cell_type": "markdown",
   "metadata": {},
   "source": [
    "# Tutorial: Ethical concerns & data analytics"
   ]
  },
  {
   "cell_type": "markdown",
   "metadata": {},
   "source": [
    "### This tutorial is all about considering human and ethical factors in data analytics. \n",
    "### We present one example QDAVI cycle below. Please ensure you read and understand each part of the QDAVI cycle and think about potential problems, how you can improve certain aspects and what else you can explore within the concern. "
   ]
  },
  {
   "cell_type": "markdown",
   "metadata": {
    "slideshow": {
     "slide_type": "slide"
    }
   },
   "source": [
    "## Tutorial :: The numbers behind COVID-19"
   ]
  },
  {
   "cell_type": "markdown",
   "metadata": {
    "slideshow": {
     "slide_type": "slide"
    }
   },
   "source": [
    "**CONCERN**\n",
    "\n",
    "You are working for Qantas as a data analyst. Your manager welcomes the Australian open borders. However, he wants to have an overview of how different countries in the world have been dealing with the pandemic to restart operation in the safest way possible.\n",
    "\n",
    "1. **Q**uestion\n",
    "2. **D**ata\n",
    "3. **A**nalysis\n",
    "4. **V**isualisation\n",
    "5. **I**nsight\n",
    "\n",
    "<img src=\"graphics/QDAVI_cycle_sm.png\" width=\"50%\" />"
   ]
  },
  {
   "cell_type": "markdown",
   "metadata": {
    "slideshow": {
     "slide_type": "slide"
    }
   },
   "source": [
    "### 1. Question\n",
    "\n",
    "How is each country doing in terms of new cases, ICU patients and vaccination?"
   ]
  },
  {
   "cell_type": "markdown",
   "metadata": {
    "slideshow": {
     "slide_type": "slide"
    }
   },
   "source": [
    "### 2. Data\n",
    "\n",
    "We are going to use a file called `owid-covid-data.csv`, located in the data folder."
   ]
  },
  {
   "cell_type": "code",
   "execution_count": null,
   "metadata": {},
   "outputs": [],
   "source": [
    "# Libraries for the analysis\n",
    "import pandas as pd\n",
    "import plotly.express as px"
   ]
  },
  {
   "cell_type": "code",
   "execution_count": null,
   "metadata": {},
   "outputs": [],
   "source": [
    "# Load the dataset\n",
    "df = pd.read_csv('data/owid-covid-data.csv')\n",
    "df"
   ]
  },
  {
   "cell_type": "markdown",
   "metadata": {},
   "source": [
    "#### Clean/preprocess data"
   ]
  },
  {
   "cell_type": "code",
   "execution_count": null,
   "metadata": {},
   "outputs": [],
   "source": [
    "# Check data types\n",
    "df.dtypes"
   ]
  },
  {
   "cell_type": "code",
   "execution_count": null,
   "metadata": {},
   "outputs": [],
   "source": [
    "# date is an object - we need to to convert the date column to a date data type (this makes it easier later in the analysis to extract months and years)\n",
    "df[\"date\"] = pd.to_datetime(df[\"date\"], format=\"%d/%m/%Y\")\n",
    "df"
   ]
  },
  {
   "cell_type": "markdown",
   "metadata": {},
   "source": [
    "**Tip:** The format will depend on the data. If the format does not match the data, it will return an error"
   ]
  },
  {
   "cell_type": "code",
   "execution_count": null,
   "metadata": {},
   "outputs": [],
   "source": [
    "# Check data types to confirm the convertion\n",
    "df.dtypes"
   ]
  },
  {
   "cell_type": "code",
   "execution_count": null,
   "metadata": {},
   "outputs": [],
   "source": [
    "# get and overview of the data - check the data descriptive statistics\n",
    "df.describe()"
   ]
  },
  {
   "cell_type": "markdown",
   "metadata": {},
   "source": [
    "## What do you notice about the data? \n",
    "**What does count, mean, min, max and percentiles mean?**\n",
    "\n",
    "**Which statistical measure is meaningful for which variable (column)? (e.g. does it make sense to look at the mean date)**\n",
    "\n",
    "**By looking at these descriptive statistics, can you tell how the data are distributed? (measures of central tendency and dispersion)**\n",
    "\n",
    "Please describe your thoughts in a markdown cell. "
   ]
  },
  {
   "cell_type": "markdown",
   "metadata": {},
   "source": [
    "Your notes: \n",
    "-\n",
    "-\n",
    "-\n",
    "-\n",
    "-\n",
    "\n"
   ]
  },
  {
   "cell_type": "code",
   "execution_count": null,
   "metadata": {},
   "outputs": [],
   "source": [
    "# Check the missing values\n",
    "df.isnull().sum()"
   ]
  },
  {
   "cell_type": "markdown",
   "metadata": {},
   "source": [
    "## What about missing data? \n",
    "\n",
    "**Are there any missing data and where?**\n",
    "\n",
    "**What does this mean and what should we do about it?**\n",
    "\n",
    "Please describe your thoughts in a markdown cell. \n"
   ]
  },
  {
   "cell_type": "markdown",
   "metadata": {},
   "source": [
    "Your notes: \n",
    "-\n",
    "-\n",
    "-\n",
    "-\n",
    "-\n",
    "\n"
   ]
  },
  {
   "cell_type": "markdown",
   "metadata": {},
   "source": [
    "### 3. Analysis\n",
    "\n",
    "The data needs to be grouped to have a better perspective of the data"
   ]
  },
  {
   "cell_type": "code",
   "execution_count": null,
   "metadata": {},
   "outputs": [],
   "source": [
    "# Create new columns with the year and month\n",
    "df[\"year\"] = df[\"date\"].dt.year\n",
    "df[\"month\"] = df[\"date\"].dt.month\n",
    "df"
   ]
  },
  {
   "cell_type": "code",
   "execution_count": null,
   "metadata": {},
   "outputs": [],
   "source": [
    "# Find the unique values for locations\n",
    "df[\"location\"].unique()"
   ]
  },
  {
   "cell_type": "code",
   "execution_count": null,
   "metadata": {},
   "outputs": [],
   "source": [
    "# Filter by Australia 2021\n",
    "\n",
    "au_df = df[(df['location'] == 'Australia') & (df['year'] == 2021)]\n",
    "au_df"
   ]
  },
  {
   "cell_type": "code",
   "execution_count": null,
   "metadata": {},
   "outputs": [],
   "source": [
    "# Group Australian data by month\n",
    "au_df_grouped = au_df[[\"new_cases\", \"new_deaths\", \"people_fully_vaccinated\", \"month\"]].groupby(\"month\").agg({\"new_cases\": \"sum\",\n",
    "    \"new_deaths\": \"sum\", \"people_fully_vaccinated\": \"max\"})\n",
    "au_df_grouped[\"country\"]=\"Australia\"\n",
    "au_df_grouped"
   ]
  },
  {
   "cell_type": "markdown",
   "metadata": {},
   "source": [
    "**What does the .groupby function do?**\n",
    "\n",
    "**What does the .agg function do?**\n",
    "\n",
    "Please describe in your own words. "
   ]
  },
  {
   "cell_type": "markdown",
   "metadata": {},
   "source": [
    "**Your answer:**\n",
    "-\n",
    "-\n",
    "-\n",
    "-\n",
    "\n",
    "\n",
    "\n"
   ]
  },
  {
   "cell_type": "code",
   "execution_count": null,
   "metadata": {},
   "outputs": [],
   "source": [
    "# Filter by Brazil 2021\n",
    "br_df = df[(df['location'] == 'Brazil') & (df['year'] == 2021)]\n",
    "br_df"
   ]
  },
  {
   "cell_type": "code",
   "execution_count": null,
   "metadata": {},
   "outputs": [],
   "source": [
    "# Group Brazilian data by month\n",
    "br_df_grouped = br_df[[\"new_cases\", \"new_deaths\", \"people_fully_vaccinated\", \"month\"]].groupby(\"month\").agg({\"new_cases\": \"sum\",\n",
    "    \"new_deaths\": \"sum\", \"people_fully_vaccinated\": \"max\"})\n",
    "br_df_grouped[\"country\"]=\"Brazil\"\n",
    "br_df_grouped"
   ]
  },
  {
   "cell_type": "code",
   "execution_count": null,
   "metadata": {
    "tags": []
   },
   "outputs": [],
   "source": [
    "# combine both Australia and Brazil grouped data into one dataframe (makes it easier to handle the data in plotly later)\n",
    "\n",
    "au_br_df_grouped = pd.concat([au_df_grouped, br_df_grouped],axis=0)\n",
    "au_br_df_grouped.reset_index(inplace=True)\n",
    "au_br_df_grouped\n"
   ]
  },
  {
   "cell_type": "markdown",
   "metadata": {},
   "source": [
    "### 4. Visualisation"
   ]
  },
  {
   "cell_type": "markdown",
   "metadata": {},
   "source": [
    "**How can we visualise our results?**\n",
    "\n",
    "**What exactly do we want to show?**\n",
    "\n",
    "**What kind of graph would be best?**"
   ]
  },
  {
   "cell_type": "markdown",
   "metadata": {},
   "source": [
    "Your notes: \n",
    "-\n",
    "-\n",
    "-\n",
    "-\n",
    "-\n"
   ]
  },
  {
   "cell_type": "code",
   "execution_count": null,
   "metadata": {},
   "outputs": [],
   "source": [
    "# Visualise the results\n",
    "\n",
    "# new cases\n",
    "fig = px.line(au_br_df_grouped,x='month',y='new_cases',color='country',\n",
    "              title='Covid new cases 2021')\n",
    "fig.update_layout(yaxis_title='cases (count)',\n",
    "                 xaxis = dict(\n",
    "                     tickmode = 'array',\n",
    "                     tickvals = [1,2,3,4,5,6,7,8,9,10,11,12])\n",
    "                    )\n",
    "fig.show()\n",
    "\n",
    "\n",
    "# new deaths\n",
    "fig = px.line(au_br_df_grouped,x='month',y='new_deaths',color='country',\n",
    "              title='Covid new deaths 2021')\n",
    "fig.update_layout(yaxis_title='cases (count)',\n",
    "                 xaxis = dict(\n",
    "                     tickmode = 'array',\n",
    "                     tickvals = [1,2,3,4,5,6,7,8,9,10,11,12])\n",
    "                    )\n",
    "fig.show()\n",
    "\n",
    "\n",
    "# people fully vaccinated\n",
    "fig = px.line(au_br_df_grouped,x='month',y='people_fully_vaccinated',color='country',\n",
    "              title='Covid people fully vaccinated 2021')\n",
    "fig.update_layout(yaxis_title='cases (count)',\n",
    "                 xaxis = dict(\n",
    "                     tickmode = 'array',\n",
    "                     tickvals = [1,2,3,4,5,6,7,8,9,10,11,12])\n",
    "                    )\n",
    "fig.show()\n",
    "\n",
    "\n"
   ]
  },
  {
   "cell_type": "markdown",
   "metadata": {},
   "source": [
    "### 5. Insights\n",
    "\n",
    "- What have we shown with these analyses and plots?\n",
    "- What was our original question?\n",
    "- Have we answered our original question, and what is the answer?\n",
    "- Is our analysis accurate or was our analysis wrong? Why?\n",
    "- Is our analysis fair? Why?\n",
    "- What is the difference between accurate and fair analysis?\n",
    "- Can you think of a different way of analysing the data with the data we already have?"
   ]
  },
  {
   "cell_type": "markdown",
   "metadata": {},
   "source": [
    "**Your notes:**\n",
    "\n",
    "\n",
    "-\n",
    "-\n",
    "-\n",
    "-\n",
    "-\n",
    "\n"
   ]
  },
  {
   "cell_type": "markdown",
   "metadata": {},
   "source": [
    "## New question & new QDAVI cycle\n"
   ]
  },
  {
   "cell_type": "markdown",
   "metadata": {},
   "source": [
    "### Question(s)\n",
    "\n",
    "-\n",
    "-\n",
    "\n",
    "\n",
    "\n"
   ]
  },
  {
   "cell_type": "code",
   "execution_count": null,
   "metadata": {},
   "outputs": [],
   "source": [
    "# write your code here"
   ]
  },
  {
   "cell_type": "code",
   "execution_count": null,
   "metadata": {},
   "outputs": [],
   "source": []
  },
  {
   "cell_type": "code",
   "execution_count": null,
   "metadata": {},
   "outputs": [],
   "source": []
  },
  {
   "cell_type": "code",
   "execution_count": null,
   "metadata": {},
   "outputs": [],
   "source": []
  },
  {
   "cell_type": "code",
   "execution_count": null,
   "metadata": {},
   "outputs": [],
   "source": []
  },
  {
   "cell_type": "markdown",
   "metadata": {},
   "source": [
    "\n",
    "### Insights\n",
    "\n",
    "-\n",
    "-\n",
    "-\n",
    "-\n",
    "-\n",
    "\n"
   ]
  },
  {
   "cell_type": "code",
   "execution_count": null,
   "metadata": {},
   "outputs": [],
   "source": []
  },
  {
   "cell_type": "code",
   "execution_count": null,
   "metadata": {},
   "outputs": [],
   "source": []
  },
  {
   "cell_type": "code",
   "execution_count": null,
   "metadata": {},
   "outputs": [],
   "source": []
  },
  {
   "cell_type": "code",
   "execution_count": null,
   "metadata": {},
   "outputs": [],
   "source": []
  }
 ],
 "metadata": {
  "celltoolbar": "Slideshow",
  "hide_input": false,
  "kernelspec": {
   "display_name": "Python 3 (ipykernel)",
   "language": "python",
   "name": "python3"
  },
  "language_info": {
   "codemirror_mode": {
    "name": "ipython",
    "version": 3
   },
   "file_extension": ".py",
   "mimetype": "text/x-python",
   "name": "python",
   "nbconvert_exporter": "python",
   "pygments_lexer": "ipython3",
   "version": "3.10.12"
  },
  "qut": {
   "creation_period": "2023_sem2",
   "nb_name": "A4-ethical_concerns-tutorial",
   "unit_code": "IAB303"
  }
 },
 "nbformat": 4,
 "nbformat_minor": 4
}
