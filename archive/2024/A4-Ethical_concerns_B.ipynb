{
 "cells": [
  {
   "cell_type": "markdown",
   "metadata": {
    "slideshow": {
     "slide_type": "skip"
    }
   },
   "source": [
    "<div class=\"alert alert-block alert-info\"><b>IAB303</b> - Data Analytics for Business Insight</div>"
   ]
  },
  {
   "cell_type": "markdown",
   "metadata": {
    "slideshow": {
     "slide_type": "slide"
    }
   },
   "source": [
    "## Ethical Concerns & Data Analytics"
   ]
  },
  {
   "cell_type": "markdown",
   "metadata": {
    "slideshow": {
     "slide_type": "slide"
    }
   },
   "source": [
    "### Without cues for depth...\n",
    "\n",
    "[Strata 2013: Kate Crawford, \"Algorithmic Illusions: Hidden Biases of Big Data\"](https://youtu.be/irP5RCdpilc)\n"
   ]
  },
  {
   "cell_type": "markdown",
   "metadata": {
    "slideshow": {
     "slide_type": "slide"
    }
   },
   "source": [
    "### MathWashing\n",
    "\n",
    " [What is Math washing?](http://www.mathwashing.com)"
   ]
  },
  {
   "cell_type": "markdown",
   "metadata": {
    "slideshow": {
     "slide_type": "slide"
    }
   },
   "source": [
    "### Machine Bias\n",
    "\n",
    "[Machine Bias — ProPublica](https://www.propublica.org/article/machine-bias-risk-assessments-in-criminal-sentencing)\n"
   ]
  },
  {
   "cell_type": "markdown",
   "metadata": {},
   "source": [
    "### Kinds of Bias\n",
    "\n",
    "[Bias in Computer Systems - Friedman & Nissenbaum (1996)](https://nissenbaum.tech.cornell.edu/papers/Bias%20in%20Computer%20Systems.pdf)\n",
    "\n",
    "1. Pre-existing Bias\n",
    "    * Individual\n",
    "    * Societal\n",
    "2. Technical Bias\n",
    "    * Computer tools\n",
    "    * Decontextualized Algorithms\n",
    "    * Random number generation\n",
    "    * Formalization of Human Constructs\n",
    "3. Emergent Bias\n",
    "    * New Societal Knowledge\n",
    "    * Mismatch between users and system design\n",
    "        * Different expertise\n",
    "        * Different values\n",
    "\n"
   ]
  },
  {
   "cell_type": "markdown",
   "metadata": {
    "slideshow": {
     "slide_type": "slide"
    }
   },
   "source": [
    "### Assumptions\n",
    "\n",
    "[Challenging Dangerous Assumptions by Andy Cohen](https://youtu.be/So89DJ1Rckc)\n",
    "\n",
    "[4 Customer Segmentation Assumptions to Avoid  - D&B Canada](http://www.dnb.com/ca-en/perspectives/finance-credit-risk/four-key-assumptions-avoid-with-customer-segmentation.html)"
   ]
  },
  {
   "cell_type": "markdown",
   "metadata": {
    "slideshow": {
     "slide_type": "slide"
    }
   },
   "source": [
    "### Algorithmic responsibility\n",
    "\n",
    "[Algorithmic Accountability: A Primer](https://apo.org.au/sites/default/files/resource-files/2018-04/apo-nid142131.pdf)\n",
    "\n",
    "1. Fairness and Bias\n",
    "2. Opacity and Transparency\n",
    "3. Repurposing Data and Repurposing Algorithms\n",
    "4. Lack of Standards for Auditing\n",
    "5. Power and Control\n",
    "6. Trust and Expertise"
   ]
  },
  {
   "cell_type": "markdown",
   "metadata": {
    "slideshow": {
     "slide_type": "slide"
    }
   },
   "source": [
    "### What kind of action?\n",
    "\n",
    "* Awareness of own perspectives -  [20 lessons on bias in machine learning systems from NIPS 2017 Keynote](https://hub.packtpub.com/20-lessons-bias-machine-learning-systems-nips-2017/)\n",
    "* Laws and regulation about data - [How GDPR Drives Real-Time Analytics](https://datafloq.com/read/gdpr-drives-real-time-analytics/4824?mkt_tok=eyJpIjoiWldNeVlURXlNV0kxTkRJeCIsInQiOiI0bWZVSzJvYlQzNGZkaXQ3Mzc1S1RsTFFyR0E1bHpHbG1DR3dqMHhNUlVcL01VdTV3dW03Q3VaZHRkcG9pZWlUbUlQMVltMFozR0E5N2VKZHduK3pQOWl3UFJ6UFgyUEFjaXJtbldXMGVZclhHZTBxS3BWQ2hrM281M29aRnRXRUoifQ%3D%3D)\n",
    "* Understanding segmenting and marginalised groups -  [Google Developers Blog: Text Embedding Models Contain Bias. Here’s Why That Matters.](https://developers.googleblog.com/2018/04/text-embedding-models-contain-bias.html?m=1)\n",
    "* Consideration of user privacy\n",
    "* Building trust - [Looking beyond accuracy to improve trust in machine learning - codecentric AG Blog](https://blog.codecentric.de/en/2018/01/look-beyond-accuracy-improve-trust-machine-learning/)\n"
   ]
  },
  {
   "cell_type": "markdown",
   "metadata": {
    "slideshow": {
     "slide_type": "slide"
    }
   },
   "source": [
    "### The Social Dilemma\n",
    "\n",
    "[The Social Dilemma Of Driverless Cars | Iyad Rahwan | TEDxCambridge](https://youtu.be/nhCh1pBsS80)"
   ]
  }
 ],
 "metadata": {
  "celltoolbar": "Slideshow",
  "kernelspec": {
   "display_name": "Python 3",
   "language": "python",
   "name": "python3"
  },
  "language_info": {
   "codemirror_mode": {
    "name": "ipython",
    "version": 3
   },
   "file_extension": ".py",
   "mimetype": "text/x-python",
   "name": "python",
   "nbconvert_exporter": "python",
   "pygments_lexer": "ipython3",
   "version": "3.6.9"
  },
  "qut": {
   "creation_period": "2023_sem2",
   "nb_name": "A4-ethical_concerns-b",
   "unit_code": "IAB303"
  }
 },
 "nbformat": 4,
 "nbformat_minor": 4
}
