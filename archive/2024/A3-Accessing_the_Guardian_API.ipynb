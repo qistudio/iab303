{
 "cells": [
  {
   "cell_type": "markdown",
   "id": "1b0e8326",
   "metadata": {},
   "source": [
    "### Guardian API access\n",
    "\n",
    "You will need to apply for a free developer key in order to use the API fully within Jupyter:\n",
    "\n",
    "[Guardian Open Platform - Getting started](https://open-platform.theguardian.com/access/)\n",
    "\n",
    "You can explore what is possible with the API here:\n",
    "\n",
    "[Guardian Open Platform - explore](https://open-platform.theguardian.com/explore/)"
   ]
  },
  {
   "cell_type": "code",
   "execution_count": null,
   "id": "efb65ee8",
   "metadata": {},
   "outputs": [],
   "source": [
    "#import required libraries\n",
    "import requests\n",
    "import json\n",
    "import re\n",
    "import time"
   ]
  },
  {
   "cell_type": "code",
   "execution_count": null,
   "id": "3bcfe98d",
   "metadata": {},
   "outputs": [],
   "source": [
    "#load your personal API key\n",
    "with open('private/guardian_key.txt', 'r') as file:\n",
    "    key = file.read().strip()\n",
    "len(key)"
   ]
  },
  {
   "cell_type": "code",
   "execution_count": null,
   "id": "e73870f4",
   "metadata": {},
   "outputs": [],
   "source": [
    " #build a search URL\n",
    "base_url = 'https://content.guardianapis.com/'\n",
    "search_string = \"ukraine\"\n",
    "production_office = \"aus\"\n",
    "from_date = \"2023-03-01\"\n",
    "\n",
    "full_url = base_url+f\"search?q={search_string}&production-office={production_office}&from-date={from_date}&show-fields=body&api-key={key}\"\n",
    "\n",
    "#url = baseUrl+'\"'+searchString+'\"'+'&production-office='+production_office+'&from-date='+fromDate+'&api-key='+key\n",
    "print(full_url[:120])"
   ]
  },
  {
   "cell_type": "code",
   "execution_count": null,
   "id": "ba55b07e",
   "metadata": {},
   "outputs": [],
   "source": [
    "# get data from server\n",
    "response = requests.get(full_url)\n",
    "resp_data = response.json()['response']\n",
    "resp_data"
   ]
  },
  {
   "cell_type": "code",
   "execution_count": null,
   "id": "53e214ea",
   "metadata": {},
   "outputs": [],
   "source": [
    "num_pages = resp_data['pages']\n",
    "num_pages"
   ]
  },
  {
   "cell_type": "code",
   "execution_count": null,
   "id": "a4e184e9",
   "metadata": {},
   "outputs": [],
   "source": [
    "def articles_from_page_results(page_results):\n",
    "    articles = {}\n",
    "    for result in page_results:\n",
    "        article_date = result['webPublicationDate']\n",
    "        article_title = result['webTitle']+f\" [{article_date}]\"\n",
    "        article_html = result['fields']['body']\n",
    "        article_text = re.sub(r'<.*?>','',article_html)\n",
    "        articles[article_title] = article_text\n",
    "    return articles"
   ]
  },
  {
   "cell_type": "code",
   "execution_count": null,
   "id": "58851eff",
   "metadata": {},
   "outputs": [],
   "source": [
    "def get_all_articles_for_response(response_json,full_url):\n",
    "    total_pages = response_json['pages']\n",
    "    total_articles = response_json['total']\n",
    "    print(f\"Fetching {total_articles} articles from {total_pages} pages...\")\n",
    "    all_articles = {}\n",
    "    page1_articles = articles_from_page_results(response_json['results'])\n",
    "    all_articles.update(page1_articles)\n",
    "    print(\"Added articles for page: 1\")\n",
    "    \n",
    "    for page in range(2,total_pages+1):\n",
    "        print(\"Getting articles from API for page:\",page)\n",
    "        page_response = requests.get(full_url+f\"&page={page}\")\n",
    "        page_data = page_response.json()['response']\n",
    "        print(\"Processing results for page:\",page_data['currentPage'])\n",
    "        page_articles = articles_from_page_results(page_data['results'])\n",
    "        print(f\"Fetched {len(page_articles)} articles.\")\n",
    "        all_articles.update(page_articles)\n",
    "        print(\"Added articles for page:\",page)\n",
    "        print(f\"Status: {len(all_articles)} articles.\")\n",
    "        time.sleep(1) # make sure we're not hitting the API to hard\n",
    "    \n",
    "    print(f\"FINISHED: Fetched {len(all_articles)} articles.\")\n",
    "    return all_articles\n"
   ]
  },
  {
   "cell_type": "code",
   "execution_count": null,
   "id": "c6328633",
   "metadata": {},
   "outputs": [],
   "source": [
    "my_articles = get_all_articles_for_response(resp_data,full_url)"
   ]
  },
  {
   "cell_type": "code",
   "execution_count": null,
   "id": "a34016ab",
   "metadata": {},
   "outputs": [],
   "source": [
    "print(\"Total Articles:\",len(my_articles))\n",
    "for title,text in my_articles.items():\n",
    "    print(title)"
   ]
  },
  {
   "cell_type": "code",
   "execution_count": null,
   "id": "2afbfbee",
   "metadata": {},
   "outputs": [],
   "source": [
    "file_path = \"data/\"\n",
    "file_name = \"ukraine_articles.json\"\n",
    "\n",
    "with open(f\"{file_path}{file_name}\",'w', encoding='utf-8') as fp:\n",
    "    fp.write(json.dumps(my_articles))"
   ]
  }
 ],
 "metadata": {
  "kernelspec": {
   "display_name": "Python 3",
   "language": "python",
   "name": "python3"
  },
  "language_info": {
   "codemirror_mode": {
    "name": "ipython",
    "version": 3
   },
   "file_extension": ".py",
   "mimetype": "text/x-python",
   "name": "python",
   "nbconvert_exporter": "python",
   "pygments_lexer": "ipython3",
   "version": "3.10.10"
  }
 },
 "nbformat": 4,
 "nbformat_minor": 5
}
