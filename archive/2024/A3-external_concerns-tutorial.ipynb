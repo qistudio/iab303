{
    "cells": [
        {
            "cell_type": "markdown",
            "id": "3c0fad04-3154-4975-8f5e-78f24284e4d5",
            "metadata": {},
            "source": [
                "<div class=\"alert alert-block alert-info\"><b>IAB303</b> - Data Analytics for Business Insight</div>"
            ]
        },
        {
            "cell_type": "markdown",
            "id": "aed8060c-aa95-46b7-b068-270516a6829b",
            "metadata": {},
            "source": [
                "# Tutorial: External Concerns & Unstructured Data"
            ]
        },
        {
            "cell_type": "code",
            "execution_count": null,
            "id": "efb65ee8",
            "metadata": {},
            "outputs": [],
            "source": [
                "#import required libraries\n",
                "import requests\n",
                "import json\n",
                "import re\n",
                "import time\n",
                "import pandas as pd"
            ]
        },
        {
            "cell_type": "markdown",
            "id": "1b0e8326",
            "metadata": {},
            "source": [
                "## Guardian API access\n",
                "\n",
                "You will need to apply for a free developer key in order to use the API fully within Jupyter:\n",
                "\n",
                "[Guardian Open Platform - Getting started](https://open-platform.theguardian.com/access/)\n",
                "\n",
                "You will receive your personal API key via email. Please ensure that you do not share your key with anyone.\n",
                "To keep your key invisible in the code cell, follow these steps:\n",
                "1. Create a subfolder named `private`\n",
                "2. Inside the `private` subfolder, create a new text file named `guardian_key.txt`\n",
                "3. Copy and paste your API key into the `guardian_key.txt` file"
            ]
        },
        {
            "cell_type": "code",
            "execution_count": null,
            "id": "3bcfe98d",
            "metadata": {},
            "outputs": [],
            "source": [
                "#load your personal API key\n",
                "with open('private/guardian_key.txt', 'r') as file:\n",
                "    key = file.read().strip()\n",
                "len(key)"
            ]
        },
        {
            "cell_type": "markdown",
            "id": "5c0e25cc-b238-4849-8165-6f0f13f041b3",
            "metadata": {
                "tags": []
            },
            "source": [
                "## Question\n",
                "What question do you wish to explore? Write down your question below:"
            ]
        },
        {
            "cell_type": "markdown",
            "id": "d78e32ba-ba6e-44e0-8358-60b1f1f9d6ed",
            "metadata": {},
            "source": [
                "* **Question**: **???**\n",
                "\n",
                "Explain **why** the question is significant.\n",
                "\n",
                "**???**"
            ]
        },
        {
            "cell_type": "markdown",
            "id": "e6ca624b-0c5a-4df9-88a0-ee830f086b4f",
            "metadata": {},
            "source": [
                "## Explore Guardian API\n",
                "You can explore what is possible with the API here:\n",
                "\n",
                "[Guardian Open Platform - explore](https://open-platform.theguardian.com/explore/)"
            ]
        },
        {
            "cell_type": "markdown",
            "id": "56b6291d-3824-4581-aabe-3e75a8c8cc61",
            "metadata": {},
            "source": [
                "### What filters can you customise in Guardian API?\n",
                "\n",
                "Spend some time exploring filters, for example:\n",
                "* `sections`\n",
                "* `tag`\n",
                "* `production-office`\n",
                "* `from-date` and `to-date`"
            ]
        },
        {
            "cell_type": "code",
            "execution_count": null,
            "id": "977ba69e-386b-4294-8272-6dd8be7b1443",
            "metadata": {
                "tags": []
            },
            "outputs": [],
            "source": [
                "# explore guardian API \n"
            ]
        },
        {
            "cell_type": "markdown",
            "id": "47907ffb-0999-40b1-aa8c-ca3f3b07b359",
            "metadata": {
                "tags": []
            },
            "source": [
                "## Get articles from Guardian API"
            ]
        },
        {
            "cell_type": "code",
            "execution_count": null,
            "id": "e73870f4",
            "metadata": {},
            "outputs": [],
            "source": [
                "# build a search URL\n",
                "base_url = 'https://content.guardianapis.com/'\n",
                "\n",
                "# modify your search terms & filters\n",
                "search_string = \"paris%20olympics\"\n",
                "section='football'\n",
                "production_office = 'aus'\n",
                "from_date = '2023-07-01'\n",
                "\n",
                "\n",
                "# this is an example of a search URL\n",
                "full_url = base_url+f\"search?q={search_string}&section={section}&production-office={production_office}&from-date={from_date}&show-fields=body&api-key={key}\"\n",
                "\n",
                "print(full_url[:150]) #<-- modify the length so it won't show your api-key"
            ]
        },
        {
            "cell_type": "code",
            "execution_count": null,
            "id": "ba55b07e",
            "metadata": {
                "scrolled": true,
                "tags": []
            },
            "outputs": [],
            "source": [
                "# get data from server\n",
                "response = requests.get(full_url)\n",
                "resp_data = response.json()['response']\n",
                "resp_data"
            ]
        },
        {
            "cell_type": "code",
            "execution_count": null,
            "id": "53e214ea",
            "metadata": {},
            "outputs": [],
            "source": [
                "num_pages = resp_data['pages']\n",
                "num_pages"
            ]
        },
        {
            "cell_type": "code",
            "execution_count": null,
            "id": "a4e184e9",
            "metadata": {},
            "outputs": [],
            "source": [
                "def articles_from_page_results(page_results):\n",
                "    articles = {}\n",
                "    for result in page_results:\n",
                "        article_date = result['webPublicationDate']\n",
                "        article_title = result['webTitle']+f\" [{article_date}]\"\n",
                "        article_html = result['fields']['body']\n",
                "        article_text = re.sub(r'<.*?>','',article_html)\n",
                "        articles[article_title] = article_text\n",
                "    return articles"
            ]
        },
        {
            "cell_type": "code",
            "execution_count": null,
            "id": "58851eff",
            "metadata": {},
            "outputs": [],
            "source": [
                "def get_all_articles_for_response(response_json,full_url):\n",
                "    total_pages = response_json['pages']\n",
                "    total_articles = response_json['total']\n",
                "    print(f\"Fetching {total_articles} articles from {total_pages} pages...\")\n",
                "    all_articles = {}\n",
                "    page1_articles = articles_from_page_results(response_json['results'])\n",
                "    all_articles.update(page1_articles)\n",
                "    print(\"Added articles for page: 1\")\n",
                "    \n",
                "    for page in range(2,total_pages+1):\n",
                "        print(\"Getting articles from API for page:\",page)\n",
                "        page_response = requests.get(full_url+f\"&page={page}\")\n",
                "        page_data = page_response.json()['response']\n",
                "        print(\"Processing results for page:\",page_data['currentPage'])\n",
                "        page_articles = articles_from_page_results(page_data['results'])\n",
                "        print(f\"Fetched {len(page_articles)} articles.\")\n",
                "        all_articles.update(page_articles)\n",
                "        print(\"Added articles for page:\",page)\n",
                "        print(f\"Status: {len(all_articles)} articles.\")\n",
                "        time.sleep(1) # make sure we're not hitting the API to hard\n",
                "    \n",
                "    print(f\"FINISHED: Fetched {len(all_articles)} articles.\")\n",
                "    return all_articles\n"
            ]
        },
        {
            "cell_type": "code",
            "execution_count": null,
            "id": "c6328633",
            "metadata": {
                "scrolled": true,
                "tags": []
            },
            "outputs": [],
            "source": [
                "my_articles = get_all_articles_for_response(resp_data,full_url)"
            ]
        },
        {
            "cell_type": "code",
            "execution_count": null,
            "id": "a34016ab",
            "metadata": {
                "scrolled": true,
                "tags": []
            },
            "outputs": [],
            "source": [
                "print(\"Total Articles:\",len(my_articles))\n",
                "for title,text in my_articles.items():\n",
                "    print(title)"
            ]
        },
        {
            "cell_type": "code",
            "execution_count": null,
            "id": "2afbfbee",
            "metadata": {},
            "outputs": [],
            "source": [
                "# save articles to a json file\n",
                "file_path = \"data/\"\n",
                "file_name = \"paris_olympics.json\" # <-- rename the file\n",
                "\n",
                "with open(f\"{file_path}{file_name}\",'w', encoding='utf-8') as fp:\n",
                "    fp.write(json.dumps(my_articles))"
            ]
        },
        {
            "cell_type": "markdown",
            "id": "adb69676-25b3-47bb-9d0b-084601910d52",
            "metadata": {},
            "source": [
                "## Analysis\n",
                "Now check the titles of the articles. Are all the articles relevant to your [question(s)](#Question) you are interested in?\n",
                "Explore ways how you can get most relevant articles to your concerns. Some ideas to find most relevant articles:\n",
                "* Revisit your [search URL](#Get-articles-from-Guardian-API) and requery articles. [Query and filters operators](https://open-platform.theguardian.com/documentation/), such as `AND`, `OR`, `NOT` and grouping(`()`), may be helpful. \n",
                "* Work with downloaded articles by filtering out the irrelevant articles. Are there any patterns from the relevant (or irrelevant) articles?"
            ]
        },
        {
            "cell_type": "code",
            "execution_count": null,
            "id": "dfe59cea-b72b-4d6e-831f-db6e93057c76",
            "metadata": {},
            "outputs": [],
            "source": [
                "# explore article json file - add more cells if you like\n"
            ]
        },
        {
            "cell_type": "markdown",
            "id": "1a640783-59d8-4403-a2cd-f419407e7ff9",
            "metadata": {},
            "source": [
                "Jot down some ideas how you can get useful information from the most relevant articles. You may also think about whether there are ways to visualise some of the key information. \n",
                "\n",
                "* \n",
                "* \n",
                "* "
            ]
        },
        {
            "cell_type": "code",
            "execution_count": null,
            "id": "95f28dab-5273-498d-a5f5-be5f0998a837",
            "metadata": {
                "tags": []
            },
            "outputs": [],
            "source": [
                "# explore ways to extract relevant information - add more cells if you like\n"
            ]
        },
        {
            "cell_type": "markdown",
            "id": "946b692a",
            "metadata": {},
            "source": [
                "## Visualise\n",
                "\n",
                "Try using `HTML` and `CSS` to visualise the useful information."
            ]
        },
        {
            "cell_type": "code",
            "execution_count": null,
            "id": "0a3e52a4-c972-4b6f-bf03-d49f0cdbbcc6",
            "metadata": {
                "tags": []
            },
            "outputs": [],
            "source": [
                "# visualise some key information - add more cells if you like \n"
            ]
        },
        {
            "cell_type": "markdown",
            "id": "099a71af-446b-4a81-a194-b65de6dbe0ff",
            "metadata": {},
            "source": [
                "Don't forget to record any findings and insights from your analysis and visualisation.\n",
                "\n",
                "* \n",
                "* \n",
                "* "
            ]
        },
        {
            "cell_type": "markdown",
            "id": "e4571f85-cb43-4cff-a615-99cf09d26299",
            "metadata": {},
            "source": [
                "## Insights\n",
                "1. What is the concern?\n",
                "2. What data did we use?\n",
                "3. How did we analyse it, what decisions and why?\n",
                "4. What do the visualisations tell us?\n",
                "5. What is the recommendation for the concern? What other information would be helpful? What *doesn't* the data tell us? Can we make inferences?"
            ]
        },
        {
            "cell_type": "markdown",
            "id": "81a892f8-c1b5-4c19-ab44-b0df99b944f9",
            "metadata": {},
            "source": [
                "**Response**: "
            ]
        }
    ],
    "metadata": {
        "kernelspec": {
            "display_name": "Python 3 (ipykernel)",
            "language": "python",
            "name": "python3"
        },
        "language_info": {
            "codemirror_mode": {
                "name": "ipython",
                "version": 3
            },
            "file_extension": ".py",
            "mimetype": "text/x-python",
            "name": "python",
            "nbconvert_exporter": "python",
            "pygments_lexer": "ipython3",
            "version": "3.10.12"
        },
        "qut": {
            "creation_period": "2023_sem2",
            "nb_name": "A3-external_concerns-tutorial",
            "unit_code": "IAB303"
        }
    },
    "nbformat": 4,
    "nbformat_minor": 5
}
