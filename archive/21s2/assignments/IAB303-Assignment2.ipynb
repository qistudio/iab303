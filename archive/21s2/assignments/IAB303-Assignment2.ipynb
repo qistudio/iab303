{
 "cells": [
  {
   "cell_type": "markdown",
   "metadata": {},
   "source": [
    "# IAB303 - Assignment 2\n",
    "## TOWS analysis report\n",
    "\n",
    "#### INSTRUCTIONS\n",
    "\n",
    "1. Complete the section below with your personal details (and run the cell)\n",
    "2. Choose to use either the supplied scenario OR your own scenario. If selecting your own, check suitability with teaching team. If using the supplied scenario, use the provided internal data. You may supplement this with additional data as required.\n",
    "3. Ensure that you include at least 1 complete analysis using *internal* data\n",
    "4. Ensure that you include at least 1 complete analysis using *external* data\n",
    "5. Ensure that you include at least 1 actionable recommendation from a TOWS analysis using your data analytics from steps 3 & 4.\n",
    "6. Ensure that you use markdown cells to document your thinking and decision making for each stage of the process. Be clear on how your decisions are working towards addressing the business concern.\n",
    "7. Your notebook should include enough markdown text so that it reads more like a report. For example, the business stakeholders should be able to ignore the code and read your text and understand what you did and why.\n",
    "8. Ensure that you undertakee a peer review process and complete the peer review section\n",
    "9. Before handing in your notebook, clear all cell outputs and run the complete notebook. Ensure that it runs without errors and that all output is displaying\n",
    "10. Right-click on your notebook name (in file viewer) and select download. Ensure that your name and student ID are on the file, and then upload to the appropriate assignment upload link in blackboard."
   ]
  },
  {
   "cell_type": "code",
   "execution_count": null,
   "metadata": {},
   "outputs": [],
   "source": [
    "# Complete the following cell with your details and run to produce your personalised header for this assignment\n",
    "\n",
    "from IPython.core.display import display, HTML\n",
    "\n",
    "first_name = ???\n",
    "last_name = ???\n",
    "student_number = ???\n",
    "\n",
    "personal_header = \"<h1>\"+first_name+\" \"+last_name+\" (\"+student_number+\")</h1>\"\n",
    "display(HTML(personal_header))"
   ]
  },
  {
   "cell_type": "markdown",
   "metadata": {},
   "source": [
    "---\n",
    "\n",
    "## SCENARIO\n",
    "\n",
    "***Use the provided scenario (option 1), OR write a description of your own scenario (option 2):***\n",
    "\n",
    "---\n",
    "\n",
    "#### Option 1 - Restarting a failed business\n",
    "\n",
    "You are working as a business analytics consultant for an entrepreneur who has just bought the online assets of a business that failed last year due to the global pandemic. The entrepreneur would like use any valuable knowledge from the previous business together with current opportunities. You have sales data from 2017-2019 for the failed business that you can use to find any possible strengths and weaknesses, and you can scrape web pages for current opportunities and threats. Usings a TOWS approach, identify actionable recommendations for the entrepreneur.\n",
    "\n",
    "The sales data can be found here: [Online Business Sales 2017-2019](https://www.kaggle.com/tylermorse/retail-business-sales-20172019)\n",
    "\n",
    "*Note: For the purposes of this exercise, you can make up other aspects of the scenario which may be important to your anlaysis (e.g. business name, location, example products, entrepreneur focus, etc)*\n",
    "\n",
    "---\n",
    "\n",
    "#### Option 2 - Your own scenario\n",
    "\n",
    "Write your own scenario. It may build on the 'Koala' scenario of Assignment 1 if you like, or it could be something from your workplace, or you may like to *imagine* a scenario. \n",
    "\n",
    "It must include the following:\n",
    "- Clearly described stakeholder/s\n",
    "- Background giving need for analysis\n",
    "- At least 1 internal dataset\n",
    "- At least 1 external source of data\n",
    "- A need for TOWS analysis\n",
    "- A need for Actionable recommendations"
   ]
  },
  {
   "cell_type": "code",
   "execution_count": null,
   "metadata": {},
   "outputs": [],
   "source": []
  },
  {
   "cell_type": "markdown",
   "metadata": {},
   "source": [
    "---"
   ]
  },
  {
   "cell_type": "markdown",
   "metadata": {},
   "source": [
    "\n",
    "### [1] Business Concern\n",
    "\n",
    "*## Expand on your interpretation of your chosen scenario here, and be clear in identifying the business concern that the analysis will address. ##*\n"
   ]
  },
  {
   "cell_type": "code",
   "execution_count": 2,
   "metadata": {},
   "outputs": [],
   "source": [
    "# import libraries needed for this notebook here\n"
   ]
  },
  {
   "cell_type": "markdown",
   "metadata": {},
   "source": [
    "### [2] Analysis of External Data - Opportunities and/or Threats\n",
    "\n",
    "*## Include a full QDAVI cycle for your analysis. You must do at least one complete analysis on external data. Ensure that you document what you are doing and why you are doing it ##*"
   ]
  },
  {
   "cell_type": "code",
   "execution_count": 3,
   "metadata": {},
   "outputs": [],
   "source": [
    "# "
   ]
  },
  {
   "cell_type": "markdown",
   "metadata": {},
   "source": [
    "### [3] Analysis of Internal Data - Strengths and/or Weaknesses\n",
    "\n",
    "*## Include a full QDAVI cycle for your analysis. You must do at least one complete analysis on internal data. Ensure that you document what you are doing and why you are doing it in markdown cells  ##*"
   ]
  },
  {
   "cell_type": "code",
   "execution_count": 4,
   "metadata": {},
   "outputs": [],
   "source": [
    "#"
   ]
  },
  {
   "cell_type": "markdown",
   "metadata": {},
   "source": [
    "### [4] TOWS analysis - actionable recommendations\n",
    "\n",
    "*## Using your analytics from [1] and [2], perform a TOWS analysis to identify actionable recommendations. You must complete at least one quadrant of TOWS. Elaborate on your recommendation/s linking to the analysis, and also ensuring a meaningful connection to the business concern. ##*"
   ]
  },
  {
   "cell_type": "code",
   "execution_count": null,
   "metadata": {},
   "outputs": [],
   "source": []
  },
  {
   "cell_type": "markdown",
   "metadata": {},
   "source": [
    "---\n",
    "\n",
    "### [5] Peer review\n",
    "\n",
    "You should have a minimum of 2 reviewers and you should review a minimum of 2 other students work."
   ]
  },
  {
   "cell_type": "markdown",
   "metadata": {},
   "source": [
    "#### Feedback received - reviewer 1: Firstname Lastname (Student number)\n",
    "\n",
    "*## Write comments here ##*"
   ]
  },
  {
   "cell_type": "markdown",
   "metadata": {},
   "source": [
    "#### Feedback received - reviewer 2: Firstname Lastname (Student number)\n",
    "\n",
    "*## Write comments here ##*"
   ]
  },
  {
   "cell_type": "markdown",
   "metadata": {},
   "source": [
    "#### [optional] Feedback received - reviewer 3: Firstname Lastname (Student number)\n",
    "\n",
    "*## Write comments here ##*"
   ]
  },
  {
   "cell_type": "markdown",
   "metadata": {},
   "source": [
    "#### Response to feedback received:\n",
    "\n",
    "*## Write response here ##*"
   ]
  },
  {
   "cell_type": "code",
   "execution_count": null,
   "metadata": {},
   "outputs": [],
   "source": []
  },
  {
   "cell_type": "markdown",
   "metadata": {},
   "source": [
    "#### Feedback given to reviewer 1:\n",
    "\n",
    "*## Write comments here ##*"
   ]
  },
  {
   "cell_type": "markdown",
   "metadata": {},
   "source": [
    "#### Feedback given to reviewer 2:\n",
    "\n",
    "*## Write comments here ##*"
   ]
  },
  {
   "cell_type": "markdown",
   "metadata": {},
   "source": [
    "#### [optional] Feedback given to reviewer 3:\n",
    "\n",
    "*## Write comments here ##*"
   ]
  },
  {
   "cell_type": "code",
   "execution_count": null,
   "metadata": {},
   "outputs": [],
   "source": []
  }
 ],
 "metadata": {
  "kernelspec": {
   "display_name": "Python 3",
   "language": "python",
   "name": "python3"
  },
  "language_info": {
   "codemirror_mode": {
    "name": "ipython",
    "version": 3
   },
   "file_extension": ".py",
   "mimetype": "text/x-python",
   "name": "python",
   "nbconvert_exporter": "python",
   "pygments_lexer": "ipython3",
   "version": "3.7.6"
  }
 },
 "nbformat": 4,
 "nbformat_minor": 4
}
