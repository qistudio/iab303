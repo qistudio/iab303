{
 "cells": [
  {
   "cell_type": "markdown",
   "metadata": {},
   "source": [
    "<div class=\"alert alert-block alert-info\"><b>IAB303</b> - Data Analytics for Business Insight</div>"
   ]
  },
  {
   "cell_type": "markdown",
   "metadata": {},
   "source": [
    "## Social Media Analysis\n"
   ]
  },
  {
   "cell_type": "markdown",
   "metadata": {},
   "source": [
    "Covid-19 has impacted businesses in many different ways. Nowadays, with the arrival of Covid-19 vaccines, there is an increased interest in policies such as no jab no job. Certain companies such as Qantas has already decided to impose this policy. Considering the power of social media, we want to analyse the position of people regarding the no jab no job policy before taking this decision.\n",
    "\n",
    "How do you feel about the no jab no job policy? Have you shared your thoughts on social media? How can we understand sentiments behind those thoughts?\n",
    "\n",
    "1. Connect to Twitter API and extract tweets\n",
    "2. Basic sentiment analysis\n",
    "3. Basic visualisation"
   ]
  },
  {
   "cell_type": "markdown",
   "metadata": {},
   "source": [
    "## Connect to Twitter API and extract tweets\n",
    "\n",
    "1. How can we connect to Twitter API?\n",
    "2. How can we extract tweets of a particular hashtag?\n",
    "3. What is the structure of a tweet?\n",
    "4. How can we extract more information about a tweet?"
   ]
  },
  {
   "cell_type": "markdown",
   "metadata": {},
   "source": [
    "### Generating Twitter API keys\n",
    "\n",
    "1. Go to the [Twitter Developers Page](https://developer.twitter.com/en) and apply for a developers account\n",
    "2. Once in the developers portal. Create a new project and an app. After completing this process, you will see the consumer keys (API-Key and API-Secret-Key). You MUST copy and save this keys in a secure place as this information WILL NOT BE ACCESIBLE AGAIN\n",
    "3. After this process, you will be able to create the access and secret token for your account. As with the consumer keys. You MUST copy and save this keys in a secure place as this information WILL NOT BE ACCESIBLE AGAIN"
   ]
  },
  {
   "cell_type": "markdown",
   "metadata": {},
   "source": [
    "tweepy is a python library which we can use to connect to Twitter and extract tweets. Store Twitter application's credentials in variables. Write a function to connect to Twitter API."
   ]
  },
  {
   "cell_type": "code",
   "execution_count": null,
   "metadata": {},
   "outputs": [],
   "source": [
    "!pip install tweepy\n",
    "!pip install textblob"
   ]
  },
  {
   "cell_type": "code",
   "execution_count": null,
   "metadata": {},
   "outputs": [],
   "source": [
    "# import required libraries\n",
    "import tweepy           # To access and consume Twitter's API\n",
    "import pandas as pd     # To handle data\n",
    "import numpy as np      # For number computing\n",
    "import json\n",
    "\n",
    "# Twitter App access keys\n",
    "my_secrets = \" \" # The location of your Twitter API keys\n",
    "with open(my_secrets,'r') as file:\n",
    "    credentials = json.load(file)\n",
    "\n",
    "# Consume:\n",
    "CONSUMER_KEY    = credentials[\"api_key\"]\n",
    "CONSUMER_SECRET = credentials[\"api_secret_key\"]\n",
    "\n",
    "# Access:\n",
    "ACCESS_TOKEN  = credentials[\"access_token\"]\n",
    "ACCESS_SECRET = credentials[\"access_token_secret\"]\n",
    "\n",
    "# API's setup:\n",
    "def connectToTwitterAPI():\n",
    "    \"\"\"\n",
    "    Utility function to setup the Twitter's API\n",
    "    with access keys.\n",
    "    \"\"\"\n",
    "    # Authentication and access using keys\n",
    "    auth = tweepy.OAuthHandler(CONSUMER_KEY, CONSUMER_SECRET)\n",
    "    auth.set_access_token(ACCESS_TOKEN, ACCESS_SECRET)\n",
    "\n",
    "    # Return API with authentication\n",
    "    api = tweepy.API(auth)\n",
    "    return api"
   ]
  },
  {
   "cell_type": "markdown",
   "metadata": {},
   "source": [
    "Call the function and connect to Twitter API. Extract Tweets using a search term. In this example we use a hashtag to search for specific tweets."
   ]
  },
  {
   "cell_type": "code",
   "execution_count": null,
   "metadata": {},
   "outputs": [],
   "source": [
    "# Create an extractor object\n",
    "extractor = connectToTwitterAPI()\n",
    "\n",
    "# Specify search criteria and extract tweets into a list\n",
    "tweets = extractor.search(q=\"# \", lang = \"en\", count=50) # Find the most appropriate hashtag for our purpose\n",
    "\n",
    "# Print the total number of extracted tweets\n",
    "print(\"Number of tweets extracted: {}.\\n\".format(len(tweets)))"
   ]
  },
  {
   "cell_type": "markdown",
   "metadata": {},
   "source": [
    "Print the most recent 5 tweets and observe the nature of extracted tweets."
   ]
  },
  {
   "cell_type": "code",
   "execution_count": null,
   "metadata": {
    "scrolled": true
   },
   "outputs": [],
   "source": [
    "# Print the most recent 5 tweets:\n",
    "print(\"5 recent tweets:\\n\")\n",
    "for tweet in tweets[:5]:\n",
    "    print(tweet.text)\n",
    "    print()"
   ]
  },
  {
   "cell_type": "markdown",
   "metadata": {},
   "source": [
    "Data frames are useful to store data in tableau format. Create a data frame and store relavant data from each tweet. Display the first 10 tweets stored in the data frame in table format."
   ]
  },
  {
   "cell_type": "code",
   "execution_count": null,
   "metadata": {},
   "outputs": [],
   "source": [
    "# Create a pandas dataframe with columns: Tweets, len, ID, Date, Source, Likes, RTs\n",
    "data = \n",
    "\n",
    "# Add relavant data from each tweet - Hint: Check how we printed the tweet text\n",
    "\n",
    "\n",
    "# Display the first 10 elements of the dataframe\n",
    "data.head(10)"
   ]
  },
  {
   "cell_type": "markdown",
   "metadata": {},
   "source": [
    "Extract the most liked tweet and the most retweeted tweet."
   ]
  },
  {
   "cell_type": "code",
   "execution_count": null,
   "metadata": {},
   "outputs": [],
   "source": [
    " # Extract the tweet with the highest number of likes and retweets\n",
    "\n",
    "maxLikes = \n",
    "maxRetweets  = \n",
    "\n",
    "fav = data[data.Likes == maxLikes].index[0]\n",
    "rt  = data[data.RTs == maxRetweets].index[0]\n",
    "\n",
    "# Max FAVs:\n",
    "print(\"The tweet with more likes is: \\n{}\".format(data['Tweets'][fav]))\n",
    "print(\"Number of likes: {}\".format(maxLikes))\n",
    "\n",
    "# Max RTs:\n",
    "print(\"The tweet with more retweets is: \\n{}\".format(data['Tweets'][rt]))\n",
    "print(\"Number of retweets: {}\".format(maxRetweets))"
   ]
  },
  {
   "cell_type": "markdown",
   "metadata": {},
   "source": [
    "## Basic Sentiment Analysis\n",
    "\n",
    "1. Use Textblob python library to classify polarity of a tweet\n",
    "2. Compute the sentiment for each tweet\n"
   ]
  },
  {
   "cell_type": "markdown",
   "metadata": {},
   "source": [
    "We can determine whether a tweet is positive, negative or neutral using sentiment analysis. Textblob library provides a simple API to support sentiment analysis. It has an already trained analyzer to classify the polarity of a given text. We define two functions in the following code. One to pre-process and clean the tweet content and the other to compute the sentiment associated with each tweet."
   ]
  },
  {
   "cell_type": "code",
   "execution_count": null,
   "metadata": {},
   "outputs": [],
   "source": [
    "from textblob import TextBlob\n",
    "import re\n",
    "\n",
    "def cleanTweet(tweet):\n",
    "    '''\n",
    "    Utility function to clean the text in a tweet by removing \n",
    "    links and special characters using regex.\n",
    "    '''\n",
    "    return ' '.join(re.sub(\"(@[A-Za-z0-9]+)|([^0-9A-Za-z \\t])|(\\w+:\\/\\/\\S+)\", \" \", tweet).split())\n",
    "\n",
    "def analyseSentiment(tweet):\n",
    "    '''\n",
    "    Utility function to classify the polarity of a tweet\n",
    "    using textblob.\n",
    "    '''\n",
    "    analysis = TextBlob(cleanTweet(tweet))\n",
    "    if analysis.sentiment.polarity > 0:\n",
    "        return 1\n",
    "    elif analysis.sentiment.polarity == 0:\n",
    "        return 0\n",
    "    else:\n",
    "        return -1"
   ]
  },
  {
   "cell_type": "markdown",
   "metadata": {},
   "source": [
    "Compute sentiment for each tweet and add it to the data frame we created previously."
   ]
  },
  {
   "cell_type": "code",
   "execution_count": null,
   "metadata": {},
   "outputs": [],
   "source": [
    "# Compute sentiment for each tweet and add the result into a new column\n",
    "\n",
    "\n",
    "# Display the first 10 elements of the dataframe\n",
    "display(data.head(10))"
   ]
  },
  {
   "cell_type": "markdown",
   "metadata": {},
   "source": [
    "## Basic Visualization\n",
    "\n",
    "1. Calculate percentages of positive, neutral and negative tweets\n",
    "2. Plot percentages in a pie chart"
   ]
  },
  {
   "cell_type": "code",
   "execution_count": null,
   "metadata": {},
   "outputs": [],
   "source": [
    "# Construct lists with classified tweets\n",
    "\n",
    "positiveTweets = \n",
    "neutralTweets = \n",
    "negativeTweets = \n",
    "\n",
    "# Calculate percentages\n",
    "\n",
    "positivePercent = \n",
    "neutralPercent = \n",
    "negativePercent = \n",
    "\n",
    "# Print percentages\n",
    "\n",
    "print(\"Percentage of positive tweets: {}%\".format(positivePercent))\n",
    "print(\"Percentage of neutral tweets: {}%\".format(neutralPercent))\n",
    "print(\"Percentage de negative tweets: {}%\".format(negativePercent))"
   ]
  },
  {
   "cell_type": "markdown",
   "metadata": {},
   "source": [
    "Plot sentiment percentages in a pie chart"
   ]
  },
  {
   "cell_type": "code",
   "execution_count": null,
   "metadata": {
    "scrolled": true
   },
   "outputs": [],
   "source": [
    "# For plotting and visualization\n",
    "from IPython.display import display\n",
    "import matplotlib.pyplot as plt\n",
    "import seaborn as sns\n",
    "%matplotlib inline\n",
    "\n",
    "labels = ['Positive', 'Neutral', 'Negative']\n",
    "sizes = [positivePercent, neutralPercent, negativePercent]\n",
    "\n",
    "# Set different colors\n",
    "colors = ['green', 'grey', 'red']\n",
    "\n",
    "plt.pie(sizes, labels=labels, colors=colors, autopct='%1.1f%%', startangle=140)\n",
    "plt.axis('equal')\n",
    "plt.show()"
   ]
  },
  {
   "cell_type": "markdown",
   "metadata": {},
   "source": [
    "## Challenge Scenario"
   ]
  },
  {
   "cell_type": "markdown",
   "metadata": {},
   "source": [
    "Here's a challenge for those who are interested in further analysis.\n",
    "\n",
    "The previous insights are quite useful to have an idea of the general conversations in Twitter. However, a tweet from an influential person can shift the sentiment of a group of people. In this sense, how influential are the people that have a negative sentiment towards the no jab no job policy?"
   ]
  },
  {
   "cell_type": "code",
   "execution_count": null,
   "metadata": {},
   "outputs": [],
   "source": []
  }
 ],
 "metadata": {
  "hide_input": false,
  "kernelspec": {
   "display_name": "Python 3 (ipykernel)",
   "language": "python",
   "name": "python3"
  },
  "language_info": {
   "codemirror_mode": {
    "name": "ipython",
    "version": 3
   },
   "file_extension": ".py",
   "mimetype": "text/x-python",
   "name": "python",
   "nbconvert_exporter": "python",
   "pygments_lexer": "ipython3",
   "version": "3.9.5"
  }
 },
 "nbformat": 4,
 "nbformat_minor": 4
}
