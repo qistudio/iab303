{
 "cells": [
  {
   "cell_type": "markdown",
   "id": "df54d367-44d6-4c2c-b108-a21ca43fb590",
   "metadata": {},
   "source": [
    "<div class=\"alert alert-block alert-info\"><b>IAB303</b> - Data Analytics for Business Insight</div>"
   ]
  },
  {
   "cell_type": "markdown",
   "id": "8e371600-1b38-4b7d-a82e-e52feb5ccc99",
   "metadata": {},
   "source": [
    "# Finding border restrictions in the news\n",
    "\n",
    "[The Guardian](https://www.theguardian.com/au) is a quality **open** News outlet with an easy to use [open-platform API](https://open-platform.theguardian.com).\n",
    "\n",
    "* Explore and experiment with the [platform here](https://open-platform.theguardian.com/explore/)\n",
    "* Get your own [developer API key here](https://bonobo.capi.gutools.co.uk/register/developer)"
   ]
  },
  {
   "cell_type": "markdown",
   "id": "aa6edf02-b548-474c-8ffc-93a8aa0898ea",
   "metadata": {},
   "source": [
    "#### Load the key before anything else..."
   ]
  },
  {
   "cell_type": "code",
   "execution_count": null,
   "id": "25a9496f-9994-49f3-a541-d22384b35511",
   "metadata": {},
   "outputs": [],
   "source": [
    "#load key\n",
    "with open(???, 'r') as file:\n",
    "    key = file.read().strip()\n",
    "len(key) # check key loaded by reading its length - don't want to display the actual key!!"
   ]
  },
  {
   "cell_type": "markdown",
   "id": "dbe931fb-a1a6-4eaa-919e-f6c6988e0320",
   "metadata": {},
   "source": [
    "#### Import required libraries"
   ]
  },
  {
   "cell_type": "code",
   "execution_count": null,
   "id": "31cf74dd-1ab9-429b-b744-f63e3d9afa51",
   "metadata": {},
   "outputs": [],
   "source": [
    "#import required libraries\n",
    "import requests\n",
    "import json\n",
    "import pandas as pd"
   ]
  },
  {
   "cell_type": "markdown",
   "id": "4cabe3f2-5734-407f-a6e0-325d30b811be",
   "metadata": {},
   "source": [
    "#### Reuse useful functions from the studio session :)"
   ]
  },
  {
   "cell_type": "code",
   "execution_count": null,
   "id": "ff24c61a-2210-4d24-98c6-265daebca0a9",
   "metadata": {},
   "outputs": [],
   "source": [
    "# a function to build the URL\n",
    "\n",
    "def buildUrl(search_text,office=\"\",tag=\"\",fromDate=\"\"):\n",
    "    baseUrl = 'https://content.guardianapis.com/search?q='\n",
    "    # Only include office, tag and fromDate  if they have values\n",
    "    if office:\n",
    "        office = '&production-office='+office\n",
    "    if tag:\n",
    "        tag = '&tag='+tag\n",
    "    if fromDate:\n",
    "        fromDate = '&fromDate='+fromDate\n",
    "    fullurl =  baseUrl+'\"'+search_text+'\"'+office+tag+fromDate\n",
    "    print(fullurl)\n",
    "    return fullurl"
   ]
  },
  {
   "cell_type": "code",
   "execution_count": null,
   "id": "62fbec58-e7f1-4585-9000-5275443aeeab",
   "metadata": {},
   "outputs": [],
   "source": [
    "# create a function to make it easier\n",
    "def getData(url,key):\n",
    "    response = requests.get(url+'&page-size=50'+'&api-key='+key)\n",
    "    data = json.loads(response.content)\n",
    "    if data['response']['status']=='ok':\n",
    "        total = data['response']['total']\n",
    "        pages = data['response']['pages']\n",
    "        print(\"Found a total of {} records, returning first of {} pages.\".format(total,pages))\n",
    "        print(\"-------------------------------------------------------\")\n",
    "    else:\n",
    "        print(\"ERROR:\")\n",
    "        print(response)\n",
    "    return data"
   ]
  },
  {
   "cell_type": "markdown",
   "id": "9f91ef62-034f-4e6f-8617-045d1d5bee28",
   "metadata": {},
   "source": [
    "## Business concern\n",
    "\n",
    "There are several rumours about mandatory vaccination policy or vaccine passports.\n",
    "\n",
    "The Tourism Business Association hires you to find insights in the news about mandatory vaccination and vaccine passports. Using The Guardian API, let's explore what relevant information can we extract about mandatory vaccination "
   ]
  },
  {
   "cell_type": "code",
   "execution_count": null,
   "id": "d6937398-276b-4153-bbd7-0306a055d8ce",
   "metadata": {
    "scrolled": true,
    "tags": []
   },
   "outputs": [],
   "source": [
    "mandatory_vaccination_data = ???\n",
    "mandatory_vaccination_data"
   ]
  },
  {
   "cell_type": "code",
   "execution_count": null,
   "id": "8c80af79-1cc6-44c0-a19b-bf0bf6cf2ac0",
   "metadata": {
    "scrolled": true,
    "tags": []
   },
   "outputs": [],
   "source": [
    "vaccine_passports_data = ???\n",
    "vaccine_passports_data"
   ]
  },
  {
   "cell_type": "markdown",
   "id": "1d43daee-fbb5-4059-83bf-b25de3b47c09",
   "metadata": {},
   "source": [
    "#### We want to focus only on the results that contains the news information. Let's find the results list"
   ]
  },
  {
   "cell_type": "code",
   "execution_count": null,
   "id": "89accecc-e49b-4817-a90e-fcc059bdcebf",
   "metadata": {
    "scrolled": true,
    "tags": []
   },
   "outputs": [],
   "source": [
    "mandatory_vaccination_results = mandatory_vaccination_data[???][???]\n",
    "mandatory_vaccination_results"
   ]
  },
  {
   "cell_type": "code",
   "execution_count": null,
   "id": "916eaea7-892f-473b-926e-9fe326290208",
   "metadata": {
    "scrolled": true,
    "tags": []
   },
   "outputs": [],
   "source": [
    "vaccine_passports_rsults = vaccine_passports_data[???][???]\n",
    "vaccine_passports_rsults"
   ]
  },
  {
   "cell_type": "markdown",
   "id": "beb9be6d-cd78-46e3-a1c1-a7db109c5a41",
   "metadata": {},
   "source": [
    "#### Let's merge the two results list to combine the news into a dataframe"
   ]
  },
  {
   "cell_type": "code",
   "execution_count": null,
   "id": "b8589633-1303-4847-9914-881a7987c548",
   "metadata": {
    "scrolled": true,
    "tags": []
   },
   "outputs": [],
   "source": [
    "merge_results = ???\n",
    "merge_results"
   ]
  },
  {
   "cell_type": "code",
   "execution_count": null,
   "id": "fad4d1e7-9af8-4fb2-b83f-b6214f821375",
   "metadata": {},
   "outputs": [],
   "source": [
    "results_df = pd.DataFrame(???)\n",
    "results_df"
   ]
  },
  {
   "cell_type": "markdown",
   "id": "b4e3856f-a711-429f-afb4-516e129a4e42",
   "metadata": {},
   "source": [
    "## Probably a sentiment analysis would be helpful (ref Tutorial 5)"
   ]
  },
  {
   "cell_type": "code",
   "execution_count": null,
   "id": "5338fcb7-b02e-447f-9985-e49433458404",
   "metadata": {},
   "outputs": [],
   "source": [
    "!pip install textblob"
   ]
  },
  {
   "cell_type": "code",
   "execution_count": null,
   "id": "d9713fce-4167-4b04-bd8f-64407c3a858a",
   "metadata": {},
   "outputs": [],
   "source": [
    "from textblob import TextBlob\n",
    "import re\n",
    "\n",
    "def cleanTitle(title):\n",
    "    '''\n",
    "    Utility function to clean the text in a tweet by removing \n",
    "    links and special characters using regex.\n",
    "    '''\n",
    "    return ' '.join(re.sub(\"(@[A-Za-z0-9]+)|([^0-9A-Za-z \\t])|(\\w+:\\/\\/\\S+)\", \" \", title).split())\n",
    "\n",
    "def analyseSentiment(title):\n",
    "    '''\n",
    "    Utility function to classify the polarity of a tweet\n",
    "    using textblob.\n",
    "    '''\n",
    "    analysis = TextBlob(cleanTitle(title))\n",
    "    if analysis.sentiment.polarity > 0:\n",
    "        return 1\n",
    "    elif analysis.sentiment.polarity == 0:\n",
    "        return 0\n",
    "    else:\n",
    "        return -1"
   ]
  },
  {
   "cell_type": "markdown",
   "id": "4f5b8de1-4682-49cc-b7e7-a0082c474f64",
   "metadata": {},
   "source": [
    "#### Create a new column with the sentiment analysis"
   ]
  },
  {
   "cell_type": "code",
   "execution_count": null,
   "id": "30841212-ab06-4af2-9626-fc30f81cae67",
   "metadata": {},
   "outputs": [],
   "source": [
    "results_df[???] = results_df[\"webTitle\"].apply(lambda a: ???)\n",
    "results_df"
   ]
  },
  {
   "cell_type": "markdown",
   "id": "58c19382-a179-4d06-bbec-e883d3a4db46",
   "metadata": {},
   "source": [
    "#### Calculate the total of positive, neutral and negative sentiment and their percentages"
   ]
  },
  {
   "cell_type": "code",
   "execution_count": null,
   "id": "956bb2ab-b1a7-4908-b40b-e53b8d781415",
   "metadata": {},
   "outputs": [],
   "source": [
    "positive = ???\n",
    "neutral = ???\n",
    "negative = ???\n",
    "print(\"Total positive sentiment titles \" + str(positive))\n",
    "print(\"Total neutral sentiment titles \" + str(neutral))\n",
    "print(\"Total negative sentiment titles \" + str(negative))"
   ]
  },
  {
   "cell_type": "code",
   "execution_count": null,
   "id": "e47b83f0-1114-45f0-92d8-c6bae6db7573",
   "metadata": {},
   "outputs": [],
   "source": [
    "positivePercentage = ???\n",
    "neutralPercentage = ???\n",
    "negativePercentage = ???\n",
    "print(\"Positive sentiment titles percentage \" + str(positivePercentage) + \"%\")\n",
    "print(\"Neutral sentiment titles percentage \" + str(neutralPercentage) + \"%\")\n",
    "print(\"Negative sentiment titles percentage \" + str(negativePercentage) + \"%\")"
   ]
  },
  {
   "cell_type": "markdown",
   "id": "97aaac8b-ae70-45f0-ae5f-c005c602ffe2",
   "metadata": {},
   "source": [
    "#### Let's visualise the sentiment in a pie chart"
   ]
  },
  {
   "cell_type": "code",
   "execution_count": null,
   "id": "23107f32-0906-436f-95ff-05fba7332e80",
   "metadata": {},
   "outputs": [],
   "source": [
    "# For plotting and visualization\n",
    "from IPython.display import display\n",
    "import matplotlib.pyplot as plt\n",
    "import seaborn as sns\n",
    "%matplotlib inline\n",
    "\n",
    "labels = [???, ???, ???]\n",
    "sizes = [???, ???, ???]\n",
    "\n",
    "# Set different colors\n",
    "colors = ['green', 'grey', 'red']\n",
    "\n",
    "plt.pie(sizes, labels=labels, colors=colors, autopct='%1.1f%%', startangle=140)\n",
    "plt.axis('equal')\n",
    "plt.show()"
   ]
  },
  {
   "cell_type": "markdown",
   "id": "f54f9a17-007b-4ec4-ba29-7634a33d0c88",
   "metadata": {},
   "source": [
    "## We could also include additional information scrapping the web page (ref Tutorial 8)"
   ]
  },
  {
   "cell_type": "code",
   "execution_count": null,
   "id": "b1ce7b34-1d38-465e-a261-37e9699d3222",
   "metadata": {},
   "outputs": [],
   "source": [
    "from bs4 import BeautifulSoup\n",
    "\n",
    "def get_HTML(url):\n",
    "    response = requests.get(url)\n",
    "    return response.content\n",
    "\n",
    "def get_subtitle(url):\n",
    "    try:\n",
    "        html = get_HTML(???)\n",
    "        soup = BeautifulSoup(???, \"html.parser\")\n",
    "        article = soup.find(???)\n",
    "        div = article.find(???, attrs={???: ???})\n",
    "        p = div.find(???)\n",
    "        return p.text\n",
    "    except:\n",
    "        return \"Unable to find content\""
   ]
  },
  {
   "cell_type": "markdown",
   "id": "3f67da0b-faf5-4e23-a401-38017fd95ea9",
   "metadata": {},
   "source": [
    "#### Create a new column with the subtitle of the news"
   ]
  },
  {
   "cell_type": "code",
   "execution_count": null,
   "id": "36fa79de-a657-41c3-8a60-56647c7d25c6",
   "metadata": {},
   "outputs": [],
   "source": [
    "results_df[???] = ???\n",
    "results_df"
   ]
  },
  {
   "cell_type": "markdown",
   "id": "5c0e2d3e-a6e9-488b-acbb-cd784ed2f471",
   "metadata": {},
   "source": [
    "## Homework\n",
    "Using the same principle, find the topic and include it into the dataframe"
   ]
  }
 ],
 "metadata": {
  "kernelspec": {
   "display_name": "Python 3 (ipykernel)",
   "language": "python",
   "name": "python3"
  },
  "language_info": {
   "codemirror_mode": {
    "name": "ipython",
    "version": 3
   },
   "file_extension": ".py",
   "mimetype": "text/x-python",
   "name": "python",
   "nbconvert_exporter": "python",
   "pygments_lexer": "ipython3",
   "version": "3.9.5"
  }
 },
 "nbformat": 4,
 "nbformat_minor": 5
}
