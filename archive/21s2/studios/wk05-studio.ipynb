{
 "cells": [
  {
   "cell_type": "markdown",
   "metadata": {
    "slideshow": {
     "slide_type": "slide"
    }
   },
   "source": [
    "<div class=\"alert alert-block alert-info\"><b>IAB303</b> - Data Analytics for Business Insight</div>"
   ]
  },
  {
   "cell_type": "markdown",
   "metadata": {
    "slideshow": {
     "slide_type": "-"
    }
   },
   "source": [
    "## STUDIO :: Market Insight and social media\n",
    "\n",
    "In today's session we'll take a look at the significance of streaming data for businesses, and in particular consider social media. We'll consider the business question: What insights can be gained about the market (customers, competitors, environment, etc) from social media?"
   ]
  },
  {
   "cell_type": "markdown",
   "metadata": {
    "slideshow": {
     "slide_type": "fragment"
    }
   },
   "source": [
    "### Streams of Data\n",
    "\n",
    "* Streaming\n",
    "* Customer trace\n",
    "* Internet of Things (IOT)\n",
    "* Social media"
   ]
  },
  {
   "cell_type": "markdown",
   "metadata": {
    "slideshow": {
     "slide_type": "slide"
    }
   },
   "source": [
    "#### Google Maps Example\n",
    "\n",
    "* What you get\n",
    "* What google gets\n",
    "* The feedback loop"
   ]
  },
  {
   "cell_type": "markdown",
   "metadata": {
    "slideshow": {
     "slide_type": "slide"
    }
   },
   "source": [
    "### Streaming data and analytics\n",
    "\n",
    "* What is it and why is it important? (Mike Gualtieri)\n",
    "\n"
   ]
  },
  {
   "cell_type": "markdown",
   "metadata": {
    "slideshow": {
     "slide_type": "subslide"
    }
   },
   "source": [
    "> **Streaming Analytics:** Technology that ingests, analyses, and acts on high throughput of data from live data sources to identify patterns, detect urgent situations, and automate immediate actions in real time.\n",
    "> [Mike Gualtieri](https://tdwi.org/articles/2016/08/29/define-your-business-case-for-streaming-analytics.aspx)"
   ]
  },
  {
   "cell_type": "markdown",
   "metadata": {
    "slideshow": {
     "slide_type": "fragment"
    }
   },
   "source": [
    "* All data originates in real time\n",
    "* Insights are perishable\n",
    "* How can you ... **right now**?"
   ]
  },
  {
   "cell_type": "markdown",
   "metadata": {
    "slideshow": {
     "slide_type": "subslide"
    }
   },
   "source": [
    "* Business case -[David Loshin](https://tdwi.org/articles/list/contributor-david-loshin.aspx)\n",
    "    * Reliance on continuous data\n",
    "    * Opportunities for improvement\n",
    "    * Potential use of analytics results"
   ]
  },
  {
   "cell_type": "markdown",
   "metadata": {
    "slideshow": {
     "slide_type": "subslide"
    }
   },
   "source": [
    "#### LEARN MORE\n",
    "  \n",
    "> \"Information derived from such analysis gives companies visibility into many aspects of their business and customer activity such as –service usage (for metering/billing), server activity, website clicks, and geo-location of devices, people, and physical goods –and enables them to respond promptly to emerging situations.\"\n",
    ">\n",
    "> [What is Streaming Data?](https://aws.amazon.com/streaming-data/)\n",
    "\n",
    "\n",
    "> \"The success of a streaming analytics program is critically bound to establishing a proper business case.\"\n",
    ">\n",
    "> [Define Your Business Case for Streaming Analytics](https://tdwi.org/articles/2016/08/29/define-your-business-case-for-streaming-analytics.aspx)\n"
   ]
  },
  {
   "cell_type": "markdown",
   "metadata": {
    "slideshow": {
     "slide_type": "subslide"
    }
   },
   "source": [
    "\n",
    "  \n",
    "> \"Insights are perishable\"\n",
    ">\n",
    "> [Emerging Prevalence of Data Streaming in Analytics and it's Business Significance](https://aws.amazon.com/streaming-data/)\n",
    "\n"
   ]
  },
  {
   "cell_type": "markdown",
   "metadata": {
    "slideshow": {
     "slide_type": "slide"
    }
   },
   "source": [
    "### Customer trace\n",
    "\n",
    "* Location data\n",
    "* Spend\n",
    "* Interaction with brand/product\n",
    "\n",
    "Allows:\n",
    "\n",
    "* Proximity marketing\n",
    "* Contextual recommendations\n",
    "* Advertising optimisation\n"
   ]
  },
  {
   "cell_type": "markdown",
   "metadata": {
    "slideshow": {
     "slide_type": "slide"
    }
   },
   "source": [
    "#### IAB303 Example\n",
    "\n",
    "* Jupyter stats\n",
    "* Blackboard stats\n",
    "* Also, wifi data"
   ]
  },
  {
   "cell_type": "markdown",
   "metadata": {
    "slideshow": {
     "slide_type": "slide"
    }
   },
   "source": [
    "#### LEARN MORE\n",
    "  \n",
    "> \"Retail industry players can particularly benefit from analytics as it enables them to communicate more effectively with their customers in an era where customers are more informed and respond better to customized marketing efforts.\"\n",
    ">\n",
    "> [Realtime analytics in retail - use cases](https://wso2.com/whitepapers/real-time-analytics-in-retail-use-cases/)\n",
    "\n"
   ]
  },
  {
   "cell_type": "markdown",
   "metadata": {
    "slideshow": {
     "slide_type": "slide"
    }
   },
   "source": [
    "\n",
    "  \n",
    "> \"...can we use the idea of sensors to collect data for things that we were just guessing about before\"\n",
    ">\n",
    "> [The Internet of Things Meets Big Data, with Chris Curran](https://www.youtube.com/watch?v=l_LT_ZKlVQw)\n",
    "\n"
   ]
  },
  {
   "cell_type": "markdown",
   "metadata": {
    "slideshow": {
     "slide_type": "slide"
    }
   },
   "source": [
    "### Social Media\n",
    "\n",
    "* Customer focused\n",
    "* Engagement\n",
    "* Trends\n",
    "* Sentiment\n",
    "* Strengths and weaknesses in brand/products\n",
    "* Competition"
   ]
  },
  {
   "cell_type": "markdown",
   "metadata": {
    "slideshow": {
     "slide_type": "slide"
    }
   },
   "source": [
    "#### LEARN MORE\n",
    "  \n",
    "* [Social Media Analytics helps companies meet business goals](http://www.expertsystem.com/social-media-analytics-helps-organizations-meet-business-goal/)\n",
    "* [7 Ways Social Media and Business Intelligence Go Hand in Hand](https://socialmediaweek.org/blog/2015/12/social-media-business-intelligence-hand-hand/)\n",
    "* [Twitter business intelligence: Analyzing your competitors](http://www.followthehashtag.com/help/twitter-business-intelligence-analyzing-competitors/)\n",
    "* [Business Strategy on Facebook](http://www.baselinemag.com/c/a/IT-Management/Business-Strategy-on-Facebook-890613)\n",
    "* [5 Retail Big Data Examples with Big Paybacks](http://www.crmsearch.com/retail-big-data.php)\n",
    "\n"
   ]
  },
  {
   "cell_type": "markdown",
   "metadata": {
    "slideshow": {
     "slide_type": "slide"
    }
   },
   "source": [
    "---\n",
    "### Example: Twitter Analysis\n",
    "\n",
    "**What insights can a business gain through analysis of social media?**"
   ]
  },
  {
   "cell_type": "markdown",
   "metadata": {
    "slideshow": {
     "slide_type": "fragment"
    }
   },
   "source": [
    "First we setup access to the twitter API. You will need to get a free developer account with [Twitter Developers](https://developer.twitter.com/en/portal/apps/14868015/keys) and create an `app`. Then download (or copy) `api_key`, `api_secret_key`,\n",
    "`access_token`, `access_token_secret`.\n",
    "\n",
    "For this example, I've saved mine in a json file, and I load them into a dictionary."
   ]
  },
  {
   "cell_type": "code",
   "execution_count": null,
   "metadata": {},
   "outputs": [],
   "source": [
    "import json\n",
    "\n",
    "my_secrets = \"data/twitter_credentials.json\"\n",
    "with open(my_secrets,'r') as file:\n",
    "    credentials = json.load(file)\n",
    "    "
   ]
  },
  {
   "cell_type": "markdown",
   "metadata": {},
   "source": [
    "We use the `tweepy` library to access the Twitter API"
   ]
  },
  {
   "cell_type": "code",
   "execution_count": null,
   "metadata": {
    "slideshow": {
     "slide_type": "fragment"
    }
   },
   "outputs": [],
   "source": [
    "import tweepy\n",
    "import pandas as pd\n",
    "\n",
    "# use our credentials to authenticate to the API\n",
    "auth = tweepy.OAuthHandler(credentials['api_key'], credentials['api_secret_key'])\n",
    "auth.set_access_token(credentials['access_token'], credentials['access_token_secret'])\n",
    "twitter = tweepy.API(auth)"
   ]
  },
  {
   "cell_type": "code",
   "execution_count": null,
   "metadata": {
    "scrolled": true,
    "slideshow": {
     "slide_type": "fragment"
    }
   },
   "outputs": [],
   "source": [
    "tweets = twitter.search(q=\"#afghanistan\", lang = \"en\", count=50,include_entities=True)"
   ]
  },
  {
   "cell_type": "code",
   "execution_count": null,
   "metadata": {
    "scrolled": true,
    "slideshow": {
     "slide_type": "subslide"
    }
   },
   "outputs": [],
   "source": [
    "for tweet in tweets:\n",
    "    print(tweet.created_at)\n",
    "    print(tweet.id)\n",
    "    print(tweet.text,'\\n')"
   ]
  },
  {
   "cell_type": "markdown",
   "metadata": {
    "slideshow": {
     "slide_type": "subslide"
    }
   },
   "source": [
    "What kind of data do we receive for each tweet?"
   ]
  },
  {
   "cell_type": "code",
   "execution_count": null,
   "metadata": {
    "scrolled": true,
    "slideshow": {
     "slide_type": "fragment"
    }
   },
   "outputs": [],
   "source": [
    "first_tweet = tweets[2]\n",
    "first_tweet._json"
   ]
  },
  {
   "cell_type": "markdown",
   "metadata": {
    "slideshow": {
     "slide_type": "subslide"
    }
   },
   "source": [
    "What other data can we extract?"
   ]
  },
  {
   "cell_type": "code",
   "execution_count": null,
   "metadata": {
    "scrolled": true,
    "slideshow": {
     "slide_type": "fragment"
    }
   },
   "outputs": [],
   "source": [
    "from IPython.display import HTML, display\n",
    "for tweet in tweets:\n",
    "    if 'media' in tweet.entities:\n",
    "        for image in  tweet.entities['media']:\n",
    "            url = image['media_url']\n",
    "            display(HTML('<img src=\"'+url+'\" width=\"30%\"/>'))"
   ]
  },
  {
   "cell_type": "markdown",
   "metadata": {
    "slideshow": {
     "slide_type": "subslide"
    }
   },
   "source": [
    "We can also get user information..."
   ]
  },
  {
   "cell_type": "code",
   "execution_count": null,
   "metadata": {
    "scrolled": true,
    "slideshow": {
     "slide_type": "fragment"
    }
   },
   "outputs": [],
   "source": [
    "first_tweet.user._json"
   ]
  },
  {
   "cell_type": "markdown",
   "metadata": {
    "slideshow": {
     "slide_type": "subslide"
    }
   },
   "source": [
    "And even more detail is available on each user by querying the API on the user"
   ]
  },
  {
   "cell_type": "code",
   "execution_count": null,
   "metadata": {
    "scrolled": true,
    "slideshow": {
     "slide_type": "fragment"
    }
   },
   "outputs": [],
   "source": [
    "twitter.get_user('andrewresearch')._json"
   ]
  },
  {
   "cell_type": "markdown",
   "metadata": {},
   "source": [
    "The number of followers can be a measure of *influence*. Let's get tweets from those with a large number of followers..."
   ]
  },
  {
   "cell_type": "code",
   "execution_count": null,
   "metadata": {},
   "outputs": [],
   "source": [
    "def follower_count(tweet):\n",
    "    return tweet.user._json['followers_count']"
   ]
  },
  {
   "cell_type": "code",
   "execution_count": null,
   "metadata": {},
   "outputs": [],
   "source": [
    "follower_count(first_tweet)"
   ]
  },
  {
   "cell_type": "code",
   "execution_count": null,
   "metadata": {
    "scrolled": true
   },
   "outputs": [],
   "source": [
    "influence_tweets = [tweet for tweet in tweets if follower_count(tweet) > 10000]\n",
    "for in_tweet in influence_tweets:\n",
    "    print(\"------------------------------------------------------------------\")\n",
    "    print(in_tweet.user.name)\n",
    "    print(in_tweet.user.description)\n",
    "    print(in_tweet.text)"
   ]
  },
  {
   "cell_type": "markdown",
   "metadata": {},
   "source": [
    "**Consider:**\n",
    "\n",
    "What other ways could you filter the data to be helpful for gaining instights for business?"
   ]
  },
  {
   "cell_type": "markdown",
   "metadata": {
    "slideshow": {
     "slide_type": "subslide"
    }
   },
   "source": [
    "### Accessing Twitter Streaming Data\n",
    "\n",
    "We need to be able to apply a function to each element of the stream"
   ]
  },
  {
   "cell_type": "code",
   "execution_count": null,
   "metadata": {
    "slideshow": {
     "slide_type": "fragment"
    }
   },
   "outputs": [],
   "source": [
    "class MyStreamListener(tweepy.StreamListener):\n",
    "    def on_status(self, status):\n",
    "        print(status.text)\n",
    "        if 'media' in status.entities:\n",
    "            for image in  status.entities['media']:\n",
    "                url = image['media_url']\n",
    "                display(HTML('<img src=\"'+url+'\" width=\"30%\"/>'))"
   ]
  },
  {
   "cell_type": "code",
   "execution_count": null,
   "metadata": {
    "scrolled": true,
    "slideshow": {
     "slide_type": "subslide"
    }
   },
   "outputs": [],
   "source": [
    "myStreamListener = MyStreamListener()\n",
    "myStream = tweepy.Stream(auth = twitter.auth, listener=myStreamListener)\n",
    "myStream.filter(track=['afghanistan'])"
   ]
  },
  {
   "cell_type": "code",
   "execution_count": null,
   "metadata": {},
   "outputs": [],
   "source": []
  },
  {
   "cell_type": "markdown",
   "metadata": {
    "slideshow": {
     "slide_type": "subslide"
    }
   },
   "source": [
    "---\n",
    "**DISCUSSION**\n",
    "* What is it that is different about social media data like twitter?\n",
    "* What other kinds of data sources produce this type of data?\n",
    "* How is this significant for business?\n",
    "---"
   ]
  }
 ],
 "metadata": {
  "celltoolbar": "Slideshow",
  "kernelspec": {
   "display_name": "Python 3",
   "language": "python",
   "name": "python3"
  },
  "language_info": {
   "codemirror_mode": {
    "name": "ipython",
    "version": 3
   },
   "file_extension": ".py",
   "mimetype": "text/x-python",
   "name": "python",
   "nbconvert_exporter": "python",
   "pygments_lexer": "ipython3",
   "version": "3.7.6"
  }
 },
 "nbformat": 4,
 "nbformat_minor": 4
}
