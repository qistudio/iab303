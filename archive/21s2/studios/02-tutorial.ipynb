{
 "cells": [
  {
   "cell_type": "markdown",
   "metadata": {},
   "source": [
    "# Week 2 Tutorial :: Module 2\n",
    "\n",
    "__Welcome to your first tutorial!__\n",
    "\n",
    "In this tutorial, we will be covering the following topics...\n",
    "\n",
    "1. Loading data/libraries\n",
    "2. Cleaning data\n",
    "3. Visualisation of data\n",
    "\n",
    "All tutorials include tasks throughout the Jupyter notebook that students can set out to complete (either in class, or in their own time). As a hint, we provide `???` symbols wherever we believe you may benefit in starting said tasks."
   ]
  },
  {
   "cell_type": "markdown",
   "metadata": {},
   "source": [
    "### 1. Question\n",
    "\n",
    "> **CONCERN:** A business is looking to launch an agricultural product in either Australia or New Zealand. However, management is unsure which country to start with.\n",
    "\n",
    "What questions might the business be interested in answering, and how might we use data analytics to address these questions?"
   ]
  },
  {
   "cell_type": "markdown",
   "metadata": {},
   "source": [
    "### 1. Data\n",
    "\n",
    "What data may be helpful in finding out the importance of agriculture to each country?\n",
    "\n",
    "Perhaps, data that shows the contribution of agriculture to the economy:\n",
    "\n",
    "1. Take a look at [GapMinder](https://www.gapminder.org/data/) - (based on [uw-madison resource](https://uw-madison-aci.github.io/python-novice-gapminder/39-plotting/))\n",
    "2. Find the \"Agriculture, percent of GDP\" (economy>sectors>agriculture) and download the CSV\n",
    "3. Upload the CSV to your Jupyter files section with the 'upload' button into a 'data' directory."
   ]
  },
  {
   "cell_type": "markdown",
   "metadata": {},
   "source": [
    "#### Required libraries\n",
    "\n",
    "For any data analysis, we need to use existing software that has been loaded into the Jupyter environment in the form of 'libraries', 'packages', or 'modules'. To make these libraries available to your notebook, you need to `import` them.\n",
    "\n",
    "#### You will need to use the following python commands\n",
    "\n",
    "```python\n",
    "import\n",
    "# the library names are:\n",
    "    matplotlib.pyplot as plt\n",
    "    pandas\n",
    "```"
   ]
  },
  {
   "cell_type": "code",
   "execution_count": null,
   "metadata": {},
   "outputs": [],
   "source": [
    "# Import pandas for dataframes and matplotlib for plotting\n",
    "??? ???\n",
    "??? ???"
   ]
  },
  {
   "cell_type": "markdown",
   "metadata": {},
   "source": [
    "#### Load the data\n",
    "\n",
    "Now that we have the data file in our Jupyter environment, we can load the data out of the file into our notebook so that we can work with it.\n",
    "\n",
    "#### You will need to use the following python commands\n",
    "\n",
    "```python\n",
    "pandas.read_csv(filename, index_col= colname)\n",
    "print()\n",
    "dataframe_name.shape\n",
    "```"
   ]
  },
  {
   "cell_type": "code",
   "execution_count": null,
   "metadata": {},
   "outputs": [],
   "source": [
    "# Set variables for file and index column\n",
    "??? = ??? #the name of your uploaded file - ensure that you use quotes \"filename.csv\"\n",
    "??? = ??? #open the csv and have a look at what the index column is called\n",
    "\n",
    "# Read in the percent of gdp data\n",
    "??? = pandas.???\n",
    "\n",
    "# Show the shape of the data\n",
    "???(???)"
   ]
  },
  {
   "cell_type": "markdown",
   "metadata": {},
   "source": [
    "What does the shape tell us?\n",
    "\n",
    "Take a look at the data. \n",
    "\n",
    "TIP: You can view any variable by typing its name in a cell and running the cell."
   ]
  },
  {
   "cell_type": "code",
   "execution_count": null,
   "metadata": {},
   "outputs": [],
   "source": [
    "# Display loaded data\n",
    "???"
   ]
  },
  {
   "cell_type": "markdown",
   "metadata": {},
   "source": [
    "#### Clean the data\n",
    "\n",
    "Data is rarely in a form where it is ready to analyse immediately. One of the most common tasks in data analytics is cleaning. See [The Ultimate Guide to Data Cleaning](https://towardsdatascience.com/the-ultimate-guide-to-data-cleaning-3969843991d4)\n",
    "\n",
    "For this task, we're going to work with a subset of the data, and we will select data that needs minimal cleaning. For other tasks, you may need to do a lot of cleaning. How much always depends on both the question being addressed and the data that you have selected.\n",
    "\n",
    "#### You will need to use the following python commands\n",
    "\n",
    "```python\n",
    "dataframe_name.filter(list_name, axis=1)\n",
    "print()\n",
    "dataframe_name.shape\n",
    "dataframe_name.loc[column_name]\n",
    "```"
   ]
  },
  {
   "cell_type": "code",
   "execution_count": null,
   "metadata": {},
   "outputs": [],
   "source": [
    "# Take the last 5 years of the GDP data\n",
    "??? = [???,???,???,???,???] # TIP: Ensure you put names of columns in quotes \"colname\"\n",
    "??? = ???.???(???, ???)\n",
    "???(???)"
   ]
  },
  {
   "cell_type": "markdown",
   "metadata": {},
   "source": [
    "We are only interested in Australia and New Zealand, so we don't need 189 rows. We can use the .loc function of the dataframe to obtain the row."
   ]
  },
  {
   "cell_type": "code",
   "execution_count": null,
   "metadata": {},
   "outputs": [],
   "source": [
    "# Try it out with Zimbabwe\n",
    "???.loc[\"Zimbabwe\"]"
   ]
  },
  {
   "cell_type": "code",
   "execution_count": null,
   "metadata": {},
   "outputs": [],
   "source": [
    "So we can take the appropriate rows and assign them to new variables for each country"
   ]
  },
  {
   "cell_type": "code",
   "execution_count": null,
   "metadata": {},
   "outputs": [],
   "source": [
    "# Just select the countries we are interested in by referencing the index\n",
    "??? = ???.???[???]\n",
    "??? = ???.???[???]"
   ]
  },
  {
   "cell_type": "code",
   "execution_count": null,
   "metadata": {},
   "outputs": [],
   "source": [
    "# Take a look at the data for AU\n",
    "???"
   ]
  },
  {
   "cell_type": "code",
   "execution_count": null,
   "metadata": {},
   "outputs": [],
   "source": [
    "# Take a look at the data for NZ\n",
    "???"
   ]
  },
  {
   "cell_type": "markdown",
   "metadata": {},
   "source": [
    "### 3. Analysis\n",
    "\n",
    "* What is the problem with the NZ data?\n",
    "* What can be done about this?\n",
    "* What are the implications for the question?\n",
    "\n",
    "For this exercise, we are not going to do any computational analysis on this data, but we still need to 'analyse' the data by **critiquing** it in terms of the question. We could work with the raw numbers, but a visualisation of those numbers may be more helpful."
   ]
  },
  {
   "cell_type": "markdown",
   "metadata": {},
   "source": [
    "### 4. Visualisation\n",
    "\n",
    "At the beginning of the notebook we imported the plotting library and called it `plt`. Here we use this software to visualise our data.\n",
    "\n",
    "#### You will need to use the following python commands\n",
    "\n",
    "```python\n",
    "plt.plot(dataframe_name)\n",
    "plt.legend(loc=position) # e.g. 'upper right'\n",
    "plt.xlabel(xaxis_name)\n",
    "plt.ylabel(yaxis_name)\n",
    "```"
   ]
  },
  {
   "cell_type": "code",
   "execution_count": null,
   "metadata": {},
   "outputs": [],
   "source": [
    "# Plot the data for the 2 countries\n",
    "???.???(???)\n",
    "???.???(???)"
   ]
  },
  {
   "cell_type": "markdown",
   "metadata": {},
   "source": [
    "This visualisation could easily be misinterpreted. Let's add some additional features to the visualisation to improvement."
   ]
  },
  {
   "cell_type": "code",
   "execution_count": null,
   "metadata": {},
   "outputs": [],
   "source": [
    "# Add labels and set colours\n",
    "???.???(???,'g-',label=???)\n",
    "???.???(???,'m-',label=???)\n",
    "\n",
    "# Create legend.\n",
    "???.???(???)\n",
    "# Create axis labels\n",
    "???.???(???)\n",
    "???.???(???)"
   ]
  },
  {
   "cell_type": "markdown",
   "metadata": {},
   "source": [
    "### 5. Insight\n",
    "\n",
    "Our data analytics is not complete at this point. We still need to identify insights from the analytics process that can help address our original questions or address the main business concern.\n",
    "* What did we find, and how does it relate to the original quest?\n",
    "* What is the recommendation for the concern? \n",
    "* What other information would be helpful? \n",
    "* What *doesn't* the data tell us? \n",
    "* Can we make inferences? What inferences should we avoid?"
   ]
  }
 ],
 "metadata": {
  "kernelspec": {
   "display_name": "Python 3",
   "language": "python",
   "name": "python3"
  },
  "language_info": {
   "codemirror_mode": {
    "name": "ipython",
    "version": 3
   },
   "file_extension": ".py",
   "mimetype": "text/x-python",
   "name": "python",
   "nbconvert_exporter": "python",
   "pygments_lexer": "ipython3",
   "version": "3.7.4"
  }
 },
 "nbformat": 4,
 "nbformat_minor": 4
}
