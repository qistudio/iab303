{
 "cells": [
  {
   "cell_type": "markdown",
   "metadata": {},
   "source": [
    "<div class=\"alert alert-block alert-info\"><b>IAB303</b> - Data Analytics for Business Insight</div>"
   ]
  },
  {
   "cell_type": "markdown",
   "metadata": {},
   "source": [
    "# Structured data from text with regex - part 1\n",
    "---"
   ]
  },
  {
   "cell_type": "markdown",
   "metadata": {},
   "source": [
    "### Required libraries\n",
    "\n",
    "We will need the Python regular expression library for this QuAD. *Note: Libraries are also known as packages in python and can include multiple modules.*"
   ]
  },
  {
   "cell_type": "code",
   "execution_count": null,
   "metadata": {},
   "outputs": [],
   "source": [
    "import re"
   ]
  },
  {
   "cell_type": "markdown",
   "metadata": {},
   "source": [
    "### The task\n",
    "\n",
    "We start with text from which we want to extract some structured data. Here is the text:"
   ]
  },
  {
   "cell_type": "code",
   "execution_count": null,
   "metadata": {},
   "outputs": [],
   "source": [
    "starting_text = \"\"\"2020.03.18 Andrew eats avocado\n",
    "2020.03.19 Catarina eats coconut\n",
    "2020.03.19 Prime Minister eats pineapple mousse\"\"\""
   ]
  },
  {
   "cell_type": "code",
   "execution_count": null,
   "metadata": {},
   "outputs": [],
   "source": [
    "starting_text"
   ]
  },
  {
   "cell_type": "markdown",
   "metadata": {},
   "source": [
    "What we are looking for are the important data that is embedded in the text. We must look at our original data to see what is possible.\n",
    "\n",
    "Looking at the `starting_text` we should be able to obtain the following data:\n",
    "\n",
    "| Date | Name | Food eaten |\n",
    "| --- | --- | --- |\n",
    "| 2020.03.18 | Andrew | avocado |\n",
    "| 2020.03.19 | Catarina | coconut |\n",
    "| 2020.03.19 | Prime Minister | pineapple mousse |"
   ]
  },
  {
   "cell_type": "markdown",
   "metadata": {},
   "source": [
    "### Initial structure - lines\n",
    "\n",
    "Our text already has some structure to it: each entry is on a new line. So we can turn the string `starting_text` into a list of strings by splitting on the newline (`\\n`) character that separates each line."
   ]
  },
  {
   "cell_type": "code",
   "execution_count": null,
   "metadata": {},
   "outputs": [],
   "source": [
    "text_list = starting_text.split('\\n')\n",
    "text_list"
   ]
  },
  {
   "cell_type": "markdown",
   "metadata": {},
   "source": [
    "### First *n* characters\n",
    "\n",
    "We now have a list where each element in the list is one line of the starting text. Now we need to start extracting the data we want. \n",
    "\n",
    "The date looks the easiest to extract as it is the beginning of each line. As each line is a string, and a string is basically a list of characters, we can get the first 10 characters by indicating the range in square brackets: `[0:10]`\n",
    "\n",
    "Let's try this on the first element of the list...\n"
   ]
  },
  {
   "cell_type": "code",
   "execution_count": null,
   "metadata": {},
   "outputs": [],
   "source": [
    "first_element = text_list[0]\n",
    "print(first_element)\n",
    "\n",
    "starting_10 = first_element[0:10]\n",
    "print(starting_10)"
   ]
  },
  {
   "cell_type": "markdown",
   "metadata": {},
   "source": [
    "We can experiment with this a bit..."
   ]
  },
  {
   "cell_type": "code",
   "execution_count": null,
   "metadata": {},
   "outputs": [],
   "source": [
    "# If we're starting from 0 we can leave it out...\n",
    "first_element[:10]"
   ]
  },
  {
   "cell_type": "code",
   "execution_count": null,
   "metadata": {},
   "outputs": [],
   "source": [
    "# Get just the first 4 characters...\n",
    "first_element[:4]"
   ]
  },
  {
   "cell_type": "code",
   "execution_count": null,
   "metadata": {},
   "outputs": [],
   "source": [
    "#Get the month\n",
    "first_element[5:7]"
   ]
  },
  {
   "cell_type": "markdown",
   "metadata": {},
   "source": [
    "Note that the first number of the range is the position of the first character, but the second number is the **next** position after the last character."
   ]
  },
  {
   "cell_type": "markdown",
   "metadata": {},
   "source": [
    "Since we need the date for all lines, we can loop over the list:"
   ]
  },
  {
   "cell_type": "code",
   "execution_count": null,
   "metadata": {},
   "outputs": [],
   "source": [
    "for element in text_list:\n",
    "    print(element[0:10])"
   ]
  },
  {
   "cell_type": "markdown",
   "metadata": {},
   "source": [
    "### New list with extracted data\n",
    "\n",
    "If we want to add this data to a new list, instead of printing the elements, we could do the following:"
   ]
  },
  {
   "cell_type": "code",
   "execution_count": null,
   "metadata": {},
   "outputs": [],
   "source": [
    "#Create a new empty list\n",
    "date_list = [] \n",
    "\n",
    "#Loop over the text_list and append dates to the new list\n",
    "for element in text_list:\n",
    "    date_list.append(element[0:10])\n",
    "    \n",
    "#Check new list\n",
    "date_list"
   ]
  },
  {
   "cell_type": "markdown",
   "metadata": {},
   "source": [
    "Python also allows us to do this in a single line of code: "
   ]
  },
  {
   "cell_type": "code",
   "execution_count": null,
   "metadata": {},
   "outputs": [],
   "source": [
    "date_list_two = [element[0:10] for element in text_list]\n",
    "date_list_two"
   ]
  },
  {
   "cell_type": "markdown",
   "metadata": {},
   "source": [
    "This single line can be read as:\n",
    "1. Create a new list \n",
    "    `[ ... ]`\n",
    "2. Put the first 10 characters of each element in the list \n",
    "    `[element[0:10] ...]`\n",
    "3. Where each element is obtained by looping over text_list \n",
    "    `[element[0:10] for element in text_list]`\n",
    "4. Assign the resulting list to a variable \n",
    "    `date_list = [element[0:10] for element in text_list]`"
   ]
  },
  {
   "cell_type": "markdown",
   "metadata": {},
   "source": [
    "### More complex text\n",
    "\n",
    "But what happens if our initial text didn't always have the date starting a new line..."
   ]
  },
  {
   "cell_type": "code",
   "execution_count": null,
   "metadata": {},
   "outputs": [],
   "source": [
    "messy_text = \"\"\"\n",
    "*** Start ***\n",
    "2020.03.18 Andrew eats avocado\n",
    "2020.03.19 Catarina eats coconut\n",
    "2020.03.19 Prime Minister eats pineapple mousse\n",
    "*** End ***\n",
    "\"\"\""
   ]
  },
  {
   "cell_type": "markdown",
   "metadata": {},
   "source": [
    "If we re-run the above approach on this text, we run into some issues..."
   ]
  },
  {
   "cell_type": "code",
   "execution_count": null,
   "metadata": {},
   "outputs": [],
   "source": [
    "messy_list = messy_text.split('\\n')\n",
    "messy_dates = [element[0:10] for element in messy_list]\n",
    "messy_dates"
   ]
  },
  {
   "cell_type": "markdown",
   "metadata": {},
   "source": [
    "We have a list of 7 elements. Only 3 of them are dates. 2 of them are empty and 2 of them have other data that mark the beginning and end of the file. "
   ]
  },
  {
   "cell_type": "markdown",
   "metadata": {},
   "source": [
    "### Pattern matching with regex\n",
    "\n",
    "This is where pattern matching with regex can be helpful. Instead of just getting the first 10 characters, we can get those characters that match a specific regex pattern.\n",
    "\n",
    "One possibility is a pattern that:\n",
    "1. Starts a line\n",
    "2. Has 4 numbers then a full stop, then 2 numbers then full stop, then 2 numbers\n",
    "\n",
    "The regex for matching the start of a string is `^`, numbers are matched by `[0-9]` and if we want certain number of something we can put the number in `{}` like `{3}`. \n",
    "So if we want to match the first 4 numbers of a string, we could use the regex `^[0-9]{4}`.\n",
    "\n",
    "Let's try this with our messy_list..."
   ]
  },
  {
   "cell_type": "code",
   "execution_count": null,
   "metadata": {},
   "outputs": [],
   "source": [
    "print(messy_list[0]) # Print first line\n",
    "match = re.search(r\"^[0-9]{4}\", messy_list[0]) # Pattern match first line\n",
    "print(match) # Print the match"
   ]
  },
  {
   "cell_type": "markdown",
   "metadata": {},
   "source": [
    "Now we try with the third line which we know has a date..."
   ]
  },
  {
   "cell_type": "code",
   "execution_count": null,
   "metadata": {},
   "outputs": [],
   "source": [
    "print(messy_list[2]) # Print third line\n",
    "match = re.search(r\"^[0-9]{4}\", messy_list[2]) # Pattern match third line\n",
    "print(match) # Print the match"
   ]
  },
  {
   "cell_type": "markdown",
   "metadata": {},
   "source": [
    "We can get the actual value of the match with the `group()` function"
   ]
  },
  {
   "cell_type": "code",
   "execution_count": null,
   "metadata": {},
   "outputs": [],
   "source": [
    "match.group()"
   ]
  },
  {
   "cell_type": "markdown",
   "metadata": {},
   "source": [
    "We can see that it found a match which was the first 4 characters of the date. Let's try this approach with the whole of `messy_text` instead of our original counting characters approach..."
   ]
  },
  {
   "cell_type": "code",
   "execution_count": null,
   "metadata": {},
   "outputs": [],
   "source": [
    "for element in messy_list:\n",
    "    match = re.search(r\"^[0-9]{4}\", element)\n",
    "    print(match)\n"
   ]
  },
  {
   "cell_type": "markdown",
   "metadata": {},
   "source": [
    "### Getting match values\n",
    "\n",
    "So we can see that the dates have been matched, and those lines without dates come back with none. We can only use the `group()` function on actual matches, so in our loop, we'll need to check if the match has a value in it..."
   ]
  },
  {
   "cell_type": "code",
   "execution_count": null,
   "metadata": {},
   "outputs": [],
   "source": [
    "for element in messy_list:\n",
    "    match = re.search(r\"^[0-9]{4}\", element)\n",
    "    if match:\n",
    "        print(match.group())\n",
    "\n"
   ]
  },
  {
   "cell_type": "markdown",
   "metadata": {
    "slideshow": {
     "slide_type": ""
    }
   },
   "source": [
    "Instead of printing, let's add the results to our new `date_list`"
   ]
  },
  {
   "cell_type": "code",
   "execution_count": null,
   "metadata": {},
   "outputs": [],
   "source": [
    "# create empty list\n",
    "date_list = []\n",
    "\n",
    "# loop over lines and match dates and put in new list\n",
    "for element in messy_list:\n",
    "    match = re.search(r\"^[0-9]{4}\", element)\n",
    "    if match:\n",
    "        date_list.append(match.group())\n",
    "\n",
    "# look at the resulting list\n",
    "date_list"
   ]
  },
  {
   "cell_type": "markdown",
   "metadata": {},
   "source": [
    "### Pattern match whole date with regex\n",
    "\n",
    "Great, but we still need to get the whole date, not just the year. So we need to modify the regex.\n",
    "\n",
    "Unfortunately, the `.` in regex means match any character, so we need to tell regex that we actuall want to match a full stop. We can do this by using a backslash to tell regex to treat the next character as an ordinary character. like `\\.`\n",
    "\n",
    "We also need to match the month, another full stop and the day of month. So our full regex will be: `^[0-9]{4}\\.[0-9]{2}\\.[0-9]{2}` (four numbers, stop, two numbers, stop, two numbers).\n",
    "\n",
    "Let's try that in our code:\n"
   ]
  },
  {
   "cell_type": "code",
   "execution_count": null,
   "metadata": {},
   "outputs": [],
   "source": [
    "# create empty list\n",
    "date_list = []\n",
    "\n",
    "# loop over lines and match dates and put in new list\n",
    "for element in messy_list:\n",
    "    match = re.search(r\"^[0-9]{4}\\.[0-9]{2}\\.[0-9]{2}\", element)\n",
    "    if match:\n",
    "        date_list.append(match.group())\n",
    "\n",
    "# look at the resulting list\n",
    "date_list"
   ]
  },
  {
   "cell_type": "markdown",
   "metadata": {},
   "source": [
    "### Bring it together\n",
    "\n",
    "Here, we bring it all together and tidy up the code using some more meaningful variable names"
   ]
  },
  {
   "cell_type": "code",
   "execution_count": null,
   "metadata": {},
   "outputs": [],
   "source": [
    "# the text which we want to obtain data from\n",
    "text = \"\"\"\n",
    "*** Start ***\n",
    "2020.03.18 Andrew eats avocado\n",
    "2020.03.19 Catarina eats coconut\n",
    "2020.03.19 Prime Minister eats pineapple mousse\n",
    "*** End ***\n",
    "\"\"\"\n",
    "# split into list of lines\n",
    "lines = text.split('\\n')\n",
    "\n",
    "# create empty list for dates\n",
    "dates = []\n",
    "\n",
    "# loop over lines and match dates and put in new list\n",
    "for line in lines:\n",
    "    match = re.search(r\"^[0-9]{4}\\.[0-9]{2}\\.[0-9]{2}\", line)\n",
    "    if match:\n",
    "        dates.append(match.group())\n",
    "        \n",
    "# look at the resulting list\n",
    "for date in dates:\n",
    "    print(date)"
   ]
  },
  {
   "cell_type": "code",
   "execution_count": null,
   "metadata": {},
   "outputs": [],
   "source": [
    "dates"
   ]
  },
  {
   "cell_type": "code",
   "execution_count": null,
   "metadata": {},
   "outputs": [],
   "source": []
  }
 ],
 "metadata": {
  "kernelspec": {
   "display_name": "Python 3",
   "language": "python",
   "name": "python3"
  },
  "language_info": {
   "codemirror_mode": {
    "name": "ipython",
    "version": 3
   },
   "file_extension": ".py",
   "mimetype": "text/x-python",
   "name": "python",
   "nbconvert_exporter": "python",
   "pygments_lexer": "ipython3",
   "version": "3.7.6"
  }
 },
 "nbformat": 4,
 "nbformat_minor": 4
}
