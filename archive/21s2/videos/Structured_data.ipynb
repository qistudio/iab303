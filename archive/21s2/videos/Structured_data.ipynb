{
 "cells": [
  {
   "cell_type": "markdown",
   "metadata": {},
   "source": [
    "<div class=\"alert alert-block alert-info\"><b>IAB303</b> - Data Analytics for Business Insight</div>"
   ]
  },
  {
   "cell_type": "markdown",
   "metadata": {},
   "source": [
    "# Structured Data"
   ]
  },
  {
   "cell_type": "markdown",
   "metadata": {},
   "source": [
    "<a title=\"By User:Gortu (apple2history.org) [Public domain], via Wikimedia Commons\" href=\"https://commons.wikimedia.org/wiki/File%3AVisicalc.png\"><img width=\"512\" alt=\"Visicalc\" src=\"https://upload.wikimedia.org/wikipedia/commons/7/7a/Visicalc.png\"/></a>\n",
    "\n",
    "*By User:Gortu (apple2history.org) \\[Public domain\\], via Wikimedia Commons*\n"
   ]
  },
  {
   "cell_type": "markdown",
   "metadata": {},
   "source": [
    "Even in this very simple example, we can make sense of this data, and because of the structure, the computer can work with the data, like calculating the costs for each row, calculating a subtotal, the tax, and the total. If the data in this spreadsheet was unstructured (for example written on a piece of paper), the computer would not be able to work with it.\n",
    "\n",
    "Most structured data today is found in relational datatabase management systems (RDBMS), or commonly just refered to as databases. The structure is one of tables (like a spreadsheet) and relationships between them, but relating particular fields or columns in one table with those in another."
   ]
  },
  {
   "cell_type": "markdown",
   "metadata": {},
   "source": [
    "### Accessing structured data\n",
    "\n",
    "We will work with structured data by mostly reading it from a file into a dataframe. One of the most common files for holding structured tabular data is the comma separated value (CSV) file. A spreadsheet table or a database table can be saved as a CSV file, which we can then import into a pandas dataframe. If you'd like more information on Pandas, try the [10 minutes to pandas](https://pandas.pydata.org/docs/getting_started/10min.html) tutorial.\n",
    "\n",
    "For the following example, we're going to use open data from [data.gov.au](https://data.gov.au) for [2016 SoE Biodiversity Cumulative historical extinctions of Australian mammal species](https://data.gov.au/data/dataset/2016-soe-biodiversity-cumulative-number-of-extinct-mammal-species). If you're interested, you can read about the data in [Terrestrial plant and animal species: Mammals](https://soe.environment.gov.au/theme/biodiversity/topic/2016/terrestrial-plant-and-animal-species-mammals#biodiversity-figure-BIO19)"
   ]
  },
  {
   "cell_type": "code",
   "execution_count": null,
   "metadata": {
    "scrolled": true
   },
   "outputs": [],
   "source": [
    "# To use pandas, we need to import it (normally as 'pd')\n",
    "import pandas as pd\n",
    "\n",
    "# We can then open a CSV file into a new dataframe\n",
    "url = \"https://data.gov.au/dataset/c02731e8-5327-4720-bbc7-1fe67350a569/resource/8339c2b4-c763-4c50-a647-63935537453c/download/cumulative-number-of-extinct-mammal-species.csv\"\n",
    "df = pd.read_csv(url,index_col=\"Decade\")\n",
    "\n",
    "# view the dataframe\n",
    "df"
   ]
  },
  {
   "cell_type": "code",
   "execution_count": null,
   "metadata": {},
   "outputs": [],
   "source": [
    "# We can save our dataframe to use later\n",
    "\n",
    "df.to_csv('data/extinct_aus_mammals.csv')\n"
   ]
  },
  {
   "cell_type": "code",
   "execution_count": null,
   "metadata": {
    "scrolled": true
   },
   "outputs": [],
   "source": [
    "# The saved version can be loaded in the same way as the original URL\n",
    "\n",
    "df2 = pd.read_csv('data/extinct_aus_mammals.csv',index_col=\"Decade\")\n",
    "df2"
   ]
  },
  {
   "cell_type": "code",
   "execution_count": null,
   "metadata": {},
   "outputs": [],
   "source": []
  }
 ],
 "metadata": {
  "kernelspec": {
   "display_name": "Python 3",
   "language": "python",
   "name": "python3"
  },
  "language_info": {
   "codemirror_mode": {
    "name": "ipython",
    "version": 3
   },
   "file_extension": ".py",
   "mimetype": "text/x-python",
   "name": "python",
   "nbconvert_exporter": "python",
   "pygments_lexer": "ipython3",
   "version": "3.7.6"
  }
 },
 "nbformat": 4,
 "nbformat_minor": 4
}
