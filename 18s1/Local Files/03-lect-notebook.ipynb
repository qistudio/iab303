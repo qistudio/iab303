{
 "cells": [
  {
   "cell_type": "markdown",
   "metadata": {
    "slideshow": {
     "slide_type": "skip"
    }
   },
   "source": [
    "<div class=\"alert alert-block alert-info\">IAB303 - Business Intelligence - <a href=\"0%20-%20IAB303%20Overview.ipynb\">overview</a></div>"
   ]
  },
  {
   "cell_type": "markdown",
   "metadata": {
    "slideshow": {
     "slide_type": "slide"
    }
   },
   "source": [
    "## LECTURE :: Social media analysis for customer understanding"
   ]
  },
  {
   "cell_type": "markdown",
   "metadata": {
    "slideshow": {
     "slide_type": "fragment"
    }
   },
   "source": [
    "* Streaming\n",
    "* Customer trace\n",
    "* Internet of Things (IOT)\n",
    "* Social media"
   ]
  },
  {
   "cell_type": "markdown",
   "metadata": {
    "slideshow": {
     "slide_type": "slide"
    }
   },
   "source": [
    "### Streaming - Google Maps\n",
    "\n",
    "* What you get\n",
    "* What google gets\n",
    "* The feedback loop"
   ]
  },
  {
   "cell_type": "markdown",
   "metadata": {
    "slideshow": {
     "slide_type": "slide"
    }
   },
   "source": [
    "### Streaming data and analytics\n",
    "\n",
    "* What is it and why is it important? (Mike Gualtieri)\n",
    "\n"
   ]
  },
  {
   "cell_type": "markdown",
   "metadata": {
    "slideshow": {
     "slide_type": "subslide"
    }
   },
   "source": [
    "> **Streaming Analytics:** Technology that ingests, analyses, and acts on high throughput of data from live data sources to identify patterns, detect urgent situations, and automate immediate actions in real time.\n",
    "> [Mike Gualtieri](https://tdwi.org/articles/2016/08/29/define-your-business-case-for-streaming-analytics.aspx)"
   ]
  },
  {
   "cell_type": "markdown",
   "metadata": {
    "slideshow": {
     "slide_type": "fragment"
    }
   },
   "source": [
    "* All data originates in real time\n",
    "* Insights are perishable\n",
    "* How can you ... **right now**?"
   ]
  },
  {
   "cell_type": "markdown",
   "metadata": {
    "slideshow": {
     "slide_type": "subslide"
    }
   },
   "source": [
    "* Business case -[David Loshin](https://tdwi.org/articles/list/contributor-david-loshin.aspx)\n",
    "    * Reliance on continuous data\n",
    "    * Opportunities for improvement\n",
    "    * Potential use of analytics results"
   ]
  },
  {
   "cell_type": "markdown",
   "metadata": {
    "slideshow": {
     "slide_type": "subslide"
    }
   },
   "source": [
    "#### LEARN MORE\n",
    "  \n",
    "> \"Information derived from such analysis gives companies visibility into many aspects of their business and customer activity such as –service usage (for metering/billing), server activity, website clicks, and geo-location of devices, people, and physical goods –and enables them to respond promptly to emerging situations.\"\n",
    ">\n",
    "> [What is Streaming Data?](https://aws.amazon.com/streaming-data/)\n",
    "\n",
    "\n",
    "> \"The success of a streaming analytics program is critically bound to establishing a proper business case.\"\n",
    ">\n",
    "> [Define Your Business Case for Streaming Analytics](https://tdwi.org/articles/2016/08/29/define-your-business-case-for-streaming-analytics.aspx)\n"
   ]
  },
  {
   "cell_type": "markdown",
   "metadata": {
    "slideshow": {
     "slide_type": "subslide"
    }
   },
   "source": [
    "#### LEARN MORE\n",
    "  \n",
    "> \"Insights are perishable\"\n",
    ">\n",
    "> [Emerging Prevalence of Data Streaming in Analytics and it's Business Significance](https://aws.amazon.com/streaming-data/)\n",
    "\n"
   ]
  },
  {
   "cell_type": "markdown",
   "metadata": {
    "slideshow": {
     "slide_type": "slide"
    }
   },
   "source": [
    "### Customer trace\n",
    "\n",
    "* Location data\n",
    "* Spend\n",
    "* Interaction with brand/product\n",
    "\n",
    "Allows:\n",
    "\n",
    "* Proximity marketing\n",
    "* Contextual recommendations\n",
    "* Advertising optimisation\n"
   ]
  },
  {
   "cell_type": "markdown",
   "metadata": {
    "slideshow": {
     "slide_type": "slide"
    }
   },
   "source": [
    "#### IAB303 Example\n",
    "\n",
    "* Jupyter stats\n",
    "* Blackboard stats\n",
    "* Also, wifi data"
   ]
  },
  {
   "cell_type": "markdown",
   "metadata": {
    "slideshow": {
     "slide_type": "slide"
    }
   },
   "source": [
    "#### LEARN MORE\n",
    "  \n",
    "> \"Retail industry players can particularly benefit from analytics as it enables them to communicate more effectively with their customers in an era where customers are more informed and respond better to customized marketing efforts.\"\n",
    ">\n",
    "> [Realtime analytics in retail - use cases](https://wso2.com/whitepapers/real-time-analytics-in-retail-use-cases/)\n",
    "\n"
   ]
  },
  {
   "cell_type": "markdown",
   "metadata": {
    "slideshow": {
     "slide_type": "slide"
    }
   },
   "source": [
    "### Internet of Things (IOT)\n",
    "\n",
    "* Current business example - EvacMate"
   ]
  },
  {
   "cell_type": "markdown",
   "metadata": {
    "slideshow": {
     "slide_type": "slide"
    }
   },
   "source": [
    "#### LEARN MORE\n",
    "  \n",
    "> \"...can we use the idea of sensors to collect data for things that we were just guessing about before\"\n",
    ">\n",
    "> [The Internet of Things Meets Big Data, with Chris Curran](https://www.youtube.com/watch?v=l_LT_ZKlVQw)\n",
    "\n"
   ]
  },
  {
   "cell_type": "markdown",
   "metadata": {
    "slideshow": {
     "slide_type": "slide"
    }
   },
   "source": [
    "### Social Media\n",
    "\n",
    "* Customer focused\n",
    "* Engagement\n",
    "* Trends\n",
    "* Sentiment\n",
    "* Strengths and weaknesses in brand/products\n",
    "* Competition"
   ]
  },
  {
   "cell_type": "markdown",
   "metadata": {
    "slideshow": {
     "slide_type": "slide"
    }
   },
   "source": [
    "#### LEARN MORE\n",
    "  \n",
    "* [Social Media Analytics helps companies meet business goals](http://www.expertsystem.com/social-media-analytics-helps-organizations-meet-business-goal/)\n",
    "* [7 Ways Social Media and Business Intelligence Go Hand in Hand](https://socialmediaweek.org/blog/2015/12/social-media-business-intelligence-hand-hand/)\n",
    "* [Twitter business intelligence: Analyzing your competitors](http://www.followthehashtag.com/help/twitter-business-intelligence-analyzing-competitors/)\n",
    "* [Social Intelligence for Facebook Marketing](https://searchenginewatch.com/sew/news/2064916/social-intelligence-facebook-marketing)\n",
    "* [Business Strategy on Facebook](http://www.baselinemag.com/c/a/IT-Management/Business-Strategy-on-Facebook-890613)\n",
    "* [5 Retail Big Data Examples with Big Paybacks](http://www.crmsearch.com/retail-big-data.php)\n",
    "\n"
   ]
  }
 ],
 "metadata": {
  "celltoolbar": "Slideshow",
  "kernelspec": {
   "display_name": "Python 3",
   "language": "python",
   "name": "python3"
  },
  "language_info": {
   "codemirror_mode": {
    "name": "ipython",
    "version": 3
   },
   "file_extension": ".py",
   "mimetype": "text/x-python",
   "name": "python",
   "nbconvert_exporter": "python",
   "pygments_lexer": "ipython3",
   "version": "3.6.7"
  }
 },
 "nbformat": 4,
 "nbformat_minor": 2
}
