{
 "cells": [
  {
   "cell_type": "markdown",
   "metadata": {
    "slideshow": {
     "slide_type": "skip"
    }
   },
   "source": [
    "<div class=\"alert alert-block alert-info\">IAB303 - Business Intelligence - <a href=\"0%20-%20IAB303%20Overview.ipynb\">overview</a></div>"
   ]
  },
  {
   "cell_type": "markdown",
   "metadata": {
    "slideshow": {
     "slide_type": "slide"
    }
   },
   "source": [
    "## LECTURE :: Assessment of competitive threats and opportunities"
   ]
  },
  {
   "cell_type": "markdown",
   "metadata": {
    "slideshow": {
     "slide_type": "slide"
    }
   },
   "source": [
    "### Case: FaceBook and Cambridge Analytica\n",
    "\n",
    "[Why Facebook's Data Scandal is a Big Deal](https://youtu.be/a3W1I2_B6GA)\n",
    "\n"
   ]
  },
  {
   "cell_type": "markdown",
   "metadata": {
    "slideshow": {
     "slide_type": "fragment"
    }
   },
   "source": [
    "#### Quick SWOT on Facebook...\n",
    "\n",
    "1. Strengths - \n",
    "2. Weaknesses - \n",
    "3. Opportunities - \n",
    "4. Threats - "
   ]
  },
  {
   "cell_type": "markdown",
   "metadata": {
    "slideshow": {
     "slide_type": "slide"
    }
   },
   "source": [
    "### Market Threats\n",
    "\n",
    "> A market threat is an external challenge that may negatively impact your company's ability to meet its marketing and sales goals. \n",
    ">\n",
    "> [Possible Market Threats in a Marketing Plan](https://yourbusiness.azcentral.com/possible-market-threats-marketing-plan-6075.html)\n",
    "\n",
    "1. Economic change\n",
    "2. Competitive innovation\n",
    "3. Regulation\n",
    "4. Consumer perception"
   ]
  },
  {
   "cell_type": "markdown",
   "metadata": {
    "slideshow": {
     "slide_type": "slide"
    }
   },
   "source": [
    "<img src=\"https://www.strategicmanagementinsight.com/tools/img/five-forces-model.png\"></img>"
   ]
  },
  {
   "cell_type": "markdown",
   "metadata": {
    "slideshow": {
     "slide_type": "slide"
    }
   },
   "source": [
    "### Porter's 5 forces\n",
    "\n",
    "[Updated paper - The Five Competitive Forces That Shape Strategy](http://www.academia.edu/download/32580687/HBR_on_Strategy.pdf#page=25)\n",
    "\n",
    "[Porter's Five Forces](https://www.strategicmanagementinsight.com/tools/porters-five-forces.html)\n",
    "\n",
    "1. Threat of new entrants\n",
    "2. Bargaining power of suppliers\n",
    "3. Bargaining power of buyers\n",
    "4. Threat of substitutes\n",
    "5. Rivalry among existing competitors\n"
   ]
  },
  {
   "cell_type": "markdown",
   "metadata": {
    "slideshow": {
     "slide_type": "slide"
    }
   },
   "source": [
    "### TOWS analysis\n",
    "\n",
    "[Strategic Planning: SWOT & TOWS Analysis](https://youtu.be/H8FANR-2u2Q)\n",
    "\n",
    "**How can data analytics help create links between dimensions in the TOWS**\n",
    "\n",
    "* How might FaceBook use this. Write down one example for each link:\n",
    "\n",
    "1. Opportunities - Strengths\n",
    "2. Opportunities - Weaknesses\n",
    "3. Threats - Strengths\n",
    "4. Threats - Weaknesses\n",
    "\n"
   ]
  },
  {
   "cell_type": "code",
   "execution_count": null,
   "metadata": {},
   "outputs": [],
   "source": []
  }
 ],
 "metadata": {
  "celltoolbar": "Slideshow",
  "kernelspec": {
   "display_name": "Python 3",
   "language": "python",
   "name": "python3"
  },
  "language_info": {
   "codemirror_mode": {
    "name": "ipython",
    "version": 3
   },
   "file_extension": ".py",
   "mimetype": "text/x-python",
   "name": "python",
   "nbconvert_exporter": "python",
   "pygments_lexer": "ipython3",
   "version": "3.6.4"
  }
 },
 "nbformat": 4,
 "nbformat_minor": 2
}
