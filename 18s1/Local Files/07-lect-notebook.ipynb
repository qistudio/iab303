{
 "cells": [
  {
   "cell_type": "markdown",
   "metadata": {
    "slideshow": {
     "slide_type": "skip"
    }
   },
   "source": [
    "<div class=\"alert alert-block alert-info\">IAB303 - Business Intelligence - <a href=\"0%20-%20IAB303%20Overview.ipynb\">overview</a></div>"
   ]
  },
  {
   "cell_type": "markdown",
   "metadata": {
    "slideshow": {
     "slide_type": "slide"
    }
   },
   "source": [
    "## LECTURE :: Assessment of customer satisfaction"
   ]
  },
  {
   "cell_type": "markdown",
   "metadata": {
    "slideshow": {
     "slide_type": "slide"
    }
   },
   "source": [
    "### '...keep that promise to them to save money and live better.'\n",
    "\n",
    "[Walmart - Big Data, Big Opportunities](https://www.youtube.com/embed/m5Iij3zQp_w)\n",
    "\n",
    "### did you notice?\n",
    "\n",
    "1. The purpose for data analytics?\n",
    "2. The kinds of data that are being used?\n",
    "3. Where they are infusing data analytics?\n",
    "4. What they do with 200 internal and external data sets?\n",
    "5. The direct company benefits from the data analytics?\n",
    "6. How this is related to customer satisfaction?\n"
   ]
  },
  {
   "cell_type": "markdown",
   "metadata": {
    "slideshow": {
     "slide_type": "slide"
    }
   },
   "source": [
    "### 'We connect the organisation to the customer and help them know that customer...'\n",
    "\n",
    "[Walmart Global Customer Insights and Analytics](https://youtu.be/rqP5k4DGfqo)\n",
    "\n",
    "### can you see the relationship?\n",
    "\n",
    "1. Between the customer and the company?\n",
    "2. Between different kinds of data and customer loyalty?\n",
    "3. Between company decisions and behaviour change?\n",
    "4. Between products and customers?\n",
    "5. Between the 'headlights of the organisation' and helping people 'save money and live better'?\n"
   ]
  },
  {
   "cell_type": "markdown",
   "metadata": {
    "slideshow": {
     "slide_type": "slide"
    }
   },
   "source": [
    "### CSAT Surveys\n",
    "\n",
    "[Customer Feedback Survey - Good Customer Service or Not?](https://youtu.be/ThMCCO2AMJ8)\n",
    "\n",
    "\n",
    "### are there alternatives?\n",
    "\n",
    "[An Emotional Connection Matters More than Customer Satisfaction](https://hbr.org/2016/08/an-emotional-connection-matters-more-than-customer-satisfaction), [The New Science of Customer Emotions](https://hbr.org/2015/11/the-new-science-of-customer-emotions)\n",
    "\n",
    "    - Experimentatl learning about customers' emotional motivators\n",
    "    - High impact motivator examples: Stand out from the crowd, Have confidence in the future, Enjoy a sense of wellbeing, Feel a sense of freedom/thrill/belonging/security, Protect the environment, Be the person I want to be, Succeed in life\n",
    "    - Customer value +52% when fully emotionally connected\n",
    "    \n",
    "> The process, in brief, looks like this: Applying big data analytics to detailed customer-data sets, we first identify the emotional motivators for a category’s most valuable customers. High-value automobile customers, for example, might want to “feel a sense of belonging” and “feel a sense of freedom.” Next we use statistical modeling to look at a large number of customers and brands, comparing survey results about people’s emotional motivators with their purchase behavior and identifying spikes in buying that are associated with specific motivators. This reveals which motivators generate the most-profitable customer behaviors in the category. We then quantify the current and potential value of motivators for a given brand and help identify strategies to leverage them.\n",
    "\n"
   ]
  },
  {
   "cell_type": "markdown",
   "metadata": {
    "slideshow": {
     "slide_type": "slide"
    }
   },
   "source": [
    "<img src=\"ConceptualMap.png\"></img>"
   ]
  },
  {
   "cell_type": "markdown",
   "metadata": {
    "slideshow": {
     "slide_type": "slide"
    }
   },
   "source": [
    "### A whole of company approach to 'customer satisfaction'\n",
    "\n",
    "[How ZARA Changed the Fashion Industry - VisualPolitik EN](https://youtu.be/7QA88UqmfFM)"
   ]
  },
  {
   "cell_type": "markdown",
   "metadata": {
    "slideshow": {
     "slide_type": "subslide"
    }
   },
   "source": [
    "### Plugging it back in\n",
    "\n",
    "1. How do we identify value in the data analytics?\n",
    "2. How could we take sentiment analysis further to be more useful?\n",
    "3. What other features could we be looking for?"
   ]
  },
  {
   "cell_type": "markdown",
   "metadata": {
    "slideshow": {
     "slide_type": "slide"
    }
   },
   "source": [
    "### Learning more\n",
    "\n",
    "[The Antecedents and Consequences of Customer Satisfaction for Firms](https://doi.org/10.1287/mksc.12.2.125)\n",
    "\n",
    "[The impact of customer satisfaction and relationship quality on customer retention: A critical reassessment and model development](https://doi.org/10.1002/(SICI)1520-6793(199712)14:8%3C737::AID-MAR2%3E3.0.CO;2-F)\n",
    "\n",
    "[Customer Satisfaction: A Meta-Analysis of the Empirical Evidence](http://journals.sagepub.com/doi/abs/10.1177/009207030102900102)\n",
    "\n",
    "[The asymmetric relationship between attribute-level performance and overall customer satisfaction: a reconsideration of the importance–performance analysis](https://doi.org/10.1016/S0019-8501(03)00055-5)"
   ]
  }
 ],
 "metadata": {
  "celltoolbar": "Slideshow",
  "kernelspec": {
   "display_name": "Python 3",
   "language": "python",
   "name": "python3"
  },
  "language_info": {
   "codemirror_mode": {
    "name": "ipython",
    "version": 3
   },
   "file_extension": ".py",
   "mimetype": "text/x-python",
   "name": "python",
   "nbconvert_exporter": "python",
   "pygments_lexer": "ipython3",
   "version": "3.6.4"
  }
 },
 "nbformat": 4,
 "nbformat_minor": 2
}
