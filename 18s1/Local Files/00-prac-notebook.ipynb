{
 "cells": [
  {
   "cell_type": "markdown",
   "metadata": {},
   "source": [
    "<div class=\"alert alert-block alert-info\">IAB303 - Business Intelligence - <a href=\"0%20-%20IAB303%20Overview.ipynb\">overview</a></div>"
   ]
  },
  {
   "cell_type": "markdown",
   "metadata": {},
   "source": [
    "## PRACTICAL :: Prepare for semester\n",
    "\n",
    "The links on this page are intended to help your learn the basics (or refresh your knowledge) of Python, and to gain a familiarity with Jupyter notebooks.\n",
    "\n",
    "Although you are not expected to be a programmer to complete this unit, you will need to write Python code to be able to do the practical exercises and the assignments. All activities will be completed using the Jupyter notebook environment."
   ]
  },
  {
   "cell_type": "markdown",
   "metadata": {},
   "source": [
    "### Python language\n",
    "\n",
    "-  [Python Basics](https://data36.com/python-for-data-science-python-basics-1/) :: You can skip the installation section, but make sure you understand the Python Basics section (half way down the page). Try creating a new notebook and doing the exercises yourself.\n"
   ]
  },
  {
   "cell_type": "markdown",
   "metadata": {},
   "source": [
    "### Jupyter notebooks\n",
    "\n",
    "- [Notebook Basics](http://nbviewer.jupyter.org/github/jupyter/notebook/blob/master/docs/source/examples/Notebook/Notebook%20Basics.ipynb) :: This will give you an overview of how to use Jupyter notebooks, but there is no substitute for trying it yourself by experimenting here!"
   ]
  },
  {
   "cell_type": "code",
   "execution_count": null,
   "metadata": {},
   "outputs": [],
   "source": []
  }
 ],
 "metadata": {
  "kernelspec": {
   "display_name": "Python 3",
   "language": "python",
   "name": "python3"
  },
  "language_info": {
   "codemirror_mode": {
    "name": "ipython",
    "version": 3
   },
   "file_extension": ".py",
   "mimetype": "text/x-python",
   "name": "python",
   "nbconvert_exporter": "python",
   "pygments_lexer": "ipython3",
   "version": "3.6.4"
  }
 },
 "nbformat": 4,
 "nbformat_minor": 2
}
