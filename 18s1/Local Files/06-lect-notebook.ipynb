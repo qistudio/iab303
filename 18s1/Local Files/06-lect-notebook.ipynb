{
 "cells": [
  {
   "cell_type": "markdown",
   "metadata": {
    "slideshow": {
     "slide_type": "skip"
    }
   },
   "source": [
    "<div class=\"alert alert-block alert-info\">IAB303 - Business Intelligence - <a href=\"0%20-%20IAB303%20Overview.ipynb\">overview</a></div>"
   ]
  },
  {
   "cell_type": "markdown",
   "metadata": {
    "slideshow": {
     "slide_type": "slide"
    }
   },
   "source": [
    "## LECTURE :: Internal business information for business intelligence"
   ]
  },
  {
   "cell_type": "markdown",
   "metadata": {
    "slideshow": {
     "slide_type": "fragment"
    }
   },
   "source": [
    "[A review and future direction of agile, business intelligence, analytics and data science](https://doi-org.ezp01.library.qut.edu.au/10.1016/j.ijinfomgt.2016.04.013)\n",
    "\n",
    "**Table 1**\n",
    "\n",
    " Criteria | Analytics Type | Analytics Objective | Data Type | Data Age\n",
    "---|---|---|---|---\n",
    "Traditional Business Intelligence | Descriptive, Predictive |Decision Support, Performance Management | Structured and Defined | >24 h\n",
    "Fast Analytics with Big Data | Predictive, Prescriptive | Drive the Business | Unstructured, Undefined | <Min\n",
    "\n",
    "**Table 2**\n",
    "\n",
    "Business Intelligence Lifecycle | Fast Analytics/Data Science Lifecycle\n",
    "---|---\n",
    "Discovery, Design | Scope\n",
    "Development, Test, Deploy | Data Acquisition/Discovery Analyze/Visualize Model/Design/Development\n",
    "Support, Value | Validate, Deployment Support/Feedback\n",
    "  "
   ]
  },
  {
   "cell_type": "markdown",
   "metadata": {
    "slideshow": {
     "slide_type": "slide"
    }
   },
   "source": [
    "### Kinds of Analytics\n",
    "\n",
    "* Descriptive analytics\n",
    "* Predictive analytics\n",
    "* Prescriptive analytics\n"
   ]
  },
  {
   "cell_type": "markdown",
   "metadata": {
    "slideshow": {
     "slide_type": "slide"
    }
   },
   "source": [
    "### Key BI features\n",
    "\n",
    "* [Data discovery](https://bi-survey.com/data-discovery)\n",
    "* [Extract - Transform - Load (ETL)](https://en.wikipedia.org/wiki/Extract,_transform,_load)\n",
    "* Multi-dimensional analysis - [Online Analytical Processing (OLAP)](https://en.wikipedia.org/wiki/Online_analytical_processing)\n",
    "* Reporting and Visualisation"
   ]
  },
  {
   "cell_type": "markdown",
   "metadata": {
    "slideshow": {
     "slide_type": "slide"
    }
   },
   "source": [
    "### Enterprise Information Systems\n",
    "\n",
    "* Supply Chain Management (SCM)\n",
    "* Enterprise Resource Planning (ERP)\n",
    "* Customer Relationship Management (CRM)"
   ]
  },
  {
   "cell_type": "markdown",
   "metadata": {
    "slideshow": {
     "slide_type": "slide"
    }
   },
   "source": [
    "### Vendors\n",
    "\n",
    "<img src=\"https://www.appsruntheworld.com/wp-content/uploads/Worldwide-Enterprise-Applications-Market-Forecast-2016-2021-By-Functional-Market-M.png\" />\n",
    "\n",
    "[Top 10 Analytics and BI Software Vendors and Market Forecast 2016-2021](https://www.appsruntheworld.com/top-10-analytics-and-bi-software-vendors-and-market-forecast/)"
   ]
  },
  {
   "cell_type": "markdown",
   "metadata": {
    "slideshow": {
     "slide_type": "subslide"
    }
   },
   "source": [
    "[Top 10 Analytics and BI Software Vendors and Market Forecast 2016-2021](https://www.appsruntheworld.com/top-10-analytics-and-bi-software-vendors-and-market-forecast/)\n",
    "\n",
    "\n",
    "* [SAP](https://www.sap.com/products/analytics/business-intelligence-bi.html)\n",
    "* [SAS](https://www.sas.com/en_au/solutions/business-intelligence.html)\n",
    "* [IBM](https://www.ibm.com/au-en/marketplace/business-intelligence)\n",
    "* [Oracle](https://www.oracle.com/solutions/business-analytics/business-intelligence/index.html)\n",
    "* [Tableau](https://www.tableau.com)\n",
    "* [Microsoft](https://powerbi.microsoft.com/en-us/)\n",
    "* [Qlik](https://www.qlik.com/us/)"
   ]
  },
  {
   "cell_type": "markdown",
   "metadata": {
    "slideshow": {
     "slide_type": "slide"
    }
   },
   "source": [
    "### BI Benefits\n",
    "\n",
    "[What is Business Intelligence Software?](https://financesonline.com/business-intelligence-software-analysis-features-benefits-types-pricing/)\n",
    "\n",
    "1. Gain insight for growth. \n",
    "2. Address urgent issues. \n",
    "3. Ground data is immediate. \n",
    "4. Get the big picture.\n",
    "5. “See” the future."
   ]
  },
  {
   "cell_type": "markdown",
   "metadata": {
    "slideshow": {
     "slide_type": "subslide"
    }
   },
   "source": [
    "### BI Issues\n",
    "\n",
    "\n",
    "[What is Business Intelligence Software?](https://financesonline.com/business-intelligence-software-analysis-features-benefits-types-pricing/)\n",
    "\n",
    "1. Inaccurate data leads to wrong forecasting\n",
    "2. Unused or under-utilized complex and expensive BI tools\n",
    "3. Steep learning curve\n",
    "4. Difficulty in rollout among large enterprise"
   ]
  },
  {
   "cell_type": "markdown",
   "metadata": {
    "slideshow": {
     "slide_type": "slide"
    }
   },
   "source": [
    "### The Big Data Connection\n",
    "\n",
    "* Hadoop - HDFS and MapReduce - [Big Data, Hadoop, and Spark: An Explanation for the Rest of Us (part 1)](https://community.alteryx.com/t5/Engine-Works-Blog/Big-Data-Hadoop-and-Spark-An-Explanation-for-the-Rest-of-Us-Part/ba-p/2796)\n",
    "* Apache Spark - [Big Data, Hadoop, and Spark: An Explanation for the Rest of Us (part 2)](https://community.alteryx.com/t5/Engine-Works-Blog/Big-Data-Hadoop-and-Spark-An-Explanation-for-the-Rest-of-Us-Part/ba-p/16560)\n",
    "\n",
    "\n",
    "\n"
   ]
  },
  {
   "cell_type": "markdown",
   "metadata": {
    "slideshow": {
     "slide_type": "slide"
    }
   },
   "source": [
    "### Discussion\n",
    "\n",
    "[Empowering The Business Ecosystem](https://youtu.be/L5pULHiQMRY)\n",
    "\n",
    "* What comprises the ecosystem?\n",
    "* What IT system is at the centre of the ecosystem?\n",
    "\n"
   ]
  },
  {
   "cell_type": "markdown",
   "metadata": {},
   "source": [
    "* Distributers, Suppliers, Vendors, Customers, Staff, Sales department, Purchasing department, ERP - business operations, Logistics, Leases, Finance, Real Estate, Property management, Licenses, Franchise rules, Company constitution and board, Government regulation and policy, Tax, Unions, Marketing, Transport and infrastructure,...\n",
    "* Database - Relational Database Managment System - Multiple DBs."
   ]
  },
  {
   "cell_type": "markdown",
   "metadata": {
    "slideshow": {
     "slide_type": "subslide"
    }
   },
   "source": [
    "[Benefits of a Data Warehouse](https://youtu.be/KGHbY_Sales)\n",
    "\n",
    "* What is the main business benefit from a data warehouse?\n",
    "* Where does the data come from for a data warehouse, and what is the significance of that?\n",
    "\n",
    "\n"
   ]
  },
  {
   "cell_type": "markdown",
   "metadata": {},
   "source": [
    "* Centralised system, Improved business processing, Improved Accuracy, Data availability, Improved decision making, Reduced manual data integration, Saves resources and increases efficiency, Single source of truth\n",
    "* Customer transactions recording - directly related to customer and company\n",
    "* Department transactions - company access to different departments\n",
    "* HR Personnel records - Need to know staff\n",
    "* Interactions between customers/suppliers - leads, performance, (without transactions)"
   ]
  },
  {
   "cell_type": "markdown",
   "metadata": {
    "slideshow": {
     "slide_type": "subslide"
    }
   },
   "source": [
    "[BI Tools Overview](https://youtu.be/LRdsZqrwOrc)\n",
    "\n",
    "* What are the main BI tools?\n",
    "* How do those tools differ from what we have been using?\n",
    "* What data do the tools operate on?\n",
    "* How does that data differ from the data that we have been using?"
   ]
  },
  {
   "cell_type": "markdown",
   "metadata": {},
   "source": [
    "* ???"
   ]
  }
 ],
 "metadata": {
  "celltoolbar": "Slideshow",
  "kernelspec": {
   "display_name": "Python 3",
   "language": "python",
   "name": "python3"
  },
  "language_info": {
   "codemirror_mode": {
    "name": "ipython",
    "version": 3
   },
   "file_extension": ".py",
   "mimetype": "text/x-python",
   "name": "python",
   "nbconvert_exporter": "python",
   "pygments_lexer": "ipython3",
   "version": "3.6.4"
  }
 },
 "nbformat": 4,
 "nbformat_minor": 2
}
