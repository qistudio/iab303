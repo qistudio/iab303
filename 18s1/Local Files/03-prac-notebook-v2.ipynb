{
 "cells": [
  {
   "cell_type": "markdown",
   "metadata": {},
   "source": [
    "## PRACTICAL :: Social Media Analysis\n",
    "\n",
    "1. Connect to Twitter API and extract tweets\n",
    "2. Basic sentiment analysis\n",
    "3. Basic visualisation"
   ]
  },
  {
   "cell_type": "markdown",
   "metadata": {},
   "source": [
    "## Connect to Twitter API and extract tweets\n",
    "\n",
    "1. How can we connect to Twitter API?\n",
    "2. How can we extract tweets of a particular hashtag?\n",
    "3. What is the structure of a tweet?\n",
    "4. How can we extract more information about a tweet?"
   ]
  },
  {
   "cell_type": "markdown",
   "metadata": {},
   "source": [
    "tweepy is a python library which we can use to connect to Twitter and extract tweets. Store Twitter application's credentials in varibles. Write a function to connect to Twitter API."
   ]
  },
  {
   "cell_type": "code",
   "execution_count": 58,
   "metadata": {},
   "outputs": [],
   "source": [
    "# import required libraries\n",
    "import tweepy           # To access and consume Twitter's API\n",
    "import pandas as pd     # To handle data\n",
    "import numpy as np      # For number computing\n",
    "\n",
    "# Twitter App access keys\n",
    "\n",
    "# Consume:\n",
    "CONSUMER_KEY    = 'x8kiAaw5kegIYqNlsKFGFNRia'\n",
    "CONSUMER_SECRET = 'XVyJTaQMT0uNsMAyyPzZAsgxP2ykEU6czWxRWggwceF2D1cQMZ'\n",
    "\n",
    "# Access:\n",
    "ACCESS_TOKEN  = '890735734100905985-PljAE2qePUozbwqkTyNkSRfxIy1MLKk'\n",
    "ACCESS_SECRET = 'Ji10kzq3AlzCcP8B8Mv0ZUXgGyKwzQnF17S64oHslfnov'\n",
    "\n",
    "# API's setup:\n",
    "def connectToTwitterAPI():\n",
    "    \"\"\"\n",
    "    Utility function to setup the Twitter's API\n",
    "    with access keys.\n",
    "    \"\"\"\n",
    "    # Authentication and access using keys:\n",
    "    auth = tweepy.OAuthHandler(CONSUMER_KEY, CONSUMER_SECRET)\n",
    "    auth.set_access_token(ACCESS_TOKEN, ACCESS_SECRET)\n",
    "\n",
    "    # Return API with authentication:\n",
    "    api = tweepy.API(auth)\n",
    "    return api"
   ]
  },
  {
   "cell_type": "markdown",
   "metadata": {},
   "source": [
    "Call the function and connect to Twitter API. Extract Tweets using a search term. In this example we use the hashtag \"BlackPanther\"."
   ]
  },
  {
   "cell_type": "code",
   "execution_count": 59,
   "metadata": {
    "scrolled": true
   },
   "outputs": [
    {
     "name": "stdout",
     "output_type": "stream",
     "text": [
      "Number of tweets extracted: 50.\n",
      "\n"
     ]
    }
   ],
   "source": [
    "# Create an extractor object:\n",
    "extractor = connectToTwitterAPI()\n",
    "\n",
    "# Create a tweet list as follows:\n",
    "tweets = extractor.search(q=\"#BlackPanther\", count=50)\n",
    "\n",
    "# Print the total number of extracted tweets\n",
    "print(\"Number of tweets extracted: {}.\\n\".format(len(tweets)))"
   ]
  },
  {
   "cell_type": "markdown",
   "metadata": {},
   "source": [
    "Print the most recent 5 tweets and observe the nature of extracted tweets."
   ]
  },
  {
   "cell_type": "code",
   "execution_count": 60,
   "metadata": {
    "scrolled": true
   },
   "outputs": [
    {
     "name": "stdout",
     "output_type": "stream",
     "text": [
      "5 recent tweets:\n",
      "\n",
      "RT @ShowPlaceICON: Want a chance to win an Exclusive #BlackPanther Prize Pack #Chicago or #Boston? Head over to our Instagram handles (@sho…\n",
      "\n",
      "RT @AlfredMurphy5: BOX OFFICE: #BlackPanther Is Looking To Remain The King Of The Box Office! \n",
      "\n",
      "The Film's 3rd Weekend Is Tracking For a SE…\n",
      "\n",
      "RT @FallonTonight: This was amazing. @chadwickboseman surprises #BlackPanther fans while they say what the movie means to them. https://t.c…\n",
      "\n",
      "RT @chadwickboseman: The #Wakanda love runs deep on @FallonTonight. #BlackPanther https://t.co/yOmVg80QvW\n",
      "\n",
      "RT @FallonTonight: This was amazing. @chadwickboseman surprises #BlackPanther fans while they say what the movie means to them. https://t.c…\n",
      "\n"
     ]
    }
   ],
   "source": [
    "# Print the most recent 5 tweets:\n",
    "print(\"5 recent tweets:\\n\")\n",
    "for tweet in tweets[:5]:\n",
    "    print(tweet.text)\n",
    "    print()"
   ]
  },
  {
   "cell_type": "markdown",
   "metadata": {},
   "source": [
    "Create a data frame and store relavant data from each tweet. Display the first 10 tweets stored in the data frame in table format."
   ]
  },
  {
   "cell_type": "code",
   "execution_count": 61,
   "metadata": {},
   "outputs": [
    {
     "data": {
      "text/html": [
       "<div>\n",
       "<style scoped>\n",
       "    .dataframe tbody tr th:only-of-type {\n",
       "        vertical-align: middle;\n",
       "    }\n",
       "\n",
       "    .dataframe tbody tr th {\n",
       "        vertical-align: top;\n",
       "    }\n",
       "\n",
       "    .dataframe thead th {\n",
       "        text-align: right;\n",
       "    }\n",
       "</style>\n",
       "<table border=\"1\" class=\"dataframe\">\n",
       "  <thead>\n",
       "    <tr style=\"text-align: right;\">\n",
       "      <th></th>\n",
       "      <th>Tweets</th>\n",
       "      <th>len</th>\n",
       "      <th>ID</th>\n",
       "      <th>Date</th>\n",
       "      <th>Source</th>\n",
       "      <th>Likes</th>\n",
       "      <th>RTs</th>\n",
       "    </tr>\n",
       "  </thead>\n",
       "  <tbody>\n",
       "    <tr>\n",
       "      <th>0</th>\n",
       "      <td>RT @ShowPlaceICON: Want a chance to win an Exc...</td>\n",
       "      <td>140</td>\n",
       "      <td>969240522895183872</td>\n",
       "      <td>2018-03-01 15:58:42</td>\n",
       "      <td>Twitter for Android</td>\n",
       "      <td>0</td>\n",
       "      <td>1</td>\n",
       "    </tr>\n",
       "    <tr>\n",
       "      <th>1</th>\n",
       "      <td>RT @AlfredMurphy5: BOX OFFICE: #BlackPanther I...</td>\n",
       "      <td>140</td>\n",
       "      <td>969240519954989056</td>\n",
       "      <td>2018-03-01 15:58:42</td>\n",
       "      <td>Twitter for iPad</td>\n",
       "      <td>0</td>\n",
       "      <td>11</td>\n",
       "    </tr>\n",
       "    <tr>\n",
       "      <th>2</th>\n",
       "      <td>RT @FallonTonight: This was amazing. @chadwick...</td>\n",
       "      <td>140</td>\n",
       "      <td>969240518591991808</td>\n",
       "      <td>2018-03-01 15:58:41</td>\n",
       "      <td>Twitter for iPhone</td>\n",
       "      <td>0</td>\n",
       "      <td>31798</td>\n",
       "    </tr>\n",
       "    <tr>\n",
       "      <th>3</th>\n",
       "      <td>RT @chadwickboseman: The #Wakanda love runs de...</td>\n",
       "      <td>105</td>\n",
       "      <td>969240518579376132</td>\n",
       "      <td>2018-03-01 15:58:41</td>\n",
       "      <td>Twitter for Android</td>\n",
       "      <td>0</td>\n",
       "      <td>3485</td>\n",
       "    </tr>\n",
       "    <tr>\n",
       "      <th>4</th>\n",
       "      <td>RT @FallonTonight: This was amazing. @chadwick...</td>\n",
       "      <td>140</td>\n",
       "      <td>969240518117949440</td>\n",
       "      <td>2018-03-01 15:58:41</td>\n",
       "      <td>Twitter for iPhone</td>\n",
       "      <td>0</td>\n",
       "      <td>31798</td>\n",
       "    </tr>\n",
       "    <tr>\n",
       "      <th>5</th>\n",
       "      <td>RT @vanklom_studios: More than shield #Captain...</td>\n",
       "      <td>140</td>\n",
       "      <td>969240516473667586</td>\n",
       "      <td>2018-03-01 15:58:41</td>\n",
       "      <td>Twitter for iPhone</td>\n",
       "      <td>0</td>\n",
       "      <td>4</td>\n",
       "    </tr>\n",
       "    <tr>\n",
       "      <th>6</th>\n",
       "      <td>RT @FallonTonight: This was amazing. @chadwick...</td>\n",
       "      <td>140</td>\n",
       "      <td>969240516301746176</td>\n",
       "      <td>2018-03-01 15:58:41</td>\n",
       "      <td>Twitter for iPhone</td>\n",
       "      <td>0</td>\n",
       "      <td>31798</td>\n",
       "    </tr>\n",
       "    <tr>\n",
       "      <th>7</th>\n",
       "      <td>RT @FallonTonight: This was amazing. @chadwick...</td>\n",
       "      <td>140</td>\n",
       "      <td>969240515030986752</td>\n",
       "      <td>2018-03-01 15:58:41</td>\n",
       "      <td>Twitter for iPhone</td>\n",
       "      <td>0</td>\n",
       "      <td>31798</td>\n",
       "    </tr>\n",
       "    <tr>\n",
       "      <th>8</th>\n",
       "      <td>RT @FallonTonight: This was amazing. @chadwick...</td>\n",
       "      <td>140</td>\n",
       "      <td>969240514871615488</td>\n",
       "      <td>2018-03-01 15:58:41</td>\n",
       "      <td>Twitter for iPhone</td>\n",
       "      <td>0</td>\n",
       "      <td>31798</td>\n",
       "    </tr>\n",
       "    <tr>\n",
       "      <th>9</th>\n",
       "      <td>RT @MatthewACherry: #BlackPanther surpassed Sp...</td>\n",
       "      <td>139</td>\n",
       "      <td>969240513567252481</td>\n",
       "      <td>2018-03-01 15:58:40</td>\n",
       "      <td>Twitter for iPhone</td>\n",
       "      <td>0</td>\n",
       "      <td>728</td>\n",
       "    </tr>\n",
       "  </tbody>\n",
       "</table>\n",
       "</div>"
      ],
      "text/plain": [
       "                                              Tweets  len                  ID  \\\n",
       "0  RT @ShowPlaceICON: Want a chance to win an Exc...  140  969240522895183872   \n",
       "1  RT @AlfredMurphy5: BOX OFFICE: #BlackPanther I...  140  969240519954989056   \n",
       "2  RT @FallonTonight: This was amazing. @chadwick...  140  969240518591991808   \n",
       "3  RT @chadwickboseman: The #Wakanda love runs de...  105  969240518579376132   \n",
       "4  RT @FallonTonight: This was amazing. @chadwick...  140  969240518117949440   \n",
       "5  RT @vanklom_studios: More than shield #Captain...  140  969240516473667586   \n",
       "6  RT @FallonTonight: This was amazing. @chadwick...  140  969240516301746176   \n",
       "7  RT @FallonTonight: This was amazing. @chadwick...  140  969240515030986752   \n",
       "8  RT @FallonTonight: This was amazing. @chadwick...  140  969240514871615488   \n",
       "9  RT @MatthewACherry: #BlackPanther surpassed Sp...  139  969240513567252481   \n",
       "\n",
       "                 Date               Source  Likes    RTs  \n",
       "0 2018-03-01 15:58:42  Twitter for Android      0      1  \n",
       "1 2018-03-01 15:58:42     Twitter for iPad      0     11  \n",
       "2 2018-03-01 15:58:41   Twitter for iPhone      0  31798  \n",
       "3 2018-03-01 15:58:41  Twitter for Android      0   3485  \n",
       "4 2018-03-01 15:58:41   Twitter for iPhone      0  31798  \n",
       "5 2018-03-01 15:58:41   Twitter for iPhone      0      4  \n",
       "6 2018-03-01 15:58:41   Twitter for iPhone      0  31798  \n",
       "7 2018-03-01 15:58:41   Twitter for iPhone      0  31798  \n",
       "8 2018-03-01 15:58:41   Twitter for iPhone      0  31798  \n",
       "9 2018-03-01 15:58:40   Twitter for iPhone      0    728  "
      ]
     },
     "metadata": {},
     "output_type": "display_data"
    }
   ],
   "source": [
    "# Create a pandas dataframe as follows:\n",
    "data = pd.DataFrame(data=[tweet.text for tweet in tweets], columns=['Tweets'])\n",
    "\n",
    "# Add relavant data from each tweet:\n",
    "data['len']  = np.array([len(tweet.text) for tweet in tweets]) #textual content legnth\n",
    "data['ID']   = np.array([tweet.id for tweet in tweets])\n",
    "data['Date'] = np.array([tweet.created_at for tweet in tweets])\n",
    "data['Source'] = np.array([tweet.source for tweet in tweets])\n",
    "data['Likes']  = np.array([tweet.favorite_count for tweet in tweets]) #likes counts\n",
    "data['RTs']    = np.array([tweet.retweet_count for tweet in tweets]) #retweets count\n",
    "\n",
    "# Display the first 10 elements of the dataframe:\n",
    "display(data.head(10))"
   ]
  },
  {
   "cell_type": "markdown",
   "metadata": {},
   "source": [
    "Extract the most liked tweet and most retweeted tweet."
   ]
  },
  {
   "cell_type": "code",
   "execution_count": 62,
   "metadata": {},
   "outputs": [
    {
     "name": "stdout",
     "output_type": "stream",
     "text": [
      "The tweet with more likes is: \n",
      "RT @ShowPlaceICON: Want a chance to win an Exclusive #BlackPanther Prize Pack #Chicago or #Boston? Head over to our Instagram handles (@sho…\n",
      "Number of likes: 0\n",
      "The tweet with more retweets is: \n",
      "RT @FallonTonight: This was amazing. @chadwickboseman surprises #BlackPanther fans while they say what the movie means to them. https://t.c…\n",
      "Number of retweets: 31798\n"
     ]
    }
   ],
   "source": [
    " # Extract the tweet with more FAVs and more RTs:\n",
    "\n",
    "maxLikes = np.max(data['Likes'])\n",
    "maxRetweets  = np.max(data['RTs'])\n",
    "\n",
    "fav = data[data.Likes == maxLikes].index[0]\n",
    "rt  = data[data.RTs == maxRetweets].index[0]\n",
    "\n",
    "# Max FAVs:\n",
    "print(\"The tweet with more likes is: \\n{}\".format(data['Tweets'][fav]))\n",
    "print(\"Number of likes: {}\".format(maxLikes))\n",
    "\n",
    "# Max RTs:\n",
    "print(\"The tweet with more retweets is: \\n{}\".format(data['Tweets'][rt]))\n",
    "print(\"Number of retweets: {}\".format(maxRetweets))"
   ]
  },
  {
   "cell_type": "markdown",
   "metadata": {},
   "source": [
    "## Basic Sentiment Analysis\n",
    "\n",
    "1. Use Textblob python library to classify polarity of a tweet\n",
    "2. Compute the sentiment for each tweet\n"
   ]
  },
  {
   "cell_type": "markdown",
   "metadata": {},
   "source": [
    "We can determine whether a tweet is positive, negative or neutral using sentiment analysis. Textblob library provides a simple API to support sentiment analysis. It has an already trained analyzer to classify the polarity of a given text. We define two functions in the following code. One to pre-process and clean the tweet content and the other to compute the sentiment associated with each tweet."
   ]
  },
  {
   "cell_type": "code",
   "execution_count": 63,
   "metadata": {},
   "outputs": [],
   "source": [
    "from textblob import TextBlob\n",
    "import re\n",
    "\n",
    "def cleanTweet(tweet):\n",
    "    '''\n",
    "    Utility function to clean the text in a tweet by removing \n",
    "    links and special characters using regex.\n",
    "    '''\n",
    "    return ' '.join(re.sub(\"(@[A-Za-z0-9]+)|([^0-9A-Za-z \\t])|(\\w+:\\/\\/\\S+)\", \" \", tweet).split())\n",
    "\n",
    "def analyseSentiment(tweet):\n",
    "    '''\n",
    "    Utility function to classify the polarity of a tweet\n",
    "    using textblob.\n",
    "    '''\n",
    "    analysis = TextBlob(cleanTweet(tweet))\n",
    "    if analysis.sentiment.polarity > 0:\n",
    "        return 1\n",
    "    elif analysis.sentiment.polarity == 0:\n",
    "        return 0\n",
    "    else:\n",
    "        return -1"
   ]
  },
  {
   "cell_type": "markdown",
   "metadata": {},
   "source": [
    "Compute sentiment for each tweet and add it to the data frame we created previously."
   ]
  },
  {
   "cell_type": "code",
   "execution_count": 64,
   "metadata": {},
   "outputs": [
    {
     "data": {
      "text/html": [
       "<div>\n",
       "<style scoped>\n",
       "    .dataframe tbody tr th:only-of-type {\n",
       "        vertical-align: middle;\n",
       "    }\n",
       "\n",
       "    .dataframe tbody tr th {\n",
       "        vertical-align: top;\n",
       "    }\n",
       "\n",
       "    .dataframe thead th {\n",
       "        text-align: right;\n",
       "    }\n",
       "</style>\n",
       "<table border=\"1\" class=\"dataframe\">\n",
       "  <thead>\n",
       "    <tr style=\"text-align: right;\">\n",
       "      <th></th>\n",
       "      <th>Tweets</th>\n",
       "      <th>len</th>\n",
       "      <th>ID</th>\n",
       "      <th>Date</th>\n",
       "      <th>Source</th>\n",
       "      <th>Likes</th>\n",
       "      <th>RTs</th>\n",
       "      <th>SA</th>\n",
       "    </tr>\n",
       "  </thead>\n",
       "  <tbody>\n",
       "    <tr>\n",
       "      <th>0</th>\n",
       "      <td>RT @ShowPlaceICON: Want a chance to win an Exc...</td>\n",
       "      <td>140</td>\n",
       "      <td>969240522895183872</td>\n",
       "      <td>2018-03-01 15:58:42</td>\n",
       "      <td>Twitter for Android</td>\n",
       "      <td>0</td>\n",
       "      <td>1</td>\n",
       "      <td>1</td>\n",
       "    </tr>\n",
       "    <tr>\n",
       "      <th>1</th>\n",
       "      <td>RT @AlfredMurphy5: BOX OFFICE: #BlackPanther I...</td>\n",
       "      <td>140</td>\n",
       "      <td>969240519954989056</td>\n",
       "      <td>2018-03-01 15:58:42</td>\n",
       "      <td>Twitter for iPad</td>\n",
       "      <td>0</td>\n",
       "      <td>11</td>\n",
       "      <td>0</td>\n",
       "    </tr>\n",
       "    <tr>\n",
       "      <th>2</th>\n",
       "      <td>RT @FallonTonight: This was amazing. @chadwick...</td>\n",
       "      <td>140</td>\n",
       "      <td>969240518591991808</td>\n",
       "      <td>2018-03-01 15:58:41</td>\n",
       "      <td>Twitter for iPhone</td>\n",
       "      <td>0</td>\n",
       "      <td>31798</td>\n",
       "      <td>1</td>\n",
       "    </tr>\n",
       "    <tr>\n",
       "      <th>3</th>\n",
       "      <td>RT @chadwickboseman: The #Wakanda love runs de...</td>\n",
       "      <td>105</td>\n",
       "      <td>969240518579376132</td>\n",
       "      <td>2018-03-01 15:58:41</td>\n",
       "      <td>Twitter for Android</td>\n",
       "      <td>0</td>\n",
       "      <td>3485</td>\n",
       "      <td>1</td>\n",
       "    </tr>\n",
       "    <tr>\n",
       "      <th>4</th>\n",
       "      <td>RT @FallonTonight: This was amazing. @chadwick...</td>\n",
       "      <td>140</td>\n",
       "      <td>969240518117949440</td>\n",
       "      <td>2018-03-01 15:58:41</td>\n",
       "      <td>Twitter for iPhone</td>\n",
       "      <td>0</td>\n",
       "      <td>31798</td>\n",
       "      <td>1</td>\n",
       "    </tr>\n",
       "    <tr>\n",
       "      <th>5</th>\n",
       "      <td>RT @vanklom_studios: More than shield #Captain...</td>\n",
       "      <td>140</td>\n",
       "      <td>969240516473667586</td>\n",
       "      <td>2018-03-01 15:58:41</td>\n",
       "      <td>Twitter for iPhone</td>\n",
       "      <td>0</td>\n",
       "      <td>4</td>\n",
       "      <td>1</td>\n",
       "    </tr>\n",
       "    <tr>\n",
       "      <th>6</th>\n",
       "      <td>RT @FallonTonight: This was amazing. @chadwick...</td>\n",
       "      <td>140</td>\n",
       "      <td>969240516301746176</td>\n",
       "      <td>2018-03-01 15:58:41</td>\n",
       "      <td>Twitter for iPhone</td>\n",
       "      <td>0</td>\n",
       "      <td>31798</td>\n",
       "      <td>1</td>\n",
       "    </tr>\n",
       "    <tr>\n",
       "      <th>7</th>\n",
       "      <td>RT @FallonTonight: This was amazing. @chadwick...</td>\n",
       "      <td>140</td>\n",
       "      <td>969240515030986752</td>\n",
       "      <td>2018-03-01 15:58:41</td>\n",
       "      <td>Twitter for iPhone</td>\n",
       "      <td>0</td>\n",
       "      <td>31798</td>\n",
       "      <td>1</td>\n",
       "    </tr>\n",
       "    <tr>\n",
       "      <th>8</th>\n",
       "      <td>RT @FallonTonight: This was amazing. @chadwick...</td>\n",
       "      <td>140</td>\n",
       "      <td>969240514871615488</td>\n",
       "      <td>2018-03-01 15:58:41</td>\n",
       "      <td>Twitter for iPhone</td>\n",
       "      <td>0</td>\n",
       "      <td>31798</td>\n",
       "      <td>1</td>\n",
       "    </tr>\n",
       "    <tr>\n",
       "      <th>9</th>\n",
       "      <td>RT @MatthewACherry: #BlackPanther surpassed Sp...</td>\n",
       "      <td>139</td>\n",
       "      <td>969240513567252481</td>\n",
       "      <td>2018-03-01 15:58:40</td>\n",
       "      <td>Twitter for iPhone</td>\n",
       "      <td>0</td>\n",
       "      <td>728</td>\n",
       "      <td>1</td>\n",
       "    </tr>\n",
       "  </tbody>\n",
       "</table>\n",
       "</div>"
      ],
      "text/plain": [
       "                                              Tweets  len                  ID  \\\n",
       "0  RT @ShowPlaceICON: Want a chance to win an Exc...  140  969240522895183872   \n",
       "1  RT @AlfredMurphy5: BOX OFFICE: #BlackPanther I...  140  969240519954989056   \n",
       "2  RT @FallonTonight: This was amazing. @chadwick...  140  969240518591991808   \n",
       "3  RT @chadwickboseman: The #Wakanda love runs de...  105  969240518579376132   \n",
       "4  RT @FallonTonight: This was amazing. @chadwick...  140  969240518117949440   \n",
       "5  RT @vanklom_studios: More than shield #Captain...  140  969240516473667586   \n",
       "6  RT @FallonTonight: This was amazing. @chadwick...  140  969240516301746176   \n",
       "7  RT @FallonTonight: This was amazing. @chadwick...  140  969240515030986752   \n",
       "8  RT @FallonTonight: This was amazing. @chadwick...  140  969240514871615488   \n",
       "9  RT @MatthewACherry: #BlackPanther surpassed Sp...  139  969240513567252481   \n",
       "\n",
       "                 Date               Source  Likes    RTs  SA  \n",
       "0 2018-03-01 15:58:42  Twitter for Android      0      1   1  \n",
       "1 2018-03-01 15:58:42     Twitter for iPad      0     11   0  \n",
       "2 2018-03-01 15:58:41   Twitter for iPhone      0  31798   1  \n",
       "3 2018-03-01 15:58:41  Twitter for Android      0   3485   1  \n",
       "4 2018-03-01 15:58:41   Twitter for iPhone      0  31798   1  \n",
       "5 2018-03-01 15:58:41   Twitter for iPhone      0      4   1  \n",
       "6 2018-03-01 15:58:41   Twitter for iPhone      0  31798   1  \n",
       "7 2018-03-01 15:58:41   Twitter for iPhone      0  31798   1  \n",
       "8 2018-03-01 15:58:41   Twitter for iPhone      0  31798   1  \n",
       "9 2018-03-01 15:58:40   Twitter for iPhone      0    728   1  "
      ]
     },
     "metadata": {},
     "output_type": "display_data"
    }
   ],
   "source": [
    "# Compute sentiment for each tweet and add the result into a new column:\n",
    "data['SA'] = np.array([ analyseSentiment(tweet) for tweet in data['Tweets'] ])\n",
    "\n",
    "# Display the first 10 elements of the dataframe:\n",
    "display(data.head(10))"
   ]
  },
  {
   "cell_type": "markdown",
   "metadata": {},
   "source": [
    "## Basic Visualization\n",
    "\n",
    "1. Calculate percentages of positive, neutral and negative tweets\n",
    "2. Plot percentages in a pie chart"
   ]
  },
  {
   "cell_type": "code",
   "execution_count": 65,
   "metadata": {
    "scrolled": false
   },
   "outputs": [
    {
     "name": "stdout",
     "output_type": "stream",
     "text": [
      "Percentage of positive tweets: 82.0%\n",
      "Percentage of neutral tweets: 16.0%\n",
      "Percentage de negative tweets: 2.0%\n"
     ]
    }
   ],
   "source": [
    "# Construct lists with classified tweets:\n",
    "\n",
    "positiveTweets = [ tweet for index, tweet in enumerate(data['Tweets']) if data['SA'][index] > 0]\n",
    "neutralTweets = [ tweet for index, tweet in enumerate(data['Tweets']) if data['SA'][index] == 0]\n",
    "negativeTweets = [ tweet for index, tweet in enumerate(data['Tweets']) if data['SA'][index] < 0]\n",
    "\n",
    "# Calculate percentages\n",
    "\n",
    "positivePercent = len(positiveTweets)*100/len(data['Tweets'])\n",
    "neutralPercent = len(neutralTweets)*100/len(data['Tweets'])\n",
    "negativePercent = len(negativeTweets)*100/len(data['Tweets'])\n",
    "\n",
    "# Print percentages:\n",
    "\n",
    "print(\"Percentage of positive tweets: {}%\".format(positivePercent))\n",
    "print(\"Percentage of neutral tweets: {}%\".format(neutralPercent))\n",
    "print(\"Percentage de negative tweets: {}%\".format(negativePercent))"
   ]
  },
  {
   "cell_type": "markdown",
   "metadata": {},
   "source": [
    "Plot sentiment percentages in a pie chart"
   ]
  },
  {
   "cell_type": "code",
   "execution_count": 66,
   "metadata": {
    "scrolled": true
   },
   "outputs": [
    {
     "data": {
      "image/png": "[encoded data removed]",
      "text/plain": [
       "<matplotlib.figure.Figure at 0x7f86bc81ba20>"
      ]
     },
     "metadata": {},
     "output_type": "display_data"
    }
   ],
   "source": [
    "# For plotting and visualization:\n",
    "from IPython.display import display\n",
    "import matplotlib.pyplot as plt\n",
    "import seaborn as sns\n",
    "%matplotlib inline\n",
    "\n",
    "labels = ['Positive', 'Neutral', 'Negative']\n",
    "sizes = [positivePercent, neutralPercent, negativePercent]\n",
    "\n",
    "# Set different colors\n",
    "colors = ['green', 'grey', 'red']\n",
    "\n",
    "plt.pie(sizes, labels=labels, colors=colors, autopct='%1.1f%%', startangle=140)\n",
    "plt.axis('equal')\n",
    "plt.show()"
   ]
  },
  {
   "cell_type": "code",
   "execution_count": null,
   "metadata": {},
   "outputs": [],
   "source": []
  }
 ],
 "metadata": {
  "hide_input": false,
  "kernelspec": {
   "display_name": "Python 3",
   "language": "python",
   "name": "python3"
  },
  "language_info": {
   "codemirror_mode": {
    "name": "ipython",
    "version": 3
   },
   "file_extension": ".py",
   "mimetype": "text/x-python",
   "name": "python",
   "nbconvert_exporter": "python",
   "pygments_lexer": "ipython3",
   "version": "3.6.7"
  }
 },
 "nbformat": 4,
 "nbformat_minor": 2
}
