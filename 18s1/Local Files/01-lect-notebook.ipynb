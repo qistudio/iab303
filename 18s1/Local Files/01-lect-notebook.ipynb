{
 "cells": [
  {
   "cell_type": "markdown",
   "metadata": {
    "slideshow": {
     "slide_type": "skip"
    }
   },
   "source": [
    "<div class=\"alert alert-block alert-info\">IAB303 - Business Intelligence - <a href=\"0%20-%20IAB303%20Overview.ipynb\">overview</a></div>"
   ]
  },
  {
   "cell_type": "markdown",
   "metadata": {
    "slideshow": {
     "slide_type": "slide"
    }
   },
   "source": [
    "## LECTURE :: Augmenting human intelligence in business"
   ]
  },
  {
   "cell_type": "markdown",
   "metadata": {
    "slideshow": {
     "slide_type": "fragment"
    }
   },
   "source": [
    "Imagine:\n",
    "* You've just started a new job\n",
    "* Marketing manager drops into your office with a problem: Our competition is overtaking us. Our customers seem to be turning away from our product. We don't know why. Can you help?"
   ]
  },
  {
   "cell_type": "markdown",
   "metadata": {
    "slideshow": {
     "slide_type": "fragment"
    }
   },
   "source": [
    "Consider:\n",
    "* How significant is this problem for the business?\n",
    "* What information do you need to address this concern?\n",
    "* How do you go about obtaining this information?"
   ]
  },
  {
   "cell_type": "markdown",
   "metadata": {
    "slideshow": {
     "slide_type": "slide"
    }
   },
   "source": [
    "### Human Intelligence as a starting point\n",
    "\n",
    "* How does the Marketing manager describe the problem?\n",
    "* What does their gut feeling, their intuition tell them?\n",
    "* At a guess, why do they think this happening?"
   ]
  },
  {
   "cell_type": "markdown",
   "metadata": {
    "slideshow": {
     "slide_type": "fragment"
    }
   },
   "source": [
    "* The importance of intuition\n",
    "* The risks of intuition"
   ]
  },
  {
   "cell_type": "markdown",
   "metadata": {
    "slideshow": {
     "slide_type": "fragment"
    }
   },
   "source": [
    "#### What value is Data Analytics for this scenario?"
   ]
  },
  {
   "cell_type": "markdown",
   "metadata": {
    "slideshow": {
     "slide_type": "slide"
    }
   },
   "source": [
    "## Example\n",
    "\n",
    "Say we want to find out what customers have been saying about our product that we are selling on Amazon...\n",
    "\n",
    "[Data from Kaggle](https://www.kaggle.com/bittlingmayer/amazonreviews)"
   ]
  },
  {
   "cell_type": "code",
   "execution_count": 52,
   "metadata": {
    "slideshow": {
     "slide_type": "fragment"
    }
   },
   "outputs": [
    {
     "name": "stdout",
     "output_type": "stream",
     "text": [
      "File size:  169.15911960601807 MB\n"
     ]
    }
   ],
   "source": [
    "# Load 400,000 Amazon reviews (out of total dataset of 4 million)\n",
    "pathToData = \"../../data/kaggle-amazonreviews-test.txt\"\n",
    "\n",
    "# How big is this file?\n",
    "import os\n",
    "fileSize = os.stat(pathToData).st_size / (1024*1024)\n",
    "print(\"File size: \",fileSize, \"MB\")"
   ]
  },
  {
   "cell_type": "code",
   "execution_count": 53,
   "metadata": {
    "slideshow": {
     "slide_type": "slide"
    }
   },
   "outputs": [
    {
     "name": "stdout",
     "output_type": "stream",
     "text": [
      "Number of reviews:  400001\n"
     ]
    }
   ],
   "source": [
    "# Now lets define a function to load the reviews\n",
    "def readFileToList(fileName):\n",
    "    file = open(fileName)\n",
    "    rawtext = file.read()\n",
    "    file.close()\n",
    "    return rawtext.split(\"\\n\")\n",
    "\n",
    "# Read the data into a List and assign to variable\n",
    "reviewData = readFileToList(pathToData)\n",
    "\n",
    "# Now lets check how many items in the list\n",
    "numReviews = len(reviewData)\n",
    "\n",
    "print(\"Number of reviews: \",numReviews)\n",
    "# Why is this not 400k?"
   ]
  },
  {
   "cell_type": "code",
   "execution_count": 54,
   "metadata": {
    "slideshow": {
     "slide_type": "slide"
    }
   },
   "outputs": [
    {
     "name": "stdout",
     "output_type": "stream",
     "text": [
      "First:  __label__2 Great CD: My lovely Pat has one of the GREAT voices of her generation. I have listened to this CD for YEARS and I still LOVE IT. When I'm in a good mood it makes me feel better. A bad mood just evaporates like sugar in the rain. This CD just oozes LIFE. Vocals are jusat STUUNNING and lyrics just kill. One of life's hidden gems. This is a desert isle CD in my book. Why she never made it big is just beyond me. Everytime I play this, no matter black, white, young, old, male, female EVERYBODY says one thing \"Who was that singing ?\"\n",
      "Last: \n"
     ]
    }
   ],
   "source": [
    "# Let's look at the first and last reviews\n",
    "print(\"First: \",reviewData[0]) # Why 0?\n",
    "print(\"Last:\",reviewData[-1])"
   ]
  },
  {
   "cell_type": "code",
   "execution_count": 55,
   "metadata": {
    "slideshow": {
     "slide_type": "slide"
    }
   },
   "outputs": [
    {
     "data": {
      "text/plain": [
       "\"__label__1 Comedy Scene, and Not Heard: This DVD will be a disappointment if you get it hoping to see some substantial portion of the acts of the various comics listed on the cover. All you get here are snippets of performance, at best. The rest is just loose-leaf reminiscence about the good old days in Boston, in the early 80's, when a lot of comics were hanging out together and getting their start.It's like a frat house reunion. There's a lot of lame nostalgia. There are quite a few guffaws recalling jokes (practical and otherwise)perpetrated - back then. But you had to have been there to appreciate all the basically good ol' boy camaraderie. If you weren't actually a part of that scene, all this joshing and jostling will fall flat.If you want to actually hear some of these comics' routines - you will have to look elsewhere.\""
      ]
     },
     "execution_count": 55,
     "metadata": {},
     "output_type": "execute_result"
    }
   ],
   "source": [
    "# last 2 items\n",
    "reviewData[-2]"
   ]
  },
  {
   "cell_type": "code",
   "execution_count": 56,
   "metadata": {
    "slideshow": {
     "slide_type": "slide"
    }
   },
   "outputs": [
    {
     "data": {
      "text/plain": [
       "['__label__2 Great CD: My lovely Pat has one of the GREAT voices of her generation. I have listened to this CD for YEARS and I still LOVE IT. When I\\'m in a good mood it makes me feel better. A bad mood just evaporates like sugar in the rain. This CD just oozes LIFE. Vocals are jusat STUUNNING and lyrics just kill. One of life\\'s hidden gems. This is a desert isle CD in my book. Why she never made it big is just beyond me. Everytime I play this, no matter black, white, young, old, male, female EVERYBODY says one thing \"Who was that singing ?\"',\n",
       " \"__label__2 remakes rarely stink in my eyes, this is no exception: John Waters, I admire your work, but this film almost surpasses your film. John Travolta in drag? Who would've thought! The whole cast shines in this film-now I want to see the original again and the play. I wouldn't expect so many people and critics to enjoy this but they did! The music numbers esp. are really good, some actors I never imagined could sing, surprised me, because they could.Anyone who doesn't like musicals, should at least give this chance, but don't expect a scene-for-scene remake of the 1988 version, this one stands alone.\",\n",
       " \"__label__2 Delivers on what it promises: If you're looking for the hilarious behind-the-scenes dope on what really goes on in the Magic Kingdom, you won't be disappointed by this book.I read it just before I went to Disneyland the last time, and highlighted some of the more curious passages. Then, while waiting in the interminable lines, we pulled it out of our backpack and read the anecdotes to each other. This made our trip to Disneyland far more interesting than it otherwise would have been (i.e. without the book handy, we would've been at a loss to remember the location of Walt's private apartment above the Fire House, and the forbidden door of Club 33--the snobbiest thing I've ever heard of in my life).After reading the book, I have both more and less respect for the way Disneyland does business. More, in the sense that when they believe they're in the right, they fight for it in court; and less, seeing how guests are maniupulated and employees abused.\",\n",
       " '__label__2 a Biblical response to racism: So rarely do White American males speak out on racism, and this is especially lacking in the Christian Church, which remains frightfully split along racial lines (read \"Divided By Faith\" if you\\'re unconvinced of this). Which is why this book is so necessary. Jody writes out of his experience especially to other White Christians in America, giving Biblical, historical, personal, and and social reasons to examine racism and work for reconciliation. The chapter on affirmative action alone makes the book extremely relevant, though a decade old, in light of the continued controversy and misinformation about this issue surrounding the recent Supreme Court rulings.',\n",
       " \"__label__1 Ticked off completely: This Halloween is kind of to like of 2 other Halloweens films 4 and 6 the Jamie trilogy 1,2,7,8 are the laurie quadrility halloween 3 (Did somebody yell flop) back to 5 I saw it once and I could tell Pleasense was in it for the money the teenagers were in it to lose there virginity Harris was actually the only one in the movie doing it for the movies sake the directer Dominoei,maforeignfaggot probably could,nt speak english thats why its so awful as for the story Z the shape comes back to kill people and whos the guy in the clickey cowboy shoes is he are gun slingin' cowboy hero no he lets micheal out of jail what the f*** is up with that two words for this halloweenies ooh scary i'm being sarcastic of course\",\n",
       " \"__label__1 Hapkido Vol.1 Disappoints: This video produced by the Korea Hapkido Federation brought back memories of my own training in dojangs looking identical to this one while I was in Seoul.Unfortunately other than nostalgia this video has little to offer other than acrobatic demonstrations of what should be very practical techniques.The agility and the abilities of the practitioners are not in question, however this video does not really seem to know what it wants to be. It is not in any way instructional. It does not show realistic execution or reaction to the techniques shown. This demostration, like many I saw while living in Korea, seems to confuse acting and acrobatics with martial arts.This is really a shame as these practitioners are, I'm sure, really talented and could illustrate real hapkido if allowed to do so.A real missed opportunity on the part of the KHF.I would recommend Ultimate Hapkido in its stead.\",\n",
       " '__label__2 Useful for remodels: I recently remodeled my house and these came in extremely useful for boring through studs for electrical and plumbing... as well as prepping doors for hardware.',\n",
       " '__label__2 Great!: Very accurate n easy to use. Works well with baby n very easy to move around house to get his weight']"
      ]
     },
     "execution_count": 56,
     "metadata": {},
     "output_type": "execute_result"
    }
   ],
   "source": [
    "# Sample 8 reviews\n",
    "reviewData[0:-1:50000]"
   ]
  },
  {
   "cell_type": "markdown",
   "metadata": {
    "slideshow": {
     "slide_type": "slide"
    }
   },
   "source": [
    "### Making sense\n",
    "\n",
    "* How do we make meaning of this data?\n",
    "* What intuitions might we have on the data?\n",
    "* How do we test these intuitions?\n",
    "* What do we need to do to make this raw data useful?"
   ]
  },
  {
   "cell_type": "code",
   "execution_count": 57,
   "metadata": {
    "slideshow": {
     "slide_type": "slide"
    }
   },
   "outputs": [
    {
     "name": "stdout",
     "output_type": "stream",
     "text": [
      "CD reviews:  21178\n"
     ]
    },
    {
     "data": {
      "text/plain": [
       "['__label__2 Great CD: My lovely Pat has one of the GREAT voices of her generation. I have listened to this CD for YEARS and I still LOVE IT. When I\\'m in a good mood it makes me feel better. A bad mood just evaporates like sugar in the rain. This CD just oozes LIFE. Vocals are jusat STUUNNING and lyrics just kill. One of life\\'s hidden gems. This is a desert isle CD in my book. Why she never made it big is just beyond me. Everytime I play this, no matter black, white, young, old, male, female EVERYBODY says one thing \"Who was that singing ?\"',\n",
       " '__label__1 A complete Bust: This game requires quicktime 5.0 to work...if you have a better version of quicktime (I have 7.5), it will ask you to install the quicktime available on the CD...if you click no, it will not let you play. So, I begrudgingly clicked yes on the third try, and it installed quicktime 5, THEN it tells me to please install the quicktime available on the disc. It KEPT telling me that, even after I uninstalled my version of quicktime 7.5, and reinstalled Barbie Rapunzel and quicktime 5. Very frustrating, and the game absolutely will not work for me. It keeps telling me over and over, to install quicktime 5, tho I\\'ve been through the installation process repeatedly. It is NOT my \"operating system limitations\". This is a brand new computer...merely weeks old with all the state of the art contraptions.',\n",
       " '__label__2 Sony Hi8 Camcorder with 2.5 LCD: I believe I will be very happy with the camcorder. Its small,light and easy to handle.The LCD is clear and bright.Ease of operation.']"
      ]
     },
     "execution_count": 57,
     "metadata": {},
     "output_type": "execute_result"
    }
   ],
   "source": [
    "# What if we just want the CD reviews?\n",
    "cdReviews = list(filter(lambda text: \"CD\" in text,reviewData))\n",
    "\n",
    "# How many now?\n",
    "print(\"CD reviews: \",len(cdReviews))\n",
    "\n",
    "# Let's check the first few\n",
    "cdReviews[0:3]"
   ]
  },
  {
   "cell_type": "markdown",
   "metadata": {
    "slideshow": {
     "slide_type": "slide"
    }
   },
   "source": [
    "### Not so easy :(\n",
    "\n",
    "* How long did take you to spot the problem in the first 3 reviews?\n",
    "* How easy would it be to do with 21,178 reviews?\n",
    "* What about millions?\n",
    "* What is the computer good at?\n",
    "* What is the computer bad at?\n",
    "* What are humans good at?\n",
    "* What are humans bad at?"
   ]
  },
  {
   "cell_type": "markdown",
   "metadata": {
    "slideshow": {
     "slide_type": "slide"
    }
   },
   "source": [
    "## more about...\n",
    "\n",
    "# Augmenting Human Intelligence\n",
    "\n",
    "## than about...\n",
    "\n",
    "# Business Intelligence \n"
   ]
  },
  {
   "cell_type": "markdown",
   "metadata": {
    "slideshow": {
     "slide_type": "slide"
    }
   },
   "source": [
    "<img src=\"ConceptualMap-Traditional.png\"></img>"
   ]
  },
  {
   "cell_type": "markdown",
   "metadata": {
    "slideshow": {
     "slide_type": "slide"
    }
   },
   "source": [
    "## Common (traditional) approaches to Business Intelligence (BI)\n",
    "\n",
    "* Reporting\n",
    "* OLAP Tools\n",
    "* Visualisation\n",
    "* Typically working with data in data warehouse"
   ]
  },
  {
   "cell_type": "markdown",
   "metadata": {
    "slideshow": {
     "slide_type": "slide"
    }
   },
   "source": [
    "#### LEARN MORE\n",
    "  \n",
    "> \"You can think of Business Intelligence as the process of going from raw data to legible information\"\n",
    ">\n",
    "> [What is Business Intelligence](https://youtu.be/LFnewuBsYiY) (5 mins)\n",
    "\n",
    "\n",
    "> \"When IT professionals talk about Business Intelligence, they usually mean the analysis and presentation of data stored in an OLAP cube.\"\n",
    ">\n",
    "> [What is Business Intelligence and an OLAP Cube?](https://youtu.be/yoE6bgJv08E) (10 mins)"
   ]
  },
  {
   "cell_type": "markdown",
   "metadata": {
    "slideshow": {
     "slide_type": "slide"
    }
   },
   "source": [
    "<img src=\"ConceptualMap-Emerging.png\"></img>"
   ]
  },
  {
   "cell_type": "markdown",
   "metadata": {
    "slideshow": {
     "slide_type": "slide"
    }
   },
   "source": [
    "## Emerging BI\n",
    "\n",
    "* near real time\n",
    "* behavioural data\n",
    "* multi-disciplinary\n",
    "* global connected world\n",
    "* innovation and digital experimentation"
   ]
  },
  {
   "cell_type": "markdown",
   "metadata": {
    "slideshow": {
     "slide_type": "slide"
    }
   },
   "source": [
    "#### LEARN MORE\n",
    "\n",
    "> \"The future of marketing, you're holding it in your hand already. Access to real time behavioural data will enable interaction between the brand and people.\n",
    ">\n",
    "> [World Business Trends 2017 | BI Business Review](https://youtu.be/Jas07US278M) (2 mins)\n",
    "\n",
    "> \"It is so critical that you can quickly answer questions and don't have to go back to IT and wait a few months\"\n",
    ">\n",
    ">[What is a Modern BI Platform](https://youtu.be/1BaFnSOqJlQ) (3 mins)\n"
   ]
  },
  {
   "cell_type": "markdown",
   "metadata": {
    "slideshow": {
     "slide_type": "slide"
    }
   },
   "source": [
    "#### LEARN MORE\n",
    "\n",
    "> \"People from multiple disciplines can actually make sense of data in a much more powerful way\"\n",
    ">\n",
    ">[2018 Business Intelligence Trends](https://youtu.be/HqvZ3w1yYcE) (2 mins)\n",
    "\n",
    "> \"Maximising and optimising the connections between people and processes and technology\"\n",
    ">\n",
    "> [Gartner Top 10 Strategic Technology Trends 2018](https://youtu.be/TPbKyD2bAR4) (6 mins)"
   ]
  },
  {
   "cell_type": "markdown",
   "metadata": {
    "slideshow": {
     "slide_type": "slide"
    }
   },
   "source": [
    "<img src=\"ConceptualMap.png\"></img>"
   ]
  },
  {
   "cell_type": "markdown",
   "metadata": {
    "slideshow": {
     "slide_type": "slide"
    }
   },
   "source": [
    "### Main Theme: Addressing business concerns through storytelling with information\n",
    "\n",
    "## Key focus areas:\n",
    "\n",
    "1. **CONCERN:** The business concern or problem understood in the context of the business and relation to the stakeholders.\n",
    "\n",
    "2. **DATA:** Potential sources of information that exist inside or outside of the business or which may be synthesised in order to address a business concern.\n",
    "\n",
    "3. **ANALYTICS:** Techniques and processes and tools which can be utilised in analysing available data for the purposes of addressing a business concern.\n",
    "\n",
    "4. **INTELLIGENCE:** Relationships, perspectives, narratives, and understandings that are supported by the data analytics in a way that is meaningful for stakeholders and holds efficacy in addressing a business concern."
   ]
  },
  {
   "cell_type": "markdown",
   "metadata": {
    "slideshow": {
     "slide_type": "slide"
    }
   },
   "source": [
    "### CONCERN\n",
    "\n",
    "* what kind of problem - is it a business problem?\n",
    "* who are the stakeholders?\n",
    "* what is the context?\n",
    "* business model disruption\n",
    "* talent management\n",
    "* global market trends\n",
    "* foresight\n",
    "* political risk\n"
   ]
  },
  {
   "cell_type": "markdown",
   "metadata": {
    "slideshow": {
     "slide_type": "slide"
    }
   },
   "source": [
    "#### LEARN MORE\n",
    "\n",
    "> \"If you aren't harnessing the power of data, you're almost certain to end up falling behind.\"\n",
    ">\n",
    "> [The Top Issues CEOs Face These Days (2014)](https://www.wsj.com/articles/executive-leadership-what-are-the-top-issues-ceos-face-these-days-1395267060)\n",
    "\n",
    "> \"Don't ever try and present a technology solution to a business problem\"\n",
    ">\n",
    "> [Technology Solutions Do Not Always Solve Business Problems](https://youtu.be/J7XAFa4wXgY)\n"
   ]
  },
  {
   "cell_type": "markdown",
   "metadata": {
    "slideshow": {
     "slide_type": "slide"
    }
   },
   "source": [
    "#### LEARN MORE\n",
    "\n",
    "> \"Competitive innovation waits for no one\"\n",
    ">\n",
    "> [Worst Company Disasters! | Top 6 Blunders](https://youtu.be/T0Z73Zbtlyg) (16 mins)\n",
    "\n",
    "> \"You promised me Mars colonies. Instead, I got Facebook.\"\n",
    ">\n",
    "> [Jason Pontin: Can technology solve our big problems?](https://youtu.be/ZB50BfYlsDc)"
   ]
  },
  {
   "cell_type": "markdown",
   "metadata": {
    "slideshow": {
     "slide_type": "slide"
    }
   },
   "source": [
    "### DATA\n",
    "\n",
    "* external vs internal\n",
    "* external data for a bigger picture\n",
    "* industry, consumer, product trends\n",
    "* needs to be available for decisions\n",
    "* quality an issue\n",
    "* governance\n",
    "* realtime\n"
   ]
  },
  {
   "cell_type": "markdown",
   "metadata": {
    "slideshow": {
     "slide_type": "slide"
    }
   },
   "source": [
    "#### LEARN MORE\n",
    "\n",
    "> \"Only one-third of enterprises currently use information to identify new business opportunities and predict future trends and behavior\"\n",
    ">\n",
    "> [14 Survey-Based Recommendations on How to Improve Data-Driven Decision-Making](https://bi-survey.com/data-driven-decision-making-business)\n",
    "\n",
    "> \"External data can give you real-time, minute-by-minute updates on industry, consumer, and product trends.\"\n",
    ">\n",
    "> [Why now is the perfect time to go all in on external data analytics](https://www.import.io/post/why-now-is-the-perfect-time-to-go-all-in-on-external-data-analytics/)"
   ]
  },
  {
   "cell_type": "markdown",
   "metadata": {
    "slideshow": {
     "slide_type": "slide"
    }
   },
   "source": [
    "#### LEARN MORE\n",
    "\n",
    ">\"external data is one of the biggest blind spots in executive decision making today\"\n",
    ">\n",
    "> [Outside Insight: Why External Data Is The Fuel Of Tomorrow's Business Success](https://www.forbes.com/sites/bernardmarr/2017/11/15/outside-insight-why-external-data-is-the-fuel-of-tomorrows-business-success/#443d8fa25e1d)\n",
    "\n",
    "> \"There are many free, external data sources posted around the Internet that can, if used well, completely transform our understanding of our market, audience, and the way we do business.\"\n",
    ">\n",
    "> [Free Data Sources to Upgrade Your Business Decision-Making](https://www.sisense.com/blog/free-data-sources-upgrade-business-decision-making/)"
   ]
  },
  {
   "cell_type": "markdown",
   "metadata": {
    "slideshow": {
     "slide_type": "slide"
    }
   },
   "source": [
    "### ANALYTICS\n",
    "\n",
    "* anchored to business value\n",
    "* pragmatic approach\n",
    "* test strategies\n",
    "* invest in data for analytics insights\n"
   ]
  },
  {
   "cell_type": "markdown",
   "metadata": {
    "slideshow": {
     "slide_type": "slide"
    }
   },
   "source": [
    "#### LEARN MORE\n",
    "\n",
    "> \"big data analytics is not trawl fishing. It’s spear fishing\"\n",
    ">\n",
    ">[Big data analytics should be driven by business needs, not technology](https://www.mckinsey.com/business-functions/mckinsey-analytics/our-insights/big-data-analytics-should-be-driven-by-business-needs-not-technology)\n",
    "\n",
    "> \"So, one good rule of thumb is to always have a clear analytical objective.\"\n",
    "> \n",
    "> [Here Are The Benefits of Data-Driven Decision Making](https://www.entrepreneur.com/article/280923)"
   ]
  },
  {
   "cell_type": "markdown",
   "metadata": {
    "slideshow": {
     "slide_type": "slide"
    }
   },
   "source": [
    "### INTELLIGENCE\n",
    "\n",
    "* proactivity\n",
    "* mitigating risk\n",
    "* customer experience\n",
    "* design thinking for human problems"
   ]
  },
  {
   "cell_type": "markdown",
   "metadata": {
    "slideshow": {
     "slide_type": "slide"
    }
   },
   "source": [
    "#### LEARN MORE\n",
    "\n",
    "> \"Today, businesses can collect data along every point of the customer journey\"\n",
    ">\n",
    ">[5 Big Benefits of Data and Analytics for Positive Business Outcomes](http://blogs.teradata.com/data-points/5-big-benefits-data-analytics-positive-business-outcomes/)\n",
    "\n",
    "> \"In design, we build our way forward\"\n",
    ">\n",
    "> [Want to Make Better Decisions? Know the Difference between Engineering and Design Thinking](https://youtu.be/q7LRxKHdao8) (7 mins)\n",
    "\n"
   ]
  }
 ],
 "metadata": {
  "kernelspec": {
   "display_name": "Python 3",
   "language": "python",
   "name": "python3"
  },
  "language_info": {
   "codemirror_mode": {
    "name": "ipython",
    "version": 3
   },
   "file_extension": ".py",
   "mimetype": "text/x-python",
   "name": "python",
   "nbconvert_exporter": "python",
   "pygments_lexer": "ipython3",
   "version": "3.7.6"
  }
 },
 "nbformat": 4,
 "nbformat_minor": 4
}
