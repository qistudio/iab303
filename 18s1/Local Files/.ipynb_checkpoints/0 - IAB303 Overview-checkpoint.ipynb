{
 "cells": [
  {
   "cell_type": "markdown",
   "metadata": {},
   "source": [
    "<div class=\"alert alert-block alert-info\">IAB303 - Business Intelligence - <a href=\"0%20-%20IAB303%20Overview.ipynb\">overview</a></div>"
   ]
  },
  {
   "cell_type": "markdown",
   "metadata": {},
   "source": [
    "## Overview\n",
    "\n",
    "#### Prepare for semester\n",
    "   * `PREP:` [00-prep-notebook](00-prep-notebook.ipynb)\n",
    "   * `LECT:` [00-lect-notebook](00-lect-notebook.ipynb)\n",
    "   * `PRAC:` [00-prac-notebook](00-prac-notebook.ipynb)\n",
    "    \n",
    "#### Augmenting human intelligence in business\n",
    "   * `PREP:` [01-prep-notebook](01-prep-notebook.ipynb)\n",
    "   * `LECT:` [01-lect-notebook](01-lect-notebook.ipynb)\n",
    "   * `PRAC:` [01-prac-notebook](01-prac-notebook.ipynb)\n",
    "    \n",
    "\n",
    "#### Wrangling external business data\n",
    "   * `PREP:` [02-prep-notebook](02-prep-notebook.ipynb)\n",
    "   * `LECT:` [02-lect-notebook](02-lect-notebook.ipynb)\n",
    "   * `PRAC:` [02-prac-notebook](02-prac-notebook.ipynb)\n",
    "    \n",
    "#### Social media analysis for customer understanding\n",
    "   * `PREP:` [03-prep-notebook](03-prep-notebook.ipynb)\n",
    "   * `LECT:` [03-lect-notebook](03-lect-notebook.ipynb)\n",
    "   * `PRAC:` [03-prac-notebook](03-prac-notebook.ipynb)\n",
    "    \n",
    "#### Open data for business environment assessment\n",
    "   * `PREP:` [04-prep-notebook](04-prep-notebook.ipynb)\n",
    "   * `LECT:` [04-lect-notebook](04-lect-notebook.ipynb)\n",
    "   * `PRAC:` [04-prac-notebook](04-prac-notebook.ipynb)\n",
    "    \n",
    "#### Scraping the web for market information\n",
    "   * `PREP:` [05-prep-notebook](05-prep-notebook.ipynb)\n",
    "   * `LECT:` [05-lect-notebook](05-lect-notebook.ipynb)\n",
    "   * `PRAC:` [05-prac-notebook](05-prac-notebook.ipynb)\n",
    "    \n",
    "#### Internal business information for business intelligence\n",
    "   * `PREP:` [06-prep-notebook](06-prep-notebook.ipynb)\n",
    "   * `LECT:` [06-lect-notebook](06-lect-notebook.ipynb)\n",
    "   * `PRAC:` [06-prac-notebook](06-prac-notebook.ipynb)\n",
    "    \n",
    "#### Assessment of customer satisfaction\n",
    "   * `PREP:` [07-prep-notebook](07-prep-notebook.ipynb)\n",
    "   * `LECT:` [07-lect-notebook](07-lect-notebook.ipynb)\n",
    "   * `PRAC:` [07-prac-notebook](07-prac-notebook.ipynb)\n",
    "    \n",
    "#### Assessment of competitive threats and opportunities\n",
    "   * `PREP:` [08-prep-notebook](08-prep-notebook.ipynb)\n",
    "   * `LECT:` [08-lect-notebook](08-lect-notebook.ipynb)\n",
    "   * `PRAC:` [08-prac-notebook](08-prac-notebook.ipynb)\n",
    "    \n",
    "#### Trust and other human factors in business data analytics\n",
    "   * `PREP:` [09-prep-notebook](09-prep-notebook.ipynb)\n",
    "   * `LECT:` [09-lect-notebook](09-lect-notebook.ipynb)\n",
    "   * `PRAC:` [09-prac-notebook](09-prac-notebook.ipynb)\n",
    "    \n",
    "#### Addressing business concerns with multiple analytic methods\n",
    "   * `PREP:` [10-prep-notebook](10-prep-notebook.ipynb)\n",
    "   * `LECT:` [10-lect-notebook](10-lect-notebook.ipynb)\n",
    "   * `PRAC:` [10-prac-notebook](10-prac-notebook.ipynb)\n",
    "    \n",
    "#### Trends in business data analytics\n",
    "   * `PREP:` [11-prep-notebook](11-prep-notebook.ipynb)\n",
    "   * `LECT:` [11-lect-notebook](11-lect-notebook.ipynb)\n",
    "   * `PRAC:` [11-prac-notebook](11-prac-notebook.ipynb)"
   ]
  }
 ],
 "metadata": {
  "kernelspec": {
   "display_name": "Python 3",
   "language": "python",
   "name": "python3"
  },
  "language_info": {
   "codemirror_mode": {
    "name": "ipython",
    "version": 3
   },
   "file_extension": ".py",
   "mimetype": "text/x-python",
   "name": "python",
   "nbconvert_exporter": "python",
   "pygments_lexer": "ipython3",
   "version": "3.6.4"
  }
 },
 "nbformat": 4,
 "nbformat_minor": 2
}
