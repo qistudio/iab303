{
 "cells": [
  {
   "cell_type": "markdown",
   "metadata": {},
   "source": [
    "<div class=\"alert alert-block alert-info\">IAB303 - Business Intelligence - <a href=\"0%20-%20IAB303%20Overview.ipynb\">overview</a></div>"
   ]
  },
  {
   "cell_type": "markdown",
   "metadata": {},
   "source": [
    "## PRACTICAL :: Open data for business environment assessment\n",
    "\n",
    "* Basics\n",
    "* Connect to API\n",
    "* Experiment with JSON from APIs"
   ]
  },
  {
   "cell_type": "markdown",
   "metadata": {},
   "source": [
    "### Basics\n",
    "\n",
    "* JSON objects loaded as python Dicts\n",
    "* JSON arrays loaded as python Lists"
   ]
  },
  {
   "cell_type": "code",
   "execution_count": 1,
   "metadata": {},
   "outputs": [
    {
     "name": "stdout",
     "output_type": "stream",
     "text": [
      "<class 'str'>\n",
      "{'lastname': 'gibson', 'firstname': 'andrew'}\n",
      "<class 'dict'>\n"
     ]
    }
   ],
   "source": [
    "#import the python json library\n",
    "import json\n",
    "\n",
    "#try a simple json object\n",
    "simpleJsonObj = '{ \"lastname\": \"gibson\",\"firstname\": \"andrew\"}'\n",
    "print(type(simpleJsonObj))\n",
    "loadedObj = json.loads(simpleJsonObj)\n",
    "print(loadedObj)\n",
    "print(type(loadedObj))"
   ]
  },
  {
   "cell_type": "code",
   "execution_count": 4,
   "metadata": {},
   "outputs": [
    {
     "name": "stdout",
     "output_type": "stream",
     "text": [
      "andrew\n",
      "gibson\n"
     ]
    }
   ],
   "source": [
    "#Access dict values by key\n",
    "value1 = loadedObj.get(\"firstname\")\n",
    "print(value1)\n",
    "value2 = loadedObj[\"lastname\"]\n",
    "print(value2)"
   ]
  },
  {
   "cell_type": "markdown",
   "metadata": {},
   "source": [
    "**EXPERIMENT:** Try changing the key and value above, and try adding more keys and values to the json object"
   ]
  },
  {
   "cell_type": "code",
   "execution_count": 16,
   "metadata": {},
   "outputs": [
    {
     "name": "stdout",
     "output_type": "stream",
     "text": [
      "['element1', 2, 'el 3', 432, {'name': 'andrew'}]\n",
      "<class 'list'>\n"
     ]
    }
   ],
   "source": [
    "#try loading a json array\n",
    "simpleJsonArray = '[\"element1\",2,\"el 3\",432, { \"name\": \"andrew\" }]'\n",
    "\n",
    "loadedArray = json.loads(simpleJsonArray)\n",
    "print(loadedArray)\n",
    "print(type(loadedArray))"
   ]
  },
  {
   "cell_type": "code",
   "execution_count": 18,
   "metadata": {},
   "outputs": [
    {
     "name": "stdout",
     "output_type": "stream",
     "text": [
      "{'name': 'andrew'}\n",
      "<class 'dict'>\n"
     ]
    }
   ],
   "source": [
    "#Access entries of the list\n",
    "nameObj = loadedArray[4]\n",
    "print(nameObj)\n",
    "print(type(nameObj))"
   ]
  },
  {
   "cell_type": "code",
   "execution_count": 11,
   "metadata": {},
   "outputs": [
    {
     "name": "stdout",
     "output_type": "stream",
     "text": [
      "element1\n",
      "2\n",
      "el 3\n"
     ]
    }
   ],
   "source": [
    "#Interate the list\n",
    "for entry in loadedArray:\n",
    "    print(entry)"
   ]
  },
  {
   "cell_type": "code",
   "execution_count": 15,
   "metadata": {},
   "outputs": [
    {
     "data": {
      "text/plain": [
       "True"
      ]
     },
     "execution_count": 15,
     "metadata": {},
     "output_type": "execute_result"
    }
   ],
   "source": [
    "#Test if an element exists\n",
    "432 in loadedArray"
   ]
  },
  {
   "cell_type": "markdown",
   "metadata": {},
   "source": [
    "**EXPERIMENT:** Try adding elements, to the original json array. Try adding json objects to the json array, and a json array as an element in a json object"
   ]
  },
  {
   "cell_type": "markdown",
   "metadata": {},
   "source": [
    "### Connect to an API\n",
    "\n",
    "Starting with the lecture example, let's retrieve some JSON from XKCD and load it into Python Dict."
   ]
  },
  {
   "cell_type": "code",
   "execution_count": 22,
   "metadata": {},
   "outputs": [
    {
     "name": "stdout",
     "output_type": "stream",
     "text": [
      "{\"month\": \"3\", \"num\": 1965, \"link\": \"\", \"year\": \"2018\", \"news\": \"\", \"safe_title\": \"Background Apps\", \"transcript\": \"\", \"alt\": \"My plane banner company gets business by flying around with a banner showing a <div> tag, waiting for a web developer to get frustrated enough to order a matching </div>.\", \"img\": \"https://imgs.xkcd.com/comics/background_apps.png\", \"title\": \"Background Apps\", \"day\": \"9\"}\n",
      "<class 'str'>\n",
      "{'month': '3', 'num': 1965, 'link': '', 'year': '2018', 'news': '', 'safe_title': 'Background Apps', 'transcript': '', 'alt': 'My plane banner company gets business by flying around with a banner showing a <div> tag, waiting for a web developer to get frustrated enough to order a matching </div>.', 'img': 'https://imgs.xkcd.com/comics/background_apps.png', 'title': 'Background Apps', 'day': '9'}\n",
      "<class 'dict'>\n"
     ]
    }
   ],
   "source": [
    "from urllib import request, response\n",
    "\n",
    "#Fetch the data for the latest xkcd comic\n",
    "comicRequest = request.Request('http://xkcd.com/info.0.json')\n",
    "comicResponse = request.urlopen(comicRequest)\n",
    "#print(comicResponse.status)                   \n",
    "responseBody = comicResponse.read().decode('utf8')\n",
    "print(responseBody)\n",
    "print(type(responseBody))\n",
    "#Read the JSON\n",
    "jsonFromApi = json.loads(responseBody)\n",
    "print(jsonFromApi)\n",
    "print(type(jsonFromApi))"
   ]
  },
  {
   "cell_type": "code",
   "execution_count": 23,
   "metadata": {},
   "outputs": [
    {
     "name": "stdout",
     "output_type": "stream",
     "text": [
      "Background Apps\n"
     ]
    }
   ],
   "source": [
    "#Now get the title of the comic\n",
    "title = jsonFromApi[\"title\"]\n",
    "print(title)"
   ]
  },
  {
   "cell_type": "markdown",
   "metadata": {},
   "source": [
    "### Experiment with JSON from APIs\n",
    "\n",
    "1. First create a function that gets json from a URL and returns a Python array or dict\n",
    "2. Try your function on: `https://dog.ceo/api/breeds/list/all` - how many breeds of hound are there?\n",
    "3. Try with other APIs of your choice"
   ]
  },
  {
   "cell_type": "code",
   "execution_count": 24,
   "metadata": {},
   "outputs": [],
   "source": [
    "#Function\n",
    "def getDogBreeds(url):\n",
    "    req = request.Request(url)\n",
    "    resp = request.urlopen(req)\n",
    "    body = resp.read().decode('utf8')\n",
    "    return json.loads(body)"
   ]
  },
  {
   "cell_type": "code",
   "execution_count": 27,
   "metadata": {},
   "outputs": [
    {
     "name": "stdout",
     "output_type": "stream",
     "text": [
      "{'affenpinscher': [], 'african': [], 'airedale': [], 'akita': [], 'appenzeller': [], 'basenji': [], 'beagle': [], 'bluetick': [], 'borzoi': [], 'bouvier': [], 'boxer': [], 'brabancon': [], 'briard': [], 'bulldog': ['boston', 'french'], 'bullterrier': ['staffordshire'], 'cairn': [], 'chihuahua': [], 'chow': [], 'clumber': [], 'collie': ['border'], 'coonhound': [], 'corgi': ['cardigan'], 'dachshund': [], 'dane': ['great'], 'deerhound': ['scottish'], 'dhole': [], 'dingo': [], 'doberman': [], 'elkhound': ['norwegian'], 'entlebucher': [], 'eskimo': [], 'germanshepherd': [], 'greyhound': ['italian'], 'groenendael': [], 'hound': ['Ibizan', 'afghan', 'basset', 'blood', 'english', 'walker'], 'husky': [], 'keeshond': [], 'kelpie': [], 'komondor': [], 'kuvasz': [], 'labrador': [], 'leonberg': [], 'lhasa': [], 'malamute': [], 'malinois': [], 'maltese': [], 'mastiff': ['bull', 'tibetan'], 'mexicanhairless': [], 'mountain': ['bernese', 'swiss'], 'newfoundland': [], 'otterhound': [], 'papillon': [], 'pekinese': [], 'pembroke': [], 'pinscher': ['miniature'], 'pointer': ['german'], 'pomeranian': [], 'poodle': ['miniature', 'standard', 'toy'], 'pug': [], 'pyrenees': [], 'redbone': [], 'retriever': ['chesapeake', 'curly', 'flatcoated', 'golden'], 'ridgeback': ['rhodesian'], 'rottweiler': [], 'saluki': [], 'samoyed': [], 'schipperke': [], 'schnauzer': ['giant', 'miniature'], 'setter': ['english', 'gordon', 'irish'], 'sheepdog': ['english', 'shetland'], 'shiba': [], 'shihtzu': [], 'spaniel': ['blenheim', 'brittany', 'cocker', 'irish', 'japanese', 'sussex', 'welsh'], 'springer': ['english'], 'stbernard': [], 'terrier': ['american', 'australian', 'bedlington', 'border', 'dandie', 'fox', 'irish', 'kerryblue', 'lakeland', 'norfolk', 'norwich', 'patterdale', 'scottish', 'sealyham', 'silky', 'tibetan', 'toy', 'westhighland', 'wheaten', 'yorkshire'], 'vizsla': [], 'weimaraner': [], 'whippet': [], 'wolfhound': ['irish']}\n"
     ]
    }
   ],
   "source": [
    "#Get the breeds\n",
    "data = getDogBreeds(\"https://dog.ceo/api/breeds/list/all\")\n",
    "#print(data)\n",
    "breeds = data[\"message\"]\n",
    "print(breeds)"
   ]
  },
  {
   "cell_type": "code",
   "execution_count": 33,
   "metadata": {},
   "outputs": [
    {
     "name": "stdout",
     "output_type": "stream",
     "text": [
      "3\n",
      "['english', 'gordon', 'irish']\n"
     ]
    }
   ],
   "source": [
    "#Answer question?\n",
    "setter = breeds[\"setter\"]\n",
    "#how many?\n",
    "print(len(setter))\n",
    "#what are they?\n",
    "print(setter)"
   ]
  },
  {
   "cell_type": "code",
   "execution_count": 36,
   "metadata": {},
   "outputs": [],
   "source": [
    "def getBreed(breed):\n",
    "    breedData = breeds[breed]\n",
    "    return breedData"
   ]
  },
  {
   "cell_type": "code",
   "execution_count": 37,
   "metadata": {},
   "outputs": [
    {
     "data": {
      "text/plain": [
       "['english', 'gordon', 'irish']"
      ]
     },
     "execution_count": 37,
     "metadata": {},
     "output_type": "execute_result"
    }
   ],
   "source": [
    "getBreed(\"setter\")"
   ]
  },
  {
   "cell_type": "code",
   "execution_count": null,
   "metadata": {},
   "outputs": [],
   "source": []
  }
 ],
 "metadata": {
  "hide_input": false,
  "kernelspec": {
   "display_name": "Python 3",
   "language": "python",
   "name": "python3"
  },
  "language_info": {
   "codemirror_mode": {
    "name": "ipython",
    "version": 3
   },
   "file_extension": ".py",
   "mimetype": "text/x-python",
   "name": "python",
   "nbconvert_exporter": "python",
   "pygments_lexer": "ipython3",
   "version": "3.6.7"
  }
 },
 "nbformat": 4,
 "nbformat_minor": 2
}
