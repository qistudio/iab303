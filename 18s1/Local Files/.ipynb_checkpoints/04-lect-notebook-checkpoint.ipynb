{
 "cells": [
  {
   "cell_type": "markdown",
   "metadata": {},
   "source": [
    "<div class=\"alert alert-block alert-info\">IAB303 - Business Intelligence - <a href=\"0%20-%20IAB303%20Overview.ipynb\">overview</a></div>"
   ]
  },
  {
   "cell_type": "markdown",
   "metadata": {},
   "source": [
    "## LECTURE :: Open data for business environment assessment\n",
    "\n",
    "* Business as society and environmental embedded organisations\n",
    "    * Society - conditions\n",
    "    * Political environments\n",
    "    * Natural environment\n",
    "    \n",
    "### Open Data\n",
    "\n",
    "Explore the [Open Data as a business tool (World Bank)](http://blogs.worldbank.org/ic4d/open-data-business-tool-learning-initial-pilots) and note the global significance of open data."
   ]
  },
  {
   "cell_type": "markdown",
   "metadata": {},
   "source": [
    "Explore what open data is at [GeoSpatial world](https://www.geospatialworld.net/article/open-data-means-business/) and note example types:\n",
    "* Geospatial\n",
    "* Transport\n",
    "* Environmental\n",
    "* Demographic\n",
    "* ...\n",
    "\n"
   ]
  },
  {
   "cell_type": "markdown",
   "metadata": {},
   "source": [
    "Explore the [European Data Portal on Open Data](https://www.europeandataportal.eu/elearning/en/module2/#/id/co-01), and note:\n",
    "* Open data as a resource that can be used simultaneously and repeatedly\n",
    "* Open data benefit for the optimisation of public services\n",
    "* Open data for stimulating new business opportunities"
   ]
  },
  {
   "cell_type": "markdown",
   "metadata": {},
   "source": [
    "### API\n",
    "\n",
    "An Application Programming Interface (API) allows a computer program to connect to other software for the purpose of utilising a service offered by that software.\n",
    "\n",
    "Particularly relevant to this unit is are web API's which provide data services and can be 'called' by other software.\n",
    "\n",
    "For example, run the following cell:"
   ]
  },
  {
   "cell_type": "code",
   "execution_count": 1,
   "metadata": {},
   "outputs": [
    {
     "name": "stdout",
     "output_type": "stream",
     "text": [
      "200\n",
      "{\"month\": \"3\", \"num\": 2121, \"link\": \"\", \"year\": \"2019\", \"news\": \"\", \"safe_title\": \"Light Pollution\", \"transcript\": \"\", \"alt\": \"It's so sad how almost no one alive today can remember seeing the galactic rainbow, the insanity nebula, or the skull and glowing eyes of the Destroyer of Sagittarius.\", \"img\": \"https://imgs.xkcd.com/comics/light_pollution.png\", \"title\": \"Light Pollution\", \"day\": \"8\"}\n"
     ]
    }
   ],
   "source": [
    "from urllib import request, response\n",
    "\n",
    "#Fetch the data for the latest xkcd comic\n",
    "comicRequest = request.Request('http://xkcd.com/info.0.json')\n",
    "comicResponse = request.urlopen(comicRequest)\n",
    "print(comicResponse.status)                   \n",
    "body = comicResponse.read().decode('utf8')\n",
    "print(body)"
   ]
  },
  {
   "cell_type": "markdown",
   "metadata": {},
   "source": [
    "The XKCD API gave us back info about the latest comic, including a URL to the comic itself, so let's extract that..."
   ]
  },
  {
   "cell_type": "code",
   "execution_count": 2,
   "metadata": {},
   "outputs": [
    {
     "name": "stdout",
     "output_type": "stream",
     "text": [
      "https://imgs.xkcd.com/comics/light_pollution.png\n"
     ]
    }
   ],
   "source": [
    "import json\n",
    "\n",
    "jsonData = json.loads(body)\n",
    "comicUrl = jsonData.get(\"img\")\n",
    "print(comicUrl)"
   ]
  },
  {
   "cell_type": "markdown",
   "metadata": {},
   "source": [
    "Now, let's display the image as HTML..."
   ]
  },
  {
   "cell_type": "code",
   "execution_count": 3,
   "metadata": {},
   "outputs": [
    {
     "data": {
      "text/html": [
       "<img src=\"https://imgs.xkcd.com/comics/light_pollution.png\"/>"
      ],
      "text/plain": [
       "<IPython.core.display.HTML object>"
      ]
     },
     "metadata": {},
     "output_type": "display_data"
    }
   ],
   "source": [
    "from IPython.core.display import display, HTML\n",
    "display(HTML('<img src=\"'+comicUrl+'\"/>'))"
   ]
  },
  {
   "cell_type": "markdown",
   "metadata": {},
   "source": [
    "Try calling other APIs from these sites...\n",
    "* [Any API](https://any-api.com)\n",
    "* [toddmotto public APIs](https://github.com/toddmotto/public-apis)"
   ]
  },
  {
   "cell_type": "markdown",
   "metadata": {},
   "source": [
    "### Pulse Survey\n",
    "\n",
    "[Pulse Survey Info](http://www.yourfeedback.qut.edu.au/experience/QUTFeedback/)\n",
    "\n",
    "**PLEASE COMPLETE** the Pulse survey. It is only 3 questions and a comment, but the feedback is invaluable for us to improve the quality of your learning experiences. \n",
    "\n",
    "**PLEASE COMMENT**. It would be particularly helpful if you could comment on the hands-on format of this unit using Jupyter notebooks, and how YOU find it compared to more traditional approaches. "
   ]
  },
  {
   "cell_type": "markdown",
   "metadata": {},
   "source": [
    "### Why Open Data?\n",
    "\n",
    "* [Open Opportunities](http://smallville.com.au/open-opportunities-business-open-data/)\n",
    "* What do businesses have to gain by sharing data?\n",
    "    * Expand customer base\n",
    "    * Customer loyalty via transparency - evidence of claims\n",
    "    * Knowledge base adds value to business\n",
    "    * Product improvement - communication - realtime\n",
    "* What do businesses have to gain by using open data?\n",
    "    * Identify new customers and markets\n",
    "    * Identify trends\n",
    "    * Guage sentiment of customers\n",
    "    * Adjust operations more quickly in response to external events\n",
    "    * Competitive knowledge\n",
    "* What environmental factors?\n",
    "    * Political events\n",
    "    * Geographic/weather conditions"
   ]
  },
  {
   "cell_type": "markdown",
   "metadata": {},
   "source": [
    "### Lecture Q&A\n",
    "\n",
    "* **Q:** Example of aborist - data on trees - Wouldn't be against interest to share?\n",
    "* **A:** Sharing and using needs to be evaluated according to the business concern.\n",
    "* **Q:** ???\n",
    "* **A:** ???\n"
   ]
  },
  {
   "cell_type": "markdown",
   "metadata": {},
   "source": [
    "### A few comments on Assignment 1\n",
    "\n",
    "* Data wrangling is hard. It's ok to be struggling with the data.\n",
    "* Data is never raw. Data is never perfect. Data is rarely complete.\n",
    "* We do NOT expect you to use a technique that hasn't been covered in a prac\n",
    "* We do NOT expect you to address every possible scenario\n",
    "* We do NOT expect you to code like a professional programmer\n",
    "* We do expect you to demonstrate thinking by making connections which may not be obvious\n",
    "* We do expect you to focus on the business concern\n",
    "* We do expect you to provide commentary on your decisions"
   ]
  },
  {
   "cell_type": "markdown",
   "metadata": {},
   "source": [
    "### Assignment 1 Q&A\n",
    "\n",
    "* **Q:** Reading and write files - do we need to do both?\n",
    "* **A:** No. Just reading will satisfy that criteria\n",
    "* **Q:** Does \"two of\" meaning two of everything?\n",
    "* **A:** No. Pick two items out of the list\n",
    "* **Q:** Is it 2 in total for the 2 parts?\n",
    "* **A:** No. It's 2 for each part.\n",
    "* **Q:** To get feedback, can I submit partially complete, or pseudocode instead of Python?\n",
    "* **A:** Yes for both. We want to give you feedback, but you need to have done enough work for us to give good feedback.\n",
    "* **Q:** \n",
    "* **A:**"
   ]
  },
  {
   "cell_type": "code",
   "execution_count": null,
   "metadata": {},
   "outputs": [],
   "source": []
  }
 ],
 "metadata": {
  "kernelspec": {
   "display_name": "Python 3",
   "language": "python",
   "name": "python3"
  },
  "language_info": {
   "codemirror_mode": {
    "name": "ipython",
    "version": 3
   },
   "file_extension": ".py",
   "mimetype": "text/x-python",
   "name": "python",
   "nbconvert_exporter": "python",
   "pygments_lexer": "ipython3",
   "version": "3.6.7"
  }
 },
 "nbformat": 4,
 "nbformat_minor": 2
}
