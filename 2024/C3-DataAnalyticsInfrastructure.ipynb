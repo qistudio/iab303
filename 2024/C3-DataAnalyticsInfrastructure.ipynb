{
 "cells": [
  {
   "cell_type": "markdown",
   "metadata": {},
   "source": [
    "<div style=\"background:#E9FFF6; color:#440404; padding:8px; border-radius: 4px; text-align: center; font-weight: 500;\">IFN619 - Data Analytics for Strategic Decision Makers (2024 Sem 1)</div>"
   ]
  },
  {
   "cell_type": "markdown",
   "metadata": {},
   "source": [
    "# IFN619 :: C5 - Data Analytics Infrastructure\n",
    "\n",
    "Throughout this unit, you have been running your notebooks on data analytics infrastructure provided by QUT eResearch. In technology focused businesses that develop new tech solutions (or large business with business units that do this), the team that provides data analytics infrastructure is often referred to as [DevOps (development operations)](https://aws.amazon.com/devops/what-is-devops/#:~:text=DevOps%20is%20the%20combination%20of,development%20and%20infrastructure%20management%20processes.). In other businesses, this infrastructure might be provided as a service (e.g. [Google Colab](https://colab.google) or [Amazon SageMaker Studio Lab](https://studiolab.sagemaker.aws)).\n",
    "\n",
    "\n",
    "#### What is Container technology?\n",
    "\n",
    "Many DevOps infrastructure solutions are provided using Container technologies like [Docker](https://docs.docker.com) and [Kubernetes](https://kubernetes.io). These are virtualisation technologies that are inspired by the efficiencies realised by the [shipping container](https://theconversation.com/global-shortage-of-shipping-containers-highlights-their-importance-in-getting-goods-to-amazon-warehouses-store-shelves-and-your-door-in-time-for-christmas-168233) in 1956 (from USD\\\\$5.86 per ton to USD\\\\$0.16 per ton).\n",
    "\n",
    "See this article from TechTarget on the [history of virtualization](https://www.techtarget.com/searchitoperations/feature/The-history-of-virtualization-and-its-mark-on-data-center-management)\n",
    "\n",
    "\n",
    "#### Advantages of Containers for Data Analytics?\n",
    "\n",
    "[Linkedin: The Benefits of using containerization in DevOps workflows](https://www.linkedin.com/pulse/benefits-using-containerization-devops-workflows-razorops-r9dic/) - Razorops (Dec 2023)\n",
    "\n",
    "- Consistency and Portability\n",
    "- Enhanced Efficiency and Scalability\n",
    "- Faster Development Cycles\n",
    "- Microservices Architecture Enablement\n",
    "- Streamlined Development Environment Setup\n",
    "- Ecosystem Flexibility\n",
    "\n",
    "[7 Key Containerization Benefits for your IT Business](https://www.veritis.com/blog/7-key-containerization-benefits-for-your-it-business/) - Veritis.com\n",
    "\n",
    "<img src=\"https://veritis.com/wp-content/uploads/2019/07/7-key-containerization-benefits-for-your-it-business-it.jpg\" width=\"500px\"></img>\n"
   ]
  },
  {
   "cell_type": "markdown",
   "metadata": {},
   "source": [
    "---\n",
    "\n",
    "### Create your own local data analytics container environment\n",
    "\n",
    "*(with Docker and VS Code)*\n",
    "\n",
    "1. Download and install [Docker](https://www.docker.com/get-started/)\n",
    "2. Download and install [Visual Studio Code](https://code.visualstudio.com)\n",
    "3. Create a `my_projects` directory for local copies of your data\n",
    "4. Create a `.devcontainer.json` file in the `my_projects` directory using the code below\n",
    "5. Start VS Code and open your `my_projects` directory (`open folder...`)\n",
    "6. Select a Jupyter kernel (in the container)\n",
    "7. Create a notebook and start work\n",
    "\n",
    "***Note: you may need to install libraries that aren't in the container already**"
   ]
  },
  {
   "cell_type": "markdown",
   "metadata": {},
   "source": [
    "**Contents of `.devcontainer.json` file:**\n",
    "\n",
    "```json\n",
    "{\n",
    "    \"image\": \"jupyter/datascience-notebook:latest\",\n",
    "    \"forwardPorts\": [\n",
    "        4040,\n",
    "        888\n",
    "    ],\n",
    "    \"mounts\": [\n",
    "        \"source=/Users/username/my_projects,target=/home/jovyan/my_projects,type=bind,consistency=cached\"\n",
    "    ],\n",
    "    \"runArgs\": [\n",
    "        \"--name=jupyter\"\n",
    "    ],\n",
    "    \"shutdownAction\": \"stopContainer\",\n",
    "    \"customizations\": {\n",
    "        \"vscode\": {\n",
    "            \"extensions\": [\n",
    "                \"ms-toolsai.jupyter\",\n",
    "                \"ms-toolsai.vscode-jupyter-powertoys\",\n",
    "                \"ms-python.python\",\n",
    "                \"eamodio.gitlens\",\n",
    "                \"clemenspeters.format-json\"\n",
    "            ]\n",
    "        }\n",
    "    }\n",
    "}\n",
    "```"
   ]
  },
  {
   "cell_type": "markdown",
   "metadata": {},
   "source": [
    "### Student Voice Survey\n",
    "\n",
    "<img src=\"graphics/SVS-24S1.jpg\"></img>"
   ]
  }
 ],
 "metadata": {
  "language_info": {
   "name": "python"
  }
 },
 "nbformat": 4,
 "nbformat_minor": 2
}
